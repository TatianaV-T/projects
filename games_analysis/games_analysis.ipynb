{
 "cells": [
  {
   "cell_type": "markdown",
   "metadata": {},
   "source": [
    "# Исследование данных о продажах компьютерных игр интернет-магазина \"Стримчик\"\n",
    "В нашем распоряжении данные за 2016 год о продажах компьютерных игр, оценки пользователей и экспертов, жанры и платформы (например, Xbox или PlayStation). Необходимо проанализировать данные и проверить гипотезы для выявления определяющих успешность игры закономерностей, что позволит сделать ставку на потенциально популярный продукт и спланировать рекламные кампании.\n",
    "\n",
    "__Описание данных__\n",
    "* `Name` — название игры;\n",
    "* `Platform` — платформа;\n",
    "* `Year_of_Release` — год выпуска;\n",
    "* `Genre` — жанр игры;\n",
    "* `NA_sales` — продажи в Северной Америке (миллионы проданных копий);\n",
    "* `EU_sales` — продажи в Европе (миллионы проданных копий);\n",
    "* `JP_sales` — продажи в Японии (миллионы проданных копий);\n",
    "* `Other_sales` — продажи в других странах (миллионы проданных копий);\n",
    "* `Critic_Score` — оценка критиков (максимум 100);\n",
    "* `User_Score` — оценка пользователей (максимум 10);\n",
    "* `Rating` — рейтинг от организации ESRB (англ. Entertainment Software Rating Board). Эта ассоциация определяет рейтинг компьютерных игр и присваивает им подходящую возрастную категорию."
   ]
  },
  {
   "cell_type": "code",
   "execution_count": 1,
   "metadata": {},
   "outputs": [],
   "source": [
    "#импортируем библиотеки\n",
    "import pandas as pd\n",
    "import matplotlib.pyplot as plt\n",
    "from scipy import stats as st\n",
    "import numpy as np"
   ]
  },
  {
   "cell_type": "markdown",
   "metadata": {},
   "source": [
    "### Загрузка данных"
   ]
  },
  {
   "cell_type": "code",
   "execution_count": 2,
   "metadata": {},
   "outputs": [],
   "source": [
    "#считаем CSV-файлы с данными и сохраним в датафрейм\n",
    "games = pd.read_csv('/datasets/games.csv')"
   ]
  },
  {
   "cell_type": "code",
   "execution_count": 3,
   "metadata": {},
   "outputs": [
    {
     "data": {
      "text/html": [
       "<div>\n",
       "<style scoped>\n",
       "    .dataframe tbody tr th:only-of-type {\n",
       "        vertical-align: middle;\n",
       "    }\n",
       "\n",
       "    .dataframe tbody tr th {\n",
       "        vertical-align: top;\n",
       "    }\n",
       "\n",
       "    .dataframe thead th {\n",
       "        text-align: right;\n",
       "    }\n",
       "</style>\n",
       "<table border=\"1\" class=\"dataframe\">\n",
       "  <thead>\n",
       "    <tr style=\"text-align: right;\">\n",
       "      <th></th>\n",
       "      <th>Name</th>\n",
       "      <th>Platform</th>\n",
       "      <th>Year_of_Release</th>\n",
       "      <th>Genre</th>\n",
       "      <th>NA_sales</th>\n",
       "      <th>EU_sales</th>\n",
       "      <th>JP_sales</th>\n",
       "      <th>Other_sales</th>\n",
       "      <th>Critic_Score</th>\n",
       "      <th>User_Score</th>\n",
       "      <th>Rating</th>\n",
       "    </tr>\n",
       "  </thead>\n",
       "  <tbody>\n",
       "    <tr>\n",
       "      <th>0</th>\n",
       "      <td>Wii Sports</td>\n",
       "      <td>Wii</td>\n",
       "      <td>2006.0</td>\n",
       "      <td>Sports</td>\n",
       "      <td>41.36</td>\n",
       "      <td>28.96</td>\n",
       "      <td>3.77</td>\n",
       "      <td>8.45</td>\n",
       "      <td>76.0</td>\n",
       "      <td>8</td>\n",
       "      <td>E</td>\n",
       "    </tr>\n",
       "    <tr>\n",
       "      <th>1</th>\n",
       "      <td>Super Mario Bros.</td>\n",
       "      <td>NES</td>\n",
       "      <td>1985.0</td>\n",
       "      <td>Platform</td>\n",
       "      <td>29.08</td>\n",
       "      <td>3.58</td>\n",
       "      <td>6.81</td>\n",
       "      <td>0.77</td>\n",
       "      <td>NaN</td>\n",
       "      <td>NaN</td>\n",
       "      <td>NaN</td>\n",
       "    </tr>\n",
       "    <tr>\n",
       "      <th>2</th>\n",
       "      <td>Mario Kart Wii</td>\n",
       "      <td>Wii</td>\n",
       "      <td>2008.0</td>\n",
       "      <td>Racing</td>\n",
       "      <td>15.68</td>\n",
       "      <td>12.76</td>\n",
       "      <td>3.79</td>\n",
       "      <td>3.29</td>\n",
       "      <td>82.0</td>\n",
       "      <td>8.3</td>\n",
       "      <td>E</td>\n",
       "    </tr>\n",
       "    <tr>\n",
       "      <th>3</th>\n",
       "      <td>Wii Sports Resort</td>\n",
       "      <td>Wii</td>\n",
       "      <td>2009.0</td>\n",
       "      <td>Sports</td>\n",
       "      <td>15.61</td>\n",
       "      <td>10.93</td>\n",
       "      <td>3.28</td>\n",
       "      <td>2.95</td>\n",
       "      <td>80.0</td>\n",
       "      <td>8</td>\n",
       "      <td>E</td>\n",
       "    </tr>\n",
       "    <tr>\n",
       "      <th>4</th>\n",
       "      <td>Pokemon Red/Pokemon Blue</td>\n",
       "      <td>GB</td>\n",
       "      <td>1996.0</td>\n",
       "      <td>Role-Playing</td>\n",
       "      <td>11.27</td>\n",
       "      <td>8.89</td>\n",
       "      <td>10.22</td>\n",
       "      <td>1.00</td>\n",
       "      <td>NaN</td>\n",
       "      <td>NaN</td>\n",
       "      <td>NaN</td>\n",
       "    </tr>\n",
       "    <tr>\n",
       "      <th>5</th>\n",
       "      <td>Tetris</td>\n",
       "      <td>GB</td>\n",
       "      <td>1989.0</td>\n",
       "      <td>Puzzle</td>\n",
       "      <td>23.20</td>\n",
       "      <td>2.26</td>\n",
       "      <td>4.22</td>\n",
       "      <td>0.58</td>\n",
       "      <td>NaN</td>\n",
       "      <td>NaN</td>\n",
       "      <td>NaN</td>\n",
       "    </tr>\n",
       "    <tr>\n",
       "      <th>6</th>\n",
       "      <td>New Super Mario Bros.</td>\n",
       "      <td>DS</td>\n",
       "      <td>2006.0</td>\n",
       "      <td>Platform</td>\n",
       "      <td>11.28</td>\n",
       "      <td>9.14</td>\n",
       "      <td>6.50</td>\n",
       "      <td>2.88</td>\n",
       "      <td>89.0</td>\n",
       "      <td>8.5</td>\n",
       "      <td>E</td>\n",
       "    </tr>\n",
       "    <tr>\n",
       "      <th>7</th>\n",
       "      <td>Wii Play</td>\n",
       "      <td>Wii</td>\n",
       "      <td>2006.0</td>\n",
       "      <td>Misc</td>\n",
       "      <td>13.96</td>\n",
       "      <td>9.18</td>\n",
       "      <td>2.93</td>\n",
       "      <td>2.84</td>\n",
       "      <td>58.0</td>\n",
       "      <td>6.6</td>\n",
       "      <td>E</td>\n",
       "    </tr>\n",
       "    <tr>\n",
       "      <th>8</th>\n",
       "      <td>New Super Mario Bros. Wii</td>\n",
       "      <td>Wii</td>\n",
       "      <td>2009.0</td>\n",
       "      <td>Platform</td>\n",
       "      <td>14.44</td>\n",
       "      <td>6.94</td>\n",
       "      <td>4.70</td>\n",
       "      <td>2.24</td>\n",
       "      <td>87.0</td>\n",
       "      <td>8.4</td>\n",
       "      <td>E</td>\n",
       "    </tr>\n",
       "    <tr>\n",
       "      <th>9</th>\n",
       "      <td>Duck Hunt</td>\n",
       "      <td>NES</td>\n",
       "      <td>1984.0</td>\n",
       "      <td>Shooter</td>\n",
       "      <td>26.93</td>\n",
       "      <td>0.63</td>\n",
       "      <td>0.28</td>\n",
       "      <td>0.47</td>\n",
       "      <td>NaN</td>\n",
       "      <td>NaN</td>\n",
       "      <td>NaN</td>\n",
       "    </tr>\n",
       "  </tbody>\n",
       "</table>\n",
       "</div>"
      ],
      "text/plain": [
       "                        Name Platform  Year_of_Release         Genre  \\\n",
       "0                 Wii Sports      Wii           2006.0        Sports   \n",
       "1          Super Mario Bros.      NES           1985.0      Platform   \n",
       "2             Mario Kart Wii      Wii           2008.0        Racing   \n",
       "3          Wii Sports Resort      Wii           2009.0        Sports   \n",
       "4   Pokemon Red/Pokemon Blue       GB           1996.0  Role-Playing   \n",
       "5                     Tetris       GB           1989.0        Puzzle   \n",
       "6      New Super Mario Bros.       DS           2006.0      Platform   \n",
       "7                   Wii Play      Wii           2006.0          Misc   \n",
       "8  New Super Mario Bros. Wii      Wii           2009.0      Platform   \n",
       "9                  Duck Hunt      NES           1984.0       Shooter   \n",
       "\n",
       "   NA_sales  EU_sales  JP_sales  Other_sales  Critic_Score User_Score Rating  \n",
       "0     41.36     28.96      3.77         8.45          76.0          8      E  \n",
       "1     29.08      3.58      6.81         0.77           NaN        NaN    NaN  \n",
       "2     15.68     12.76      3.79         3.29          82.0        8.3      E  \n",
       "3     15.61     10.93      3.28         2.95          80.0          8      E  \n",
       "4     11.27      8.89     10.22         1.00           NaN        NaN    NaN  \n",
       "5     23.20      2.26      4.22         0.58           NaN        NaN    NaN  \n",
       "6     11.28      9.14      6.50         2.88          89.0        8.5      E  \n",
       "7     13.96      9.18      2.93         2.84          58.0        6.6      E  \n",
       "8     14.44      6.94      4.70         2.24          87.0        8.4      E  \n",
       "9     26.93      0.63      0.28         0.47           NaN        NaN    NaN  "
      ]
     },
     "execution_count": 3,
     "metadata": {},
     "output_type": "execute_result"
    }
   ],
   "source": [
    "#выведем первые строки и общую информацию \n",
    "games.head(10)"
   ]
  },
  {
   "cell_type": "code",
   "execution_count": 4,
   "metadata": {},
   "outputs": [
    {
     "name": "stdout",
     "output_type": "stream",
     "text": [
      "<class 'pandas.core.frame.DataFrame'>\n",
      "RangeIndex: 16715 entries, 0 to 16714\n",
      "Data columns (total 11 columns):\n",
      " #   Column           Non-Null Count  Dtype  \n",
      "---  ------           --------------  -----  \n",
      " 0   Name             16713 non-null  object \n",
      " 1   Platform         16715 non-null  object \n",
      " 2   Year_of_Release  16446 non-null  float64\n",
      " 3   Genre            16713 non-null  object \n",
      " 4   NA_sales         16715 non-null  float64\n",
      " 5   EU_sales         16715 non-null  float64\n",
      " 6   JP_sales         16715 non-null  float64\n",
      " 7   Other_sales      16715 non-null  float64\n",
      " 8   Critic_Score     8137 non-null   float64\n",
      " 9   User_Score       10014 non-null  object \n",
      " 10  Rating           9949 non-null   object \n",
      "dtypes: float64(6), object(5)\n",
      "memory usage: 1.4+ MB\n"
     ]
    }
   ],
   "source": [
    "games.info()"
   ]
  },
  {
   "cell_type": "code",
   "execution_count": 5,
   "metadata": {},
   "outputs": [
    {
     "data": {
      "image/png": "[encoded data removed]",
      "text/plain": [
       "<Figure size 1080x1440 with 6 Axes>"
      ]
     },
     "metadata": {
      "needs_background": "light"
     },
     "output_type": "display_data"
    }
   ],
   "source": [
    "games.hist(figsize=(15, 20))\n",
    "plt.show()"
   ]
  },
  {
   "cell_type": "markdown",
   "metadata": {},
   "source": [
    "__Вывод__\n",
    "\n",
    "Данные в датасете соответствуют описанию. Названия столбцов написаны с использованием разных региcтров, в данных имеются пропуски, для некоторых столбцов указаны некорректные типы данных - `Year_of_Release` и `User_Score`."
   ]
  },
  {
   "cell_type": "markdown",
   "metadata": {},
   "source": [
    "### Подготовка данных"
   ]
  },
  {
   "cell_type": "code",
   "execution_count": 6,
   "metadata": {},
   "outputs": [
    {
     "data": {
      "text/plain": [
       "Index(['name', 'platform', 'year_of_release', 'genre', 'na_sales', 'eu_sales',\n",
       "       'jp_sales', 'other_sales', 'critic_score', 'user_score', 'rating'],\n",
       "      dtype='object')"
      ]
     },
     "execution_count": 6,
     "metadata": {},
     "output_type": "execute_result"
    }
   ],
   "source": [
    "#приведем названия столбцов к единому регистру\n",
    "games.columns = games.columns.str.lower()\n",
    "games.columns"
   ]
  },
  {
   "cell_type": "code",
   "execution_count": 7,
   "metadata": {},
   "outputs": [
    {
     "data": {
      "text/plain": [
       "array([2006., 1985., 2008., 2009., 1996., 1989., 1984., 2005., 1999.,\n",
       "       2007., 2010., 2013., 2004., 1990., 1988., 2002., 2001., 2011.,\n",
       "       1998., 2015., 2012., 2014., 1992., 1997., 1993., 1994., 1982.,\n",
       "       2016., 2003., 1986., 2000.,   nan, 1995., 1991., 1981., 1987.,\n",
       "       1980., 1983.])"
      ]
     },
     "metadata": {},
     "output_type": "display_data"
    },
    {
     "data": {
      "text/plain": [
       "array(['Sports', 'Platform', 'Racing', 'Role-Playing', 'Puzzle', 'Misc',\n",
       "       'Shooter', 'Simulation', 'Action', 'Fighting', 'Adventure',\n",
       "       'Strategy', nan], dtype=object)"
      ]
     },
     "metadata": {},
     "output_type": "display_data"
    },
    {
     "data": {
      "text/plain": [
       "array([76., nan, 82., 80., 89., 58., 87., 91., 61., 97., 95., 77., 88.,\n",
       "       83., 94., 93., 85., 86., 98., 96., 90., 84., 73., 74., 78., 92.,\n",
       "       71., 72., 68., 62., 49., 67., 81., 66., 56., 79., 70., 59., 64.,\n",
       "       75., 60., 63., 69., 50., 25., 42., 44., 55., 48., 57., 29., 47.,\n",
       "       65., 54., 20., 53., 37., 38., 33., 52., 30., 32., 43., 45., 51.,\n",
       "       40., 46., 39., 34., 35., 41., 36., 28., 31., 27., 26., 19., 23.,\n",
       "       24., 21., 17., 22., 13.])"
      ]
     },
     "metadata": {},
     "output_type": "display_data"
    },
    {
     "data": {
      "text/plain": [
       "array(['8', nan, '8.3', '8.5', '6.6', '8.4', '8.6', '7.7', '6.3', '7.4',\n",
       "       '8.2', '9', '7.9', '8.1', '8.7', '7.1', '3.4', '5.3', '4.8', '3.2',\n",
       "       '8.9', '6.4', '7.8', '7.5', '2.6', '7.2', '9.2', '7', '7.3', '4.3',\n",
       "       '7.6', '5.7', '5', '9.1', '6.5', 'tbd', '8.8', '6.9', '9.4', '6.8',\n",
       "       '6.1', '6.7', '5.4', '4', '4.9', '4.5', '9.3', '6.2', '4.2', '6',\n",
       "       '3.7', '4.1', '5.8', '5.6', '5.5', '4.4', '4.6', '5.9', '3.9',\n",
       "       '3.1', '2.9', '5.2', '3.3', '4.7', '5.1', '3.5', '2.5', '1.9', '3',\n",
       "       '2.7', '2.2', '2', '9.5', '2.1', '3.6', '2.8', '1.8', '3.8', '0',\n",
       "       '1.6', '9.6', '2.4', '1.7', '1.1', '0.3', '1.5', '0.7', '1.2',\n",
       "       '2.3', '0.5', '1.3', '0.2', '0.6', '1.4', '0.9', '1', '9.7'],\n",
       "      dtype=object)"
      ]
     },
     "metadata": {},
     "output_type": "display_data"
    },
    {
     "data": {
      "text/plain": [
       "array(['E', nan, 'M', 'T', 'E10+', 'K-A', 'AO', 'EC', 'RP'], dtype=object)"
      ]
     },
     "metadata": {},
     "output_type": "display_data"
    }
   ],
   "source": [
    "#посмотрим содержание столбцов с пропусками\n",
    "display(games['year_of_release'].unique())\n",
    "display(games['genre'].unique())\n",
    "display(games['critic_score'].unique())\n",
    "display(games['user_score'].unique())\n",
    "display(games['rating'].unique())"
   ]
  },
  {
   "cell_type": "markdown",
   "metadata": {},
   "source": [
    "Название игры и ее жанр являются одними из ключевых параметров, заменить их на какое-либо значение не представляется возможным. \n",
    "Аналогичная ситуация с годом выхода, для дальнейшего проведения анализа необходимы конкретные данные по игре.\\\n",
    "Предлагается удалить строки с пропусками в данных столбцах."
   ]
  },
  {
   "cell_type": "code",
   "execution_count": 8,
   "metadata": {},
   "outputs": [
    {
     "name": "stdout",
     "output_type": "stream",
     "text": [
      "<class 'pandas.core.frame.DataFrame'>\n",
      "RangeIndex: 16444 entries, 0 to 16443\n",
      "Data columns (total 11 columns):\n",
      " #   Column           Non-Null Count  Dtype  \n",
      "---  ------           --------------  -----  \n",
      " 0   name             16444 non-null  object \n",
      " 1   platform         16444 non-null  object \n",
      " 2   year_of_release  16444 non-null  float64\n",
      " 3   genre            16444 non-null  object \n",
      " 4   na_sales         16444 non-null  float64\n",
      " 5   eu_sales         16444 non-null  float64\n",
      " 6   jp_sales         16444 non-null  float64\n",
      " 7   other_sales      16444 non-null  float64\n",
      " 8   critic_score     7983 non-null   float64\n",
      " 9   user_score       9839 non-null   object \n",
      " 10  rating           9768 non-null   object \n",
      "dtypes: float64(6), object(5)\n",
      "memory usage: 1.4+ MB\n"
     ]
    }
   ],
   "source": [
    "games = games.dropna(subset=['name', 'year_of_release', 'genre']).reset_index(drop=True)\n",
    "games.info()"
   ]
  },
  {
   "cell_type": "code",
   "execution_count": 9,
   "metadata": {},
   "outputs": [],
   "source": [
    "#приведем тип данных в столбце 'year_of_release' к целочисленным значениям\n",
    "games['year_of_release'] = games['year_of_release'].astype(int)"
   ]
  },
  {
   "cell_type": "code",
   "execution_count": 10,
   "metadata": {},
   "outputs": [],
   "source": [
    "#значение tbd в столбце 'user_score' аналогично отсутствию рейтинга, поэтому заменим его значением NaN\n",
    "games.loc[games['user_score'] == 'tbd', 'user_score'] = np.NaN"
   ]
  },
  {
   "cell_type": "code",
   "execution_count": 11,
   "metadata": {},
   "outputs": [],
   "source": [
    "#значение рейтинга K-A(Kids to Adults) переименовано в E(Everyone), поэтому заменим его в столбце 'rating'\n",
    "games.loc[games['rating'] == 'K-A', 'rating'] = 'E'"
   ]
  },
  {
   "cell_type": "markdown",
   "metadata": {},
   "source": [
    "Оценки критиков и пользователей являются субъективными параметрами, зависящими от критериев оценки и личных предпочтений пользователей. Пропуски в столбцах `critic score` и `user_score` предлагается не заполнять."
   ]
  },
  {
   "cell_type": "code",
   "execution_count": 14,
   "metadata": {},
   "outputs": [],
   "source": [
    "#приведем тип данных в столбце 'user_score' к вещественным числам\n",
    "games['user_score'] = games['user_score'].astype(float)"
   ]
  },
  {
   "cell_type": "code",
   "execution_count": 15,
   "metadata": {},
   "outputs": [],
   "source": [
    "#пропуски в столбце 'rating' заполним значением unknown\n",
    "games['rating'] = games['rating'].fillna('unknown')"
   ]
  },
  {
   "cell_type": "code",
   "execution_count": 16,
   "metadata": {},
   "outputs": [
    {
     "data": {
      "text/plain": [
       "0"
      ]
     },
     "execution_count": 16,
     "metadata": {},
     "output_type": "execute_result"
    }
   ],
   "source": [
    "#проверим датафрейм на наличие строк-дубликатов\n",
    "games.duplicated().sum()"
   ]
  },
  {
   "cell_type": "code",
   "execution_count": 17,
   "metadata": {},
   "outputs": [
    {
     "data": {
      "text/plain": [
       "1"
      ]
     },
     "execution_count": 17,
     "metadata": {},
     "output_type": "execute_result"
    }
   ],
   "source": [
    "#проверим данные на неявные дубликаты\n",
    "games.loc[:, 'name': 'genre'].duplicated().sum()"
   ]
  },
  {
   "cell_type": "code",
   "execution_count": 18,
   "metadata": {},
   "outputs": [
    {
     "data": {
      "text/html": [
       "<div>\n",
       "<style scoped>\n",
       "    .dataframe tbody tr th:only-of-type {\n",
       "        vertical-align: middle;\n",
       "    }\n",
       "\n",
       "    .dataframe tbody tr th {\n",
       "        vertical-align: top;\n",
       "    }\n",
       "\n",
       "    .dataframe thead th {\n",
       "        text-align: right;\n",
       "    }\n",
       "</style>\n",
       "<table border=\"1\" class=\"dataframe\">\n",
       "  <thead>\n",
       "    <tr style=\"text-align: right;\">\n",
       "      <th></th>\n",
       "      <th>name</th>\n",
       "      <th>platform</th>\n",
       "      <th>year_of_release</th>\n",
       "      <th>genre</th>\n",
       "      <th>na_sales</th>\n",
       "      <th>eu_sales</th>\n",
       "      <th>jp_sales</th>\n",
       "      <th>other_sales</th>\n",
       "      <th>critic_score</th>\n",
       "      <th>user_score</th>\n",
       "      <th>rating</th>\n",
       "    </tr>\n",
       "  </thead>\n",
       "  <tbody>\n",
       "    <tr>\n",
       "      <th>15969</th>\n",
       "      <td>Madden NFL 13</td>\n",
       "      <td>PS3</td>\n",
       "      <td>2012</td>\n",
       "      <td>Sports</td>\n",
       "      <td>0.0</td>\n",
       "      <td>0.01</td>\n",
       "      <td>0.0</td>\n",
       "      <td>0.0</td>\n",
       "      <td>83.0</td>\n",
       "      <td>5.5</td>\n",
       "      <td>E</td>\n",
       "    </tr>\n",
       "  </tbody>\n",
       "</table>\n",
       "</div>"
      ],
      "text/plain": [
       "                name platform  year_of_release   genre  na_sales  eu_sales  \\\n",
       "15969  Madden NFL 13      PS3             2012  Sports       0.0      0.01   \n",
       "\n",
       "       jp_sales  other_sales  critic_score  user_score rating  \n",
       "15969       0.0          0.0          83.0         5.5      E  "
      ]
     },
     "execution_count": 18,
     "metadata": {},
     "output_type": "execute_result"
    }
   ],
   "source": [
    "games.loc[games.duplicated(subset=['name', 'platform', 'year_of_release', 'genre'])]"
   ]
  },
  {
   "cell_type": "code",
   "execution_count": 19,
   "metadata": {},
   "outputs": [
    {
     "data": {
      "text/html": [
       "<div>\n",
       "<style scoped>\n",
       "    .dataframe tbody tr th:only-of-type {\n",
       "        vertical-align: middle;\n",
       "    }\n",
       "\n",
       "    .dataframe tbody tr th {\n",
       "        vertical-align: top;\n",
       "    }\n",
       "\n",
       "    .dataframe thead th {\n",
       "        text-align: right;\n",
       "    }\n",
       "</style>\n",
       "<table border=\"1\" class=\"dataframe\">\n",
       "  <thead>\n",
       "    <tr style=\"text-align: right;\">\n",
       "      <th></th>\n",
       "      <th>name</th>\n",
       "      <th>platform</th>\n",
       "      <th>year_of_release</th>\n",
       "      <th>genre</th>\n",
       "      <th>na_sales</th>\n",
       "      <th>eu_sales</th>\n",
       "      <th>jp_sales</th>\n",
       "      <th>other_sales</th>\n",
       "      <th>critic_score</th>\n",
       "      <th>user_score</th>\n",
       "      <th>rating</th>\n",
       "    </tr>\n",
       "  </thead>\n",
       "  <tbody>\n",
       "    <tr>\n",
       "      <th>600</th>\n",
       "      <td>Madden NFL 13</td>\n",
       "      <td>PS3</td>\n",
       "      <td>2012</td>\n",
       "      <td>Sports</td>\n",
       "      <td>2.11</td>\n",
       "      <td>0.22</td>\n",
       "      <td>0.0</td>\n",
       "      <td>0.23</td>\n",
       "      <td>83.0</td>\n",
       "      <td>5.5</td>\n",
       "      <td>E</td>\n",
       "    </tr>\n",
       "    <tr>\n",
       "      <th>15969</th>\n",
       "      <td>Madden NFL 13</td>\n",
       "      <td>PS3</td>\n",
       "      <td>2012</td>\n",
       "      <td>Sports</td>\n",
       "      <td>0.00</td>\n",
       "      <td>0.01</td>\n",
       "      <td>0.0</td>\n",
       "      <td>0.00</td>\n",
       "      <td>83.0</td>\n",
       "      <td>5.5</td>\n",
       "      <td>E</td>\n",
       "    </tr>\n",
       "  </tbody>\n",
       "</table>\n",
       "</div>"
      ],
      "text/plain": [
       "                name platform  year_of_release   genre  na_sales  eu_sales  \\\n",
       "600    Madden NFL 13      PS3             2012  Sports      2.11      0.22   \n",
       "15969  Madden NFL 13      PS3             2012  Sports      0.00      0.01   \n",
       "\n",
       "       jp_sales  other_sales  critic_score  user_score rating  \n",
       "600         0.0         0.23          83.0         5.5      E  \n",
       "15969       0.0         0.00          83.0         5.5      E  "
      ]
     },
     "execution_count": 19,
     "metadata": {},
     "output_type": "execute_result"
    }
   ],
   "source": [
    "games.loc[(games['name'] == 'Madden NFL 13') & (games['platform'] == 'PS3')]"
   ]
  },
  {
   "cell_type": "code",
   "execution_count": 20,
   "metadata": {},
   "outputs": [],
   "source": [
    "#удалим строку с неявными дубликатами, в которой меньше заполненных данных\n",
    "games = games.drop_duplicates(subset=['name', 'platform', 'year_of_release', 'genre'])\\\n",
    ".reset_index(drop=True)"
   ]
  },
  {
   "cell_type": "code",
   "execution_count": 21,
   "metadata": {},
   "outputs": [
    {
     "name": "stdout",
     "output_type": "stream",
     "text": [
      "<class 'pandas.core.frame.DataFrame'>\n",
      "RangeIndex: 16443 entries, 0 to 16442\n",
      "Data columns (total 11 columns):\n",
      " #   Column           Non-Null Count  Dtype  \n",
      "---  ------           --------------  -----  \n",
      " 0   name             16443 non-null  object \n",
      " 1   platform         16443 non-null  object \n",
      " 2   year_of_release  16443 non-null  int64  \n",
      " 3   genre            16443 non-null  object \n",
      " 4   na_sales         16443 non-null  float64\n",
      " 5   eu_sales         16443 non-null  float64\n",
      " 6   jp_sales         16443 non-null  float64\n",
      " 7   other_sales      16443 non-null  float64\n",
      " 8   critic_score     7982 non-null   float64\n",
      " 9   user_score       7462 non-null   float64\n",
      " 10  rating           16443 non-null  object \n",
      "dtypes: float64(6), int64(1), object(4)\n",
      "memory usage: 1.4+ MB\n"
     ]
    }
   ],
   "source": [
    "games.info()"
   ]
  },
  {
   "cell_type": "code",
   "execution_count": 22,
   "metadata": {},
   "outputs": [
    {
     "data": {
      "text/html": [
       "<div>\n",
       "<style scoped>\n",
       "    .dataframe tbody tr th:only-of-type {\n",
       "        vertical-align: middle;\n",
       "    }\n",
       "\n",
       "    .dataframe tbody tr th {\n",
       "        vertical-align: top;\n",
       "    }\n",
       "\n",
       "    .dataframe thead th {\n",
       "        text-align: right;\n",
       "    }\n",
       "</style>\n",
       "<table border=\"1\" class=\"dataframe\">\n",
       "  <thead>\n",
       "    <tr style=\"text-align: right;\">\n",
       "      <th></th>\n",
       "      <th>year_of_release</th>\n",
       "      <th>na_sales</th>\n",
       "      <th>eu_sales</th>\n",
       "      <th>jp_sales</th>\n",
       "      <th>other_sales</th>\n",
       "      <th>critic_score</th>\n",
       "      <th>user_score</th>\n",
       "    </tr>\n",
       "  </thead>\n",
       "  <tbody>\n",
       "    <tr>\n",
       "      <th>count</th>\n",
       "      <td>16443.000000</td>\n",
       "      <td>16443.000000</td>\n",
       "      <td>16443.000000</td>\n",
       "      <td>16443.000000</td>\n",
       "      <td>16443.000000</td>\n",
       "      <td>7982.000000</td>\n",
       "      <td>7462.000000</td>\n",
       "    </tr>\n",
       "    <tr>\n",
       "      <th>mean</th>\n",
       "      <td>2006.485921</td>\n",
       "      <td>0.264028</td>\n",
       "      <td>0.145939</td>\n",
       "      <td>0.078492</td>\n",
       "      <td>0.047597</td>\n",
       "      <td>68.992608</td>\n",
       "      <td>7.126548</td>\n",
       "    </tr>\n",
       "    <tr>\n",
       "      <th>std</th>\n",
       "      <td>5.875546</td>\n",
       "      <td>0.818400</td>\n",
       "      <td>0.506731</td>\n",
       "      <td>0.311109</td>\n",
       "      <td>0.188011</td>\n",
       "      <td>13.920049</td>\n",
       "      <td>1.499429</td>\n",
       "    </tr>\n",
       "    <tr>\n",
       "      <th>min</th>\n",
       "      <td>1980.000000</td>\n",
       "      <td>0.000000</td>\n",
       "      <td>0.000000</td>\n",
       "      <td>0.000000</td>\n",
       "      <td>0.000000</td>\n",
       "      <td>13.000000</td>\n",
       "      <td>0.000000</td>\n",
       "    </tr>\n",
       "    <tr>\n",
       "      <th>25%</th>\n",
       "      <td>2003.000000</td>\n",
       "      <td>0.000000</td>\n",
       "      <td>0.000000</td>\n",
       "      <td>0.000000</td>\n",
       "      <td>0.000000</td>\n",
       "      <td>60.000000</td>\n",
       "      <td>6.400000</td>\n",
       "    </tr>\n",
       "    <tr>\n",
       "      <th>50%</th>\n",
       "      <td>2007.000000</td>\n",
       "      <td>0.080000</td>\n",
       "      <td>0.020000</td>\n",
       "      <td>0.000000</td>\n",
       "      <td>0.010000</td>\n",
       "      <td>71.000000</td>\n",
       "      <td>7.500000</td>\n",
       "    </tr>\n",
       "    <tr>\n",
       "      <th>75%</th>\n",
       "      <td>2010.000000</td>\n",
       "      <td>0.240000</td>\n",
       "      <td>0.110000</td>\n",
       "      <td>0.040000</td>\n",
       "      <td>0.030000</td>\n",
       "      <td>79.000000</td>\n",
       "      <td>8.200000</td>\n",
       "    </tr>\n",
       "    <tr>\n",
       "      <th>max</th>\n",
       "      <td>2016.000000</td>\n",
       "      <td>41.360000</td>\n",
       "      <td>28.960000</td>\n",
       "      <td>10.220000</td>\n",
       "      <td>10.570000</td>\n",
       "      <td>98.000000</td>\n",
       "      <td>9.700000</td>\n",
       "    </tr>\n",
       "  </tbody>\n",
       "</table>\n",
       "</div>"
      ],
      "text/plain": [
       "       year_of_release      na_sales      eu_sales      jp_sales  \\\n",
       "count     16443.000000  16443.000000  16443.000000  16443.000000   \n",
       "mean       2006.485921      0.264028      0.145939      0.078492   \n",
       "std           5.875546      0.818400      0.506731      0.311109   \n",
       "min        1980.000000      0.000000      0.000000      0.000000   \n",
       "25%        2003.000000      0.000000      0.000000      0.000000   \n",
       "50%        2007.000000      0.080000      0.020000      0.000000   \n",
       "75%        2010.000000      0.240000      0.110000      0.040000   \n",
       "max        2016.000000     41.360000     28.960000     10.220000   \n",
       "\n",
       "        other_sales  critic_score   user_score  \n",
       "count  16443.000000   7982.000000  7462.000000  \n",
       "mean       0.047597     68.992608     7.126548  \n",
       "std        0.188011     13.920049     1.499429  \n",
       "min        0.000000     13.000000     0.000000  \n",
       "25%        0.000000     60.000000     6.400000  \n",
       "50%        0.010000     71.000000     7.500000  \n",
       "75%        0.030000     79.000000     8.200000  \n",
       "max       10.570000     98.000000     9.700000  "
      ]
     },
     "execution_count": 22,
     "metadata": {},
     "output_type": "execute_result"
    }
   ],
   "source": [
    "games.describe()"
   ]
  },
  {
   "cell_type": "code",
   "execution_count": 23,
   "metadata": {},
   "outputs": [
    {
     "data": {
      "text/html": [
       "<div>\n",
       "<style scoped>\n",
       "    .dataframe tbody tr th:only-of-type {\n",
       "        vertical-align: middle;\n",
       "    }\n",
       "\n",
       "    .dataframe tbody tr th {\n",
       "        vertical-align: top;\n",
       "    }\n",
       "\n",
       "    .dataframe thead th {\n",
       "        text-align: right;\n",
       "    }\n",
       "</style>\n",
       "<table border=\"1\" class=\"dataframe\">\n",
       "  <thead>\n",
       "    <tr style=\"text-align: right;\">\n",
       "      <th></th>\n",
       "      <th>name</th>\n",
       "      <th>platform</th>\n",
       "      <th>year_of_release</th>\n",
       "      <th>genre</th>\n",
       "      <th>na_sales</th>\n",
       "      <th>eu_sales</th>\n",
       "      <th>jp_sales</th>\n",
       "      <th>other_sales</th>\n",
       "      <th>critic_score</th>\n",
       "      <th>user_score</th>\n",
       "      <th>rating</th>\n",
       "      <th>total_sales_game</th>\n",
       "    </tr>\n",
       "  </thead>\n",
       "  <tbody>\n",
       "    <tr>\n",
       "      <th>0</th>\n",
       "      <td>Wii Sports</td>\n",
       "      <td>Wii</td>\n",
       "      <td>2006</td>\n",
       "      <td>Sports</td>\n",
       "      <td>41.36</td>\n",
       "      <td>28.96</td>\n",
       "      <td>3.77</td>\n",
       "      <td>8.45</td>\n",
       "      <td>76.0</td>\n",
       "      <td>8.0</td>\n",
       "      <td>E</td>\n",
       "      <td>82.54</td>\n",
       "    </tr>\n",
       "    <tr>\n",
       "      <th>1</th>\n",
       "      <td>Super Mario Bros.</td>\n",
       "      <td>NES</td>\n",
       "      <td>1985</td>\n",
       "      <td>Platform</td>\n",
       "      <td>29.08</td>\n",
       "      <td>3.58</td>\n",
       "      <td>6.81</td>\n",
       "      <td>0.77</td>\n",
       "      <td>NaN</td>\n",
       "      <td>NaN</td>\n",
       "      <td>unknown</td>\n",
       "      <td>40.24</td>\n",
       "    </tr>\n",
       "    <tr>\n",
       "      <th>2</th>\n",
       "      <td>Mario Kart Wii</td>\n",
       "      <td>Wii</td>\n",
       "      <td>2008</td>\n",
       "      <td>Racing</td>\n",
       "      <td>15.68</td>\n",
       "      <td>12.76</td>\n",
       "      <td>3.79</td>\n",
       "      <td>3.29</td>\n",
       "      <td>82.0</td>\n",
       "      <td>8.3</td>\n",
       "      <td>E</td>\n",
       "      <td>35.52</td>\n",
       "    </tr>\n",
       "    <tr>\n",
       "      <th>3</th>\n",
       "      <td>Wii Sports Resort</td>\n",
       "      <td>Wii</td>\n",
       "      <td>2009</td>\n",
       "      <td>Sports</td>\n",
       "      <td>15.61</td>\n",
       "      <td>10.93</td>\n",
       "      <td>3.28</td>\n",
       "      <td>2.95</td>\n",
       "      <td>80.0</td>\n",
       "      <td>8.0</td>\n",
       "      <td>E</td>\n",
       "      <td>32.77</td>\n",
       "    </tr>\n",
       "    <tr>\n",
       "      <th>4</th>\n",
       "      <td>Pokemon Red/Pokemon Blue</td>\n",
       "      <td>GB</td>\n",
       "      <td>1996</td>\n",
       "      <td>Role-Playing</td>\n",
       "      <td>11.27</td>\n",
       "      <td>8.89</td>\n",
       "      <td>10.22</td>\n",
       "      <td>1.00</td>\n",
       "      <td>NaN</td>\n",
       "      <td>NaN</td>\n",
       "      <td>unknown</td>\n",
       "      <td>31.38</td>\n",
       "    </tr>\n",
       "  </tbody>\n",
       "</table>\n",
       "</div>"
      ],
      "text/plain": [
       "                       name platform  year_of_release         genre  na_sales  \\\n",
       "0                Wii Sports      Wii             2006        Sports     41.36   \n",
       "1         Super Mario Bros.      NES             1985      Platform     29.08   \n",
       "2            Mario Kart Wii      Wii             2008        Racing     15.68   \n",
       "3         Wii Sports Resort      Wii             2009        Sports     15.61   \n",
       "4  Pokemon Red/Pokemon Blue       GB             1996  Role-Playing     11.27   \n",
       "\n",
       "   eu_sales  jp_sales  other_sales  critic_score  user_score   rating  \\\n",
       "0     28.96      3.77         8.45          76.0         8.0        E   \n",
       "1      3.58      6.81         0.77           NaN         NaN  unknown   \n",
       "2     12.76      3.79         3.29          82.0         8.3        E   \n",
       "3     10.93      3.28         2.95          80.0         8.0        E   \n",
       "4      8.89     10.22         1.00           NaN         NaN  unknown   \n",
       "\n",
       "   total_sales_game  \n",
       "0             82.54  \n",
       "1             40.24  \n",
       "2             35.52  \n",
       "3             32.77  \n",
       "4             31.38  "
      ]
     },
     "execution_count": 23,
     "metadata": {},
     "output_type": "execute_result"
    }
   ],
   "source": [
    "#добавим столбец 'total_sales_game' с суммарными продажами по каждой игре\n",
    "games['total_sales_game'] = games[['na_sales','eu_sales', 'jp_sales', 'other_sales']].sum(axis=1)\n",
    "games.head()"
   ]
  },
  {
   "cell_type": "markdown",
   "metadata": {},
   "source": [
    "__Вывод__\n",
    "\n",
    "В процессе предобработки проведены следующие действия с данными:\n",
    "1. Названия столбцов приведены к единому регистру.\n",
    "2. Преобразованы типы данных в столбцах `year_of_release` и `user_score` на int и float соответственно.\n",
    "\n",
    "Год выхода игры - целочисленное значение, поэтому замена на тип int. Пользовательский рейтинг - это дробные числа, поэтому замена на float, чтобы в дальнейшем иметь возможность обработать пропуски и проводить математические операции с данными.\n",
    "\n",
    "3. Обработаны пропуски и неявные дубликаты:\n",
    "* название игры и ее жанр являются одними из ключевых параметров продукта, заменить их на какое-либо значение не представляется возможным. Аналогичная ситуация с годом выхода, для дальнейшего проведения анализа необходимы конкретные данные по игре. Предложено удалить строки с пропусками в данных столбцах (удалено менее 2% от первоначального объема данных).\n",
    "* значение 'tbd' в столбце `user_score` аналогично отсутствию рейтинга (присвоение рейтинга только планируется), заменено значением NaN.\n",
    "* пропуски в столбцах `critic_score` и `user_score` оставляем, так как оценки критиков и пользователей являются субъективными параметрами, зависящими от критериев оценки и личных предпочтений пользователей. Замена может исказить данные и дальнейший анализ.\n",
    "* рейтинг K-A(Kids to Adults) переименован ассоциацией ESRB в E(Everyone), поэтому проведена замена в столбце `rating` к единому значению, пропуски в столбце `rating` заполнены значением unknown.\n",
    "\n",
    "Появление пропусков в данных может быть обусловлено человеческим фактором, когда данные были упущены и не введены в систему, а также отсутствием их на момент сбора информации (не определен жанр игры и дата выхода, не присвоены рейтинги и не получены отзывы) и несвоевременной актуализацией в дальнейшем.\n",
    "\n",
    "4. Проведена проверка на наличие аномальных значений и дубликатов.\n",
    "Исходя из числового описания данных можно сделать вывод об отсутствии выбивающихся значений в датасете. Строки-дубликаты в данных также отсутствуют. Неявные дубликаты с одинаковыми названиями, годами выпуска, платформой и жанром удалены.\n",
    "5. Добавлен столбец `total_sales_game`, в котором посчитаны суммарные продажи во всех регионах по каждой игре."
   ]
  },
  {
   "cell_type": "markdown",
   "metadata": {},
   "source": [
    "### Проведение анализа данных"
   ]
  },
  {
   "cell_type": "code",
   "execution_count": 24,
   "metadata": {},
   "outputs": [
    {
     "data": {
      "image/png": "[encoded data removed]",
      "text/plain": [
       "<Figure size 720x360 with 1 Axes>"
      ]
     },
     "metadata": {
      "needs_background": "light"
     },
     "output_type": "display_data"
    }
   ],
   "source": [
    "#посмотрим, какое количество игр выпускалось в разные годы\n",
    "(\n",
    "    games.pivot_table(index='year_of_release', values='name', aggfunc='count')\n",
    "    .plot(kind='bar', y=('name'), title='Количество выпускаемых игр по годам', \n",
    "          label='Количество игр', figsize=(10, 5), grid=True)\n",
    ")\n",
    "plt.xlabel('Год выпуска игры')\n",
    "plt.show()"
   ]
  },
  {
   "cell_type": "markdown",
   "metadata": {},
   "source": [
    "На графике видно, что в датасете представлены данные с 1980 года. В период 1980-1995 годы игр выпускалось значительно меньше. Пик по выпуску игр приходится на 2008-2009 годы. Последние годы наблюдается спад."
   ]
  },
  {
   "cell_type": "code",
   "execution_count": 25,
   "metadata": {},
   "outputs": [],
   "source": [
    "#посмотрим, как менялись продажи по платформам с 2008 года\n",
    "games = games.query('year_of_release >= 2008')"
   ]
  },
  {
   "cell_type": "code",
   "execution_count": 26,
   "metadata": {},
   "outputs": [
    {
     "data": {
      "image/png": "[encoded data removed]",
      "text/plain": [
       "<Figure size 1440x720 with 1 Axes>"
      ]
     },
     "metadata": {
      "needs_background": "light"
     },
     "output_type": "display_data"
    }
   ],
   "source": [
    "(\n",
    "    games.pivot_table(index='year_of_release', columns='platform', values='total_sales_game', aggfunc='sum')\n",
    "    .plot(title='Распределение продаж платформ по годам', grid=True, figsize=(20, 10))\n",
    ")\n",
    "plt.ylabel('суммарные продажи, млн копий')\n",
    "plt.xlabel('год выпуска')\n",
    "plt.show()"
   ]
  },
  {
   "cell_type": "markdown",
   "metadata": {},
   "source": [
    "В период 2011-2013 годы новые платформы появлялись ежегодно. При выходе новой платформы интерес к предыдущей версии резко снижался. Старые платформы уходят с рынка постепенно. В последние два года продажи по большинству платформ приблизились к 0, за исключением трех - PS4, XOne и 3DS."
   ]
  },
  {
   "cell_type": "markdown",
   "metadata": {},
   "source": [
    "Для построения прогноза на 2017 год предлагается использовать данные за 2015-2016 год."
   ]
  },
  {
   "cell_type": "code",
   "execution_count": 27,
   "metadata": {},
   "outputs": [],
   "source": [
    "games = games.query('year_of_release >= 2015')"
   ]
  },
  {
   "cell_type": "code",
   "execution_count": 28,
   "metadata": {},
   "outputs": [],
   "source": [
    "#выведем таблицу с суммарными продажами по 3 лидирующим платформам\n",
    "top_platform = ['3DS', 'PS4', 'XOne']"
   ]
  },
  {
   "cell_type": "code",
   "execution_count": 29,
   "metadata": {},
   "outputs": [
    {
     "data": {
      "text/plain": [
       "platform\n",
       "PS4     188.15\n",
       "XOne     86.29\n",
       "3DS      42.92\n",
       "Name: total_sales_game, dtype: float64"
      ]
     },
     "execution_count": 29,
     "metadata": {},
     "output_type": "execute_result"
    }
   ],
   "source": [
    "(\n",
    "    games.query('platform in @top_platform')\n",
    "    .groupby('platform')['total_sales_game']\n",
    "    .sum()\n",
    "    .sort_values(ascending=False)\n",
    ")"
   ]
  },
  {
   "cell_type": "code",
   "execution_count": 30,
   "metadata": {},
   "outputs": [
    {
     "data": {
      "image/png": "[encoded data removed]",
      "text/plain": [
       "<Figure size 1440x720 with 1 Axes>"
      ]
     },
     "metadata": {
      "needs_background": "light"
     },
     "output_type": "display_data"
    }
   ],
   "source": [
    "(\n",
    "    games.query('platform in @top_platform')\n",
    "    .pivot_table(index='year_of_release', columns='platform', values='total_sales_game', aggfunc='sum')\n",
    "    .plot(title='Распределение продаж потенциально прибыльных платформ за 2015-2016 годы', grid=True, figsize=(20, 10))\n",
    ")\n",
    "plt.ylabel('суммарные продажи, млн копий')\n",
    "plt.xlabel('год выпуска')\n",
    "plt.show()"
   ]
  },
  {
   "cell_type": "code",
   "execution_count": 31,
   "metadata": {},
   "outputs": [
    {
     "data": {
      "text/html": [
       "<div>\n",
       "<style scoped>\n",
       "    .dataframe tbody tr th:only-of-type {\n",
       "        vertical-align: middle;\n",
       "    }\n",
       "\n",
       "    .dataframe tbody tr th {\n",
       "        vertical-align: top;\n",
       "    }\n",
       "\n",
       "    .dataframe thead th {\n",
       "        text-align: right;\n",
       "    }\n",
       "</style>\n",
       "<table border=\"1\" class=\"dataframe\">\n",
       "  <thead>\n",
       "    <tr style=\"text-align: right;\">\n",
       "      <th></th>\n",
       "      <th>count</th>\n",
       "      <th>mean</th>\n",
       "      <th>std</th>\n",
       "      <th>min</th>\n",
       "      <th>25%</th>\n",
       "      <th>50%</th>\n",
       "      <th>75%</th>\n",
       "      <th>max</th>\n",
       "    </tr>\n",
       "    <tr>\n",
       "      <th>platform</th>\n",
       "      <th></th>\n",
       "      <th></th>\n",
       "      <th></th>\n",
       "      <th></th>\n",
       "      <th></th>\n",
       "      <th></th>\n",
       "      <th></th>\n",
       "      <th></th>\n",
       "    </tr>\n",
       "  </thead>\n",
       "  <tbody>\n",
       "    <tr>\n",
       "      <th>3DS</th>\n",
       "      <td>132.0</td>\n",
       "      <td>0.325152</td>\n",
       "      <td>0.798620</td>\n",
       "      <td>0.01</td>\n",
       "      <td>0.030</td>\n",
       "      <td>0.09</td>\n",
       "      <td>0.2325</td>\n",
       "      <td>7.14</td>\n",
       "    </tr>\n",
       "    <tr>\n",
       "      <th>PS4</th>\n",
       "      <td>301.0</td>\n",
       "      <td>0.625083</td>\n",
       "      <td>1.457063</td>\n",
       "      <td>0.01</td>\n",
       "      <td>0.050</td>\n",
       "      <td>0.12</td>\n",
       "      <td>0.4200</td>\n",
       "      <td>14.63</td>\n",
       "    </tr>\n",
       "    <tr>\n",
       "      <th>XOne</th>\n",
       "      <td>167.0</td>\n",
       "      <td>0.516707</td>\n",
       "      <td>0.965940</td>\n",
       "      <td>0.01</td>\n",
       "      <td>0.035</td>\n",
       "      <td>0.13</td>\n",
       "      <td>0.5550</td>\n",
       "      <td>7.39</td>\n",
       "    </tr>\n",
       "  </tbody>\n",
       "</table>\n",
       "</div>"
      ],
      "text/plain": [
       "          count      mean       std   min    25%   50%     75%    max\n",
       "platform                                                             \n",
       "3DS       132.0  0.325152  0.798620  0.01  0.030  0.09  0.2325   7.14\n",
       "PS4       301.0  0.625083  1.457063  0.01  0.050  0.12  0.4200  14.63\n",
       "XOne      167.0  0.516707  0.965940  0.01  0.035  0.13  0.5550   7.39"
      ]
     },
     "execution_count": 31,
     "metadata": {},
     "output_type": "execute_result"
    }
   ],
   "source": [
    "#построим график «ящик с усами» по глобальным продажам игр в разбивке по платформам\n",
    "(\n",
    "    games.query('platform in @top_platform')\n",
    "    .groupby('platform')['total_sales_game']\n",
    "    .describe()\n",
    ")"
   ]
  },
  {
   "cell_type": "code",
   "execution_count": 32,
   "metadata": {},
   "outputs": [
    {
     "data": {
      "image/png": "[encoded data removed]",
      "text/plain": [
       "<Figure size 720x360 with 1 Axes>"
      ]
     },
     "metadata": {
      "needs_background": "light"
     },
     "output_type": "display_data"
    }
   ],
   "source": [
    "(\n",
    "    games.query('platform in @top_platform')\n",
    "    .boxplot(column=['total_sales_game'], by=['platform'], figsize=(10, 5))\n",
    ")\n",
    "plt.title('Диаграмма размаха по глобальным продажам игр в разбивке по платформам')\n",
    "plt.xlabel('название платформы')\n",
    "plt.ylabel('продажи, млн копий')\n",
    "plt.show()"
   ]
  },
  {
   "cell_type": "code",
   "execution_count": 33,
   "metadata": {},
   "outputs": [
    {
     "data": {
      "image/png": "[encoded data removed]",
      "text/plain": [
       "<Figure size 720x360 with 1 Axes>"
      ]
     },
     "metadata": {
      "needs_background": "light"
     },
     "output_type": "display_data"
    }
   ],
   "source": [
    "#укрупним диаграмму, обрезав часть выбросов, и сравним статистики платформ\n",
    "(\n",
    "    games.query('platform in @top_platform')\n",
    "    .boxplot(column=['total_sales_game'], by=['platform'], figsize=(10, 5))\n",
    ")\n",
    "plt.ylim(0, 3)\n",
    "plt.title('Диаграмма размаха по глобальным продажам игр в разбивке по платформам')\n",
    "plt.xlabel('название платформы')\n",
    "plt.ylabel('продажи, млн копий')\n",
    "plt.show()"
   ]
  },
  {
   "cell_type": "markdown",
   "metadata": {},
   "source": [
    "На диаграмме видно, что платформы имеют схожие значения медиан продаж, но в целом, учитывая размер коробки и квартили, показатели продаж по платформе XOne выше.\\\n",
    "При этом по платформе PS4 выбросов значительно больше, чем по другим платформам, что может означать, что на этой платформе чаще \"выстреливают\" игры, которые продаются более успешно."
   ]
  },
  {
   "cell_type": "code",
   "execution_count": 34,
   "metadata": {},
   "outputs": [
    {
     "data": {
      "image/png": "[encoded data removed]",
      "text/plain": [
       "<Figure size 432x288 with 1 Axes>"
      ]
     },
     "metadata": {
      "needs_background": "light"
     },
     "output_type": "display_data"
    }
   ],
   "source": [
    "#рассмотрим на примере платформы PS4, как влияют на продажи отзывы пользователей и критиков.\n",
    "#построим диаграмму рассеяния и посчитаем коэффициент корреляции\n",
    "games_ps4 = games.loc[games['platform'] == 'PS4']\n",
    "games_ps4.plot(x='user_score', y='total_sales_game', style='o', alpha=0.5, \n",
    "               title='Зависимость продаж платформы PS4 от отзывов пользователей', grid=True) \n",
    "plt.xlabel('оценка пользователей')\n",
    "plt.ylabel('продажи, млн копий')\n",
    "plt.show()"
   ]
  },
  {
   "cell_type": "code",
   "execution_count": 35,
   "metadata": {},
   "outputs": [
    {
     "name": "stdout",
     "output_type": "stream",
     "text": [
      "Коэффициент корреляции продаж от отзывов пользователей -0.06\n"
     ]
    }
   ],
   "source": [
    "print('Коэффициент корреляции продаж от отзывов пользователей', \n",
    "      round(games_ps4['user_score'].corr(games_ps4['total_sales_game']), 2))"
   ]
  },
  {
   "cell_type": "code",
   "execution_count": 36,
   "metadata": {},
   "outputs": [
    {
     "data": {
      "image/png": "[encoded data removed]",
      "text/plain": [
       "<Figure size 432x288 with 1 Axes>"
      ]
     },
     "metadata": {
      "needs_background": "light"
     },
     "output_type": "display_data"
    }
   ],
   "source": [
    "games_ps4.plot(x='critic_score', y='total_sales_game', style='o', alpha=0.5, \n",
    "               title='Зависимость продаж платформы PS4 от отзывов критиков', grid=True) \n",
    "plt.xlabel('оценка критиков')\n",
    "plt.ylabel('продажи, млн копий')\n",
    "plt.show()"
   ]
  },
  {
   "cell_type": "code",
   "execution_count": 37,
   "metadata": {},
   "outputs": [
    {
     "name": "stdout",
     "output_type": "stream",
     "text": [
      "Коэффициент корреляции продаж от отзывов критиков 0.39\n"
     ]
    }
   ],
   "source": [
    "print('Коэффициент корреляции продаж от отзывов критиков', \n",
    "      round(games_ps4['critic_score'].corr(games_ps4['total_sales_game']), 2))"
   ]
  },
  {
   "cell_type": "markdown",
   "metadata": {},
   "source": [
    "Коэффициент корелляции показывает отсутствие зависимости продаж от отзывов пользователей и слабую зависимость от отзывов критиков, при этом на графиках видно, что преобладают высокие оценки и наблюдается рост продаж при оценках выше среднего."
   ]
  },
  {
   "cell_type": "code",
   "execution_count": 38,
   "metadata": {},
   "outputs": [
    {
     "data": {
      "image/png": "[encoded data removed]",
      "text/plain": [
       "<Figure size 432x288 with 1 Axes>"
      ]
     },
     "metadata": {
      "needs_background": "light"
     },
     "output_type": "display_data"
    }
   ],
   "source": [
    "games_3ds = games.loc[games['platform'] == '3DS']\n",
    "games_3ds.plot(x='user_score', y='total_sales_game', style='o', alpha=0.5, \n",
    "               title='Зависимость продаж платформы 3DS от отзывов пользователей', grid=True) \n",
    "plt.xlabel('оценка пользователей')\n",
    "plt.ylabel('продажи, млн копий')\n",
    "plt.show()"
   ]
  },
  {
   "cell_type": "code",
   "execution_count": 39,
   "metadata": {},
   "outputs": [
    {
     "data": {
      "image/png": "[encoded data removed]",
      "text/plain": [
       "<Figure size 432x288 with 1 Axes>"
      ]
     },
     "metadata": {
      "needs_background": "light"
     },
     "output_type": "display_data"
    }
   ],
   "source": [
    "games_xone = games.loc[games['platform'] == 'XOne']\n",
    "games_xone.plot(x='user_score', y='total_sales_game', style='o', alpha=0.5, \n",
    "               title='Зависимость продаж платформы XOne от отзывов пользователей', grid=True) \n",
    "plt.xlabel('оценка пользователей')\n",
    "plt.ylabel('продажи, млн копий')\n",
    "plt.show()"
   ]
  },
  {
   "cell_type": "code",
   "execution_count": 40,
   "metadata": {},
   "outputs": [
    {
     "data": {
      "image/png": "[encoded data removed]",
      "text/plain": [
       "<Figure size 432x288 with 1 Axes>"
      ]
     },
     "metadata": {
      "needs_background": "light"
     },
     "output_type": "display_data"
    }
   ],
   "source": [
    "games_3ds.plot(x='critic_score', y='total_sales_game', style='o', alpha=0.5, \n",
    "               title='Зависимость продаж платформы 3DS от отзывов критиков', grid=True) \n",
    "plt.xlabel('оценка критиков')\n",
    "plt.ylabel('продажи, млн копий')\n",
    "plt.show()"
   ]
  },
  {
   "cell_type": "code",
   "execution_count": 41,
   "metadata": {},
   "outputs": [
    {
     "data": {
      "image/png": "[encoded data removed]",
      "text/plain": [
       "<Figure size 432x288 with 1 Axes>"
      ]
     },
     "metadata": {
      "needs_background": "light"
     },
     "output_type": "display_data"
    }
   ],
   "source": [
    "games_xone.plot(x='critic_score', y='total_sales_game', style='o', alpha=0.5, \n",
    "               title='Зависимость продаж платформы XOne от отзывов критиков', grid=True) \n",
    "plt.xlabel('оценка критиков')\n",
    "plt.ylabel('продажи, млн копий')\n",
    "plt.show()"
   ]
  },
  {
   "cell_type": "markdown",
   "metadata": {},
   "source": [
    "На графиках по платформам 3DS и XOne также видно, что зависимость от оценки пользователей отсутствует. Присутствует слабая зависимость от оценок критиков, при оценках выше среднего наблюдается рост продаж по платформе XOne. Оценки по платформе 3DS слабее по сравнению с другими платформами, что отражается и на продажах."
   ]
  },
  {
   "cell_type": "code",
   "execution_count": 42,
   "metadata": {},
   "outputs": [
    {
     "data": {
      "image/png": "[encoded data removed]",
      "text/plain": [
       "<Figure size 1440x720 with 1 Axes>"
      ]
     },
     "metadata": {
      "needs_background": "light"
     },
     "output_type": "display_data"
    }
   ],
   "source": [
    "#посмотрим на распределение выпущенных игр по жанрам\n",
    "(\n",
    "    games.pivot_table(index='genre', values='name', aggfunc='count')\n",
    "    .sort_values(('name'), ascending=False)\n",
    "    .plot(kind='bar', title='Распределение игр по жанрам за период 2015-2016 годы', grid=True, figsize=(20, 10))\n",
    ")\n",
    "plt.ylabel('количество игр')\n",
    "plt.xlabel('жанры')\n",
    "plt.show()"
   ]
  },
  {
   "cell_type": "markdown",
   "metadata": {},
   "source": [
    "Жанр Action является явным лидером по количеству выпущенных игр."
   ]
  },
  {
   "cell_type": "code",
   "execution_count": 43,
   "metadata": {},
   "outputs": [
    {
     "data": {
      "image/png": "[encoded data removed]",
      "text/plain": [
       "<Figure size 1440x720 with 1 Axes>"
      ]
     },
     "metadata": {
      "needs_background": "light"
     },
     "output_type": "display_data"
    }
   ],
   "source": [
    "#посмотрим распределение продаж по жанрам\n",
    "(\n",
    "    games.pivot_table(index='genre', values='total_sales_game', aggfunc='sum')\n",
    "    .sort_values(('total_sales_game'), ascending=False)\n",
    "    .plot(kind='bar', title='Распределение продаж по жанрам за период 2015-2016 годы', grid=True, figsize=(20, 10))\n",
    ")\n",
    "plt.ylabel('суммарные продажи, млн копий')\n",
    "plt.xlabel('жанры')\n",
    "plt.show()"
   ]
  },
  {
   "cell_type": "code",
   "execution_count": 44,
   "metadata": {},
   "outputs": [
    {
     "data": {
      "image/png": "[encoded data removed]",
      "text/plain": [
       "<Figure size 1440x720 with 1 Axes>"
      ]
     },
     "metadata": {
      "needs_background": "light"
     },
     "output_type": "display_data"
    }
   ],
   "source": [
    "#посмотрим средние показатели продаж по жанрам\n",
    "(\n",
    "    games.pivot_table(index='genre', values='total_sales_game')\n",
    "    .sort_values(('total_sales_game'), ascending=False)\n",
    "    .plot(kind='bar', title='Средние показатели продаж по жанрам за период 2015-2016 годы', grid=True, figsize=(20, 10))\n",
    ")\n",
    "plt.ylabel('продажи, млн копий')\n",
    "plt.xlabel('жанры')\n",
    "plt.show()"
   ]
  },
  {
   "cell_type": "markdown",
   "metadata": {},
   "source": [
    "Несмотря на преобладание игр в жанре Action, самыми продаваемыми являются игры в жанре Shooter. Также в лидерах по продажам с заметным преимуществом относительно других жанров находятся игры в жанрах Action, Sports и Role-Playing, все 4 жанра находятся в топе и по выпуску игр.\\\n",
    "По показателю проданных копий одной игры также лидирует жанр Shooter, при этом жанр Action набирает объем продаж за счет бестселлеров."
   ]
  },
  {
   "cell_type": "markdown",
   "metadata": {},
   "source": [
    "__Вывод__\n",
    "\n",
    "В датасете представлены данные с 1980 года. В период 1980-1995 годы игр выпускалось значительно меньше. Пик по выпуску игр приходится на 2008-2009 годы. Последние годы наблюдается спад.\\\n",
    "В период 2011-2013 годы новые платформы появлялись ежегодно. При выходе новой платформы интерес к предыдущей версии резко снижался. Старые платформы уходят с рынка постепенно. В последние два года продажи по большинству платформ приблизились к 0, за исключением трех - PS4, XOne и 3DS.\\\n",
    "Для дальнейшего анализа были выбраны данные за период 2015-2016 и по наиболее перспективным платформам - PS4, XOne и 3DS:\n",
    "* на графике «ящик с усами» по глобальным продажам игр в разбивке по платформам видно, что платформы имеют схожие значения медиан продаж, но в целом, учитывая размер коробки и квартили, показатели продаж по платформе XOne выше. При этом по платформе PS4 выбросов значительно больше, чем по другим платформам, что может означать, что на этой платформе чаще \"выстреливают\" игры, которые продаются более успешно.\n",
    "* коэффициент корелляции показывает отсутствие зависимости продаж от отзывов пользователей и слабую зависимость от отзывов критиков, при этом на графиках видно, что преобладают высокие оценки и наблюдается рост продаж при оценках выше среднего. Оценки по платформе 3DS слабее по сравнению с другими платформами, что отражается и на продажах.\n",
    "* жанр Action является явным лидером по количеству выпущенных игр.\n",
    "* самыми продаваемыми являются игры в жанре Shooter. Также в лидерах по продажам с заметным преимуществом относительно других жанров находятся игры в жанрах Action, Sports и Role-Playing, все 4 жанра находятся в топе и по выпуску игр. По показателю проданных копий одной игры также лидирует жанр Shooter, при этом жанр Action набирает объем продаж за счет бестселлеров. "
   ]
  },
  {
   "cell_type": "markdown",
   "metadata": {},
   "source": [
    "### Составление портрета пользователя каждого региона\n",
    "1. Определим для пользователя каждого региона (NA, EU, JP) самые популярные платформы и жанры.\n",
    "2. Посмотрим влияет ли рейтинг ESRB на продажи в отдельном регионе."
   ]
  },
  {
   "cell_type": "code",
   "execution_count": 45,
   "metadata": {},
   "outputs": [
    {
     "data": {
      "image/png": "[encoded data removed]",
      "text/plain": [
       "<Figure size 720x360 with 1 Axes>"
      ]
     },
     "metadata": {
      "needs_background": "light"
     },
     "output_type": "display_data"
    }
   ],
   "source": [
    "#определим самые популярные платформы в каждом регионе\n",
    "(\n",
    "    games.query('platform in @top_platform')\n",
    "    .pivot_table(index='platform', values=('na_sales', 'eu_sales', 'jp_sales'), aggfunc='sum')\n",
    "    .plot(kind='bar', title='ТОП-3 платформ в регионах', grid=True, figsize=(10, 5))\n",
    ")\n",
    "\n",
    "plt.show()"
   ]
  },
  {
   "cell_type": "code",
   "execution_count": 46,
   "metadata": {},
   "outputs": [
    {
     "data": {
      "text/plain": [
       "platform\n",
       "3DS     24.021435\n",
       "PS4     33.941005\n",
       "XOne    58.291807\n",
       "dtype: float64"
      ]
     },
     "execution_count": 46,
     "metadata": {},
     "output_type": "execute_result"
    }
   ],
   "source": [
    "#определим долю продаж по платформам в NA\n",
    "all_platform = games.query('platform in @top_platform').groupby('platform')['total_sales_game'].sum()\n",
    "na_platform = games.query('platform in @top_platform').groupby('platform')['na_sales'].sum()\n",
    "na_platform / all_platform * 100"
   ]
  },
  {
   "cell_type": "code",
   "execution_count": 47,
   "metadata": {},
   "outputs": [
    {
     "data": {
      "text/plain": [
       "platform\n",
       "3DS     17.218080\n",
       "PS4     44.400744\n",
       "XOne    32.564608\n",
       "dtype: float64"
      ]
     },
     "execution_count": 47,
     "metadata": {},
     "output_type": "execute_result"
    }
   ],
   "source": [
    "#определим долю продаж по платформам в EU\n",
    "eu_platform = games.query('platform in @top_platform').groupby('platform')['eu_sales'].sum()\n",
    "eu_platform / all_platform * 100"
   ]
  },
  {
   "cell_type": "code",
   "execution_count": 48,
   "metadata": {},
   "outputs": [
    {
     "data": {
      "text/plain": [
       "platform\n",
       "3DS     54.869525\n",
       "PS4      6.404465\n",
       "XOne     0.208599\n",
       "dtype: float64"
      ]
     },
     "execution_count": 48,
     "metadata": {},
     "output_type": "execute_result"
    }
   ],
   "source": [
    "#определим долю продаж по платформам в JP\n",
    "jp_platform = games.query('platform in @top_platform').groupby('platform')['jp_sales'].sum()\n",
    "jp_platform / all_platform * 100"
   ]
  },
  {
   "cell_type": "markdown",
   "metadata": {},
   "source": [
    "В Северной Америке продажи XOne составляют почти 60% от общего количества продаж XOne в мире, при этом по количеству продаж лидирует платформа PS4 (доля продаж в регионе 34%). Около 45% от общих продаж PS4 приходится на Европу, по количеству продаж эта платформа также имеет существенное преобладание. В Японии предпочтение отдают 3DS, на этот регион приходится более 50% всех продаж данной платформы."
   ]
  },
  {
   "cell_type": "code",
   "execution_count": 49,
   "metadata": {},
   "outputs": [
    {
     "data": {
      "image/png": "[encoded data removed]",
      "text/plain": [
       "<Figure size 720x360 with 1 Axes>"
      ]
     },
     "metadata": {},
     "output_type": "display_data"
    }
   ],
   "source": [
    "#определим самые популярные жанры для пользователей NA\n",
    "(\n",
    "    games.pivot_table(index='genre', values='na_sales', aggfunc='sum')\n",
    "    .sort_values(('na_sales'), ascending=False)\n",
    "    .head()\n",
    "    .plot(kind='pie', subplots=True, title='ТОП-5 жанров для пользователей Северной Америки', figsize=(10, 5))\n",
    ")\n",
    "    \n",
    "plt.ylabel('продажи, млн копий')\n",
    "plt.show()"
   ]
  },
  {
   "cell_type": "code",
   "execution_count": 50,
   "metadata": {},
   "outputs": [
    {
     "data": {
      "text/plain": [
       "genre\n",
       "Shooter     45.568902\n",
       "Fighting    44.785772\n",
       "Sports      40.898492\n",
       "Platform    40.732759\n",
       "Misc        39.378970\n",
       "dtype: float64"
      ]
     },
     "metadata": {},
     "output_type": "display_data"
    }
   ],
   "source": [
    "#определим долю продаж по жанрам в NA\n",
    "all_genre = games.groupby('genre')['total_sales_game'].sum()\n",
    "na_genre = games.groupby('genre')['na_sales'].sum()\n",
    "display((na_genre / all_genre * 100).sort_values(ascending=False).head())"
   ]
  },
  {
   "cell_type": "code",
   "execution_count": 51,
   "metadata": {},
   "outputs": [
    {
     "data": {
      "image/png": "[encoded data removed]",
      "text/plain": [
       "<Figure size 720x360 with 1 Axes>"
      ]
     },
     "metadata": {},
     "output_type": "display_data"
    }
   ],
   "source": [
    "#определим самые популярные жанры для пользователей EU\n",
    "(\n",
    "    games.pivot_table(index='genre', values='eu_sales', aggfunc='sum')\n",
    "    .sort_values(('eu_sales'), ascending=False)\n",
    "    .head()\n",
    "    .plot(kind='pie', subplots=True, title='ТОП-5 жанров для пользователей Европы', figsize=(10, 5))\n",
    ")\n",
    "    \n",
    "plt.ylabel('продажи, млн копий')\n",
    "plt.show()"
   ]
  },
  {
   "cell_type": "code",
   "execution_count": 52,
   "metadata": {},
   "outputs": [
    {
     "data": {
      "text/plain": [
       "genre\n",
       "Racing        60.036832\n",
       "Strategy      52.684564\n",
       "Simulation    49.536424\n",
       "Sports        43.245764\n",
       "Adventure     38.981636\n",
       "dtype: float64"
      ]
     },
     "metadata": {},
     "output_type": "display_data"
    }
   ],
   "source": [
    "#определим долю продаж по жанрам в EU\n",
    "eu_genre = games.groupby('genre')['eu_sales'].sum()\n",
    "display((eu_genre / all_genre * 100).sort_values(ascending=False).head())"
   ]
  },
  {
   "cell_type": "code",
   "execution_count": 53,
   "metadata": {},
   "outputs": [
    {
     "data": {
      "image/png": "[encoded data removed]",
      "text/plain": [
       "<Figure size 720x360 with 1 Axes>"
      ]
     },
     "metadata": {},
     "output_type": "display_data"
    }
   ],
   "source": [
    "#определим самые популярные жанры для пользователей JP\n",
    "(\n",
    "    games.pivot_table(index='genre', values='jp_sales', aggfunc='sum')\n",
    "    .sort_values(('jp_sales'), ascending=False)\n",
    "    .head()\n",
    "    .plot(kind='pie', subplots=True, title='ТОП-5 жанров для пользователей Японии', figsize=(10, 5))\n",
    ")\n",
    "    \n",
    "plt.ylabel('продажи, млн копий')\n",
    "plt.show()"
   ]
  },
  {
   "cell_type": "code",
   "execution_count": 54,
   "metadata": {},
   "outputs": [
    {
     "data": {
      "text/plain": [
       "genre\n",
       "Puzzle          72.222222\n",
       "Simulation      25.562914\n",
       "Role-Playing    24.023647\n",
       "Action          22.569274\n",
       "Misc            22.512350\n",
       "dtype: float64"
      ]
     },
     "metadata": {},
     "output_type": "display_data"
    }
   ],
   "source": [
    "#определим долю продаж по жанрам в JP\n",
    "jp_genre = games.groupby('genre')['jp_sales'].sum()\n",
    "display((jp_genre / all_genre * 100).sort_values(ascending=False).head())"
   ]
  },
  {
   "cell_type": "markdown",
   "metadata": {},
   "source": [
    "Распределение жанров по количеству и долям продаж в различных регионах имеет существенное различие. Так в Северной Америке несмотря на небольшое количество проданных игр в жанре Fighting - это более 45% от мировых продаж, что позволяет сделать вывод о популярности этого жанра среди пользователей. Аналогичная ситуация в Европе с жанром Racing, на который приходится около 60% мировых продаж. В Японии продажи жанра Puzzle составляют более 70% от мировых продаж."
   ]
  },
  {
   "cell_type": "code",
   "execution_count": 55,
   "metadata": {},
   "outputs": [
    {
     "data": {
      "image/png": "[encoded data removed]",
      "text/plain": [
       "<Figure size 432x288 with 1 Axes>"
      ]
     },
     "metadata": {
      "needs_background": "light"
     },
     "output_type": "display_data"
    }
   ],
   "source": [
    "#посмотрим влияние рейтинга ESRB на продажи в NA\n",
    "na_rating = games.groupby('rating')['na_sales'].sum().sort_values(ascending=False)\n",
    "na_rating.plot(kind='bar', title='Влияние рейтинга ESRB на продажи в Северной Америке', grid=True)\n",
    "plt.xlabel('значение рейтинга')\n",
    "plt.show()"
   ]
  },
  {
   "cell_type": "markdown",
   "metadata": {},
   "source": [
    "В Северной Америке предпочтение отдают играм со значением рейтинга «M» («Mature») — «Для взрослых»: Материалы игры не подходят для лиц младше 17 лет. "
   ]
  },
  {
   "cell_type": "code",
   "execution_count": 56,
   "metadata": {},
   "outputs": [
    {
     "data": {
      "image/png": "[encoded data removed]",
      "text/plain": [
       "<Figure size 432x288 with 1 Axes>"
      ]
     },
     "metadata": {
      "needs_background": "light"
     },
     "output_type": "display_data"
    }
   ],
   "source": [
    "#посмотрим влияние рейтинга ESRB на продажи в EU\n",
    "eu_rating = games.groupby('rating')['eu_sales'].sum().sort_values(ascending=False)\n",
    "eu_rating.plot(kind='bar', title='Влияние рейтинга ESRB на продажи в Европе', grid=True)\n",
    "plt.xlabel('значение рейтинга')\n",
    "plt.show()"
   ]
  },
  {
   "cell_type": "markdown",
   "metadata": {},
   "source": [
    "Аналогичная ситуация в Европе, предпочтение играм со значением рейтинга \"M\". Также выделяются игры со значением «E» («Everyone») — «Для всех»: Содержание вполне подходит для всех возрастов."
   ]
  },
  {
   "cell_type": "code",
   "execution_count": 57,
   "metadata": {},
   "outputs": [
    {
     "data": {
      "image/png": "[encoded data removed]",
      "text/plain": [
       "<Figure size 432x288 with 1 Axes>"
      ]
     },
     "metadata": {
      "needs_background": "light"
     },
     "output_type": "display_data"
    }
   ],
   "source": [
    "#посмотрим влияние рейтинга ESRB на продажи в JP\n",
    "jp_rating = games.groupby('rating')['jp_sales'].sum().sort_values(ascending=False)\n",
    "jp_rating.plot(kind='bar', title='Влияние рейтинга ESRB на продажи в Японии', grid=True)\n",
    "plt.xlabel('значение рейтинга')\n",
    "plt.show()"
   ]
  },
  {
   "cell_type": "markdown",
   "metadata": {},
   "source": [
    "В Японии популярны игры, возрастная категория по которым не определена. Далее по популярности игры с рейтингом «T» («Teen») — «Подросткам»: Игра подходит для лиц от 13 лет."
   ]
  },
  {
   "cell_type": "markdown",
   "metadata": {},
   "source": [
    "__Вывод__\n",
    "\n",
    "Предпочтения по платформам в регионах (NA, EU, JP):\n",
    "1. В Северной Америке продажи XOne составляют почти 60% от общего количества продаж XOne в мире, при этом по количеству продаж она уступает платформе PS4 (доля продаж в регионе 34%). \n",
    "2. Около 45% от общих продаж PS4 приходится на Европу, по количеству продаж эта платформа также имеет существенное преобладание в регионе. \n",
    "3. В Японии предпочтение отдают 3DS, на этот регион приходится более 50% всех продаж данной платформы.\n",
    "\n",
    "Популярность жанров в регионах:\n",
    "\n",
    "Распределение жанров по количеству и долям продаж в различных регионах имеет существенное различие. Так по количеству продаж лидируют жанры Action, Shooter и Role-Playing, а по долям продаж ситуация следующая:\n",
    "1. В Северной Америке несмотря на небольшое количество проданных игр в жанре Fighting - это более 45% от мировых продаж, что позволяет сделать вывод о популярности этого жанра среди пользователей. \n",
    "2. Аналогичная ситуация в Европе с жанром Racing, на который приходится около 60% мировых продаж. \n",
    "3. В Японии продажи жанра Puzzle составляют более 70% от мировых продаж.\n",
    "\n",
    "Прдпочтения игр по рейтингу ESRB распределились следующим образом:\n",
    "1. В Северной Америке предпочтение отдают играм со значением рейтинга «M» («Mature») — «Для взрослых»: Материалы игры не подходят для лиц младше 17 лет.\n",
    "2. Аналогичная ситуация в Европе, предпочтение играм со значением рейтинга \"M\". Также выделяются игры со значением «E» («Everyone») — «Для всех»: Содержание вполне подходит для всех возрастов.\n",
    "3. В Японии популярны игры, возрастная категория по которым не определена. Далее по популярности игры с рейтингом «T» («Teen») — «Подросткам»: Игра подходит для лиц от 13 лет."
   ]
  },
  {
   "cell_type": "markdown",
   "metadata": {},
   "source": [
    "### Проверка гипотез "
   ]
  },
  {
   "cell_type": "markdown",
   "metadata": {},
   "source": [
    "1. Проверим гипотезу о том, что оценки пользователей платформ Xbox One и PC одинаковые.\n",
    "\n",
    "Нулевая гипотеза: средние значения пользовательских рейтингов равны.\\\n",
    "Альтернативная гипотеза: средние значения пользовательских рейтингов не равны."
   ]
  },
  {
   "cell_type": "code",
   "execution_count": 58,
   "metadata": {},
   "outputs": [],
   "source": [
    "#подготовим данные для выборки\n",
    "games_xbox = games.loc[games['platform'] == 'XOne'].dropna(subset=['user_score']).reset_index(drop=True)\n",
    "games_pc = games.loc[games['platform'] == 'PC'].dropna(subset=['user_score']).reset_index(drop=True)"
   ]
  },
  {
   "cell_type": "code",
   "execution_count": 59,
   "metadata": {},
   "outputs": [
    {
     "name": "stdout",
     "output_type": "stream",
     "text": [
      "p-значение: 0.2778542084733835\n",
      "Не получилось отвергнуть нулевую гипотезу\n"
     ]
    }
   ],
   "source": [
    "#выбираем метод для проверки гипотезы о равенстве среднего двух генеральных совокупностей \n",
    "alpha = 0.05 #уровень статистической значимости\n",
    "\n",
    "results = st.ttest_ind(games_xbox['user_score'], games_pc['user_score'])\n",
    "\n",
    "print('p-значение:', results.pvalue)\n",
    "\n",
    "if results.pvalue < alpha:\n",
    "    print('Отвергаем нулевую гипотезу')\n",
    "else:\n",
    "    print('Не получилось отвергнуть нулевую гипотезу') "
   ]
  },
  {
   "cell_type": "markdown",
   "metadata": {},
   "source": [
    "Средние значения оценок пользователей платформ Xbox One и РС равны."
   ]
  },
  {
   "cell_type": "markdown",
   "metadata": {},
   "source": [
    "2. Проверим гипотезу, что оценки пользователей жанров Action (англ. «действие», экшен-игры) и Sports (англ. «спортивные соревнования») разные.\n",
    "\n",
    "Нулевая гипотеза: средние значения пользовательских рейтингов равны.\\\n",
    "Альтернативная гипотеза: средние значения пользовательских рейтингов не равны."
   ]
  },
  {
   "cell_type": "code",
   "execution_count": 60,
   "metadata": {},
   "outputs": [],
   "source": [
    "#подготовим данные для выборки\n",
    "games_action = games.loc[games['genre'] == 'Action'].dropna(subset=['user_score']).reset_index(drop=True)\n",
    "games_sports = games.loc[games['genre'] == 'Sports'].dropna(subset=['user_score']).reset_index(drop=True)"
   ]
  },
  {
   "cell_type": "code",
   "execution_count": 61,
   "metadata": {},
   "outputs": [
    {
     "name": "stdout",
     "output_type": "stream",
     "text": [
      "p-значение: 1.0012846807938657e-13\n",
      "Отвергаем нулевую гипотезу\n"
     ]
    }
   ],
   "source": [
    "#выбираем метод для проверки гипотезы о равенстве среднего двух генеральных совокупностей \n",
    "alpha = 0.05 #уровень статистической значимости\n",
    "\n",
    "results = st.ttest_ind(games_action['user_score'], games_sports['user_score'])\n",
    "\n",
    "print('p-значение:', results.pvalue)\n",
    "\n",
    "if results.pvalue < alpha:\n",
    "    print('Отвергаем нулевую гипотезу')\n",
    "else:\n",
    "    print('Не получилось отвергнуть нулевую гипотезу') "
   ]
  },
  {
   "cell_type": "markdown",
   "metadata": {},
   "source": [
    "Средние значения оценок пользователей жанров Action и Sports не равны."
   ]
  },
  {
   "cell_type": "markdown",
   "metadata": {},
   "source": [
    "### Общий вывод"
   ]
  },
  {
   "cell_type": "markdown",
   "metadata": {},
   "source": [
    "В проекте были рассмотрены данные за период с 1980 по 2016 год о продажах компьютерных игр, оценки пользователей и экспертов, жанры и платформы (например, Xbox или PlayStation). Проведен анализ и проверены гипотезы для выявления определяющих успешность игры закономерностей, ниже представлены выводы.\n",
    "\n",
    "#### Выводы по предобработке данных\n",
    "\n",
    "В процессе предобработки проведены следующие действия с данными:\n",
    "1. Названия столбцов приведены к единому регистру.\n",
    "2. Преобразованы типы данных в столбцах `year_of_release` и `user_score` на int и float соответственно.\n",
    "\n",
    "Год выхода игры - целочисленное значение, поэтому замена на тип int. Пользовательский рейтинг - это дробные числа, поэтому замена на float, чтобы в дальнейшем иметь возможность обработать пропуски и проводить математические операции с данными.\n",
    "\n",
    "3. Обработаны пропуски и неявные дубликаты:\n",
    "* название игры и ее жанр являются одними из ключевых параметров продукта, заменить их на какое-либо значение не представляется возможным. Аналогичная ситуация с годом выхода, для дальнейшего проведения анализа необходимы конкретные данные по игре. Предложено удалить строки с пропусками в данных столбцах (удалено менее 2% от первоначального объема данных).\n",
    "* значение 'tbd' в столбце `user_score` аналогично отсутствию рейтинга (присвоение рейтинга только планируется), заменено значением NaN.\n",
    "* пропуски в столбцах `critic_score` и `user_score` оставляем, так как оценки критиков и пользователей являются субъективными параметрами, зависящими от критериев оценки и личных предпочтений пользователей. Замена может исказить данные и дальнейший анализ.\n",
    "* рейтинг K-A(Kids to Adults) переименован ассоциацией ESRB в E(Everyone), поэтому проведена замена в столбце `rating` к единому значению, пропуски в столбце `rating` заполнены значением unknown.\n",
    "\n",
    "Появление пропусков в данных может быть обусловлено человеческим фактором, когда данные были упущены и не введены в систему, а также отсутствием их на момент сбора информации (не определен жанр игры и дата выхода, не присвоены рейтинги и не получены отзывы) и несвоевременной актуализацией в дальнейшем.\n",
    "\n",
    "4. Проведена проверка на наличие аномальных значений и дубликатов.\n",
    "Исходя из числового описания данных можно сделать вывод об отсутствии выбивающихся значений в датасете. Строки-дубликаты в данных также отсутствуют. Неявные дубликаты с одинаковыми названиями, годами выпуска, платформой и жанром удалены.\n",
    "5. Добавлен столбец `total_sales_game`, в котором посчитаны суммарные продажи во всех регионах по каждой игре.\n",
    "#### Выводы по анализу данных\n",
    "\n",
    "В датасете представлены данные с 1980 года. В период 1980-1995 годы игр выпускалось значительно меньше. Пик по выпуску игр приходится на 2008-2009 годы. Последние годы наблюдается спад.\\\n",
    "В период 2011-2013 годы новые платформы появлялись ежегодно. При выходе новой платформы интерес к предыдущей версии резко снижался. Старые платформы уходят с рынка постепенно. В последние два года продажи по большинству платформ приблизились к 0, за исключением трех - PS4, XOne и 3DS.\\\n",
    "Для дальнейшего анализа были выбраны данные за период 2015-2016 и по наиболее перспективным платформам - PS4, XOne и 3DS:\n",
    "* на графике «ящик с усами» по глобальным продажам игр в разбивке по платформам видно, что платформы имеют схожие значения медиан продаж, но в целом, учитывая размер коробки и квартили, показатели продаж по платформе XOne выше. При этом по платформе PS4 выбросов значительно больше, чем по другим платформам, что может означать, что на эту платформу приходится больше бестселлеров.\n",
    "* коэффициент корелляции показывает отсутствие зависимости продаж от отзывов пользователей и слабую зависимость от отзывов критиков, при этом на графиках видно, что преобладают высокие оценки и наблюдается рост продаж при оценках выше среднего. Оценки по платформе 3DS слабее по сравнению с другими платформами, что отражается и на продажах.\n",
    "* жанр Action является явным лидером по количеству выпущенных игр.\n",
    "* самыми продаваемыми являются игры в жанре Shooter. Также в лидерах по продажам с заметным преимуществом относительно других жанров находятся игры в жанрах Action, Sports и Role-Playing, все 4 жанра находятся в топе и по выпуску игр. По показателю проданных копий одной игры также лидирует жанр Shooter, при этом жанр Action набирает объем продаж за счет бестселлеров.\n",
    "#### Выводы по составлению портрета пользователя\n",
    "\n",
    "Предпочтения по платформам в регионах (NA, EU, JP):\n",
    "1. В Северной Америке продажи XOne составляют почти 60% от общего количества продаж XOne в мире, при этом по количеству продаж она уступает платформе PS4 (доля продаж в регионе 34%). \n",
    "2. Около 45% от общих продаж PS4 приходится на Европу, по количеству продаж эта платформа также имеет существенное преобладание в регионе. \n",
    "3. В Японии предпочтение отдают 3DS, на этот регион приходится более 50% всех продаж данной платформы.\n",
    "\n",
    "Популярность жанров в регионах:\n",
    "\n",
    "Распределение жанров по количеству и долям продаж в различных регионах имеет существенное различие. Так по количеству продаж лидируют жанры Action, Shooter и Role-Playing, а по долям продаж ситуация следующая:\n",
    "1. В Северной Америке несмотря на небольшое количество проданных игр в жанре Fighting - это более 45% от мировых продаж, что позволяет сделать вывод о популярности этого жанра среди пользователей. \n",
    "2. Аналогичная ситуация в Европе с жанром Racing, на который приходится около 60% мировых продаж. \n",
    "3. В Японии продажи жанра Puzzle составляют более 70% от мировых продаж.\n",
    "\n",
    "Прдпочтения игр по рейтингу ESRB распределились следующим образом:\n",
    "1. В Северной Америке предпочтение отдают играм со значением рейтинга «M» («Mature») — «Для взрослых»: Материалы игры не подходят для лиц младше 17 лет.\n",
    "2. Аналогичная ситуация в Европе, предпочтение играм со значением рейтинга \"M\". Также выделяются игры со значением «E» («Everyone») — «Для всех»: Содержание вполне подходит для всех возрастов.\n",
    "3. В Японии популярны игры, возрастная категория по которым не определена. Далее по популярности игры с рейтингом «T» («Teen») — «Подросткам»: Игра подходит для лиц от 13 лет.\n",
    "#### Выводы по проверке гипотез\n",
    "\n",
    "По итогам проверки гипотез данные о продажах за период 2015-2016 гг. дают достаточно оснований для следующих выводов:\n",
    "1. Средние значения оценок пользователей платформ Xbox One и РС равны;\n",
    "2. Средние значения оценок пользователей жанров Action и Sports не равны."
   ]
  }
 ],
 "metadata": {
  "ExecuteTimeLog": [
   {
    "duration": 1218,
    "start_time": "2023-05-03T02:23:35.150Z"
   },
   {
    "duration": 101,
    "start_time": "2023-05-03T02:26:54.008Z"
   },
   {
    "duration": 19,
    "start_time": "2023-05-03T02:26:55.345Z"
   },
   {
    "duration": 14,
    "start_time": "2023-05-03T02:28:17.747Z"
   },
   {
    "duration": 16,
    "start_time": "2023-05-03T02:40:35.250Z"
   },
   {
    "duration": 1552,
    "start_time": "2023-05-03T09:36:58.303Z"
   },
   {
    "duration": 144,
    "start_time": "2023-05-03T09:36:59.857Z"
   },
   {
    "duration": 42,
    "start_time": "2023-05-03T09:37:00.003Z"
   },
   {
    "duration": 29,
    "start_time": "2023-05-03T09:37:00.047Z"
   },
   {
    "duration": 108,
    "start_time": "2023-05-03T09:48:16.372Z"
   },
   {
    "duration": 4,
    "start_time": "2023-05-03T09:53:19.344Z"
   },
   {
    "duration": 17,
    "start_time": "2023-05-03T09:53:29.938Z"
   },
   {
    "duration": 29,
    "start_time": "2023-05-03T09:57:42.400Z"
   },
   {
    "duration": 17,
    "start_time": "2023-05-03T10:03:10.887Z"
   },
   {
    "duration": 1189,
    "start_time": "2023-05-03T10:22:41.558Z"
   },
   {
    "duration": 53,
    "start_time": "2023-05-03T10:22:42.754Z"
   },
   {
    "duration": 45,
    "start_time": "2023-05-03T10:22:42.809Z"
   },
   {
    "duration": 20,
    "start_time": "2023-05-03T10:22:42.856Z"
   },
   {
    "duration": 6,
    "start_time": "2023-05-03T10:22:42.877Z"
   },
   {
    "duration": 21,
    "start_time": "2023-05-03T10:22:42.885Z"
   },
   {
    "duration": 16,
    "start_time": "2023-05-03T10:37:07.036Z"
   },
   {
    "duration": 10,
    "start_time": "2023-05-03T10:37:29.975Z"
   },
   {
    "duration": 12,
    "start_time": "2023-05-03T10:41:37.948Z"
   },
   {
    "duration": 67,
    "start_time": "2023-05-03T10:50:56.485Z"
   },
   {
    "duration": 19,
    "start_time": "2023-05-03T10:53:09.242Z"
   },
   {
    "duration": 94,
    "start_time": "2023-05-03T11:02:08.003Z"
   },
   {
    "duration": 28379,
    "start_time": "2023-05-03T11:02:18.640Z"
   },
   {
    "duration": 16,
    "start_time": "2023-05-03T11:04:23.708Z"
   },
   {
    "duration": 23,
    "start_time": "2023-05-03T11:10:16.537Z"
   },
   {
    "duration": 10,
    "start_time": "2023-05-03T11:24:44.626Z"
   },
   {
    "duration": 5,
    "start_time": "2023-05-03T11:24:51.562Z"
   },
   {
    "duration": 335,
    "start_time": "2023-05-03T11:25:51.928Z"
   },
   {
    "duration": 11,
    "start_time": "2023-05-03T11:34:30.657Z"
   },
   {
    "duration": 14,
    "start_time": "2023-05-03T11:34:56.528Z"
   },
   {
    "duration": 23,
    "start_time": "2023-05-03T11:35:15.826Z"
   },
   {
    "duration": 23,
    "start_time": "2023-05-03T11:35:44.527Z"
   },
   {
    "duration": 34,
    "start_time": "2023-05-03T11:36:20.104Z"
   },
   {
    "duration": 28,
    "start_time": "2023-05-03T11:37:49.710Z"
   },
   {
    "duration": 47,
    "start_time": "2023-05-03T11:39:05.338Z"
   },
   {
    "duration": 25,
    "start_time": "2023-05-03T11:39:33.777Z"
   },
   {
    "duration": 20,
    "start_time": "2023-05-03T11:39:46.325Z"
   },
   {
    "duration": 255,
    "start_time": "2023-05-03T11:40:27.325Z"
   },
   {
    "duration": 227,
    "start_time": "2023-05-03T11:41:16.156Z"
   },
   {
    "duration": 1159,
    "start_time": "2023-05-03T11:42:30.433Z"
   },
   {
    "duration": 59,
    "start_time": "2023-05-03T11:42:31.594Z"
   },
   {
    "duration": 21,
    "start_time": "2023-05-03T11:42:31.655Z"
   },
   {
    "duration": 55,
    "start_time": "2023-05-03T11:42:31.678Z"
   },
   {
    "duration": 54,
    "start_time": "2023-05-03T11:42:31.737Z"
   },
   {
    "duration": 52,
    "start_time": "2023-05-03T11:42:31.793Z"
   },
   {
    "duration": 29,
    "start_time": "2023-05-03T11:42:31.847Z"
   },
   {
    "duration": 28,
    "start_time": "2023-05-03T11:42:31.878Z"
   },
   {
    "duration": 22,
    "start_time": "2023-05-03T11:42:44.210Z"
   },
   {
    "duration": 130,
    "start_time": "2023-05-03T11:57:14.009Z"
   },
   {
    "duration": 5,
    "start_time": "2023-05-03T11:57:24.964Z"
   },
   {
    "duration": 8,
    "start_time": "2023-05-03T11:57:50.469Z"
   },
   {
    "duration": 5,
    "start_time": "2023-05-03T12:06:11.108Z"
   },
   {
    "duration": 8,
    "start_time": "2023-05-03T12:06:32.932Z"
   },
   {
    "duration": 49,
    "start_time": "2023-05-03T12:14:35.010Z"
   },
   {
    "duration": 48,
    "start_time": "2023-05-03T12:15:05.755Z"
   },
   {
    "duration": 102,
    "start_time": "2023-05-03T12:15:54.656Z"
   },
   {
    "duration": 57,
    "start_time": "2023-05-03T12:16:02.675Z"
   },
   {
    "duration": 53,
    "start_time": "2023-05-03T12:16:04.830Z"
   },
   {
    "duration": 5,
    "start_time": "2023-05-03T12:18:48.723Z"
   },
   {
    "duration": 6,
    "start_time": "2023-05-03T12:19:22.907Z"
   },
   {
    "duration": 14,
    "start_time": "2023-05-03T12:19:31.876Z"
   },
   {
    "duration": 20,
    "start_time": "2023-05-03T12:21:32.416Z"
   },
   {
    "duration": 19,
    "start_time": "2023-05-03T12:21:57.201Z"
   },
   {
    "duration": 5,
    "start_time": "2023-05-03T12:22:02.957Z"
   },
   {
    "duration": 0,
    "start_time": "2023-05-03T12:31:48.426Z"
   },
   {
    "duration": 9,
    "start_time": "2023-05-03T12:32:00.294Z"
   },
   {
    "duration": 862,
    "start_time": "2023-05-03T12:32:42.724Z"
   },
   {
    "duration": 853,
    "start_time": "2023-05-03T12:33:07.448Z"
   },
   {
    "duration": 18,
    "start_time": "2023-05-03T12:33:31.849Z"
   },
   {
    "duration": 2071,
    "start_time": "2023-05-03T12:39:05.029Z"
   },
   {
    "duration": 64,
    "start_time": "2023-05-03T12:39:07.102Z"
   },
   {
    "duration": 23,
    "start_time": "2023-05-03T12:39:07.168Z"
   },
   {
    "duration": 17,
    "start_time": "2023-05-03T12:39:07.192Z"
   },
   {
    "duration": 6,
    "start_time": "2023-05-03T12:39:07.211Z"
   },
   {
    "duration": 34,
    "start_time": "2023-05-03T12:39:07.219Z"
   },
   {
    "duration": 14,
    "start_time": "2023-05-03T12:39:07.255Z"
   },
   {
    "duration": 5,
    "start_time": "2023-05-03T12:39:07.271Z"
   },
   {
    "duration": 13,
    "start_time": "2023-05-03T12:39:07.277Z"
   },
   {
    "duration": 25,
    "start_time": "2023-05-03T12:39:07.292Z"
   },
   {
    "duration": 50,
    "start_time": "2023-05-03T12:39:07.321Z"
   },
   {
    "duration": 67,
    "start_time": "2023-05-03T12:39:07.373Z"
   },
   {
    "duration": 4,
    "start_time": "2023-05-03T12:39:07.442Z"
   },
   {
    "duration": 6,
    "start_time": "2023-05-03T12:39:07.449Z"
   },
   {
    "duration": 20,
    "start_time": "2023-05-03T12:39:07.456Z"
   },
   {
    "duration": 46,
    "start_time": "2023-05-03T12:39:07.477Z"
   },
   {
    "duration": 29,
    "start_time": "2023-05-03T12:39:07.529Z"
   },
   {
    "duration": 42,
    "start_time": "2023-05-03T12:40:36.994Z"
   },
   {
    "duration": 18,
    "start_time": "2023-05-03T13:02:38.150Z"
   },
   {
    "duration": 406,
    "start_time": "2023-05-03T13:13:15.633Z"
   },
   {
    "duration": 52,
    "start_time": "2023-05-03T13:13:16.041Z"
   },
   {
    "duration": 35,
    "start_time": "2023-05-03T13:13:16.096Z"
   },
   {
    "duration": 17,
    "start_time": "2023-05-03T13:13:16.133Z"
   },
   {
    "duration": 5,
    "start_time": "2023-05-03T13:13:16.152Z"
   },
   {
    "duration": 21,
    "start_time": "2023-05-03T13:13:16.158Z"
   },
   {
    "duration": 14,
    "start_time": "2023-05-03T13:13:16.212Z"
   },
   {
    "duration": 4,
    "start_time": "2023-05-03T13:13:16.228Z"
   },
   {
    "duration": 7,
    "start_time": "2023-05-03T13:13:16.233Z"
   },
   {
    "duration": 7,
    "start_time": "2023-05-03T13:13:16.243Z"
   },
   {
    "duration": 67,
    "start_time": "2023-05-03T13:13:16.251Z"
   },
   {
    "duration": 55,
    "start_time": "2023-05-03T13:13:16.320Z"
   },
   {
    "duration": 4,
    "start_time": "2023-05-03T13:13:16.377Z"
   },
   {
    "duration": 8,
    "start_time": "2023-05-03T13:13:16.382Z"
   },
   {
    "duration": 33,
    "start_time": "2023-05-03T13:13:16.392Z"
   },
   {
    "duration": 14,
    "start_time": "2023-05-03T13:13:16.427Z"
   },
   {
    "duration": 32,
    "start_time": "2023-05-03T13:13:16.443Z"
   },
   {
    "duration": 42,
    "start_time": "2023-05-03T13:13:16.477Z"
   },
   {
    "duration": 75,
    "start_time": "2023-05-03T13:29:31.209Z"
   },
   {
    "duration": 27,
    "start_time": "2023-05-03T13:29:42.818Z"
   },
   {
    "duration": 19,
    "start_time": "2023-05-03T13:29:59.886Z"
   },
   {
    "duration": 63,
    "start_time": "2023-05-03T13:31:41.598Z"
   },
   {
    "duration": 69,
    "start_time": "2023-05-03T13:31:55.400Z"
   },
   {
    "duration": 45,
    "start_time": "2023-05-03T13:32:07.741Z"
   },
   {
    "duration": 56,
    "start_time": "2023-05-03T13:32:26.026Z"
   },
   {
    "duration": 9,
    "start_time": "2023-05-03T13:33:19.183Z"
   },
   {
    "duration": 14,
    "start_time": "2023-05-03T13:33:30.494Z"
   },
   {
    "duration": 440,
    "start_time": "2023-05-03T13:38:30.774Z"
   },
   {
    "duration": 182,
    "start_time": "2023-05-03T13:38:42.180Z"
   },
   {
    "duration": 3,
    "start_time": "2023-05-03T13:38:55.307Z"
   },
   {
    "duration": 169,
    "start_time": "2023-05-03T13:39:01.041Z"
   },
   {
    "duration": 171,
    "start_time": "2023-05-03T13:39:42.608Z"
   },
   {
    "duration": 157,
    "start_time": "2023-05-03T13:40:27.766Z"
   },
   {
    "duration": 408,
    "start_time": "2023-05-03T13:41:20.502Z"
   },
   {
    "duration": 360,
    "start_time": "2023-05-03T13:42:27.600Z"
   },
   {
    "duration": 358,
    "start_time": "2023-05-03T13:43:45.680Z"
   },
   {
    "duration": 374,
    "start_time": "2023-05-03T13:44:27.350Z"
   },
   {
    "duration": 370,
    "start_time": "2023-05-03T13:46:57.601Z"
   },
   {
    "duration": 441,
    "start_time": "2023-05-03T13:49:49.843Z"
   },
   {
    "duration": 356,
    "start_time": "2023-05-03T13:50:51.468Z"
   },
   {
    "duration": 398,
    "start_time": "2023-05-03T13:53:12.956Z"
   },
   {
    "duration": 355,
    "start_time": "2023-05-03T13:53:27.982Z"
   },
   {
    "duration": 10,
    "start_time": "2023-05-03T13:59:28.838Z"
   },
   {
    "duration": 14,
    "start_time": "2023-05-03T13:59:41.075Z"
   },
   {
    "duration": 49,
    "start_time": "2023-05-03T14:11:47.264Z"
   },
   {
    "duration": 17,
    "start_time": "2023-05-03T14:12:26.455Z"
   },
   {
    "duration": 16,
    "start_time": "2023-05-03T14:15:01.127Z"
   },
   {
    "duration": 13,
    "start_time": "2023-05-03T14:25:18.129Z"
   },
   {
    "duration": 14,
    "start_time": "2023-05-03T14:26:38.555Z"
   },
   {
    "duration": 13,
    "start_time": "2023-05-03T14:27:23.519Z"
   },
   {
    "duration": 13,
    "start_time": "2023-05-03T14:27:35.062Z"
   },
   {
    "duration": 20,
    "start_time": "2023-05-03T14:30:16.940Z"
   },
   {
    "duration": 8,
    "start_time": "2023-05-03T14:30:27.745Z"
   },
   {
    "duration": 19,
    "start_time": "2023-05-03T14:30:51.938Z"
   },
   {
    "duration": 23,
    "start_time": "2023-05-03T14:32:33.121Z"
   },
   {
    "duration": 331,
    "start_time": "2023-05-03T14:33:38.953Z"
   },
   {
    "duration": 303,
    "start_time": "2023-05-03T14:33:49.080Z"
   },
   {
    "duration": 263,
    "start_time": "2023-05-03T14:36:16.857Z"
   },
   {
    "duration": 14,
    "start_time": "2023-05-03T14:38:29.452Z"
   },
   {
    "duration": 235,
    "start_time": "2023-05-03T14:38:41.356Z"
   },
   {
    "duration": 15,
    "start_time": "2023-05-03T14:38:49.822Z"
   },
   {
    "duration": 665,
    "start_time": "2023-05-03T14:39:02.228Z"
   },
   {
    "duration": 51,
    "start_time": "2023-05-03T14:39:02.895Z"
   },
   {
    "duration": 20,
    "start_time": "2023-05-03T14:39:02.948Z"
   },
   {
    "duration": 31,
    "start_time": "2023-05-03T14:39:02.969Z"
   },
   {
    "duration": 45,
    "start_time": "2023-05-03T14:39:03.002Z"
   },
   {
    "duration": 15,
    "start_time": "2023-05-03T14:39:03.048Z"
   },
   {
    "duration": 12,
    "start_time": "2023-05-03T14:39:03.065Z"
   },
   {
    "duration": 4,
    "start_time": "2023-05-03T14:39:03.079Z"
   },
   {
    "duration": 5,
    "start_time": "2023-05-03T14:39:03.085Z"
   },
   {
    "duration": 7,
    "start_time": "2023-05-03T14:39:03.091Z"
   },
   {
    "duration": 46,
    "start_time": "2023-05-03T14:39:03.099Z"
   },
   {
    "duration": 70,
    "start_time": "2023-05-03T14:39:03.146Z"
   },
   {
    "duration": 6,
    "start_time": "2023-05-03T14:39:03.218Z"
   },
   {
    "duration": 7,
    "start_time": "2023-05-03T14:39:03.226Z"
   },
   {
    "duration": 21,
    "start_time": "2023-05-03T14:39:03.234Z"
   },
   {
    "duration": 23,
    "start_time": "2023-05-03T14:39:03.256Z"
   },
   {
    "duration": 46,
    "start_time": "2023-05-03T14:39:03.281Z"
   },
   {
    "duration": 17,
    "start_time": "2023-05-03T14:39:03.328Z"
   },
   {
    "duration": 405,
    "start_time": "2023-05-03T14:39:03.347Z"
   },
   {
    "duration": 17,
    "start_time": "2023-05-03T14:39:03.754Z"
   },
   {
    "duration": 65,
    "start_time": "2023-05-03T14:39:03.773Z"
   },
   {
    "duration": 0,
    "start_time": "2023-05-03T14:39:03.841Z"
   },
   {
    "duration": 307,
    "start_time": "2023-05-03T14:40:17.358Z"
   },
   {
    "duration": 383,
    "start_time": "2023-05-03T14:41:36.249Z"
   },
   {
    "duration": 364,
    "start_time": "2023-05-03T14:41:58.907Z"
   },
   {
    "duration": 414,
    "start_time": "2023-05-03T14:43:28.850Z"
   },
   {
    "duration": 351,
    "start_time": "2023-05-03T14:43:57.621Z"
   },
   {
    "duration": 331,
    "start_time": "2023-05-03T14:44:11.019Z"
   },
   {
    "duration": 405,
    "start_time": "2023-05-03T14:44:41.616Z"
   },
   {
    "duration": 332,
    "start_time": "2023-05-03T14:44:57.138Z"
   },
   {
    "duration": 339,
    "start_time": "2023-05-03T14:45:31.060Z"
   },
   {
    "duration": 59,
    "start_time": "2023-05-03T14:58:22.273Z"
   },
   {
    "duration": 72,
    "start_time": "2023-05-03T14:59:09.388Z"
   },
   {
    "duration": 52,
    "start_time": "2023-05-03T14:59:28.916Z"
   },
   {
    "duration": 163,
    "start_time": "2023-05-03T15:00:10.840Z"
   },
   {
    "duration": 6,
    "start_time": "2023-05-03T15:01:57.480Z"
   },
   {
    "duration": 249,
    "start_time": "2023-05-03T15:02:14.665Z"
   },
   {
    "duration": 6,
    "start_time": "2023-05-03T15:08:04.400Z"
   },
   {
    "duration": 249,
    "start_time": "2023-05-03T15:08:16.499Z"
   },
   {
    "duration": 641,
    "start_time": "2023-05-03T15:08:26.728Z"
   },
   {
    "duration": 50,
    "start_time": "2023-05-03T15:08:27.371Z"
   },
   {
    "duration": 20,
    "start_time": "2023-05-03T15:08:27.423Z"
   },
   {
    "duration": 15,
    "start_time": "2023-05-03T15:08:27.444Z"
   },
   {
    "duration": 4,
    "start_time": "2023-05-03T15:08:27.461Z"
   },
   {
    "duration": 14,
    "start_time": "2023-05-03T15:08:27.467Z"
   },
   {
    "duration": 14,
    "start_time": "2023-05-03T15:08:27.512Z"
   },
   {
    "duration": 5,
    "start_time": "2023-05-03T15:08:27.527Z"
   },
   {
    "duration": 11,
    "start_time": "2023-05-03T15:08:27.533Z"
   },
   {
    "duration": 7,
    "start_time": "2023-05-03T15:08:27.545Z"
   },
   {
    "duration": 69,
    "start_time": "2023-05-03T15:08:27.553Z"
   },
   {
    "duration": 53,
    "start_time": "2023-05-03T15:08:27.623Z"
   },
   {
    "duration": 5,
    "start_time": "2023-05-03T15:08:27.677Z"
   },
   {
    "duration": 6,
    "start_time": "2023-05-03T15:08:27.684Z"
   },
   {
    "duration": 33,
    "start_time": "2023-05-03T15:08:27.692Z"
   },
   {
    "duration": 13,
    "start_time": "2023-05-03T15:08:27.727Z"
   },
   {
    "duration": 31,
    "start_time": "2023-05-03T15:08:27.742Z"
   },
   {
    "duration": 37,
    "start_time": "2023-05-03T15:08:27.775Z"
   },
   {
    "duration": 376,
    "start_time": "2023-05-03T15:08:27.814Z"
   },
   {
    "duration": 7,
    "start_time": "2023-05-03T15:08:28.191Z"
   },
   {
    "duration": 367,
    "start_time": "2023-05-03T15:08:28.199Z"
   },
   {
    "duration": 6,
    "start_time": "2023-05-03T15:08:28.567Z"
   },
   {
    "duration": 344,
    "start_time": "2023-05-03T15:08:28.575Z"
   },
   {
    "duration": 645,
    "start_time": "2023-05-03T15:25:49.541Z"
   },
   {
    "duration": 52,
    "start_time": "2023-05-03T15:25:50.188Z"
   },
   {
    "duration": 24,
    "start_time": "2023-05-03T15:25:50.241Z"
   },
   {
    "duration": 21,
    "start_time": "2023-05-03T15:25:50.267Z"
   },
   {
    "duration": 13,
    "start_time": "2023-05-03T15:25:50.290Z"
   },
   {
    "duration": 18,
    "start_time": "2023-05-03T15:25:50.311Z"
   },
   {
    "duration": 13,
    "start_time": "2023-05-03T15:25:50.331Z"
   },
   {
    "duration": 56,
    "start_time": "2023-05-03T15:25:50.346Z"
   },
   {
    "duration": 31,
    "start_time": "2023-05-03T15:25:50.404Z"
   },
   {
    "duration": 22,
    "start_time": "2023-05-03T15:25:50.437Z"
   },
   {
    "duration": 57,
    "start_time": "2023-05-03T15:25:50.461Z"
   },
   {
    "duration": 54,
    "start_time": "2023-05-03T15:25:50.520Z"
   },
   {
    "duration": 5,
    "start_time": "2023-05-03T15:25:50.575Z"
   },
   {
    "duration": 21,
    "start_time": "2023-05-03T15:25:50.583Z"
   },
   {
    "duration": 35,
    "start_time": "2023-05-03T15:25:50.606Z"
   },
   {
    "duration": 48,
    "start_time": "2023-05-03T15:25:50.643Z"
   },
   {
    "duration": 48,
    "start_time": "2023-05-03T15:25:50.692Z"
   },
   {
    "duration": 16,
    "start_time": "2023-05-03T15:25:50.742Z"
   },
   {
    "duration": 393,
    "start_time": "2023-05-03T15:25:50.760Z"
   },
   {
    "duration": 7,
    "start_time": "2023-05-03T15:25:51.155Z"
   },
   {
    "duration": 562,
    "start_time": "2023-05-03T15:25:51.163Z"
   },
   {
    "duration": 7,
    "start_time": "2023-05-03T15:25:51.726Z"
   },
   {
    "duration": 334,
    "start_time": "2023-05-03T15:25:51.735Z"
   },
   {
    "duration": 345,
    "start_time": "2023-05-03T15:29:13.189Z"
   },
   {
    "duration": 662,
    "start_time": "2023-05-03T15:29:19.912Z"
   },
   {
    "duration": 51,
    "start_time": "2023-05-03T15:29:20.576Z"
   },
   {
    "duration": 20,
    "start_time": "2023-05-03T15:29:20.629Z"
   },
   {
    "duration": 15,
    "start_time": "2023-05-03T15:29:20.651Z"
   },
   {
    "duration": 8,
    "start_time": "2023-05-03T15:29:20.668Z"
   },
   {
    "duration": 38,
    "start_time": "2023-05-03T15:29:20.678Z"
   },
   {
    "duration": 14,
    "start_time": "2023-05-03T15:29:20.718Z"
   },
   {
    "duration": 13,
    "start_time": "2023-05-03T15:29:20.733Z"
   },
   {
    "duration": 8,
    "start_time": "2023-05-03T15:29:20.747Z"
   },
   {
    "duration": 18,
    "start_time": "2023-05-03T15:29:20.758Z"
   },
   {
    "duration": 58,
    "start_time": "2023-05-03T15:29:20.777Z"
   },
   {
    "duration": 54,
    "start_time": "2023-05-03T15:29:20.838Z"
   },
   {
    "duration": 18,
    "start_time": "2023-05-03T15:29:20.894Z"
   },
   {
    "duration": 6,
    "start_time": "2023-05-03T15:29:20.913Z"
   },
   {
    "duration": 20,
    "start_time": "2023-05-03T15:29:20.921Z"
   },
   {
    "duration": 14,
    "start_time": "2023-05-03T15:29:20.943Z"
   },
   {
    "duration": 55,
    "start_time": "2023-05-03T15:29:20.958Z"
   },
   {
    "duration": 17,
    "start_time": "2023-05-03T15:29:21.015Z"
   },
   {
    "duration": 391,
    "start_time": "2023-05-03T15:29:21.033Z"
   },
   {
    "duration": 8,
    "start_time": "2023-05-03T15:29:21.425Z"
   },
   {
    "duration": 580,
    "start_time": "2023-05-03T15:29:21.434Z"
   },
   {
    "duration": 7,
    "start_time": "2023-05-03T15:29:22.015Z"
   },
   {
    "duration": 318,
    "start_time": "2023-05-03T15:29:22.024Z"
   },
   {
    "duration": 622,
    "start_time": "2023-05-03T15:29:37.945Z"
   },
   {
    "duration": 52,
    "start_time": "2023-05-03T15:29:38.569Z"
   },
   {
    "duration": 21,
    "start_time": "2023-05-03T15:29:38.623Z"
   },
   {
    "duration": 16,
    "start_time": "2023-05-03T15:29:38.646Z"
   },
   {
    "duration": 8,
    "start_time": "2023-05-03T15:29:38.664Z"
   },
   {
    "duration": 48,
    "start_time": "2023-05-03T15:29:38.673Z"
   },
   {
    "duration": 13,
    "start_time": "2023-05-03T15:29:38.722Z"
   },
   {
    "duration": 3,
    "start_time": "2023-05-03T15:29:38.737Z"
   },
   {
    "duration": 6,
    "start_time": "2023-05-03T15:29:38.742Z"
   },
   {
    "duration": 15,
    "start_time": "2023-05-03T15:29:38.750Z"
   },
   {
    "duration": 59,
    "start_time": "2023-05-03T15:29:38.767Z"
   },
   {
    "duration": 54,
    "start_time": "2023-05-03T15:29:38.828Z"
   },
   {
    "duration": 5,
    "start_time": "2023-05-03T15:29:38.883Z"
   },
   {
    "duration": 24,
    "start_time": "2023-05-03T15:29:38.889Z"
   },
   {
    "duration": 15,
    "start_time": "2023-05-03T15:29:38.914Z"
   },
   {
    "duration": 13,
    "start_time": "2023-05-03T15:29:38.931Z"
   },
   {
    "duration": 37,
    "start_time": "2023-05-03T15:29:38.945Z"
   },
   {
    "duration": 38,
    "start_time": "2023-05-03T15:29:38.984Z"
   },
   {
    "duration": 465,
    "start_time": "2023-05-03T15:29:39.024Z"
   },
   {
    "duration": 7,
    "start_time": "2023-05-03T15:29:39.490Z"
   },
   {
    "duration": 613,
    "start_time": "2023-05-03T15:29:39.499Z"
   },
   {
    "duration": 7,
    "start_time": "2023-05-03T15:29:40.115Z"
   },
   {
    "duration": 339,
    "start_time": "2023-05-03T15:29:40.123Z"
   },
   {
    "duration": 681,
    "start_time": "2023-05-03T15:34:01.305Z"
   },
   {
    "duration": 53,
    "start_time": "2023-05-03T15:34:01.988Z"
   },
   {
    "duration": 21,
    "start_time": "2023-05-03T15:34:02.043Z"
   },
   {
    "duration": 39,
    "start_time": "2023-05-03T15:34:02.066Z"
   },
   {
    "duration": 34,
    "start_time": "2023-05-03T15:34:02.107Z"
   },
   {
    "duration": 54,
    "start_time": "2023-05-03T15:34:02.143Z"
   },
   {
    "duration": 64,
    "start_time": "2023-05-03T15:34:02.198Z"
   },
   {
    "duration": 38,
    "start_time": "2023-05-03T15:34:02.264Z"
   },
   {
    "duration": 23,
    "start_time": "2023-05-03T15:34:02.304Z"
   },
   {
    "duration": 32,
    "start_time": "2023-05-03T15:34:02.329Z"
   },
   {
    "duration": 68,
    "start_time": "2023-05-03T15:34:02.363Z"
   },
   {
    "duration": 53,
    "start_time": "2023-05-03T15:34:02.433Z"
   },
   {
    "duration": 5,
    "start_time": "2023-05-03T15:34:02.488Z"
   },
   {
    "duration": 28,
    "start_time": "2023-05-03T15:34:02.511Z"
   },
   {
    "duration": 64,
    "start_time": "2023-05-03T15:34:02.541Z"
   },
   {
    "duration": 56,
    "start_time": "2023-05-03T15:34:02.606Z"
   },
   {
    "duration": 71,
    "start_time": "2023-05-03T15:34:02.664Z"
   },
   {
    "duration": 16,
    "start_time": "2023-05-03T15:34:02.737Z"
   },
   {
    "duration": 401,
    "start_time": "2023-05-03T15:34:02.755Z"
   },
   {
    "duration": 8,
    "start_time": "2023-05-03T15:34:03.158Z"
   },
   {
    "duration": 479,
    "start_time": "2023-05-03T15:34:03.168Z"
   },
   {
    "duration": 8,
    "start_time": "2023-05-03T15:34:03.649Z"
   },
   {
    "duration": 367,
    "start_time": "2023-05-03T15:34:03.659Z"
   },
   {
    "duration": 660,
    "start_time": "2023-05-03T15:42:33.118Z"
   },
   {
    "duration": 54,
    "start_time": "2023-05-03T15:42:33.780Z"
   },
   {
    "duration": 27,
    "start_time": "2023-05-03T15:42:33.836Z"
   },
   {
    "duration": 15,
    "start_time": "2023-05-03T15:42:33.865Z"
   },
   {
    "duration": 30,
    "start_time": "2023-05-03T15:42:33.882Z"
   },
   {
    "duration": 18,
    "start_time": "2023-05-03T15:42:33.914Z"
   },
   {
    "duration": 12,
    "start_time": "2023-05-03T15:42:33.933Z"
   },
   {
    "duration": 3,
    "start_time": "2023-05-03T15:42:33.947Z"
   },
   {
    "duration": 17,
    "start_time": "2023-05-03T15:42:33.952Z"
   },
   {
    "duration": 6,
    "start_time": "2023-05-03T15:42:33.972Z"
   },
   {
    "duration": 69,
    "start_time": "2023-05-03T15:42:33.980Z"
   },
   {
    "duration": 70,
    "start_time": "2023-05-03T15:42:34.050Z"
   },
   {
    "duration": 6,
    "start_time": "2023-05-03T15:42:34.123Z"
   },
   {
    "duration": 44,
    "start_time": "2023-05-03T15:42:34.130Z"
   },
   {
    "duration": 21,
    "start_time": "2023-05-03T15:42:34.176Z"
   },
   {
    "duration": 17,
    "start_time": "2023-05-03T15:42:34.199Z"
   },
   {
    "duration": 45,
    "start_time": "2023-05-03T15:42:34.218Z"
   },
   {
    "duration": 34,
    "start_time": "2023-05-03T15:42:34.265Z"
   },
   {
    "duration": 397,
    "start_time": "2023-05-03T15:42:34.300Z"
   },
   {
    "duration": 17,
    "start_time": "2023-05-03T15:42:34.699Z"
   },
   {
    "duration": 396,
    "start_time": "2023-05-03T15:42:34.718Z"
   },
   {
    "duration": 7,
    "start_time": "2023-05-03T15:42:35.117Z"
   },
   {
    "duration": 324,
    "start_time": "2023-05-03T15:42:35.126Z"
   },
   {
    "duration": 5,
    "start_time": "2023-05-03T15:53:56.063Z"
   },
   {
    "duration": 71,
    "start_time": "2023-05-03T17:26:27.454Z"
   },
   {
    "duration": 625,
    "start_time": "2023-05-03T17:26:36.764Z"
   },
   {
    "duration": 53,
    "start_time": "2023-05-03T17:26:37.391Z"
   },
   {
    "duration": 19,
    "start_time": "2023-05-03T17:26:37.445Z"
   },
   {
    "duration": 17,
    "start_time": "2023-05-03T17:26:37.467Z"
   },
   {
    "duration": 12,
    "start_time": "2023-05-03T17:26:37.486Z"
   },
   {
    "duration": 27,
    "start_time": "2023-05-03T17:26:37.500Z"
   },
   {
    "duration": 14,
    "start_time": "2023-05-03T17:26:37.529Z"
   },
   {
    "duration": 4,
    "start_time": "2023-05-03T17:26:37.545Z"
   },
   {
    "duration": 18,
    "start_time": "2023-05-03T17:26:37.551Z"
   },
   {
    "duration": 6,
    "start_time": "2023-05-03T17:26:37.572Z"
   },
   {
    "duration": 68,
    "start_time": "2023-05-03T17:26:37.580Z"
   },
   {
    "duration": 68,
    "start_time": "2023-05-03T17:26:37.650Z"
   },
   {
    "duration": 5,
    "start_time": "2023-05-03T17:26:37.720Z"
   },
   {
    "duration": 17,
    "start_time": "2023-05-03T17:26:37.727Z"
   },
   {
    "duration": 18,
    "start_time": "2023-05-03T17:26:37.745Z"
   },
   {
    "duration": 14,
    "start_time": "2023-05-03T17:26:37.765Z"
   },
   {
    "duration": 43,
    "start_time": "2023-05-03T17:26:37.781Z"
   },
   {
    "duration": 18,
    "start_time": "2023-05-03T17:26:37.825Z"
   },
   {
    "duration": 389,
    "start_time": "2023-05-03T17:26:37.845Z"
   },
   {
    "duration": 7,
    "start_time": "2023-05-03T17:26:38.236Z"
   },
   {
    "duration": 411,
    "start_time": "2023-05-03T17:26:38.245Z"
   },
   {
    "duration": 7,
    "start_time": "2023-05-03T17:26:38.657Z"
   },
   {
    "duration": 375,
    "start_time": "2023-05-03T17:26:38.666Z"
   },
   {
    "duration": 6,
    "start_time": "2023-05-03T17:26:39.043Z"
   },
   {
    "duration": 85,
    "start_time": "2023-05-03T17:26:39.051Z"
   },
   {
    "duration": 27,
    "start_time": "2023-05-03T17:26:49.946Z"
   },
   {
    "duration": 241,
    "start_time": "2023-05-03T17:31:36.466Z"
   },
   {
    "duration": 6,
    "start_time": "2023-05-03T17:33:05.706Z"
   },
   {
    "duration": 674,
    "start_time": "2023-05-03T17:33:25.488Z"
   },
   {
    "duration": 51,
    "start_time": "2023-05-03T17:33:26.164Z"
   },
   {
    "duration": 21,
    "start_time": "2023-05-03T17:33:26.217Z"
   },
   {
    "duration": 15,
    "start_time": "2023-05-03T17:33:26.240Z"
   },
   {
    "duration": 5,
    "start_time": "2023-05-03T17:33:26.256Z"
   },
   {
    "duration": 17,
    "start_time": "2023-05-03T17:33:26.263Z"
   },
   {
    "duration": 12,
    "start_time": "2023-05-03T17:33:26.312Z"
   },
   {
    "duration": 3,
    "start_time": "2023-05-03T17:33:26.326Z"
   },
   {
    "duration": 6,
    "start_time": "2023-05-03T17:33:26.331Z"
   },
   {
    "duration": 4,
    "start_time": "2023-05-03T17:33:26.340Z"
   },
   {
    "duration": 66,
    "start_time": "2023-05-03T17:33:26.346Z"
   },
   {
    "duration": 53,
    "start_time": "2023-05-03T17:33:26.413Z"
   },
   {
    "duration": 5,
    "start_time": "2023-05-03T17:33:26.467Z"
   },
   {
    "duration": 9,
    "start_time": "2023-05-03T17:33:26.473Z"
   },
   {
    "duration": 30,
    "start_time": "2023-05-03T17:33:26.484Z"
   },
   {
    "duration": 13,
    "start_time": "2023-05-03T17:33:26.516Z"
   },
   {
    "duration": 34,
    "start_time": "2023-05-03T17:33:26.531Z"
   },
   {
    "duration": 15,
    "start_time": "2023-05-03T17:33:26.567Z"
   },
   {
    "duration": 381,
    "start_time": "2023-05-03T17:33:26.584Z"
   },
   {
    "duration": 6,
    "start_time": "2023-05-03T17:33:26.967Z"
   },
   {
    "duration": 372,
    "start_time": "2023-05-03T17:33:26.974Z"
   },
   {
    "duration": 7,
    "start_time": "2023-05-03T17:33:27.347Z"
   },
   {
    "duration": 6,
    "start_time": "2023-05-03T17:33:27.356Z"
   },
   {
    "duration": 330,
    "start_time": "2023-05-03T17:33:27.364Z"
   },
   {
    "duration": 6,
    "start_time": "2023-05-03T17:33:27.696Z"
   },
   {
    "duration": 27,
    "start_time": "2023-05-03T17:33:27.711Z"
   },
   {
    "duration": 658,
    "start_time": "2023-05-03T17:37:11.409Z"
   },
   {
    "duration": 51,
    "start_time": "2023-05-03T17:37:12.069Z"
   },
   {
    "duration": 21,
    "start_time": "2023-05-03T17:37:12.122Z"
   },
   {
    "duration": 15,
    "start_time": "2023-05-03T17:37:12.145Z"
   },
   {
    "duration": 5,
    "start_time": "2023-05-03T17:37:12.162Z"
   },
   {
    "duration": 16,
    "start_time": "2023-05-03T17:37:12.169Z"
   },
   {
    "duration": 11,
    "start_time": "2023-05-03T17:37:12.212Z"
   },
   {
    "duration": 5,
    "start_time": "2023-05-03T17:37:12.225Z"
   },
   {
    "duration": 18,
    "start_time": "2023-05-03T17:37:12.231Z"
   },
   {
    "duration": 11,
    "start_time": "2023-05-03T17:37:12.251Z"
   },
   {
    "duration": 56,
    "start_time": "2023-05-03T17:37:12.264Z"
   },
   {
    "duration": 60,
    "start_time": "2023-05-03T17:37:12.321Z"
   },
   {
    "duration": 4,
    "start_time": "2023-05-03T17:37:12.383Z"
   },
   {
    "duration": 21,
    "start_time": "2023-05-03T17:37:12.390Z"
   },
   {
    "duration": 14,
    "start_time": "2023-05-03T17:37:12.413Z"
   },
   {
    "duration": 13,
    "start_time": "2023-05-03T17:37:12.429Z"
   },
   {
    "duration": 32,
    "start_time": "2023-05-03T17:37:12.443Z"
   },
   {
    "duration": 46,
    "start_time": "2023-05-03T17:37:12.477Z"
   },
   {
    "duration": 400,
    "start_time": "2023-05-03T17:37:12.525Z"
   },
   {
    "duration": 606,
    "start_time": "2023-05-03T17:37:12.927Z"
   },
   {
    "duration": 6,
    "start_time": "2023-05-03T17:37:13.535Z"
   },
   {
    "duration": 14,
    "start_time": "2023-05-03T17:37:13.543Z"
   },
   {
    "duration": 76,
    "start_time": "2023-05-03T17:37:13.558Z"
   },
   {
    "duration": 266,
    "start_time": "2023-05-03T17:37:13.636Z"
   },
   {
    "duration": 11,
    "start_time": "2023-05-03T17:37:13.904Z"
   },
   {
    "duration": 25,
    "start_time": "2023-05-03T17:37:13.917Z"
   },
   {
    "duration": 9,
    "start_time": "2023-05-03T17:43:15.747Z"
   },
   {
    "duration": 75,
    "start_time": "2023-05-03T17:44:55.415Z"
   },
   {
    "duration": 7,
    "start_time": "2023-05-03T17:45:12.784Z"
   },
   {
    "duration": 7,
    "start_time": "2023-05-03T17:45:25.591Z"
   },
   {
    "duration": 7,
    "start_time": "2023-05-03T17:45:52.591Z"
   },
   {
    "duration": 627,
    "start_time": "2023-05-03T17:46:01.953Z"
   },
   {
    "duration": 51,
    "start_time": "2023-05-03T17:46:02.582Z"
   },
   {
    "duration": 19,
    "start_time": "2023-05-03T17:46:02.635Z"
   },
   {
    "duration": 42,
    "start_time": "2023-05-03T17:46:02.656Z"
   },
   {
    "duration": 28,
    "start_time": "2023-05-03T17:46:02.700Z"
   },
   {
    "duration": 65,
    "start_time": "2023-05-03T17:46:02.730Z"
   },
   {
    "duration": 28,
    "start_time": "2023-05-03T17:46:02.797Z"
   },
   {
    "duration": 33,
    "start_time": "2023-05-03T17:46:02.827Z"
   },
   {
    "duration": 17,
    "start_time": "2023-05-03T17:46:02.863Z"
   },
   {
    "duration": 5,
    "start_time": "2023-05-03T17:46:02.884Z"
   },
   {
    "duration": 45,
    "start_time": "2023-05-03T17:46:02.891Z"
   },
   {
    "duration": 53,
    "start_time": "2023-05-03T17:46:02.938Z"
   },
   {
    "duration": 23,
    "start_time": "2023-05-03T17:46:02.993Z"
   },
   {
    "duration": 20,
    "start_time": "2023-05-03T17:46:03.018Z"
   },
   {
    "duration": 24,
    "start_time": "2023-05-03T17:46:03.040Z"
   },
   {
    "duration": 23,
    "start_time": "2023-05-03T17:46:03.066Z"
   },
   {
    "duration": 38,
    "start_time": "2023-05-03T17:46:03.091Z"
   },
   {
    "duration": 18,
    "start_time": "2023-05-03T17:46:03.131Z"
   },
   {
    "duration": 401,
    "start_time": "2023-05-03T17:46:03.151Z"
   },
   {
    "duration": 9,
    "start_time": "2023-05-03T17:46:03.554Z"
   },
   {
    "duration": 8,
    "start_time": "2023-05-03T17:46:03.565Z"
   },
   {
    "duration": 314,
    "start_time": "2023-05-03T17:46:03.575Z"
   },
   {
    "duration": 9,
    "start_time": "2023-05-03T17:46:03.891Z"
   },
   {
    "duration": 259,
    "start_time": "2023-05-03T17:46:03.912Z"
   },
   {
    "duration": 5,
    "start_time": "2023-05-03T17:46:04.173Z"
   },
   {
    "duration": 36,
    "start_time": "2023-05-03T17:46:04.180Z"
   },
   {
    "duration": 8,
    "start_time": "2023-05-03T17:46:55.149Z"
   },
   {
    "duration": 658,
    "start_time": "2023-05-03T17:47:17.496Z"
   },
   {
    "duration": 54,
    "start_time": "2023-05-03T17:47:18.156Z"
   },
   {
    "duration": 20,
    "start_time": "2023-05-03T17:47:18.212Z"
   },
   {
    "duration": 22,
    "start_time": "2023-05-03T17:47:18.234Z"
   },
   {
    "duration": 6,
    "start_time": "2023-05-03T17:47:18.257Z"
   },
   {
    "duration": 15,
    "start_time": "2023-05-03T17:47:18.265Z"
   },
   {
    "duration": 38,
    "start_time": "2023-05-03T17:47:18.282Z"
   },
   {
    "duration": 5,
    "start_time": "2023-05-03T17:47:18.322Z"
   },
   {
    "duration": 7,
    "start_time": "2023-05-03T17:47:18.328Z"
   },
   {
    "duration": 9,
    "start_time": "2023-05-03T17:47:18.338Z"
   },
   {
    "duration": 46,
    "start_time": "2023-05-03T17:47:18.349Z"
   },
   {
    "duration": 68,
    "start_time": "2023-05-03T17:47:18.397Z"
   },
   {
    "duration": 5,
    "start_time": "2023-05-03T17:47:18.467Z"
   },
   {
    "duration": 24,
    "start_time": "2023-05-03T17:47:18.473Z"
   },
   {
    "duration": 31,
    "start_time": "2023-05-03T17:47:18.498Z"
   },
   {
    "duration": 20,
    "start_time": "2023-05-03T17:47:18.530Z"
   },
   {
    "duration": 32,
    "start_time": "2023-05-03T17:47:18.552Z"
   },
   {
    "duration": 26,
    "start_time": "2023-05-03T17:47:18.586Z"
   },
   {
    "duration": 404,
    "start_time": "2023-05-03T17:47:18.614Z"
   },
   {
    "duration": 10,
    "start_time": "2023-05-03T17:47:19.019Z"
   },
   {
    "duration": 21,
    "start_time": "2023-05-03T17:47:19.031Z"
   },
   {
    "duration": 299,
    "start_time": "2023-05-03T17:47:19.054Z"
   },
   {
    "duration": 6,
    "start_time": "2023-05-03T17:47:19.355Z"
   },
   {
    "duration": 269,
    "start_time": "2023-05-03T17:47:19.363Z"
   },
   {
    "duration": 6,
    "start_time": "2023-05-03T17:47:19.633Z"
   },
   {
    "duration": 29,
    "start_time": "2023-05-03T17:47:19.640Z"
   },
   {
    "duration": 665,
    "start_time": "2023-05-03T17:57:14.014Z"
   },
   {
    "duration": 51,
    "start_time": "2023-05-03T17:57:14.682Z"
   },
   {
    "duration": 19,
    "start_time": "2023-05-03T17:57:14.735Z"
   },
   {
    "duration": 17,
    "start_time": "2023-05-03T17:57:14.756Z"
   },
   {
    "duration": 12,
    "start_time": "2023-05-03T17:57:14.775Z"
   },
   {
    "duration": 31,
    "start_time": "2023-05-03T17:57:14.788Z"
   },
   {
    "duration": 12,
    "start_time": "2023-05-03T17:57:14.821Z"
   },
   {
    "duration": 26,
    "start_time": "2023-05-03T17:57:14.834Z"
   },
   {
    "duration": 27,
    "start_time": "2023-05-03T17:57:14.862Z"
   },
   {
    "duration": 12,
    "start_time": "2023-05-03T17:57:14.891Z"
   },
   {
    "duration": 54,
    "start_time": "2023-05-03T17:57:14.905Z"
   },
   {
    "duration": 57,
    "start_time": "2023-05-03T17:57:14.961Z"
   },
   {
    "duration": 5,
    "start_time": "2023-05-03T17:57:15.020Z"
   },
   {
    "duration": 25,
    "start_time": "2023-05-03T17:57:15.028Z"
   },
   {
    "duration": 34,
    "start_time": "2023-05-03T17:57:15.055Z"
   },
   {
    "duration": 14,
    "start_time": "2023-05-03T17:57:15.090Z"
   },
   {
    "duration": 35,
    "start_time": "2023-05-03T17:57:15.105Z"
   },
   {
    "duration": 17,
    "start_time": "2023-05-03T17:57:15.141Z"
   },
   {
    "duration": 377,
    "start_time": "2023-05-03T17:57:15.160Z"
   },
   {
    "duration": 6,
    "start_time": "2023-05-03T17:57:15.539Z"
   },
   {
    "duration": 8,
    "start_time": "2023-05-03T17:57:15.547Z"
   },
   {
    "duration": 7,
    "start_time": "2023-05-03T17:57:15.556Z"
   },
   {
    "duration": 318,
    "start_time": "2023-05-03T17:57:15.565Z"
   },
   {
    "duration": 7,
    "start_time": "2023-05-03T17:57:15.885Z"
   },
   {
    "duration": 23,
    "start_time": "2023-05-03T17:57:15.893Z"
   },
   {
    "duration": 9,
    "start_time": "2023-05-03T17:57:15.917Z"
   },
   {
    "duration": 261,
    "start_time": "2023-05-03T17:57:15.928Z"
   },
   {
    "duration": 6,
    "start_time": "2023-05-03T17:57:16.191Z"
   },
   {
    "duration": 36,
    "start_time": "2023-05-03T17:57:16.199Z"
   },
   {
    "duration": 596,
    "start_time": "2023-05-03T18:02:18.157Z"
   },
   {
    "duration": 50,
    "start_time": "2023-05-03T18:02:18.755Z"
   },
   {
    "duration": 21,
    "start_time": "2023-05-03T18:02:18.807Z"
   },
   {
    "duration": 15,
    "start_time": "2023-05-03T18:02:18.831Z"
   },
   {
    "duration": 8,
    "start_time": "2023-05-03T18:02:18.848Z"
   },
   {
    "duration": 20,
    "start_time": "2023-05-03T18:02:18.859Z"
   },
   {
    "duration": 14,
    "start_time": "2023-05-03T18:02:18.911Z"
   },
   {
    "duration": 13,
    "start_time": "2023-05-03T18:02:18.927Z"
   },
   {
    "duration": 23,
    "start_time": "2023-05-03T18:02:18.942Z"
   },
   {
    "duration": 11,
    "start_time": "2023-05-03T18:02:18.969Z"
   },
   {
    "duration": 58,
    "start_time": "2023-05-03T18:02:18.981Z"
   },
   {
    "duration": 54,
    "start_time": "2023-05-03T18:02:19.042Z"
   },
   {
    "duration": 15,
    "start_time": "2023-05-03T18:02:19.097Z"
   },
   {
    "duration": 9,
    "start_time": "2023-05-03T18:02:19.113Z"
   },
   {
    "duration": 17,
    "start_time": "2023-05-03T18:02:19.123Z"
   },
   {
    "duration": 13,
    "start_time": "2023-05-03T18:02:19.141Z"
   },
   {
    "duration": 32,
    "start_time": "2023-05-03T18:02:19.156Z"
   },
   {
    "duration": 18,
    "start_time": "2023-05-03T18:02:19.212Z"
   },
   {
    "duration": 389,
    "start_time": "2023-05-03T18:02:19.231Z"
   },
   {
    "duration": 8,
    "start_time": "2023-05-03T18:02:19.621Z"
   },
   {
    "duration": 376,
    "start_time": "2023-05-03T18:02:19.630Z"
   },
   {
    "duration": 8,
    "start_time": "2023-05-03T18:02:20.011Z"
   },
   {
    "duration": 26,
    "start_time": "2023-05-03T18:02:20.021Z"
   },
   {
    "duration": 362,
    "start_time": "2023-05-03T18:02:20.049Z"
   },
   {
    "duration": 7,
    "start_time": "2023-05-03T18:02:20.413Z"
   },
   {
    "duration": 11,
    "start_time": "2023-05-03T18:02:20.421Z"
   },
   {
    "duration": 21,
    "start_time": "2023-05-03T18:02:20.434Z"
   },
   {
    "duration": 263,
    "start_time": "2023-05-03T18:02:20.458Z"
   },
   {
    "duration": 7,
    "start_time": "2023-05-03T18:02:20.723Z"
   },
   {
    "duration": 32,
    "start_time": "2023-05-03T18:02:20.731Z"
   },
   {
    "duration": 639,
    "start_time": "2023-05-03T18:05:29.735Z"
   },
   {
    "duration": 52,
    "start_time": "2023-05-03T18:05:30.376Z"
   },
   {
    "duration": 20,
    "start_time": "2023-05-03T18:05:30.430Z"
   },
   {
    "duration": 47,
    "start_time": "2023-05-03T18:05:30.452Z"
   },
   {
    "duration": 25,
    "start_time": "2023-05-03T18:05:30.501Z"
   },
   {
    "duration": 93,
    "start_time": "2023-05-03T18:05:30.528Z"
   },
   {
    "duration": 25,
    "start_time": "2023-05-03T18:05:30.623Z"
   },
   {
    "duration": 34,
    "start_time": "2023-05-03T18:05:30.649Z"
   },
   {
    "duration": 24,
    "start_time": "2023-05-03T18:05:30.685Z"
   },
   {
    "duration": 29,
    "start_time": "2023-05-03T18:05:30.712Z"
   },
   {
    "duration": 75,
    "start_time": "2023-05-03T18:05:30.743Z"
   },
   {
    "duration": 60,
    "start_time": "2023-05-03T18:05:30.820Z"
   },
   {
    "duration": 5,
    "start_time": "2023-05-03T18:05:30.882Z"
   },
   {
    "duration": 46,
    "start_time": "2023-05-03T18:05:30.888Z"
   },
   {
    "duration": 47,
    "start_time": "2023-05-03T18:05:30.936Z"
   },
   {
    "duration": 25,
    "start_time": "2023-05-03T18:05:30.985Z"
   },
   {
    "duration": 60,
    "start_time": "2023-05-03T18:05:31.011Z"
   },
   {
    "duration": 42,
    "start_time": "2023-05-03T18:05:31.073Z"
   },
   {
    "duration": 405,
    "start_time": "2023-05-03T18:05:31.117Z"
   },
   {
    "duration": 7,
    "start_time": "2023-05-03T18:05:31.524Z"
   },
   {
    "duration": 656,
    "start_time": "2023-05-03T18:05:31.533Z"
   },
   {
    "duration": 20,
    "start_time": "2023-05-03T18:05:32.191Z"
   },
   {
    "duration": 14,
    "start_time": "2023-05-03T18:05:32.213Z"
   },
   {
    "duration": 294,
    "start_time": "2023-05-03T18:05:32.229Z"
   },
   {
    "duration": 7,
    "start_time": "2023-05-03T18:05:32.524Z"
   },
   {
    "duration": 8,
    "start_time": "2023-05-03T18:05:32.533Z"
   },
   {
    "duration": 24,
    "start_time": "2023-05-03T18:05:32.543Z"
   },
   {
    "duration": 264,
    "start_time": "2023-05-03T18:05:32.570Z"
   },
   {
    "duration": 6,
    "start_time": "2023-05-03T18:05:32.836Z"
   },
   {
    "duration": 29,
    "start_time": "2023-05-03T18:05:32.844Z"
   },
   {
    "duration": 281,
    "start_time": "2023-05-03T18:10:13.630Z"
   },
   {
    "duration": 686,
    "start_time": "2023-05-03T18:10:23.308Z"
   },
   {
    "duration": 51,
    "start_time": "2023-05-03T18:10:23.996Z"
   },
   {
    "duration": 20,
    "start_time": "2023-05-03T18:10:24.049Z"
   },
   {
    "duration": 16,
    "start_time": "2023-05-03T18:10:24.070Z"
   },
   {
    "duration": 5,
    "start_time": "2023-05-03T18:10:24.088Z"
   },
   {
    "duration": 28,
    "start_time": "2023-05-03T18:10:24.094Z"
   },
   {
    "duration": 13,
    "start_time": "2023-05-03T18:10:24.123Z"
   },
   {
    "duration": 5,
    "start_time": "2023-05-03T18:10:24.137Z"
   },
   {
    "duration": 8,
    "start_time": "2023-05-03T18:10:24.143Z"
   },
   {
    "duration": 5,
    "start_time": "2023-05-03T18:10:24.152Z"
   },
   {
    "duration": 74,
    "start_time": "2023-05-03T18:10:24.159Z"
   },
   {
    "duration": 55,
    "start_time": "2023-05-03T18:10:24.235Z"
   },
   {
    "duration": 4,
    "start_time": "2023-05-03T18:10:24.292Z"
   },
   {
    "duration": 5,
    "start_time": "2023-05-03T18:10:24.312Z"
   },
   {
    "duration": 18,
    "start_time": "2023-05-03T18:10:24.318Z"
   },
   {
    "duration": 14,
    "start_time": "2023-05-03T18:10:24.337Z"
   },
   {
    "duration": 32,
    "start_time": "2023-05-03T18:10:24.352Z"
   },
   {
    "duration": 42,
    "start_time": "2023-05-03T18:10:24.385Z"
   },
   {
    "duration": 392,
    "start_time": "2023-05-03T18:10:24.430Z"
   },
   {
    "duration": 6,
    "start_time": "2023-05-03T18:10:24.824Z"
   },
   {
    "duration": 381,
    "start_time": "2023-05-03T18:10:24.832Z"
   },
   {
    "duration": 8,
    "start_time": "2023-05-03T18:10:25.215Z"
   },
   {
    "duration": 6,
    "start_time": "2023-05-03T18:10:25.224Z"
   },
   {
    "duration": 365,
    "start_time": "2023-05-03T18:10:25.232Z"
   },
   {
    "duration": 13,
    "start_time": "2023-05-03T18:10:25.599Z"
   },
   {
    "duration": 8,
    "start_time": "2023-05-03T18:10:25.614Z"
   },
   {
    "duration": 7,
    "start_time": "2023-05-03T18:10:25.624Z"
   },
   {
    "duration": 261,
    "start_time": "2023-05-03T18:10:25.633Z"
   },
   {
    "duration": 6,
    "start_time": "2023-05-03T18:10:25.896Z"
   },
   {
    "duration": 26,
    "start_time": "2023-05-03T18:10:25.911Z"
   },
   {
    "duration": 611,
    "start_time": "2023-05-03T18:15:50.873Z"
   },
   {
    "duration": 52,
    "start_time": "2023-05-03T18:15:51.486Z"
   },
   {
    "duration": 20,
    "start_time": "2023-05-03T18:15:51.540Z"
   },
   {
    "duration": 35,
    "start_time": "2023-05-03T18:15:51.562Z"
   },
   {
    "duration": 23,
    "start_time": "2023-05-03T18:15:51.599Z"
   },
   {
    "duration": 24,
    "start_time": "2023-05-03T18:15:51.623Z"
   },
   {
    "duration": 14,
    "start_time": "2023-05-03T18:15:51.649Z"
   },
   {
    "duration": 5,
    "start_time": "2023-05-03T18:15:51.665Z"
   },
   {
    "duration": 13,
    "start_time": "2023-05-03T18:15:51.672Z"
   },
   {
    "duration": 7,
    "start_time": "2023-05-03T18:15:51.688Z"
   },
   {
    "duration": 50,
    "start_time": "2023-05-03T18:15:51.696Z"
   },
   {
    "duration": 52,
    "start_time": "2023-05-03T18:15:51.748Z"
   },
   {
    "duration": 5,
    "start_time": "2023-05-03T18:15:51.811Z"
   },
   {
    "duration": 9,
    "start_time": "2023-05-03T18:15:51.818Z"
   },
   {
    "duration": 24,
    "start_time": "2023-05-03T18:15:51.828Z"
   },
   {
    "duration": 21,
    "start_time": "2023-05-03T18:15:51.854Z"
   },
   {
    "duration": 40,
    "start_time": "2023-05-03T18:15:51.876Z"
   },
   {
    "duration": 17,
    "start_time": "2023-05-03T18:15:51.917Z"
   },
   {
    "duration": 389,
    "start_time": "2023-05-03T18:15:51.936Z"
   },
   {
    "duration": 8,
    "start_time": "2023-05-03T18:15:52.326Z"
   },
   {
    "duration": 396,
    "start_time": "2023-05-03T18:15:52.336Z"
   },
   {
    "duration": 8,
    "start_time": "2023-05-03T18:15:52.734Z"
   },
   {
    "duration": 39,
    "start_time": "2023-05-03T18:15:52.744Z"
   },
   {
    "duration": 365,
    "start_time": "2023-05-03T18:15:52.785Z"
   },
   {
    "duration": 7,
    "start_time": "2023-05-03T18:15:53.151Z"
   },
   {
    "duration": 7,
    "start_time": "2023-05-03T18:15:53.160Z"
   },
   {
    "duration": 16,
    "start_time": "2023-05-03T18:15:53.169Z"
   },
   {
    "duration": 269,
    "start_time": "2023-05-03T18:15:53.187Z"
   },
   {
    "duration": 5,
    "start_time": "2023-05-03T18:15:53.458Z"
   },
   {
    "duration": 39,
    "start_time": "2023-05-03T18:15:53.465Z"
   },
   {
    "duration": 646,
    "start_time": "2023-05-03T18:16:34.727Z"
   },
   {
    "duration": 57,
    "start_time": "2023-05-03T18:16:35.375Z"
   },
   {
    "duration": 20,
    "start_time": "2023-05-03T18:16:35.434Z"
   },
   {
    "duration": 14,
    "start_time": "2023-05-03T18:16:35.456Z"
   },
   {
    "duration": 5,
    "start_time": "2023-05-03T18:16:35.472Z"
   },
   {
    "duration": 53,
    "start_time": "2023-05-03T18:16:35.479Z"
   },
   {
    "duration": 12,
    "start_time": "2023-05-03T18:16:35.533Z"
   },
   {
    "duration": 4,
    "start_time": "2023-05-03T18:16:35.547Z"
   },
   {
    "duration": 9,
    "start_time": "2023-05-03T18:16:35.553Z"
   },
   {
    "duration": 10,
    "start_time": "2023-05-03T18:16:35.563Z"
   },
   {
    "duration": 64,
    "start_time": "2023-05-03T18:16:35.575Z"
   },
   {
    "duration": 53,
    "start_time": "2023-05-03T18:16:35.640Z"
   },
   {
    "duration": 5,
    "start_time": "2023-05-03T18:16:35.695Z"
   },
   {
    "duration": 31,
    "start_time": "2023-05-03T18:16:35.701Z"
   },
   {
    "duration": 17,
    "start_time": "2023-05-03T18:16:35.734Z"
   },
   {
    "duration": 12,
    "start_time": "2023-05-03T18:16:35.753Z"
   },
   {
    "duration": 29,
    "start_time": "2023-05-03T18:16:35.766Z"
   },
   {
    "duration": 28,
    "start_time": "2023-05-03T18:16:35.797Z"
   },
   {
    "duration": 396,
    "start_time": "2023-05-03T18:16:35.827Z"
   },
   {
    "duration": 6,
    "start_time": "2023-05-03T18:16:36.225Z"
   },
   {
    "duration": 428,
    "start_time": "2023-05-03T18:16:36.233Z"
   },
   {
    "duration": 8,
    "start_time": "2023-05-03T18:16:36.663Z"
   },
   {
    "duration": 19,
    "start_time": "2023-05-03T18:16:36.673Z"
   },
   {
    "duration": 386,
    "start_time": "2023-05-03T18:16:36.694Z"
   },
   {
    "duration": 6,
    "start_time": "2023-05-03T18:16:37.082Z"
   },
   {
    "duration": 6,
    "start_time": "2023-05-03T18:16:37.090Z"
   },
   {
    "duration": 19,
    "start_time": "2023-05-03T18:16:37.112Z"
   },
   {
    "duration": 311,
    "start_time": "2023-05-03T18:16:37.133Z"
   },
   {
    "duration": 6,
    "start_time": "2023-05-03T18:16:37.445Z"
   },
   {
    "duration": 27,
    "start_time": "2023-05-03T18:16:37.453Z"
   },
   {
    "duration": 645,
    "start_time": "2023-05-03T18:18:05.686Z"
   },
   {
    "duration": 51,
    "start_time": "2023-05-03T18:18:06.334Z"
   },
   {
    "duration": 20,
    "start_time": "2023-05-03T18:18:06.387Z"
   },
   {
    "duration": 26,
    "start_time": "2023-05-03T18:18:06.409Z"
   },
   {
    "duration": 6,
    "start_time": "2023-05-03T18:18:06.437Z"
   },
   {
    "duration": 15,
    "start_time": "2023-05-03T18:18:06.444Z"
   },
   {
    "duration": 20,
    "start_time": "2023-05-03T18:18:06.461Z"
   },
   {
    "duration": 3,
    "start_time": "2023-05-03T18:18:06.483Z"
   },
   {
    "duration": 7,
    "start_time": "2023-05-03T18:18:06.516Z"
   },
   {
    "duration": 5,
    "start_time": "2023-05-03T18:18:06.529Z"
   },
   {
    "duration": 44,
    "start_time": "2023-05-03T18:18:06.535Z"
   },
   {
    "duration": 78,
    "start_time": "2023-05-03T18:18:06.581Z"
   },
   {
    "duration": 6,
    "start_time": "2023-05-03T18:18:06.661Z"
   },
   {
    "duration": 30,
    "start_time": "2023-05-03T18:18:06.668Z"
   },
   {
    "duration": 24,
    "start_time": "2023-05-03T18:18:06.700Z"
   },
   {
    "duration": 14,
    "start_time": "2023-05-03T18:18:06.726Z"
   },
   {
    "duration": 51,
    "start_time": "2023-05-03T18:18:06.742Z"
   },
   {
    "duration": 32,
    "start_time": "2023-05-03T18:18:06.795Z"
   },
   {
    "duration": 394,
    "start_time": "2023-05-03T18:18:06.829Z"
   },
   {
    "duration": 8,
    "start_time": "2023-05-03T18:18:07.224Z"
   },
   {
    "duration": 395,
    "start_time": "2023-05-03T18:18:07.234Z"
   },
   {
    "duration": 8,
    "start_time": "2023-05-03T18:18:07.632Z"
   },
   {
    "duration": 7,
    "start_time": "2023-05-03T18:18:07.642Z"
   },
   {
    "duration": 381,
    "start_time": "2023-05-03T18:18:07.650Z"
   },
   {
    "duration": 6,
    "start_time": "2023-05-03T18:18:08.033Z"
   },
   {
    "duration": 8,
    "start_time": "2023-05-03T18:18:08.041Z"
   },
   {
    "duration": 7,
    "start_time": "2023-05-03T18:18:08.051Z"
   },
   {
    "duration": 290,
    "start_time": "2023-05-03T18:18:08.061Z"
   },
   {
    "duration": 7,
    "start_time": "2023-05-03T18:18:08.353Z"
   },
   {
    "duration": 27,
    "start_time": "2023-05-03T18:18:08.362Z"
   },
   {
    "duration": 657,
    "start_time": "2023-05-03T18:40:03.809Z"
   },
   {
    "duration": 55,
    "start_time": "2023-05-03T18:40:04.468Z"
   },
   {
    "duration": 22,
    "start_time": "2023-05-03T18:40:04.525Z"
   },
   {
    "duration": 18,
    "start_time": "2023-05-03T18:40:04.550Z"
   },
   {
    "duration": 6,
    "start_time": "2023-05-03T18:40:04.570Z"
   },
   {
    "duration": 43,
    "start_time": "2023-05-03T18:40:04.578Z"
   },
   {
    "duration": 17,
    "start_time": "2023-05-03T18:40:04.622Z"
   },
   {
    "duration": 4,
    "start_time": "2023-05-03T18:40:04.640Z"
   },
   {
    "duration": 10,
    "start_time": "2023-05-03T18:40:04.646Z"
   },
   {
    "duration": 9,
    "start_time": "2023-05-03T18:40:04.659Z"
   },
   {
    "duration": 63,
    "start_time": "2023-05-03T18:40:04.669Z"
   },
   {
    "duration": 55,
    "start_time": "2023-05-03T18:40:04.734Z"
   },
   {
    "duration": 5,
    "start_time": "2023-05-03T18:40:04.791Z"
   },
   {
    "duration": 15,
    "start_time": "2023-05-03T18:40:04.797Z"
   },
   {
    "duration": 16,
    "start_time": "2023-05-03T18:40:04.814Z"
   },
   {
    "duration": 14,
    "start_time": "2023-05-03T18:40:04.831Z"
   },
   {
    "duration": 66,
    "start_time": "2023-05-03T18:40:04.847Z"
   },
   {
    "duration": 17,
    "start_time": "2023-05-03T18:40:04.915Z"
   },
   {
    "duration": 391,
    "start_time": "2023-05-03T18:40:04.934Z"
   },
   {
    "duration": 8,
    "start_time": "2023-05-03T18:40:05.326Z"
   },
   {
    "duration": 381,
    "start_time": "2023-05-03T18:40:05.335Z"
   },
   {
    "duration": 7,
    "start_time": "2023-05-03T18:40:05.717Z"
   },
   {
    "duration": 24,
    "start_time": "2023-05-03T18:40:05.726Z"
   },
   {
    "duration": 313,
    "start_time": "2023-05-03T18:40:05.751Z"
   },
   {
    "duration": 20,
    "start_time": "2023-05-03T18:40:06.066Z"
   },
   {
    "duration": 6,
    "start_time": "2023-05-03T18:40:55.590Z"
   },
   {
    "duration": 8,
    "start_time": "2023-05-03T18:40:56.830Z"
   },
   {
    "duration": 250,
    "start_time": "2023-05-03T18:41:02.269Z"
   },
   {
    "duration": 273,
    "start_time": "2023-05-03T18:42:23.308Z"
   },
   {
    "duration": 106,
    "start_time": "2023-05-03T18:59:01.182Z"
   },
   {
    "duration": 184,
    "start_time": "2023-05-03T18:59:09.402Z"
   },
   {
    "duration": 192,
    "start_time": "2023-05-03T18:59:19.735Z"
   },
   {
    "duration": 155,
    "start_time": "2023-05-03T19:01:22.151Z"
   },
   {
    "duration": 160,
    "start_time": "2023-05-03T19:02:17.237Z"
   },
   {
    "duration": 161,
    "start_time": "2023-05-03T19:02:28.723Z"
   },
   {
    "duration": 210,
    "start_time": "2023-05-03T19:08:28.896Z"
   },
   {
    "duration": 167,
    "start_time": "2023-05-03T19:08:43.953Z"
   },
   {
    "duration": 162,
    "start_time": "2023-05-03T19:11:01.051Z"
   },
   {
    "duration": 254,
    "start_time": "2023-05-03T19:31:31.322Z"
   },
   {
    "duration": 176,
    "start_time": "2023-05-03T19:32:46.774Z"
   },
   {
    "duration": 175,
    "start_time": "2023-05-03T19:38:02.398Z"
   },
   {
    "duration": 5,
    "start_time": "2023-05-03T19:38:09.650Z"
   },
   {
    "duration": 11,
    "start_time": "2023-05-03T19:50:20.044Z"
   },
   {
    "duration": 172,
    "start_time": "2023-05-03T19:50:33.663Z"
   },
   {
    "duration": 4,
    "start_time": "2023-05-03T19:50:42.005Z"
   },
   {
    "duration": 195,
    "start_time": "2023-05-03T19:51:48.087Z"
   },
   {
    "duration": 180,
    "start_time": "2023-05-03T19:52:00.357Z"
   },
   {
    "duration": 5,
    "start_time": "2023-05-03T19:52:16.843Z"
   },
   {
    "duration": 838,
    "start_time": "2023-05-04T05:35:39.683Z"
   },
   {
    "duration": 188,
    "start_time": "2023-05-04T05:35:40.523Z"
   },
   {
    "duration": 21,
    "start_time": "2023-05-04T05:35:40.713Z"
   },
   {
    "duration": 17,
    "start_time": "2023-05-04T05:35:40.735Z"
   },
   {
    "duration": 9,
    "start_time": "2023-05-04T05:35:40.753Z"
   },
   {
    "duration": 54,
    "start_time": "2023-05-04T05:35:40.763Z"
   },
   {
    "duration": 46,
    "start_time": "2023-05-04T05:35:40.818Z"
   },
   {
    "duration": 30,
    "start_time": "2023-05-04T05:35:40.865Z"
   },
   {
    "duration": 10,
    "start_time": "2023-05-04T05:35:40.896Z"
   },
   {
    "duration": 10,
    "start_time": "2023-05-04T05:35:40.909Z"
   },
   {
    "duration": 15,
    "start_time": "2023-05-04T05:35:40.921Z"
   },
   {
    "duration": 16,
    "start_time": "2023-05-04T05:35:40.937Z"
   },
   {
    "duration": 23,
    "start_time": "2023-05-04T05:35:40.954Z"
   },
   {
    "duration": 18,
    "start_time": "2023-05-04T05:35:40.979Z"
   },
   {
    "duration": 31,
    "start_time": "2023-05-04T05:35:40.998Z"
   },
   {
    "duration": 16,
    "start_time": "2023-05-04T05:35:41.031Z"
   },
   {
    "duration": 329,
    "start_time": "2023-05-04T05:35:41.048Z"
   },
   {
    "duration": 6,
    "start_time": "2023-05-04T05:35:41.382Z"
   },
   {
    "duration": 351,
    "start_time": "2023-05-04T05:35:41.389Z"
   },
   {
    "duration": 7,
    "start_time": "2023-05-04T05:35:41.741Z"
   },
   {
    "duration": 15,
    "start_time": "2023-05-04T05:35:41.749Z"
   },
   {
    "duration": 12,
    "start_time": "2023-05-04T05:35:41.766Z"
   },
   {
    "duration": 285,
    "start_time": "2023-05-04T05:35:41.779Z"
   },
   {
    "duration": 30,
    "start_time": "2023-05-04T05:35:42.065Z"
   },
   {
    "duration": 156,
    "start_time": "2023-05-04T05:35:42.097Z"
   },
   {
    "duration": 152,
    "start_time": "2023-05-04T05:35:42.254Z"
   },
   {
    "duration": 5,
    "start_time": "2023-05-04T05:35:42.407Z"
   },
   {
    "duration": 150,
    "start_time": "2023-05-04T05:35:42.415Z"
   },
   {
    "duration": 5,
    "start_time": "2023-05-04T05:35:42.566Z"
   },
   {
    "duration": 685,
    "start_time": "2023-05-04T05:52:09.046Z"
   },
   {
    "duration": 64,
    "start_time": "2023-05-04T05:52:09.733Z"
   },
   {
    "duration": 28,
    "start_time": "2023-05-04T05:52:09.800Z"
   },
   {
    "duration": 53,
    "start_time": "2023-05-04T05:52:09.830Z"
   },
   {
    "duration": 34,
    "start_time": "2023-05-04T05:52:09.885Z"
   },
   {
    "duration": 41,
    "start_time": "2023-05-04T05:52:09.921Z"
   },
   {
    "duration": 27,
    "start_time": "2023-05-04T05:52:09.964Z"
   },
   {
    "duration": 12,
    "start_time": "2023-05-04T05:52:09.993Z"
   },
   {
    "duration": 39,
    "start_time": "2023-05-04T05:52:10.007Z"
   },
   {
    "duration": 37,
    "start_time": "2023-05-04T05:52:10.049Z"
   },
   {
    "duration": 81,
    "start_time": "2023-05-04T05:52:10.088Z"
   },
   {
    "duration": 61,
    "start_time": "2023-05-04T05:52:10.171Z"
   },
   {
    "duration": 6,
    "start_time": "2023-05-04T05:52:10.234Z"
   },
   {
    "duration": 46,
    "start_time": "2023-05-04T05:52:10.242Z"
   },
   {
    "duration": 46,
    "start_time": "2023-05-04T05:52:10.290Z"
   },
   {
    "duration": 35,
    "start_time": "2023-05-04T05:52:10.338Z"
   },
   {
    "duration": 54,
    "start_time": "2023-05-04T05:52:10.375Z"
   },
   {
    "duration": 16,
    "start_time": "2023-05-04T05:52:10.431Z"
   },
   {
    "duration": 368,
    "start_time": "2023-05-04T05:52:10.449Z"
   },
   {
    "duration": 9,
    "start_time": "2023-05-04T05:52:10.819Z"
   },
   {
    "duration": 416,
    "start_time": "2023-05-04T05:52:10.829Z"
   },
   {
    "duration": 7,
    "start_time": "2023-05-04T05:52:11.247Z"
   },
   {
    "duration": 38,
    "start_time": "2023-05-04T05:52:11.255Z"
   },
   {
    "duration": 31,
    "start_time": "2023-05-04T05:52:11.295Z"
   },
   {
    "duration": 335,
    "start_time": "2023-05-04T05:52:11.328Z"
   },
   {
    "duration": 33,
    "start_time": "2023-05-04T05:52:11.665Z"
   },
   {
    "duration": 175,
    "start_time": "2023-05-04T05:52:11.699Z"
   },
   {
    "duration": 199,
    "start_time": "2023-05-04T05:52:11.882Z"
   },
   {
    "duration": 6,
    "start_time": "2023-05-04T05:52:12.083Z"
   },
   {
    "duration": 194,
    "start_time": "2023-05-04T05:52:12.091Z"
   },
   {
    "duration": 5,
    "start_time": "2023-05-04T05:52:12.287Z"
   },
   {
    "duration": 212,
    "start_time": "2023-05-04T06:00:18.994Z"
   },
   {
    "duration": 175,
    "start_time": "2023-05-04T06:01:01.308Z"
   },
   {
    "duration": 147,
    "start_time": "2023-05-04T06:01:16.717Z"
   },
   {
    "duration": 77,
    "start_time": "2023-05-04T06:06:39.375Z"
   },
   {
    "duration": 11890,
    "start_time": "2023-05-04T06:10:43.874Z"
   },
   {
    "duration": 33,
    "start_time": "2023-05-04T06:11:43.239Z"
   },
   {
    "duration": 381,
    "start_time": "2023-05-04T06:12:00.646Z"
   },
   {
    "duration": 295,
    "start_time": "2023-05-04T06:12:24.372Z"
   },
   {
    "duration": 14,
    "start_time": "2023-05-04T06:13:06.192Z"
   },
   {
    "duration": 360,
    "start_time": "2023-05-04T06:13:41.856Z"
   },
   {
    "duration": 364,
    "start_time": "2023-05-04T06:13:59.494Z"
   },
   {
    "duration": 264,
    "start_time": "2023-05-04T06:16:48.464Z"
   },
   {
    "duration": 391,
    "start_time": "2023-05-04T06:17:22.195Z"
   },
   {
    "duration": 22,
    "start_time": "2023-05-04T06:55:46.714Z"
   },
   {
    "duration": 369,
    "start_time": "2023-05-04T06:56:18.174Z"
   },
   {
    "duration": 272,
    "start_time": "2023-05-04T06:56:43.694Z"
   },
   {
    "duration": 509,
    "start_time": "2023-05-04T06:57:25.982Z"
   },
   {
    "duration": 23,
    "start_time": "2023-05-04T06:58:17.016Z"
   },
   {
    "duration": 268,
    "start_time": "2023-05-04T06:58:48.826Z"
   },
   {
    "duration": 668,
    "start_time": "2023-05-04T07:03:49.943Z"
   },
   {
    "duration": 49,
    "start_time": "2023-05-04T07:03:50.613Z"
   },
   {
    "duration": 26,
    "start_time": "2023-05-04T07:03:50.664Z"
   },
   {
    "duration": 37,
    "start_time": "2023-05-04T07:03:50.693Z"
   },
   {
    "duration": 31,
    "start_time": "2023-05-04T07:03:50.732Z"
   },
   {
    "duration": 55,
    "start_time": "2023-05-04T07:03:50.765Z"
   },
   {
    "duration": 25,
    "start_time": "2023-05-04T07:03:50.822Z"
   },
   {
    "duration": 18,
    "start_time": "2023-05-04T07:03:50.849Z"
   },
   {
    "duration": 20,
    "start_time": "2023-05-04T07:03:50.869Z"
   },
   {
    "duration": 17,
    "start_time": "2023-05-04T07:03:50.892Z"
   },
   {
    "duration": 67,
    "start_time": "2023-05-04T07:03:50.910Z"
   },
   {
    "duration": 48,
    "start_time": "2023-05-04T07:03:50.979Z"
   },
   {
    "duration": 4,
    "start_time": "2023-05-04T07:03:51.029Z"
   },
   {
    "duration": 31,
    "start_time": "2023-05-04T07:03:51.035Z"
   },
   {
    "duration": 40,
    "start_time": "2023-05-04T07:03:51.068Z"
   },
   {
    "duration": 17,
    "start_time": "2023-05-04T07:03:51.111Z"
   },
   {
    "duration": 41,
    "start_time": "2023-05-04T07:03:51.130Z"
   },
   {
    "duration": 18,
    "start_time": "2023-05-04T07:03:51.184Z"
   },
   {
    "duration": 415,
    "start_time": "2023-05-04T07:03:51.204Z"
   },
   {
    "duration": 3,
    "start_time": "2023-05-04T07:03:51.621Z"
   },
   {
    "duration": 26,
    "start_time": "2023-05-04T07:03:51.625Z"
   },
   {
    "duration": 392,
    "start_time": "2023-05-04T07:03:51.652Z"
   },
   {
    "duration": 8,
    "start_time": "2023-05-04T07:03:52.047Z"
   },
   {
    "duration": 64,
    "start_time": "2023-05-04T07:03:52.057Z"
   },
   {
    "duration": 13,
    "start_time": "2023-05-04T07:03:52.123Z"
   },
   {
    "duration": 298,
    "start_time": "2023-05-04T07:03:52.137Z"
   },
   {
    "duration": 20,
    "start_time": "2023-05-04T07:03:52.437Z"
   },
   {
    "duration": 202,
    "start_time": "2023-05-04T07:03:52.460Z"
   },
   {
    "duration": 194,
    "start_time": "2023-05-04T07:03:52.663Z"
   },
   {
    "duration": 4,
    "start_time": "2023-05-04T07:03:52.859Z"
   },
   {
    "duration": 239,
    "start_time": "2023-05-04T07:03:52.865Z"
   },
   {
    "duration": 4,
    "start_time": "2023-05-04T07:03:53.106Z"
   },
   {
    "duration": 321,
    "start_time": "2023-05-04T07:03:53.112Z"
   },
   {
    "duration": 295,
    "start_time": "2023-05-04T07:03:53.436Z"
   },
   {
    "duration": 119,
    "start_time": "2023-05-04T07:08:13.150Z"
   },
   {
    "duration": 220,
    "start_time": "2023-05-04T07:08:27.182Z"
   },
   {
    "duration": 257,
    "start_time": "2023-05-04T07:08:39.143Z"
   },
   {
    "duration": 168,
    "start_time": "2023-05-04T07:10:06.850Z"
   },
   {
    "duration": 191,
    "start_time": "2023-05-04T07:10:42.882Z"
   },
   {
    "duration": 247,
    "start_time": "2023-05-04T07:10:53.658Z"
   },
   {
    "duration": 192,
    "start_time": "2023-05-04T07:13:43.094Z"
   },
   {
    "duration": 891,
    "start_time": "2023-05-04T07:13:56.886Z"
   },
   {
    "duration": 19,
    "start_time": "2023-05-04T07:14:14.216Z"
   },
   {
    "duration": 25,
    "start_time": "2023-05-04T07:15:12.188Z"
   },
   {
    "duration": 208,
    "start_time": "2023-05-04T07:19:49.879Z"
   },
   {
    "duration": 20,
    "start_time": "2023-05-04T07:20:13.445Z"
   },
   {
    "duration": 21,
    "start_time": "2023-05-04T07:20:41.403Z"
   },
   {
    "duration": 18,
    "start_time": "2023-05-04T07:21:24.388Z"
   },
   {
    "duration": 216,
    "start_time": "2023-05-04T07:27:23.969Z"
   },
   {
    "duration": 217,
    "start_time": "2023-05-04T07:27:44.969Z"
   },
   {
    "duration": 143,
    "start_time": "2023-05-04T07:28:40.500Z"
   },
   {
    "duration": 143,
    "start_time": "2023-05-04T07:31:49.323Z"
   },
   {
    "duration": 191,
    "start_time": "2023-05-04T07:32:06.495Z"
   },
   {
    "duration": 164,
    "start_time": "2023-05-04T07:32:34.358Z"
   },
   {
    "duration": 18,
    "start_time": "2023-05-04T07:38:14.055Z"
   },
   {
    "duration": 170,
    "start_time": "2023-05-04T07:38:37.277Z"
   },
   {
    "duration": 207,
    "start_time": "2023-05-04T07:38:49.855Z"
   },
   {
    "duration": 142,
    "start_time": "2023-05-04T07:39:35.201Z"
   },
   {
    "duration": 79,
    "start_time": "2023-05-04T07:39:47.195Z"
   },
   {
    "duration": 222,
    "start_time": "2023-05-04T07:39:59.985Z"
   },
   {
    "duration": 180,
    "start_time": "2023-05-04T07:40:43.945Z"
   },
   {
    "duration": 188,
    "start_time": "2023-05-04T07:43:31.329Z"
   },
   {
    "duration": 327,
    "start_time": "2023-05-04T07:49:29.983Z"
   },
   {
    "duration": 4,
    "start_time": "2023-05-04T08:02:15.525Z"
   },
   {
    "duration": 5,
    "start_time": "2023-05-04T08:02:27.041Z"
   },
   {
    "duration": 10,
    "start_time": "2023-05-04T08:02:58.208Z"
   },
   {
    "duration": 17,
    "start_time": "2023-05-04T08:04:48.256Z"
   },
   {
    "duration": 11,
    "start_time": "2023-05-04T08:04:58.344Z"
   },
   {
    "duration": 10,
    "start_time": "2023-05-04T08:07:08.039Z"
   },
   {
    "duration": 9,
    "start_time": "2023-05-04T08:07:35.733Z"
   },
   {
    "duration": 7,
    "start_time": "2023-05-04T08:09:38.638Z"
   },
   {
    "duration": 10,
    "start_time": "2023-05-04T08:10:42.480Z"
   },
   {
    "duration": 8,
    "start_time": "2023-05-04T08:24:52.689Z"
   },
   {
    "duration": 8,
    "start_time": "2023-05-04T08:26:38.917Z"
   },
   {
    "duration": 8,
    "start_time": "2023-05-04T08:28:28.548Z"
   },
   {
    "duration": 8,
    "start_time": "2023-05-04T08:29:50.805Z"
   },
   {
    "duration": 7,
    "start_time": "2023-05-04T08:30:56.112Z"
   },
   {
    "duration": 8,
    "start_time": "2023-05-04T08:31:18.864Z"
   },
   {
    "duration": 9,
    "start_time": "2023-05-04T08:31:44.387Z"
   },
   {
    "duration": 8,
    "start_time": "2023-05-04T08:33:57.771Z"
   },
   {
    "duration": 9,
    "start_time": "2023-05-04T08:34:10.057Z"
   },
   {
    "duration": 10,
    "start_time": "2023-05-04T08:34:22.819Z"
   },
   {
    "duration": 176,
    "start_time": "2023-05-04T08:59:25.809Z"
   },
   {
    "duration": 122,
    "start_time": "2023-05-04T08:59:37.213Z"
   },
   {
    "duration": 141,
    "start_time": "2023-05-04T09:01:37.737Z"
   },
   {
    "duration": 106,
    "start_time": "2023-05-04T09:01:44.318Z"
   },
   {
    "duration": 133,
    "start_time": "2023-05-04T09:03:34.580Z"
   },
   {
    "duration": 82,
    "start_time": "2023-05-04T09:05:52.352Z"
   },
   {
    "duration": 132,
    "start_time": "2023-05-04T09:07:31.887Z"
   },
   {
    "duration": 164,
    "start_time": "2023-05-04T09:15:17.206Z"
   },
   {
    "duration": 192,
    "start_time": "2023-05-04T09:16:19.884Z"
   },
   {
    "duration": 179,
    "start_time": "2023-05-04T09:18:15.110Z"
   },
   {
    "duration": 170,
    "start_time": "2023-05-04T09:18:46.322Z"
   },
   {
    "duration": 799,
    "start_time": "2023-05-04T09:36:40.707Z"
   },
   {
    "duration": 55,
    "start_time": "2023-05-04T09:36:41.508Z"
   },
   {
    "duration": 21,
    "start_time": "2023-05-04T09:36:41.565Z"
   },
   {
    "duration": 16,
    "start_time": "2023-05-04T09:36:41.588Z"
   },
   {
    "duration": 31,
    "start_time": "2023-05-04T09:36:41.606Z"
   },
   {
    "duration": 40,
    "start_time": "2023-05-04T09:36:41.639Z"
   },
   {
    "duration": 29,
    "start_time": "2023-05-04T09:36:41.681Z"
   },
   {
    "duration": 42,
    "start_time": "2023-05-04T09:36:41.712Z"
   },
   {
    "duration": 25,
    "start_time": "2023-05-04T09:36:41.756Z"
   },
   {
    "duration": 19,
    "start_time": "2023-05-04T09:36:41.784Z"
   },
   {
    "duration": 75,
    "start_time": "2023-05-04T09:36:41.804Z"
   },
   {
    "duration": 47,
    "start_time": "2023-05-04T09:36:41.881Z"
   },
   {
    "duration": 4,
    "start_time": "2023-05-04T09:36:41.930Z"
   },
   {
    "duration": 27,
    "start_time": "2023-05-04T09:36:41.935Z"
   },
   {
    "duration": 33,
    "start_time": "2023-05-04T09:36:41.964Z"
   },
   {
    "duration": 12,
    "start_time": "2023-05-04T09:36:41.999Z"
   },
   {
    "duration": 37,
    "start_time": "2023-05-04T09:36:42.013Z"
   },
   {
    "duration": 33,
    "start_time": "2023-05-04T09:36:42.052Z"
   },
   {
    "duration": 352,
    "start_time": "2023-05-04T09:36:42.087Z"
   },
   {
    "duration": 3,
    "start_time": "2023-05-04T09:36:42.440Z"
   },
   {
    "duration": 17,
    "start_time": "2023-05-04T09:36:42.444Z"
   },
   {
    "duration": 393,
    "start_time": "2023-05-04T09:36:42.463Z"
   },
   {
    "duration": 7,
    "start_time": "2023-05-04T09:36:42.859Z"
   },
   {
    "duration": 44,
    "start_time": "2023-05-04T09:36:42.868Z"
   },
   {
    "duration": 15,
    "start_time": "2023-05-04T09:36:42.914Z"
   },
   {
    "duration": 328,
    "start_time": "2023-05-04T09:36:42.931Z"
   },
   {
    "duration": 31,
    "start_time": "2023-05-04T09:36:43.261Z"
   },
   {
    "duration": 191,
    "start_time": "2023-05-04T09:36:43.295Z"
   },
   {
    "duration": 170,
    "start_time": "2023-05-04T09:36:43.487Z"
   },
   {
    "duration": 5,
    "start_time": "2023-05-04T09:36:43.659Z"
   },
   {
    "duration": 199,
    "start_time": "2023-05-04T09:36:43.665Z"
   },
   {
    "duration": 5,
    "start_time": "2023-05-04T09:36:43.866Z"
   },
   {
    "duration": 191,
    "start_time": "2023-05-04T09:36:43.882Z"
   },
   {
    "duration": 170,
    "start_time": "2023-05-04T09:36:44.075Z"
   },
   {
    "duration": 157,
    "start_time": "2023-05-04T09:36:44.246Z"
   },
   {
    "duration": 174,
    "start_time": "2023-05-04T09:36:44.405Z"
   },
   {
    "duration": 253,
    "start_time": "2023-05-04T09:36:44.580Z"
   },
   {
    "duration": 259,
    "start_time": "2023-05-04T09:36:44.835Z"
   },
   {
    "duration": 156,
    "start_time": "2023-05-04T09:36:45.096Z"
   },
   {
    "duration": 9,
    "start_time": "2023-05-04T09:36:45.254Z"
   },
   {
    "duration": 235,
    "start_time": "2023-05-04T09:36:45.264Z"
   },
   {
    "duration": 7,
    "start_time": "2023-05-04T09:36:45.500Z"
   },
   {
    "duration": 156,
    "start_time": "2023-05-04T09:36:45.509Z"
   },
   {
    "duration": 7,
    "start_time": "2023-05-04T09:36:45.667Z"
   },
   {
    "duration": 216,
    "start_time": "2023-05-04T09:36:45.683Z"
   },
   {
    "duration": 11,
    "start_time": "2023-05-04T09:36:45.901Z"
   },
   {
    "duration": 251,
    "start_time": "2023-05-04T09:36:45.915Z"
   },
   {
    "duration": 18,
    "start_time": "2023-05-04T09:36:46.168Z"
   },
   {
    "duration": 238,
    "start_time": "2023-05-04T09:36:46.188Z"
   },
   {
    "duration": 7,
    "start_time": "2023-05-04T09:36:46.428Z"
   },
   {
    "duration": 129,
    "start_time": "2023-05-04T09:36:46.437Z"
   },
   {
    "duration": 143,
    "start_time": "2023-05-04T09:36:46.568Z"
   },
   {
    "duration": 123,
    "start_time": "2023-05-04T09:36:46.713Z"
   },
   {
    "duration": 515,
    "start_time": "2023-05-04T09:47:38.243Z"
   },
   {
    "duration": 14,
    "start_time": "2023-05-04T09:52:06.067Z"
   },
   {
    "duration": 7,
    "start_time": "2023-05-04T09:52:07.969Z"
   },
   {
    "duration": 6,
    "start_time": "2023-05-04T09:53:52.610Z"
   },
   {
    "duration": 7,
    "start_time": "2023-05-04T09:54:23.687Z"
   },
   {
    "duration": 6,
    "start_time": "2023-05-04T09:54:25.159Z"
   },
   {
    "duration": 20,
    "start_time": "2023-05-04T09:55:06.036Z"
   },
   {
    "duration": 20,
    "start_time": "2023-05-04T09:55:55.957Z"
   },
   {
    "duration": 6,
    "start_time": "2023-05-04T09:57:13.505Z"
   },
   {
    "duration": 1066,
    "start_time": "2023-05-04T09:57:36.527Z"
   },
   {
    "duration": 55,
    "start_time": "2023-05-04T09:57:37.595Z"
   },
   {
    "duration": 22,
    "start_time": "2023-05-04T09:57:37.653Z"
   },
   {
    "duration": 15,
    "start_time": "2023-05-04T09:57:37.677Z"
   },
   {
    "duration": 27,
    "start_time": "2023-05-04T09:57:37.695Z"
   },
   {
    "duration": 30,
    "start_time": "2023-05-04T09:57:37.724Z"
   },
   {
    "duration": 41,
    "start_time": "2023-05-04T09:57:37.756Z"
   },
   {
    "duration": 5,
    "start_time": "2023-05-04T09:57:37.799Z"
   },
   {
    "duration": 24,
    "start_time": "2023-05-04T09:57:37.806Z"
   },
   {
    "duration": 22,
    "start_time": "2023-05-04T09:57:37.832Z"
   },
   {
    "duration": 60,
    "start_time": "2023-05-04T09:57:37.856Z"
   },
   {
    "duration": 78,
    "start_time": "2023-05-04T09:57:37.918Z"
   },
   {
    "duration": 5,
    "start_time": "2023-05-04T09:57:37.998Z"
   },
   {
    "duration": 10,
    "start_time": "2023-05-04T09:57:38.006Z"
   },
   {
    "duration": 57,
    "start_time": "2023-05-04T09:57:38.018Z"
   },
   {
    "duration": 19,
    "start_time": "2023-05-04T09:57:38.077Z"
   },
   {
    "duration": 49,
    "start_time": "2023-05-04T09:57:38.098Z"
   },
   {
    "duration": 39,
    "start_time": "2023-05-04T09:57:38.148Z"
   },
   {
    "duration": 425,
    "start_time": "2023-05-04T09:57:38.189Z"
   },
   {
    "duration": 2,
    "start_time": "2023-05-04T09:57:38.616Z"
   },
   {
    "duration": 69,
    "start_time": "2023-05-04T09:57:38.620Z"
   },
   {
    "duration": 433,
    "start_time": "2023-05-04T09:57:38.691Z"
   },
   {
    "duration": 6,
    "start_time": "2023-05-04T09:57:39.126Z"
   },
   {
    "duration": 12,
    "start_time": "2023-05-04T09:57:39.134Z"
   },
   {
    "duration": 10,
    "start_time": "2023-05-04T09:57:39.148Z"
   },
   {
    "duration": 235,
    "start_time": "2023-05-04T09:57:39.160Z"
   },
   {
    "duration": 20,
    "start_time": "2023-05-04T09:57:39.397Z"
   },
   {
    "duration": 172,
    "start_time": "2023-05-04T09:57:39.419Z"
   },
   {
    "duration": 202,
    "start_time": "2023-05-04T09:57:39.593Z"
   },
   {
    "duration": 5,
    "start_time": "2023-05-04T09:57:39.797Z"
   },
   {
    "duration": 211,
    "start_time": "2023-05-04T09:57:39.804Z"
   },
   {
    "duration": 5,
    "start_time": "2023-05-04T09:57:40.017Z"
   },
   {
    "duration": 205,
    "start_time": "2023-05-04T09:57:40.023Z"
   },
   {
    "duration": 278,
    "start_time": "2023-05-04T09:57:40.230Z"
   },
   {
    "duration": 158,
    "start_time": "2023-05-04T09:57:40.510Z"
   },
   {
    "duration": 169,
    "start_time": "2023-05-04T09:57:40.669Z"
   },
   {
    "duration": 267,
    "start_time": "2023-05-04T09:57:40.840Z"
   },
   {
    "duration": 260,
    "start_time": "2023-05-04T09:57:41.108Z"
   },
   {
    "duration": 154,
    "start_time": "2023-05-04T09:57:41.369Z"
   },
   {
    "duration": 8,
    "start_time": "2023-05-04T09:57:41.525Z"
   },
   {
    "duration": 163,
    "start_time": "2023-05-04T09:57:41.537Z"
   },
   {
    "duration": 10,
    "start_time": "2023-05-04T09:57:41.702Z"
   },
   {
    "duration": 142,
    "start_time": "2023-05-04T09:57:41.714Z"
   },
   {
    "duration": 7,
    "start_time": "2023-05-04T09:57:41.858Z"
   },
   {
    "duration": 212,
    "start_time": "2023-05-04T09:57:41.867Z"
   },
   {
    "duration": 11,
    "start_time": "2023-05-04T09:57:42.082Z"
   },
   {
    "duration": 218,
    "start_time": "2023-05-04T09:57:42.095Z"
   },
   {
    "duration": 10,
    "start_time": "2023-05-04T09:57:42.316Z"
   },
   {
    "duration": 221,
    "start_time": "2023-05-04T09:57:42.328Z"
   },
   {
    "duration": 8,
    "start_time": "2023-05-04T09:57:42.551Z"
   },
   {
    "duration": 268,
    "start_time": "2023-05-04T09:57:42.560Z"
   },
   {
    "duration": 146,
    "start_time": "2023-05-04T09:57:42.830Z"
   },
   {
    "duration": 186,
    "start_time": "2023-05-04T09:57:42.979Z"
   },
   {
    "duration": 19,
    "start_time": "2023-05-04T09:57:43.167Z"
   },
   {
    "duration": 19,
    "start_time": "2023-05-04T09:57:43.188Z"
   },
   {
    "duration": 9,
    "start_time": "2023-05-04T10:01:33.638Z"
   },
   {
    "duration": 10,
    "start_time": "2023-05-04T10:01:36.605Z"
   },
   {
    "duration": 10,
    "start_time": "2023-05-04T10:02:15.742Z"
   },
   {
    "duration": 7,
    "start_time": "2023-05-04T10:02:16.788Z"
   },
   {
    "duration": 97,
    "start_time": "2023-05-04T10:11:40.986Z"
   },
   {
    "duration": 8,
    "start_time": "2023-05-04T10:11:44.702Z"
   },
   {
    "duration": 8,
    "start_time": "2023-05-04T10:11:46.663Z"
   },
   {
    "duration": 4,
    "start_time": "2023-05-04T10:12:33.662Z"
   },
   {
    "duration": 4,
    "start_time": "2023-05-04T10:12:35.662Z"
   },
   {
    "duration": 9,
    "start_time": "2023-05-04T10:12:59.863Z"
   },
   {
    "duration": 7,
    "start_time": "2023-05-04T10:13:01.556Z"
   },
   {
    "duration": 1140,
    "start_time": "2023-05-04T10:52:03.307Z"
   },
   {
    "duration": 63,
    "start_time": "2023-05-04T10:52:04.448Z"
   },
   {
    "duration": 20,
    "start_time": "2023-05-04T10:52:04.513Z"
   },
   {
    "duration": 25,
    "start_time": "2023-05-04T10:52:04.535Z"
   },
   {
    "duration": 16,
    "start_time": "2023-05-04T10:52:04.561Z"
   },
   {
    "duration": 66,
    "start_time": "2023-05-04T10:52:04.578Z"
   },
   {
    "duration": 24,
    "start_time": "2023-05-04T10:52:04.646Z"
   },
   {
    "duration": 19,
    "start_time": "2023-05-04T10:52:04.672Z"
   },
   {
    "duration": 40,
    "start_time": "2023-05-04T10:52:04.693Z"
   },
   {
    "duration": 27,
    "start_time": "2023-05-04T10:52:04.736Z"
   },
   {
    "duration": 90,
    "start_time": "2023-05-04T10:52:04.765Z"
   },
   {
    "duration": 72,
    "start_time": "2023-05-04T10:52:04.857Z"
   },
   {
    "duration": 5,
    "start_time": "2023-05-04T10:52:04.931Z"
   },
   {
    "duration": 20,
    "start_time": "2023-05-04T10:52:04.938Z"
   },
   {
    "duration": 47,
    "start_time": "2023-05-04T10:52:04.960Z"
   },
   {
    "duration": 58,
    "start_time": "2023-05-04T10:52:05.015Z"
   },
   {
    "duration": 66,
    "start_time": "2023-05-04T10:52:05.074Z"
   },
   {
    "duration": 16,
    "start_time": "2023-05-04T10:52:05.142Z"
   },
   {
    "duration": 455,
    "start_time": "2023-05-04T10:52:05.160Z"
   },
   {
    "duration": 2,
    "start_time": "2023-05-04T10:52:05.617Z"
   },
   {
    "duration": 16,
    "start_time": "2023-05-04T10:52:05.621Z"
   },
   {
    "duration": 393,
    "start_time": "2023-05-04T10:52:05.639Z"
   },
   {
    "duration": 7,
    "start_time": "2023-05-04T10:52:06.033Z"
   },
   {
    "duration": 19,
    "start_time": "2023-05-04T10:52:06.042Z"
   },
   {
    "duration": 27,
    "start_time": "2023-05-04T10:52:06.062Z"
   },
   {
    "duration": 280,
    "start_time": "2023-05-04T10:52:06.091Z"
   },
   {
    "duration": 34,
    "start_time": "2023-05-04T10:52:06.373Z"
   },
   {
    "duration": 199,
    "start_time": "2023-05-04T10:52:06.411Z"
   },
   {
    "duration": 184,
    "start_time": "2023-05-04T10:52:06.612Z"
   },
   {
    "duration": 12,
    "start_time": "2023-05-04T10:52:06.798Z"
   },
   {
    "duration": 180,
    "start_time": "2023-05-04T10:52:06.814Z"
   },
   {
    "duration": 7,
    "start_time": "2023-05-04T10:52:06.998Z"
   },
   {
    "duration": 243,
    "start_time": "2023-05-04T10:52:07.006Z"
   },
   {
    "duration": 256,
    "start_time": "2023-05-04T10:52:07.251Z"
   },
   {
    "duration": 150,
    "start_time": "2023-05-04T10:52:07.512Z"
   },
   {
    "duration": 173,
    "start_time": "2023-05-04T10:52:07.664Z"
   },
   {
    "duration": 305,
    "start_time": "2023-05-04T10:52:07.839Z"
   },
   {
    "duration": 304,
    "start_time": "2023-05-04T10:52:08.146Z"
   },
   {
    "duration": 176,
    "start_time": "2023-05-04T10:52:08.452Z"
   },
   {
    "duration": 9,
    "start_time": "2023-05-04T10:52:08.630Z"
   },
   {
    "duration": 184,
    "start_time": "2023-05-04T10:52:08.641Z"
   },
   {
    "duration": 7,
    "start_time": "2023-05-04T10:52:08.827Z"
   },
   {
    "duration": 179,
    "start_time": "2023-05-04T10:52:08.836Z"
   },
   {
    "duration": 8,
    "start_time": "2023-05-04T10:52:09.016Z"
   },
   {
    "duration": 235,
    "start_time": "2023-05-04T10:52:09.026Z"
   },
   {
    "duration": 9,
    "start_time": "2023-05-04T10:52:09.263Z"
   },
   {
    "duration": 249,
    "start_time": "2023-05-04T10:52:09.274Z"
   },
   {
    "duration": 8,
    "start_time": "2023-05-04T10:52:09.525Z"
   },
   {
    "duration": 226,
    "start_time": "2023-05-04T10:52:09.534Z"
   },
   {
    "duration": 9,
    "start_time": "2023-05-04T10:52:09.762Z"
   },
   {
    "duration": 253,
    "start_time": "2023-05-04T10:52:09.783Z"
   },
   {
    "duration": 151,
    "start_time": "2023-05-04T10:52:10.038Z"
   },
   {
    "duration": 125,
    "start_time": "2023-05-04T10:52:10.196Z"
   },
   {
    "duration": 7,
    "start_time": "2023-05-04T10:52:10.323Z"
   },
   {
    "duration": 45,
    "start_time": "2023-05-04T10:52:10.331Z"
   },
   {
    "duration": 67,
    "start_time": "2023-05-04T10:52:10.378Z"
   },
   {
    "duration": 21,
    "start_time": "2023-05-04T10:52:10.447Z"
   },
   {
    "duration": 1187,
    "start_time": "2023-05-05T09:27:41.404Z"
   },
   {
    "duration": 216,
    "start_time": "2023-05-05T09:27:42.593Z"
   },
   {
    "duration": 19,
    "start_time": "2023-05-05T09:27:42.811Z"
   },
   {
    "duration": 29,
    "start_time": "2023-05-05T09:27:42.832Z"
   },
   {
    "duration": 8,
    "start_time": "2023-05-05T09:27:42.864Z"
   },
   {
    "duration": 36,
    "start_time": "2023-05-05T09:27:42.874Z"
   },
   {
    "duration": 21,
    "start_time": "2023-05-05T09:27:42.911Z"
   },
   {
    "duration": 27,
    "start_time": "2023-05-05T09:27:42.934Z"
   },
   {
    "duration": 7,
    "start_time": "2023-05-05T09:27:42.963Z"
   },
   {
    "duration": 21,
    "start_time": "2023-05-05T09:27:42.971Z"
   },
   {
    "duration": 66,
    "start_time": "2023-05-05T09:27:42.994Z"
   },
   {
    "duration": 46,
    "start_time": "2023-05-05T09:27:43.061Z"
   },
   {
    "duration": 4,
    "start_time": "2023-05-05T09:27:43.109Z"
   },
   {
    "duration": 7,
    "start_time": "2023-05-05T09:27:43.115Z"
   },
   {
    "duration": 29,
    "start_time": "2023-05-05T09:27:43.123Z"
   },
   {
    "duration": 30,
    "start_time": "2023-05-05T09:27:43.153Z"
   },
   {
    "duration": 64,
    "start_time": "2023-05-05T09:27:43.185Z"
   },
   {
    "duration": 16,
    "start_time": "2023-05-05T09:27:43.251Z"
   },
   {
    "duration": 358,
    "start_time": "2023-05-05T09:27:43.269Z"
   },
   {
    "duration": 5,
    "start_time": "2023-05-05T09:27:43.629Z"
   },
   {
    "duration": 31,
    "start_time": "2023-05-05T09:27:43.647Z"
   },
   {
    "duration": 367,
    "start_time": "2023-05-05T09:27:43.680Z"
   },
   {
    "duration": 8,
    "start_time": "2023-05-05T09:27:44.049Z"
   },
   {
    "duration": 28,
    "start_time": "2023-05-05T09:27:44.059Z"
   },
   {
    "duration": 18,
    "start_time": "2023-05-05T09:27:44.089Z"
   },
   {
    "duration": 269,
    "start_time": "2023-05-05T09:27:44.109Z"
   },
   {
    "duration": 19,
    "start_time": "2023-05-05T09:27:44.380Z"
   },
   {
    "duration": 181,
    "start_time": "2023-05-05T09:27:44.400Z"
   },
   {
    "duration": 167,
    "start_time": "2023-05-05T09:27:44.582Z"
   },
   {
    "duration": 5,
    "start_time": "2023-05-05T09:27:44.750Z"
   },
   {
    "duration": 204,
    "start_time": "2023-05-05T09:27:44.756Z"
   },
   {
    "duration": 6,
    "start_time": "2023-05-05T09:27:44.961Z"
   },
   {
    "duration": 211,
    "start_time": "2023-05-05T09:27:44.970Z"
   },
   {
    "duration": 286,
    "start_time": "2023-05-05T09:27:45.183Z"
   },
   {
    "duration": 147,
    "start_time": "2023-05-05T09:27:45.471Z"
   },
   {
    "duration": 170,
    "start_time": "2023-05-05T09:27:45.620Z"
   },
   {
    "duration": 237,
    "start_time": "2023-05-05T09:27:45.792Z"
   },
   {
    "duration": 248,
    "start_time": "2023-05-05T09:27:46.035Z"
   },
   {
    "duration": 176,
    "start_time": "2023-05-05T09:27:46.285Z"
   },
   {
    "duration": 7,
    "start_time": "2023-05-05T09:27:46.463Z"
   },
   {
    "duration": 153,
    "start_time": "2023-05-05T09:27:46.473Z"
   },
   {
    "duration": 23,
    "start_time": "2023-05-05T09:27:46.628Z"
   },
   {
    "duration": 126,
    "start_time": "2023-05-05T09:27:46.652Z"
   },
   {
    "duration": 7,
    "start_time": "2023-05-05T09:27:46.779Z"
   },
   {
    "duration": 181,
    "start_time": "2023-05-05T09:27:46.787Z"
   },
   {
    "duration": 8,
    "start_time": "2023-05-05T09:27:46.969Z"
   },
   {
    "duration": 200,
    "start_time": "2023-05-05T09:27:46.979Z"
   },
   {
    "duration": 6,
    "start_time": "2023-05-05T09:27:47.181Z"
   },
   {
    "duration": 223,
    "start_time": "2023-05-05T09:27:47.189Z"
   },
   {
    "duration": 7,
    "start_time": "2023-05-05T09:27:47.413Z"
   },
   {
    "duration": 226,
    "start_time": "2023-05-05T09:27:47.422Z"
   },
   {
    "duration": 145,
    "start_time": "2023-05-05T09:27:47.651Z"
   },
   {
    "duration": 120,
    "start_time": "2023-05-05T09:27:47.797Z"
   },
   {
    "duration": 7,
    "start_time": "2023-05-05T09:27:47.919Z"
   },
   {
    "duration": 22,
    "start_time": "2023-05-05T09:27:47.927Z"
   },
   {
    "duration": 15,
    "start_time": "2023-05-05T09:27:47.951Z"
   },
   {
    "duration": 7,
    "start_time": "2023-05-05T09:27:47.968Z"
   },
   {
    "duration": 101,
    "start_time": "2023-05-05T09:41:01.948Z"
   },
   {
    "duration": 20,
    "start_time": "2023-05-05T09:46:09.803Z"
   },
   {
    "duration": 1148,
    "start_time": "2023-05-10T11:56:43.335Z"
   },
   {
    "duration": 93,
    "start_time": "2023-05-10T11:56:44.484Z"
   },
   {
    "duration": 21,
    "start_time": "2023-05-10T11:56:44.579Z"
   },
   {
    "duration": 13,
    "start_time": "2023-05-10T11:56:44.602Z"
   },
   {
    "duration": 5,
    "start_time": "2023-05-10T11:56:44.616Z"
   },
   {
    "duration": 15,
    "start_time": "2023-05-10T11:56:44.636Z"
   },
   {
    "duration": 12,
    "start_time": "2023-05-10T11:56:44.653Z"
   },
   {
    "duration": 4,
    "start_time": "2023-05-10T11:56:44.667Z"
   },
   {
    "duration": 8,
    "start_time": "2023-05-10T11:56:44.672Z"
   },
   {
    "duration": 4,
    "start_time": "2023-05-10T11:56:44.682Z"
   },
   {
    "duration": 68,
    "start_time": "2023-05-10T11:56:44.688Z"
   },
   {
    "duration": 49,
    "start_time": "2023-05-10T11:56:44.758Z"
   },
   {
    "duration": 5,
    "start_time": "2023-05-10T11:56:44.808Z"
   },
   {
    "duration": 8,
    "start_time": "2023-05-10T11:56:44.814Z"
   },
   {
    "duration": 27,
    "start_time": "2023-05-10T11:56:44.823Z"
   },
   {
    "duration": 12,
    "start_time": "2023-05-10T11:56:44.852Z"
   },
   {
    "duration": 29,
    "start_time": "2023-05-10T11:56:44.865Z"
   },
   {
    "duration": 15,
    "start_time": "2023-05-10T11:56:44.896Z"
   },
   {
    "duration": 342,
    "start_time": "2023-05-10T11:56:44.936Z"
   },
   {
    "duration": 3,
    "start_time": "2023-05-10T11:56:45.279Z"
   },
   {
    "duration": 28,
    "start_time": "2023-05-10T11:56:45.283Z"
   },
   {
    "duration": 346,
    "start_time": "2023-05-10T11:56:45.313Z"
   },
   {
    "duration": 6,
    "start_time": "2023-05-10T11:56:45.660Z"
   },
   {
    "duration": 8,
    "start_time": "2023-05-10T11:56:45.667Z"
   },
   {
    "duration": 13,
    "start_time": "2023-05-10T11:56:45.677Z"
   },
   {
    "duration": 218,
    "start_time": "2023-05-10T11:56:45.691Z"
   },
   {
    "duration": 28,
    "start_time": "2023-05-10T11:56:45.911Z"
   },
   {
    "duration": 145,
    "start_time": "2023-05-10T11:56:45.942Z"
   },
   {
    "duration": 163,
    "start_time": "2023-05-10T11:56:46.089Z"
   },
   {
    "duration": 4,
    "start_time": "2023-05-10T11:56:46.253Z"
   },
   {
    "duration": 175,
    "start_time": "2023-05-10T11:56:46.259Z"
   },
   {
    "duration": 5,
    "start_time": "2023-05-10T11:56:46.436Z"
   },
   {
    "duration": 174,
    "start_time": "2023-05-10T11:56:46.442Z"
   },
   {
    "duration": 230,
    "start_time": "2023-05-10T11:56:46.618Z"
   },
   {
    "duration": 159,
    "start_time": "2023-05-10T11:56:46.850Z"
   },
   {
    "duration": 161,
    "start_time": "2023-05-10T11:56:47.010Z"
   },
   {
    "duration": 228,
    "start_time": "2023-05-10T11:56:47.173Z"
   },
   {
    "duration": 226,
    "start_time": "2023-05-10T11:56:47.403Z"
   },
   {
    "duration": 133,
    "start_time": "2023-05-10T11:56:47.631Z"
   },
   {
    "duration": 7,
    "start_time": "2023-05-10T11:56:47.766Z"
   },
   {
    "duration": 135,
    "start_time": "2023-05-10T11:56:47.775Z"
   },
   {
    "duration": 6,
    "start_time": "2023-05-10T11:56:47.911Z"
   },
   {
    "duration": 120,
    "start_time": "2023-05-10T11:56:47.918Z"
   },
   {
    "duration": 6,
    "start_time": "2023-05-10T11:56:48.039Z"
   },
   {
    "duration": 170,
    "start_time": "2023-05-10T11:56:48.046Z"
   },
   {
    "duration": 7,
    "start_time": "2023-05-10T11:56:48.218Z"
   },
   {
    "duration": 193,
    "start_time": "2023-05-10T11:56:48.227Z"
   },
   {
    "duration": 16,
    "start_time": "2023-05-10T11:56:48.422Z"
   },
   {
    "duration": 206,
    "start_time": "2023-05-10T11:56:48.439Z"
   },
   {
    "duration": 7,
    "start_time": "2023-05-10T11:56:48.647Z"
   },
   {
    "duration": 196,
    "start_time": "2023-05-10T11:56:48.656Z"
   },
   {
    "duration": 134,
    "start_time": "2023-05-10T11:56:48.854Z"
   },
   {
    "duration": 118,
    "start_time": "2023-05-10T11:56:48.989Z"
   },
   {
    "duration": 6,
    "start_time": "2023-05-10T11:56:49.108Z"
   },
   {
    "duration": 5,
    "start_time": "2023-05-10T11:56:49.116Z"
   },
   {
    "duration": 28,
    "start_time": "2023-05-10T11:56:49.122Z"
   },
   {
    "duration": 11,
    "start_time": "2023-05-10T11:56:49.152Z"
   },
   {
    "duration": 840,
    "start_time": "2023-05-10T12:07:25.719Z"
   },
   {
    "duration": 848,
    "start_time": "2023-05-10T12:08:36.633Z"
   },
   {
    "duration": 1004,
    "start_time": "2023-05-10T12:08:47.171Z"
   },
   {
    "duration": 44,
    "start_time": "2023-05-10T12:08:48.177Z"
   },
   {
    "duration": 20,
    "start_time": "2023-05-10T12:08:48.223Z"
   },
   {
    "duration": 13,
    "start_time": "2023-05-10T12:08:48.245Z"
   },
   {
    "duration": 777,
    "start_time": "2023-05-10T12:08:48.259Z"
   },
   {
    "duration": 5,
    "start_time": "2023-05-10T12:08:49.038Z"
   },
   {
    "duration": 149,
    "start_time": "2023-05-10T12:08:49.044Z"
   },
   {
    "duration": 31,
    "start_time": "2023-05-10T12:08:49.195Z"
   },
   {
    "duration": 4,
    "start_time": "2023-05-10T12:08:49.228Z"
   },
   {
    "duration": 14,
    "start_time": "2023-05-10T12:08:49.234Z"
   },
   {
    "duration": 7,
    "start_time": "2023-05-10T12:08:49.249Z"
   },
   {
    "duration": 43,
    "start_time": "2023-05-10T12:08:49.257Z"
   },
   {
    "duration": 44,
    "start_time": "2023-05-10T12:08:49.301Z"
   },
   {
    "duration": 4,
    "start_time": "2023-05-10T12:08:49.347Z"
   },
   {
    "duration": 24,
    "start_time": "2023-05-10T12:08:49.352Z"
   },
   {
    "duration": 24,
    "start_time": "2023-05-10T12:08:49.378Z"
   },
   {
    "duration": 28,
    "start_time": "2023-05-10T12:08:49.404Z"
   },
   {
    "duration": 35,
    "start_time": "2023-05-10T12:08:49.434Z"
   },
   {
    "duration": 17,
    "start_time": "2023-05-10T12:08:49.471Z"
   },
   {
    "duration": 333,
    "start_time": "2023-05-10T12:08:49.490Z"
   },
   {
    "duration": 3,
    "start_time": "2023-05-10T12:08:49.825Z"
   },
   {
    "duration": 8,
    "start_time": "2023-05-10T12:08:49.836Z"
   },
   {
    "duration": 361,
    "start_time": "2023-05-10T12:08:49.846Z"
   },
   {
    "duration": 7,
    "start_time": "2023-05-10T12:08:50.209Z"
   },
   {
    "duration": 26,
    "start_time": "2023-05-10T12:08:50.217Z"
   },
   {
    "duration": 21,
    "start_time": "2023-05-10T12:08:50.245Z"
   },
   {
    "duration": 234,
    "start_time": "2023-05-10T12:08:50.267Z"
   },
   {
    "duration": 20,
    "start_time": "2023-05-10T12:08:50.504Z"
   },
   {
    "duration": 158,
    "start_time": "2023-05-10T12:08:50.536Z"
   },
   {
    "duration": 226,
    "start_time": "2023-05-10T12:08:50.696Z"
   },
   {
    "duration": 4,
    "start_time": "2023-05-10T12:08:50.923Z"
   },
   {
    "duration": 160,
    "start_time": "2023-05-10T12:08:50.929Z"
   },
   {
    "duration": 4,
    "start_time": "2023-05-10T12:08:51.091Z"
   },
   {
    "duration": 168,
    "start_time": "2023-05-10T12:08:51.096Z"
   },
   {
    "duration": 155,
    "start_time": "2023-05-10T12:08:51.265Z"
   },
   {
    "duration": 133,
    "start_time": "2023-05-10T12:08:51.422Z"
   },
   {
    "duration": 158,
    "start_time": "2023-05-10T12:08:51.557Z"
   },
   {
    "duration": 248,
    "start_time": "2023-05-10T12:08:51.716Z"
   },
   {
    "duration": 266,
    "start_time": "2023-05-10T12:08:51.966Z"
   },
   {
    "duration": 149,
    "start_time": "2023-05-10T12:08:52.236Z"
   },
   {
    "duration": 11,
    "start_time": "2023-05-10T12:08:52.388Z"
   },
   {
    "duration": 212,
    "start_time": "2023-05-10T12:08:52.401Z"
   },
   {
    "duration": 10,
    "start_time": "2023-05-10T12:08:52.615Z"
   },
   {
    "duration": 164,
    "start_time": "2023-05-10T12:08:52.628Z"
   },
   {
    "duration": 7,
    "start_time": "2023-05-10T12:08:52.794Z"
   },
   {
    "duration": 283,
    "start_time": "2023-05-10T12:08:52.802Z"
   },
   {
    "duration": 7,
    "start_time": "2023-05-10T12:08:53.087Z"
   },
   {
    "duration": 180,
    "start_time": "2023-05-10T12:08:53.096Z"
   },
   {
    "duration": 7,
    "start_time": "2023-05-10T12:08:53.278Z"
   },
   {
    "duration": 188,
    "start_time": "2023-05-10T12:08:53.286Z"
   },
   {
    "duration": 8,
    "start_time": "2023-05-10T12:08:53.475Z"
   },
   {
    "duration": 122,
    "start_time": "2023-05-10T12:08:53.484Z"
   },
   {
    "duration": 139,
    "start_time": "2023-05-10T12:08:53.608Z"
   },
   {
    "duration": 132,
    "start_time": "2023-05-10T12:08:53.749Z"
   },
   {
    "duration": 9,
    "start_time": "2023-05-10T12:08:53.883Z"
   },
   {
    "duration": 13,
    "start_time": "2023-05-10T12:08:53.894Z"
   },
   {
    "duration": 15,
    "start_time": "2023-05-10T12:08:53.909Z"
   },
   {
    "duration": 12,
    "start_time": "2023-05-10T12:08:53.926Z"
   },
   {
    "duration": 5,
    "start_time": "2023-05-10T13:02:42.174Z"
   },
   {
    "duration": 5,
    "start_time": "2023-05-10T13:02:52.706Z"
   },
   {
    "duration": 4964,
    "start_time": "2023-05-10T13:03:46.975Z"
   },
   {
    "duration": 729,
    "start_time": "2023-05-10T13:04:20.494Z"
   },
   {
    "duration": 9,
    "start_time": "2023-05-10T13:13:47.167Z"
   },
   {
    "duration": 7,
    "start_time": "2023-05-10T13:14:00.081Z"
   },
   {
    "duration": 9,
    "start_time": "2023-05-10T13:14:29.297Z"
   },
   {
    "duration": 9,
    "start_time": "2023-05-10T13:15:52.673Z"
   },
   {
    "duration": 1238,
    "start_time": "2023-05-10T13:17:00.363Z"
   },
   {
    "duration": 533,
    "start_time": "2023-05-10T13:17:43.694Z"
   },
   {
    "duration": 8,
    "start_time": "2023-05-10T13:18:56.713Z"
   },
   {
    "duration": 10,
    "start_time": "2023-05-10T13:20:45.444Z"
   },
   {
    "duration": 55,
    "start_time": "2023-05-10T13:21:42.566Z"
   },
   {
    "duration": 6,
    "start_time": "2023-05-10T13:21:52.021Z"
   },
   {
    "duration": 7,
    "start_time": "2023-05-10T13:22:06.971Z"
   },
   {
    "duration": 6,
    "start_time": "2023-05-10T13:22:26.402Z"
   },
   {
    "duration": 6,
    "start_time": "2023-05-10T13:23:41.454Z"
   },
   {
    "duration": 3,
    "start_time": "2023-05-10T13:41:23.799Z"
   },
   {
    "duration": 10,
    "start_time": "2023-05-10T13:41:26.699Z"
   },
   {
    "duration": 64,
    "start_time": "2023-05-10T13:42:02.977Z"
   },
   {
    "duration": 216,
    "start_time": "2023-05-10T13:42:07.486Z"
   },
   {
    "duration": 19,
    "start_time": "2023-05-10T13:44:33.710Z"
   },
   {
    "duration": 1022,
    "start_time": "2023-05-10T13:45:36.865Z"
   },
   {
    "duration": 58,
    "start_time": "2023-05-10T13:45:37.889Z"
   },
   {
    "duration": 24,
    "start_time": "2023-05-10T13:45:37.949Z"
   },
   {
    "duration": 33,
    "start_time": "2023-05-10T13:45:37.975Z"
   },
   {
    "duration": 687,
    "start_time": "2023-05-10T13:45:38.009Z"
   },
   {
    "duration": 5,
    "start_time": "2023-05-10T13:45:38.698Z"
   },
   {
    "duration": 14,
    "start_time": "2023-05-10T13:45:38.704Z"
   },
   {
    "duration": 10,
    "start_time": "2023-05-10T13:45:38.736Z"
   },
   {
    "duration": 20,
    "start_time": "2023-05-10T13:45:38.747Z"
   },
   {
    "duration": 7,
    "start_time": "2023-05-10T13:45:38.770Z"
   },
   {
    "duration": 24,
    "start_time": "2023-05-10T13:45:38.778Z"
   },
   {
    "duration": 26,
    "start_time": "2023-05-10T13:45:38.804Z"
   },
   {
    "duration": 9,
    "start_time": "2023-05-10T13:45:38.832Z"
   },
   {
    "duration": 50,
    "start_time": "2023-05-10T13:45:38.844Z"
   },
   {
    "duration": 17,
    "start_time": "2023-05-10T13:45:38.896Z"
   },
   {
    "duration": 13,
    "start_time": "2023-05-10T13:45:38.915Z"
   },
   {
    "duration": 29,
    "start_time": "2023-05-10T13:45:38.929Z"
   },
   {
    "duration": 17,
    "start_time": "2023-05-10T13:45:38.960Z"
   },
   {
    "duration": 319,
    "start_time": "2023-05-10T13:45:38.978Z"
   },
   {
    "duration": 6,
    "start_time": "2023-05-10T13:45:39.299Z"
   },
   {
    "duration": 353,
    "start_time": "2023-05-10T13:45:39.306Z"
   },
   {
    "duration": 7,
    "start_time": "2023-05-10T13:45:39.661Z"
   },
   {
    "duration": 6,
    "start_time": "2023-05-10T13:45:39.669Z"
   },
   {
    "duration": 10,
    "start_time": "2023-05-10T13:45:39.676Z"
   },
   {
    "duration": 245,
    "start_time": "2023-05-10T13:45:39.687Z"
   },
   {
    "duration": 32,
    "start_time": "2023-05-10T13:45:39.934Z"
   },
   {
    "duration": 313,
    "start_time": "2023-05-10T13:45:39.968Z"
   },
   {
    "duration": 155,
    "start_time": "2023-05-10T13:45:40.284Z"
   },
   {
    "duration": 4,
    "start_time": "2023-05-10T13:45:40.441Z"
   },
   {
    "duration": 153,
    "start_time": "2023-05-10T13:45:40.447Z"
   },
   {
    "duration": 4,
    "start_time": "2023-05-10T13:45:40.601Z"
   },
   {
    "duration": 162,
    "start_time": "2023-05-10T13:45:40.607Z"
   },
   {
    "duration": 168,
    "start_time": "2023-05-10T13:45:40.771Z"
   },
   {
    "duration": 142,
    "start_time": "2023-05-10T13:45:40.941Z"
   },
   {
    "duration": 141,
    "start_time": "2023-05-10T13:45:41.085Z"
   },
   {
    "duration": 243,
    "start_time": "2023-05-10T13:45:41.228Z"
   },
   {
    "duration": 245,
    "start_time": "2023-05-10T13:45:41.473Z"
   },
   {
    "duration": 178,
    "start_time": "2023-05-10T13:45:41.719Z"
   },
   {
    "duration": 11,
    "start_time": "2023-05-10T13:45:41.899Z"
   },
   {
    "duration": 172,
    "start_time": "2023-05-10T13:45:41.911Z"
   },
   {
    "duration": 7,
    "start_time": "2023-05-10T13:45:42.086Z"
   },
   {
    "duration": 245,
    "start_time": "2023-05-10T13:45:42.094Z"
   },
   {
    "duration": 8,
    "start_time": "2023-05-10T13:45:42.341Z"
   },
   {
    "duration": 217,
    "start_time": "2023-05-10T13:45:42.351Z"
   },
   {
    "duration": 8,
    "start_time": "2023-05-10T13:45:42.571Z"
   },
   {
    "duration": 247,
    "start_time": "2023-05-10T13:45:42.581Z"
   },
   {
    "duration": 11,
    "start_time": "2023-05-10T13:45:42.829Z"
   },
   {
    "duration": 204,
    "start_time": "2023-05-10T13:45:42.842Z"
   },
   {
    "duration": 7,
    "start_time": "2023-05-10T13:45:43.048Z"
   },
   {
    "duration": 121,
    "start_time": "2023-05-10T13:45:43.056Z"
   },
   {
    "duration": 108,
    "start_time": "2023-05-10T13:45:43.178Z"
   },
   {
    "duration": 119,
    "start_time": "2023-05-10T13:45:43.287Z"
   },
   {
    "duration": 90,
    "start_time": "2023-05-10T13:45:43.407Z"
   },
   {
    "duration": 0,
    "start_time": "2023-05-10T13:45:43.499Z"
   },
   {
    "duration": 0,
    "start_time": "2023-05-10T13:45:43.500Z"
   },
   {
    "duration": 0,
    "start_time": "2023-05-10T13:45:43.501Z"
   },
   {
    "duration": 32,
    "start_time": "2023-05-10T13:49:56.204Z"
   },
   {
    "duration": 20,
    "start_time": "2023-05-10T13:50:25.001Z"
   },
   {
    "duration": 142,
    "start_time": "2023-05-10T13:51:30.210Z"
   },
   {
    "duration": 149,
    "start_time": "2023-05-10T13:54:02.964Z"
   },
   {
    "duration": 194,
    "start_time": "2023-05-10T13:54:49.106Z"
   },
   {
    "duration": 1008,
    "start_time": "2023-05-10T14:01:29.978Z"
   },
   {
    "duration": 53,
    "start_time": "2023-05-10T14:01:30.989Z"
   },
   {
    "duration": 33,
    "start_time": "2023-05-10T14:01:31.044Z"
   },
   {
    "duration": 85,
    "start_time": "2023-05-10T14:01:31.079Z"
   },
   {
    "duration": 724,
    "start_time": "2023-05-10T14:01:31.165Z"
   },
   {
    "duration": 5,
    "start_time": "2023-05-10T14:01:31.890Z"
   },
   {
    "duration": 40,
    "start_time": "2023-05-10T14:01:31.897Z"
   },
   {
    "duration": 28,
    "start_time": "2023-05-10T14:01:31.939Z"
   },
   {
    "duration": 12,
    "start_time": "2023-05-10T14:01:31.969Z"
   },
   {
    "duration": 24,
    "start_time": "2023-05-10T14:01:31.984Z"
   },
   {
    "duration": 23,
    "start_time": "2023-05-10T14:01:32.009Z"
   },
   {
    "duration": 24,
    "start_time": "2023-05-10T14:01:32.034Z"
   },
   {
    "duration": 39,
    "start_time": "2023-05-10T14:01:32.060Z"
   },
   {
    "duration": 43,
    "start_time": "2023-05-10T14:01:32.100Z"
   },
   {
    "duration": 23,
    "start_time": "2023-05-10T14:01:32.144Z"
   },
   {
    "duration": 22,
    "start_time": "2023-05-10T14:01:32.168Z"
   },
   {
    "duration": 56,
    "start_time": "2023-05-10T14:01:32.192Z"
   },
   {
    "duration": 23,
    "start_time": "2023-05-10T14:01:32.250Z"
   },
   {
    "duration": 364,
    "start_time": "2023-05-10T14:01:32.275Z"
   },
   {
    "duration": 10,
    "start_time": "2023-05-10T14:01:32.641Z"
   },
   {
    "duration": 378,
    "start_time": "2023-05-10T14:01:32.653Z"
   },
   {
    "duration": 6,
    "start_time": "2023-05-10T14:01:33.033Z"
   },
   {
    "duration": 11,
    "start_time": "2023-05-10T14:01:33.040Z"
   },
   {
    "duration": 21,
    "start_time": "2023-05-10T14:01:33.052Z"
   },
   {
    "duration": 236,
    "start_time": "2023-05-10T14:01:33.074Z"
   },
   {
    "duration": 40,
    "start_time": "2023-05-10T14:01:33.311Z"
   },
   {
    "duration": 190,
    "start_time": "2023-05-10T14:01:33.353Z"
   },
   {
    "duration": 216,
    "start_time": "2023-05-10T14:01:33.547Z"
   },
   {
    "duration": 146,
    "start_time": "2023-05-10T14:01:33.764Z"
   },
   {
    "duration": 5,
    "start_time": "2023-05-10T14:01:33.912Z"
   },
   {
    "duration": 143,
    "start_time": "2023-05-10T14:01:33.919Z"
   },
   {
    "duration": 5,
    "start_time": "2023-05-10T14:01:34.063Z"
   },
   {
    "duration": 163,
    "start_time": "2023-05-10T14:01:34.069Z"
   },
   {
    "duration": 145,
    "start_time": "2023-05-10T14:01:34.234Z"
   },
   {
    "duration": 162,
    "start_time": "2023-05-10T14:01:34.381Z"
   },
   {
    "duration": 144,
    "start_time": "2023-05-10T14:01:34.544Z"
   },
   {
    "duration": 251,
    "start_time": "2023-05-10T14:01:34.689Z"
   },
   {
    "duration": 239,
    "start_time": "2023-05-10T14:01:34.942Z"
   },
   {
    "duration": 163,
    "start_time": "2023-05-10T14:01:35.184Z"
   },
   {
    "duration": 8,
    "start_time": "2023-05-10T14:01:35.349Z"
   },
   {
    "duration": 196,
    "start_time": "2023-05-10T14:01:35.358Z"
   },
   {
    "duration": 7,
    "start_time": "2023-05-10T14:01:35.556Z"
   },
   {
    "duration": 240,
    "start_time": "2023-05-10T14:01:35.565Z"
   },
   {
    "duration": 8,
    "start_time": "2023-05-10T14:01:35.807Z"
   },
   {
    "duration": 188,
    "start_time": "2023-05-10T14:01:35.816Z"
   },
   {
    "duration": 8,
    "start_time": "2023-05-10T14:01:36.006Z"
   },
   {
    "duration": 177,
    "start_time": "2023-05-10T14:01:36.015Z"
   },
   {
    "duration": 8,
    "start_time": "2023-05-10T14:01:36.194Z"
   },
   {
    "duration": 190,
    "start_time": "2023-05-10T14:01:36.204Z"
   },
   {
    "duration": 8,
    "start_time": "2023-05-10T14:01:36.396Z"
   },
   {
    "duration": 125,
    "start_time": "2023-05-10T14:01:36.406Z"
   },
   {
    "duration": 115,
    "start_time": "2023-05-10T14:01:36.536Z"
   },
   {
    "duration": 119,
    "start_time": "2023-05-10T14:01:36.653Z"
   },
   {
    "duration": 68,
    "start_time": "2023-05-10T14:01:36.774Z"
   },
   {
    "duration": 0,
    "start_time": "2023-05-10T14:01:36.844Z"
   },
   {
    "duration": 0,
    "start_time": "2023-05-10T14:01:36.845Z"
   },
   {
    "duration": 0,
    "start_time": "2023-05-10T14:01:36.846Z"
   },
   {
    "duration": 245,
    "start_time": "2023-05-10T14:32:36.240Z"
   },
   {
    "duration": 253,
    "start_time": "2023-05-10T14:36:32.188Z"
   },
   {
    "duration": 4,
    "start_time": "2023-05-10T14:44:12.894Z"
   },
   {
    "duration": 5,
    "start_time": "2023-05-10T14:44:22.958Z"
   },
   {
    "duration": 4,
    "start_time": "2023-05-10T14:45:05.384Z"
   },
   {
    "duration": 6,
    "start_time": "2023-05-10T14:45:07.697Z"
   },
   {
    "duration": 1090,
    "start_time": "2023-05-10T14:45:54.683Z"
   },
   {
    "duration": 71,
    "start_time": "2023-05-10T14:45:55.775Z"
   },
   {
    "duration": 20,
    "start_time": "2023-05-10T14:45:55.848Z"
   },
   {
    "duration": 30,
    "start_time": "2023-05-10T14:45:55.869Z"
   },
   {
    "duration": 693,
    "start_time": "2023-05-10T14:45:55.901Z"
   },
   {
    "duration": 5,
    "start_time": "2023-05-10T14:45:56.596Z"
   },
   {
    "duration": 34,
    "start_time": "2023-05-10T14:45:56.602Z"
   },
   {
    "duration": 16,
    "start_time": "2023-05-10T14:45:56.638Z"
   },
   {
    "duration": 5,
    "start_time": "2023-05-10T14:45:56.656Z"
   },
   {
    "duration": 7,
    "start_time": "2023-05-10T14:45:56.664Z"
   },
   {
    "duration": 42,
    "start_time": "2023-05-10T14:45:56.673Z"
   },
   {
    "duration": 16,
    "start_time": "2023-05-10T14:45:56.717Z"
   },
   {
    "duration": 15,
    "start_time": "2023-05-10T14:45:56.735Z"
   },
   {
    "duration": 29,
    "start_time": "2023-05-10T14:45:56.753Z"
   },
   {
    "duration": 12,
    "start_time": "2023-05-10T14:45:56.784Z"
   },
   {
    "duration": 16,
    "start_time": "2023-05-10T14:45:56.798Z"
   },
   {
    "duration": 52,
    "start_time": "2023-05-10T14:45:56.816Z"
   },
   {
    "duration": 17,
    "start_time": "2023-05-10T14:45:56.870Z"
   },
   {
    "duration": 348,
    "start_time": "2023-05-10T14:45:56.889Z"
   },
   {
    "duration": 7,
    "start_time": "2023-05-10T14:45:57.238Z"
   },
   {
    "duration": 369,
    "start_time": "2023-05-10T14:45:57.246Z"
   },
   {
    "duration": 6,
    "start_time": "2023-05-10T14:45:57.617Z"
   },
   {
    "duration": 28,
    "start_time": "2023-05-10T14:45:57.625Z"
   },
   {
    "duration": 22,
    "start_time": "2023-05-10T14:45:57.655Z"
   },
   {
    "duration": 254,
    "start_time": "2023-05-10T14:45:57.679Z"
   },
   {
    "duration": 22,
    "start_time": "2023-05-10T14:45:57.937Z"
   },
   {
    "duration": 164,
    "start_time": "2023-05-10T14:45:57.960Z"
   },
   {
    "duration": 240,
    "start_time": "2023-05-10T14:45:58.127Z"
   },
   {
    "duration": 172,
    "start_time": "2023-05-10T14:45:58.369Z"
   },
   {
    "duration": 5,
    "start_time": "2023-05-10T14:45:58.543Z"
   },
   {
    "duration": 175,
    "start_time": "2023-05-10T14:45:58.550Z"
   },
   {
    "duration": 12,
    "start_time": "2023-05-10T14:45:58.727Z"
   },
   {
    "duration": 214,
    "start_time": "2023-05-10T14:45:58.741Z"
   },
   {
    "duration": 170,
    "start_time": "2023-05-10T14:45:58.958Z"
   },
   {
    "duration": 160,
    "start_time": "2023-05-10T14:45:59.136Z"
   },
   {
    "duration": 165,
    "start_time": "2023-05-10T14:45:59.298Z"
   },
   {
    "duration": 253,
    "start_time": "2023-05-10T14:45:59.465Z"
   },
   {
    "duration": 229,
    "start_time": "2023-05-10T14:45:59.721Z"
   },
   {
    "duration": 250,
    "start_time": "2023-05-10T14:45:59.952Z"
   },
   {
    "duration": 162,
    "start_time": "2023-05-10T14:46:00.203Z"
   },
   {
    "duration": 8,
    "start_time": "2023-05-10T14:46:00.367Z"
   },
   {
    "duration": 277,
    "start_time": "2023-05-10T14:46:00.377Z"
   },
   {
    "duration": 7,
    "start_time": "2023-05-10T14:46:00.656Z"
   },
   {
    "duration": 223,
    "start_time": "2023-05-10T14:46:00.665Z"
   },
   {
    "duration": 6,
    "start_time": "2023-05-10T14:46:00.890Z"
   },
   {
    "duration": 213,
    "start_time": "2023-05-10T14:46:00.898Z"
   },
   {
    "duration": 9,
    "start_time": "2023-05-10T14:46:01.113Z"
   },
   {
    "duration": 204,
    "start_time": "2023-05-10T14:46:01.124Z"
   },
   {
    "duration": 11,
    "start_time": "2023-05-10T14:46:01.330Z"
   },
   {
    "duration": 198,
    "start_time": "2023-05-10T14:46:01.343Z"
   },
   {
    "duration": 8,
    "start_time": "2023-05-10T14:46:01.543Z"
   },
   {
    "duration": 129,
    "start_time": "2023-05-10T14:46:01.552Z"
   },
   {
    "duration": 115,
    "start_time": "2023-05-10T14:46:01.683Z"
   },
   {
    "duration": 111,
    "start_time": "2023-05-10T14:46:01.800Z"
   },
   {
    "duration": 5,
    "start_time": "2023-05-10T14:46:01.913Z"
   },
   {
    "duration": 59,
    "start_time": "2023-05-10T14:46:01.919Z"
   },
   {
    "duration": 40,
    "start_time": "2023-05-10T14:46:01.980Z"
   },
   {
    "duration": 26,
    "start_time": "2023-05-10T14:46:02.021Z"
   },
   {
    "duration": 16,
    "start_time": "2023-05-10T14:48:33.245Z"
   },
   {
    "duration": 15,
    "start_time": "2023-05-10T14:48:51.619Z"
   },
   {
    "duration": 15,
    "start_time": "2023-05-10T14:49:24.928Z"
   },
   {
    "duration": 6,
    "start_time": "2023-05-10T14:50:01.958Z"
   },
   {
    "duration": 6,
    "start_time": "2023-05-10T14:53:15.996Z"
   },
   {
    "duration": 1260,
    "start_time": "2023-05-10T18:48:58.971Z"
   },
   {
    "duration": 93,
    "start_time": "2023-05-10T18:49:00.233Z"
   },
   {
    "duration": 19,
    "start_time": "2023-05-10T18:49:00.328Z"
   },
   {
    "duration": 27,
    "start_time": "2023-05-10T18:49:00.349Z"
   },
   {
    "duration": 809,
    "start_time": "2023-05-10T18:49:00.377Z"
   },
   {
    "duration": 24,
    "start_time": "2023-05-10T18:49:01.194Z"
   },
   {
    "duration": 31,
    "start_time": "2023-05-10T18:49:01.224Z"
   },
   {
    "duration": 30,
    "start_time": "2023-05-10T18:49:01.256Z"
   },
   {
    "duration": 30,
    "start_time": "2023-05-10T18:49:01.288Z"
   },
   {
    "duration": 24,
    "start_time": "2023-05-10T18:49:01.323Z"
   },
   {
    "duration": 34,
    "start_time": "2023-05-10T18:49:01.349Z"
   },
   {
    "duration": 49,
    "start_time": "2023-05-10T18:49:01.385Z"
   },
   {
    "duration": 15,
    "start_time": "2023-05-10T18:49:01.436Z"
   },
   {
    "duration": 38,
    "start_time": "2023-05-10T18:49:01.452Z"
   },
   {
    "duration": 39,
    "start_time": "2023-05-10T18:49:01.492Z"
   },
   {
    "duration": 32,
    "start_time": "2023-05-10T18:49:01.533Z"
   },
   {
    "duration": 74,
    "start_time": "2023-05-10T18:49:01.567Z"
   },
   {
    "duration": 21,
    "start_time": "2023-05-10T18:49:01.642Z"
   },
   {
    "duration": 380,
    "start_time": "2023-05-10T18:49:01.665Z"
   },
   {
    "duration": 6,
    "start_time": "2023-05-10T18:49:02.046Z"
   },
   {
    "duration": 402,
    "start_time": "2023-05-10T18:49:02.054Z"
   },
   {
    "duration": 6,
    "start_time": "2023-05-10T18:49:02.457Z"
   },
   {
    "duration": 13,
    "start_time": "2023-05-10T18:49:02.465Z"
   },
   {
    "duration": 20,
    "start_time": "2023-05-10T18:49:02.479Z"
   },
   {
    "duration": 252,
    "start_time": "2023-05-10T18:49:02.501Z"
   },
   {
    "duration": 21,
    "start_time": "2023-05-10T18:49:02.755Z"
   },
   {
    "duration": 169,
    "start_time": "2023-05-10T18:49:02.778Z"
   },
   {
    "duration": 242,
    "start_time": "2023-05-10T18:49:02.950Z"
   },
   {
    "duration": 164,
    "start_time": "2023-05-10T18:49:03.193Z"
   },
   {
    "duration": 5,
    "start_time": "2023-05-10T18:49:03.358Z"
   },
   {
    "duration": 169,
    "start_time": "2023-05-10T18:49:03.364Z"
   },
   {
    "duration": 4,
    "start_time": "2023-05-10T18:49:03.535Z"
   },
   {
    "duration": 191,
    "start_time": "2023-05-10T18:49:03.541Z"
   },
   {
    "duration": 152,
    "start_time": "2023-05-10T18:49:03.734Z"
   },
   {
    "duration": 183,
    "start_time": "2023-05-10T18:49:03.888Z"
   },
   {
    "duration": 184,
    "start_time": "2023-05-10T18:49:04.072Z"
   },
   {
    "duration": 290,
    "start_time": "2023-05-10T18:49:04.258Z"
   },
   {
    "duration": 287,
    "start_time": "2023-05-10T18:49:04.550Z"
   },
   {
    "duration": 298,
    "start_time": "2023-05-10T18:49:04.838Z"
   },
   {
    "duration": 177,
    "start_time": "2023-05-10T18:49:05.138Z"
   },
   {
    "duration": 14,
    "start_time": "2023-05-10T18:49:05.318Z"
   },
   {
    "duration": 292,
    "start_time": "2023-05-10T18:49:05.333Z"
   },
   {
    "duration": 8,
    "start_time": "2023-05-10T18:49:05.627Z"
   },
   {
    "duration": 190,
    "start_time": "2023-05-10T18:49:05.639Z"
   },
   {
    "duration": 7,
    "start_time": "2023-05-10T18:49:05.832Z"
   },
   {
    "duration": 195,
    "start_time": "2023-05-10T18:49:05.842Z"
   },
   {
    "duration": 9,
    "start_time": "2023-05-10T18:49:06.039Z"
   },
   {
    "duration": 194,
    "start_time": "2023-05-10T18:49:06.049Z"
   },
   {
    "duration": 7,
    "start_time": "2023-05-10T18:49:06.245Z"
   },
   {
    "duration": 215,
    "start_time": "2023-05-10T18:49:06.254Z"
   },
   {
    "duration": 7,
    "start_time": "2023-05-10T18:49:06.470Z"
   },
   {
    "duration": 142,
    "start_time": "2023-05-10T18:49:06.478Z"
   },
   {
    "duration": 118,
    "start_time": "2023-05-10T18:49:06.629Z"
   },
   {
    "duration": 127,
    "start_time": "2023-05-10T18:49:06.748Z"
   },
   {
    "duration": 4,
    "start_time": "2023-05-10T18:49:06.877Z"
   },
   {
    "duration": 15,
    "start_time": "2023-05-10T18:49:06.883Z"
   },
   {
    "duration": 12,
    "start_time": "2023-05-10T18:49:06.899Z"
   },
   {
    "duration": 19,
    "start_time": "2023-05-10T18:49:06.912Z"
   },
   {
    "duration": 5,
    "start_time": "2023-05-10T18:50:55.933Z"
   },
   {
    "duration": 6,
    "start_time": "2023-05-10T18:51:29.085Z"
   },
   {
    "duration": 111,
    "start_time": "2023-05-10T18:54:43.283Z"
   },
   {
    "duration": 50,
    "start_time": "2023-05-10T18:55:00.688Z"
   },
   {
    "duration": 8,
    "start_time": "2023-05-10T18:57:53.622Z"
   },
   {
    "duration": 7,
    "start_time": "2023-05-10T18:57:56.348Z"
   },
   {
    "duration": 7,
    "start_time": "2023-05-10T18:59:15.447Z"
   },
   {
    "duration": 6,
    "start_time": "2023-05-10T18:59:16.822Z"
   },
   {
    "duration": 18,
    "start_time": "2023-05-10T18:59:39.819Z"
   },
   {
    "duration": 9,
    "start_time": "2023-05-10T19:00:06.837Z"
   },
   {
    "duration": 25,
    "start_time": "2023-05-10T19:00:57.208Z"
   },
   {
    "duration": 10,
    "start_time": "2023-05-10T19:01:32.536Z"
   },
   {
    "duration": 33,
    "start_time": "2023-05-10T19:01:48.675Z"
   },
   {
    "duration": 20,
    "start_time": "2023-05-10T19:02:43.452Z"
   },
   {
    "duration": 17,
    "start_time": "2023-05-10T19:03:34.022Z"
   },
   {
    "duration": 17,
    "start_time": "2023-05-10T19:06:07.512Z"
   },
   {
    "duration": 13,
    "start_time": "2023-05-10T19:06:21.351Z"
   },
   {
    "duration": 17,
    "start_time": "2023-05-10T19:06:42.790Z"
   },
   {
    "duration": 16,
    "start_time": "2023-05-10T19:07:28.560Z"
   },
   {
    "duration": 9,
    "start_time": "2023-05-10T19:07:39.818Z"
   },
   {
    "duration": 8,
    "start_time": "2023-05-10T19:13:13.355Z"
   },
   {
    "duration": 7,
    "start_time": "2023-05-10T19:13:15.711Z"
   },
   {
    "duration": 9,
    "start_time": "2023-05-10T19:14:55.449Z"
   },
   {
    "duration": 5,
    "start_time": "2023-05-10T19:14:57.462Z"
   },
   {
    "duration": 8,
    "start_time": "2023-05-10T19:23:01.512Z"
   },
   {
    "duration": 7,
    "start_time": "2023-05-10T19:23:42.843Z"
   },
   {
    "duration": 1003,
    "start_time": "2023-05-10T19:25:16.236Z"
   },
   {
    "duration": 43,
    "start_time": "2023-05-10T19:25:17.241Z"
   },
   {
    "duration": 19,
    "start_time": "2023-05-10T19:25:17.285Z"
   },
   {
    "duration": 18,
    "start_time": "2023-05-10T19:25:17.306Z"
   },
   {
    "duration": 712,
    "start_time": "2023-05-10T19:25:17.326Z"
   },
   {
    "duration": 5,
    "start_time": "2023-05-10T19:25:18.040Z"
   },
   {
    "duration": 14,
    "start_time": "2023-05-10T19:25:18.046Z"
   },
   {
    "duration": 33,
    "start_time": "2023-05-10T19:25:18.061Z"
   },
   {
    "duration": 4,
    "start_time": "2023-05-10T19:25:18.096Z"
   },
   {
    "duration": 6,
    "start_time": "2023-05-10T19:25:18.102Z"
   },
   {
    "duration": 11,
    "start_time": "2023-05-10T19:25:18.109Z"
   },
   {
    "duration": 6,
    "start_time": "2023-05-10T19:25:18.121Z"
   },
   {
    "duration": 3,
    "start_time": "2023-05-10T19:25:18.129Z"
   },
   {
    "duration": 8,
    "start_time": "2023-05-10T19:25:18.134Z"
   },
   {
    "duration": 7,
    "start_time": "2023-05-10T19:25:18.144Z"
   },
   {
    "duration": 16,
    "start_time": "2023-05-10T19:25:18.152Z"
   },
   {
    "duration": 31,
    "start_time": "2023-05-10T19:25:18.170Z"
   },
   {
    "duration": 13,
    "start_time": "2023-05-10T19:25:18.203Z"
   },
   {
    "duration": 33,
    "start_time": "2023-05-10T19:25:18.218Z"
   },
   {
    "duration": 16,
    "start_time": "2023-05-10T19:25:18.253Z"
   },
   {
    "duration": 331,
    "start_time": "2023-05-10T19:25:18.294Z"
   },
   {
    "duration": 6,
    "start_time": "2023-05-10T19:25:18.626Z"
   },
   {
    "duration": 346,
    "start_time": "2023-05-10T19:25:18.634Z"
   },
   {
    "duration": 6,
    "start_time": "2023-05-10T19:25:18.982Z"
   },
   {
    "duration": 11,
    "start_time": "2023-05-10T19:25:18.989Z"
   },
   {
    "duration": 11,
    "start_time": "2023-05-10T19:25:19.001Z"
   },
   {
    "duration": 224,
    "start_time": "2023-05-10T19:25:19.014Z"
   },
   {
    "duration": 22,
    "start_time": "2023-05-10T19:25:19.243Z"
   },
   {
    "duration": 181,
    "start_time": "2023-05-10T19:25:19.267Z"
   },
   {
    "duration": 245,
    "start_time": "2023-05-10T19:25:19.449Z"
   },
   {
    "duration": 154,
    "start_time": "2023-05-10T19:25:19.696Z"
   },
   {
    "duration": 5,
    "start_time": "2023-05-10T19:25:19.851Z"
   },
   {
    "duration": 157,
    "start_time": "2023-05-10T19:25:19.857Z"
   },
   {
    "duration": 4,
    "start_time": "2023-05-10T19:25:20.016Z"
   },
   {
    "duration": 167,
    "start_time": "2023-05-10T19:25:20.022Z"
   },
   {
    "duration": 148,
    "start_time": "2023-05-10T19:25:20.191Z"
   },
   {
    "duration": 148,
    "start_time": "2023-05-10T19:25:20.341Z"
   },
   {
    "duration": 149,
    "start_time": "2023-05-10T19:25:20.490Z"
   },
   {
    "duration": 229,
    "start_time": "2023-05-10T19:25:20.641Z"
   },
   {
    "duration": 234,
    "start_time": "2023-05-10T19:25:20.872Z"
   },
   {
    "duration": 236,
    "start_time": "2023-05-10T19:25:21.107Z"
   },
   {
    "duration": 185,
    "start_time": "2023-05-10T19:25:21.344Z"
   },
   {
    "duration": 8,
    "start_time": "2023-05-10T19:25:21.530Z"
   },
   {
    "duration": 242,
    "start_time": "2023-05-10T19:25:21.539Z"
   },
   {
    "duration": 11,
    "start_time": "2023-05-10T19:25:21.783Z"
   },
   {
    "duration": 153,
    "start_time": "2023-05-10T19:25:21.795Z"
   },
   {
    "duration": 7,
    "start_time": "2023-05-10T19:25:21.949Z"
   },
   {
    "duration": 182,
    "start_time": "2023-05-10T19:25:21.958Z"
   },
   {
    "duration": 8,
    "start_time": "2023-05-10T19:25:22.142Z"
   },
   {
    "duration": 174,
    "start_time": "2023-05-10T19:25:22.151Z"
   },
   {
    "duration": 7,
    "start_time": "2023-05-10T19:25:22.327Z"
   },
   {
    "duration": 189,
    "start_time": "2023-05-10T19:25:22.335Z"
   },
   {
    "duration": 6,
    "start_time": "2023-05-10T19:25:22.526Z"
   },
   {
    "duration": 116,
    "start_time": "2023-05-10T19:25:22.534Z"
   },
   {
    "duration": 114,
    "start_time": "2023-05-10T19:25:22.652Z"
   },
   {
    "duration": 126,
    "start_time": "2023-05-10T19:25:22.768Z"
   },
   {
    "duration": 7,
    "start_time": "2023-05-10T19:25:22.896Z"
   },
   {
    "duration": 6,
    "start_time": "2023-05-10T19:25:22.905Z"
   },
   {
    "duration": 8,
    "start_time": "2023-05-10T19:25:22.912Z"
   },
   {
    "duration": 6,
    "start_time": "2023-05-10T19:25:22.921Z"
   },
   {
    "duration": 12,
    "start_time": "2023-05-10T19:41:50.814Z"
   },
   {
    "duration": 88,
    "start_time": "2023-05-10T19:42:33.609Z"
   },
   {
    "duration": 17,
    "start_time": "2023-05-10T19:42:51.464Z"
   },
   {
    "duration": 5,
    "start_time": "2023-05-10T19:46:41.709Z"
   },
   {
    "duration": 1049,
    "start_time": "2023-05-10T19:47:08.979Z"
   },
   {
    "duration": 44,
    "start_time": "2023-05-10T19:47:10.030Z"
   },
   {
    "duration": 20,
    "start_time": "2023-05-10T19:47:10.076Z"
   },
   {
    "duration": 14,
    "start_time": "2023-05-10T19:47:10.098Z"
   },
   {
    "duration": 680,
    "start_time": "2023-05-10T19:47:10.114Z"
   },
   {
    "duration": 5,
    "start_time": "2023-05-10T19:47:10.795Z"
   },
   {
    "duration": 13,
    "start_time": "2023-05-10T19:47:10.802Z"
   },
   {
    "duration": 9,
    "start_time": "2023-05-10T19:47:10.816Z"
   },
   {
    "duration": 3,
    "start_time": "2023-05-10T19:47:10.827Z"
   },
   {
    "duration": 6,
    "start_time": "2023-05-10T19:47:10.832Z"
   },
   {
    "duration": 4,
    "start_time": "2023-05-10T19:47:10.839Z"
   },
   {
    "duration": 5,
    "start_time": "2023-05-10T19:47:10.845Z"
   },
   {
    "duration": 4,
    "start_time": "2023-05-10T19:47:10.851Z"
   },
   {
    "duration": 39,
    "start_time": "2023-05-10T19:47:10.856Z"
   },
   {
    "duration": 5,
    "start_time": "2023-05-10T19:47:10.897Z"
   },
   {
    "duration": 14,
    "start_time": "2023-05-10T19:47:10.903Z"
   },
   {
    "duration": 11,
    "start_time": "2023-05-10T19:47:10.919Z"
   },
   {
    "duration": 18,
    "start_time": "2023-05-10T19:47:10.932Z"
   },
   {
    "duration": 10,
    "start_time": "2023-05-10T19:47:10.951Z"
   },
   {
    "duration": 12,
    "start_time": "2023-05-10T19:47:10.995Z"
   },
   {
    "duration": 110,
    "start_time": "2023-05-10T19:47:11.009Z"
   },
   {
    "duration": 0,
    "start_time": "2023-05-10T19:47:11.121Z"
   },
   {
    "duration": 0,
    "start_time": "2023-05-10T19:47:11.122Z"
   },
   {
    "duration": 0,
    "start_time": "2023-05-10T19:47:11.123Z"
   },
   {
    "duration": 0,
    "start_time": "2023-05-10T19:47:11.125Z"
   },
   {
    "duration": 0,
    "start_time": "2023-05-10T19:47:11.126Z"
   },
   {
    "duration": 0,
    "start_time": "2023-05-10T19:47:11.127Z"
   },
   {
    "duration": 0,
    "start_time": "2023-05-10T19:47:11.128Z"
   },
   {
    "duration": 0,
    "start_time": "2023-05-10T19:47:11.129Z"
   },
   {
    "duration": 0,
    "start_time": "2023-05-10T19:47:11.130Z"
   },
   {
    "duration": 0,
    "start_time": "2023-05-10T19:47:11.131Z"
   },
   {
    "duration": 0,
    "start_time": "2023-05-10T19:47:11.132Z"
   },
   {
    "duration": 0,
    "start_time": "2023-05-10T19:47:11.133Z"
   },
   {
    "duration": 0,
    "start_time": "2023-05-10T19:47:11.134Z"
   },
   {
    "duration": 0,
    "start_time": "2023-05-10T19:47:11.134Z"
   },
   {
    "duration": 0,
    "start_time": "2023-05-10T19:47:11.135Z"
   },
   {
    "duration": 0,
    "start_time": "2023-05-10T19:47:11.136Z"
   },
   {
    "duration": 0,
    "start_time": "2023-05-10T19:47:11.137Z"
   },
   {
    "duration": 0,
    "start_time": "2023-05-10T19:47:11.138Z"
   },
   {
    "duration": 0,
    "start_time": "2023-05-10T19:47:11.139Z"
   },
   {
    "duration": 0,
    "start_time": "2023-05-10T19:47:11.140Z"
   },
   {
    "duration": 0,
    "start_time": "2023-05-10T19:47:11.141Z"
   },
   {
    "duration": 0,
    "start_time": "2023-05-10T19:47:11.142Z"
   },
   {
    "duration": 0,
    "start_time": "2023-05-10T19:47:11.143Z"
   },
   {
    "duration": 0,
    "start_time": "2023-05-10T19:47:11.144Z"
   },
   {
    "duration": 1,
    "start_time": "2023-05-10T19:47:11.145Z"
   },
   {
    "duration": 0,
    "start_time": "2023-05-10T19:47:11.147Z"
   },
   {
    "duration": 0,
    "start_time": "2023-05-10T19:47:11.148Z"
   },
   {
    "duration": 0,
    "start_time": "2023-05-10T19:47:11.149Z"
   },
   {
    "duration": 0,
    "start_time": "2023-05-10T19:47:11.195Z"
   },
   {
    "duration": 0,
    "start_time": "2023-05-10T19:47:11.196Z"
   },
   {
    "duration": 0,
    "start_time": "2023-05-10T19:47:11.197Z"
   },
   {
    "duration": 0,
    "start_time": "2023-05-10T19:47:11.199Z"
   },
   {
    "duration": 0,
    "start_time": "2023-05-10T19:47:11.201Z"
   },
   {
    "duration": 0,
    "start_time": "2023-05-10T19:47:11.202Z"
   },
   {
    "duration": 0,
    "start_time": "2023-05-10T19:47:11.204Z"
   },
   {
    "duration": 0,
    "start_time": "2023-05-10T19:47:11.205Z"
   },
   {
    "duration": 0,
    "start_time": "2023-05-10T19:47:11.209Z"
   },
   {
    "duration": 0,
    "start_time": "2023-05-10T19:47:11.210Z"
   },
   {
    "duration": 0,
    "start_time": "2023-05-10T19:47:11.211Z"
   },
   {
    "duration": 0,
    "start_time": "2023-05-10T19:47:11.213Z"
   },
   {
    "duration": 16,
    "start_time": "2023-05-10T20:25:56.541Z"
   },
   {
    "duration": 10,
    "start_time": "2023-05-10T20:31:46.043Z"
   },
   {
    "duration": 50,
    "start_time": "2023-05-10T20:35:50.946Z"
   },
   {
    "duration": 12,
    "start_time": "2023-05-10T20:36:51.393Z"
   },
   {
    "duration": 976,
    "start_time": "2023-05-10T20:37:04.743Z"
   },
   {
    "duration": 44,
    "start_time": "2023-05-10T20:37:05.721Z"
   },
   {
    "duration": 19,
    "start_time": "2023-05-10T20:37:05.766Z"
   },
   {
    "duration": 15,
    "start_time": "2023-05-10T20:37:05.786Z"
   },
   {
    "duration": 640,
    "start_time": "2023-05-10T20:37:05.802Z"
   },
   {
    "duration": 4,
    "start_time": "2023-05-10T20:37:06.443Z"
   },
   {
    "duration": 17,
    "start_time": "2023-05-10T20:37:06.449Z"
   },
   {
    "duration": 30,
    "start_time": "2023-05-10T20:37:06.467Z"
   },
   {
    "duration": 3,
    "start_time": "2023-05-10T20:37:06.499Z"
   },
   {
    "duration": 5,
    "start_time": "2023-05-10T20:37:06.505Z"
   },
   {
    "duration": 4,
    "start_time": "2023-05-10T20:37:06.512Z"
   },
   {
    "duration": 5,
    "start_time": "2023-05-10T20:37:06.518Z"
   },
   {
    "duration": 3,
    "start_time": "2023-05-10T20:37:06.525Z"
   },
   {
    "duration": 6,
    "start_time": "2023-05-10T20:37:06.529Z"
   },
   {
    "duration": 4,
    "start_time": "2023-05-10T20:37:06.536Z"
   },
   {
    "duration": 16,
    "start_time": "2023-05-10T20:37:06.542Z"
   },
   {
    "duration": 42,
    "start_time": "2023-05-10T20:37:06.559Z"
   },
   {
    "duration": 16,
    "start_time": "2023-05-10T20:37:06.603Z"
   },
   {
    "duration": 11,
    "start_time": "2023-05-10T20:37:06.621Z"
   },
   {
    "duration": 28,
    "start_time": "2023-05-10T20:37:06.633Z"
   },
   {
    "duration": 40,
    "start_time": "2023-05-10T20:37:06.662Z"
   },
   {
    "duration": 342,
    "start_time": "2023-05-10T20:37:06.704Z"
   },
   {
    "duration": 6,
    "start_time": "2023-05-10T20:37:07.047Z"
   },
   {
    "duration": 369,
    "start_time": "2023-05-10T20:37:07.054Z"
   },
   {
    "duration": 5,
    "start_time": "2023-05-10T20:37:07.425Z"
   },
   {
    "duration": 5,
    "start_time": "2023-05-10T20:37:07.432Z"
   },
   {
    "duration": 9,
    "start_time": "2023-05-10T20:37:07.439Z"
   },
   {
    "duration": 221,
    "start_time": "2023-05-10T20:37:07.451Z"
   },
   {
    "duration": 24,
    "start_time": "2023-05-10T20:37:07.673Z"
   },
   {
    "duration": 148,
    "start_time": "2023-05-10T20:37:07.698Z"
   },
   {
    "duration": 223,
    "start_time": "2023-05-10T20:37:07.847Z"
   },
   {
    "duration": 138,
    "start_time": "2023-05-10T20:37:08.071Z"
   },
   {
    "duration": 4,
    "start_time": "2023-05-10T20:37:08.211Z"
   },
   {
    "duration": 149,
    "start_time": "2023-05-10T20:37:08.216Z"
   },
   {
    "duration": 4,
    "start_time": "2023-05-10T20:37:08.367Z"
   },
   {
    "duration": 161,
    "start_time": "2023-05-10T20:37:08.372Z"
   },
   {
    "duration": 149,
    "start_time": "2023-05-10T20:37:08.534Z"
   },
   {
    "duration": 146,
    "start_time": "2023-05-10T20:37:08.684Z"
   },
   {
    "duration": 141,
    "start_time": "2023-05-10T20:37:08.831Z"
   },
   {
    "duration": 221,
    "start_time": "2023-05-10T20:37:08.973Z"
   },
   {
    "duration": 243,
    "start_time": "2023-05-10T20:37:09.195Z"
   },
   {
    "duration": 248,
    "start_time": "2023-05-10T20:37:09.440Z"
   },
   {
    "duration": 164,
    "start_time": "2023-05-10T20:37:09.689Z"
   },
   {
    "duration": 8,
    "start_time": "2023-05-10T20:37:09.856Z"
   },
   {
    "duration": 252,
    "start_time": "2023-05-10T20:37:09.865Z"
   },
   {
    "duration": 6,
    "start_time": "2023-05-10T20:37:10.119Z"
   },
   {
    "duration": 188,
    "start_time": "2023-05-10T20:37:10.126Z"
   },
   {
    "duration": 7,
    "start_time": "2023-05-10T20:37:10.316Z"
   },
   {
    "duration": 229,
    "start_time": "2023-05-10T20:37:10.324Z"
   },
   {
    "duration": 7,
    "start_time": "2023-05-10T20:37:10.555Z"
   },
   {
    "duration": 240,
    "start_time": "2023-05-10T20:37:10.563Z"
   },
   {
    "duration": 7,
    "start_time": "2023-05-10T20:37:10.804Z"
   },
   {
    "duration": 184,
    "start_time": "2023-05-10T20:37:10.812Z"
   },
   {
    "duration": 7,
    "start_time": "2023-05-10T20:37:10.997Z"
   },
   {
    "duration": 116,
    "start_time": "2023-05-10T20:37:11.006Z"
   },
   {
    "duration": 112,
    "start_time": "2023-05-10T20:37:11.124Z"
   },
   {
    "duration": 127,
    "start_time": "2023-05-10T20:37:11.238Z"
   },
   {
    "duration": 9,
    "start_time": "2023-05-10T20:37:11.366Z"
   },
   {
    "duration": 22,
    "start_time": "2023-05-10T20:37:11.377Z"
   },
   {
    "duration": 19,
    "start_time": "2023-05-10T20:37:11.401Z"
   },
   {
    "duration": 25,
    "start_time": "2023-05-10T20:37:11.422Z"
   },
   {
    "duration": 94,
    "start_time": "2023-05-10T20:39:44.701Z"
   },
   {
    "duration": 13,
    "start_time": "2023-05-10T20:39:53.183Z"
   },
   {
    "duration": 1045,
    "start_time": "2023-05-10T20:40:01.130Z"
   },
   {
    "duration": 45,
    "start_time": "2023-05-10T20:40:02.176Z"
   },
   {
    "duration": 18,
    "start_time": "2023-05-10T20:40:02.223Z"
   },
   {
    "duration": 13,
    "start_time": "2023-05-10T20:40:02.243Z"
   },
   {
    "duration": 689,
    "start_time": "2023-05-10T20:40:02.257Z"
   },
   {
    "duration": 5,
    "start_time": "2023-05-10T20:40:02.947Z"
   },
   {
    "duration": 19,
    "start_time": "2023-05-10T20:40:02.953Z"
   },
   {
    "duration": 26,
    "start_time": "2023-05-10T20:40:02.973Z"
   },
   {
    "duration": 4,
    "start_time": "2023-05-10T20:40:03.000Z"
   },
   {
    "duration": 22,
    "start_time": "2023-05-10T20:40:03.006Z"
   },
   {
    "duration": 20,
    "start_time": "2023-05-10T20:40:03.029Z"
   },
   {
    "duration": 38,
    "start_time": "2023-05-10T20:40:03.050Z"
   },
   {
    "duration": 10,
    "start_time": "2023-05-10T20:40:03.090Z"
   },
   {
    "duration": 11,
    "start_time": "2023-05-10T20:40:03.101Z"
   },
   {
    "duration": 6,
    "start_time": "2023-05-10T20:40:03.113Z"
   },
   {
    "duration": 18,
    "start_time": "2023-05-10T20:40:03.120Z"
   },
   {
    "duration": 12,
    "start_time": "2023-05-10T20:40:03.139Z"
   },
   {
    "duration": 19,
    "start_time": "2023-05-10T20:40:03.153Z"
   },
   {
    "duration": 23,
    "start_time": "2023-05-10T20:40:03.173Z"
   },
   {
    "duration": 27,
    "start_time": "2023-05-10T20:40:03.198Z"
   },
   {
    "duration": 14,
    "start_time": "2023-05-10T20:40:03.227Z"
   },
   {
    "duration": 354,
    "start_time": "2023-05-10T20:40:03.243Z"
   },
   {
    "duration": 7,
    "start_time": "2023-05-10T20:40:03.598Z"
   },
   {
    "duration": 385,
    "start_time": "2023-05-10T20:40:03.607Z"
   },
   {
    "duration": 6,
    "start_time": "2023-05-10T20:40:03.994Z"
   },
   {
    "duration": 23,
    "start_time": "2023-05-10T20:40:04.002Z"
   },
   {
    "duration": 15,
    "start_time": "2023-05-10T20:40:04.027Z"
   },
   {
    "duration": 272,
    "start_time": "2023-05-10T20:40:04.046Z"
   },
   {
    "duration": 20,
    "start_time": "2023-05-10T20:40:04.320Z"
   },
   {
    "duration": 160,
    "start_time": "2023-05-10T20:40:04.341Z"
   },
   {
    "duration": 222,
    "start_time": "2023-05-10T20:40:04.502Z"
   },
   {
    "duration": 139,
    "start_time": "2023-05-10T20:40:04.726Z"
   },
   {
    "duration": 4,
    "start_time": "2023-05-10T20:40:04.866Z"
   },
   {
    "duration": 141,
    "start_time": "2023-05-10T20:40:04.871Z"
   },
   {
    "duration": 4,
    "start_time": "2023-05-10T20:40:05.013Z"
   },
   {
    "duration": 187,
    "start_time": "2023-05-10T20:40:05.018Z"
   },
   {
    "duration": 141,
    "start_time": "2023-05-10T20:40:05.207Z"
   },
   {
    "duration": 135,
    "start_time": "2023-05-10T20:40:05.350Z"
   },
   {
    "duration": 142,
    "start_time": "2023-05-10T20:40:05.494Z"
   },
   {
    "duration": 224,
    "start_time": "2023-05-10T20:40:05.638Z"
   },
   {
    "duration": 233,
    "start_time": "2023-05-10T20:40:05.863Z"
   },
   {
    "duration": 234,
    "start_time": "2023-05-10T20:40:06.098Z"
   },
   {
    "duration": 156,
    "start_time": "2023-05-10T20:40:06.333Z"
   },
   {
    "duration": 9,
    "start_time": "2023-05-10T20:40:06.491Z"
   },
   {
    "duration": 248,
    "start_time": "2023-05-10T20:40:06.501Z"
   },
   {
    "duration": 7,
    "start_time": "2023-05-10T20:40:06.751Z"
   },
   {
    "duration": 160,
    "start_time": "2023-05-10T20:40:06.760Z"
   },
   {
    "duration": 6,
    "start_time": "2023-05-10T20:40:06.921Z"
   },
   {
    "duration": 170,
    "start_time": "2023-05-10T20:40:06.929Z"
   },
   {
    "duration": 8,
    "start_time": "2023-05-10T20:40:07.100Z"
   },
   {
    "duration": 185,
    "start_time": "2023-05-10T20:40:07.109Z"
   },
   {
    "duration": 7,
    "start_time": "2023-05-10T20:40:07.295Z"
   },
   {
    "duration": 188,
    "start_time": "2023-05-10T20:40:07.303Z"
   },
   {
    "duration": 7,
    "start_time": "2023-05-10T20:40:07.494Z"
   },
   {
    "duration": 117,
    "start_time": "2023-05-10T20:40:07.503Z"
   },
   {
    "duration": 115,
    "start_time": "2023-05-10T20:40:07.621Z"
   },
   {
    "duration": 120,
    "start_time": "2023-05-10T20:40:07.738Z"
   },
   {
    "duration": 8,
    "start_time": "2023-05-10T20:40:07.860Z"
   },
   {
    "duration": 6,
    "start_time": "2023-05-10T20:40:07.870Z"
   },
   {
    "duration": 24,
    "start_time": "2023-05-10T20:40:07.877Z"
   },
   {
    "duration": 5,
    "start_time": "2023-05-10T20:40:07.903Z"
   },
   {
    "duration": 1021,
    "start_time": "2023-05-10T20:43:58.215Z"
   },
   {
    "duration": 48,
    "start_time": "2023-05-10T20:43:59.237Z"
   },
   {
    "duration": 20,
    "start_time": "2023-05-10T20:43:59.286Z"
   },
   {
    "duration": 13,
    "start_time": "2023-05-10T20:43:59.307Z"
   },
   {
    "duration": 684,
    "start_time": "2023-05-10T20:43:59.322Z"
   },
   {
    "duration": 4,
    "start_time": "2023-05-10T20:44:00.008Z"
   },
   {
    "duration": 23,
    "start_time": "2023-05-10T20:44:00.013Z"
   },
   {
    "duration": 10,
    "start_time": "2023-05-10T20:44:00.037Z"
   },
   {
    "duration": 5,
    "start_time": "2023-05-10T20:44:00.048Z"
   },
   {
    "duration": 5,
    "start_time": "2023-05-10T20:44:00.055Z"
   },
   {
    "duration": 12,
    "start_time": "2023-05-10T20:44:00.061Z"
   },
   {
    "duration": 19,
    "start_time": "2023-05-10T20:44:00.075Z"
   },
   {
    "duration": 7,
    "start_time": "2023-05-10T20:44:00.096Z"
   },
   {
    "duration": 6,
    "start_time": "2023-05-10T20:44:00.105Z"
   },
   {
    "duration": 9,
    "start_time": "2023-05-10T20:44:00.113Z"
   },
   {
    "duration": 16,
    "start_time": "2023-05-10T20:44:00.123Z"
   },
   {
    "duration": 11,
    "start_time": "2023-05-10T20:44:00.140Z"
   },
   {
    "duration": 110,
    "start_time": "2023-05-10T20:44:00.152Z"
   },
   {
    "duration": 0,
    "start_time": "2023-05-10T20:44:00.264Z"
   },
   {
    "duration": 0,
    "start_time": "2023-05-10T20:44:00.266Z"
   },
   {
    "duration": 0,
    "start_time": "2023-05-10T20:44:00.267Z"
   },
   {
    "duration": 0,
    "start_time": "2023-05-10T20:44:00.269Z"
   },
   {
    "duration": 0,
    "start_time": "2023-05-10T20:44:00.270Z"
   },
   {
    "duration": 0,
    "start_time": "2023-05-10T20:44:00.271Z"
   },
   {
    "duration": 0,
    "start_time": "2023-05-10T20:44:00.273Z"
   },
   {
    "duration": 0,
    "start_time": "2023-05-10T20:44:00.274Z"
   },
   {
    "duration": 0,
    "start_time": "2023-05-10T20:44:00.295Z"
   },
   {
    "duration": 0,
    "start_time": "2023-05-10T20:44:00.296Z"
   },
   {
    "duration": 0,
    "start_time": "2023-05-10T20:44:00.297Z"
   },
   {
    "duration": 0,
    "start_time": "2023-05-10T20:44:00.299Z"
   },
   {
    "duration": 0,
    "start_time": "2023-05-10T20:44:00.300Z"
   },
   {
    "duration": 0,
    "start_time": "2023-05-10T20:44:00.302Z"
   },
   {
    "duration": 0,
    "start_time": "2023-05-10T20:44:00.303Z"
   },
   {
    "duration": 0,
    "start_time": "2023-05-10T20:44:00.304Z"
   },
   {
    "duration": 0,
    "start_time": "2023-05-10T20:44:00.305Z"
   },
   {
    "duration": 0,
    "start_time": "2023-05-10T20:44:00.306Z"
   },
   {
    "duration": 0,
    "start_time": "2023-05-10T20:44:00.307Z"
   },
   {
    "duration": 0,
    "start_time": "2023-05-10T20:44:00.308Z"
   },
   {
    "duration": 0,
    "start_time": "2023-05-10T20:44:00.309Z"
   },
   {
    "duration": 0,
    "start_time": "2023-05-10T20:44:00.310Z"
   },
   {
    "duration": 0,
    "start_time": "2023-05-10T20:44:00.311Z"
   },
   {
    "duration": 0,
    "start_time": "2023-05-10T20:44:00.312Z"
   },
   {
    "duration": 0,
    "start_time": "2023-05-10T20:44:00.313Z"
   },
   {
    "duration": 0,
    "start_time": "2023-05-10T20:44:00.314Z"
   },
   {
    "duration": 0,
    "start_time": "2023-05-10T20:44:00.316Z"
   },
   {
    "duration": 0,
    "start_time": "2023-05-10T20:44:00.317Z"
   },
   {
    "duration": 0,
    "start_time": "2023-05-10T20:44:00.319Z"
   },
   {
    "duration": 0,
    "start_time": "2023-05-10T20:44:00.320Z"
   },
   {
    "duration": 0,
    "start_time": "2023-05-10T20:44:00.321Z"
   },
   {
    "duration": 0,
    "start_time": "2023-05-10T20:44:00.322Z"
   },
   {
    "duration": 0,
    "start_time": "2023-05-10T20:44:00.323Z"
   },
   {
    "duration": 0,
    "start_time": "2023-05-10T20:44:00.324Z"
   },
   {
    "duration": 0,
    "start_time": "2023-05-10T20:44:00.325Z"
   },
   {
    "duration": 0,
    "start_time": "2023-05-10T20:44:00.326Z"
   },
   {
    "duration": 0,
    "start_time": "2023-05-10T20:44:00.327Z"
   },
   {
    "duration": 0,
    "start_time": "2023-05-10T20:44:00.328Z"
   },
   {
    "duration": 0,
    "start_time": "2023-05-10T20:44:00.330Z"
   },
   {
    "duration": 0,
    "start_time": "2023-05-10T20:44:00.331Z"
   },
   {
    "duration": 0,
    "start_time": "2023-05-10T20:44:00.331Z"
   },
   {
    "duration": 0,
    "start_time": "2023-05-10T20:44:00.332Z"
   },
   {
    "duration": 0,
    "start_time": "2023-05-10T20:44:00.395Z"
   },
   {
    "duration": 24,
    "start_time": "2023-05-10T20:44:22.116Z"
   },
   {
    "duration": 31,
    "start_time": "2023-05-10T20:44:46.198Z"
   },
   {
    "duration": 31,
    "start_time": "2023-05-10T20:44:57.876Z"
   },
   {
    "duration": 33,
    "start_time": "2023-05-10T20:45:21.419Z"
   },
   {
    "duration": 27,
    "start_time": "2023-05-10T20:46:05.068Z"
   },
   {
    "duration": 25,
    "start_time": "2023-05-10T20:46:47.598Z"
   },
   {
    "duration": 1057,
    "start_time": "2023-05-10T20:47:37.489Z"
   },
   {
    "duration": 45,
    "start_time": "2023-05-10T20:47:38.548Z"
   },
   {
    "duration": 19,
    "start_time": "2023-05-10T20:47:38.594Z"
   },
   {
    "duration": 13,
    "start_time": "2023-05-10T20:47:38.615Z"
   },
   {
    "duration": 686,
    "start_time": "2023-05-10T20:47:38.629Z"
   },
   {
    "duration": 5,
    "start_time": "2023-05-10T20:47:39.316Z"
   },
   {
    "duration": 17,
    "start_time": "2023-05-10T20:47:39.322Z"
   },
   {
    "duration": 9,
    "start_time": "2023-05-10T20:47:39.341Z"
   },
   {
    "duration": 6,
    "start_time": "2023-05-10T20:47:39.352Z"
   },
   {
    "duration": 7,
    "start_time": "2023-05-10T20:47:39.360Z"
   },
   {
    "duration": 27,
    "start_time": "2023-05-10T20:47:39.368Z"
   },
   {
    "duration": 2,
    "start_time": "2023-05-10T20:47:39.397Z"
   },
   {
    "duration": 6,
    "start_time": "2023-05-10T20:47:39.400Z"
   },
   {
    "duration": 12,
    "start_time": "2023-05-10T20:47:39.408Z"
   },
   {
    "duration": 21,
    "start_time": "2023-05-10T20:47:39.421Z"
   },
   {
    "duration": 15,
    "start_time": "2023-05-10T20:47:39.444Z"
   },
   {
    "duration": 14,
    "start_time": "2023-05-10T20:47:39.461Z"
   },
   {
    "duration": 27,
    "start_time": "2023-05-10T20:47:39.476Z"
   },
   {
    "duration": 12,
    "start_time": "2023-05-10T20:47:39.505Z"
   },
   {
    "duration": 46,
    "start_time": "2023-05-10T20:47:39.519Z"
   },
   {
    "duration": 15,
    "start_time": "2023-05-10T20:47:39.566Z"
   },
   {
    "duration": 317,
    "start_time": "2023-05-10T20:47:39.582Z"
   },
   {
    "duration": 6,
    "start_time": "2023-05-10T20:47:39.900Z"
   },
   {
    "duration": 332,
    "start_time": "2023-05-10T20:47:39.908Z"
   },
   {
    "duration": 6,
    "start_time": "2023-05-10T20:47:40.241Z"
   },
   {
    "duration": 20,
    "start_time": "2023-05-10T20:47:40.248Z"
   },
   {
    "duration": 13,
    "start_time": "2023-05-10T20:47:40.270Z"
   },
   {
    "duration": 232,
    "start_time": "2023-05-10T20:47:40.286Z"
   },
   {
    "duration": 21,
    "start_time": "2023-05-10T20:47:40.519Z"
   },
   {
    "duration": 155,
    "start_time": "2023-05-10T20:47:40.542Z"
   },
   {
    "duration": 219,
    "start_time": "2023-05-10T20:47:40.698Z"
   },
   {
    "duration": 138,
    "start_time": "2023-05-10T20:47:40.918Z"
   },
   {
    "duration": 4,
    "start_time": "2023-05-10T20:47:41.057Z"
   },
   {
    "duration": 140,
    "start_time": "2023-05-10T20:47:41.062Z"
   },
   {
    "duration": 4,
    "start_time": "2023-05-10T20:47:41.203Z"
   },
   {
    "duration": 155,
    "start_time": "2023-05-10T20:47:41.208Z"
   },
   {
    "duration": 167,
    "start_time": "2023-05-10T20:47:41.364Z"
   },
   {
    "duration": 130,
    "start_time": "2023-05-10T20:47:41.533Z"
   },
   {
    "duration": 139,
    "start_time": "2023-05-10T20:47:41.665Z"
   },
   {
    "duration": 214,
    "start_time": "2023-05-10T20:47:41.805Z"
   },
   {
    "duration": 229,
    "start_time": "2023-05-10T20:47:42.021Z"
   },
   {
    "duration": 233,
    "start_time": "2023-05-10T20:47:42.252Z"
   },
   {
    "duration": 154,
    "start_time": "2023-05-10T20:47:42.493Z"
   },
   {
    "duration": 7,
    "start_time": "2023-05-10T20:47:42.649Z"
   },
   {
    "duration": 247,
    "start_time": "2023-05-10T20:47:42.657Z"
   },
   {
    "duration": 6,
    "start_time": "2023-05-10T20:47:42.905Z"
   },
   {
    "duration": 156,
    "start_time": "2023-05-10T20:47:42.913Z"
   },
   {
    "duration": 7,
    "start_time": "2023-05-10T20:47:43.070Z"
   },
   {
    "duration": 168,
    "start_time": "2023-05-10T20:47:43.078Z"
   },
   {
    "duration": 8,
    "start_time": "2023-05-10T20:47:43.247Z"
   },
   {
    "duration": 196,
    "start_time": "2023-05-10T20:47:43.256Z"
   },
   {
    "duration": 8,
    "start_time": "2023-05-10T20:47:43.453Z"
   },
   {
    "duration": 184,
    "start_time": "2023-05-10T20:47:43.462Z"
   },
   {
    "duration": 8,
    "start_time": "2023-05-10T20:47:43.648Z"
   },
   {
    "duration": 130,
    "start_time": "2023-05-10T20:47:43.657Z"
   },
   {
    "duration": 122,
    "start_time": "2023-05-10T20:47:43.788Z"
   },
   {
    "duration": 139,
    "start_time": "2023-05-10T20:47:43.912Z"
   },
   {
    "duration": 10,
    "start_time": "2023-05-10T20:47:44.053Z"
   },
   {
    "duration": 29,
    "start_time": "2023-05-10T20:47:44.065Z"
   },
   {
    "duration": 22,
    "start_time": "2023-05-10T20:47:44.096Z"
   },
   {
    "duration": 7,
    "start_time": "2023-05-10T20:47:44.120Z"
   },
   {
    "duration": 1042,
    "start_time": "2023-05-10T20:49:27.882Z"
   },
   {
    "duration": 44,
    "start_time": "2023-05-10T20:49:28.925Z"
   },
   {
    "duration": 18,
    "start_time": "2023-05-10T20:49:28.970Z"
   },
   {
    "duration": 11,
    "start_time": "2023-05-10T20:49:28.990Z"
   },
   {
    "duration": 647,
    "start_time": "2023-05-10T20:49:29.003Z"
   },
   {
    "duration": 5,
    "start_time": "2023-05-10T20:49:29.651Z"
   },
   {
    "duration": 38,
    "start_time": "2023-05-10T20:49:29.657Z"
   },
   {
    "duration": 11,
    "start_time": "2023-05-10T20:49:29.697Z"
   },
   {
    "duration": 8,
    "start_time": "2023-05-10T20:49:29.710Z"
   },
   {
    "duration": 8,
    "start_time": "2023-05-10T20:49:29.721Z"
   },
   {
    "duration": 6,
    "start_time": "2023-05-10T20:49:29.730Z"
   },
   {
    "duration": 4,
    "start_time": "2023-05-10T20:49:29.737Z"
   },
   {
    "duration": 15,
    "start_time": "2023-05-10T20:49:29.742Z"
   },
   {
    "duration": 11,
    "start_time": "2023-05-10T20:49:29.759Z"
   },
   {
    "duration": 6,
    "start_time": "2023-05-10T20:49:29.772Z"
   },
   {
    "duration": 22,
    "start_time": "2023-05-10T20:49:29.779Z"
   },
   {
    "duration": 11,
    "start_time": "2023-05-10T20:49:29.803Z"
   },
   {
    "duration": 16,
    "start_time": "2023-05-10T20:49:29.816Z"
   },
   {
    "duration": 14,
    "start_time": "2023-05-10T20:49:29.833Z"
   },
   {
    "duration": 48,
    "start_time": "2023-05-10T20:49:29.848Z"
   },
   {
    "duration": 14,
    "start_time": "2023-05-10T20:49:29.898Z"
   },
   {
    "duration": 12,
    "start_time": "2023-05-10T20:49:29.914Z"
   },
   {
    "duration": 29,
    "start_time": "2023-05-10T20:49:29.927Z"
   },
   {
    "duration": 42,
    "start_time": "2023-05-10T20:49:29.958Z"
   },
   {
    "duration": 321,
    "start_time": "2023-05-10T20:49:30.002Z"
   },
   {
    "duration": 6,
    "start_time": "2023-05-10T20:49:30.324Z"
   },
   {
    "duration": 356,
    "start_time": "2023-05-10T20:49:30.332Z"
   },
   {
    "duration": 6,
    "start_time": "2023-05-10T20:49:30.692Z"
   },
   {
    "duration": 25,
    "start_time": "2023-05-10T20:49:30.700Z"
   },
   {
    "duration": 31,
    "start_time": "2023-05-10T20:49:30.727Z"
   },
   {
    "duration": 243,
    "start_time": "2023-05-10T20:49:30.760Z"
   },
   {
    "duration": 20,
    "start_time": "2023-05-10T20:49:31.005Z"
   },
   {
    "duration": 157,
    "start_time": "2023-05-10T20:49:31.027Z"
   },
   {
    "duration": 239,
    "start_time": "2023-05-10T20:49:31.186Z"
   },
   {
    "duration": 156,
    "start_time": "2023-05-10T20:49:31.428Z"
   },
   {
    "duration": 12,
    "start_time": "2023-05-10T20:49:31.585Z"
   },
   {
    "duration": 151,
    "start_time": "2023-05-10T20:49:31.598Z"
   },
   {
    "duration": 5,
    "start_time": "2023-05-10T20:49:31.751Z"
   },
   {
    "duration": 170,
    "start_time": "2023-05-10T20:49:31.757Z"
   },
   {
    "duration": 132,
    "start_time": "2023-05-10T20:49:31.928Z"
   },
   {
    "duration": 139,
    "start_time": "2023-05-10T20:49:32.062Z"
   },
   {
    "duration": 137,
    "start_time": "2023-05-10T20:49:32.203Z"
   },
   {
    "duration": 228,
    "start_time": "2023-05-10T20:49:32.341Z"
   },
   {
    "duration": 225,
    "start_time": "2023-05-10T20:49:32.571Z"
   },
   {
    "duration": 236,
    "start_time": "2023-05-10T20:49:32.798Z"
   },
   {
    "duration": 155,
    "start_time": "2023-05-10T20:49:33.036Z"
   },
   {
    "duration": 7,
    "start_time": "2023-05-10T20:49:33.193Z"
   },
   {
    "duration": 252,
    "start_time": "2023-05-10T20:49:33.201Z"
   },
   {
    "duration": 6,
    "start_time": "2023-05-10T20:49:33.455Z"
   },
   {
    "duration": 152,
    "start_time": "2023-05-10T20:49:33.462Z"
   },
   {
    "duration": 6,
    "start_time": "2023-05-10T20:49:33.616Z"
   },
   {
    "duration": 165,
    "start_time": "2023-05-10T20:49:33.623Z"
   },
   {
    "duration": 8,
    "start_time": "2023-05-10T20:49:33.793Z"
   },
   {
    "duration": 175,
    "start_time": "2023-05-10T20:49:33.802Z"
   },
   {
    "duration": 7,
    "start_time": "2023-05-10T20:49:33.979Z"
   },
   {
    "duration": 230,
    "start_time": "2023-05-10T20:49:33.994Z"
   },
   {
    "duration": 7,
    "start_time": "2023-05-10T20:49:34.225Z"
   },
   {
    "duration": 117,
    "start_time": "2023-05-10T20:49:34.233Z"
   },
   {
    "duration": 112,
    "start_time": "2023-05-10T20:49:34.351Z"
   },
   {
    "duration": 124,
    "start_time": "2023-05-10T20:49:34.465Z"
   },
   {
    "duration": 8,
    "start_time": "2023-05-10T20:49:34.594Z"
   },
   {
    "duration": 8,
    "start_time": "2023-05-10T20:49:34.603Z"
   },
   {
    "duration": 10,
    "start_time": "2023-05-10T20:49:34.612Z"
   },
   {
    "duration": 7,
    "start_time": "2023-05-10T20:49:34.623Z"
   },
   {
    "duration": 1053,
    "start_time": "2023-05-10T20:53:49.580Z"
   },
   {
    "duration": 44,
    "start_time": "2023-05-10T20:53:50.635Z"
   },
   {
    "duration": 20,
    "start_time": "2023-05-10T20:53:50.681Z"
   },
   {
    "duration": 13,
    "start_time": "2023-05-10T20:53:50.703Z"
   },
   {
    "duration": 676,
    "start_time": "2023-05-10T20:53:50.718Z"
   },
   {
    "duration": 5,
    "start_time": "2023-05-10T20:53:51.396Z"
   },
   {
    "duration": 53,
    "start_time": "2023-05-10T20:53:51.402Z"
   },
   {
    "duration": 10,
    "start_time": "2023-05-10T20:53:51.457Z"
   },
   {
    "duration": 8,
    "start_time": "2023-05-10T20:53:51.468Z"
   },
   {
    "duration": 7,
    "start_time": "2023-05-10T20:53:51.478Z"
   },
   {
    "duration": 4,
    "start_time": "2023-05-10T20:53:51.486Z"
   },
   {
    "duration": 3,
    "start_time": "2023-05-10T20:53:51.491Z"
   },
   {
    "duration": 5,
    "start_time": "2023-05-10T20:53:51.496Z"
   },
   {
    "duration": 10,
    "start_time": "2023-05-10T20:53:51.502Z"
   },
   {
    "duration": 4,
    "start_time": "2023-05-10T20:53:51.513Z"
   },
   {
    "duration": 13,
    "start_time": "2023-05-10T20:53:51.519Z"
   },
   {
    "duration": 10,
    "start_time": "2023-05-10T20:53:51.533Z"
   },
   {
    "duration": 15,
    "start_time": "2023-05-10T20:53:51.544Z"
   },
   {
    "duration": 33,
    "start_time": "2023-05-10T20:53:51.561Z"
   },
   {
    "duration": 9,
    "start_time": "2023-05-10T20:53:51.596Z"
   },
   {
    "duration": 12,
    "start_time": "2023-05-10T20:53:51.606Z"
   },
   {
    "duration": 26,
    "start_time": "2023-05-10T20:53:51.619Z"
   },
   {
    "duration": 28,
    "start_time": "2023-05-10T20:53:51.646Z"
   },
   {
    "duration": 30,
    "start_time": "2023-05-10T20:53:51.676Z"
   },
   {
    "duration": 314,
    "start_time": "2023-05-10T20:53:51.708Z"
   },
   {
    "duration": 6,
    "start_time": "2023-05-10T20:53:52.024Z"
   },
   {
    "duration": 347,
    "start_time": "2023-05-10T20:53:52.032Z"
   },
   {
    "duration": 5,
    "start_time": "2023-05-10T20:53:52.383Z"
   },
   {
    "duration": 3,
    "start_time": "2023-05-10T20:53:52.390Z"
   },
   {
    "duration": 13,
    "start_time": "2023-05-10T20:53:52.395Z"
   },
   {
    "duration": 235,
    "start_time": "2023-05-10T20:53:52.410Z"
   },
   {
    "duration": 20,
    "start_time": "2023-05-10T20:53:52.647Z"
   },
   {
    "duration": 162,
    "start_time": "2023-05-10T20:53:52.669Z"
   },
   {
    "duration": 224,
    "start_time": "2023-05-10T20:53:52.832Z"
   },
   {
    "duration": 141,
    "start_time": "2023-05-10T20:53:53.057Z"
   },
   {
    "duration": 4,
    "start_time": "2023-05-10T20:53:53.199Z"
   },
   {
    "duration": 138,
    "start_time": "2023-05-10T20:53:53.205Z"
   },
   {
    "duration": 4,
    "start_time": "2023-05-10T20:53:53.344Z"
   },
   {
    "duration": 153,
    "start_time": "2023-05-10T20:53:53.349Z"
   },
   {
    "duration": 143,
    "start_time": "2023-05-10T20:53:53.504Z"
   },
   {
    "duration": 136,
    "start_time": "2023-05-10T20:53:53.648Z"
   },
   {
    "duration": 147,
    "start_time": "2023-05-10T20:53:53.785Z"
   },
   {
    "duration": 260,
    "start_time": "2023-05-10T20:53:53.934Z"
   },
   {
    "duration": 232,
    "start_time": "2023-05-10T20:53:54.195Z"
   },
   {
    "duration": 245,
    "start_time": "2023-05-10T20:53:54.429Z"
   },
   {
    "duration": 162,
    "start_time": "2023-05-10T20:53:54.676Z"
   },
   {
    "duration": 9,
    "start_time": "2023-05-10T20:53:54.840Z"
   },
   {
    "duration": 255,
    "start_time": "2023-05-10T20:53:54.850Z"
   },
   {
    "duration": 7,
    "start_time": "2023-05-10T20:53:55.106Z"
   },
   {
    "duration": 159,
    "start_time": "2023-05-10T20:53:55.115Z"
   },
   {
    "duration": 5,
    "start_time": "2023-05-10T20:53:55.276Z"
   },
   {
    "duration": 177,
    "start_time": "2023-05-10T20:53:55.283Z"
   },
   {
    "duration": 8,
    "start_time": "2023-05-10T20:53:55.461Z"
   },
   {
    "duration": 170,
    "start_time": "2023-05-10T20:53:55.470Z"
   },
   {
    "duration": 6,
    "start_time": "2023-05-10T20:53:55.642Z"
   },
   {
    "duration": 177,
    "start_time": "2023-05-10T20:53:55.649Z"
   },
   {
    "duration": 7,
    "start_time": "2023-05-10T20:53:55.828Z"
   },
   {
    "duration": 111,
    "start_time": "2023-05-10T20:53:55.837Z"
   },
   {
    "duration": 110,
    "start_time": "2023-05-10T20:53:55.949Z"
   },
   {
    "duration": 112,
    "start_time": "2023-05-10T20:53:56.060Z"
   },
   {
    "duration": 23,
    "start_time": "2023-05-10T20:53:56.173Z"
   },
   {
    "duration": 6,
    "start_time": "2023-05-10T20:53:56.198Z"
   },
   {
    "duration": 8,
    "start_time": "2023-05-10T20:53:56.205Z"
   },
   {
    "duration": 5,
    "start_time": "2023-05-10T20:53:56.214Z"
   },
   {
    "duration": 1010,
    "start_time": "2023-05-10T20:59:12.508Z"
   },
   {
    "duration": 47,
    "start_time": "2023-05-10T20:59:13.520Z"
   },
   {
    "duration": 19,
    "start_time": "2023-05-10T20:59:13.569Z"
   },
   {
    "duration": 12,
    "start_time": "2023-05-10T20:59:13.590Z"
   },
   {
    "duration": 699,
    "start_time": "2023-05-10T20:59:13.604Z"
   },
   {
    "duration": 5,
    "start_time": "2023-05-10T20:59:14.304Z"
   },
   {
    "duration": 13,
    "start_time": "2023-05-10T20:59:14.310Z"
   },
   {
    "duration": 18,
    "start_time": "2023-05-10T20:59:14.324Z"
   },
   {
    "duration": 3,
    "start_time": "2023-05-10T20:59:14.343Z"
   },
   {
    "duration": 5,
    "start_time": "2023-05-10T20:59:14.348Z"
   },
   {
    "duration": 5,
    "start_time": "2023-05-10T20:59:14.354Z"
   },
   {
    "duration": 34,
    "start_time": "2023-05-10T20:59:14.360Z"
   },
   {
    "duration": 6,
    "start_time": "2023-05-10T20:59:14.396Z"
   },
   {
    "duration": 5,
    "start_time": "2023-05-10T20:59:14.404Z"
   },
   {
    "duration": 8,
    "start_time": "2023-05-10T20:59:14.411Z"
   },
   {
    "duration": 27,
    "start_time": "2023-05-10T20:59:14.420Z"
   },
   {
    "duration": 10,
    "start_time": "2023-05-10T20:59:14.448Z"
   },
   {
    "duration": 15,
    "start_time": "2023-05-10T20:59:14.459Z"
   },
   {
    "duration": 12,
    "start_time": "2023-05-10T20:59:14.475Z"
   },
   {
    "duration": 8,
    "start_time": "2023-05-10T20:59:14.494Z"
   },
   {
    "duration": 14,
    "start_time": "2023-05-10T20:59:14.504Z"
   },
   {
    "duration": 26,
    "start_time": "2023-05-10T20:59:14.520Z"
   },
   {
    "duration": 15,
    "start_time": "2023-05-10T20:59:14.547Z"
   },
   {
    "duration": 320,
    "start_time": "2023-05-10T20:59:14.564Z"
   },
   {
    "duration": 11,
    "start_time": "2023-05-10T20:59:14.885Z"
   },
   {
    "duration": 326,
    "start_time": "2023-05-10T20:59:14.897Z"
   },
   {
    "duration": 5,
    "start_time": "2023-05-10T20:59:15.225Z"
   },
   {
    "duration": 2,
    "start_time": "2023-05-10T20:59:15.234Z"
   },
   {
    "duration": 9,
    "start_time": "2023-05-10T20:59:15.237Z"
   },
   {
    "duration": 225,
    "start_time": "2023-05-10T20:59:15.248Z"
   },
   {
    "duration": 28,
    "start_time": "2023-05-10T20:59:15.474Z"
   },
   {
    "duration": 144,
    "start_time": "2023-05-10T20:59:15.504Z"
   },
   {
    "duration": 204,
    "start_time": "2023-05-10T20:59:15.650Z"
   },
   {
    "duration": 138,
    "start_time": "2023-05-10T20:59:15.856Z"
   },
   {
    "duration": 4,
    "start_time": "2023-05-10T20:59:15.995Z"
   },
   {
    "duration": 133,
    "start_time": "2023-05-10T20:59:16.001Z"
   },
   {
    "duration": 4,
    "start_time": "2023-05-10T20:59:16.135Z"
   },
   {
    "duration": 148,
    "start_time": "2023-05-10T20:59:16.140Z"
   },
   {
    "duration": 137,
    "start_time": "2023-05-10T20:59:16.289Z"
   },
   {
    "duration": 133,
    "start_time": "2023-05-10T20:59:16.427Z"
   },
   {
    "duration": 135,
    "start_time": "2023-05-10T20:59:16.561Z"
   },
   {
    "duration": 216,
    "start_time": "2023-05-10T20:59:16.697Z"
   },
   {
    "duration": 223,
    "start_time": "2023-05-10T20:59:16.915Z"
   },
   {
    "duration": 246,
    "start_time": "2023-05-10T20:59:17.140Z"
   },
   {
    "duration": 155,
    "start_time": "2023-05-10T20:59:17.388Z"
   },
   {
    "duration": 8,
    "start_time": "2023-05-10T20:59:17.544Z"
   },
   {
    "duration": 249,
    "start_time": "2023-05-10T20:59:17.553Z"
   },
   {
    "duration": 7,
    "start_time": "2023-05-10T20:59:17.804Z"
   },
   {
    "duration": 150,
    "start_time": "2023-05-10T20:59:17.812Z"
   },
   {
    "duration": 7,
    "start_time": "2023-05-10T20:59:17.963Z"
   },
   {
    "duration": 174,
    "start_time": "2023-05-10T20:59:17.971Z"
   },
   {
    "duration": 7,
    "start_time": "2023-05-10T20:59:18.147Z"
   },
   {
    "duration": 165,
    "start_time": "2023-05-10T20:59:18.156Z"
   },
   {
    "duration": 7,
    "start_time": "2023-05-10T20:59:18.323Z"
   },
   {
    "duration": 176,
    "start_time": "2023-05-10T20:59:18.331Z"
   },
   {
    "duration": 6,
    "start_time": "2023-05-10T20:59:18.509Z"
   },
   {
    "duration": 110,
    "start_time": "2023-05-10T20:59:18.517Z"
   },
   {
    "duration": 115,
    "start_time": "2023-05-10T20:59:18.628Z"
   },
   {
    "duration": 108,
    "start_time": "2023-05-10T20:59:18.745Z"
   },
   {
    "duration": 8,
    "start_time": "2023-05-10T20:59:18.855Z"
   },
   {
    "duration": 6,
    "start_time": "2023-05-10T20:59:18.865Z"
   },
   {
    "duration": 25,
    "start_time": "2023-05-10T20:59:18.872Z"
   },
   {
    "duration": 7,
    "start_time": "2023-05-10T20:59:18.898Z"
   },
   {
    "duration": 11,
    "start_time": "2023-05-10T21:02:33.184Z"
   },
   {
    "duration": 1044,
    "start_time": "2023-05-10T21:02:51.882Z"
   },
   {
    "duration": 44,
    "start_time": "2023-05-10T21:02:52.928Z"
   },
   {
    "duration": 22,
    "start_time": "2023-05-10T21:02:52.973Z"
   },
   {
    "duration": 18,
    "start_time": "2023-05-10T21:02:52.998Z"
   },
   {
    "duration": 733,
    "start_time": "2023-05-10T21:02:53.018Z"
   },
   {
    "duration": 4,
    "start_time": "2023-05-10T21:02:53.752Z"
   },
   {
    "duration": 13,
    "start_time": "2023-05-10T21:02:53.757Z"
   },
   {
    "duration": 37,
    "start_time": "2023-05-10T21:02:53.771Z"
   },
   {
    "duration": 3,
    "start_time": "2023-05-10T21:02:53.811Z"
   },
   {
    "duration": 5,
    "start_time": "2023-05-10T21:02:53.816Z"
   },
   {
    "duration": 5,
    "start_time": "2023-05-10T21:02:53.823Z"
   },
   {
    "duration": 5,
    "start_time": "2023-05-10T21:02:53.829Z"
   },
   {
    "duration": 6,
    "start_time": "2023-05-10T21:02:53.835Z"
   },
   {
    "duration": 6,
    "start_time": "2023-05-10T21:02:53.842Z"
   },
   {
    "duration": 4,
    "start_time": "2023-05-10T21:02:53.849Z"
   },
   {
    "duration": 41,
    "start_time": "2023-05-10T21:02:53.854Z"
   },
   {
    "duration": 15,
    "start_time": "2023-05-10T21:02:53.896Z"
   },
   {
    "duration": 17,
    "start_time": "2023-05-10T21:02:53.913Z"
   },
   {
    "duration": 13,
    "start_time": "2023-05-10T21:02:53.931Z"
   },
   {
    "duration": 20,
    "start_time": "2023-05-10T21:02:53.946Z"
   },
   {
    "duration": 48,
    "start_time": "2023-05-10T21:02:53.967Z"
   },
   {
    "duration": 42,
    "start_time": "2023-05-10T21:02:54.017Z"
   },
   {
    "duration": 20,
    "start_time": "2023-05-10T21:02:54.061Z"
   },
   {
    "duration": 373,
    "start_time": "2023-05-10T21:02:54.094Z"
   },
   {
    "duration": 6,
    "start_time": "2023-05-10T21:02:54.468Z"
   },
   {
    "duration": 352,
    "start_time": "2023-05-10T21:02:54.475Z"
   },
   {
    "duration": 6,
    "start_time": "2023-05-10T21:02:54.829Z"
   },
   {
    "duration": 7,
    "start_time": "2023-05-10T21:02:54.838Z"
   },
   {
    "duration": 10,
    "start_time": "2023-05-10T21:02:54.846Z"
   },
   {
    "duration": 237,
    "start_time": "2023-05-10T21:02:54.857Z"
   },
   {
    "duration": 21,
    "start_time": "2023-05-10T21:02:55.096Z"
   },
   {
    "duration": 161,
    "start_time": "2023-05-10T21:02:55.118Z"
   },
   {
    "duration": 244,
    "start_time": "2023-05-10T21:02:55.281Z"
   },
   {
    "duration": 149,
    "start_time": "2023-05-10T21:02:55.527Z"
   },
   {
    "duration": 5,
    "start_time": "2023-05-10T21:02:55.678Z"
   },
   {
    "duration": 149,
    "start_time": "2023-05-10T21:02:55.695Z"
   },
   {
    "duration": 4,
    "start_time": "2023-05-10T21:02:55.845Z"
   },
   {
    "duration": 158,
    "start_time": "2023-05-10T21:02:55.850Z"
   },
   {
    "duration": 143,
    "start_time": "2023-05-10T21:02:56.010Z"
   },
   {
    "duration": 141,
    "start_time": "2023-05-10T21:02:56.154Z"
   },
   {
    "duration": 146,
    "start_time": "2023-05-10T21:02:56.296Z"
   },
   {
    "duration": 223,
    "start_time": "2023-05-10T21:02:56.443Z"
   },
   {
    "duration": 259,
    "start_time": "2023-05-10T21:02:56.667Z"
   },
   {
    "duration": 236,
    "start_time": "2023-05-10T21:02:56.928Z"
   },
   {
    "duration": 171,
    "start_time": "2023-05-10T21:02:57.166Z"
   },
   {
    "duration": 7,
    "start_time": "2023-05-10T21:02:57.339Z"
   },
   {
    "duration": 274,
    "start_time": "2023-05-10T21:02:57.348Z"
   },
   {
    "duration": 6,
    "start_time": "2023-05-10T21:02:57.624Z"
   },
   {
    "duration": 155,
    "start_time": "2023-05-10T21:02:57.632Z"
   },
   {
    "duration": 10,
    "start_time": "2023-05-10T21:02:57.788Z"
   },
   {
    "duration": 194,
    "start_time": "2023-05-10T21:02:57.800Z"
   },
   {
    "duration": 9,
    "start_time": "2023-05-10T21:02:57.996Z"
   },
   {
    "duration": 191,
    "start_time": "2023-05-10T21:02:58.006Z"
   },
   {
    "duration": 7,
    "start_time": "2023-05-10T21:02:58.199Z"
   },
   {
    "duration": 197,
    "start_time": "2023-05-10T21:02:58.207Z"
   },
   {
    "duration": 8,
    "start_time": "2023-05-10T21:02:58.406Z"
   },
   {
    "duration": 122,
    "start_time": "2023-05-10T21:02:58.416Z"
   },
   {
    "duration": 106,
    "start_time": "2023-05-10T21:02:58.540Z"
   },
   {
    "duration": 115,
    "start_time": "2023-05-10T21:02:58.648Z"
   },
   {
    "duration": 8,
    "start_time": "2023-05-10T21:02:58.764Z"
   },
   {
    "duration": 6,
    "start_time": "2023-05-10T21:02:58.773Z"
   },
   {
    "duration": 9,
    "start_time": "2023-05-10T21:02:58.794Z"
   },
   {
    "duration": 6,
    "start_time": "2023-05-10T21:02:58.804Z"
   },
   {
    "duration": 990,
    "start_time": "2023-05-10T21:05:31.730Z"
   },
   {
    "duration": 44,
    "start_time": "2023-05-10T21:05:32.722Z"
   },
   {
    "duration": 18,
    "start_time": "2023-05-10T21:05:32.768Z"
   },
   {
    "duration": 12,
    "start_time": "2023-05-10T21:05:32.788Z"
   },
   {
    "duration": 649,
    "start_time": "2023-05-10T21:05:32.801Z"
   },
   {
    "duration": 5,
    "start_time": "2023-05-10T21:05:33.451Z"
   },
   {
    "duration": 13,
    "start_time": "2023-05-10T21:05:33.457Z"
   },
   {
    "duration": 37,
    "start_time": "2023-05-10T21:05:33.472Z"
   },
   {
    "duration": 3,
    "start_time": "2023-05-10T21:05:33.510Z"
   },
   {
    "duration": 5,
    "start_time": "2023-05-10T21:05:33.516Z"
   },
   {
    "duration": 5,
    "start_time": "2023-05-10T21:05:33.522Z"
   },
   {
    "duration": 4,
    "start_time": "2023-05-10T21:05:33.528Z"
   },
   {
    "duration": 6,
    "start_time": "2023-05-10T21:05:33.534Z"
   },
   {
    "duration": 6,
    "start_time": "2023-05-10T21:05:33.541Z"
   },
   {
    "duration": 5,
    "start_time": "2023-05-10T21:05:33.548Z"
   },
   {
    "duration": 40,
    "start_time": "2023-05-10T21:05:33.555Z"
   },
   {
    "duration": 11,
    "start_time": "2023-05-10T21:05:33.597Z"
   },
   {
    "duration": 16,
    "start_time": "2023-05-10T21:05:33.610Z"
   },
   {
    "duration": 12,
    "start_time": "2023-05-10T21:05:33.628Z"
   },
   {
    "duration": 13,
    "start_time": "2023-05-10T21:05:33.642Z"
   },
   {
    "duration": 12,
    "start_time": "2023-05-10T21:05:33.656Z"
   },
   {
    "duration": 28,
    "start_time": "2023-05-10T21:05:33.694Z"
   },
   {
    "duration": 13,
    "start_time": "2023-05-10T21:05:33.724Z"
   },
   {
    "duration": 330,
    "start_time": "2023-05-10T21:05:33.739Z"
   },
   {
    "duration": 8,
    "start_time": "2023-05-10T21:05:34.071Z"
   },
   {
    "duration": 366,
    "start_time": "2023-05-10T21:05:34.081Z"
   },
   {
    "duration": 7,
    "start_time": "2023-05-10T21:05:34.449Z"
   },
   {
    "duration": 4,
    "start_time": "2023-05-10T21:05:34.459Z"
   },
   {
    "duration": 9,
    "start_time": "2023-05-10T21:05:34.464Z"
   },
   {
    "duration": 221,
    "start_time": "2023-05-10T21:05:34.475Z"
   },
   {
    "duration": 18,
    "start_time": "2023-05-10T21:05:34.698Z"
   },
   {
    "duration": 153,
    "start_time": "2023-05-10T21:05:34.718Z"
   },
   {
    "duration": 227,
    "start_time": "2023-05-10T21:05:34.872Z"
   },
   {
    "duration": 145,
    "start_time": "2023-05-10T21:05:35.101Z"
   },
   {
    "duration": 4,
    "start_time": "2023-05-10T21:05:35.248Z"
   },
   {
    "duration": 137,
    "start_time": "2023-05-10T21:05:35.253Z"
   },
   {
    "duration": 4,
    "start_time": "2023-05-10T21:05:35.393Z"
   },
   {
    "duration": 161,
    "start_time": "2023-05-10T21:05:35.399Z"
   },
   {
    "duration": 146,
    "start_time": "2023-05-10T21:05:35.562Z"
   },
   {
    "duration": 139,
    "start_time": "2023-05-10T21:05:35.710Z"
   },
   {
    "duration": 135,
    "start_time": "2023-05-10T21:05:35.851Z"
   },
   {
    "duration": 222,
    "start_time": "2023-05-10T21:05:35.987Z"
   },
   {
    "duration": 234,
    "start_time": "2023-05-10T21:05:36.211Z"
   },
   {
    "duration": 226,
    "start_time": "2023-05-10T21:05:36.446Z"
   },
   {
    "duration": 163,
    "start_time": "2023-05-10T21:05:36.674Z"
   },
   {
    "duration": 7,
    "start_time": "2023-05-10T21:05:36.839Z"
   },
   {
    "duration": 238,
    "start_time": "2023-05-10T21:05:36.847Z"
   },
   {
    "duration": 11,
    "start_time": "2023-05-10T21:05:37.087Z"
   },
   {
    "duration": 161,
    "start_time": "2023-05-10T21:05:37.099Z"
   },
   {
    "duration": 6,
    "start_time": "2023-05-10T21:05:37.261Z"
   },
   {
    "duration": 172,
    "start_time": "2023-05-10T21:05:37.268Z"
   },
   {
    "duration": 8,
    "start_time": "2023-05-10T21:05:37.441Z"
   },
   {
    "duration": 168,
    "start_time": "2023-05-10T21:05:37.450Z"
   },
   {
    "duration": 6,
    "start_time": "2023-05-10T21:05:37.620Z"
   },
   {
    "duration": 174,
    "start_time": "2023-05-10T21:05:37.627Z"
   },
   {
    "duration": 8,
    "start_time": "2023-05-10T21:05:37.802Z"
   },
   {
    "duration": 115,
    "start_time": "2023-05-10T21:05:37.811Z"
   },
   {
    "duration": 104,
    "start_time": "2023-05-10T21:05:37.928Z"
   },
   {
    "duration": 113,
    "start_time": "2023-05-10T21:05:38.034Z"
   },
   {
    "duration": 8,
    "start_time": "2023-05-10T21:05:38.148Z"
   },
   {
    "duration": 6,
    "start_time": "2023-05-10T21:05:38.157Z"
   },
   {
    "duration": 7,
    "start_time": "2023-05-10T21:05:38.165Z"
   },
   {
    "duration": 24,
    "start_time": "2023-05-10T21:05:38.173Z"
   },
   {
    "duration": 6,
    "start_time": "2023-05-10T21:06:09.983Z"
   },
   {
    "duration": 133,
    "start_time": "2023-05-10T21:25:54.679Z"
   },
   {
    "duration": 90,
    "start_time": "2023-05-10T21:26:31.802Z"
   },
   {
    "duration": 4,
    "start_time": "2023-05-10T21:26:51.851Z"
   },
   {
    "duration": 8,
    "start_time": "2023-05-10T21:27:18.507Z"
   },
   {
    "duration": 10,
    "start_time": "2023-05-10T21:28:21.368Z"
   },
   {
    "duration": 8,
    "start_time": "2023-05-10T21:28:48.097Z"
   },
   {
    "duration": 146,
    "start_time": "2023-05-10T21:30:11.190Z"
   },
   {
    "duration": 117,
    "start_time": "2023-05-10T21:30:34.783Z"
   },
   {
    "duration": 18,
    "start_time": "2023-05-10T21:38:10.813Z"
   },
   {
    "duration": 18,
    "start_time": "2023-05-10T21:38:44.304Z"
   },
   {
    "duration": 263,
    "start_time": "2023-05-10T21:38:54.167Z"
   },
   {
    "duration": 123,
    "start_time": "2023-05-10T21:42:16.789Z"
   },
   {
    "duration": 166,
    "start_time": "2023-05-10T21:47:36.928Z"
   },
   {
    "duration": 49,
    "start_time": "2023-05-10T21:59:55.072Z"
   },
   {
    "duration": 173,
    "start_time": "2023-05-10T22:00:04.436Z"
   },
   {
    "duration": 184,
    "start_time": "2023-05-10T22:00:38.299Z"
   },
   {
    "duration": 162,
    "start_time": "2023-05-10T22:00:59.077Z"
   },
   {
    "duration": 124,
    "start_time": "2023-05-10T22:04:18.667Z"
   },
   {
    "duration": 9,
    "start_time": "2023-05-10T22:04:34.782Z"
   },
   {
    "duration": 101,
    "start_time": "2023-05-10T22:09:03.107Z"
   },
   {
    "duration": 124,
    "start_time": "2023-05-10T22:09:10.407Z"
   },
   {
    "duration": 48,
    "start_time": "2023-05-10T22:12:00.731Z"
   },
   {
    "duration": 263,
    "start_time": "2023-05-10T22:12:07.940Z"
   },
   {
    "duration": 345,
    "start_time": "2023-05-10T22:13:13.319Z"
   },
   {
    "duration": 48,
    "start_time": "2023-05-10T22:15:38.755Z"
   },
   {
    "duration": 51,
    "start_time": "2023-05-10T22:15:58.362Z"
   },
   {
    "duration": 300,
    "start_time": "2023-05-10T22:16:06.650Z"
   },
   {
    "duration": 310,
    "start_time": "2023-05-10T22:16:52.434Z"
   },
   {
    "duration": 324,
    "start_time": "2023-05-10T22:17:51.888Z"
   },
   {
    "duration": 372,
    "start_time": "2023-05-10T22:18:04.030Z"
   },
   {
    "duration": 339,
    "start_time": "2023-05-10T22:18:17.993Z"
   },
   {
    "duration": 388,
    "start_time": "2023-05-10T22:18:28.371Z"
   },
   {
    "duration": 316,
    "start_time": "2023-05-10T22:19:02.808Z"
   },
   {
    "duration": 311,
    "start_time": "2023-05-10T22:20:49.821Z"
   },
   {
    "duration": 561,
    "start_time": "2023-05-10T22:36:11.880Z"
   },
   {
    "duration": 240,
    "start_time": "2023-05-10T22:43:00.482Z"
   },
   {
    "duration": 572,
    "start_time": "2023-05-10T22:43:30.579Z"
   },
   {
    "duration": 433,
    "start_time": "2023-05-10T22:43:38.025Z"
   },
   {
    "duration": 709,
    "start_time": "2023-05-10T22:55:49.816Z"
   },
   {
    "duration": 11,
    "start_time": "2023-05-10T22:58:14.947Z"
   },
   {
    "duration": 1055,
    "start_time": "2023-05-10T22:58:53.281Z"
   },
   {
    "duration": 44,
    "start_time": "2023-05-10T22:58:54.338Z"
   },
   {
    "duration": 19,
    "start_time": "2023-05-10T22:58:54.384Z"
   },
   {
    "duration": 12,
    "start_time": "2023-05-10T22:58:54.405Z"
   },
   {
    "duration": 645,
    "start_time": "2023-05-10T22:58:54.419Z"
   },
   {
    "duration": 4,
    "start_time": "2023-05-10T22:58:55.066Z"
   },
   {
    "duration": 27,
    "start_time": "2023-05-10T22:58:55.072Z"
   },
   {
    "duration": 19,
    "start_time": "2023-05-10T22:58:55.101Z"
   },
   {
    "duration": 3,
    "start_time": "2023-05-10T22:58:55.122Z"
   },
   {
    "duration": 7,
    "start_time": "2023-05-10T22:58:55.127Z"
   },
   {
    "duration": 5,
    "start_time": "2023-05-10T22:58:55.136Z"
   },
   {
    "duration": 4,
    "start_time": "2023-05-10T22:58:55.142Z"
   },
   {
    "duration": 4,
    "start_time": "2023-05-10T22:58:55.148Z"
   },
   {
    "duration": 41,
    "start_time": "2023-05-10T22:58:55.153Z"
   },
   {
    "duration": 6,
    "start_time": "2023-05-10T22:58:55.196Z"
   },
   {
    "duration": 15,
    "start_time": "2023-05-10T22:58:55.203Z"
   },
   {
    "duration": 11,
    "start_time": "2023-05-10T22:58:55.220Z"
   },
   {
    "duration": 17,
    "start_time": "2023-05-10T22:58:55.233Z"
   },
   {
    "duration": 44,
    "start_time": "2023-05-10T22:58:55.251Z"
   },
   {
    "duration": 12,
    "start_time": "2023-05-10T22:58:55.297Z"
   },
   {
    "duration": 11,
    "start_time": "2023-05-10T22:58:55.311Z"
   },
   {
    "duration": 35,
    "start_time": "2023-05-10T22:58:55.323Z"
   },
   {
    "duration": 15,
    "start_time": "2023-05-10T22:58:55.359Z"
   },
   {
    "duration": 309,
    "start_time": "2023-05-10T22:58:55.375Z"
   },
   {
    "duration": 11,
    "start_time": "2023-05-10T22:58:55.685Z"
   },
   {
    "duration": 323,
    "start_time": "2023-05-10T22:58:55.697Z"
   },
   {
    "duration": 6,
    "start_time": "2023-05-10T22:58:56.022Z"
   },
   {
    "duration": 6,
    "start_time": "2023-05-10T22:58:56.031Z"
   },
   {
    "duration": 10,
    "start_time": "2023-05-10T22:58:56.038Z"
   },
   {
    "duration": 209,
    "start_time": "2023-05-10T22:58:56.049Z"
   },
   {
    "duration": 20,
    "start_time": "2023-05-10T22:58:56.259Z"
   },
   {
    "duration": 157,
    "start_time": "2023-05-10T22:58:56.280Z"
   },
   {
    "duration": 213,
    "start_time": "2023-05-10T22:58:56.438Z"
   },
   {
    "duration": 136,
    "start_time": "2023-05-10T22:58:56.653Z"
   },
   {
    "duration": 4,
    "start_time": "2023-05-10T22:58:56.793Z"
   },
   {
    "duration": 131,
    "start_time": "2023-05-10T22:58:56.798Z"
   },
   {
    "duration": 3,
    "start_time": "2023-05-10T22:58:56.931Z"
   },
   {
    "duration": 155,
    "start_time": "2023-05-10T22:58:56.936Z"
   },
   {
    "duration": 144,
    "start_time": "2023-05-10T22:58:57.092Z"
   },
   {
    "duration": 131,
    "start_time": "2023-05-10T22:58:57.238Z"
   },
   {
    "duration": 142,
    "start_time": "2023-05-10T22:58:57.371Z"
   },
   {
    "duration": 217,
    "start_time": "2023-05-10T22:58:57.514Z"
   },
   {
    "duration": 230,
    "start_time": "2023-05-10T22:58:57.733Z"
   },
   {
    "duration": 220,
    "start_time": "2023-05-10T22:58:57.965Z"
   },
   {
    "duration": 11,
    "start_time": "2023-05-10T22:58:58.193Z"
   },
   {
    "duration": 789,
    "start_time": "2023-05-10T22:58:58.205Z"
   },
   {
    "duration": 0,
    "start_time": "2023-05-10T22:58:58.996Z"
   },
   {
    "duration": 0,
    "start_time": "2023-05-10T22:58:58.997Z"
   },
   {
    "duration": 0,
    "start_time": "2023-05-10T22:58:58.998Z"
   },
   {
    "duration": 0,
    "start_time": "2023-05-10T22:58:58.999Z"
   },
   {
    "duration": 0,
    "start_time": "2023-05-10T22:58:59.000Z"
   },
   {
    "duration": 0,
    "start_time": "2023-05-10T22:58:59.001Z"
   },
   {
    "duration": 0,
    "start_time": "2023-05-10T22:58:59.002Z"
   },
   {
    "duration": 0,
    "start_time": "2023-05-10T22:58:59.003Z"
   },
   {
    "duration": 0,
    "start_time": "2023-05-10T22:58:59.004Z"
   },
   {
    "duration": 0,
    "start_time": "2023-05-10T22:58:59.004Z"
   },
   {
    "duration": 0,
    "start_time": "2023-05-10T22:58:59.005Z"
   },
   {
    "duration": 0,
    "start_time": "2023-05-10T22:58:59.006Z"
   },
   {
    "duration": 0,
    "start_time": "2023-05-10T22:58:59.007Z"
   },
   {
    "duration": 0,
    "start_time": "2023-05-10T22:58:59.008Z"
   },
   {
    "duration": 0,
    "start_time": "2023-05-10T22:58:59.008Z"
   },
   {
    "duration": 0,
    "start_time": "2023-05-10T22:58:59.010Z"
   },
   {
    "duration": 15,
    "start_time": "2023-05-10T22:59:28.051Z"
   },
   {
    "duration": 49,
    "start_time": "2023-05-10T23:02:58.377Z"
   },
   {
    "duration": 18,
    "start_time": "2023-05-10T23:03:06.692Z"
   },
   {
    "duration": 7,
    "start_time": "2023-05-10T23:03:22.164Z"
   },
   {
    "duration": 7,
    "start_time": "2023-05-10T23:03:53.168Z"
   },
   {
    "duration": 6,
    "start_time": "2023-05-10T23:04:07.846Z"
   },
   {
    "duration": 11,
    "start_time": "2023-05-10T23:04:17.781Z"
   },
   {
    "duration": 13,
    "start_time": "2023-05-10T23:04:49.433Z"
   },
   {
    "duration": 743,
    "start_time": "2023-05-10T23:08:49.345Z"
   },
   {
    "duration": 17,
    "start_time": "2023-05-10T23:09:10.258Z"
   },
   {
    "duration": 16,
    "start_time": "2023-05-10T23:09:31.056Z"
   },
   {
    "duration": 729,
    "start_time": "2023-05-10T23:09:57.060Z"
   },
   {
    "duration": 18,
    "start_time": "2023-05-10T23:10:16.532Z"
   },
   {
    "duration": 18,
    "start_time": "2023-05-10T23:11:27.592Z"
   },
   {
    "duration": 147,
    "start_time": "2023-05-10T23:13:00.117Z"
   },
   {
    "duration": 751,
    "start_time": "2023-05-10T23:14:31.533Z"
   },
   {
    "duration": 864,
    "start_time": "2023-05-10T23:14:39.357Z"
   },
   {
    "duration": 219,
    "start_time": "2023-05-10T23:15:08.363Z"
   },
   {
    "duration": 307,
    "start_time": "2023-05-10T23:16:08.580Z"
   },
   {
    "duration": 173,
    "start_time": "2023-05-10T23:16:50.731Z"
   },
   {
    "duration": 148,
    "start_time": "2023-05-10T23:17:03.271Z"
   },
   {
    "duration": 161,
    "start_time": "2023-05-10T23:22:43.820Z"
   },
   {
    "duration": 159,
    "start_time": "2023-05-10T23:23:21.376Z"
   },
   {
    "duration": 721,
    "start_time": "2023-05-10T23:23:43.704Z"
   },
   {
    "duration": 1830,
    "start_time": "2023-05-10T23:24:01.009Z"
   },
   {
    "duration": 9,
    "start_time": "2023-05-10T23:24:45.141Z"
   },
   {
    "duration": 334,
    "start_time": "2023-05-10T23:28:14.489Z"
   },
   {
    "duration": 264,
    "start_time": "2023-05-10T23:28:40.748Z"
   },
   {
    "duration": 215,
    "start_time": "2023-05-10T23:29:21.656Z"
   },
   {
    "duration": 13,
    "start_time": "2023-05-10T23:33:16.162Z"
   },
   {
    "duration": 188,
    "start_time": "2023-05-10T23:33:58.116Z"
   },
   {
    "duration": 225,
    "start_time": "2023-05-10T23:34:08.456Z"
   },
   {
    "duration": 735,
    "start_time": "2023-05-10T23:41:53.701Z"
   },
   {
    "duration": 18,
    "start_time": "2023-05-10T23:42:18.275Z"
   },
   {
    "duration": 775,
    "start_time": "2023-05-10T23:43:40.817Z"
   },
   {
    "duration": 11,
    "start_time": "2023-05-10T23:44:01.049Z"
   },
   {
    "duration": 9,
    "start_time": "2023-05-10T23:46:08.407Z"
   },
   {
    "duration": 180,
    "start_time": "2023-05-10T23:46:38.677Z"
   },
   {
    "duration": 149,
    "start_time": "2023-05-10T23:47:25.605Z"
   },
   {
    "duration": 109,
    "start_time": "2023-05-10T23:49:29.567Z"
   },
   {
    "duration": 146,
    "start_time": "2023-05-10T23:49:58.863Z"
   },
   {
    "duration": 14,
    "start_time": "2023-05-10T23:50:45.929Z"
   },
   {
    "duration": 13,
    "start_time": "2023-05-10T23:54:44.965Z"
   },
   {
    "duration": 7,
    "start_time": "2023-05-10T23:55:11.501Z"
   },
   {
    "duration": 14,
    "start_time": "2023-05-10T23:55:28.731Z"
   },
   {
    "duration": 52,
    "start_time": "2023-05-11T00:14:56.715Z"
   },
   {
    "duration": 66,
    "start_time": "2023-05-11T00:15:10.305Z"
   },
   {
    "duration": 476,
    "start_time": "2023-05-11T00:15:52.504Z"
   },
   {
    "duration": 226,
    "start_time": "2023-05-11T00:16:15.943Z"
   },
   {
    "duration": 64,
    "start_time": "2023-05-11T00:16:54.578Z"
   },
   {
    "duration": 50,
    "start_time": "2023-05-11T00:20:37.487Z"
   },
   {
    "duration": 60,
    "start_time": "2023-05-11T00:20:53.839Z"
   },
   {
    "duration": 61,
    "start_time": "2023-05-11T00:21:41.212Z"
   },
   {
    "duration": 62,
    "start_time": "2023-05-11T00:23:08.725Z"
   },
   {
    "duration": 15,
    "start_time": "2023-05-11T00:24:03.231Z"
   },
   {
    "duration": 292,
    "start_time": "2023-05-11T00:24:26.443Z"
   },
   {
    "duration": 4,
    "start_time": "2023-05-11T00:27:09.910Z"
   },
   {
    "duration": 3,
    "start_time": "2023-05-11T00:27:39.493Z"
   },
   {
    "duration": 30,
    "start_time": "2023-05-11T00:28:01.856Z"
   },
   {
    "duration": 27,
    "start_time": "2023-05-11T00:29:41.316Z"
   },
   {
    "duration": 3,
    "start_time": "2023-05-11T00:33:57.013Z"
   },
   {
    "duration": 23,
    "start_time": "2023-05-11T00:34:02.112Z"
   },
   {
    "duration": 10,
    "start_time": "2023-05-11T00:34:23.064Z"
   },
   {
    "duration": 13,
    "start_time": "2023-05-11T00:34:51.367Z"
   },
   {
    "duration": 12,
    "start_time": "2023-05-11T00:35:01.250Z"
   },
   {
    "duration": 97,
    "start_time": "2023-05-11T00:36:34.269Z"
   },
   {
    "duration": 145,
    "start_time": "2023-05-11T00:36:43.467Z"
   },
   {
    "duration": 64,
    "start_time": "2023-05-11T00:37:32.356Z"
   },
   {
    "duration": 11,
    "start_time": "2023-05-11T00:38:02.051Z"
   },
   {
    "duration": 9,
    "start_time": "2023-05-11T00:38:26.752Z"
   },
   {
    "duration": 9,
    "start_time": "2023-05-11T00:38:54.940Z"
   },
   {
    "duration": 1020,
    "start_time": "2023-05-11T00:39:31.101Z"
   },
   {
    "duration": 43,
    "start_time": "2023-05-11T00:39:32.123Z"
   },
   {
    "duration": 19,
    "start_time": "2023-05-11T00:39:32.168Z"
   },
   {
    "duration": 12,
    "start_time": "2023-05-11T00:39:32.189Z"
   },
   {
    "duration": 650,
    "start_time": "2023-05-11T00:39:32.203Z"
   },
   {
    "duration": 5,
    "start_time": "2023-05-11T00:39:32.855Z"
   },
   {
    "duration": 16,
    "start_time": "2023-05-11T00:39:32.861Z"
   },
   {
    "duration": 33,
    "start_time": "2023-05-11T00:39:32.878Z"
   },
   {
    "duration": 4,
    "start_time": "2023-05-11T00:39:32.912Z"
   },
   {
    "duration": 4,
    "start_time": "2023-05-11T00:39:32.918Z"
   },
   {
    "duration": 5,
    "start_time": "2023-05-11T00:39:32.923Z"
   },
   {
    "duration": 4,
    "start_time": "2023-05-11T00:39:32.929Z"
   },
   {
    "duration": 10,
    "start_time": "2023-05-11T00:39:32.934Z"
   },
   {
    "duration": 7,
    "start_time": "2023-05-11T00:39:32.945Z"
   },
   {
    "duration": 4,
    "start_time": "2023-05-11T00:39:32.953Z"
   },
   {
    "duration": 19,
    "start_time": "2023-05-11T00:39:32.958Z"
   },
   {
    "duration": 12,
    "start_time": "2023-05-11T00:39:32.995Z"
   },
   {
    "duration": 17,
    "start_time": "2023-05-11T00:39:33.008Z"
   },
   {
    "duration": 13,
    "start_time": "2023-05-11T00:39:33.026Z"
   },
   {
    "duration": 10,
    "start_time": "2023-05-11T00:39:33.040Z"
   },
   {
    "duration": 11,
    "start_time": "2023-05-11T00:39:33.051Z"
   },
   {
    "duration": 29,
    "start_time": "2023-05-11T00:39:33.093Z"
   },
   {
    "duration": 13,
    "start_time": "2023-05-11T00:39:33.123Z"
   },
   {
    "duration": 312,
    "start_time": "2023-05-11T00:39:33.138Z"
   },
   {
    "duration": 6,
    "start_time": "2023-05-11T00:39:33.452Z"
   },
   {
    "duration": 333,
    "start_time": "2023-05-11T00:39:33.459Z"
   },
   {
    "duration": 6,
    "start_time": "2023-05-11T00:39:33.793Z"
   },
   {
    "duration": 3,
    "start_time": "2023-05-11T00:39:33.802Z"
   },
   {
    "duration": 11,
    "start_time": "2023-05-11T00:39:33.806Z"
   },
   {
    "duration": 233,
    "start_time": "2023-05-11T00:39:33.818Z"
   },
   {
    "duration": 23,
    "start_time": "2023-05-11T00:39:34.053Z"
   },
   {
    "duration": 164,
    "start_time": "2023-05-11T00:39:34.078Z"
   },
   {
    "duration": 217,
    "start_time": "2023-05-11T00:39:34.244Z"
   },
   {
    "duration": 142,
    "start_time": "2023-05-11T00:39:34.463Z"
   },
   {
    "duration": 3,
    "start_time": "2023-05-11T00:39:34.607Z"
   },
   {
    "duration": 140,
    "start_time": "2023-05-11T00:39:34.612Z"
   },
   {
    "duration": 3,
    "start_time": "2023-05-11T00:39:34.754Z"
   },
   {
    "duration": 151,
    "start_time": "2023-05-11T00:39:34.759Z"
   },
   {
    "duration": 137,
    "start_time": "2023-05-11T00:39:34.912Z"
   },
   {
    "duration": 143,
    "start_time": "2023-05-11T00:39:35.051Z"
   },
   {
    "duration": 131,
    "start_time": "2023-05-11T00:39:35.195Z"
   },
   {
    "duration": 224,
    "start_time": "2023-05-11T00:39:35.328Z"
   },
   {
    "duration": 242,
    "start_time": "2023-05-11T00:39:35.554Z"
   },
   {
    "duration": 237,
    "start_time": "2023-05-11T00:39:35.798Z"
   },
   {
    "duration": 152,
    "start_time": "2023-05-11T00:39:36.037Z"
   },
   {
    "duration": 13,
    "start_time": "2023-05-11T00:39:36.190Z"
   },
   {
    "duration": 8,
    "start_time": "2023-05-11T00:39:36.205Z"
   },
   {
    "duration": 8,
    "start_time": "2023-05-11T00:39:36.214Z"
   },
   {
    "duration": 261,
    "start_time": "2023-05-11T00:39:36.224Z"
   },
   {
    "duration": 9,
    "start_time": "2023-05-11T00:39:36.486Z"
   },
   {
    "duration": 177,
    "start_time": "2023-05-11T00:39:36.496Z"
   },
   {
    "duration": 7,
    "start_time": "2023-05-11T00:39:36.674Z"
   },
   {
    "duration": 187,
    "start_time": "2023-05-11T00:39:36.683Z"
   },
   {
    "duration": 6,
    "start_time": "2023-05-11T00:39:36.872Z"
   },
   {
    "duration": 116,
    "start_time": "2023-05-11T00:39:36.880Z"
   },
   {
    "duration": 104,
    "start_time": "2023-05-11T00:39:36.997Z"
   },
   {
    "duration": 133,
    "start_time": "2023-05-11T00:39:37.102Z"
   },
   {
    "duration": 8,
    "start_time": "2023-05-11T00:39:37.236Z"
   },
   {
    "duration": 8,
    "start_time": "2023-05-11T00:39:37.245Z"
   },
   {
    "duration": 10,
    "start_time": "2023-05-11T00:39:37.254Z"
   },
   {
    "duration": 6,
    "start_time": "2023-05-11T00:39:37.265Z"
   }
  ],
  "kernelspec": {
   "display_name": "Python 3 (ipykernel)",
   "language": "python",
   "name": "python3"
  },
  "language_info": {
   "codemirror_mode": {
    "name": "ipython",
    "version": 3
   },
   "file_extension": ".py",
   "mimetype": "text/x-python",
   "name": "python",
   "nbconvert_exporter": "python",
   "pygments_lexer": "ipython3",
   "version": "3.11.3"
  },
  "toc": {
   "base_numbering": 1,
   "nav_menu": {},
   "number_sections": true,
   "sideBar": true,
   "skip_h1_title": true,
   "title_cell": "Table of Contents",
   "title_sidebar": "Contents",
   "toc_cell": false,
   "toc_position": {
    "height": "calc(100% - 180px)",
    "left": "10px",
    "top": "150px",
    "width": "212.188px"
   },
   "toc_section_display": true,
   "toc_window_display": true
  }
 },
 "nbformat": 4,
 "nbformat_minor": 2
}
