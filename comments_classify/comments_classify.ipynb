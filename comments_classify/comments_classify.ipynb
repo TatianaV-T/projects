{
 "cells": [
  {
   "cell_type": "markdown",
   "metadata": {
    "toc": true
   },
   "source": [
    "<h1>Содержание<span class=\"tocSkip\"></span></h1>\n",
    "<div class=\"toc\"><ul class=\"toc-item\"><li><span><a href=\"#Подготовка\" data-toc-modified-id=\"Подготовка-1\"><span class=\"toc-item-num\">1&nbsp;&nbsp;</span>Подготовка</a></span></li><li><span><a href=\"#Обучение\" data-toc-modified-id=\"Обучение-2\"><span class=\"toc-item-num\">2&nbsp;&nbsp;</span>Обучение</a></span><ul class=\"toc-item\"><li><span><a href=\"#LogisticRegression\" data-toc-modified-id=\"LogisticRegression-2.1\"><span class=\"toc-item-num\">2.1&nbsp;&nbsp;</span>LogisticRegression</a></span></li><li><span><a href=\"#CatBoostClassifier\" data-toc-modified-id=\"CatBoostClassifier-2.2\"><span class=\"toc-item-num\">2.2&nbsp;&nbsp;</span>CatBoostClassifier</a></span></li></ul></li><li><span><a href=\"#Выводы\" data-toc-modified-id=\"Выводы-3\"><span class=\"toc-item-num\">3&nbsp;&nbsp;</span>Выводы</a></span></li><li><span><a href=\"#Чек-лист-проверки\" data-toc-modified-id=\"Чек-лист-проверки-4\"><span class=\"toc-item-num\">4&nbsp;&nbsp;</span>Чек-лист проверки</a></span></li></ul></div>"
   ]
  },
  {
   "cell_type": "markdown",
   "metadata": {},
   "source": [
    "# Проект для «Викишоп» по модерации комментариев"
   ]
  },
  {
   "cell_type": "markdown",
   "metadata": {},
   "source": [
    "Интернет-магазин «Викишоп» запускает новый сервис. Теперь пользователи могут редактировать и дополнять описания товаров, как в вики-сообществах. То есть клиенты предлагают свои правки и комментируют изменения других. Магазину нужен инструмент, который будет искать токсичные комментарии и отправлять их на модерацию. \n",
    "\n",
    "Обучите модель классифицировать комментарии на позитивные и негативные. В вашем распоряжении набор данных с разметкой о токсичности правок.\n",
    "\n",
    "Постройте модель со значением метрики качества *F1* не меньше 0.75. \n",
    "\n",
    "**Описание данных**\n",
    "\n",
    "Столбец *text* в нём содержит текст комментария, а *toxic* — целевой признак."
   ]
  },
  {
   "cell_type": "markdown",
   "metadata": {},
   "source": [
    "## Подготовка"
   ]
  },
  {
   "cell_type": "code",
   "execution_count": 1,
   "metadata": {},
   "outputs": [],
   "source": [
    "#импортируем библиотеки\n",
    "import os\n",
    "import re\n",
    "\n",
    "import matplotlib.pyplot as plt\n",
    "import nltk\n",
    "import numpy as np\n",
    "import pandas as pd\n",
    "\n",
    "from catboost import CatBoostClassifier\n",
    "from nltk.corpus import stopwords as nltk_stopwords\n",
    "from nltk.corpus import wordnet\n",
    "from nltk.stem import WordNetLemmatizer\n",
    "from sklearn.feature_extraction.text import TfidfVectorizer\n",
    "from sklearn.linear_model import LogisticRegression\n",
    "from sklearn.metrics import f1_score\n",
    "from sklearn.model_selection import train_test_split, GridSearchCV\n",
    "from sklearn.pipeline import Pipeline\n",
    "from sklearn.utils import shuffle"
   ]
  },
  {
   "cell_type": "code",
   "execution_count": 2,
   "metadata": {},
   "outputs": [],
   "source": [
    "#считаем файл с данными и сохраним в датафрейм\n",
    "\n",
    "pth1 = 'C:/Users/ACER/Desktop/Практикум/project/datasets/toxic_comments.csv'\n",
    "pth2 = '/datasets/toxic_comments.csv'\n",
    "\n",
    "\n",
    "if os.path.exists(pth1):\n",
    "    data = pd.read_csv(pth1)\n",
    "else:\n",
    "    data = pd.read_csv(pth2)"
   ]
  },
  {
   "cell_type": "code",
   "execution_count": 3,
   "metadata": {},
   "outputs": [
    {
     "name": "stdout",
     "output_type": "stream",
     "text": [
      "<class 'pandas.core.frame.DataFrame'>\n",
      "RangeIndex: 159292 entries, 0 to 159291\n",
      "Data columns (total 3 columns):\n",
      " #   Column      Non-Null Count   Dtype \n",
      "---  ------      --------------   ----- \n",
      " 0   Unnamed: 0  159292 non-null  int64 \n",
      " 1   text        159292 non-null  object\n",
      " 2   toxic       159292 non-null  int64 \n",
      "dtypes: int64(2), object(1)\n",
      "memory usage: 3.6+ MB\n"
     ]
    }
   ],
   "source": [
    "data.info()"
   ]
  },
  {
   "cell_type": "code",
   "execution_count": 4,
   "metadata": {},
   "outputs": [
    {
     "data": {
      "text/html": [
       "<div>\n",
       "<style scoped>\n",
       "    .dataframe tbody tr th:only-of-type {\n",
       "        vertical-align: middle;\n",
       "    }\n",
       "\n",
       "    .dataframe tbody tr th {\n",
       "        vertical-align: top;\n",
       "    }\n",
       "\n",
       "    .dataframe thead th {\n",
       "        text-align: right;\n",
       "    }\n",
       "</style>\n",
       "<table border=\"1\" class=\"dataframe\">\n",
       "  <thead>\n",
       "    <tr style=\"text-align: right;\">\n",
       "      <th></th>\n",
       "      <th>Unnamed: 0</th>\n",
       "      <th>text</th>\n",
       "      <th>toxic</th>\n",
       "    </tr>\n",
       "  </thead>\n",
       "  <tbody>\n",
       "    <tr>\n",
       "      <th>0</th>\n",
       "      <td>0</td>\n",
       "      <td>Explanation\\nWhy the edits made under my usern...</td>\n",
       "      <td>0</td>\n",
       "    </tr>\n",
       "    <tr>\n",
       "      <th>1</th>\n",
       "      <td>1</td>\n",
       "      <td>D'aww! He matches this background colour I'm s...</td>\n",
       "      <td>0</td>\n",
       "    </tr>\n",
       "    <tr>\n",
       "      <th>2</th>\n",
       "      <td>2</td>\n",
       "      <td>Hey man, I'm really not trying to edit war. It...</td>\n",
       "      <td>0</td>\n",
       "    </tr>\n",
       "    <tr>\n",
       "      <th>3</th>\n",
       "      <td>3</td>\n",
       "      <td>\"\\nMore\\nI can't make any real suggestions on ...</td>\n",
       "      <td>0</td>\n",
       "    </tr>\n",
       "    <tr>\n",
       "      <th>4</th>\n",
       "      <td>4</td>\n",
       "      <td>You, sir, are my hero. Any chance you remember...</td>\n",
       "      <td>0</td>\n",
       "    </tr>\n",
       "  </tbody>\n",
       "</table>\n",
       "</div>"
      ],
      "text/plain": [
       "   Unnamed: 0                                               text  toxic\n",
       "0           0  Explanation\\nWhy the edits made under my usern...      0\n",
       "1           1  D'aww! He matches this background colour I'm s...      0\n",
       "2           2  Hey man, I'm really not trying to edit war. It...      0\n",
       "3           3  \"\\nMore\\nI can't make any real suggestions on ...      0\n",
       "4           4  You, sir, are my hero. Any chance you remember...      0"
      ]
     },
     "execution_count": 4,
     "metadata": {},
     "output_type": "execute_result"
    }
   ],
   "source": [
    "data.head()"
   ]
  },
  {
   "cell_type": "code",
   "execution_count": 5,
   "metadata": {},
   "outputs": [],
   "source": [
    "data = data.drop('Unnamed: 0', axis=1)"
   ]
  },
  {
   "cell_type": "code",
   "execution_count": 6,
   "metadata": {
    "scrolled": true
   },
   "outputs": [
    {
     "data": {
      "text/plain": [
       "0"
      ]
     },
     "execution_count": 6,
     "metadata": {},
     "output_type": "execute_result"
    }
   ],
   "source": [
    "data.duplicated().sum()"
   ]
  },
  {
   "cell_type": "code",
   "execution_count": 7,
   "metadata": {},
   "outputs": [
    {
     "data": {
      "text/plain": [
       "0    0.898388\n",
       "1    0.101612\n",
       "Name: toxic, dtype: float64"
      ]
     },
     "execution_count": 7,
     "metadata": {},
     "output_type": "execute_result"
    }
   ],
   "source": [
    "#посмотрим распределение классов в целевом признаке\n",
    "\n",
    "data['toxic'].value_counts(normalize=True)"
   ]
  },
  {
   "cell_type": "code",
   "execution_count": 8,
   "metadata": {
    "scrolled": true
   },
   "outputs": [
    {
     "data": {
      "image/png": "[encoded data removed]",
      "text/plain": [
       "<Figure size 432x288 with 1 Axes>"
      ]
     },
     "metadata": {
      "needs_background": "light"
     },
     "output_type": "display_data"
    }
   ],
   "source": [
    "data['toxic'].value_counts().plot(kind='bar')\n",
    "plt.show()"
   ]
  },
  {
   "cell_type": "code",
   "execution_count": 9,
   "metadata": {},
   "outputs": [
    {
     "data": {
      "text/html": [
       "<div>\n",
       "<style scoped>\n",
       "    .dataframe tbody tr th:only-of-type {\n",
       "        vertical-align: middle;\n",
       "    }\n",
       "\n",
       "    .dataframe tbody tr th {\n",
       "        vertical-align: top;\n",
       "    }\n",
       "\n",
       "    .dataframe thead th {\n",
       "        text-align: right;\n",
       "    }\n",
       "</style>\n",
       "<table border=\"1\" class=\"dataframe\">\n",
       "  <thead>\n",
       "    <tr style=\"text-align: right;\">\n",
       "      <th></th>\n",
       "      <th>text</th>\n",
       "      <th>toxic</th>\n",
       "    </tr>\n",
       "  </thead>\n",
       "  <tbody>\n",
       "    <tr>\n",
       "      <th>0</th>\n",
       "      <td>explanation why the edits made under my userna...</td>\n",
       "      <td>0</td>\n",
       "    </tr>\n",
       "    <tr>\n",
       "      <th>1</th>\n",
       "      <td>d aww he matches this background colour i m se...</td>\n",
       "      <td>0</td>\n",
       "    </tr>\n",
       "    <tr>\n",
       "      <th>2</th>\n",
       "      <td>hey man i m really not trying to edit war it s...</td>\n",
       "      <td>0</td>\n",
       "    </tr>\n",
       "    <tr>\n",
       "      <th>3</th>\n",
       "      <td>more i can t make any real suggestions on impr...</td>\n",
       "      <td>0</td>\n",
       "    </tr>\n",
       "    <tr>\n",
       "      <th>4</th>\n",
       "      <td>you sir are my hero any chance you remember wh...</td>\n",
       "      <td>0</td>\n",
       "    </tr>\n",
       "  </tbody>\n",
       "</table>\n",
       "</div>"
      ],
      "text/plain": [
       "                                                text  toxic\n",
       "0  explanation why the edits made under my userna...      0\n",
       "1  d aww he matches this background colour i m se...      0\n",
       "2  hey man i m really not trying to edit war it s...      0\n",
       "3  more i can t make any real suggestions on impr...      0\n",
       "4  you sir are my hero any chance you remember wh...      0"
      ]
     },
     "execution_count": 9,
     "metadata": {},
     "output_type": "execute_result"
    }
   ],
   "source": [
    "#очистим и лемматизируем текст в столбце `text`\n",
    "\n",
    "def clear_text(text):\n",
    "    text_clear = text.lower()\n",
    "    text_clear = re.sub(r'[^a-zA-Z]', ' ', text_clear)\n",
    "    text_clear = text_clear.split()\n",
    "    return \" \".join(text_clear)\n",
    "\n",
    "data['text'] = data['text'].apply(clear_text)\n",
    "\n",
    "data.head()"
   ]
  },
  {
   "cell_type": "code",
   "execution_count": 10,
   "metadata": {},
   "outputs": [
    {
     "data": {
      "text/html": [
       "<div>\n",
       "<style scoped>\n",
       "    .dataframe tbody tr th:only-of-type {\n",
       "        vertical-align: middle;\n",
       "    }\n",
       "\n",
       "    .dataframe tbody tr th {\n",
       "        vertical-align: top;\n",
       "    }\n",
       "\n",
       "    .dataframe thead th {\n",
       "        text-align: right;\n",
       "    }\n",
       "</style>\n",
       "<table border=\"1\" class=\"dataframe\">\n",
       "  <thead>\n",
       "    <tr style=\"text-align: right;\">\n",
       "      <th></th>\n",
       "      <th>text</th>\n",
       "      <th>toxic</th>\n",
       "    </tr>\n",
       "  </thead>\n",
       "  <tbody>\n",
       "    <tr>\n",
       "      <th>0</th>\n",
       "      <td>explanation why the edits make under my userna...</td>\n",
       "      <td>0</td>\n",
       "    </tr>\n",
       "    <tr>\n",
       "      <th>1</th>\n",
       "      <td>d aww he match this background colour i m seem...</td>\n",
       "      <td>0</td>\n",
       "    </tr>\n",
       "    <tr>\n",
       "      <th>2</th>\n",
       "      <td>hey man i m really not try to edit war it s ju...</td>\n",
       "      <td>0</td>\n",
       "    </tr>\n",
       "    <tr>\n",
       "      <th>3</th>\n",
       "      <td>more i can t make any real suggestion on impro...</td>\n",
       "      <td>0</td>\n",
       "    </tr>\n",
       "    <tr>\n",
       "      <th>4</th>\n",
       "      <td>you sir be my hero any chance you remember wha...</td>\n",
       "      <td>0</td>\n",
       "    </tr>\n",
       "  </tbody>\n",
       "</table>\n",
       "</div>"
      ],
      "text/plain": [
       "                                                text  toxic\n",
       "0  explanation why the edits make under my userna...      0\n",
       "1  d aww he match this background colour i m seem...      0\n",
       "2  hey man i m really not try to edit war it s ju...      0\n",
       "3  more i can t make any real suggestion on impro...      0\n",
       "4  you sir be my hero any chance you remember wha...      0"
      ]
     },
     "execution_count": 10,
     "metadata": {},
     "output_type": "execute_result"
    }
   ],
   "source": [
    "def get_wordnet_pos(word):\n",
    "    tag = nltk.pos_tag([word])[0][1][0].upper()\n",
    "    tag_dict = {'J': wordnet.ADJ,\n",
    "                'N': wordnet.NOUN,\n",
    "                'V': wordnet.VERB,\n",
    "                'R': wordnet.ADV}\n",
    "    return tag_dict.get(tag, wordnet.NOUN)\n",
    "\n",
    "lemmatizer = WordNetLemmatizer()\n",
    "\n",
    "def lemmatize(text):\n",
    "    lemm_list = [lemmatizer.lemmatize(w, get_wordnet_pos(w)) for w in nltk.word_tokenize(text)]\n",
    "    return ' '.join(lemm_list)\n",
    "\n",
    "data['text'] = data['text'].apply(lemmatize)\n",
    "\n",
    "\n",
    "data.head()"
   ]
  },
  {
   "cell_type": "code",
   "execution_count": 11,
   "metadata": {},
   "outputs": [
    {
     "name": "stdout",
     "output_type": "stream",
     "text": [
      "(127433, 1)\n",
      "(127433,)\n",
      "(15929, 1)\n",
      "(15929,)\n",
      "(15930, 1)\n",
      "(15930,)\n"
     ]
    }
   ],
   "source": [
    "#поделим датасет на обучающую, валидационную и тестовую выборки\n",
    "\n",
    "features = data.drop('toxic', axis=1)\n",
    "\n",
    "target = data['toxic']\n",
    "\n",
    "X_train, X_valid, y_train, y_valid = train_test_split(features, target, test_size=0.2, random_state=42, stratify=target)\n",
    "\n",
    "X_valid, X_test, y_valid, y_test = train_test_split(X_valid, y_valid, test_size=0.5, random_state=42, stratify=y_valid)\n",
    "\n",
    "for i in [X_train, y_train, X_valid, y_valid, X_test, y_test]:\n",
    "    print(i.shape)"
   ]
  },
  {
   "cell_type": "code",
   "execution_count": 12,
   "metadata": {},
   "outputs": [],
   "source": [
    "#увеличим обучающую выборку, продублировав объекты положительного класса\n",
    "\n",
    "def upsample(features, target, repeat):\n",
    "    features_zeros = features[target == 0]\n",
    "    features_ones = features[target == 1]\n",
    "    target_zeros = target[target == 0]\n",
    "    target_ones = target[target == 1]\n",
    "\n",
    "    X_train_upsampled = pd.concat([features_zeros] + [features_ones] * repeat)\n",
    "    y_train_upsampled = pd.concat([target_zeros] + [target_ones] * repeat)\n",
    "    \n",
    "    X_train_upsampled, y_train_upsampled = shuffle(\n",
    "        X_train_upsampled, y_train_upsampled, random_state=42)\n",
    "    \n",
    "    return X_train_upsampled, y_train_upsampled\n",
    "\n",
    "X_train_upsampled, y_train_upsampled = upsample(X_train, y_train, 9)"
   ]
  },
  {
   "cell_type": "markdown",
   "metadata": {},
   "source": [
    "__Вывод__\n",
    "\n",
    "Данные соответствуют описанию, пропуски и дубликаты в строках отсутствуют. В целевом признаке имеется дисбаланс, обучение будет проводится на данных с балансировкой, а также на увеличенной обучающей выборке. Столбец `Unnamed: 0` удален как излишняя информация. Текст комментариев очищен и лемматизирован, преобразован в векторы. Целевой признак представлен классами - позитивные/негативные комментарии, будем решать задачу классификации с учителем. Данные поделены на обучающую, валидационную и тестовую выборки в соотношении 80/10/10."
   ]
  },
  {
   "cell_type": "markdown",
   "metadata": {},
   "source": [
    "## Обучение"
   ]
  },
  {
   "cell_type": "code",
   "execution_count": 13,
   "metadata": {},
   "outputs": [],
   "source": [
    "pipeline = Pipeline(\n",
    "    [\n",
    "        ('vect', TfidfVectorizer(stop_words='english')),\n",
    "        ('clf', LogisticRegression(random_state=42)),\n",
    "    ]\n",
    ")"
   ]
  },
  {
   "cell_type": "code",
   "execution_count": 14,
   "metadata": {},
   "outputs": [],
   "source": [
    "#определим параметры для GridSearchCV\n",
    "\n",
    "parameters_lr_bal = {'clf__solver': ('liblinear', 'saga'),\n",
    "                     'clf__C': (.1, 5),\n",
    "                     'clf__max_iter': [300],\n",
    "                     'clf__class_weight':['balanced']}\n",
    "\n",
    "parameters_lr = {'clf__solver': ('liblinear', 'saga'),\n",
    "                 'clf__C': (.1, 5),\n",
    "                 'clf__max_iter': [300]}\n",
    "              \n",
    "parameters_cb = {'depth': [5],\n",
    "                 'learning_rate' : [0.05, 1],\n",
    "                 'iterations': [100]}"
   ]
  },
  {
   "cell_type": "markdown",
   "metadata": {},
   "source": [
    "### LogisticRegression"
   ]
  },
  {
   "cell_type": "code",
   "execution_count": 15,
   "metadata": {},
   "outputs": [
    {
     "name": "stderr",
     "output_type": "stream",
     "text": [
      "/opt/conda/lib/python3.9/site-packages/sklearn/linear_model/_sag.py:328: ConvergenceWarning: The max_iter was reached which means the coef_ did not converge\n",
      "  warnings.warn(\"The max_iter was reached which means \"\n",
      "/opt/conda/lib/python3.9/site-packages/sklearn/linear_model/_sag.py:328: ConvergenceWarning: The max_iter was reached which means the coef_ did not converge\n",
      "  warnings.warn(\"The max_iter was reached which means \"\n",
      "/opt/conda/lib/python3.9/site-packages/sklearn/linear_model/_sag.py:328: ConvergenceWarning: The max_iter was reached which means the coef_ did not converge\n",
      "  warnings.warn(\"The max_iter was reached which means \"\n"
     ]
    },
    {
     "data": {
      "text/plain": [
       "GridSearchCV(cv=3,\n",
       "             estimator=Pipeline(steps=[('vect',\n",
       "                                        TfidfVectorizer(stop_words='english')),\n",
       "                                       ('clf',\n",
       "                                        LogisticRegression(random_state=42))]),\n",
       "             param_grid={'clf__C': (0.1, 5), 'clf__class_weight': ['balanced'],\n",
       "                         'clf__max_iter': [300],\n",
       "                         'clf__solver': ('liblinear', 'saga')},\n",
       "             scoring='f1')"
      ]
     },
     "execution_count": 15,
     "metadata": {},
     "output_type": "execute_result"
    }
   ],
   "source": [
    "#обучим модель с балансировкой данных\n",
    "\n",
    "grid_lr_balance = GridSearchCV(pipeline, parameters_lr_bal, cv = 3, scoring='f1')\n",
    "\n",
    "grid_lr_balance.fit(X_train.text, y_train)"
   ]
  },
  {
   "cell_type": "code",
   "execution_count": 16,
   "metadata": {},
   "outputs": [
    {
     "data": {
      "text/plain": [
       "Pipeline(steps=[('vect', TfidfVectorizer(stop_words='english')),\n",
       "                ('clf',\n",
       "                 LogisticRegression(C=5, class_weight='balanced', max_iter=300,\n",
       "                                    random_state=42, solver='liblinear'))])"
      ]
     },
     "execution_count": 16,
     "metadata": {},
     "output_type": "execute_result"
    }
   ],
   "source": [
    "grid_lr_balance.best_estimator_"
   ]
  },
  {
   "cell_type": "code",
   "execution_count": 17,
   "metadata": {},
   "outputs": [
    {
     "name": "stdout",
     "output_type": "stream",
     "text": [
      "f1 на обучающей выборке с балансировкой: 0.7530892292791208\n"
     ]
    }
   ],
   "source": [
    "f1_lr_balance = grid_lr_balance.best_score_\n",
    "\n",
    "print('f1 на обучающей выборке с балансировкой:', f1_lr_balance)"
   ]
  },
  {
   "cell_type": "code",
   "execution_count": 18,
   "metadata": {},
   "outputs": [
    {
     "name": "stdout",
     "output_type": "stream",
     "text": [
      "f1 на тестовой выборке: 0.7527612574341547\n"
     ]
    }
   ],
   "source": [
    "#проверим модель на тестовой выборке\n",
    "\n",
    "predict_test = grid_lr_balance.best_estimator_.predict(X_test.text)\n",
    "\n",
    "f1_test_lr = f1_score(y_test, predict_test)\n",
    "\n",
    "print('f1 на тестовой выборке:', f1_test_lr)"
   ]
  },
  {
   "cell_type": "code",
   "execution_count": 19,
   "metadata": {},
   "outputs": [
    {
     "data": {
      "text/plain": [
       "GridSearchCV(cv=3,\n",
       "             estimator=Pipeline(steps=[('vect',\n",
       "                                        TfidfVectorizer(stop_words='english')),\n",
       "                                       ('clf',\n",
       "                                        LogisticRegression(random_state=42))]),\n",
       "             param_grid={'clf__C': (0.1, 5), 'clf__max_iter': [300],\n",
       "                         'clf__solver': ('liblinear', 'saga')},\n",
       "             scoring='f1')"
      ]
     },
     "execution_count": 19,
     "metadata": {},
     "output_type": "execute_result"
    }
   ],
   "source": [
    "#обучим модель на увеличенной обучающей выборке\n",
    "\n",
    "grid_lr_upsampled = GridSearchCV(pipeline, parameters_lr, cv = 3, scoring='f1')\n",
    "\n",
    "grid_lr_upsampled.fit(X_train_upsampled.text, y_train_upsampled)"
   ]
  },
  {
   "cell_type": "code",
   "execution_count": 20,
   "metadata": {},
   "outputs": [
    {
     "name": "stdout",
     "output_type": "stream",
     "text": [
      "f1 на тестовой выборке: 0.755720823798627\n"
     ]
    }
   ],
   "source": [
    "#проверим модель на несбалансированной валидационой выборке\n",
    "\n",
    "predict_test = grid_lr_upsampled.best_estimator_.predict(X_valid.text)\n",
    "\n",
    "f1_lr_upsampled = f1_score(y_valid, predict_test)\n",
    "\n",
    "print('f1 на тестовой выборке:', f1_lr_upsampled)"
   ]
  },
  {
   "cell_type": "code",
   "execution_count": 21,
   "metadata": {},
   "outputs": [
    {
     "data": {
      "text/plain": [
       "Pipeline(steps=[('vect', TfidfVectorizer(stop_words='english')),\n",
       "                ('clf',\n",
       "                 LogisticRegression(C=5, max_iter=300, random_state=42,\n",
       "                                    solver='liblinear'))])"
      ]
     },
     "execution_count": 21,
     "metadata": {},
     "output_type": "execute_result"
    }
   ],
   "source": [
    "grid_lr_upsampled.best_estimator_"
   ]
  },
  {
   "cell_type": "code",
   "execution_count": 22,
   "metadata": {},
   "outputs": [
    {
     "name": "stdout",
     "output_type": "stream",
     "text": [
      "f1 на тестовой выборке: 0.7488532110091743\n"
     ]
    }
   ],
   "source": [
    "#проверим модель на тестовой выборке\n",
    "\n",
    "predict_test_up = grid_lr_upsampled.best_estimator_.predict(X_test.text)\n",
    "\n",
    "f1_test_lr_up = f1_score(y_test, predict_test_up)\n",
    "\n",
    "print('f1 на тестовой выборке:', f1_test_lr_up)"
   ]
  },
  {
   "cell_type": "markdown",
   "metadata": {},
   "source": [
    "### CatBoostClassifier"
   ]
  },
  {
   "cell_type": "code",
   "execution_count": 23,
   "metadata": {
    "scrolled": true
   },
   "outputs": [
    {
     "name": "stdout",
     "output_type": "stream",
     "text": [
      "0:\tlearn: 0.6678924\ttotal: 357ms\tremaining: 35.3s\n",
      "1:\tlearn: 0.6440933\ttotal: 634ms\tremaining: 31.1s\n",
      "2:\tlearn: 0.6219871\ttotal: 934ms\tremaining: 30.2s\n",
      "3:\tlearn: 0.6014199\ttotal: 1.23s\tremaining: 29.4s\n",
      "4:\tlearn: 0.5822145\ttotal: 1.54s\tremaining: 29.3s\n",
      "5:\tlearn: 0.5657750\ttotal: 1.82s\tremaining: 28.6s\n",
      "6:\tlearn: 0.5507639\ttotal: 2.1s\tremaining: 27.9s\n",
      "7:\tlearn: 0.5367900\ttotal: 2.37s\tremaining: 27.3s\n",
      "8:\tlearn: 0.5242571\ttotal: 2.66s\tremaining: 26.9s\n",
      "9:\tlearn: 0.5108321\ttotal: 2.94s\tremaining: 26.5s\n",
      "10:\tlearn: 0.4990743\ttotal: 3.25s\tremaining: 26.3s\n",
      "11:\tlearn: 0.4886010\ttotal: 3.56s\tremaining: 26.1s\n",
      "12:\tlearn: 0.4778707\ttotal: 3.85s\tremaining: 25.7s\n",
      "13:\tlearn: 0.4689932\ttotal: 4.12s\tremaining: 25.3s\n",
      "14:\tlearn: 0.4596923\ttotal: 4.4s\tremaining: 25s\n",
      "15:\tlearn: 0.4513198\ttotal: 4.7s\tremaining: 24.7s\n",
      "16:\tlearn: 0.4429029\ttotal: 4.97s\tremaining: 24.2s\n",
      "17:\tlearn: 0.4353880\ttotal: 5.26s\tremaining: 24s\n",
      "18:\tlearn: 0.4281845\ttotal: 5.55s\tremaining: 23.7s\n",
      "19:\tlearn: 0.4214674\ttotal: 5.88s\tremaining: 23.5s\n",
      "20:\tlearn: 0.4157628\ttotal: 6.2s\tremaining: 23.3s\n",
      "21:\tlearn: 0.4096841\ttotal: 6.65s\tremaining: 23.6s\n",
      "22:\tlearn: 0.4038829\ttotal: 6.99s\tremaining: 23.4s\n",
      "23:\tlearn: 0.3990698\ttotal: 7.28s\tremaining: 23.1s\n",
      "24:\tlearn: 0.3943833\ttotal: 7.58s\tremaining: 22.7s\n",
      "25:\tlearn: 0.3898218\ttotal: 7.89s\tremaining: 22.4s\n",
      "26:\tlearn: 0.3855836\ttotal: 8.15s\tremaining: 22s\n",
      "27:\tlearn: 0.3814528\ttotal: 8.42s\tremaining: 21.7s\n",
      "28:\tlearn: 0.3780151\ttotal: 8.7s\tremaining: 21.3s\n",
      "29:\tlearn: 0.3739645\ttotal: 9.03s\tremaining: 21.1s\n",
      "30:\tlearn: 0.3706819\ttotal: 9.3s\tremaining: 20.7s\n",
      "31:\tlearn: 0.3674304\ttotal: 9.61s\tremaining: 20.4s\n",
      "32:\tlearn: 0.3643649\ttotal: 9.88s\tremaining: 20.1s\n",
      "33:\tlearn: 0.3610320\ttotal: 10.2s\tremaining: 19.8s\n",
      "34:\tlearn: 0.3583691\ttotal: 10.5s\tremaining: 19.5s\n",
      "35:\tlearn: 0.3557384\ttotal: 10.8s\tremaining: 19.2s\n",
      "36:\tlearn: 0.3529146\ttotal: 11.1s\tremaining: 18.9s\n",
      "37:\tlearn: 0.3504090\ttotal: 11.4s\tremaining: 18.6s\n",
      "38:\tlearn: 0.3478268\ttotal: 11.7s\tremaining: 18.3s\n",
      "39:\tlearn: 0.3455449\ttotal: 12s\tremaining: 18s\n",
      "40:\tlearn: 0.3431193\ttotal: 12.3s\tremaining: 17.7s\n",
      "41:\tlearn: 0.3410339\ttotal: 12.6s\tremaining: 17.5s\n",
      "42:\tlearn: 0.3391281\ttotal: 12.9s\tremaining: 17.1s\n",
      "43:\tlearn: 0.3370787\ttotal: 13.2s\tremaining: 16.8s\n",
      "44:\tlearn: 0.3351959\ttotal: 13.5s\tremaining: 16.5s\n",
      "45:\tlearn: 0.3338783\ttotal: 13.8s\tremaining: 16.2s\n",
      "46:\tlearn: 0.3326032\ttotal: 14.1s\tremaining: 15.9s\n",
      "47:\tlearn: 0.3305630\ttotal: 14.5s\tremaining: 15.7s\n",
      "48:\tlearn: 0.3287777\ttotal: 14.8s\tremaining: 15.4s\n",
      "49:\tlearn: 0.3271800\ttotal: 15.1s\tremaining: 15.1s\n",
      "50:\tlearn: 0.3258108\ttotal: 15.3s\tremaining: 14.7s\n",
      "51:\tlearn: 0.3244345\ttotal: 15.6s\tremaining: 14.4s\n",
      "52:\tlearn: 0.3231726\ttotal: 15.9s\tremaining: 14.1s\n",
      "53:\tlearn: 0.3217734\ttotal: 16.3s\tremaining: 13.9s\n",
      "54:\tlearn: 0.3202690\ttotal: 16.6s\tremaining: 13.6s\n",
      "55:\tlearn: 0.3190153\ttotal: 16.9s\tremaining: 13.3s\n",
      "56:\tlearn: 0.3178931\ttotal: 17.2s\tremaining: 13s\n",
      "57:\tlearn: 0.3164679\ttotal: 17.5s\tremaining: 12.7s\n",
      "58:\tlearn: 0.3155124\ttotal: 17.8s\tremaining: 12.4s\n",
      "59:\tlearn: 0.3144552\ttotal: 18.1s\tremaining: 12.1s\n",
      "60:\tlearn: 0.3134037\ttotal: 18.4s\tremaining: 11.8s\n",
      "61:\tlearn: 0.3125601\ttotal: 18.7s\tremaining: 11.5s\n",
      "62:\tlearn: 0.3116830\ttotal: 19s\tremaining: 11.1s\n",
      "63:\tlearn: 0.3105785\ttotal: 19.3s\tremaining: 10.8s\n",
      "64:\tlearn: 0.3096883\ttotal: 19.6s\tremaining: 10.6s\n",
      "65:\tlearn: 0.3090295\ttotal: 19.9s\tremaining: 10.3s\n",
      "66:\tlearn: 0.3081561\ttotal: 20.2s\tremaining: 9.93s\n",
      "67:\tlearn: 0.3074686\ttotal: 20.5s\tremaining: 9.64s\n",
      "68:\tlearn: 0.3065325\ttotal: 20.8s\tremaining: 9.33s\n",
      "69:\tlearn: 0.3057547\ttotal: 21.1s\tremaining: 9.06s\n",
      "70:\tlearn: 0.3051035\ttotal: 21.4s\tremaining: 8.74s\n",
      "71:\tlearn: 0.3043444\ttotal: 21.7s\tremaining: 8.43s\n",
      "72:\tlearn: 0.3037621\ttotal: 22s\tremaining: 8.13s\n",
      "73:\tlearn: 0.3030571\ttotal: 22.3s\tremaining: 7.83s\n",
      "74:\tlearn: 0.3024295\ttotal: 22.6s\tremaining: 7.53s\n",
      "75:\tlearn: 0.3019203\ttotal: 22.9s\tremaining: 7.23s\n",
      "76:\tlearn: 0.3013187\ttotal: 23.2s\tremaining: 6.92s\n",
      "77:\tlearn: 0.3005902\ttotal: 23.5s\tremaining: 6.63s\n",
      "78:\tlearn: 0.3001726\ttotal: 23.8s\tremaining: 6.33s\n",
      "79:\tlearn: 0.2995244\ttotal: 24.1s\tremaining: 6.02s\n",
      "80:\tlearn: 0.2990797\ttotal: 24.3s\tremaining: 5.71s\n",
      "81:\tlearn: 0.2984839\ttotal: 24.6s\tremaining: 5.41s\n",
      "82:\tlearn: 0.2980181\ttotal: 24.9s\tremaining: 5.1s\n",
      "83:\tlearn: 0.2974997\ttotal: 25.2s\tremaining: 4.8s\n",
      "84:\tlearn: 0.2969790\ttotal: 25.5s\tremaining: 4.51s\n",
      "85:\tlearn: 0.2965718\ttotal: 25.8s\tremaining: 4.2s\n",
      "86:\tlearn: 0.2962011\ttotal: 26.1s\tremaining: 3.9s\n",
      "87:\tlearn: 0.2958230\ttotal: 26.4s\tremaining: 3.6s\n",
      "88:\tlearn: 0.2951991\ttotal: 26.6s\tremaining: 3.29s\n",
      "89:\tlearn: 0.2948176\ttotal: 26.9s\tremaining: 2.99s\n",
      "90:\tlearn: 0.2943025\ttotal: 27.2s\tremaining: 2.69s\n",
      "91:\tlearn: 0.2937985\ttotal: 27.5s\tremaining: 2.39s\n",
      "92:\tlearn: 0.2935058\ttotal: 27.8s\tremaining: 2.09s\n",
      "93:\tlearn: 0.2931854\ttotal: 28s\tremaining: 1.79s\n",
      "94:\tlearn: 0.2926538\ttotal: 28.3s\tremaining: 1.49s\n",
      "95:\tlearn: 0.2922245\ttotal: 28.6s\tremaining: 1.19s\n",
      "96:\tlearn: 0.2918569\ttotal: 28.9s\tremaining: 892ms\n",
      "97:\tlearn: 0.2914331\ttotal: 29.2s\tremaining: 596ms\n",
      "98:\tlearn: 0.2909545\ttotal: 29.4s\tremaining: 297ms\n",
      "99:\tlearn: 0.2907191\ttotal: 29.7s\tremaining: 0us\n",
      "0:\tlearn: 0.6677878\ttotal: 287ms\tremaining: 28.4s\n",
      "1:\tlearn: 0.6436096\ttotal: 574ms\tremaining: 28.1s\n",
      "2:\tlearn: 0.6226683\ttotal: 868ms\tremaining: 28.1s\n",
      "3:\tlearn: 0.6029173\ttotal: 1.14s\tremaining: 27.5s\n",
      "4:\tlearn: 0.5854765\ttotal: 1.42s\tremaining: 27s\n",
      "5:\tlearn: 0.5694041\ttotal: 1.7s\tremaining: 26.6s\n",
      "6:\tlearn: 0.5545320\ttotal: 1.98s\tremaining: 26.3s\n",
      "7:\tlearn: 0.5402355\ttotal: 2.3s\tremaining: 26.4s\n",
      "8:\tlearn: 0.5264659\ttotal: 2.6s\tremaining: 26.3s\n",
      "9:\tlearn: 0.5136062\ttotal: 2.88s\tremaining: 25.9s\n",
      "10:\tlearn: 0.5022239\ttotal: 3.18s\tremaining: 25.8s\n",
      "11:\tlearn: 0.4912916\ttotal: 3.5s\tremaining: 25.6s\n",
      "12:\tlearn: 0.4811776\ttotal: 3.77s\tremaining: 25.2s\n",
      "13:\tlearn: 0.4728109\ttotal: 4.05s\tremaining: 24.9s\n",
      "14:\tlearn: 0.4634942\ttotal: 4.36s\tremaining: 24.7s\n",
      "15:\tlearn: 0.4552307\ttotal: 4.7s\tremaining: 24.7s\n",
      "16:\tlearn: 0.4475052\ttotal: 5.04s\tremaining: 24.6s\n",
      "17:\tlearn: 0.4400341\ttotal: 5.36s\tremaining: 24.4s\n",
      "18:\tlearn: 0.4335093\ttotal: 5.68s\tremaining: 24.2s\n",
      "19:\tlearn: 0.4269349\ttotal: 5.96s\tremaining: 23.8s\n",
      "20:\tlearn: 0.4209230\ttotal: 6.3s\tremaining: 23.7s\n",
      "21:\tlearn: 0.4154102\ttotal: 6.61s\tremaining: 23.4s\n",
      "22:\tlearn: 0.4099767\ttotal: 6.89s\tremaining: 23.1s\n",
      "23:\tlearn: 0.4049712\ttotal: 7.21s\tremaining: 22.8s\n",
      "24:\tlearn: 0.4001635\ttotal: 7.51s\tremaining: 22.5s\n",
      "25:\tlearn: 0.3957687\ttotal: 7.81s\tremaining: 22.2s\n",
      "26:\tlearn: 0.3906469\ttotal: 8.18s\tremaining: 22.1s\n",
      "27:\tlearn: 0.3862188\ttotal: 8.46s\tremaining: 21.8s\n",
      "28:\tlearn: 0.3822433\ttotal: 8.76s\tremaining: 21.4s\n",
      "29:\tlearn: 0.3781617\ttotal: 9.05s\tremaining: 21.1s\n",
      "30:\tlearn: 0.3748326\ttotal: 9.35s\tremaining: 20.8s\n",
      "31:\tlearn: 0.3714818\ttotal: 9.64s\tremaining: 20.5s\n",
      "32:\tlearn: 0.3684782\ttotal: 9.91s\tremaining: 20.1s\n",
      "33:\tlearn: 0.3653853\ttotal: 10.2s\tremaining: 19.9s\n",
      "34:\tlearn: 0.3627815\ttotal: 10.6s\tremaining: 19.7s\n",
      "35:\tlearn: 0.3599825\ttotal: 10.9s\tremaining: 19.4s\n",
      "36:\tlearn: 0.3571097\ttotal: 11.2s\tremaining: 19.1s\n",
      "37:\tlearn: 0.3545818\ttotal: 11.5s\tremaining: 18.8s\n",
      "38:\tlearn: 0.3519377\ttotal: 11.9s\tremaining: 18.6s\n",
      "39:\tlearn: 0.3499863\ttotal: 12.2s\tremaining: 18.3s\n",
      "40:\tlearn: 0.3478215\ttotal: 12.5s\tremaining: 18s\n",
      "41:\tlearn: 0.3452845\ttotal: 12.8s\tremaining: 17.7s\n",
      "42:\tlearn: 0.3433887\ttotal: 13.1s\tremaining: 17.3s\n",
      "43:\tlearn: 0.3410995\ttotal: 13.4s\tremaining: 17.1s\n",
      "44:\tlearn: 0.3394843\ttotal: 13.7s\tremaining: 16.7s\n",
      "45:\tlearn: 0.3380090\ttotal: 14s\tremaining: 16.4s\n",
      "46:\tlearn: 0.3357977\ttotal: 14.3s\tremaining: 16.2s\n",
      "47:\tlearn: 0.3338506\ttotal: 14.6s\tremaining: 15.8s\n",
      "48:\tlearn: 0.3326807\ttotal: 14.9s\tremaining: 15.6s\n",
      "49:\tlearn: 0.3311320\ttotal: 15.3s\tremaining: 15.3s\n",
      "50:\tlearn: 0.3296961\ttotal: 15.6s\tremaining: 15s\n",
      "51:\tlearn: 0.3282302\ttotal: 15.9s\tremaining: 14.7s\n",
      "52:\tlearn: 0.3271038\ttotal: 16.2s\tremaining: 14.4s\n",
      "53:\tlearn: 0.3257102\ttotal: 16.5s\tremaining: 14.1s\n",
      "54:\tlearn: 0.3240929\ttotal: 16.8s\tremaining: 13.8s\n",
      "55:\tlearn: 0.3226999\ttotal: 17.2s\tremaining: 13.5s\n",
      "56:\tlearn: 0.3216517\ttotal: 17.5s\tremaining: 13.2s\n",
      "57:\tlearn: 0.3202507\ttotal: 17.8s\tremaining: 12.9s\n",
      "58:\tlearn: 0.3189118\ttotal: 18.2s\tremaining: 12.6s\n",
      "59:\tlearn: 0.3178035\ttotal: 18.5s\tremaining: 12.3s\n",
      "60:\tlearn: 0.3165801\ttotal: 18.8s\tremaining: 12s\n",
      "61:\tlearn: 0.3153901\ttotal: 19.2s\tremaining: 11.8s\n",
      "62:\tlearn: 0.3146538\ttotal: 19.5s\tremaining: 11.4s\n",
      "63:\tlearn: 0.3137350\ttotal: 19.8s\tremaining: 11.1s\n",
      "64:\tlearn: 0.3126963\ttotal: 20s\tremaining: 10.8s\n",
      "65:\tlearn: 0.3119094\ttotal: 20.3s\tremaining: 10.5s\n",
      "66:\tlearn: 0.3111467\ttotal: 20.6s\tremaining: 10.2s\n",
      "67:\tlearn: 0.3102848\ttotal: 20.9s\tremaining: 9.85s\n",
      "68:\tlearn: 0.3094894\ttotal: 21.2s\tremaining: 9.52s\n",
      "69:\tlearn: 0.3088817\ttotal: 21.5s\tremaining: 9.22s\n",
      "70:\tlearn: 0.3081698\ttotal: 21.8s\tremaining: 8.9s\n",
      "71:\tlearn: 0.3075829\ttotal: 22.1s\tremaining: 8.6s\n",
      "72:\tlearn: 0.3067964\ttotal: 22.4s\tremaining: 8.29s\n",
      "73:\tlearn: 0.3058712\ttotal: 22.7s\tremaining: 7.99s\n",
      "74:\tlearn: 0.3052747\ttotal: 23.1s\tremaining: 7.69s\n",
      "75:\tlearn: 0.3047377\ttotal: 23.3s\tremaining: 7.37s\n",
      "76:\tlearn: 0.3041813\ttotal: 23.7s\tremaining: 7.07s\n",
      "77:\tlearn: 0.3037015\ttotal: 23.9s\tremaining: 6.75s\n",
      "78:\tlearn: 0.3030799\ttotal: 24.2s\tremaining: 6.44s\n",
      "79:\tlearn: 0.3027773\ttotal: 24.5s\tremaining: 6.13s\n",
      "80:\tlearn: 0.3020470\ttotal: 24.8s\tremaining: 5.82s\n",
      "81:\tlearn: 0.3015383\ttotal: 25.1s\tremaining: 5.51s\n",
      "82:\tlearn: 0.3008081\ttotal: 25.4s\tremaining: 5.2s\n",
      "83:\tlearn: 0.3002967\ttotal: 25.7s\tremaining: 4.89s\n",
      "84:\tlearn: 0.2995670\ttotal: 26.1s\tremaining: 4.6s\n",
      "85:\tlearn: 0.2991806\ttotal: 26.3s\tremaining: 4.29s\n",
      "86:\tlearn: 0.2987286\ttotal: 26.6s\tremaining: 3.98s\n",
      "87:\tlearn: 0.2982694\ttotal: 26.9s\tremaining: 3.67s\n",
      "88:\tlearn: 0.2979554\ttotal: 27.2s\tremaining: 3.36s\n",
      "89:\tlearn: 0.2975961\ttotal: 27.5s\tremaining: 3.05s\n",
      "90:\tlearn: 0.2969377\ttotal: 27.7s\tremaining: 2.74s\n",
      "91:\tlearn: 0.2964394\ttotal: 28.1s\tremaining: 2.44s\n",
      "92:\tlearn: 0.2960692\ttotal: 28.4s\tremaining: 2.13s\n",
      "93:\tlearn: 0.2958042\ttotal: 28.6s\tremaining: 1.83s\n",
      "94:\tlearn: 0.2955007\ttotal: 28.9s\tremaining: 1.52s\n",
      "95:\tlearn: 0.2949890\ttotal: 29.2s\tremaining: 1.22s\n",
      "96:\tlearn: 0.2946150\ttotal: 29.5s\tremaining: 912ms\n",
      "97:\tlearn: 0.2943058\ttotal: 29.8s\tremaining: 607ms\n",
      "98:\tlearn: 0.2939434\ttotal: 30s\tremaining: 303ms\n",
      "99:\tlearn: 0.2934641\ttotal: 30.3s\tremaining: 0us\n",
      "0:\tlearn: 0.6666659\ttotal: 271ms\tremaining: 26.8s\n",
      "1:\tlearn: 0.6426157\ttotal: 535ms\tremaining: 26.2s\n",
      "2:\tlearn: 0.6209591\ttotal: 794ms\tremaining: 25.7s\n",
      "3:\tlearn: 0.6021027\ttotal: 1.07s\tremaining: 25.7s\n",
      "4:\tlearn: 0.5839147\ttotal: 1.34s\tremaining: 25.4s\n",
      "5:\tlearn: 0.5671488\ttotal: 1.61s\tremaining: 25.2s\n",
      "6:\tlearn: 0.5525214\ttotal: 1.86s\tremaining: 24.8s\n",
      "7:\tlearn: 0.5382816\ttotal: 2.17s\tremaining: 25s\n",
      "8:\tlearn: 0.5259815\ttotal: 2.46s\tremaining: 24.9s\n",
      "9:\tlearn: 0.5136356\ttotal: 2.73s\tremaining: 24.5s\n",
      "10:\tlearn: 0.5019886\ttotal: 3.04s\tremaining: 24.6s\n",
      "11:\tlearn: 0.4918705\ttotal: 3.31s\tremaining: 24.3s\n",
      "12:\tlearn: 0.4815255\ttotal: 3.59s\tremaining: 24s\n",
      "13:\tlearn: 0.4723001\ttotal: 3.85s\tremaining: 23.7s\n",
      "14:\tlearn: 0.4633821\ttotal: 4.14s\tremaining: 23.5s\n",
      "15:\tlearn: 0.4545319\ttotal: 4.48s\tremaining: 23.5s\n",
      "16:\tlearn: 0.4462066\ttotal: 4.78s\tremaining: 23.3s\n",
      "17:\tlearn: 0.4389637\ttotal: 5.11s\tremaining: 23.3s\n",
      "18:\tlearn: 0.4320626\ttotal: 5.46s\tremaining: 23.3s\n",
      "19:\tlearn: 0.4255557\ttotal: 5.75s\tremaining: 23s\n",
      "20:\tlearn: 0.4195518\ttotal: 6.07s\tremaining: 22.9s\n",
      "21:\tlearn: 0.4140689\ttotal: 6.36s\tremaining: 22.5s\n",
      "22:\tlearn: 0.4080098\ttotal: 6.66s\tremaining: 22.3s\n",
      "23:\tlearn: 0.4028633\ttotal: 6.98s\tremaining: 22.1s\n",
      "24:\tlearn: 0.3977568\ttotal: 7.3s\tremaining: 21.9s\n",
      "25:\tlearn: 0.3936689\ttotal: 7.6s\tremaining: 21.6s\n",
      "26:\tlearn: 0.3888147\ttotal: 7.94s\tremaining: 21.5s\n",
      "27:\tlearn: 0.3844533\ttotal: 8.23s\tremaining: 21.2s\n",
      "28:\tlearn: 0.3811083\ttotal: 8.52s\tremaining: 20.9s\n",
      "29:\tlearn: 0.3772092\ttotal: 8.9s\tremaining: 20.8s\n",
      "30:\tlearn: 0.3738704\ttotal: 9.22s\tremaining: 20.5s\n",
      "31:\tlearn: 0.3707332\ttotal: 9.52s\tremaining: 20.2s\n",
      "32:\tlearn: 0.3673006\ttotal: 9.79s\tremaining: 19.9s\n",
      "33:\tlearn: 0.3640866\ttotal: 10.2s\tremaining: 19.7s\n",
      "34:\tlearn: 0.3612361\ttotal: 10.5s\tremaining: 19.5s\n",
      "35:\tlearn: 0.3586385\ttotal: 10.8s\tremaining: 19.2s\n",
      "36:\tlearn: 0.3559164\ttotal: 11.1s\tremaining: 18.9s\n",
      "37:\tlearn: 0.3535856\ttotal: 11.4s\tremaining: 18.6s\n",
      "38:\tlearn: 0.3507507\ttotal: 11.7s\tremaining: 18.3s\n",
      "39:\tlearn: 0.3488465\ttotal: 12s\tremaining: 18s\n",
      "40:\tlearn: 0.3464204\ttotal: 12.3s\tremaining: 17.7s\n",
      "41:\tlearn: 0.3443543\ttotal: 12.6s\tremaining: 17.4s\n",
      "42:\tlearn: 0.3421848\ttotal: 12.9s\tremaining: 17s\n",
      "43:\tlearn: 0.3401147\ttotal: 13.1s\tremaining: 16.7s\n",
      "44:\tlearn: 0.3380270\ttotal: 13.5s\tremaining: 16.5s\n",
      "45:\tlearn: 0.3364150\ttotal: 13.8s\tremaining: 16.2s\n",
      "46:\tlearn: 0.3343422\ttotal: 14.2s\tremaining: 16s\n",
      "47:\tlearn: 0.3326608\ttotal: 14.4s\tremaining: 15.6s\n",
      "48:\tlearn: 0.3309452\ttotal: 14.7s\tremaining: 15.3s\n",
      "49:\tlearn: 0.3296576\ttotal: 15s\tremaining: 15s\n",
      "50:\tlearn: 0.3282422\ttotal: 15.4s\tremaining: 14.8s\n",
      "51:\tlearn: 0.3268886\ttotal: 15.7s\tremaining: 14.5s\n",
      "52:\tlearn: 0.3253530\ttotal: 16s\tremaining: 14.2s\n",
      "53:\tlearn: 0.3240269\ttotal: 16.4s\tremaining: 14s\n",
      "54:\tlearn: 0.3227612\ttotal: 16.7s\tremaining: 13.7s\n",
      "55:\tlearn: 0.3215220\ttotal: 17.1s\tremaining: 13.4s\n",
      "56:\tlearn: 0.3204528\ttotal: 17.4s\tremaining: 13.1s\n",
      "57:\tlearn: 0.3190944\ttotal: 17.7s\tremaining: 12.8s\n",
      "58:\tlearn: 0.3180928\ttotal: 18.1s\tremaining: 12.6s\n",
      "59:\tlearn: 0.3168339\ttotal: 18.3s\tremaining: 12.2s\n",
      "60:\tlearn: 0.3153746\ttotal: 18.7s\tremaining: 11.9s\n",
      "61:\tlearn: 0.3142900\ttotal: 19.1s\tremaining: 11.7s\n",
      "62:\tlearn: 0.3132355\ttotal: 19.3s\tremaining: 11.3s\n",
      "63:\tlearn: 0.3123032\ttotal: 19.6s\tremaining: 11s\n",
      "64:\tlearn: 0.3113477\ttotal: 19.9s\tremaining: 10.7s\n",
      "65:\tlearn: 0.3104978\ttotal: 20.1s\tremaining: 10.4s\n",
      "66:\tlearn: 0.3095151\ttotal: 20.4s\tremaining: 10.1s\n",
      "67:\tlearn: 0.3086628\ttotal: 20.7s\tremaining: 9.73s\n",
      "68:\tlearn: 0.3079340\ttotal: 21s\tremaining: 9.43s\n",
      "69:\tlearn: 0.3071529\ttotal: 21.3s\tremaining: 9.13s\n",
      "70:\tlearn: 0.3063354\ttotal: 21.6s\tremaining: 8.82s\n",
      "71:\tlearn: 0.3057140\ttotal: 21.9s\tremaining: 8.51s\n",
      "72:\tlearn: 0.3048840\ttotal: 22.2s\tremaining: 8.2s\n",
      "73:\tlearn: 0.3042581\ttotal: 22.5s\tremaining: 7.91s\n",
      "74:\tlearn: 0.3035448\ttotal: 22.8s\tremaining: 7.59s\n",
      "75:\tlearn: 0.3029688\ttotal: 23.1s\tremaining: 7.28s\n",
      "76:\tlearn: 0.3022635\ttotal: 23.3s\tremaining: 6.97s\n",
      "77:\tlearn: 0.3016215\ttotal: 23.6s\tremaining: 6.67s\n",
      "78:\tlearn: 0.3009642\ttotal: 24s\tremaining: 6.38s\n",
      "79:\tlearn: 0.3004242\ttotal: 24.3s\tremaining: 6.07s\n",
      "80:\tlearn: 0.2999853\ttotal: 24.6s\tremaining: 5.77s\n",
      "81:\tlearn: 0.2995607\ttotal: 24.9s\tremaining: 5.46s\n",
      "82:\tlearn: 0.2989072\ttotal: 25.1s\tremaining: 5.15s\n",
      "83:\tlearn: 0.2984490\ttotal: 25.5s\tremaining: 4.85s\n",
      "84:\tlearn: 0.2979272\ttotal: 25.8s\tremaining: 4.54s\n",
      "85:\tlearn: 0.2975720\ttotal: 26s\tremaining: 4.24s\n",
      "86:\tlearn: 0.2968734\ttotal: 26.3s\tremaining: 3.93s\n",
      "87:\tlearn: 0.2964593\ttotal: 26.6s\tremaining: 3.62s\n",
      "88:\tlearn: 0.2959353\ttotal: 26.8s\tremaining: 3.32s\n",
      "89:\tlearn: 0.2955185\ttotal: 27.1s\tremaining: 3.01s\n",
      "90:\tlearn: 0.2950864\ttotal: 27.4s\tremaining: 2.71s\n",
      "91:\tlearn: 0.2947012\ttotal: 27.6s\tremaining: 2.4s\n",
      "92:\tlearn: 0.2942461\ttotal: 27.9s\tremaining: 2.1s\n",
      "93:\tlearn: 0.2939052\ttotal: 28.2s\tremaining: 1.8s\n",
      "94:\tlearn: 0.2933378\ttotal: 28.4s\tremaining: 1.5s\n",
      "95:\tlearn: 0.2928015\ttotal: 28.8s\tremaining: 1.2s\n",
      "96:\tlearn: 0.2923210\ttotal: 29.1s\tremaining: 898ms\n",
      "97:\tlearn: 0.2920102\ttotal: 29.4s\tremaining: 599ms\n",
      "98:\tlearn: 0.2915645\ttotal: 29.6s\tremaining: 299ms\n",
      "99:\tlearn: 0.2911225\ttotal: 29.9s\tremaining: 0us\n",
      "0:\tlearn: 0.4124485\ttotal: 283ms\tremaining: 28s\n",
      "1:\tlearn: 0.3502545\ttotal: 608ms\tremaining: 29.8s\n",
      "2:\tlearn: 0.3193987\ttotal: 952ms\tremaining: 30.8s\n",
      "3:\tlearn: 0.3036748\ttotal: 1.29s\tremaining: 31.1s\n",
      "4:\tlearn: 0.2941039\ttotal: 1.57s\tremaining: 29.9s\n",
      "5:\tlearn: 0.2891878\ttotal: 1.85s\tremaining: 29s\n",
      "6:\tlearn: 0.2861065\ttotal: 2.11s\tremaining: 28s\n",
      "7:\tlearn: 0.2786502\ttotal: 2.38s\tremaining: 27.4s\n",
      "8:\tlearn: 0.2754611\ttotal: 2.67s\tremaining: 27s\n",
      "9:\tlearn: 0.2729061\ttotal: 2.93s\tremaining: 26.4s\n",
      "10:\tlearn: 0.2694791\ttotal: 3.2s\tremaining: 25.9s\n",
      "11:\tlearn: 0.2657037\ttotal: 3.48s\tremaining: 25.5s\n",
      "12:\tlearn: 0.2620003\ttotal: 3.74s\tremaining: 25s\n",
      "13:\tlearn: 0.2582905\ttotal: 4.01s\tremaining: 24.7s\n",
      "14:\tlearn: 0.2551200\ttotal: 4.3s\tremaining: 24.4s\n",
      "15:\tlearn: 0.2516019\ttotal: 4.64s\tremaining: 24.4s\n",
      "16:\tlearn: 0.2488711\ttotal: 4.9s\tremaining: 23.9s\n",
      "17:\tlearn: 0.2469446\ttotal: 5.19s\tremaining: 23.6s\n",
      "18:\tlearn: 0.2438332\ttotal: 5.46s\tremaining: 23.3s\n",
      "19:\tlearn: 0.2409735\ttotal: 5.75s\tremaining: 23s\n",
      "20:\tlearn: 0.2396504\ttotal: 6.01s\tremaining: 22.6s\n",
      "21:\tlearn: 0.2384450\ttotal: 6.27s\tremaining: 22.2s\n",
      "22:\tlearn: 0.2376717\ttotal: 6.55s\tremaining: 21.9s\n",
      "23:\tlearn: 0.2364526\ttotal: 6.82s\tremaining: 21.6s\n",
      "24:\tlearn: 0.2349962\ttotal: 7.08s\tremaining: 21.3s\n",
      "25:\tlearn: 0.2340155\ttotal: 7.35s\tremaining: 20.9s\n",
      "26:\tlearn: 0.2329627\ttotal: 7.61s\tremaining: 20.6s\n",
      "27:\tlearn: 0.2319472\ttotal: 7.88s\tremaining: 20.3s\n",
      "28:\tlearn: 0.2304333\ttotal: 8.18s\tremaining: 20s\n",
      "29:\tlearn: 0.2292015\ttotal: 8.44s\tremaining: 19.7s\n",
      "30:\tlearn: 0.2280760\ttotal: 8.73s\tremaining: 19.4s\n",
      "31:\tlearn: 0.2269997\ttotal: 8.99s\tremaining: 19.1s\n",
      "32:\tlearn: 0.2258707\ttotal: 9.28s\tremaining: 18.8s\n",
      "33:\tlearn: 0.2247557\ttotal: 9.57s\tremaining: 18.6s\n",
      "34:\tlearn: 0.2240402\ttotal: 9.84s\tremaining: 18.3s\n",
      "35:\tlearn: 0.2231633\ttotal: 10.1s\tremaining: 17.9s\n",
      "36:\tlearn: 0.2224921\ttotal: 10.4s\tremaining: 17.6s\n",
      "37:\tlearn: 0.2217365\ttotal: 10.6s\tremaining: 17.4s\n",
      "38:\tlearn: 0.2210092\ttotal: 10.9s\tremaining: 17.1s\n",
      "39:\tlearn: 0.2204834\ttotal: 11.2s\tremaining: 16.8s\n",
      "40:\tlearn: 0.2197433\ttotal: 11.5s\tremaining: 16.5s\n",
      "41:\tlearn: 0.2191256\ttotal: 11.7s\tremaining: 16.2s\n",
      "42:\tlearn: 0.2183030\ttotal: 12s\tremaining: 15.9s\n",
      "43:\tlearn: 0.2176519\ttotal: 12.3s\tremaining: 15.6s\n",
      "44:\tlearn: 0.2167800\ttotal: 12.6s\tremaining: 15.4s\n",
      "45:\tlearn: 0.2162833\ttotal: 12.8s\tremaining: 15s\n",
      "46:\tlearn: 0.2146869\ttotal: 13.1s\tremaining: 14.7s\n",
      "47:\tlearn: 0.2137729\ttotal: 13.3s\tremaining: 14.4s\n",
      "48:\tlearn: 0.2131070\ttotal: 13.6s\tremaining: 14.1s\n",
      "49:\tlearn: 0.2122799\ttotal: 13.8s\tremaining: 13.8s\n",
      "50:\tlearn: 0.2116363\ttotal: 14.1s\tremaining: 13.5s\n",
      "51:\tlearn: 0.2110082\ttotal: 14.3s\tremaining: 13.2s\n",
      "52:\tlearn: 0.2101247\ttotal: 14.6s\tremaining: 13s\n",
      "53:\tlearn: 0.2093345\ttotal: 14.9s\tremaining: 12.7s\n",
      "54:\tlearn: 0.2082064\ttotal: 15.2s\tremaining: 12.4s\n",
      "55:\tlearn: 0.2076219\ttotal: 15.5s\tremaining: 12.1s\n",
      "56:\tlearn: 0.2070001\ttotal: 15.7s\tremaining: 11.9s\n",
      "57:\tlearn: 0.2062523\ttotal: 16s\tremaining: 11.6s\n",
      "58:\tlearn: 0.2058982\ttotal: 16.3s\tremaining: 11.3s\n",
      "59:\tlearn: 0.2053732\ttotal: 16.5s\tremaining: 11s\n",
      "60:\tlearn: 0.2045147\ttotal: 16.9s\tremaining: 10.8s\n",
      "61:\tlearn: 0.2038693\ttotal: 17.1s\tremaining: 10.5s\n",
      "62:\tlearn: 0.2032415\ttotal: 17.4s\tremaining: 10.2s\n",
      "63:\tlearn: 0.2027387\ttotal: 17.7s\tremaining: 9.96s\n",
      "64:\tlearn: 0.2023052\ttotal: 18s\tremaining: 9.67s\n",
      "65:\tlearn: 0.2016912\ttotal: 18.2s\tremaining: 9.4s\n",
      "66:\tlearn: 0.2011157\ttotal: 18.5s\tremaining: 9.13s\n",
      "67:\tlearn: 0.2007044\ttotal: 18.8s\tremaining: 8.84s\n",
      "68:\tlearn: 0.2000683\ttotal: 19.1s\tremaining: 8.57s\n",
      "69:\tlearn: 0.1995301\ttotal: 19.3s\tremaining: 8.29s\n",
      "70:\tlearn: 0.1987382\ttotal: 19.6s\tremaining: 8.02s\n",
      "71:\tlearn: 0.1984080\ttotal: 19.9s\tremaining: 7.74s\n",
      "72:\tlearn: 0.1980850\ttotal: 20.2s\tremaining: 7.46s\n",
      "73:\tlearn: 0.1972859\ttotal: 20.5s\tremaining: 7.19s\n",
      "74:\tlearn: 0.1966835\ttotal: 20.7s\tremaining: 6.91s\n",
      "75:\tlearn: 0.1962329\ttotal: 21s\tremaining: 6.63s\n",
      "76:\tlearn: 0.1957478\ttotal: 21.3s\tremaining: 6.36s\n",
      "77:\tlearn: 0.1951993\ttotal: 21.6s\tremaining: 6.08s\n",
      "78:\tlearn: 0.1944838\ttotal: 21.9s\tremaining: 5.81s\n",
      "79:\tlearn: 0.1941067\ttotal: 22.1s\tremaining: 5.53s\n",
      "80:\tlearn: 0.1936470\ttotal: 22.4s\tremaining: 5.26s\n",
      "81:\tlearn: 0.1930759\ttotal: 22.7s\tremaining: 4.98s\n",
      "82:\tlearn: 0.1926166\ttotal: 23s\tremaining: 4.71s\n",
      "83:\tlearn: 0.1922887\ttotal: 23.3s\tremaining: 4.43s\n",
      "84:\tlearn: 0.1916834\ttotal: 23.6s\tremaining: 4.16s\n",
      "85:\tlearn: 0.1911941\ttotal: 23.8s\tremaining: 3.88s\n",
      "86:\tlearn: 0.1905818\ttotal: 24.1s\tremaining: 3.6s\n",
      "87:\tlearn: 0.1901288\ttotal: 24.4s\tremaining: 3.33s\n",
      "88:\tlearn: 0.1898725\ttotal: 24.7s\tremaining: 3.05s\n",
      "89:\tlearn: 0.1894574\ttotal: 24.9s\tremaining: 2.77s\n",
      "90:\tlearn: 0.1889934\ttotal: 25.2s\tremaining: 2.5s\n",
      "91:\tlearn: 0.1885780\ttotal: 25.5s\tremaining: 2.22s\n",
      "92:\tlearn: 0.1880981\ttotal: 25.8s\tremaining: 1.94s\n",
      "93:\tlearn: 0.1878200\ttotal: 26.1s\tremaining: 1.66s\n",
      "94:\tlearn: 0.1873535\ttotal: 26.4s\tremaining: 1.39s\n",
      "95:\tlearn: 0.1871095\ttotal: 26.7s\tremaining: 1.11s\n",
      "96:\tlearn: 0.1867622\ttotal: 27.1s\tremaining: 839ms\n",
      "97:\tlearn: 0.1864088\ttotal: 27.4s\tremaining: 559ms\n",
      "98:\tlearn: 0.1861267\ttotal: 27.7s\tremaining: 280ms\n",
      "99:\tlearn: 0.1856893\ttotal: 28s\tremaining: 0us\n",
      "0:\tlearn: 0.4100834\ttotal: 270ms\tremaining: 26.7s\n",
      "1:\tlearn: 0.3553496\ttotal: 543ms\tremaining: 26.6s\n",
      "2:\tlearn: 0.3273578\ttotal: 881ms\tremaining: 28.5s\n",
      "3:\tlearn: 0.3094056\ttotal: 1.15s\tremaining: 27.6s\n",
      "4:\tlearn: 0.3029934\ttotal: 1.44s\tremaining: 27.4s\n",
      "5:\tlearn: 0.2997472\ttotal: 1.71s\tremaining: 26.9s\n",
      "6:\tlearn: 0.2916957\ttotal: 1.99s\tremaining: 26.5s\n",
      "7:\tlearn: 0.2849582\ttotal: 2.26s\tremaining: 26s\n",
      "8:\tlearn: 0.2813531\ttotal: 2.53s\tremaining: 25.6s\n",
      "9:\tlearn: 0.2742622\ttotal: 2.85s\tremaining: 25.7s\n",
      "10:\tlearn: 0.2703228\ttotal: 3.12s\tremaining: 25.3s\n",
      "11:\tlearn: 0.2672510\ttotal: 3.4s\tremaining: 24.9s\n",
      "12:\tlearn: 0.2626018\ttotal: 3.77s\tremaining: 25.3s\n",
      "13:\tlearn: 0.2591061\ttotal: 4.08s\tremaining: 25s\n",
      "14:\tlearn: 0.2560143\ttotal: 4.38s\tremaining: 24.9s\n",
      "15:\tlearn: 0.2533290\ttotal: 4.68s\tremaining: 24.6s\n",
      "16:\tlearn: 0.2507271\ttotal: 5s\tremaining: 24.4s\n",
      "17:\tlearn: 0.2489245\ttotal: 5.29s\tremaining: 24.1s\n",
      "18:\tlearn: 0.2473633\ttotal: 5.57s\tremaining: 23.8s\n",
      "19:\tlearn: 0.2454912\ttotal: 5.86s\tremaining: 23.5s\n",
      "20:\tlearn: 0.2437355\ttotal: 6.19s\tremaining: 23.3s\n",
      "21:\tlearn: 0.2421699\ttotal: 6.47s\tremaining: 22.9s\n",
      "22:\tlearn: 0.2393571\ttotal: 6.77s\tremaining: 22.7s\n",
      "23:\tlearn: 0.2382916\ttotal: 7.07s\tremaining: 22.4s\n",
      "24:\tlearn: 0.2367058\ttotal: 7.37s\tremaining: 22.1s\n",
      "25:\tlearn: 0.2352889\ttotal: 7.64s\tremaining: 21.7s\n",
      "26:\tlearn: 0.2343608\ttotal: 7.92s\tremaining: 21.4s\n",
      "27:\tlearn: 0.2335000\ttotal: 8.2s\tremaining: 21.1s\n",
      "28:\tlearn: 0.2323429\ttotal: 8.49s\tremaining: 20.8s\n",
      "29:\tlearn: 0.2314844\ttotal: 8.77s\tremaining: 20.5s\n",
      "30:\tlearn: 0.2303156\ttotal: 9.05s\tremaining: 20.1s\n",
      "31:\tlearn: 0.2292469\ttotal: 9.31s\tremaining: 19.8s\n",
      "32:\tlearn: 0.2283659\ttotal: 9.58s\tremaining: 19.5s\n",
      "33:\tlearn: 0.2262502\ttotal: 9.86s\tremaining: 19.1s\n",
      "34:\tlearn: 0.2249923\ttotal: 10.2s\tremaining: 18.9s\n",
      "35:\tlearn: 0.2239640\ttotal: 10.4s\tremaining: 18.6s\n",
      "36:\tlearn: 0.2231475\ttotal: 10.7s\tremaining: 18.2s\n",
      "37:\tlearn: 0.2224628\ttotal: 11s\tremaining: 17.9s\n",
      "38:\tlearn: 0.2212155\ttotal: 11.3s\tremaining: 17.7s\n",
      "39:\tlearn: 0.2205669\ttotal: 11.6s\tremaining: 17.3s\n",
      "40:\tlearn: 0.2196743\ttotal: 11.8s\tremaining: 17s\n",
      "41:\tlearn: 0.2188195\ttotal: 12.1s\tremaining: 16.7s\n",
      "42:\tlearn: 0.2181198\ttotal: 12.4s\tremaining: 16.4s\n",
      "43:\tlearn: 0.2165764\ttotal: 12.8s\tremaining: 16.3s\n",
      "44:\tlearn: 0.2158854\ttotal: 13s\tremaining: 15.9s\n",
      "45:\tlearn: 0.2151380\ttotal: 13.4s\tremaining: 15.7s\n",
      "46:\tlearn: 0.2141377\ttotal: 13.7s\tremaining: 15.4s\n",
      "47:\tlearn: 0.2131926\ttotal: 13.9s\tremaining: 15.1s\n",
      "48:\tlearn: 0.2125296\ttotal: 14.2s\tremaining: 14.8s\n",
      "49:\tlearn: 0.2118924\ttotal: 14.5s\tremaining: 14.5s\n",
      "50:\tlearn: 0.2112230\ttotal: 14.8s\tremaining: 14.2s\n",
      "51:\tlearn: 0.2105934\ttotal: 15.1s\tremaining: 13.9s\n",
      "52:\tlearn: 0.2099634\ttotal: 15.4s\tremaining: 13.6s\n",
      "53:\tlearn: 0.2089065\ttotal: 15.7s\tremaining: 13.4s\n",
      "54:\tlearn: 0.2083783\ttotal: 16s\tremaining: 13.1s\n",
      "55:\tlearn: 0.2075007\ttotal: 16.3s\tremaining: 12.8s\n",
      "56:\tlearn: 0.2065008\ttotal: 16.6s\tremaining: 12.5s\n",
      "57:\tlearn: 0.2060106\ttotal: 16.8s\tremaining: 12.2s\n",
      "58:\tlearn: 0.2047937\ttotal: 17.1s\tremaining: 11.9s\n",
      "59:\tlearn: 0.2042918\ttotal: 17.4s\tremaining: 11.6s\n",
      "60:\tlearn: 0.2039312\ttotal: 17.6s\tremaining: 11.3s\n",
      "61:\tlearn: 0.2032786\ttotal: 17.9s\tremaining: 11s\n",
      "62:\tlearn: 0.2022108\ttotal: 18.2s\tremaining: 10.7s\n",
      "63:\tlearn: 0.2018982\ttotal: 18.5s\tremaining: 10.4s\n",
      "64:\tlearn: 0.2010008\ttotal: 18.8s\tremaining: 10.1s\n",
      "65:\tlearn: 0.2004654\ttotal: 19.1s\tremaining: 9.86s\n",
      "66:\tlearn: 0.1998099\ttotal: 19.4s\tremaining: 9.56s\n",
      "67:\tlearn: 0.1993563\ttotal: 19.7s\tremaining: 9.27s\n",
      "68:\tlearn: 0.1989263\ttotal: 20s\tremaining: 8.97s\n",
      "69:\tlearn: 0.1985320\ttotal: 20.2s\tremaining: 8.67s\n",
      "70:\tlearn: 0.1982288\ttotal: 20.5s\tremaining: 8.38s\n",
      "71:\tlearn: 0.1978314\ttotal: 20.8s\tremaining: 8.08s\n",
      "72:\tlearn: 0.1974060\ttotal: 21.1s\tremaining: 7.79s\n",
      "73:\tlearn: 0.1967720\ttotal: 21.4s\tremaining: 7.5s\n",
      "74:\tlearn: 0.1962894\ttotal: 21.6s\tremaining: 7.21s\n",
      "75:\tlearn: 0.1959276\ttotal: 21.9s\tremaining: 6.92s\n",
      "76:\tlearn: 0.1955511\ttotal: 22.2s\tremaining: 6.63s\n",
      "77:\tlearn: 0.1952031\ttotal: 22.5s\tremaining: 6.33s\n",
      "78:\tlearn: 0.1948263\ttotal: 22.7s\tremaining: 6.04s\n",
      "79:\tlearn: 0.1945138\ttotal: 23s\tremaining: 5.75s\n",
      "80:\tlearn: 0.1940475\ttotal: 23.3s\tremaining: 5.46s\n",
      "81:\tlearn: 0.1936611\ttotal: 23.5s\tremaining: 5.17s\n",
      "82:\tlearn: 0.1932682\ttotal: 23.8s\tremaining: 4.88s\n",
      "83:\tlearn: 0.1927971\ttotal: 24.1s\tremaining: 4.59s\n",
      "84:\tlearn: 0.1921827\ttotal: 24.4s\tremaining: 4.31s\n",
      "85:\tlearn: 0.1915072\ttotal: 24.7s\tremaining: 4.02s\n",
      "86:\tlearn: 0.1909782\ttotal: 25s\tremaining: 3.73s\n",
      "87:\tlearn: 0.1903060\ttotal: 25.3s\tremaining: 3.45s\n",
      "88:\tlearn: 0.1899072\ttotal: 25.6s\tremaining: 3.16s\n",
      "89:\tlearn: 0.1894320\ttotal: 25.8s\tremaining: 2.87s\n",
      "90:\tlearn: 0.1889756\ttotal: 26.1s\tremaining: 2.58s\n",
      "91:\tlearn: 0.1885692\ttotal: 26.4s\tremaining: 2.29s\n",
      "92:\tlearn: 0.1877644\ttotal: 26.7s\tremaining: 2.01s\n",
      "93:\tlearn: 0.1872520\ttotal: 27s\tremaining: 1.72s\n",
      "94:\tlearn: 0.1866003\ttotal: 27.3s\tremaining: 1.44s\n",
      "95:\tlearn: 0.1862125\ttotal: 27.6s\tremaining: 1.15s\n",
      "96:\tlearn: 0.1858734\ttotal: 27.8s\tremaining: 861ms\n",
      "97:\tlearn: 0.1852587\ttotal: 28.1s\tremaining: 574ms\n",
      "98:\tlearn: 0.1848145\ttotal: 28.4s\tremaining: 287ms\n",
      "99:\tlearn: 0.1845649\ttotal: 28.7s\tremaining: 0us\n",
      "0:\tlearn: 0.3995954\ttotal: 272ms\tremaining: 26.9s\n",
      "1:\tlearn: 0.3475706\ttotal: 556ms\tremaining: 27.3s\n",
      "2:\tlearn: 0.3183580\ttotal: 908ms\tremaining: 29.4s\n",
      "3:\tlearn: 0.3026972\ttotal: 1.18s\tremaining: 28.3s\n",
      "4:\tlearn: 0.2960840\ttotal: 1.48s\tremaining: 28.2s\n",
      "5:\tlearn: 0.2885314\ttotal: 1.78s\tremaining: 27.9s\n",
      "6:\tlearn: 0.2820222\ttotal: 2.09s\tremaining: 27.8s\n",
      "7:\tlearn: 0.2790851\ttotal: 2.38s\tremaining: 27.3s\n",
      "8:\tlearn: 0.2744624\ttotal: 2.68s\tremaining: 27.1s\n",
      "9:\tlearn: 0.2695956\ttotal: 3.06s\tremaining: 27.5s\n",
      "10:\tlearn: 0.2668542\ttotal: 3.36s\tremaining: 27.2s\n",
      "11:\tlearn: 0.2641190\ttotal: 3.63s\tremaining: 26.6s\n",
      "12:\tlearn: 0.2586253\ttotal: 3.91s\tremaining: 26.2s\n",
      "13:\tlearn: 0.2550845\ttotal: 4.22s\tremaining: 25.9s\n",
      "14:\tlearn: 0.2522242\ttotal: 4.5s\tremaining: 25.5s\n",
      "15:\tlearn: 0.2493837\ttotal: 4.87s\tremaining: 25.6s\n",
      "16:\tlearn: 0.2472410\ttotal: 5.15s\tremaining: 25.1s\n",
      "17:\tlearn: 0.2450520\ttotal: 5.49s\tremaining: 25s\n",
      "18:\tlearn: 0.2431976\ttotal: 5.78s\tremaining: 24.7s\n",
      "19:\tlearn: 0.2415591\ttotal: 6.06s\tremaining: 24.2s\n",
      "20:\tlearn: 0.2389164\ttotal: 6.45s\tremaining: 24.3s\n",
      "21:\tlearn: 0.2374541\ttotal: 6.76s\tremaining: 24s\n",
      "22:\tlearn: 0.2362171\ttotal: 7.03s\tremaining: 23.5s\n",
      "23:\tlearn: 0.2350300\ttotal: 7.31s\tremaining: 23.1s\n",
      "24:\tlearn: 0.2336537\ttotal: 7.58s\tremaining: 22.7s\n",
      "25:\tlearn: 0.2321384\ttotal: 7.86s\tremaining: 22.4s\n",
      "26:\tlearn: 0.2313331\ttotal: 8.14s\tremaining: 22s\n",
      "27:\tlearn: 0.2303491\ttotal: 8.41s\tremaining: 21.6s\n",
      "28:\tlearn: 0.2292973\ttotal: 8.67s\tremaining: 21.2s\n",
      "29:\tlearn: 0.2277437\ttotal: 8.95s\tremaining: 20.9s\n",
      "30:\tlearn: 0.2266580\ttotal: 9.25s\tremaining: 20.6s\n",
      "31:\tlearn: 0.2259289\ttotal: 9.52s\tremaining: 20.2s\n",
      "32:\tlearn: 0.2247802\ttotal: 9.8s\tremaining: 19.9s\n",
      "33:\tlearn: 0.2240455\ttotal: 10.1s\tremaining: 19.5s\n",
      "34:\tlearn: 0.2233685\ttotal: 10.3s\tremaining: 19.2s\n",
      "35:\tlearn: 0.2224213\ttotal: 10.6s\tremaining: 18.8s\n",
      "36:\tlearn: 0.2214461\ttotal: 10.9s\tremaining: 18.5s\n",
      "37:\tlearn: 0.2203048\ttotal: 11.2s\tremaining: 18.3s\n",
      "38:\tlearn: 0.2189634\ttotal: 11.5s\tremaining: 18s\n",
      "39:\tlearn: 0.2178585\ttotal: 11.8s\tremaining: 17.7s\n",
      "40:\tlearn: 0.2168813\ttotal: 12.1s\tremaining: 17.3s\n",
      "41:\tlearn: 0.2160510\ttotal: 12.3s\tremaining: 17s\n",
      "42:\tlearn: 0.2152528\ttotal: 12.6s\tremaining: 16.7s\n",
      "43:\tlearn: 0.2143447\ttotal: 12.9s\tremaining: 16.4s\n",
      "44:\tlearn: 0.2138587\ttotal: 13.1s\tremaining: 16.1s\n",
      "45:\tlearn: 0.2131004\ttotal: 13.4s\tremaining: 15.7s\n",
      "46:\tlearn: 0.2124128\ttotal: 13.7s\tremaining: 15.4s\n",
      "47:\tlearn: 0.2115034\ttotal: 13.9s\tremaining: 15.1s\n",
      "48:\tlearn: 0.2107033\ttotal: 14.2s\tremaining: 14.8s\n",
      "49:\tlearn: 0.2093657\ttotal: 14.5s\tremaining: 14.5s\n",
      "50:\tlearn: 0.2083089\ttotal: 14.8s\tremaining: 14.2s\n",
      "51:\tlearn: 0.2075404\ttotal: 15.1s\tremaining: 13.9s\n",
      "52:\tlearn: 0.2070327\ttotal: 15.4s\tremaining: 13.6s\n",
      "53:\tlearn: 0.2065597\ttotal: 15.6s\tremaining: 13.3s\n",
      "54:\tlearn: 0.2059221\ttotal: 15.9s\tremaining: 13s\n",
      "55:\tlearn: 0.2052317\ttotal: 16.2s\tremaining: 12.7s\n",
      "56:\tlearn: 0.2043642\ttotal: 16.5s\tremaining: 12.4s\n",
      "57:\tlearn: 0.2039212\ttotal: 16.7s\tremaining: 12.1s\n",
      "58:\tlearn: 0.2034031\ttotal: 17s\tremaining: 11.8s\n",
      "59:\tlearn: 0.2028381\ttotal: 17.4s\tremaining: 11.6s\n",
      "60:\tlearn: 0.2020632\ttotal: 17.6s\tremaining: 11.3s\n",
      "61:\tlearn: 0.2013892\ttotal: 17.9s\tremaining: 11s\n",
      "62:\tlearn: 0.2010248\ttotal: 18.2s\tremaining: 10.7s\n",
      "63:\tlearn: 0.2003340\ttotal: 18.5s\tremaining: 10.4s\n",
      "64:\tlearn: 0.1998100\ttotal: 18.8s\tremaining: 10.1s\n",
      "65:\tlearn: 0.1993533\ttotal: 19s\tremaining: 9.8s\n",
      "66:\tlearn: 0.1988036\ttotal: 19.3s\tremaining: 9.51s\n",
      "67:\tlearn: 0.1982410\ttotal: 19.6s\tremaining: 9.21s\n",
      "68:\tlearn: 0.1978820\ttotal: 19.9s\tremaining: 8.92s\n",
      "69:\tlearn: 0.1973991\ttotal: 20.1s\tremaining: 8.63s\n",
      "70:\tlearn: 0.1967557\ttotal: 20.4s\tremaining: 8.35s\n",
      "71:\tlearn: 0.1963706\ttotal: 20.7s\tremaining: 8.05s\n",
      "72:\tlearn: 0.1955589\ttotal: 21s\tremaining: 7.77s\n",
      "73:\tlearn: 0.1950726\ttotal: 21.3s\tremaining: 7.5s\n",
      "74:\tlearn: 0.1945812\ttotal: 21.6s\tremaining: 7.2s\n",
      "75:\tlearn: 0.1940649\ttotal: 21.9s\tremaining: 6.9s\n",
      "76:\tlearn: 0.1934128\ttotal: 22.2s\tremaining: 6.63s\n",
      "77:\tlearn: 0.1929922\ttotal: 22.5s\tremaining: 6.33s\n",
      "78:\tlearn: 0.1924906\ttotal: 22.7s\tremaining: 6.04s\n",
      "79:\tlearn: 0.1920527\ttotal: 23s\tremaining: 5.75s\n",
      "80:\tlearn: 0.1912303\ttotal: 23.3s\tremaining: 5.46s\n",
      "81:\tlearn: 0.1907500\ttotal: 23.6s\tremaining: 5.17s\n",
      "82:\tlearn: 0.1904200\ttotal: 23.8s\tremaining: 4.88s\n",
      "83:\tlearn: 0.1900926\ttotal: 24.1s\tremaining: 4.59s\n",
      "84:\tlearn: 0.1896512\ttotal: 24.4s\tremaining: 4.3s\n",
      "85:\tlearn: 0.1891611\ttotal: 24.6s\tremaining: 4.01s\n",
      "86:\tlearn: 0.1888096\ttotal: 24.9s\tremaining: 3.72s\n",
      "87:\tlearn: 0.1882879\ttotal: 25.2s\tremaining: 3.43s\n",
      "88:\tlearn: 0.1880099\ttotal: 25.5s\tremaining: 3.15s\n",
      "89:\tlearn: 0.1874880\ttotal: 25.7s\tremaining: 2.86s\n",
      "90:\tlearn: 0.1868974\ttotal: 26s\tremaining: 2.57s\n",
      "91:\tlearn: 0.1862128\ttotal: 26.3s\tremaining: 2.29s\n",
      "92:\tlearn: 0.1856282\ttotal: 26.6s\tremaining: 2s\n",
      "93:\tlearn: 0.1853515\ttotal: 26.9s\tremaining: 1.72s\n",
      "94:\tlearn: 0.1848251\ttotal: 27.2s\tremaining: 1.43s\n",
      "95:\tlearn: 0.1843525\ttotal: 27.4s\tremaining: 1.14s\n",
      "96:\tlearn: 0.1839171\ttotal: 27.7s\tremaining: 857ms\n",
      "97:\tlearn: 0.1835069\ttotal: 28s\tremaining: 571ms\n",
      "98:\tlearn: 0.1829186\ttotal: 28.2s\tremaining: 285ms\n",
      "99:\tlearn: 0.1825864\ttotal: 28.5s\tremaining: 0us\n",
      "0:\tlearn: 0.4022187\ttotal: 369ms\tremaining: 36.6s\n",
      "1:\tlearn: 0.3403684\ttotal: 823ms\tremaining: 40.3s\n",
      "2:\tlearn: 0.3169594\ttotal: 1.2s\tremaining: 38.7s\n",
      "3:\tlearn: 0.3007026\ttotal: 1.61s\tremaining: 38.6s\n",
      "4:\tlearn: 0.2903812\ttotal: 1.99s\tremaining: 37.7s\n",
      "5:\tlearn: 0.2814609\ttotal: 2.39s\tremaining: 37.4s\n",
      "6:\tlearn: 0.2770615\ttotal: 2.73s\tremaining: 36.2s\n",
      "7:\tlearn: 0.2713390\ttotal: 3.08s\tremaining: 35.4s\n",
      "8:\tlearn: 0.2661778\ttotal: 3.42s\tremaining: 34.6s\n",
      "9:\tlearn: 0.2623198\ttotal: 3.77s\tremaining: 33.9s\n",
      "10:\tlearn: 0.2602582\ttotal: 4.16s\tremaining: 33.7s\n",
      "11:\tlearn: 0.2574778\ttotal: 4.55s\tremaining: 33.4s\n",
      "12:\tlearn: 0.2541955\ttotal: 4.96s\tremaining: 33.2s\n",
      "13:\tlearn: 0.2517967\ttotal: 5.34s\tremaining: 32.8s\n",
      "14:\tlearn: 0.2488624\ttotal: 5.69s\tremaining: 32.2s\n",
      "15:\tlearn: 0.2468558\ttotal: 6.04s\tremaining: 31.7s\n",
      "16:\tlearn: 0.2449815\ttotal: 6.42s\tremaining: 31.3s\n",
      "17:\tlearn: 0.2428091\ttotal: 6.8s\tremaining: 31s\n",
      "18:\tlearn: 0.2405563\ttotal: 7.15s\tremaining: 30.5s\n",
      "19:\tlearn: 0.2391119\ttotal: 7.52s\tremaining: 30.1s\n",
      "20:\tlearn: 0.2377039\ttotal: 7.96s\tremaining: 29.9s\n",
      "21:\tlearn: 0.2365740\ttotal: 8.31s\tremaining: 29.5s\n",
      "22:\tlearn: 0.2349910\ttotal: 8.67s\tremaining: 29s\n",
      "23:\tlearn: 0.2334472\ttotal: 9.03s\tremaining: 28.6s\n",
      "24:\tlearn: 0.2323449\ttotal: 9.37s\tremaining: 28.1s\n",
      "25:\tlearn: 0.2309233\ttotal: 9.75s\tremaining: 27.7s\n",
      "26:\tlearn: 0.2290825\ttotal: 10.2s\tremaining: 27.5s\n",
      "27:\tlearn: 0.2279632\ttotal: 10.5s\tremaining: 27.1s\n",
      "28:\tlearn: 0.2269524\ttotal: 10.9s\tremaining: 26.6s\n",
      "29:\tlearn: 0.2260781\ttotal: 11.2s\tremaining: 26.2s\n",
      "30:\tlearn: 0.2252079\ttotal: 11.6s\tremaining: 25.9s\n",
      "31:\tlearn: 0.2243389\ttotal: 12s\tremaining: 25.4s\n",
      "32:\tlearn: 0.2234795\ttotal: 12.3s\tremaining: 25s\n",
      "33:\tlearn: 0.2227741\ttotal: 12.7s\tremaining: 24.6s\n",
      "34:\tlearn: 0.2220502\ttotal: 13s\tremaining: 24.1s\n",
      "35:\tlearn: 0.2212684\ttotal: 13.3s\tremaining: 23.7s\n",
      "36:\tlearn: 0.2207028\ttotal: 13.7s\tremaining: 23.3s\n",
      "37:\tlearn: 0.2197784\ttotal: 14s\tremaining: 22.9s\n",
      "38:\tlearn: 0.2187688\ttotal: 14.4s\tremaining: 22.5s\n",
      "39:\tlearn: 0.2172716\ttotal: 14.8s\tremaining: 22.2s\n",
      "40:\tlearn: 0.2166989\ttotal: 15.1s\tremaining: 21.8s\n",
      "41:\tlearn: 0.2160199\ttotal: 15.5s\tremaining: 21.4s\n",
      "42:\tlearn: 0.2152254\ttotal: 15.9s\tremaining: 21s\n",
      "43:\tlearn: 0.2145024\ttotal: 16.2s\tremaining: 20.6s\n",
      "44:\tlearn: 0.2137831\ttotal: 16.5s\tremaining: 20.2s\n",
      "45:\tlearn: 0.2131824\ttotal: 16.9s\tremaining: 19.8s\n",
      "46:\tlearn: 0.2127610\ttotal: 17.2s\tremaining: 19.4s\n",
      "47:\tlearn: 0.2123316\ttotal: 17.6s\tremaining: 19s\n",
      "48:\tlearn: 0.2111532\ttotal: 18s\tremaining: 18.7s\n",
      "49:\tlearn: 0.2104463\ttotal: 18.3s\tremaining: 18.3s\n",
      "50:\tlearn: 0.2098857\ttotal: 18.7s\tremaining: 17.9s\n",
      "51:\tlearn: 0.2091561\ttotal: 19.1s\tremaining: 17.6s\n",
      "52:\tlearn: 0.2084501\ttotal: 19.4s\tremaining: 17.2s\n",
      "53:\tlearn: 0.2079322\ttotal: 19.8s\tremaining: 16.8s\n",
      "54:\tlearn: 0.2073745\ttotal: 20.1s\tremaining: 16.4s\n",
      "55:\tlearn: 0.2068428\ttotal: 20.5s\tremaining: 16.1s\n",
      "56:\tlearn: 0.2063698\ttotal: 20.8s\tremaining: 15.7s\n",
      "57:\tlearn: 0.2058189\ttotal: 21.2s\tremaining: 15.3s\n",
      "58:\tlearn: 0.2053374\ttotal: 21.6s\tremaining: 15s\n",
      "59:\tlearn: 0.2047645\ttotal: 21.9s\tremaining: 14.6s\n",
      "60:\tlearn: 0.2042967\ttotal: 22.3s\tremaining: 14.2s\n",
      "61:\tlearn: 0.2038878\ttotal: 22.6s\tremaining: 13.8s\n",
      "62:\tlearn: 0.2035143\ttotal: 22.9s\tremaining: 13.5s\n",
      "63:\tlearn: 0.2031832\ttotal: 23.3s\tremaining: 13.1s\n",
      "64:\tlearn: 0.2028348\ttotal: 23.6s\tremaining: 12.7s\n",
      "65:\tlearn: 0.2025797\ttotal: 23.9s\tremaining: 12.3s\n",
      "66:\tlearn: 0.2019474\ttotal: 24.3s\tremaining: 12s\n",
      "67:\tlearn: 0.2015750\ttotal: 24.6s\tremaining: 11.6s\n",
      "68:\tlearn: 0.2013028\ttotal: 25s\tremaining: 11.2s\n",
      "69:\tlearn: 0.2007425\ttotal: 25.3s\tremaining: 10.9s\n",
      "70:\tlearn: 0.2003396\ttotal: 25.7s\tremaining: 10.5s\n",
      "71:\tlearn: 0.1999151\ttotal: 26s\tremaining: 10.1s\n",
      "72:\tlearn: 0.1996682\ttotal: 26.4s\tremaining: 9.75s\n",
      "73:\tlearn: 0.1991747\ttotal: 26.7s\tremaining: 9.4s\n",
      "74:\tlearn: 0.1988334\ttotal: 27.1s\tremaining: 9.03s\n",
      "75:\tlearn: 0.1984306\ttotal: 27.4s\tremaining: 8.66s\n",
      "76:\tlearn: 0.1980455\ttotal: 27.8s\tremaining: 8.29s\n",
      "77:\tlearn: 0.1976647\ttotal: 28.1s\tremaining: 7.92s\n",
      "78:\tlearn: 0.1974282\ttotal: 28.4s\tremaining: 7.55s\n",
      "79:\tlearn: 0.1970250\ttotal: 28.8s\tremaining: 7.19s\n",
      "80:\tlearn: 0.1967701\ttotal: 29.1s\tremaining: 6.83s\n",
      "81:\tlearn: 0.1965103\ttotal: 29.4s\tremaining: 6.46s\n",
      "82:\tlearn: 0.1958653\ttotal: 29.9s\tremaining: 6.12s\n",
      "83:\tlearn: 0.1955625\ttotal: 30.2s\tremaining: 5.75s\n",
      "84:\tlearn: 0.1953522\ttotal: 30.5s\tremaining: 5.39s\n",
      "85:\tlearn: 0.1949649\ttotal: 30.9s\tremaining: 5.03s\n",
      "86:\tlearn: 0.1946280\ttotal: 31.2s\tremaining: 4.67s\n",
      "87:\tlearn: 0.1943334\ttotal: 31.6s\tremaining: 4.3s\n",
      "88:\tlearn: 0.1940260\ttotal: 31.9s\tremaining: 3.94s\n",
      "89:\tlearn: 0.1935595\ttotal: 32.3s\tremaining: 3.59s\n",
      "90:\tlearn: 0.1932518\ttotal: 32.6s\tremaining: 3.23s\n",
      "91:\tlearn: 0.1928448\ttotal: 32.9s\tremaining: 2.86s\n",
      "92:\tlearn: 0.1924041\ttotal: 33.3s\tremaining: 2.5s\n",
      "93:\tlearn: 0.1921567\ttotal: 33.6s\tremaining: 2.15s\n",
      "94:\tlearn: 0.1919023\ttotal: 34s\tremaining: 1.79s\n",
      "95:\tlearn: 0.1916246\ttotal: 34.3s\tremaining: 1.43s\n",
      "96:\tlearn: 0.1913767\ttotal: 34.7s\tremaining: 1.07s\n",
      "97:\tlearn: 0.1910550\ttotal: 35.1s\tremaining: 716ms\n",
      "98:\tlearn: 0.1906280\ttotal: 35.5s\tremaining: 358ms\n",
      "99:\tlearn: 0.1902673\ttotal: 35.8s\tremaining: 0us\n",
      "f1 CatBoostRegressor() на обучающей выборке: 0.684735783228669\n"
     ]
    }
   ],
   "source": [
    "model_cb = CatBoostClassifier(random_state=42, auto_class_weights = 'Balanced', text_features=['text'])\n",
    "grid_cb = GridSearchCV(model_cb, parameters_cb, cv = 3, scoring='f1')\n",
    "grid_cb.fit(X_train, y_train)\n",
    "f1_cb = grid_cb.best_score_\n",
    "print('f1 CatBoostRegressor() на обучающей выборке:', f1_cb)"
   ]
  },
  {
   "cell_type": "code",
   "execution_count": 24,
   "metadata": {},
   "outputs": [
    {
     "name": "stdout",
     "output_type": "stream",
     "text": [
      "f1 на тестовой выборке: 0.7072336265884653\n"
     ]
    }
   ],
   "source": [
    "#проверим модель на тестовой выборке\n",
    "\n",
    "predict_test_cb = grid_cb.best_estimator_.predict(X_test)\n",
    "\n",
    "f1_test_cb = f1_score(y_test, predict_test_cb)\n",
    "\n",
    "print('f1 на тестовой выборке:', f1_test_cb)"
   ]
  },
  {
   "cell_type": "code",
   "execution_count": 25,
   "metadata": {},
   "outputs": [
    {
     "data": {
      "text/html": [
       "<div>\n",
       "<style scoped>\n",
       "    .dataframe tbody tr th:only-of-type {\n",
       "        vertical-align: middle;\n",
       "    }\n",
       "\n",
       "    .dataframe tbody tr th {\n",
       "        vertical-align: top;\n",
       "    }\n",
       "\n",
       "    .dataframe thead th {\n",
       "        text-align: right;\n",
       "    }\n",
       "</style>\n",
       "<table border=\"1\" class=\"dataframe\">\n",
       "  <thead>\n",
       "    <tr style=\"text-align: right;\">\n",
       "      <th></th>\n",
       "      <th>f1-мера на обучающей/валидационной выборке</th>\n",
       "      <th>f1-мера на тестовой выборке</th>\n",
       "    </tr>\n",
       "    <tr>\n",
       "      <th>Model</th>\n",
       "      <th></th>\n",
       "      <th></th>\n",
       "    </tr>\n",
       "  </thead>\n",
       "  <tbody>\n",
       "    <tr>\n",
       "      <th>LogisticRegression с балансировкой</th>\n",
       "      <td>0.753089</td>\n",
       "      <td>0.752761</td>\n",
       "    </tr>\n",
       "    <tr>\n",
       "      <th>LogisticRegression на увеличенной выборке</th>\n",
       "      <td>0.755721</td>\n",
       "      <td>0.748853</td>\n",
       "    </tr>\n",
       "    <tr>\n",
       "      <th>CatBoostRegressor с балансировкой</th>\n",
       "      <td>0.684736</td>\n",
       "      <td>0.707234</td>\n",
       "    </tr>\n",
       "  </tbody>\n",
       "</table>\n",
       "</div>"
      ],
      "text/plain": [
       "                                           f1-мера на обучающей/валидационной выборке  \\\n",
       "Model                                                                                   \n",
       "LogisticRegression с балансировкой                                           0.753089   \n",
       "LogisticRegression на увеличенной выборке                                    0.755721   \n",
       "CatBoostRegressor с балансировкой                                            0.684736   \n",
       "\n",
       "                                           f1-мера на тестовой выборке  \n",
       "Model                                                                   \n",
       "LogisticRegression с балансировкой                            0.752761  \n",
       "LogisticRegression на увеличенной выборке                     0.748853  \n",
       "CatBoostRegressor с балансировкой                             0.707234  "
      ]
     },
     "execution_count": 25,
     "metadata": {},
     "output_type": "execute_result"
    }
   ],
   "source": [
    "#создадим DataFrame со сводными результатами по обучению моделей\n",
    "\n",
    "results = pd.DataFrame({'Model': ['LogisticRegression с балансировкой', 'LogisticRegression на увеличенной выборке',\n",
    "                                  'CatBoostRegressor с балансировкой'],\n",
    "                        'f1-мера на обучающей/валидационной выборке': [f1_lr_balance, f1_lr_upsampled, f1_cb],\n",
    "                        'f1-мера на тестовой выборке' : [f1_test_lr, f1_test_lr_up, f1_test_cb]})\n",
    "results.set_index('Model')"
   ]
  },
  {
   "cell_type": "markdown",
   "metadata": {},
   "source": [
    "__Вывод__\n",
    "\n",
    "Данные обучены на двух моделях с использованием разных гиперпараметров - LogisticRegression, CatBoostRegressor. Лучшее значение метрики F1 на обучающей выборке у модели LogisticRegression, обученной на данных со сбалансированными классами."
   ]
  },
  {
   "cell_type": "markdown",
   "metadata": {},
   "source": [
    "## Выводы"
   ]
  },
  {
   "cell_type": "markdown",
   "metadata": {},
   "source": [
    "На основании набора данных с разметкой о токсичности правок обучена модель, позволяющая классифицировать комментарии на позитивные и негативные. \n",
    "\n",
    "Данные соответствуют описанию, пропуски и дубликаты в строках отсутствуют. В целевом признаке имеется дисбаланс, обучение проводится на данных с балансировкой, а также на увеличенной обучающей выборке. Текст комментариев очищен и лемматизирован, преобразован в векторы. Целевой признак представлен классами - позитивные/негативные комментарии, решаем задачу классификации с учителем. Данные поделены на обучающую? валидационную и тестовую выборки в соотношении 80/10/10.\n",
    "\n",
    "Данные обучены на двух моделях с использованием разных гиперпараметров - LogisticRegression, CatBoostRegressor. Лучшее значение метрики F1 на обучающей выборке у модели LogisticRegression, обученной на данных со сбалансированными классами.\n",
    "Целевой показатель метрики качества модели *F1* не меньше 0.75 на тестовой выборке достигнут."
   ]
  }
 ],
 "metadata": {
  "ExecuteTimeLog": [
   {
    "duration": 71,
    "start_time": "2023-08-20T12:26:28.479Z"
   },
   {
    "duration": 2169,
    "start_time": "2023-08-20T12:26:41.117Z"
   },
   {
    "duration": 2893,
    "start_time": "2023-08-20T12:26:43.289Z"
   },
   {
    "duration": 42,
    "start_time": "2023-08-20T12:26:46.184Z"
   },
   {
    "duration": 35,
    "start_time": "2023-08-20T12:26:46.229Z"
   },
   {
    "duration": 12,
    "start_time": "2023-08-20T12:26:46.582Z"
   },
   {
    "duration": 245,
    "start_time": "2023-08-20T12:26:49.498Z"
   },
   {
    "duration": 8,
    "start_time": "2023-08-20T12:26:51.995Z"
   },
   {
    "duration": 208,
    "start_time": "2023-08-20T12:26:52.937Z"
   },
   {
    "duration": 7417,
    "start_time": "2023-08-20T12:27:01.681Z"
   },
   {
    "duration": 855,
    "start_time": "2023-08-20T13:13:36.722Z"
   },
   {
    "duration": 4434,
    "start_time": "2023-08-20T13:13:45.371Z"
   },
   {
    "duration": 644,
    "start_time": "2023-08-20T13:14:31.697Z"
   },
   {
    "duration": 1130695,
    "start_time": "2023-08-20T13:14:46.345Z"
   },
   {
    "duration": 657,
    "start_time": "2023-08-20T13:35:05.057Z"
   },
   {
    "duration": 898,
    "start_time": "2023-08-20T13:35:16.483Z"
   },
   {
    "duration": 4583,
    "start_time": "2023-08-20T13:35:26.346Z"
   },
   {
    "duration": 930,
    "start_time": "2023-08-20T13:36:01.161Z"
   },
   {
    "duration": 17,
    "start_time": "2023-08-20T13:36:05.740Z"
   },
   {
    "duration": 4572,
    "start_time": "2023-08-20T13:36:13.385Z"
   },
   {
    "duration": 1227427,
    "start_time": "2023-08-20T13:36:29.146Z"
   },
   {
    "duration": 63,
    "start_time": "2023-08-20T13:58:48.460Z"
   },
   {
    "duration": 68,
    "start_time": "2023-08-20T13:58:56.547Z"
   },
   {
    "duration": 12,
    "start_time": "2023-08-20T13:59:10.340Z"
   },
   {
    "duration": 6241,
    "start_time": "2023-08-20T13:59:46.027Z"
   },
   {
    "duration": 6,
    "start_time": "2023-08-20T14:04:25.075Z"
   },
   {
    "duration": 82,
    "start_time": "2023-08-20T14:07:32.228Z"
   },
   {
    "duration": 97,
    "start_time": "2023-08-20T14:07:34.712Z"
   },
   {
    "duration": 97,
    "start_time": "2023-08-20T14:25:38.402Z"
   },
   {
    "duration": 2,
    "start_time": "2023-08-20T14:26:10.488Z"
   },
   {
    "duration": 3,
    "start_time": "2023-08-20T14:40:52.410Z"
   },
   {
    "duration": 97,
    "start_time": "2023-08-20T14:40:58.924Z"
   },
   {
    "duration": 4,
    "start_time": "2023-08-20T14:41:22.310Z"
   },
   {
    "duration": 224604,
    "start_time": "2023-08-20T14:41:53.236Z"
   },
   {
    "duration": 7,
    "start_time": "2023-08-20T14:45:37.842Z"
   },
   {
    "duration": 5,
    "start_time": "2023-08-20T14:47:14.402Z"
   },
   {
    "duration": 1278,
    "start_time": "2023-08-20T14:47:37.394Z"
   },
   {
    "duration": 9,
    "start_time": "2023-08-20T14:53:07.406Z"
   },
   {
    "duration": 4,
    "start_time": "2023-08-20T14:55:19.878Z"
   },
   {
    "duration": 829,
    "start_time": "2023-08-20T14:55:22.399Z"
   },
   {
    "duration": 35,
    "start_time": "2023-08-20T14:55:23.230Z"
   },
   {
    "duration": 8,
    "start_time": "2023-08-20T14:55:24.207Z"
   },
   {
    "duration": 17,
    "start_time": "2023-08-20T14:55:26.631Z"
   },
   {
    "duration": 225,
    "start_time": "2023-08-20T14:55:27.531Z"
   },
   {
    "duration": 7,
    "start_time": "2023-08-20T14:55:28.919Z"
   },
   {
    "duration": 110,
    "start_time": "2023-08-20T14:55:29.884Z"
   },
   {
    "duration": 3944,
    "start_time": "2023-08-20T14:55:32.878Z"
   },
   {
    "duration": 1119671,
    "start_time": "2023-08-20T14:55:36.824Z"
   },
   {
    "duration": 77,
    "start_time": "2023-08-20T15:14:16.497Z"
   },
   {
    "duration": 68,
    "start_time": "2023-08-20T15:14:16.576Z"
   },
   {
    "duration": 3,
    "start_time": "2023-08-20T15:14:16.647Z"
   },
   {
    "duration": 7,
    "start_time": "2023-08-20T15:14:16.651Z"
   },
   {
    "duration": 223883,
    "start_time": "2023-08-20T15:14:16.660Z"
   },
   {
    "duration": 7,
    "start_time": "2023-08-20T15:18:00.545Z"
   },
   {
    "duration": 17,
    "start_time": "2023-08-20T15:18:00.553Z"
   },
   {
    "duration": 4,
    "start_time": "2023-08-20T15:20:27.298Z"
   },
   {
    "duration": 221299,
    "start_time": "2023-08-20T15:20:30.046Z"
   },
   {
    "duration": 9,
    "start_time": "2023-08-20T15:24:11.348Z"
   },
   {
    "duration": 21,
    "start_time": "2023-08-20T15:24:11.359Z"
   },
   {
    "duration": 3,
    "start_time": "2023-08-20T15:27:20.396Z"
   },
   {
    "duration": 18,
    "start_time": "2023-08-20T15:27:30.341Z"
   },
   {
    "duration": 4,
    "start_time": "2023-08-20T15:28:01.557Z"
   },
   {
    "duration": 231274,
    "start_time": "2023-08-20T15:28:03.367Z"
   },
   {
    "duration": 7,
    "start_time": "2023-08-20T15:31:54.642Z"
   },
   {
    "duration": 15,
    "start_time": "2023-08-20T15:31:54.650Z"
   },
   {
    "duration": 1592,
    "start_time": "2023-08-20T15:31:54.666Z"
   },
   {
    "duration": 101,
    "start_time": "2023-08-20T15:37:04.616Z"
   },
   {
    "duration": 103,
    "start_time": "2023-08-20T15:38:06.956Z"
   },
   {
    "duration": 89,
    "start_time": "2023-08-20T15:39:52.658Z"
   },
   {
    "duration": 112,
    "start_time": "2023-08-20T15:40:15.886Z"
   },
   {
    "duration": 93,
    "start_time": "2023-08-20T15:42:19.949Z"
   },
   {
    "duration": 4,
    "start_time": "2023-08-20T15:43:48.080Z"
   },
   {
    "duration": 103,
    "start_time": "2023-08-20T15:48:23.139Z"
   },
   {
    "duration": 88,
    "start_time": "2023-08-20T15:49:17.899Z"
   },
   {
    "duration": 15,
    "start_time": "2023-08-20T15:50:03.141Z"
   },
   {
    "duration": 90,
    "start_time": "2023-08-20T15:51:27.501Z"
   },
   {
    "duration": 102,
    "start_time": "2023-08-20T15:52:31.366Z"
   },
   {
    "duration": 154,
    "start_time": "2023-08-20T15:56:10.722Z"
   },
   {
    "duration": 61,
    "start_time": "2023-08-20T15:56:47.069Z"
   },
   {
    "duration": 3,
    "start_time": "2023-08-20T15:58:12.883Z"
   },
   {
    "duration": 3,
    "start_time": "2023-08-20T15:58:18.479Z"
   },
   {
    "duration": 185500,
    "start_time": "2023-08-20T15:58:40.912Z"
   },
   {
    "duration": 19,
    "start_time": "2023-08-20T16:01:46.414Z"
   },
   {
    "duration": 6,
    "start_time": "2023-08-20T16:01:46.435Z"
   },
   {
    "duration": 1347,
    "start_time": "2023-08-20T16:01:46.443Z"
   },
   {
    "duration": 198422,
    "start_time": "2023-08-20T16:03:15.451Z"
   },
   {
    "duration": 1680,
    "start_time": "2023-08-20T16:06:33.876Z"
   },
   {
    "duration": 8,
    "start_time": "2023-08-20T16:06:35.558Z"
   },
   {
    "duration": 1672,
    "start_time": "2023-08-20T16:06:35.568Z"
   },
   {
    "duration": 10608,
    "start_time": "2023-08-20T16:10:59.559Z"
   },
   {
    "duration": 1628,
    "start_time": "2023-08-20T16:27:52.604Z"
   },
   {
    "duration": 2738,
    "start_time": "2023-08-20T16:27:54.242Z"
   },
   {
    "duration": 33,
    "start_time": "2023-08-20T16:27:56.981Z"
   },
   {
    "duration": 19,
    "start_time": "2023-08-20T16:27:57.016Z"
   },
   {
    "duration": 11,
    "start_time": "2023-08-20T16:27:57.040Z"
   },
   {
    "duration": 225,
    "start_time": "2023-08-20T16:27:57.053Z"
   },
   {
    "duration": 10,
    "start_time": "2023-08-20T16:27:57.280Z"
   },
   {
    "duration": 222,
    "start_time": "2023-08-20T16:27:57.292Z"
   },
   {
    "duration": 5449,
    "start_time": "2023-08-20T16:27:57.515Z"
   },
   {
    "duration": 11026,
    "start_time": "2023-08-20T16:28:02.965Z"
   },
   {
    "duration": 0,
    "start_time": "2023-08-20T16:28:13.994Z"
   },
   {
    "duration": 0,
    "start_time": "2023-08-20T16:28:13.995Z"
   },
   {
    "duration": 0,
    "start_time": "2023-08-20T16:28:13.997Z"
   },
   {
    "duration": 0,
    "start_time": "2023-08-20T16:28:13.998Z"
   },
   {
    "duration": 0,
    "start_time": "2023-08-20T16:28:13.999Z"
   },
   {
    "duration": 0,
    "start_time": "2023-08-20T16:28:14.000Z"
   },
   {
    "duration": 0,
    "start_time": "2023-08-20T16:28:14.001Z"
   },
   {
    "duration": 0,
    "start_time": "2023-08-20T16:28:14.003Z"
   },
   {
    "duration": 0,
    "start_time": "2023-08-20T16:28:14.004Z"
   },
   {
    "duration": 0,
    "start_time": "2023-08-20T16:28:14.005Z"
   },
   {
    "duration": 0,
    "start_time": "2023-08-20T16:28:14.006Z"
   },
   {
    "duration": 0,
    "start_time": "2023-08-20T16:28:14.007Z"
   },
   {
    "duration": 0,
    "start_time": "2023-08-20T16:28:14.008Z"
   },
   {
    "duration": 0,
    "start_time": "2023-08-20T16:28:14.009Z"
   },
   {
    "duration": 0,
    "start_time": "2023-08-20T16:28:14.010Z"
   },
   {
    "duration": 1886,
    "start_time": "2023-08-20T16:29:09.656Z"
   },
   {
    "duration": 1947,
    "start_time": "2023-08-20T16:29:11.546Z"
   },
   {
    "duration": 38,
    "start_time": "2023-08-20T16:29:13.494Z"
   },
   {
    "duration": 12,
    "start_time": "2023-08-20T16:29:13.537Z"
   },
   {
    "duration": 11,
    "start_time": "2023-08-20T16:29:13.551Z"
   },
   {
    "duration": 236,
    "start_time": "2023-08-20T16:29:13.563Z"
   },
   {
    "duration": 9,
    "start_time": "2023-08-20T16:29:13.801Z"
   },
   {
    "duration": 211,
    "start_time": "2023-08-20T16:29:13.812Z"
   },
   {
    "duration": 4209,
    "start_time": "2023-08-20T16:29:14.029Z"
   },
   {
    "duration": 1185459,
    "start_time": "2023-08-20T16:29:18.242Z"
   },
   {
    "duration": 97,
    "start_time": "2023-08-20T16:49:03.703Z"
   },
   {
    "duration": 76,
    "start_time": "2023-08-20T16:49:03.802Z"
   },
   {
    "duration": 3,
    "start_time": "2023-08-20T16:49:03.880Z"
   },
   {
    "duration": 5,
    "start_time": "2023-08-20T16:49:03.884Z"
   },
   {
    "duration": 256968,
    "start_time": "2023-08-20T16:49:03.890Z"
   },
   {
    "duration": 7,
    "start_time": "2023-08-20T16:53:20.860Z"
   },
   {
    "duration": 26,
    "start_time": "2023-08-20T16:53:20.869Z"
   },
   {
    "duration": 796,
    "start_time": "2023-08-20T16:53:20.897Z"
   },
   {
    "duration": 278194,
    "start_time": "2023-08-20T16:53:21.696Z"
   },
   {
    "duration": 766,
    "start_time": "2023-08-20T16:57:59.893Z"
   },
   {
    "duration": 10,
    "start_time": "2023-08-20T16:58:00.661Z"
   },
   {
    "duration": 708,
    "start_time": "2023-08-20T16:58:00.673Z"
   },
   {
    "duration": 13623,
    "start_time": "2023-08-20T16:58:01.383Z"
   },
   {
    "duration": 0,
    "start_time": "2023-08-20T16:58:15.008Z"
   },
   {
    "duration": 0,
    "start_time": "2023-08-20T16:58:15.009Z"
   },
   {
    "duration": 5,
    "start_time": "2023-08-20T17:00:12.512Z"
   },
   {
    "duration": 13,
    "start_time": "2023-08-20T17:01:04.235Z"
   },
   {
    "duration": 16,
    "start_time": "2023-08-20T17:01:15.279Z"
   },
   {
    "duration": 58,
    "start_time": "2023-08-20T17:10:26.300Z"
   },
   {
    "duration": 1686,
    "start_time": "2023-08-20T17:10:37.455Z"
   },
   {
    "duration": 2788,
    "start_time": "2023-08-20T17:10:47.250Z"
   },
   {
    "duration": 45,
    "start_time": "2023-08-20T17:10:50.041Z"
   },
   {
    "duration": 11,
    "start_time": "2023-08-20T17:10:51.846Z"
   },
   {
    "duration": 13,
    "start_time": "2023-08-20T17:10:54.157Z"
   },
   {
    "duration": 246,
    "start_time": "2023-08-20T17:10:54.682Z"
   },
   {
    "duration": 10,
    "start_time": "2023-08-20T17:10:55.664Z"
   },
   {
    "duration": 275,
    "start_time": "2023-08-20T17:10:55.901Z"
   },
   {
    "duration": 4032,
    "start_time": "2023-08-20T17:10:56.296Z"
   },
   {
    "duration": 1198092,
    "start_time": "2023-08-20T17:11:00.330Z"
   },
   {
    "duration": 81,
    "start_time": "2023-08-20T17:30:58.426Z"
   },
   {
    "duration": 85,
    "start_time": "2023-08-20T17:30:58.509Z"
   },
   {
    "duration": 4,
    "start_time": "2023-08-20T17:30:58.596Z"
   },
   {
    "duration": 69,
    "start_time": "2023-08-20T17:33:06.353Z"
   },
   {
    "duration": 121,
    "start_time": "2023-08-20T17:33:51.242Z"
   },
   {
    "duration": 14,
    "start_time": "2023-08-20T17:35:02.750Z"
   },
   {
    "duration": 92,
    "start_time": "2023-08-20T17:35:33.379Z"
   },
   {
    "duration": 105,
    "start_time": "2023-08-20T17:35:37.709Z"
   },
   {
    "duration": 3,
    "start_time": "2023-08-20T17:35:46.563Z"
   },
   {
    "duration": 3,
    "start_time": "2023-08-20T17:35:48.501Z"
   },
   {
    "duration": 16979,
    "start_time": "2023-08-20T17:36:01.870Z"
   },
   {
    "duration": 19,
    "start_time": "2023-08-20T17:37:09.021Z"
   },
   {
    "duration": 128,
    "start_time": "2023-08-20T17:38:31.904Z"
   },
   {
    "duration": 38,
    "start_time": "2023-08-20T17:38:50.350Z"
   },
   {
    "duration": 112,
    "start_time": "2023-08-20T17:39:04.842Z"
   },
   {
    "duration": 262246,
    "start_time": "2023-08-20T17:39:13.043Z"
   },
   {
    "duration": 801,
    "start_time": "2023-08-20T17:43:35.290Z"
   },
   {
    "duration": 15,
    "start_time": "2023-08-20T17:43:39.072Z"
   },
   {
    "duration": 3,
    "start_time": "2023-08-20T17:44:15.353Z"
   },
   {
    "duration": 3,
    "start_time": "2023-08-20T17:44:18.047Z"
   },
   {
    "duration": 220,
    "start_time": "2023-08-20T17:44:20.582Z"
   },
   {
    "duration": 272512,
    "start_time": "2023-08-20T17:45:07.058Z"
   },
   {
    "duration": 22,
    "start_time": "2023-08-20T17:49:39.573Z"
   },
   {
    "duration": 0,
    "start_time": "2023-08-20T17:49:39.597Z"
   },
   {
    "duration": 0,
    "start_time": "2023-08-20T17:49:39.599Z"
   },
   {
    "duration": 250,
    "start_time": "2023-08-20T17:49:59.492Z"
   },
   {
    "duration": 23,
    "start_time": "2023-08-20T17:52:07.042Z"
   },
   {
    "duration": 7,
    "start_time": "2023-08-20T17:55:12.582Z"
   },
   {
    "duration": 20,
    "start_time": "2023-08-20T17:55:15.834Z"
   },
   {
    "duration": 7,
    "start_time": "2023-08-20T17:56:11.515Z"
   },
   {
    "duration": 4,
    "start_time": "2023-08-20T17:56:13.889Z"
   },
   {
    "duration": 101,
    "start_time": "2023-08-20T17:57:06.250Z"
   },
   {
    "duration": 73,
    "start_time": "2023-08-20T17:57:22.576Z"
   },
   {
    "duration": 4,
    "start_time": "2023-08-20T17:57:30.962Z"
   },
   {
    "duration": 4,
    "start_time": "2023-08-20T17:57:32.906Z"
   },
   {
    "duration": 212,
    "start_time": "2023-08-20T17:57:34.342Z"
   },
   {
    "duration": 5,
    "start_time": "2023-08-20T17:57:58.953Z"
   },
   {
    "duration": 12,
    "start_time": "2023-08-20T17:58:14.480Z"
   },
   {
    "duration": 5,
    "start_time": "2023-08-20T17:58:32.094Z"
   },
   {
    "duration": 4,
    "start_time": "2023-08-20T17:58:43.808Z"
   },
   {
    "duration": 4,
    "start_time": "2023-08-20T17:58:52.642Z"
   },
   {
    "duration": 34,
    "start_time": "2023-08-20T17:59:07.037Z"
   },
   {
    "duration": 11,
    "start_time": "2023-08-20T17:59:22.017Z"
   },
   {
    "duration": 8,
    "start_time": "2023-08-20T17:59:44.376Z"
   },
   {
    "duration": 4,
    "start_time": "2023-08-20T18:04:57.197Z"
   },
   {
    "duration": 934,
    "start_time": "2023-08-20T18:04:59.987Z"
   },
   {
    "duration": 37,
    "start_time": "2023-08-20T18:05:00.923Z"
   },
   {
    "duration": 8,
    "start_time": "2023-08-20T18:05:05.063Z"
   },
   {
    "duration": 16,
    "start_time": "2023-08-20T18:05:05.899Z"
   },
   {
    "duration": 218,
    "start_time": "2023-08-20T18:05:06.855Z"
   },
   {
    "duration": 7,
    "start_time": "2023-08-20T18:05:09.106Z"
   },
   {
    "duration": 104,
    "start_time": "2023-08-20T18:05:09.905Z"
   },
   {
    "duration": 4247,
    "start_time": "2023-08-20T18:05:12.187Z"
   },
   {
    "duration": 1174794,
    "start_time": "2023-08-20T18:05:23.943Z"
   },
   {
    "duration": 94,
    "start_time": "2023-08-20T18:24:58.743Z"
   },
   {
    "duration": 92,
    "start_time": "2023-08-20T18:24:58.839Z"
   },
   {
    "duration": 4,
    "start_time": "2023-08-20T18:24:58.934Z"
   },
   {
    "duration": 8,
    "start_time": "2023-08-20T18:24:58.940Z"
   },
   {
    "duration": 302,
    "start_time": "2023-08-20T18:25:15.542Z"
   },
   {
    "duration": 18,
    "start_time": "2023-08-20T18:26:28.964Z"
   },
   {
    "duration": 5,
    "start_time": "2023-08-20T18:28:56.735Z"
   },
   {
    "duration": 6,
    "start_time": "2023-08-20T18:29:18.856Z"
   },
   {
    "duration": 7,
    "start_time": "2023-08-20T18:29:33.041Z"
   },
   {
    "duration": 11,
    "start_time": "2023-08-20T18:29:44.647Z"
   },
   {
    "duration": 842,
    "start_time": "2023-08-20T18:31:28.273Z"
   },
   {
    "duration": 398,
    "start_time": "2023-08-20T18:31:43.216Z"
   },
   {
    "duration": 24,
    "start_time": "2023-08-20T18:31:56.872Z"
   },
   {
    "duration": 287,
    "start_time": "2023-08-20T18:32:14.545Z"
   },
   {
    "duration": 107,
    "start_time": "2023-08-20T18:33:24.185Z"
   },
   {
    "duration": 261782,
    "start_time": "2023-08-20T18:33:40.783Z"
   },
   {
    "duration": 11,
    "start_time": "2023-08-20T18:38:02.567Z"
   },
   {
    "duration": 18,
    "start_time": "2023-08-20T18:38:02.580Z"
   },
   {
    "duration": 977,
    "start_time": "2023-08-20T18:38:02.601Z"
   },
   {
    "duration": 104,
    "start_time": "2023-08-20T18:38:03.581Z"
   },
   {
    "duration": 276101,
    "start_time": "2023-08-20T18:38:03.687Z"
   },
   {
    "duration": 768,
    "start_time": "2023-08-20T18:42:39.790Z"
   },
   {
    "duration": 6,
    "start_time": "2023-08-20T18:42:40.560Z"
   },
   {
    "duration": 772,
    "start_time": "2023-08-20T18:42:40.568Z"
   },
   {
    "duration": 18,
    "start_time": "2023-08-20T18:42:41.343Z"
   },
   {
    "duration": 14543,
    "start_time": "2023-08-20T18:44:00.174Z"
   },
   {
    "duration": 85,
    "start_time": "2023-08-20T18:46:05.540Z"
   },
   {
    "duration": 112,
    "start_time": "2023-08-20T18:46:24.741Z"
   },
   {
    "duration": 89,
    "start_time": "2023-08-20T18:46:31.116Z"
   },
   {
    "duration": 6,
    "start_time": "2023-08-20T18:47:03.909Z"
   },
   {
    "duration": 6,
    "start_time": "2023-08-20T18:47:24.881Z"
   },
   {
    "duration": 253788,
    "start_time": "2023-08-20T18:47:58.562Z"
   },
   {
    "duration": 7,
    "start_time": "2023-08-20T18:52:12.352Z"
   },
   {
    "duration": 28,
    "start_time": "2023-08-20T18:52:12.360Z"
   },
   {
    "duration": 749,
    "start_time": "2023-08-20T18:52:12.390Z"
   },
   {
    "duration": 271533,
    "start_time": "2023-08-20T18:52:13.141Z"
   },
   {
    "duration": 695,
    "start_time": "2023-08-20T18:56:44.676Z"
   },
   {
    "duration": 7,
    "start_time": "2023-08-20T18:56:45.372Z"
   },
   {
    "duration": 741,
    "start_time": "2023-08-20T18:56:45.380Z"
   },
   {
    "duration": 55,
    "start_time": "2023-08-20T19:00:00.639Z"
   },
   {
    "duration": 1774,
    "start_time": "2023-08-20T19:01:18.028Z"
   },
   {
    "duration": 2667,
    "start_time": "2023-08-20T19:01:19.804Z"
   },
   {
    "duration": 33,
    "start_time": "2023-08-20T19:01:22.473Z"
   },
   {
    "duration": 10,
    "start_time": "2023-08-20T19:01:22.508Z"
   },
   {
    "duration": 18,
    "start_time": "2023-08-20T19:01:22.525Z"
   },
   {
    "duration": 215,
    "start_time": "2023-08-20T19:01:22.545Z"
   },
   {
    "duration": 8,
    "start_time": "2023-08-20T19:01:22.762Z"
   },
   {
    "duration": 222,
    "start_time": "2023-08-20T19:01:22.771Z"
   },
   {
    "duration": 4852,
    "start_time": "2023-08-20T19:01:22.995Z"
   },
   {
    "duration": 1256397,
    "start_time": "2023-08-20T19:01:27.849Z"
   },
   {
    "duration": 88,
    "start_time": "2023-08-20T19:22:24.253Z"
   },
   {
    "duration": 100,
    "start_time": "2023-08-20T19:22:24.344Z"
   },
   {
    "duration": 7,
    "start_time": "2023-08-20T19:22:24.446Z"
   },
   {
    "duration": 7,
    "start_time": "2023-08-20T19:22:24.456Z"
   },
   {
    "duration": 251905,
    "start_time": "2023-08-20T19:22:24.465Z"
   },
   {
    "duration": 8,
    "start_time": "2023-08-20T19:26:36.371Z"
   },
   {
    "duration": 99,
    "start_time": "2023-08-20T19:26:36.381Z"
   },
   {
    "duration": 761,
    "start_time": "2023-08-20T19:26:36.482Z"
   },
   {
    "duration": 274048,
    "start_time": "2023-08-20T19:26:37.246Z"
   },
   {
    "duration": 748,
    "start_time": "2023-08-20T19:31:11.296Z"
   },
   {
    "duration": 11,
    "start_time": "2023-08-20T19:31:12.046Z"
   },
   {
    "duration": 863,
    "start_time": "2023-08-20T19:31:12.058Z"
   },
   {
    "duration": 274926,
    "start_time": "2023-08-20T19:31:12.923Z"
   },
   {
    "duration": 764,
    "start_time": "2023-08-20T19:35:47.851Z"
   },
   {
    "duration": 24,
    "start_time": "2023-08-20T19:35:48.617Z"
   }
  ],
  "kernelspec": {
   "display_name": "Python 3 (ipykernel)",
   "language": "python",
   "name": "python3"
  },
  "language_info": {
   "codemirror_mode": {
    "name": "ipython",
    "version": 3
   },
   "file_extension": ".py",
   "mimetype": "text/x-python",
   "name": "python",
   "nbconvert_exporter": "python",
   "pygments_lexer": "ipython3",
   "version": "3.11.3"
  },
  "toc": {
   "base_numbering": 1,
   "nav_menu": {},
   "number_sections": true,
   "sideBar": true,
   "skip_h1_title": true,
   "title_cell": "Содержание",
   "title_sidebar": "Contents",
   "toc_cell": true,
   "toc_position": {
    "height": "calc(100% - 180px)",
    "left": "10px",
    "top": "150px",
    "width": "165px"
   },
   "toc_section_display": true,
   "toc_window_display": true
  }
 },
 "nbformat": 4,
 "nbformat_minor": 2
}
