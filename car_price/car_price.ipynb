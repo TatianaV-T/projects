{
 "cells": [
  {
   "cell_type": "markdown",
   "metadata": {},
   "source": [
    "# Определение стоимости автомобилей"
   ]
  },
  {
   "cell_type": "markdown",
   "metadata": {},
   "source": [
    "Сервис по продаже автомобилей с пробегом «Не бит, не крашен» разрабатывает приложение для привлечения новых клиентов. В нём можно быстро узнать рыночную стоимость своего автомобиля. В вашем распоряжении исторические данные: технические характеристики, комплектации и цены автомобилей. Вам нужно построить модель для определения стоимости. \n",
    "\n",
    "Заказчику важны:\n",
    "\n",
    "- качество предсказания;\n",
    "- скорость предсказания;\n",
    "- время обучения."
   ]
  },
  {
   "cell_type": "markdown",
   "metadata": {},
   "source": [
    "_Описание данных_\n",
    "\n",
    "__Признаки__\n",
    "* `DateCrawled` — дата скачивания анкеты из базы\n",
    "* `VehicleType` — тип автомобильного кузова\n",
    "* `RegistrationYear` — год регистрации автомобиля\n",
    "* `Gearbox` — тип коробки передач\n",
    "* `Power` — мощность (л. с.)\n",
    "* `Model` — модель автомобиля\n",
    "* `Kilometer` — пробег (км)\n",
    "* `RegistrationMonth` — месяц регистрации автомобиля\n",
    "* `FuelType` — тип топлива\n",
    "* `Brand` — марка автомобиля\n",
    "* `Repaired` — была машина в ремонте или нет\n",
    "* `DateCreated` — дата создания анкеты\n",
    "* `NumberOfPictures` — количество фотографий автомобиля\n",
    "* `PostalCode` — почтовый индекс владельца анкеты (пользователя)\n",
    "* `LastSeen` — дата последней активности пользователя\n",
    "\n",
    "\n",
    "__Целевой признак__\n",
    "* `Price` — цена (евро)"
   ]
  },
  {
   "cell_type": "markdown",
   "metadata": {},
   "source": [
    "##  Подготовка данных"
   ]
  },
  {
   "cell_type": "code",
   "execution_count": 1,
   "metadata": {
    "scrolled": true
   },
   "outputs": [],
   "source": [
    "#импортируем библиотеки\n",
    "\n",
    "import os\n",
    "\n",
    "import pandas as pd\n",
    "\n",
    "import numpy as np\n",
    "\n",
    "import matplotlib.pyplot as plt\n",
    "\n",
    "import time\n",
    "\n",
    "import lightgbm as lgb\n",
    "\n",
    "from sklearn.metrics import mean_squared_error, make_scorer\n",
    "\n",
    "from sklearn.preprocessing import StandardScaler, OrdinalEncoder, OneHotEncoder\n",
    "\n",
    "from sklearn.model_selection import train_test_split\n",
    "\n",
    "from sklearn.compose import ColumnTransformer\n",
    "\n",
    "from sklearn.model_selection import GridSearchCV\n",
    "\n",
    "from sklearn.tree import DecisionTreeRegressor\n",
    "\n",
    "from sklearn.ensemble import RandomForestRegressor\n",
    "\n",
    "from sklearn.linear_model import LinearRegression\n",
    "\n",
    "from category_encoders import MEstimateEncoder\n",
    "\n",
    "from lightgbm import LGBMRegressor\n",
    "\n",
    "from catboost import CatBoostRegressor\n",
    "\n",
    "import warnings\n",
    "\n",
    "warnings.filterwarnings('ignore')"
   ]
  },
  {
   "cell_type": "code",
   "execution_count": 2,
   "metadata": {},
   "outputs": [],
   "source": [
    "#считаем файл с данными и сохраним в датафрейм\n",
    "\n",
    "pth1 = 'C:/Users/ACER/Desktop/Практикум/project/datasets/autos.csv'\n",
    "pth2 = '/datasets/autos.csv'\n",
    "\n",
    "if os.path.exists(pth1):\n",
    "    data = pd.read_csv(pth1)\n",
    "else:\n",
    "    data = pd.read_csv(pth2)\n",
    "    "
   ]
  },
  {
   "cell_type": "code",
   "execution_count": 3,
   "metadata": {},
   "outputs": [
    {
     "name": "stdout",
     "output_type": "stream",
     "text": [
      "<class 'pandas.core.frame.DataFrame'>\n",
      "RangeIndex: 354369 entries, 0 to 354368\n",
      "Data columns (total 16 columns):\n",
      " #   Column             Non-Null Count   Dtype \n",
      "---  ------             --------------   ----- \n",
      " 0   DateCrawled        354369 non-null  object\n",
      " 1   Price              354369 non-null  int64 \n",
      " 2   VehicleType        316879 non-null  object\n",
      " 3   RegistrationYear   354369 non-null  int64 \n",
      " 4   Gearbox            334536 non-null  object\n",
      " 5   Power              354369 non-null  int64 \n",
      " 6   Model              334664 non-null  object\n",
      " 7   Kilometer          354369 non-null  int64 \n",
      " 8   RegistrationMonth  354369 non-null  int64 \n",
      " 9   FuelType           321474 non-null  object\n",
      " 10  Brand              354369 non-null  object\n",
      " 11  Repaired           283215 non-null  object\n",
      " 12  DateCreated        354369 non-null  object\n",
      " 13  NumberOfPictures   354369 non-null  int64 \n",
      " 14  PostalCode         354369 non-null  int64 \n",
      " 15  LastSeen           354369 non-null  object\n",
      "dtypes: int64(7), object(9)\n",
      "memory usage: 43.3+ MB\n"
     ]
    }
   ],
   "source": [
    "data.info()"
   ]
  },
  {
   "cell_type": "code",
   "execution_count": 4,
   "metadata": {},
   "outputs": [
    {
     "data": {
      "text/plain": [
       "354369"
      ]
     },
     "execution_count": 4,
     "metadata": {},
     "output_type": "execute_result"
    }
   ],
   "source": [
    "data_length = data.shape[0]\n",
    "data_length"
   ]
  },
  {
   "cell_type": "code",
   "execution_count": 5,
   "metadata": {},
   "outputs": [
    {
     "data": {
      "text/html": [
       "<div>\n",
       "<style scoped>\n",
       "    .dataframe tbody tr th:only-of-type {\n",
       "        vertical-align: middle;\n",
       "    }\n",
       "\n",
       "    .dataframe tbody tr th {\n",
       "        vertical-align: top;\n",
       "    }\n",
       "\n",
       "    .dataframe thead th {\n",
       "        text-align: right;\n",
       "    }\n",
       "</style>\n",
       "<table border=\"1\" class=\"dataframe\">\n",
       "  <thead>\n",
       "    <tr style=\"text-align: right;\">\n",
       "      <th></th>\n",
       "      <th>DateCrawled</th>\n",
       "      <th>Price</th>\n",
       "      <th>VehicleType</th>\n",
       "      <th>RegistrationYear</th>\n",
       "      <th>Gearbox</th>\n",
       "      <th>Power</th>\n",
       "      <th>Model</th>\n",
       "      <th>Kilometer</th>\n",
       "      <th>RegistrationMonth</th>\n",
       "      <th>FuelType</th>\n",
       "      <th>Brand</th>\n",
       "      <th>Repaired</th>\n",
       "      <th>DateCreated</th>\n",
       "      <th>NumberOfPictures</th>\n",
       "      <th>PostalCode</th>\n",
       "      <th>LastSeen</th>\n",
       "    </tr>\n",
       "  </thead>\n",
       "  <tbody>\n",
       "    <tr>\n",
       "      <th>0</th>\n",
       "      <td>2016-03-24 11:52:17</td>\n",
       "      <td>480</td>\n",
       "      <td>NaN</td>\n",
       "      <td>1993</td>\n",
       "      <td>manual</td>\n",
       "      <td>0</td>\n",
       "      <td>golf</td>\n",
       "      <td>150000</td>\n",
       "      <td>0</td>\n",
       "      <td>petrol</td>\n",
       "      <td>volkswagen</td>\n",
       "      <td>NaN</td>\n",
       "      <td>2016-03-24 00:00:00</td>\n",
       "      <td>0</td>\n",
       "      <td>70435</td>\n",
       "      <td>2016-04-07 03:16:57</td>\n",
       "    </tr>\n",
       "    <tr>\n",
       "      <th>1</th>\n",
       "      <td>2016-03-24 10:58:45</td>\n",
       "      <td>18300</td>\n",
       "      <td>coupe</td>\n",
       "      <td>2011</td>\n",
       "      <td>manual</td>\n",
       "      <td>190</td>\n",
       "      <td>NaN</td>\n",
       "      <td>125000</td>\n",
       "      <td>5</td>\n",
       "      <td>gasoline</td>\n",
       "      <td>audi</td>\n",
       "      <td>yes</td>\n",
       "      <td>2016-03-24 00:00:00</td>\n",
       "      <td>0</td>\n",
       "      <td>66954</td>\n",
       "      <td>2016-04-07 01:46:50</td>\n",
       "    </tr>\n",
       "    <tr>\n",
       "      <th>2</th>\n",
       "      <td>2016-03-14 12:52:21</td>\n",
       "      <td>9800</td>\n",
       "      <td>suv</td>\n",
       "      <td>2004</td>\n",
       "      <td>auto</td>\n",
       "      <td>163</td>\n",
       "      <td>grand</td>\n",
       "      <td>125000</td>\n",
       "      <td>8</td>\n",
       "      <td>gasoline</td>\n",
       "      <td>jeep</td>\n",
       "      <td>NaN</td>\n",
       "      <td>2016-03-14 00:00:00</td>\n",
       "      <td>0</td>\n",
       "      <td>90480</td>\n",
       "      <td>2016-04-05 12:47:46</td>\n",
       "    </tr>\n",
       "    <tr>\n",
       "      <th>3</th>\n",
       "      <td>2016-03-17 16:54:04</td>\n",
       "      <td>1500</td>\n",
       "      <td>small</td>\n",
       "      <td>2001</td>\n",
       "      <td>manual</td>\n",
       "      <td>75</td>\n",
       "      <td>golf</td>\n",
       "      <td>150000</td>\n",
       "      <td>6</td>\n",
       "      <td>petrol</td>\n",
       "      <td>volkswagen</td>\n",
       "      <td>no</td>\n",
       "      <td>2016-03-17 00:00:00</td>\n",
       "      <td>0</td>\n",
       "      <td>91074</td>\n",
       "      <td>2016-03-17 17:40:17</td>\n",
       "    </tr>\n",
       "    <tr>\n",
       "      <th>4</th>\n",
       "      <td>2016-03-31 17:25:20</td>\n",
       "      <td>3600</td>\n",
       "      <td>small</td>\n",
       "      <td>2008</td>\n",
       "      <td>manual</td>\n",
       "      <td>69</td>\n",
       "      <td>fabia</td>\n",
       "      <td>90000</td>\n",
       "      <td>7</td>\n",
       "      <td>gasoline</td>\n",
       "      <td>skoda</td>\n",
       "      <td>no</td>\n",
       "      <td>2016-03-31 00:00:00</td>\n",
       "      <td>0</td>\n",
       "      <td>60437</td>\n",
       "      <td>2016-04-06 10:17:21</td>\n",
       "    </tr>\n",
       "  </tbody>\n",
       "</table>\n",
       "</div>"
      ],
      "text/plain": [
       "           DateCrawled  Price VehicleType  RegistrationYear Gearbox  Power  \\\n",
       "0  2016-03-24 11:52:17    480         NaN              1993  manual      0   \n",
       "1  2016-03-24 10:58:45  18300       coupe              2011  manual    190   \n",
       "2  2016-03-14 12:52:21   9800         suv              2004    auto    163   \n",
       "3  2016-03-17 16:54:04   1500       small              2001  manual     75   \n",
       "4  2016-03-31 17:25:20   3600       small              2008  manual     69   \n",
       "\n",
       "   Model  Kilometer  RegistrationMonth  FuelType       Brand Repaired  \\\n",
       "0   golf     150000                  0    petrol  volkswagen      NaN   \n",
       "1    NaN     125000                  5  gasoline        audi      yes   \n",
       "2  grand     125000                  8  gasoline        jeep      NaN   \n",
       "3   golf     150000                  6    petrol  volkswagen       no   \n",
       "4  fabia      90000                  7  gasoline       skoda       no   \n",
       "\n",
       "           DateCreated  NumberOfPictures  PostalCode             LastSeen  \n",
       "0  2016-03-24 00:00:00                 0       70435  2016-04-07 03:16:57  \n",
       "1  2016-03-24 00:00:00                 0       66954  2016-04-07 01:46:50  \n",
       "2  2016-03-14 00:00:00                 0       90480  2016-04-05 12:47:46  \n",
       "3  2016-03-17 00:00:00                 0       91074  2016-03-17 17:40:17  \n",
       "4  2016-03-31 00:00:00                 0       60437  2016-04-06 10:17:21  "
      ]
     },
     "execution_count": 5,
     "metadata": {},
     "output_type": "execute_result"
    }
   ],
   "source": [
    "data.head()"
   ]
  },
  {
   "cell_type": "code",
   "execution_count": 6,
   "metadata": {},
   "outputs": [
    {
     "data": {
      "text/html": [
       "<div>\n",
       "<style scoped>\n",
       "    .dataframe tbody tr th:only-of-type {\n",
       "        vertical-align: middle;\n",
       "    }\n",
       "\n",
       "    .dataframe tbody tr th {\n",
       "        vertical-align: top;\n",
       "    }\n",
       "\n",
       "    .dataframe thead th {\n",
       "        text-align: right;\n",
       "    }\n",
       "</style>\n",
       "<table border=\"1\" class=\"dataframe\">\n",
       "  <thead>\n",
       "    <tr style=\"text-align: right;\">\n",
       "      <th></th>\n",
       "      <th>DateCrawled</th>\n",
       "      <th>Price</th>\n",
       "      <th>VehicleType</th>\n",
       "      <th>RegistrationYear</th>\n",
       "      <th>Gearbox</th>\n",
       "      <th>Power</th>\n",
       "      <th>Model</th>\n",
       "      <th>Kilometer</th>\n",
       "      <th>RegistrationMonth</th>\n",
       "      <th>FuelType</th>\n",
       "      <th>Brand</th>\n",
       "      <th>Repaired</th>\n",
       "      <th>DateCreated</th>\n",
       "      <th>NumberOfPictures</th>\n",
       "      <th>PostalCode</th>\n",
       "      <th>LastSeen</th>\n",
       "    </tr>\n",
       "  </thead>\n",
       "  <tbody>\n",
       "    <tr>\n",
       "      <th>90713</th>\n",
       "      <td>2016-04-07 14:36:58</td>\n",
       "      <td>3500</td>\n",
       "      <td>sedan</td>\n",
       "      <td>1999</td>\n",
       "      <td>manual</td>\n",
       "      <td>143</td>\n",
       "      <td>e_klasse</td>\n",
       "      <td>150000</td>\n",
       "      <td>8</td>\n",
       "      <td>gasoline</td>\n",
       "      <td>mercedes_benz</td>\n",
       "      <td>no</td>\n",
       "      <td>2016-04-07 00:00:00</td>\n",
       "      <td>0</td>\n",
       "      <td>64846</td>\n",
       "      <td>2016-04-07 14:36:58</td>\n",
       "    </tr>\n",
       "    <tr>\n",
       "      <th>339649</th>\n",
       "      <td>2016-04-07 14:36:56</td>\n",
       "      <td>8650</td>\n",
       "      <td>suv</td>\n",
       "      <td>1992</td>\n",
       "      <td>manual</td>\n",
       "      <td>121</td>\n",
       "      <td>wrangler</td>\n",
       "      <td>125000</td>\n",
       "      <td>5</td>\n",
       "      <td>petrol</td>\n",
       "      <td>jeep</td>\n",
       "      <td>no</td>\n",
       "      <td>2016-04-07 00:00:00</td>\n",
       "      <td>0</td>\n",
       "      <td>20357</td>\n",
       "      <td>2016-04-07 14:36:56</td>\n",
       "    </tr>\n",
       "    <tr>\n",
       "      <th>301030</th>\n",
       "      <td>2016-04-07 14:36:55</td>\n",
       "      <td>15200</td>\n",
       "      <td>wagon</td>\n",
       "      <td>2008</td>\n",
       "      <td>manual</td>\n",
       "      <td>190</td>\n",
       "      <td>a6</td>\n",
       "      <td>150000</td>\n",
       "      <td>9</td>\n",
       "      <td>gasoline</td>\n",
       "      <td>audi</td>\n",
       "      <td>no</td>\n",
       "      <td>2016-04-07 00:00:00</td>\n",
       "      <td>0</td>\n",
       "      <td>81476</td>\n",
       "      <td>2016-04-07 14:36:55</td>\n",
       "    </tr>\n",
       "    <tr>\n",
       "      <th>53739</th>\n",
       "      <td>2016-04-07 14:36:54</td>\n",
       "      <td>400</td>\n",
       "      <td>small</td>\n",
       "      <td>1996</td>\n",
       "      <td>manual</td>\n",
       "      <td>60</td>\n",
       "      <td>ibiza</td>\n",
       "      <td>150000</td>\n",
       "      <td>0</td>\n",
       "      <td>NaN</td>\n",
       "      <td>seat</td>\n",
       "      <td>NaN</td>\n",
       "      <td>2016-04-07 00:00:00</td>\n",
       "      <td>0</td>\n",
       "      <td>66299</td>\n",
       "      <td>2016-04-07 14:36:54</td>\n",
       "    </tr>\n",
       "    <tr>\n",
       "      <th>204218</th>\n",
       "      <td>2016-04-07 14:36:53</td>\n",
       "      <td>6990</td>\n",
       "      <td>coupe</td>\n",
       "      <td>1979</td>\n",
       "      <td>auto</td>\n",
       "      <td>143</td>\n",
       "      <td>3er</td>\n",
       "      <td>150000</td>\n",
       "      <td>6</td>\n",
       "      <td>petrol</td>\n",
       "      <td>bmw</td>\n",
       "      <td>no</td>\n",
       "      <td>2016-04-07 00:00:00</td>\n",
       "      <td>0</td>\n",
       "      <td>71336</td>\n",
       "      <td>2016-04-07 14:36:53</td>\n",
       "    </tr>\n",
       "  </tbody>\n",
       "</table>\n",
       "</div>"
      ],
      "text/plain": [
       "                DateCrawled  Price VehicleType  RegistrationYear Gearbox  \\\n",
       "90713   2016-04-07 14:36:58   3500       sedan              1999  manual   \n",
       "339649  2016-04-07 14:36:56   8650         suv              1992  manual   \n",
       "301030  2016-04-07 14:36:55  15200       wagon              2008  manual   \n",
       "53739   2016-04-07 14:36:54    400       small              1996  manual   \n",
       "204218  2016-04-07 14:36:53   6990       coupe              1979    auto   \n",
       "\n",
       "        Power     Model  Kilometer  RegistrationMonth  FuelType  \\\n",
       "90713     143  e_klasse     150000                  8  gasoline   \n",
       "339649    121  wrangler     125000                  5    petrol   \n",
       "301030    190        a6     150000                  9  gasoline   \n",
       "53739      60     ibiza     150000                  0       NaN   \n",
       "204218    143       3er     150000                  6    petrol   \n",
       "\n",
       "                Brand Repaired          DateCreated  NumberOfPictures  \\\n",
       "90713   mercedes_benz       no  2016-04-07 00:00:00                 0   \n",
       "339649           jeep       no  2016-04-07 00:00:00                 0   \n",
       "301030           audi       no  2016-04-07 00:00:00                 0   \n",
       "53739            seat      NaN  2016-04-07 00:00:00                 0   \n",
       "204218            bmw       no  2016-04-07 00:00:00                 0   \n",
       "\n",
       "        PostalCode             LastSeen  \n",
       "90713        64846  2016-04-07 14:36:58  \n",
       "339649       20357  2016-04-07 14:36:56  \n",
       "301030       81476  2016-04-07 14:36:55  \n",
       "53739        66299  2016-04-07 14:36:54  \n",
       "204218       71336  2016-04-07 14:36:53  "
      ]
     },
     "execution_count": 6,
     "metadata": {},
     "output_type": "execute_result"
    }
   ],
   "source": [
    " data.sort_values(by='DateCrawled', ascending=False).head()"
   ]
  },
  {
   "cell_type": "markdown",
   "metadata": {},
   "source": [
    "Последние данные выгружены в базу в апреле 2016 года."
   ]
  },
  {
   "cell_type": "markdown",
   "metadata": {},
   "source": [
    "Столбцы с признаками `DateCrawled`, `RegistrationMonth`, `DateCreated`, `NumberOfPictures`, `PostalCode`, `LastSeen` являются неинформативными и усложняют обучение, удалим их."
   ]
  },
  {
   "cell_type": "code",
   "execution_count": 7,
   "metadata": {},
   "outputs": [
    {
     "name": "stdout",
     "output_type": "stream",
     "text": [
      "Количество столбцов: 10\n"
     ]
    }
   ],
   "source": [
    "list_columns = (['DateCrawled', 'RegistrationMonth', 'DateCreated', 'NumberOfPictures', 'PostalCode', 'LastSeen'])\n",
    "data = data.drop(list_columns, axis=1)\n",
    "print('Количество столбцов:', data.shape[1])"
   ]
  },
  {
   "cell_type": "code",
   "execution_count": 8,
   "metadata": {},
   "outputs": [
    {
     "data": {
      "text/plain": [
       "45040"
      ]
     },
     "execution_count": 8,
     "metadata": {},
     "output_type": "execute_result"
    }
   ],
   "source": [
    "#проверим на наличие строк-дубликатов\n",
    "\n",
    "data.duplicated().sum()"
   ]
  },
  {
   "cell_type": "code",
   "execution_count": 9,
   "metadata": {},
   "outputs": [
    {
     "data": {
      "text/plain": [
       "(309329, 10)"
      ]
     },
     "execution_count": 9,
     "metadata": {},
     "output_type": "execute_result"
    }
   ],
   "source": [
    "#удалим дубликаты\n",
    "\n",
    "data = data.drop_duplicates().reset_index(drop=True)\n",
    "data.shape"
   ]
  },
  {
   "cell_type": "code",
   "execution_count": 10,
   "metadata": {},
   "outputs": [
    {
     "name": "stdout",
     "output_type": "stream",
     "text": [
      "<class 'pandas.core.frame.DataFrame'>\n",
      "RangeIndex: 309329 entries, 0 to 309328\n",
      "Data columns (total 10 columns):\n",
      " #   Column            Non-Null Count   Dtype \n",
      "---  ------            --------------   ----- \n",
      " 0   Price             309329 non-null  int64 \n",
      " 1   VehicleType       274770 non-null  object\n",
      " 2   RegistrationYear  309329 non-null  int64 \n",
      " 3   Gearbox           292122 non-null  object\n",
      " 4   Power             309329 non-null  int64 \n",
      " 5   Model             290968 non-null  object\n",
      " 6   Kilometer         309329 non-null  int64 \n",
      " 7   FuelType          278565 non-null  object\n",
      " 8   Brand             309329 non-null  object\n",
      " 9   Repaired          244771 non-null  object\n",
      "dtypes: int64(4), object(6)\n",
      "memory usage: 23.6+ MB\n"
     ]
    }
   ],
   "source": [
    "data.info()"
   ]
  },
  {
   "cell_type": "code",
   "execution_count": 11,
   "metadata": {},
   "outputs": [
    {
     "data": {
      "text/html": [
       "<div>\n",
       "<style scoped>\n",
       "    .dataframe tbody tr th:only-of-type {\n",
       "        vertical-align: middle;\n",
       "    }\n",
       "\n",
       "    .dataframe tbody tr th {\n",
       "        vertical-align: top;\n",
       "    }\n",
       "\n",
       "    .dataframe thead th {\n",
       "        text-align: right;\n",
       "    }\n",
       "</style>\n",
       "<table border=\"1\" class=\"dataframe\">\n",
       "  <thead>\n",
       "    <tr style=\"text-align: right;\">\n",
       "      <th></th>\n",
       "      <th>Price</th>\n",
       "      <th>RegistrationYear</th>\n",
       "      <th>Power</th>\n",
       "      <th>Kilometer</th>\n",
       "    </tr>\n",
       "  </thead>\n",
       "  <tbody>\n",
       "    <tr>\n",
       "      <th>count</th>\n",
       "      <td>309329.000000</td>\n",
       "      <td>309329.000000</td>\n",
       "      <td>309329.000000</td>\n",
       "      <td>309329.000000</td>\n",
       "    </tr>\n",
       "    <tr>\n",
       "      <th>mean</th>\n",
       "      <td>4486.937196</td>\n",
       "      <td>2004.360105</td>\n",
       "      <td>110.976908</td>\n",
       "      <td>127217.735809</td>\n",
       "    </tr>\n",
       "    <tr>\n",
       "      <th>std</th>\n",
       "      <td>4564.852796</td>\n",
       "      <td>92.541399</td>\n",
       "      <td>200.969473</td>\n",
       "      <td>38532.941010</td>\n",
       "    </tr>\n",
       "    <tr>\n",
       "      <th>min</th>\n",
       "      <td>0.000000</td>\n",
       "      <td>1000.000000</td>\n",
       "      <td>0.000000</td>\n",
       "      <td>5000.000000</td>\n",
       "    </tr>\n",
       "    <tr>\n",
       "      <th>25%</th>\n",
       "      <td>1100.000000</td>\n",
       "      <td>1999.000000</td>\n",
       "      <td>69.000000</td>\n",
       "      <td>125000.000000</td>\n",
       "    </tr>\n",
       "    <tr>\n",
       "      <th>50%</th>\n",
       "      <td>2800.000000</td>\n",
       "      <td>2003.000000</td>\n",
       "      <td>105.000000</td>\n",
       "      <td>150000.000000</td>\n",
       "    </tr>\n",
       "    <tr>\n",
       "      <th>75%</th>\n",
       "      <td>6500.000000</td>\n",
       "      <td>2008.000000</td>\n",
       "      <td>143.000000</td>\n",
       "      <td>150000.000000</td>\n",
       "    </tr>\n",
       "    <tr>\n",
       "      <th>max</th>\n",
       "      <td>20000.000000</td>\n",
       "      <td>9999.000000</td>\n",
       "      <td>20000.000000</td>\n",
       "      <td>150000.000000</td>\n",
       "    </tr>\n",
       "  </tbody>\n",
       "</table>\n",
       "</div>"
      ],
      "text/plain": [
       "               Price  RegistrationYear          Power      Kilometer\n",
       "count  309329.000000     309329.000000  309329.000000  309329.000000\n",
       "mean     4486.937196       2004.360105     110.976908  127217.735809\n",
       "std      4564.852796         92.541399     200.969473   38532.941010\n",
       "min         0.000000       1000.000000       0.000000    5000.000000\n",
       "25%      1100.000000       1999.000000      69.000000  125000.000000\n",
       "50%      2800.000000       2003.000000     105.000000  150000.000000\n",
       "75%      6500.000000       2008.000000     143.000000  150000.000000\n",
       "max     20000.000000       9999.000000   20000.000000  150000.000000"
      ]
     },
     "execution_count": 11,
     "metadata": {},
     "output_type": "execute_result"
    }
   ],
   "source": [
    "#проверим на наличие аномальных значений\n",
    "\n",
    "data.describe()"
   ]
  },
  {
   "cell_type": "code",
   "execution_count": 12,
   "metadata": {},
   "outputs": [
    {
     "data": {
      "image/png": "[encoded data removed]",
      "text/plain": [
       "<Figure size 1500x1500 with 4 Axes>"
      ]
     },
     "metadata": {},
     "output_type": "display_data"
    }
   ],
   "source": [
    "data.hist(figsize=(15, 15))\n",
    "plt.show()"
   ]
  },
  {
   "cell_type": "code",
   "execution_count": 13,
   "metadata": {},
   "outputs": [
    {
     "data": {
      "image/png": "[encoded data removed]",
      "text/plain": [
       "<Figure size 640x480 with 1 Axes>"
      ]
     },
     "metadata": {},
     "output_type": "display_data"
    }
   ],
   "source": [
    "data['Price'].hist(bins=50, range=(0, 500))\n",
    "plt.show()"
   ]
  },
  {
   "cell_type": "code",
   "execution_count": 14,
   "metadata": {},
   "outputs": [],
   "source": [
    "#удалим значения в столбце `Price`, не превышающие 100 евро\n",
    "\n",
    "data = data.loc[data['Price'] >= 100]"
   ]
  },
  {
   "cell_type": "code",
   "execution_count": 15,
   "metadata": {},
   "outputs": [
    {
     "data": {
      "text/plain": [
       "array([1993, 2011, 2004, 2001, 2008, 1995, 2014, 1998, 2005, 1910, 2016,\n",
       "       2007, 2009, 2002, 2018, 1997, 1990, 2017, 1981, 2003, 1994, 1991,\n",
       "       1984, 2006, 1999, 2012, 2010, 2000, 1992, 2013, 1996, 1985, 1989,\n",
       "       2015, 1982, 1976, 1983, 1973, 1969, 1971, 1987, 1986, 1988, 1980,\n",
       "       1970, 1965, 1945, 1925, 1974, 1979, 1955, 1978, 1972, 1968, 1977,\n",
       "       1961, 1966, 1975, 1963, 1964, 1960, 1958, 1967, 1956, 3200, 1000,\n",
       "       1941, 9999, 8888, 1500, 2200, 4100, 1962, 1929, 1957, 1940, 3000,\n",
       "       2066, 1949, 2019, 1937, 1951, 1800, 1959, 1953, 1954, 1234, 5300,\n",
       "       9000, 2900, 6000, 5900, 5911, 1400, 5000, 1950, 4000, 1948, 1952,\n",
       "       8500, 1932, 1255, 3700, 3800, 4800, 1942, 7000, 1935, 1933, 1936,\n",
       "       1923, 2290, 1930, 1001, 9450, 1944, 2500, 1943, 1938, 1934, 1928,\n",
       "       5555, 5600, 1600, 1111, 2222, 1039, 1300, 2800, 1931, 4500, 1602,\n",
       "       7800, 1947, 1927, 7100, 8200, 1946], dtype=int64)"
      ]
     },
     "execution_count": 15,
     "metadata": {},
     "output_type": "execute_result"
    }
   ],
   "source": [
    "data['RegistrationYear'].unique()"
   ]
  },
  {
   "cell_type": "markdown",
   "metadata": {},
   "source": [
    "Удалим данные в столбце `RegistrationYear`, не входящие в промежуток от 1900 до 2016 года (год скачивания анкет в базу)"
   ]
  },
  {
   "cell_type": "code",
   "execution_count": 16,
   "metadata": {},
   "outputs": [],
   "source": [
    "data = data.loc[(data['RegistrationYear'] < 2017) & (data['RegistrationYear'] > 1900)]"
   ]
  },
  {
   "cell_type": "code",
   "execution_count": 17,
   "metadata": {},
   "outputs": [
    {
     "data": {
      "text/plain": [
       "array([1993, 2011, 2004, 2001, 2008, 1995, 2014, 1998, 2005, 1910, 2016,\n",
       "       2007, 2009, 2002, 1997, 1990, 1981, 2003, 1994, 1991, 1984, 2006,\n",
       "       1999, 2012, 2010, 2000, 1992, 2013, 1996, 1985, 1989, 2015, 1982,\n",
       "       1976, 1983, 1973, 1969, 1971, 1987, 1986, 1988, 1980, 1970, 1965,\n",
       "       1945, 1925, 1974, 1979, 1955, 1978, 1972, 1968, 1977, 1961, 1966,\n",
       "       1975, 1963, 1964, 1960, 1958, 1967, 1956, 1941, 1962, 1929, 1957,\n",
       "       1940, 1949, 1937, 1951, 1959, 1953, 1954, 1950, 1948, 1952, 1932,\n",
       "       1942, 1935, 1933, 1936, 1923, 1930, 1944, 1943, 1938, 1934, 1928,\n",
       "       1931, 1947, 1927, 1946], dtype=int64)"
      ]
     },
     "execution_count": 17,
     "metadata": {},
     "output_type": "execute_result"
    }
   ],
   "source": [
    "data['RegistrationYear'].unique()"
   ]
  },
  {
   "cell_type": "code",
   "execution_count": 18,
   "metadata": {
    "scrolled": true
   },
   "outputs": [
    {
     "data": {
      "text/plain": [
       "array([    0,   190,   163,    75,    69,   102,   109,   125,   101,\n",
       "         105,   140,   115,   131,    60,   136,   160,   231,    50,\n",
       "         118,   193,    99,   113,   218,   122,   129,    70,   306,\n",
       "          95,    61,   177,   170,    55,   143,   232,   150,   156,\n",
       "          80,    82,    90,   155,    54,   185,    87,   180,    86,\n",
       "          84,   224,   235,   200,   178,   265,    77,   110,   144,\n",
       "         120,   286,   116,   184,   126,   204,    88,   194,    64,\n",
       "         305,   197,   179,   250,    45,   313,    41,   165,    98,\n",
       "         130,   114,   211,    56,   201,   213,    58,   107,    83,\n",
       "         174,   100,   220,    73,   192,    68,    66,   299,    74,\n",
       "          52,   147,   310,    71,    97,    65,   239,   203,     5,\n",
       "         300,   103,    85,   258,   320,    63,    81,   148,    44,\n",
       "         145,   280,   260,   104,   188,   333,   186,   117,   141,\n",
       "         132,   234,   158,    39,    92,    51,   135,    59,   230,\n",
       "         209,    43,   146,    67,   106,   166,   276,   344,    72,\n",
       "         249,   237,   245,   111,   326,   279,    23,   138,   175,\n",
       "          96,   226,    26,    37,   301,   334,   128,   133,   124,\n",
       "          33,   219,   241,   167,    94,   182,   196,   238,  1398,\n",
       "         228,   112,    48,   272,   139,    79,   256,   360,   243,\n",
       "         252,   396,   340,   121,   345,   187,   289,   222,   198,\n",
       "         284,   450,   233,   387,   347,   172,    57,   137,   212,\n",
       "         476,   314,    30,     7,    47,   173,   290,   207,   205,\n",
       "         171,    78,    91,    89,   349,    40,   108,   325,    76,\n",
       "         350,   953,    93,   142,   343,   199,   119,   164,    16,\n",
       "         264,   152,   367,   240,   208,   210,    46,    53,   435,\n",
       "        1001,   225,   127,   176,   161,   603,   307,   354,    35,\n",
       "         206,   771,   355,   273,   223,   255,   151,   123,   154,\n",
       "         149,  7515,  1400,   268,   620,   400,   275,    34,     2,\n",
       "         242,  1779,   285,   162,   328,  1753,   329,   134,   420,\n",
       "         247,   168,   215,    18,   330,   283,   500,    62,    10,\n",
       "         183,   254,    15,   321,   315,   952,   169,   600,   181,\n",
       "         426,   379,    22,   157,    42,   195,   553,     4,   309,\n",
       "         507,   381,   271,   440,   189,   401,  2729,    21,   236,\n",
       "        1240,  1704,   521,     1,  1900,   270,    24,   159,   292,\n",
       "         515,  1200,   303,    29,    38,  1993,    14,   216,   610,\n",
       "         504,    49,   267,   331,   363,   261,   385,  1011,   253,\n",
       "         696, 10520,   376,   227,   311,    27,   217,    20,   322,\n",
       "        1999,    11,  1056,    25,   394,    12,   298,   296,  1659,\n",
       "         294,   551,  6920,   246,    17,  1625,   390,   221,  1367,\n",
       "         259,   606,  1597,   266,   374,   392,     9,   405,    13,\n",
       "         262,   601,   430,   295,     8,   411,   900,   541,  7512,\n",
       "         382, 10218,  7544,   999,   287,    19,   214,   751,   297,\n",
       "        1090,   457,   282,   602,   388,     6,  1000,  5411,   335,\n",
       "        1360,   202,  3750,   805,  1062,  2017,   750,  1024, 11530,\n",
       "         364,  1796,   269,   460,  1002,   288,  1780, 12012, 17932,\n",
       "         316,  2005,  1800,  1399,   191,   278,   380,   257,   449,\n",
       "        1256,   153,  1653,   520,   560,   281, 12510,     3,  1500,\n",
       "         386,    32,  1202,  2016,  1436,  1405,   671,   274,  1288,\n",
       "        1055, 10912,  6226,  1115,   277,  1105,   341,  1223,  2340,\n",
       "        8404,  1968,   338,   445,  1920,   370,   517,  4400, 10710,\n",
       "       10522,   431,  1164, 11509,   371,  1501,   428, 11635,   304,\n",
       "         348,  1703,  1995,   579, 10000,   580,   408,    31,   358,\n",
       "        1403,   489,  5575, 19211,   585,   365,   353,   490,   352,\n",
       "        1801,   346,   550,  3199,   800,  7508,  1312,  1937,   950,\n",
       "        4700,  1600,  3454, 19208,   251,   850,   337,   700,  2331,\n",
       "        2789,   487,    36,   519,  2461,  6006,  3500,  5815,  6018,\n",
       "        1781,  1503,   612,  1596,   229,  1506,  5809, 15020,  1300,\n",
       "        5867,  2172,  1598, 17410,  1363,   584,  1054,   851,  1339,\n",
       "         318,   510,   525,    28,  1151,   685,  6011,   317,   703,\n",
       "        1771, 15001,   514,   362,   332,   324,  6045,   425,   308,\n",
       "        6010,   475,   903,   640,  2000,   248,   651,  2799,   368,\n",
       "       17011,   505,  1103,  1521,   351, 16051,   398,  1998, 10311,\n",
       "         409,  1230, 17019, 12684,  8259,  1895,  1317,   871,   909,\n",
       "        1595,   776, 17700, 11011,  1199,   459,   357,  1162,  1120,\n",
       "       15033,  1896,   339,   361,  6512,   454,   650, 13616,   604,\n",
       "       16312,  1082,   336, 20000,   416,   678,  1401,  1021,  1870,\n",
       "         375, 13636,  1250,  6012,   323,  1158,  2009,   902,  6062,\n",
       "        1275,   572,   244,   399,  1016,   743,  1221,  2402,  1362,\n",
       "         544,   645,   907,   702,  1003,  1432,  9013,   442,  1017,\n",
       "       15017, 10910,  1992,   540,  2018, 11025,  1433,  1701,  2792,\n",
       "        1502,  1239,  1390, 14009,  1160, 11111,  1783,  9007,   923,\n",
       "        1149,   754,  1988,  2004,  5420,  1793,  1324,   356, 12512,\n",
       "        7511,  1299,   293, 19312,  1079,  1689,   998,  1100,  1933,\n",
       "         508, 16311,   682,  1922,  7529,   732,  2389,  1005,  1707,\n",
       "        1416,  1700,  8500,  1012, 10110,   421,  4507,  1631,  7518,\n",
       "         377,  1004,  1799,  9012,  2007,  2598,  1548,  1241],\n",
       "      dtype=int64)"
      ]
     },
     "execution_count": 18,
     "metadata": {},
     "output_type": "execute_result"
    }
   ],
   "source": [
    "data['Power'].unique()"
   ]
  },
  {
   "cell_type": "markdown",
   "metadata": {},
   "source": [
    "Заменим данные в столбце `Power` в зависимости от величины значения"
   ]
  },
  {
   "cell_type": "code",
   "execution_count": 19,
   "metadata": {},
   "outputs": [],
   "source": [
    "def power(power):\n",
    "    if power < 1000:\n",
    "        return power\n",
    "    elif 1000 <= power < 10000:\n",
    "        return power // 10\n",
    "    else:\n",
    "        return power // 100\n",
    "\n",
    "data['Power'] = data['Power'].apply(power)    "
   ]
  },
  {
   "cell_type": "code",
   "execution_count": 20,
   "metadata": {},
   "outputs": [
    {
     "data": {
      "image/png": "[encoded data removed]",
      "text/plain": [
       "<Figure size 640x480 with 1 Axes>"
      ]
     },
     "metadata": {},
     "output_type": "display_data"
    }
   ],
   "source": [
    "data['Power'].hist(bins=50)\n",
    "plt.show()"
   ]
  },
  {
   "cell_type": "code",
   "execution_count": 21,
   "metadata": {},
   "outputs": [
    {
     "data": {
      "image/png": "[encoded data removed]",
      "text/plain": [
       "<Figure size 640x480 with 1 Axes>"
      ]
     },
     "metadata": {},
     "output_type": "display_data"
    }
   ],
   "source": [
    "data.boxplot(column='Power')\n",
    "plt.title('Диаграмма размаха')\n",
    "plt.ylabel('Мощность, л.с.')\n",
    "plt.ylim(0, 400)\n",
    "plt.grid(True)\n",
    "plt.show()"
   ]
  },
  {
   "cell_type": "code",
   "execution_count": 22,
   "metadata": {},
   "outputs": [],
   "source": [
    "#удалим значения в столбце `Power`, превышающие 250 л.с.\n",
    "\n",
    "data = data.loc[data['Power'] < 250]"
   ]
  },
  {
   "cell_type": "markdown",
   "metadata": {},
   "source": [
    "Пропуски в столбцах `VehicleType`, `Gearbox`, `Model`, `FuelType` заменим на _unknown_"
   ]
  },
  {
   "cell_type": "code",
   "execution_count": 23,
   "metadata": {},
   "outputs": [],
   "source": [
    "data[['VehicleType', 'Gearbox', 'Model', 'FuelType']] = (data[['VehicleType', 'Gearbox', 'Model', 'FuelType']]\n",
    "                                                         .fillna('unknown'))"
   ]
  },
  {
   "cell_type": "markdown",
   "metadata": {},
   "source": [
    "Пропуски в столбце `Repaired` заменим на _no_"
   ]
  },
  {
   "cell_type": "code",
   "execution_count": 24,
   "metadata": {},
   "outputs": [],
   "source": [
    "data['Repaired'] = data['Repaired'].fillna('no')"
   ]
  },
  {
   "cell_type": "code",
   "execution_count": 25,
   "metadata": {},
   "outputs": [
    {
     "name": "stdout",
     "output_type": "stream",
     "text": [
      "<class 'pandas.core.frame.DataFrame'>\n",
      "Int64Index: 278328 entries, 0 to 309328\n",
      "Data columns (total 10 columns):\n",
      " #   Column            Non-Null Count   Dtype \n",
      "---  ------            --------------   ----- \n",
      " 0   Price             278328 non-null  int64 \n",
      " 1   VehicleType       278328 non-null  object\n",
      " 2   RegistrationYear  278328 non-null  int64 \n",
      " 3   Gearbox           278328 non-null  object\n",
      " 4   Power             278328 non-null  int64 \n",
      " 5   Model             278328 non-null  object\n",
      " 6   Kilometer         278328 non-null  int64 \n",
      " 7   FuelType          278328 non-null  object\n",
      " 8   Brand             278328 non-null  object\n",
      " 9   Repaired          278328 non-null  object\n",
      "dtypes: int64(4), object(6)\n",
      "memory usage: 23.4+ MB\n"
     ]
    }
   ],
   "source": [
    "data.info()"
   ]
  },
  {
   "cell_type": "code",
   "execution_count": 26,
   "metadata": {},
   "outputs": [
    {
     "name": "stdout",
     "output_type": "stream",
     "text": [
      "Из датасета исключено 21.46 процентов данных\n"
     ]
    }
   ],
   "source": [
    "data_length_upd = data.shape[0]\n",
    "#((data_length - data_length_upd) / data_length) * 100\n",
    "print('Из датасета исключено', round(((data_length - data_length_upd) / data_length) * 100, 2),'процентов данных')"
   ]
  },
  {
   "cell_type": "code",
   "execution_count": 27,
   "metadata": {},
   "outputs": [
    {
     "data": {
      "text/html": [
       "<div>\n",
       "<style scoped>\n",
       "    .dataframe tbody tr th:only-of-type {\n",
       "        vertical-align: middle;\n",
       "    }\n",
       "\n",
       "    .dataframe tbody tr th {\n",
       "        vertical-align: top;\n",
       "    }\n",
       "\n",
       "    .dataframe thead th {\n",
       "        text-align: right;\n",
       "    }\n",
       "</style>\n",
       "<table border=\"1\" class=\"dataframe\">\n",
       "  <thead>\n",
       "    <tr style=\"text-align: right;\">\n",
       "      <th></th>\n",
       "      <th>Price</th>\n",
       "      <th>RegistrationYear</th>\n",
       "      <th>Power</th>\n",
       "      <th>Kilometer</th>\n",
       "    </tr>\n",
       "  </thead>\n",
       "  <tbody>\n",
       "    <tr>\n",
       "      <th>Price</th>\n",
       "      <td>1.000000</td>\n",
       "      <td>0.438854</td>\n",
       "      <td>0.447944</td>\n",
       "      <td>-0.369711</td>\n",
       "    </tr>\n",
       "    <tr>\n",
       "      <th>RegistrationYear</th>\n",
       "      <td>0.438854</td>\n",
       "      <td>1.000000</td>\n",
       "      <td>0.167069</td>\n",
       "      <td>-0.215877</td>\n",
       "    </tr>\n",
       "    <tr>\n",
       "      <th>Power</th>\n",
       "      <td>0.447944</td>\n",
       "      <td>0.167069</td>\n",
       "      <td>1.000000</td>\n",
       "      <td>0.093562</td>\n",
       "    </tr>\n",
       "    <tr>\n",
       "      <th>Kilometer</th>\n",
       "      <td>-0.369711</td>\n",
       "      <td>-0.215877</td>\n",
       "      <td>0.093562</td>\n",
       "      <td>1.000000</td>\n",
       "    </tr>\n",
       "  </tbody>\n",
       "</table>\n",
       "</div>"
      ],
      "text/plain": [
       "                     Price  RegistrationYear     Power  Kilometer\n",
       "Price             1.000000          0.438854  0.447944  -0.369711\n",
       "RegistrationYear  0.438854          1.000000  0.167069  -0.215877\n",
       "Power             0.447944          0.167069  1.000000   0.093562\n",
       "Kilometer        -0.369711         -0.215877  0.093562   1.000000"
      ]
     },
     "execution_count": 27,
     "metadata": {},
     "output_type": "execute_result"
    }
   ],
   "source": [
    "data.corr()"
   ]
  },
  {
   "cell_type": "markdown",
   "metadata": {},
   "source": [
    "__Вывод__\n",
    "\n",
    "Данные в датасете соответствуют описанию. \\\n",
    "Столбцы с признаками `DateCrawled`, `RegistrationMonth`, `DateCreated`, `NumberOfPictures`, `PostalCode`, `LastSeen` определены как неинформативные и удалены. \\\n",
    "Также из датасета исключены строки-дубликаты. \\\n",
    "Аномальные значения в столбце `RegistrationYear` удалены, в столбце `Power` приведены к единому классу, также исключены данные, превышающие значение 250 л.с. \\\n",
    "Заполнить пропуски в столбцах `VehicleType`, `Gearbox`, `Model`, `FuelType` не представляется возможным, поэтому сделана замена на _unknown_. В столбце `Repaired` скорее всего отсутствуют данные по автомобилям, которые не были в ремонте, поэтому сделана замена на _no_. \\\n",
    "Из датасета исключено более 21% данных, 13% из которых пришлось на строки-дубликаты.\n",
    "\n",
    "В данных наблюдаются слабые зависимости стоимости автомобиля от мощности двигателя и года выпуска (положительная зависимость), отрицательная от пробега.\n",
    "\n",
    "Целевой признак представлен численным значением, будем решать задачу регрессии обучением с учителем."
   ]
  },
  {
   "cell_type": "markdown",
   "metadata": {},
   "source": [
    "## Обучение моделей"
   ]
  },
  {
   "cell_type": "code",
   "execution_count": 28,
   "metadata": {},
   "outputs": [],
   "source": [
    "#разделим выборки на признаки (X) и целевую переменную (y)\n",
    "\n",
    "X = data.drop(columns=['Price'], axis = 1)\n",
    "y = data['Price']"
   ]
  },
  {
   "cell_type": "code",
   "execution_count": 29,
   "metadata": {},
   "outputs": [],
   "source": [
    "#разделим данные на обучающую и тестовую выборки\n",
    "\n",
    "X_train, X_test, y_train, y_test = train_test_split(X, y, test_size=0.25, random_state=42)\n",
    "#X_test, X_val, y_test, y_val = train_test_split(X_val, y_val, test_size=0.5, random_state=42)"
   ]
  },
  {
   "cell_type": "code",
   "execution_count": 30,
   "metadata": {},
   "outputs": [
    {
     "data": {
      "text/plain": [
       "(208746, 9)"
      ]
     },
     "metadata": {},
     "output_type": "display_data"
    },
    {
     "data": {
      "text/plain": [
       "(69582, 9)"
      ]
     },
     "metadata": {},
     "output_type": "display_data"
    }
   ],
   "source": [
    "display(X_train.shape)\n",
    "display(X_test.shape)"
   ]
  },
  {
   "cell_type": "code",
   "execution_count": 31,
   "metadata": {},
   "outputs": [
    {
     "data": {
      "text/plain": [
       "40"
      ]
     },
     "execution_count": 31,
     "metadata": {},
     "output_type": "execute_result"
    }
   ],
   "source": [
    "data['Brand'].value_counts().count()"
   ]
  },
  {
   "cell_type": "code",
   "execution_count": 32,
   "metadata": {},
   "outputs": [
    {
     "data": {
      "text/plain": [
       "250"
      ]
     },
     "execution_count": 32,
     "metadata": {},
     "output_type": "execute_result"
    }
   ],
   "source": [
    "data['Model'].value_counts().count()"
   ]
  },
  {
   "cell_type": "code",
   "execution_count": 33,
   "metadata": {},
   "outputs": [
    {
     "data": {
      "text/plain": [
       "(208746, 9)"
      ]
     },
     "metadata": {},
     "output_type": "display_data"
    },
    {
     "data": {
      "text/html": [
       "<div>\n",
       "<style scoped>\n",
       "    .dataframe tbody tr th:only-of-type {\n",
       "        vertical-align: middle;\n",
       "    }\n",
       "\n",
       "    .dataframe tbody tr th {\n",
       "        vertical-align: top;\n",
       "    }\n",
       "\n",
       "    .dataframe thead th {\n",
       "        text-align: right;\n",
       "    }\n",
       "</style>\n",
       "<table border=\"1\" class=\"dataframe\">\n",
       "  <thead>\n",
       "    <tr style=\"text-align: right;\">\n",
       "      <th></th>\n",
       "      <th>VehicleType</th>\n",
       "      <th>RegistrationYear</th>\n",
       "      <th>Gearbox</th>\n",
       "      <th>Power</th>\n",
       "      <th>Model</th>\n",
       "      <th>Kilometer</th>\n",
       "      <th>FuelType</th>\n",
       "      <th>Brand</th>\n",
       "      <th>Repaired</th>\n",
       "    </tr>\n",
       "  </thead>\n",
       "  <tbody>\n",
       "    <tr>\n",
       "      <th>165869</th>\n",
       "      <td>small</td>\n",
       "      <td>2004</td>\n",
       "      <td>auto</td>\n",
       "      <td>61</td>\n",
       "      <td>3718.166066</td>\n",
       "      <td>100000</td>\n",
       "      <td>petrol</td>\n",
       "      <td>3623.513087</td>\n",
       "      <td>no</td>\n",
       "    </tr>\n",
       "    <tr>\n",
       "      <th>95537</th>\n",
       "      <td>sedan</td>\n",
       "      <td>1992</td>\n",
       "      <td>auto</td>\n",
       "      <td>150</td>\n",
       "      <td>1511.807673</td>\n",
       "      <td>150000</td>\n",
       "      <td>petrol</td>\n",
       "      <td>6381.504895</td>\n",
       "      <td>no</td>\n",
       "    </tr>\n",
       "    <tr>\n",
       "      <th>75169</th>\n",
       "      <td>bus</td>\n",
       "      <td>2005</td>\n",
       "      <td>manual</td>\n",
       "      <td>150</td>\n",
       "      <td>3762.556451</td>\n",
       "      <td>150000</td>\n",
       "      <td>gasoline</td>\n",
       "      <td>3319.620077</td>\n",
       "      <td>no</td>\n",
       "    </tr>\n",
       "    <tr>\n",
       "      <th>179424</th>\n",
       "      <td>suv</td>\n",
       "      <td>2005</td>\n",
       "      <td>manual</td>\n",
       "      <td>109</td>\n",
       "      <td>3129.822970</td>\n",
       "      <td>150000</td>\n",
       "      <td>gasoline</td>\n",
       "      <td>7917.668866</td>\n",
       "      <td>no</td>\n",
       "    </tr>\n",
       "    <tr>\n",
       "      <th>136069</th>\n",
       "      <td>wagon</td>\n",
       "      <td>2000</td>\n",
       "      <td>auto</td>\n",
       "      <td>230</td>\n",
       "      <td>6479.831679</td>\n",
       "      <td>150000</td>\n",
       "      <td>petrol</td>\n",
       "      <td>6381.504895</td>\n",
       "      <td>no</td>\n",
       "    </tr>\n",
       "    <tr>\n",
       "      <th>27726</th>\n",
       "      <td>sedan</td>\n",
       "      <td>1990</td>\n",
       "      <td>manual</td>\n",
       "      <td>122</td>\n",
       "      <td>3129.822970</td>\n",
       "      <td>150000</td>\n",
       "      <td>petrol</td>\n",
       "      <td>5842.783613</td>\n",
       "      <td>no</td>\n",
       "    </tr>\n",
       "    <tr>\n",
       "      <th>105916</th>\n",
       "      <td>small</td>\n",
       "      <td>1994</td>\n",
       "      <td>manual</td>\n",
       "      <td>40</td>\n",
       "      <td>1833.847673</td>\n",
       "      <td>150000</td>\n",
       "      <td>petrol</td>\n",
       "      <td>4133.476269</td>\n",
       "      <td>yes</td>\n",
       "    </tr>\n",
       "    <tr>\n",
       "      <th>91975</th>\n",
       "      <td>bus</td>\n",
       "      <td>2008</td>\n",
       "      <td>manual</td>\n",
       "      <td>175</td>\n",
       "      <td>3762.556451</td>\n",
       "      <td>20000</td>\n",
       "      <td>gasoline</td>\n",
       "      <td>3319.620077</td>\n",
       "      <td>no</td>\n",
       "    </tr>\n",
       "    <tr>\n",
       "      <th>143958</th>\n",
       "      <td>sedan</td>\n",
       "      <td>2007</td>\n",
       "      <td>auto</td>\n",
       "      <td>95</td>\n",
       "      <td>3561.299411</td>\n",
       "      <td>80000</td>\n",
       "      <td>petrol</td>\n",
       "      <td>5842.783613</td>\n",
       "      <td>no</td>\n",
       "    </tr>\n",
       "    <tr>\n",
       "      <th>103251</th>\n",
       "      <td>bus</td>\n",
       "      <td>1994</td>\n",
       "      <td>manual</td>\n",
       "      <td>77</td>\n",
       "      <td>6948.828247</td>\n",
       "      <td>150000</td>\n",
       "      <td>gasoline</td>\n",
       "      <td>4738.987271</td>\n",
       "      <td>no</td>\n",
       "    </tr>\n",
       "    <tr>\n",
       "      <th>151235</th>\n",
       "      <td>convertible</td>\n",
       "      <td>2005</td>\n",
       "      <td>auto</td>\n",
       "      <td>231</td>\n",
       "      <td>8337.542798</td>\n",
       "      <td>150000</td>\n",
       "      <td>petrol</td>\n",
       "      <td>5842.783613</td>\n",
       "      <td>no</td>\n",
       "    </tr>\n",
       "    <tr>\n",
       "      <th>123761</th>\n",
       "      <td>small</td>\n",
       "      <td>2001</td>\n",
       "      <td>manual</td>\n",
       "      <td>58</td>\n",
       "      <td>2127.551927</td>\n",
       "      <td>90000</td>\n",
       "      <td>petrol</td>\n",
       "      <td>2952.000048</td>\n",
       "      <td>no</td>\n",
       "    </tr>\n",
       "    <tr>\n",
       "      <th>80548</th>\n",
       "      <td>sedan</td>\n",
       "      <td>2004</td>\n",
       "      <td>manual</td>\n",
       "      <td>140</td>\n",
       "      <td>6431.235703</td>\n",
       "      <td>150000</td>\n",
       "      <td>gasoline</td>\n",
       "      <td>6381.504895</td>\n",
       "      <td>no</td>\n",
       "    </tr>\n",
       "    <tr>\n",
       "      <th>11230</th>\n",
       "      <td>small</td>\n",
       "      <td>2001</td>\n",
       "      <td>unknown</td>\n",
       "      <td>50</td>\n",
       "      <td>1523.644768</td>\n",
       "      <td>150000</td>\n",
       "      <td>petrol</td>\n",
       "      <td>4738.987271</td>\n",
       "      <td>yes</td>\n",
       "    </tr>\n",
       "    <tr>\n",
       "      <th>259218</th>\n",
       "      <td>sedan</td>\n",
       "      <td>1990</td>\n",
       "      <td>manual</td>\n",
       "      <td>75</td>\n",
       "      <td>4225.291376</td>\n",
       "      <td>150000</td>\n",
       "      <td>gasoline</td>\n",
       "      <td>5842.783613</td>\n",
       "      <td>no</td>\n",
       "    </tr>\n",
       "    <tr>\n",
       "      <th>260244</th>\n",
       "      <td>sedan</td>\n",
       "      <td>2009</td>\n",
       "      <td>unknown</td>\n",
       "      <td>0</td>\n",
       "      <td>5152.874524</td>\n",
       "      <td>150000</td>\n",
       "      <td>gasoline</td>\n",
       "      <td>6286.199276</td>\n",
       "      <td>no</td>\n",
       "    </tr>\n",
       "    <tr>\n",
       "      <th>237094</th>\n",
       "      <td>wagon</td>\n",
       "      <td>1998</td>\n",
       "      <td>manual</td>\n",
       "      <td>170</td>\n",
       "      <td>5671.439097</td>\n",
       "      <td>150000</td>\n",
       "      <td>petrol</td>\n",
       "      <td>5842.783613</td>\n",
       "      <td>no</td>\n",
       "    </tr>\n",
       "    <tr>\n",
       "      <th>90414</th>\n",
       "      <td>wagon</td>\n",
       "      <td>1998</td>\n",
       "      <td>manual</td>\n",
       "      <td>75</td>\n",
       "      <td>3036.731706</td>\n",
       "      <td>150000</td>\n",
       "      <td>petrol</td>\n",
       "      <td>3866.420932</td>\n",
       "      <td>no</td>\n",
       "    </tr>\n",
       "    <tr>\n",
       "      <th>115144</th>\n",
       "      <td>small</td>\n",
       "      <td>2004</td>\n",
       "      <td>manual</td>\n",
       "      <td>68</td>\n",
       "      <td>3849.749011</td>\n",
       "      <td>90000</td>\n",
       "      <td>petrol</td>\n",
       "      <td>4813.037768</td>\n",
       "      <td>no</td>\n",
       "    </tr>\n",
       "    <tr>\n",
       "      <th>88147</th>\n",
       "      <td>sedan</td>\n",
       "      <td>2005</td>\n",
       "      <td>auto</td>\n",
       "      <td>140</td>\n",
       "      <td>1508.362716</td>\n",
       "      <td>100000</td>\n",
       "      <td>petrol</td>\n",
       "      <td>4133.476269</td>\n",
       "      <td>no</td>\n",
       "    </tr>\n",
       "  </tbody>\n",
       "</table>\n",
       "</div>"
      ],
      "text/plain": [
       "        VehicleType  RegistrationYear  Gearbox  Power        Model  Kilometer  \\\n",
       "165869        small              2004     auto     61  3718.166066     100000   \n",
       "95537         sedan              1992     auto    150  1511.807673     150000   \n",
       "75169           bus              2005   manual    150  3762.556451     150000   \n",
       "179424          suv              2005   manual    109  3129.822970     150000   \n",
       "136069        wagon              2000     auto    230  6479.831679     150000   \n",
       "27726         sedan              1990   manual    122  3129.822970     150000   \n",
       "105916        small              1994   manual     40  1833.847673     150000   \n",
       "91975           bus              2008   manual    175  3762.556451      20000   \n",
       "143958        sedan              2007     auto     95  3561.299411      80000   \n",
       "103251          bus              1994   manual     77  6948.828247     150000   \n",
       "151235  convertible              2005     auto    231  8337.542798     150000   \n",
       "123761        small              2001   manual     58  2127.551927      90000   \n",
       "80548         sedan              2004   manual    140  6431.235703     150000   \n",
       "11230         small              2001  unknown     50  1523.644768     150000   \n",
       "259218        sedan              1990   manual     75  4225.291376     150000   \n",
       "260244        sedan              2009  unknown      0  5152.874524     150000   \n",
       "237094        wagon              1998   manual    170  5671.439097     150000   \n",
       "90414         wagon              1998   manual     75  3036.731706     150000   \n",
       "115144        small              2004   manual     68  3849.749011      90000   \n",
       "88147         sedan              2005     auto    140  1508.362716     100000   \n",
       "\n",
       "        FuelType        Brand Repaired  \n",
       "165869    petrol  3623.513087       no  \n",
       "95537     petrol  6381.504895       no  \n",
       "75169   gasoline  3319.620077       no  \n",
       "179424  gasoline  7917.668866       no  \n",
       "136069    petrol  6381.504895       no  \n",
       "27726     petrol  5842.783613       no  \n",
       "105916    petrol  4133.476269      yes  \n",
       "91975   gasoline  3319.620077       no  \n",
       "143958    petrol  5842.783613       no  \n",
       "103251  gasoline  4738.987271       no  \n",
       "151235    petrol  5842.783613       no  \n",
       "123761    petrol  2952.000048       no  \n",
       "80548   gasoline  6381.504895       no  \n",
       "11230     petrol  4738.987271      yes  \n",
       "259218  gasoline  5842.783613       no  \n",
       "260244  gasoline  6286.199276       no  \n",
       "237094    petrol  5842.783613       no  \n",
       "90414     petrol  3866.420932       no  \n",
       "115144    petrol  4813.037768       no  \n",
       "88147     petrol  4133.476269       no  "
      ]
     },
     "execution_count": 33,
     "metadata": {},
     "output_type": "execute_result"
    }
   ],
   "source": [
    "#преобразуем категориальные переменные в столбцах Brand и Model в численные с помощью MEstimateEncoder\n",
    "\n",
    "feature_list = ['Model', 'Brand']\n",
    "MEE_encoder = MEstimateEncoder(cols=feature_list, m=5.0)\n",
    "X_train[feature_list] = MEE_encoder.fit_transform(X_train[feature_list], y_train)\n",
    "X_test[feature_list] = MEE_encoder.transform(X_test[feature_list])\n",
    "display(X_train.shape)\n",
    "X_train.head(20)"
   ]
  },
  {
   "cell_type": "code",
   "execution_count": 34,
   "metadata": {},
   "outputs": [
    {
     "data": {
      "text/plain": [
       "(208746, 18)"
      ]
     },
     "metadata": {},
     "output_type": "display_data"
    },
    {
     "data": {
      "text/html": [
       "<div>\n",
       "<style scoped>\n",
       "    .dataframe tbody tr th:only-of-type {\n",
       "        vertical-align: middle;\n",
       "    }\n",
       "\n",
       "    .dataframe tbody tr th {\n",
       "        vertical-align: top;\n",
       "    }\n",
       "\n",
       "    .dataframe thead th {\n",
       "        text-align: right;\n",
       "    }\n",
       "</style>\n",
       "<table border=\"1\" class=\"dataframe\">\n",
       "  <thead>\n",
       "    <tr style=\"text-align: right;\">\n",
       "      <th></th>\n",
       "      <th>0</th>\n",
       "      <th>1</th>\n",
       "      <th>2</th>\n",
       "      <th>3</th>\n",
       "      <th>4</th>\n",
       "      <th>5</th>\n",
       "      <th>6</th>\n",
       "      <th>7</th>\n",
       "      <th>8</th>\n",
       "      <th>9</th>\n",
       "      <th>10</th>\n",
       "      <th>11</th>\n",
       "      <th>12</th>\n",
       "      <th>13</th>\n",
       "      <th>14</th>\n",
       "      <th>15</th>\n",
       "      <th>16</th>\n",
       "      <th>17</th>\n",
       "    </tr>\n",
       "  </thead>\n",
       "  <tbody>\n",
       "    <tr>\n",
       "      <th>0</th>\n",
       "      <td>0.0</td>\n",
       "      <td>0.0</td>\n",
       "      <td>0.0</td>\n",
       "      <td>0.0</td>\n",
       "      <td>1.0</td>\n",
       "      <td>0.0</td>\n",
       "      <td>0.0</td>\n",
       "      <td>0.0</td>\n",
       "      <td>0.0</td>\n",
       "      <td>0.0</td>\n",
       "      <td>0.0</td>\n",
       "      <td>0.0</td>\n",
       "      <td>0.0</td>\n",
       "      <td>0.0</td>\n",
       "      <td>0.0</td>\n",
       "      <td>1.0</td>\n",
       "      <td>0.0</td>\n",
       "      <td>0.0</td>\n",
       "    </tr>\n",
       "    <tr>\n",
       "      <th>1</th>\n",
       "      <td>0.0</td>\n",
       "      <td>0.0</td>\n",
       "      <td>0.0</td>\n",
       "      <td>1.0</td>\n",
       "      <td>0.0</td>\n",
       "      <td>0.0</td>\n",
       "      <td>0.0</td>\n",
       "      <td>0.0</td>\n",
       "      <td>0.0</td>\n",
       "      <td>0.0</td>\n",
       "      <td>0.0</td>\n",
       "      <td>0.0</td>\n",
       "      <td>0.0</td>\n",
       "      <td>0.0</td>\n",
       "      <td>0.0</td>\n",
       "      <td>1.0</td>\n",
       "      <td>0.0</td>\n",
       "      <td>0.0</td>\n",
       "    </tr>\n",
       "    <tr>\n",
       "      <th>2</th>\n",
       "      <td>0.0</td>\n",
       "      <td>0.0</td>\n",
       "      <td>0.0</td>\n",
       "      <td>0.0</td>\n",
       "      <td>0.0</td>\n",
       "      <td>0.0</td>\n",
       "      <td>0.0</td>\n",
       "      <td>0.0</td>\n",
       "      <td>1.0</td>\n",
       "      <td>0.0</td>\n",
       "      <td>0.0</td>\n",
       "      <td>1.0</td>\n",
       "      <td>0.0</td>\n",
       "      <td>0.0</td>\n",
       "      <td>0.0</td>\n",
       "      <td>0.0</td>\n",
       "      <td>0.0</td>\n",
       "      <td>0.0</td>\n",
       "    </tr>\n",
       "    <tr>\n",
       "      <th>3</th>\n",
       "      <td>0.0</td>\n",
       "      <td>0.0</td>\n",
       "      <td>0.0</td>\n",
       "      <td>0.0</td>\n",
       "      <td>0.0</td>\n",
       "      <td>1.0</td>\n",
       "      <td>0.0</td>\n",
       "      <td>0.0</td>\n",
       "      <td>1.0</td>\n",
       "      <td>0.0</td>\n",
       "      <td>0.0</td>\n",
       "      <td>1.0</td>\n",
       "      <td>0.0</td>\n",
       "      <td>0.0</td>\n",
       "      <td>0.0</td>\n",
       "      <td>0.0</td>\n",
       "      <td>0.0</td>\n",
       "      <td>0.0</td>\n",
       "    </tr>\n",
       "    <tr>\n",
       "      <th>4</th>\n",
       "      <td>0.0</td>\n",
       "      <td>0.0</td>\n",
       "      <td>0.0</td>\n",
       "      <td>0.0</td>\n",
       "      <td>0.0</td>\n",
       "      <td>0.0</td>\n",
       "      <td>0.0</td>\n",
       "      <td>1.0</td>\n",
       "      <td>0.0</td>\n",
       "      <td>0.0</td>\n",
       "      <td>0.0</td>\n",
       "      <td>0.0</td>\n",
       "      <td>0.0</td>\n",
       "      <td>0.0</td>\n",
       "      <td>0.0</td>\n",
       "      <td>1.0</td>\n",
       "      <td>0.0</td>\n",
       "      <td>0.0</td>\n",
       "    </tr>\n",
       "  </tbody>\n",
       "</table>\n",
       "</div>"
      ],
      "text/plain": [
       "    0    1    2    3    4    5    6    7    8    9    10   11   12   13   14  \\\n",
       "0  0.0  0.0  0.0  0.0  1.0  0.0  0.0  0.0  0.0  0.0  0.0  0.0  0.0  0.0  0.0   \n",
       "1  0.0  0.0  0.0  1.0  0.0  0.0  0.0  0.0  0.0  0.0  0.0  0.0  0.0  0.0  0.0   \n",
       "2  0.0  0.0  0.0  0.0  0.0  0.0  0.0  0.0  1.0  0.0  0.0  1.0  0.0  0.0  0.0   \n",
       "3  0.0  0.0  0.0  0.0  0.0  1.0  0.0  0.0  1.0  0.0  0.0  1.0  0.0  0.0  0.0   \n",
       "4  0.0  0.0  0.0  0.0  0.0  0.0  0.0  1.0  0.0  0.0  0.0  0.0  0.0  0.0  0.0   \n",
       "\n",
       "    15   16   17  \n",
       "0  1.0  0.0  0.0  \n",
       "1  1.0  0.0  0.0  \n",
       "2  0.0  0.0  0.0  \n",
       "3  0.0  0.0  0.0  \n",
       "4  1.0  0.0  0.0  "
      ]
     },
     "execution_count": 34,
     "metadata": {},
     "output_type": "execute_result"
    }
   ],
   "source": [
    "#категориальные переменные в столбцах VehicleType, Gearbox, FuelType, Repaired в численные кодируем OneHotEncoder\n",
    "\n",
    "cat_features = ['VehicleType', 'Gearbox', 'FuelType', 'Repaired']\n",
    "encoder = OneHotEncoder(sparse = False, drop='first')\n",
    "X_train_ohe = pd.DataFrame(encoder.fit_transform(X_train[cat_features]))\n",
    "X_test_ohe = pd.DataFrame(encoder.transform(X_test[cat_features]))\n",
    "display(X_train_ohe.shape)\n",
    "X_train_ohe.head()"
   ]
  },
  {
   "cell_type": "code",
   "execution_count": 35,
   "metadata": {},
   "outputs": [
    {
     "data": {
      "text/plain": [
       "(208746, 5)"
      ]
     },
     "metadata": {},
     "output_type": "display_data"
    },
    {
     "data": {
      "text/html": [
       "<div>\n",
       "<style scoped>\n",
       "    .dataframe tbody tr th:only-of-type {\n",
       "        vertical-align: middle;\n",
       "    }\n",
       "\n",
       "    .dataframe tbody tr th {\n",
       "        vertical-align: top;\n",
       "    }\n",
       "\n",
       "    .dataframe thead th {\n",
       "        text-align: right;\n",
       "    }\n",
       "</style>\n",
       "<table border=\"1\" class=\"dataframe\">\n",
       "  <thead>\n",
       "    <tr style=\"text-align: right;\">\n",
       "      <th></th>\n",
       "      <th>0</th>\n",
       "      <th>1</th>\n",
       "      <th>2</th>\n",
       "      <th>3</th>\n",
       "      <th>4</th>\n",
       "    </tr>\n",
       "  </thead>\n",
       "  <tbody>\n",
       "    <tr>\n",
       "      <th>208726</th>\n",
       "      <td>0.333579</td>\n",
       "      <td>-0.536917</td>\n",
       "      <td>0.600250</td>\n",
       "      <td>-0.014322</td>\n",
       "      <td>0.122475</td>\n",
       "    </tr>\n",
       "    <tr>\n",
       "      <th>208727</th>\n",
       "      <td>1.326621</td>\n",
       "      <td>0.002889</td>\n",
       "      <td>-0.055989</td>\n",
       "      <td>1.293590</td>\n",
       "      <td>0.122475</td>\n",
       "    </tr>\n",
       "    <tr>\n",
       "      <th>208728</th>\n",
       "      <td>0.617305</td>\n",
       "      <td>2.342044</td>\n",
       "      <td>0.600250</td>\n",
       "      <td>0.751227</td>\n",
       "      <td>1.218827</td>\n",
       "    </tr>\n",
       "    <tr>\n",
       "      <th>208729</th>\n",
       "      <td>-0.659463</td>\n",
       "      <td>1.172467</td>\n",
       "      <td>0.600250</td>\n",
       "      <td>0.255308</td>\n",
       "      <td>1.218827</td>\n",
       "    </tr>\n",
       "    <tr>\n",
       "      <th>208730</th>\n",
       "      <td>-1.510642</td>\n",
       "      <td>-1.886429</td>\n",
       "      <td>0.600250</td>\n",
       "      <td>-1.154809</td>\n",
       "      <td>1.286361</td>\n",
       "    </tr>\n",
       "    <tr>\n",
       "      <th>208731</th>\n",
       "      <td>-0.517600</td>\n",
       "      <td>-0.087079</td>\n",
       "      <td>-0.712228</td>\n",
       "      <td>-0.614825</td>\n",
       "      <td>0.122475</td>\n",
       "    </tr>\n",
       "    <tr>\n",
       "      <th>208732</th>\n",
       "      <td>-0.659463</td>\n",
       "      <td>0.812596</td>\n",
       "      <td>0.600250</td>\n",
       "      <td>0.665638</td>\n",
       "      <td>1.286361</td>\n",
       "    </tr>\n",
       "    <tr>\n",
       "      <th>208733</th>\n",
       "      <td>-0.375737</td>\n",
       "      <td>-0.806819</td>\n",
       "      <td>0.600250</td>\n",
       "      <td>-1.045911</td>\n",
       "      <td>-1.143782</td>\n",
       "    </tr>\n",
       "    <tr>\n",
       "      <th>208734</th>\n",
       "      <td>-0.375737</td>\n",
       "      <td>-1.886429</td>\n",
       "      <td>0.600250</td>\n",
       "      <td>-1.231899</td>\n",
       "      <td>-1.143782</td>\n",
       "    </tr>\n",
       "    <tr>\n",
       "      <th>208735</th>\n",
       "      <td>0.759168</td>\n",
       "      <td>2.414018</td>\n",
       "      <td>0.600250</td>\n",
       "      <td>0.665638</td>\n",
       "      <td>1.286361</td>\n",
       "    </tr>\n",
       "    <tr>\n",
       "      <th>208736</th>\n",
       "      <td>0.191716</td>\n",
       "      <td>-0.069085</td>\n",
       "      <td>0.600250</td>\n",
       "      <td>-0.569915</td>\n",
       "      <td>-1.143782</td>\n",
       "    </tr>\n",
       "    <tr>\n",
       "      <th>208737</th>\n",
       "      <td>-0.092011</td>\n",
       "      <td>0.902564</td>\n",
       "      <td>0.600250</td>\n",
       "      <td>0.826044</td>\n",
       "      <td>1.286361</td>\n",
       "    </tr>\n",
       "    <tr>\n",
       "      <th>208738</th>\n",
       "      <td>-1.085053</td>\n",
       "      <td>-1.886429</td>\n",
       "      <td>-3.205935</td>\n",
       "      <td>0.018683</td>\n",
       "      <td>-0.883286</td>\n",
       "    </tr>\n",
       "    <tr>\n",
       "      <th>208739</th>\n",
       "      <td>1.042894</td>\n",
       "      <td>0.092856</td>\n",
       "      <td>-0.055989</td>\n",
       "      <td>-0.315489</td>\n",
       "      <td>-1.143782</td>\n",
       "    </tr>\n",
       "    <tr>\n",
       "      <th>208740</th>\n",
       "      <td>-0.092011</td>\n",
       "      <td>-0.536917</td>\n",
       "      <td>0.600250</td>\n",
       "      <td>-0.524276</td>\n",
       "      <td>-0.911970</td>\n",
       "    </tr>\n",
       "    <tr>\n",
       "      <th>208741</th>\n",
       "      <td>0.191716</td>\n",
       "      <td>0.632661</td>\n",
       "      <td>0.600250</td>\n",
       "      <td>0.805143</td>\n",
       "      <td>1.286361</td>\n",
       "    </tr>\n",
       "    <tr>\n",
       "      <th>208742</th>\n",
       "      <td>0.049853</td>\n",
       "      <td>2.270070</td>\n",
       "      <td>0.600250</td>\n",
       "      <td>3.186275</td>\n",
       "      <td>1.218827</td>\n",
       "    </tr>\n",
       "    <tr>\n",
       "      <th>208743</th>\n",
       "      <td>-0.375737</td>\n",
       "      <td>0.632661</td>\n",
       "      <td>-0.055989</td>\n",
       "      <td>-0.143654</td>\n",
       "      <td>0.174947</td>\n",
       "    </tr>\n",
       "    <tr>\n",
       "      <th>208744</th>\n",
       "      <td>0.475442</td>\n",
       "      <td>1.874213</td>\n",
       "      <td>0.600250</td>\n",
       "      <td>0.835986</td>\n",
       "      <td>-0.107153</td>\n",
       "    </tr>\n",
       "    <tr>\n",
       "      <th>208745</th>\n",
       "      <td>0.049853</td>\n",
       "      <td>-0.536917</td>\n",
       "      <td>0.600250</td>\n",
       "      <td>-0.305179</td>\n",
       "      <td>0.174947</td>\n",
       "    </tr>\n",
       "  </tbody>\n",
       "</table>\n",
       "</div>"
      ],
      "text/plain": [
       "               0         1         2         3         4\n",
       "208726  0.333579 -0.536917  0.600250 -0.014322  0.122475\n",
       "208727  1.326621  0.002889 -0.055989  1.293590  0.122475\n",
       "208728  0.617305  2.342044  0.600250  0.751227  1.218827\n",
       "208729 -0.659463  1.172467  0.600250  0.255308  1.218827\n",
       "208730 -1.510642 -1.886429  0.600250 -1.154809  1.286361\n",
       "208731 -0.517600 -0.087079 -0.712228 -0.614825  0.122475\n",
       "208732 -0.659463  0.812596  0.600250  0.665638  1.286361\n",
       "208733 -0.375737 -0.806819  0.600250 -1.045911 -1.143782\n",
       "208734 -0.375737 -1.886429  0.600250 -1.231899 -1.143782\n",
       "208735  0.759168  2.414018  0.600250  0.665638  1.286361\n",
       "208736  0.191716 -0.069085  0.600250 -0.569915 -1.143782\n",
       "208737 -0.092011  0.902564  0.600250  0.826044  1.286361\n",
       "208738 -1.085053 -1.886429 -3.205935  0.018683 -0.883286\n",
       "208739  1.042894  0.092856 -0.055989 -0.315489 -1.143782\n",
       "208740 -0.092011 -0.536917  0.600250 -0.524276 -0.911970\n",
       "208741  0.191716  0.632661  0.600250  0.805143  1.286361\n",
       "208742  0.049853  2.270070  0.600250  3.186275  1.218827\n",
       "208743 -0.375737  0.632661 -0.055989 -0.143654  0.174947\n",
       "208744  0.475442  1.874213  0.600250  0.835986 -0.107153\n",
       "208745  0.049853 -0.536917  0.600250 -0.305179  0.174947"
      ]
     },
     "execution_count": 35,
     "metadata": {},
     "output_type": "execute_result"
    }
   ],
   "source": [
    "#масштабируем численные признаки\n",
    "\n",
    "pd.options.mode.chained_assignment = None\n",
    "numeric = ['RegistrationYear', 'Power', 'Kilometer', 'Model', 'Brand']\n",
    "scaler = StandardScaler()\n",
    "X_train_scaler = pd.DataFrame(scaler.fit_transform(X_train[numeric]))\n",
    "X_test_scaler = pd.DataFrame(scaler.transform(X_test[numeric]))\n",
    "display(X_train_scaler.shape)\n",
    "X_train_scaler.tail(20)"
   ]
  },
  {
   "cell_type": "code",
   "execution_count": 36,
   "metadata": {},
   "outputs": [
    {
     "data": {
      "text/plain": [
       "(208746, 23)"
      ]
     },
     "metadata": {},
     "output_type": "display_data"
    },
    {
     "data": {
      "text/plain": [
       "(69582, 23)"
      ]
     },
     "metadata": {},
     "output_type": "display_data"
    },
    {
     "data": {
      "text/html": [
       "<div>\n",
       "<style scoped>\n",
       "    .dataframe tbody tr th:only-of-type {\n",
       "        vertical-align: middle;\n",
       "    }\n",
       "\n",
       "    .dataframe tbody tr th {\n",
       "        vertical-align: top;\n",
       "    }\n",
       "\n",
       "    .dataframe thead th {\n",
       "        text-align: right;\n",
       "    }\n",
       "</style>\n",
       "<table border=\"1\" class=\"dataframe\">\n",
       "  <thead>\n",
       "    <tr style=\"text-align: right;\">\n",
       "      <th></th>\n",
       "      <th>0</th>\n",
       "      <th>1</th>\n",
       "      <th>2</th>\n",
       "      <th>3</th>\n",
       "      <th>4</th>\n",
       "      <th>0</th>\n",
       "      <th>1</th>\n",
       "      <th>2</th>\n",
       "      <th>3</th>\n",
       "      <th>4</th>\n",
       "      <th>...</th>\n",
       "      <th>8</th>\n",
       "      <th>9</th>\n",
       "      <th>10</th>\n",
       "      <th>11</th>\n",
       "      <th>12</th>\n",
       "      <th>13</th>\n",
       "      <th>14</th>\n",
       "      <th>15</th>\n",
       "      <th>16</th>\n",
       "      <th>17</th>\n",
       "    </tr>\n",
       "  </thead>\n",
       "  <tbody>\n",
       "    <tr>\n",
       "      <th>179224</th>\n",
       "      <td>-0.659463</td>\n",
       "      <td>0.632661</td>\n",
       "      <td>-0.974723</td>\n",
       "      <td>0.382435</td>\n",
       "      <td>-0.573946</td>\n",
       "      <td>1.0</td>\n",
       "      <td>0.0</td>\n",
       "      <td>0.0</td>\n",
       "      <td>0.0</td>\n",
       "      <td>0.0</td>\n",
       "      <td>...</td>\n",
       "      <td>0.0</td>\n",
       "      <td>1.0</td>\n",
       "      <td>0.0</td>\n",
       "      <td>0.0</td>\n",
       "      <td>0.0</td>\n",
       "      <td>0.0</td>\n",
       "      <td>0.0</td>\n",
       "      <td>0.0</td>\n",
       "      <td>1.0</td>\n",
       "      <td>0.0</td>\n",
       "    </tr>\n",
       "    <tr>\n",
       "      <th>99817</th>\n",
       "      <td>-1.085053</td>\n",
       "      <td>-0.482936</td>\n",
       "      <td>0.600250</td>\n",
       "      <td>1.027764</td>\n",
       "      <td>0.122475</td>\n",
       "      <td>0.0</td>\n",
       "      <td>0.0</td>\n",
       "      <td>0.0</td>\n",
       "      <td>0.0</td>\n",
       "      <td>0.0</td>\n",
       "      <td>...</td>\n",
       "      <td>1.0</td>\n",
       "      <td>0.0</td>\n",
       "      <td>0.0</td>\n",
       "      <td>1.0</td>\n",
       "      <td>0.0</td>\n",
       "      <td>0.0</td>\n",
       "      <td>0.0</td>\n",
       "      <td>0.0</td>\n",
       "      <td>0.0</td>\n",
       "      <td>0.0</td>\n",
       "    </tr>\n",
       "    <tr>\n",
       "      <th>16259</th>\n",
       "      <td>0.333579</td>\n",
       "      <td>-0.177046</td>\n",
       "      <td>0.600250</td>\n",
       "      <td>-0.314736</td>\n",
       "      <td>-1.399533</td>\n",
       "      <td>0.0</td>\n",
       "      <td>0.0</td>\n",
       "      <td>0.0</td>\n",
       "      <td>0.0</td>\n",
       "      <td>0.0</td>\n",
       "      <td>...</td>\n",
       "      <td>1.0</td>\n",
       "      <td>0.0</td>\n",
       "      <td>0.0</td>\n",
       "      <td>0.0</td>\n",
       "      <td>0.0</td>\n",
       "      <td>0.0</td>\n",
       "      <td>0.0</td>\n",
       "      <td>1.0</td>\n",
       "      <td>0.0</td>\n",
       "      <td>1.0</td>\n",
       "    </tr>\n",
       "    <tr>\n",
       "      <th>98558</th>\n",
       "      <td>0.333579</td>\n",
       "      <td>0.074863</td>\n",
       "      <td>0.600250</td>\n",
       "      <td>-0.614825</td>\n",
       "      <td>-0.911970</td>\n",
       "      <td>0.0</td>\n",
       "      <td>0.0</td>\n",
       "      <td>0.0</td>\n",
       "      <td>0.0</td>\n",
       "      <td>0.0</td>\n",
       "      <td>...</td>\n",
       "      <td>1.0</td>\n",
       "      <td>0.0</td>\n",
       "      <td>0.0</td>\n",
       "      <td>0.0</td>\n",
       "      <td>0.0</td>\n",
       "      <td>0.0</td>\n",
       "      <td>0.0</td>\n",
       "      <td>1.0</td>\n",
       "      <td>0.0</td>\n",
       "      <td>0.0</td>\n",
       "    </tr>\n",
       "    <tr>\n",
       "      <th>108656</th>\n",
       "      <td>-0.092011</td>\n",
       "      <td>-0.518923</td>\n",
       "      <td>-0.712228</td>\n",
       "      <td>-0.143654</td>\n",
       "      <td>-0.461614</td>\n",
       "      <td>0.0</td>\n",
       "      <td>0.0</td>\n",
       "      <td>0.0</td>\n",
       "      <td>0.0</td>\n",
       "      <td>1.0</td>\n",
       "      <td>...</td>\n",
       "      <td>1.0</td>\n",
       "      <td>0.0</td>\n",
       "      <td>0.0</td>\n",
       "      <td>0.0</td>\n",
       "      <td>0.0</td>\n",
       "      <td>0.0</td>\n",
       "      <td>0.0</td>\n",
       "      <td>1.0</td>\n",
       "      <td>0.0</td>\n",
       "      <td>0.0</td>\n",
       "    </tr>\n",
       "    <tr>\n",
       "      <th>167138</th>\n",
       "      <td>-0.517600</td>\n",
       "      <td>-0.069085</td>\n",
       "      <td>0.600250</td>\n",
       "      <td>-0.014322</td>\n",
       "      <td>0.122475</td>\n",
       "      <td>1.0</td>\n",
       "      <td>0.0</td>\n",
       "      <td>0.0</td>\n",
       "      <td>0.0</td>\n",
       "      <td>0.0</td>\n",
       "      <td>...</td>\n",
       "      <td>1.0</td>\n",
       "      <td>0.0</td>\n",
       "      <td>0.0</td>\n",
       "      <td>0.0</td>\n",
       "      <td>0.0</td>\n",
       "      <td>0.0</td>\n",
       "      <td>0.0</td>\n",
       "      <td>1.0</td>\n",
       "      <td>0.0</td>\n",
       "      <td>0.0</td>\n",
       "    </tr>\n",
       "    <tr>\n",
       "      <th>134074</th>\n",
       "      <td>0.759168</td>\n",
       "      <td>-0.446949</td>\n",
       "      <td>0.600250</td>\n",
       "      <td>-0.134283</td>\n",
       "      <td>1.019911</td>\n",
       "      <td>0.0</td>\n",
       "      <td>0.0</td>\n",
       "      <td>0.0</td>\n",
       "      <td>0.0</td>\n",
       "      <td>0.0</td>\n",
       "      <td>...</td>\n",
       "      <td>1.0</td>\n",
       "      <td>0.0</td>\n",
       "      <td>0.0</td>\n",
       "      <td>1.0</td>\n",
       "      <td>0.0</td>\n",
       "      <td>0.0</td>\n",
       "      <td>0.0</td>\n",
       "      <td>0.0</td>\n",
       "      <td>0.0</td>\n",
       "      <td>0.0</td>\n",
       "    </tr>\n",
       "    <tr>\n",
       "      <th>119835</th>\n",
       "      <td>-0.092011</td>\n",
       "      <td>0.362759</td>\n",
       "      <td>0.600250</td>\n",
       "      <td>-0.315489</td>\n",
       "      <td>-1.143782</td>\n",
       "      <td>0.0</td>\n",
       "      <td>0.0</td>\n",
       "      <td>0.0</td>\n",
       "      <td>0.0</td>\n",
       "      <td>0.0</td>\n",
       "      <td>...</td>\n",
       "      <td>1.0</td>\n",
       "      <td>0.0</td>\n",
       "      <td>0.0</td>\n",
       "      <td>0.0</td>\n",
       "      <td>0.0</td>\n",
       "      <td>0.0</td>\n",
       "      <td>0.0</td>\n",
       "      <td>1.0</td>\n",
       "      <td>0.0</td>\n",
       "      <td>0.0</td>\n",
       "    </tr>\n",
       "    <tr>\n",
       "      <th>51579</th>\n",
       "      <td>-0.943189</td>\n",
       "      <td>-1.886429</td>\n",
       "      <td>0.600250</td>\n",
       "      <td>0.255308</td>\n",
       "      <td>1.218827</td>\n",
       "      <td>0.0</td>\n",
       "      <td>1.0</td>\n",
       "      <td>0.0</td>\n",
       "      <td>0.0</td>\n",
       "      <td>0.0</td>\n",
       "      <td>...</td>\n",
       "      <td>0.0</td>\n",
       "      <td>1.0</td>\n",
       "      <td>0.0</td>\n",
       "      <td>0.0</td>\n",
       "      <td>0.0</td>\n",
       "      <td>0.0</td>\n",
       "      <td>0.0</td>\n",
       "      <td>1.0</td>\n",
       "      <td>0.0</td>\n",
       "      <td>0.0</td>\n",
       "    </tr>\n",
       "    <tr>\n",
       "      <th>113463</th>\n",
       "      <td>0.617305</td>\n",
       "      <td>0.632661</td>\n",
       "      <td>0.600250</td>\n",
       "      <td>-0.614825</td>\n",
       "      <td>0.122475</td>\n",
       "      <td>0.0</td>\n",
       "      <td>0.0</td>\n",
       "      <td>0.0</td>\n",
       "      <td>1.0</td>\n",
       "      <td>0.0</td>\n",
       "      <td>...</td>\n",
       "      <td>1.0</td>\n",
       "      <td>0.0</td>\n",
       "      <td>0.0</td>\n",
       "      <td>1.0</td>\n",
       "      <td>0.0</td>\n",
       "      <td>0.0</td>\n",
       "      <td>0.0</td>\n",
       "      <td>0.0</td>\n",
       "      <td>0.0</td>\n",
       "      <td>0.0</td>\n",
       "    </tr>\n",
       "    <tr>\n",
       "      <th>91477</th>\n",
       "      <td>0.617305</td>\n",
       "      <td>1.046512</td>\n",
       "      <td>-0.055989</td>\n",
       "      <td>0.255308</td>\n",
       "      <td>1.218827</td>\n",
       "      <td>0.0</td>\n",
       "      <td>0.0</td>\n",
       "      <td>0.0</td>\n",
       "      <td>1.0</td>\n",
       "      <td>0.0</td>\n",
       "      <td>...</td>\n",
       "      <td>0.0</td>\n",
       "      <td>0.0</td>\n",
       "      <td>0.0</td>\n",
       "      <td>1.0</td>\n",
       "      <td>0.0</td>\n",
       "      <td>0.0</td>\n",
       "      <td>0.0</td>\n",
       "      <td>0.0</td>\n",
       "      <td>0.0</td>\n",
       "      <td>0.0</td>\n",
       "    </tr>\n",
       "    <tr>\n",
       "      <th>4465</th>\n",
       "      <td>-0.517600</td>\n",
       "      <td>-0.069085</td>\n",
       "      <td>0.600250</td>\n",
       "      <td>-0.461801</td>\n",
       "      <td>-0.883286</td>\n",
       "      <td>0.0</td>\n",
       "      <td>0.0</td>\n",
       "      <td>0.0</td>\n",
       "      <td>1.0</td>\n",
       "      <td>0.0</td>\n",
       "      <td>...</td>\n",
       "      <td>1.0</td>\n",
       "      <td>0.0</td>\n",
       "      <td>0.0</td>\n",
       "      <td>0.0</td>\n",
       "      <td>0.0</td>\n",
       "      <td>0.0</td>\n",
       "      <td>0.0</td>\n",
       "      <td>1.0</td>\n",
       "      <td>0.0</td>\n",
       "      <td>0.0</td>\n",
       "    </tr>\n",
       "    <tr>\n",
       "      <th>20424</th>\n",
       "      <td>-0.375737</td>\n",
       "      <td>-0.716852</td>\n",
       "      <td>0.600250</td>\n",
       "      <td>-0.143654</td>\n",
       "      <td>-0.495824</td>\n",
       "      <td>0.0</td>\n",
       "      <td>0.0</td>\n",
       "      <td>0.0</td>\n",
       "      <td>0.0</td>\n",
       "      <td>1.0</td>\n",
       "      <td>...</td>\n",
       "      <td>1.0</td>\n",
       "      <td>0.0</td>\n",
       "      <td>0.0</td>\n",
       "      <td>0.0</td>\n",
       "      <td>0.0</td>\n",
       "      <td>0.0</td>\n",
       "      <td>0.0</td>\n",
       "      <td>1.0</td>\n",
       "      <td>0.0</td>\n",
       "      <td>0.0</td>\n",
       "    </tr>\n",
       "    <tr>\n",
       "      <th>122951</th>\n",
       "      <td>-0.517600</td>\n",
       "      <td>-1.886429</td>\n",
       "      <td>0.600250</td>\n",
       "      <td>0.897167</td>\n",
       "      <td>1.019911</td>\n",
       "      <td>0.0</td>\n",
       "      <td>0.0</td>\n",
       "      <td>0.0</td>\n",
       "      <td>1.0</td>\n",
       "      <td>0.0</td>\n",
       "      <td>...</td>\n",
       "      <td>0.0</td>\n",
       "      <td>0.0</td>\n",
       "      <td>0.0</td>\n",
       "      <td>0.0</td>\n",
       "      <td>0.0</td>\n",
       "      <td>0.0</td>\n",
       "      <td>0.0</td>\n",
       "      <td>1.0</td>\n",
       "      <td>0.0</td>\n",
       "      <td>0.0</td>\n",
       "    </tr>\n",
       "    <tr>\n",
       "      <th>195964</th>\n",
       "      <td>-0.092011</td>\n",
       "      <td>1.046512</td>\n",
       "      <td>0.600250</td>\n",
       "      <td>-0.143654</td>\n",
       "      <td>-0.107153</td>\n",
       "      <td>0.0</td>\n",
       "      <td>0.0</td>\n",
       "      <td>0.0</td>\n",
       "      <td>1.0</td>\n",
       "      <td>0.0</td>\n",
       "      <td>...</td>\n",
       "      <td>0.0</td>\n",
       "      <td>0.0</td>\n",
       "      <td>0.0</td>\n",
       "      <td>1.0</td>\n",
       "      <td>0.0</td>\n",
       "      <td>0.0</td>\n",
       "      <td>0.0</td>\n",
       "      <td>0.0</td>\n",
       "      <td>0.0</td>\n",
       "      <td>0.0</td>\n",
       "    </tr>\n",
       "    <tr>\n",
       "      <th>28834</th>\n",
       "      <td>0.049853</td>\n",
       "      <td>0.272791</td>\n",
       "      <td>0.600250</td>\n",
       "      <td>-0.614825</td>\n",
       "      <td>-1.512298</td>\n",
       "      <td>0.0</td>\n",
       "      <td>0.0</td>\n",
       "      <td>0.0</td>\n",
       "      <td>1.0</td>\n",
       "      <td>0.0</td>\n",
       "      <td>...</td>\n",
       "      <td>1.0</td>\n",
       "      <td>0.0</td>\n",
       "      <td>0.0</td>\n",
       "      <td>1.0</td>\n",
       "      <td>0.0</td>\n",
       "      <td>0.0</td>\n",
       "      <td>0.0</td>\n",
       "      <td>0.0</td>\n",
       "      <td>0.0</td>\n",
       "      <td>1.0</td>\n",
       "    </tr>\n",
       "    <tr>\n",
       "      <th>133068</th>\n",
       "      <td>0.475442</td>\n",
       "      <td>-0.734845</td>\n",
       "      <td>0.600250</td>\n",
       "      <td>-0.731132</td>\n",
       "      <td>0.122475</td>\n",
       "      <td>0.0</td>\n",
       "      <td>0.0</td>\n",
       "      <td>0.0</td>\n",
       "      <td>0.0</td>\n",
       "      <td>1.0</td>\n",
       "      <td>...</td>\n",
       "      <td>1.0</td>\n",
       "      <td>0.0</td>\n",
       "      <td>0.0</td>\n",
       "      <td>0.0</td>\n",
       "      <td>0.0</td>\n",
       "      <td>0.0</td>\n",
       "      <td>0.0</td>\n",
       "      <td>1.0</td>\n",
       "      <td>0.0</td>\n",
       "      <td>0.0</td>\n",
       "    </tr>\n",
       "    <tr>\n",
       "      <th>147557</th>\n",
       "      <td>1.894073</td>\n",
       "      <td>-0.069085</td>\n",
       "      <td>0.600250</td>\n",
       "      <td>0.066062</td>\n",
       "      <td>0.122475</td>\n",
       "      <td>0.0</td>\n",
       "      <td>0.0</td>\n",
       "      <td>0.0</td>\n",
       "      <td>0.0</td>\n",
       "      <td>0.0</td>\n",
       "      <td>...</td>\n",
       "      <td>1.0</td>\n",
       "      <td>0.0</td>\n",
       "      <td>0.0</td>\n",
       "      <td>0.0</td>\n",
       "      <td>0.0</td>\n",
       "      <td>0.0</td>\n",
       "      <td>0.0</td>\n",
       "      <td>1.0</td>\n",
       "      <td>0.0</td>\n",
       "      <td>0.0</td>\n",
       "    </tr>\n",
       "    <tr>\n",
       "      <th>153658</th>\n",
       "      <td>1.184758</td>\n",
       "      <td>0.632661</td>\n",
       "      <td>-0.974723</td>\n",
       "      <td>0.066062</td>\n",
       "      <td>0.122475</td>\n",
       "      <td>0.0</td>\n",
       "      <td>0.0</td>\n",
       "      <td>0.0</td>\n",
       "      <td>0.0</td>\n",
       "      <td>0.0</td>\n",
       "      <td>...</td>\n",
       "      <td>1.0</td>\n",
       "      <td>0.0</td>\n",
       "      <td>0.0</td>\n",
       "      <td>1.0</td>\n",
       "      <td>0.0</td>\n",
       "      <td>0.0</td>\n",
       "      <td>0.0</td>\n",
       "      <td>0.0</td>\n",
       "      <td>0.0</td>\n",
       "      <td>0.0</td>\n",
       "    </tr>\n",
       "    <tr>\n",
       "      <th>24428</th>\n",
       "      <td>0.759168</td>\n",
       "      <td>-0.716852</td>\n",
       "      <td>-0.712228</td>\n",
       "      <td>-1.172236</td>\n",
       "      <td>-0.306589</td>\n",
       "      <td>0.0</td>\n",
       "      <td>0.0</td>\n",
       "      <td>0.0</td>\n",
       "      <td>0.0</td>\n",
       "      <td>1.0</td>\n",
       "      <td>...</td>\n",
       "      <td>1.0</td>\n",
       "      <td>0.0</td>\n",
       "      <td>0.0</td>\n",
       "      <td>0.0</td>\n",
       "      <td>0.0</td>\n",
       "      <td>0.0</td>\n",
       "      <td>0.0</td>\n",
       "      <td>1.0</td>\n",
       "      <td>0.0</td>\n",
       "      <td>0.0</td>\n",
       "    </tr>\n",
       "  </tbody>\n",
       "</table>\n",
       "<p>20 rows × 23 columns</p>\n",
       "</div>"
      ],
      "text/plain": [
       "              0         1         2         3         4    0    1    2    3   \\\n",
       "179224 -0.659463  0.632661 -0.974723  0.382435 -0.573946  1.0  0.0  0.0  0.0   \n",
       "99817  -1.085053 -0.482936  0.600250  1.027764  0.122475  0.0  0.0  0.0  0.0   \n",
       "16259   0.333579 -0.177046  0.600250 -0.314736 -1.399533  0.0  0.0  0.0  0.0   \n",
       "98558   0.333579  0.074863  0.600250 -0.614825 -0.911970  0.0  0.0  0.0  0.0   \n",
       "108656 -0.092011 -0.518923 -0.712228 -0.143654 -0.461614  0.0  0.0  0.0  0.0   \n",
       "167138 -0.517600 -0.069085  0.600250 -0.014322  0.122475  1.0  0.0  0.0  0.0   \n",
       "134074  0.759168 -0.446949  0.600250 -0.134283  1.019911  0.0  0.0  0.0  0.0   \n",
       "119835 -0.092011  0.362759  0.600250 -0.315489 -1.143782  0.0  0.0  0.0  0.0   \n",
       "51579  -0.943189 -1.886429  0.600250  0.255308  1.218827  0.0  1.0  0.0  0.0   \n",
       "113463  0.617305  0.632661  0.600250 -0.614825  0.122475  0.0  0.0  0.0  1.0   \n",
       "91477   0.617305  1.046512 -0.055989  0.255308  1.218827  0.0  0.0  0.0  1.0   \n",
       "4465   -0.517600 -0.069085  0.600250 -0.461801 -0.883286  0.0  0.0  0.0  1.0   \n",
       "20424  -0.375737 -0.716852  0.600250 -0.143654 -0.495824  0.0  0.0  0.0  0.0   \n",
       "122951 -0.517600 -1.886429  0.600250  0.897167  1.019911  0.0  0.0  0.0  1.0   \n",
       "195964 -0.092011  1.046512  0.600250 -0.143654 -0.107153  0.0  0.0  0.0  1.0   \n",
       "28834   0.049853  0.272791  0.600250 -0.614825 -1.512298  0.0  0.0  0.0  1.0   \n",
       "133068  0.475442 -0.734845  0.600250 -0.731132  0.122475  0.0  0.0  0.0  0.0   \n",
       "147557  1.894073 -0.069085  0.600250  0.066062  0.122475  0.0  0.0  0.0  0.0   \n",
       "153658  1.184758  0.632661 -0.974723  0.066062  0.122475  0.0  0.0  0.0  0.0   \n",
       "24428   0.759168 -0.716852 -0.712228 -1.172236 -0.306589  0.0  0.0  0.0  0.0   \n",
       "\n",
       "         4   ...   8    9    10   11   12   13   14   15   16   17  \n",
       "179224  0.0  ...  0.0  1.0  0.0  0.0  0.0  0.0  0.0  0.0  1.0  0.0  \n",
       "99817   0.0  ...  1.0  0.0  0.0  1.0  0.0  0.0  0.0  0.0  0.0  0.0  \n",
       "16259   0.0  ...  1.0  0.0  0.0  0.0  0.0  0.0  0.0  1.0  0.0  1.0  \n",
       "98558   0.0  ...  1.0  0.0  0.0  0.0  0.0  0.0  0.0  1.0  0.0  0.0  \n",
       "108656  1.0  ...  1.0  0.0  0.0  0.0  0.0  0.0  0.0  1.0  0.0  0.0  \n",
       "167138  0.0  ...  1.0  0.0  0.0  0.0  0.0  0.0  0.0  1.0  0.0  0.0  \n",
       "134074  0.0  ...  1.0  0.0  0.0  1.0  0.0  0.0  0.0  0.0  0.0  0.0  \n",
       "119835  0.0  ...  1.0  0.0  0.0  0.0  0.0  0.0  0.0  1.0  0.0  0.0  \n",
       "51579   0.0  ...  0.0  1.0  0.0  0.0  0.0  0.0  0.0  1.0  0.0  0.0  \n",
       "113463  0.0  ...  1.0  0.0  0.0  1.0  0.0  0.0  0.0  0.0  0.0  0.0  \n",
       "91477   0.0  ...  0.0  0.0  0.0  1.0  0.0  0.0  0.0  0.0  0.0  0.0  \n",
       "4465    0.0  ...  1.0  0.0  0.0  0.0  0.0  0.0  0.0  1.0  0.0  0.0  \n",
       "20424   1.0  ...  1.0  0.0  0.0  0.0  0.0  0.0  0.0  1.0  0.0  0.0  \n",
       "122951  0.0  ...  0.0  0.0  0.0  0.0  0.0  0.0  0.0  1.0  0.0  0.0  \n",
       "195964  0.0  ...  0.0  0.0  0.0  1.0  0.0  0.0  0.0  0.0  0.0  0.0  \n",
       "28834   0.0  ...  1.0  0.0  0.0  1.0  0.0  0.0  0.0  0.0  0.0  1.0  \n",
       "133068  1.0  ...  1.0  0.0  0.0  0.0  0.0  0.0  0.0  1.0  0.0  0.0  \n",
       "147557  0.0  ...  1.0  0.0  0.0  0.0  0.0  0.0  0.0  1.0  0.0  0.0  \n",
       "153658  0.0  ...  1.0  0.0  0.0  1.0  0.0  0.0  0.0  0.0  0.0  0.0  \n",
       "24428   1.0  ...  1.0  0.0  0.0  0.0  0.0  0.0  0.0  1.0  0.0  0.0  \n",
       "\n",
       "[20 rows x 23 columns]"
      ]
     },
     "execution_count": 36,
     "metadata": {},
     "output_type": "execute_result"
    }
   ],
   "source": [
    "#объединим признаки в новые датасеты\n",
    "\n",
    "X_train_new = pd.concat([X_train_scaler, X_train_ohe], axis=1)\n",
    "X_test_new = pd.concat([X_test_scaler, X_test_ohe], axis=1)\n",
    "display(X_train_new.shape)\n",
    "display(X_test_new.shape)\n",
    "X_train_new.sample(20)"
   ]
  },
  {
   "cell_type": "code",
   "execution_count": 37,
   "metadata": {},
   "outputs": [],
   "source": [
    "#напишем функцию для вычисления RMSE\n",
    "\n",
    "def rmse(y_true, y_pred):\n",
    "    mse = mean_squared_error(y_true, y_pred)\n",
    "    return mse ** 0.5"
   ]
  },
  {
   "cell_type": "code",
   "execution_count": 38,
   "metadata": {},
   "outputs": [],
   "source": [
    "score = make_scorer(rmse, greater_is_better=False)"
   ]
  },
  {
   "cell_type": "code",
   "execution_count": 39,
   "metadata": {},
   "outputs": [],
   "source": [
    "#определим параметры для GridSearchCV\n",
    "\n",
    "parameters_dtr = {'max_depth':[None] + [i for i in range(1, 21, 3)],\n",
    "                  'min_samples_split':[2,3],\n",
    "                  'min_samples_leaf':[1,2,3]}\n",
    "\n",
    "parameters_lr = {'fit_intercept': [True, False],\n",
    "                 'n_jobs': [1, -1]}\n",
    "\n",
    "parameters_lgbm = {'metric': ['rmse'],\n",
    "                   'max_depth': [25, 50],\n",
    "                   'learning_rate': [0.05, 0.1],\n",
    "                   'num_leaves': [300],\n",
    "                   'force_row_wise': [True]}\n",
    "\n",
    "parameters_cb = {'depth': [5, 10],\n",
    "                 'learning_rate' : [0.05, 1],\n",
    "                 'iterations': [200],\n",
    "                 'loss_function': ['RMSE']}"
   ]
  },
  {
   "cell_type": "markdown",
   "metadata": {},
   "source": [
    "### DecisionTreeRegressor"
   ]
  },
  {
   "cell_type": "code",
   "execution_count": 40,
   "metadata": {},
   "outputs": [
    {
     "name": "stdout",
     "output_type": "stream",
     "text": [
      "RMSE DecisionTreeRegressor на обучающей выборке: 1842.0823891465946\n",
      "CPU times: total: 2min 13s\n",
      "Wall time: 2min 14s\n"
     ]
    }
   ],
   "source": [
    "%%time\n",
    "\n",
    "model_dtr = DecisionTreeRegressor(random_state=42)\n",
    "grid_dtr = GridSearchCV(model_dtr, parameters_dtr, cv = 3, scoring=score)\n",
    "grid_dtr.fit(X_train_new, y_train)\n",
    "rmse_dtr = abs(grid_dtr.best_score_)\n",
    "print('RMSE DecisionTreeRegressor на обучающей выборке:', rmse_dtr)"
   ]
  },
  {
   "cell_type": "code",
   "execution_count": 41,
   "metadata": {},
   "outputs": [
    {
     "data": {
      "text/plain": [
       "{'max_depth': 16, 'min_samples_leaf': 3, 'min_samples_split': 2}"
      ]
     },
     "execution_count": 41,
     "metadata": {},
     "output_type": "execute_result"
    }
   ],
   "source": [
    "grid_dtr.best_params_"
   ]
  },
  {
   "cell_type": "code",
   "execution_count": 42,
   "metadata": {},
   "outputs": [
    {
     "name": "stdout",
     "output_type": "stream",
     "text": [
      "Время обучения DecisionTreeRegressor: 1.984 секунд\n"
     ]
    }
   ],
   "source": [
    "start_time = time.time()\n",
    "\n",
    "model_dtr = DecisionTreeRegressor(**grid_dtr.best_params_, random_state=42)\n",
    "model_dtr.fit(X_train_new, y_train)\n",
    "end_time = time.time()\n",
    "train_time_dtr = end_time - start_time\n",
    "print('Время обучения DecisionTreeRegressor:', round((train_time_dtr), 3), 'секунд')"
   ]
  },
  {
   "cell_type": "code",
   "execution_count": 43,
   "metadata": {},
   "outputs": [
    {
     "name": "stdout",
     "output_type": "stream",
     "text": [
      "Время предсказания DecisionTreeRegressor на тестовой выборке: 0.041 секунд\n"
     ]
    }
   ],
   "source": [
    "start_time = time.time()\n",
    "predict_valid_dtr = model_dtr.predict(X_test_new)\n",
    "end_time = time.time()\n",
    "predict_time_dtr = end_time - start_time\n",
    "#rmse_dtr = round(mean_squared_error(y_val, predict_valid_dtr) ** 0.5, 2)\n",
    "#print('RMSE DecisionTreeRegressor на валидационной выборке:', rmse_dtr)\n",
    "print('Время предсказания DecisionTreeRegressor на тестовой выборке:', round((predict_time_dtr), 3), 'секунд')"
   ]
  },
  {
   "cell_type": "markdown",
   "metadata": {},
   "source": [
    "### LinearRegression"
   ]
  },
  {
   "cell_type": "code",
   "execution_count": 44,
   "metadata": {},
   "outputs": [
    {
     "name": "stdout",
     "output_type": "stream",
     "text": [
      "RMSE LinearRegression() на обучающей выборке: 2820.4209077373393\n",
      "CPU times: total: 8.7 s\n",
      "Wall time: 5.23 s\n"
     ]
    }
   ],
   "source": [
    "%%time\n",
    "\n",
    "model_lr = LinearRegression()\n",
    "grid_lr = GridSearchCV(model_lr, parameters_lr, cv = 3, scoring=score)\n",
    "grid_lr.fit(X_train_new, y_train)\n",
    "rmse_lr = abs(grid_lr.best_score_)\n",
    "print('RMSE LinearRegression() на обучающей выборке:', rmse_lr)"
   ]
  },
  {
   "cell_type": "code",
   "execution_count": 45,
   "metadata": {},
   "outputs": [
    {
     "data": {
      "text/plain": [
       "{'fit_intercept': True, 'n_jobs': 1}"
      ]
     },
     "execution_count": 45,
     "metadata": {},
     "output_type": "execute_result"
    }
   ],
   "source": [
    "grid_lr.best_params_"
   ]
  },
  {
   "cell_type": "code",
   "execution_count": 46,
   "metadata": {},
   "outputs": [
    {
     "name": "stdout",
     "output_type": "stream",
     "text": [
      "Время обучения LinearRegression: 0.575 секунд\n"
     ]
    }
   ],
   "source": [
    "start_time = time.time()\n",
    "model_lr = LinearRegression(**grid_lr.best_params_)\n",
    "model_lr.fit(X_train_new, y_train)\n",
    "end_time = time.time()\n",
    "train_time_lr = end_time - start_time\n",
    "print('Время обучения LinearRegression:', round((train_time_lr), 3), 'секунд')"
   ]
  },
  {
   "cell_type": "code",
   "execution_count": 47,
   "metadata": {},
   "outputs": [
    {
     "name": "stdout",
     "output_type": "stream",
     "text": [
      "Время предсказания LinearRegression на тестовой выборке: 0.011 секунд\n"
     ]
    }
   ],
   "source": [
    "start_time = time.time()\n",
    "predict_valid_lr = model_lr.predict(X_test_new)\n",
    "end_time = time.time()\n",
    "predict_time_lr = end_time - start_time\n",
    "#rmse_lr = round(mean_squared_error(y_val, predict_valid_lr) ** 0.5, 2)\n",
    "#print('RMSE LinearRegression на валидационной выборке:', rmse_lr)\n",
    "print('Время предсказания LinearRegression на тестовой выборке:', round((predict_time_lr), 3), 'секунд')"
   ]
  },
  {
   "cell_type": "markdown",
   "metadata": {},
   "source": [
    "### CatBoostRegressor"
   ]
  },
  {
   "cell_type": "code",
   "execution_count": 48,
   "metadata": {},
   "outputs": [
    {
     "name": "stdout",
     "output_type": "stream",
     "text": [
      "0:\tlearn: 4328.8528546\ttotal: 361ms\tremaining: 1m 11s\n",
      "1:\tlearn: 4197.5124523\ttotal: 488ms\tremaining: 48.4s\n",
      "2:\tlearn: 4076.1203758\ttotal: 660ms\tremaining: 43.4s\n",
      "3:\tlearn: 3960.8787549\ttotal: 812ms\tremaining: 39.8s\n",
      "4:\tlearn: 3854.0063953\ttotal: 1000ms\tremaining: 39s\n",
      "5:\tlearn: 3751.0169217\ttotal: 1.19s\tremaining: 38.4s\n",
      "6:\tlearn: 3654.2365089\ttotal: 1.35s\tremaining: 37.3s\n",
      "7:\tlearn: 3561.5122089\ttotal: 1.52s\tremaining: 36.5s\n",
      "8:\tlearn: 3473.7940043\ttotal: 1.67s\tremaining: 35.5s\n",
      "9:\tlearn: 3387.9987272\ttotal: 1.81s\tremaining: 34.5s\n",
      "10:\tlearn: 3312.3556643\ttotal: 1.97s\tremaining: 33.8s\n",
      "11:\tlearn: 3238.5372594\ttotal: 2.13s\tremaining: 33.3s\n",
      "12:\tlearn: 3169.2190631\ttotal: 2.27s\tremaining: 32.6s\n",
      "13:\tlearn: 3104.2364597\ttotal: 2.42s\tremaining: 32.2s\n",
      "14:\tlearn: 3043.7589822\ttotal: 2.58s\tremaining: 31.8s\n",
      "15:\tlearn: 2987.3799233\ttotal: 2.71s\tremaining: 31.2s\n",
      "16:\tlearn: 2934.8679007\ttotal: 2.87s\tremaining: 30.9s\n",
      "17:\tlearn: 2882.4159687\ttotal: 3.02s\tremaining: 30.5s\n",
      "18:\tlearn: 2835.8700769\ttotal: 3.17s\tremaining: 30.2s\n",
      "19:\tlearn: 2793.0765769\ttotal: 3.33s\tremaining: 29.9s\n",
      "20:\tlearn: 2751.5600095\ttotal: 3.48s\tremaining: 29.7s\n",
      "21:\tlearn: 2712.2847446\ttotal: 3.61s\tremaining: 29.2s\n",
      "22:\tlearn: 2673.4815445\ttotal: 3.77s\tremaining: 29s\n",
      "23:\tlearn: 2637.8101952\ttotal: 3.92s\tremaining: 28.7s\n",
      "24:\tlearn: 2606.1991028\ttotal: 4.06s\tremaining: 28.4s\n",
      "25:\tlearn: 2575.8061927\ttotal: 4.18s\tremaining: 28s\n",
      "26:\tlearn: 2545.9392005\ttotal: 4.32s\tremaining: 27.7s\n",
      "27:\tlearn: 2516.4358606\ttotal: 4.46s\tremaining: 27.4s\n",
      "28:\tlearn: 2489.8199423\ttotal: 4.62s\tremaining: 27.2s\n",
      "29:\tlearn: 2465.5746011\ttotal: 4.77s\tremaining: 27s\n",
      "30:\tlearn: 2440.3546161\ttotal: 4.92s\tremaining: 26.8s\n",
      "31:\tlearn: 2418.0246850\ttotal: 5.08s\tremaining: 26.7s\n",
      "32:\tlearn: 2393.6574325\ttotal: 5.24s\tremaining: 26.5s\n",
      "33:\tlearn: 2372.5713610\ttotal: 5.39s\tremaining: 26.3s\n",
      "34:\tlearn: 2351.5640160\ttotal: 5.54s\tremaining: 26.1s\n",
      "35:\tlearn: 2329.3291551\ttotal: 5.64s\tremaining: 25.7s\n",
      "36:\tlearn: 2307.9489033\ttotal: 5.79s\tremaining: 25.5s\n",
      "37:\tlearn: 2289.7809298\ttotal: 5.98s\tremaining: 25.5s\n",
      "38:\tlearn: 2270.4123176\ttotal: 6.11s\tremaining: 25.2s\n",
      "39:\tlearn: 2253.1201589\ttotal: 6.22s\tremaining: 24.9s\n",
      "40:\tlearn: 2237.9129782\ttotal: 6.37s\tremaining: 24.7s\n",
      "41:\tlearn: 2222.1816961\ttotal: 6.52s\tremaining: 24.5s\n",
      "42:\tlearn: 2207.0373296\ttotal: 6.64s\tremaining: 24.3s\n",
      "43:\tlearn: 2192.0910340\ttotal: 6.78s\tremaining: 24s\n",
      "44:\tlearn: 2179.2575271\ttotal: 6.92s\tremaining: 23.8s\n",
      "45:\tlearn: 2167.7737684\ttotal: 7.04s\tremaining: 23.6s\n",
      "46:\tlearn: 2154.8688433\ttotal: 7.17s\tremaining: 23.4s\n",
      "47:\tlearn: 2142.5334213\ttotal: 7.29s\tremaining: 23.1s\n",
      "48:\tlearn: 2131.4984427\ttotal: 7.45s\tremaining: 23s\n",
      "49:\tlearn: 2120.3064478\ttotal: 7.59s\tremaining: 22.8s\n",
      "50:\tlearn: 2111.0872600\ttotal: 7.78s\tremaining: 22.7s\n",
      "51:\tlearn: 2101.5567459\ttotal: 8s\tremaining: 22.8s\n",
      "52:\tlearn: 2092.3150908\ttotal: 8.17s\tremaining: 22.7s\n",
      "53:\tlearn: 2084.0610639\ttotal: 8.37s\tremaining: 22.6s\n",
      "54:\tlearn: 2076.0745757\ttotal: 8.52s\tremaining: 22.5s\n",
      "55:\tlearn: 2066.3330863\ttotal: 8.78s\tremaining: 22.6s\n",
      "56:\tlearn: 2058.2141522\ttotal: 8.93s\tremaining: 22.4s\n",
      "57:\tlearn: 2050.1419320\ttotal: 9.03s\tremaining: 22.1s\n",
      "58:\tlearn: 2042.2443278\ttotal: 9.21s\tremaining: 22s\n",
      "59:\tlearn: 2035.3506262\ttotal: 9.41s\tremaining: 22s\n",
      "60:\tlearn: 2028.4936235\ttotal: 9.56s\tremaining: 21.8s\n",
      "61:\tlearn: 2022.0116335\ttotal: 9.7s\tremaining: 21.6s\n",
      "62:\tlearn: 2016.4765435\ttotal: 9.84s\tremaining: 21.4s\n",
      "63:\tlearn: 2010.8686672\ttotal: 9.98s\tremaining: 21.2s\n",
      "64:\tlearn: 2005.2072092\ttotal: 10.1s\tremaining: 21s\n",
      "65:\tlearn: 2000.3104153\ttotal: 10.2s\tremaining: 20.8s\n",
      "66:\tlearn: 1995.5660022\ttotal: 10.4s\tremaining: 20.6s\n",
      "67:\tlearn: 1991.2176677\ttotal: 10.6s\tremaining: 20.5s\n",
      "68:\tlearn: 1986.2241681\ttotal: 10.7s\tremaining: 20.3s\n",
      "69:\tlearn: 1982.2427287\ttotal: 10.9s\tremaining: 20.2s\n",
      "70:\tlearn: 1978.3671189\ttotal: 11s\tremaining: 20s\n",
      "71:\tlearn: 1974.5422305\ttotal: 11.1s\tremaining: 19.7s\n",
      "72:\tlearn: 1971.0131584\ttotal: 11.2s\tremaining: 19.6s\n",
      "73:\tlearn: 1968.0406777\ttotal: 11.4s\tremaining: 19.4s\n",
      "74:\tlearn: 1965.1382005\ttotal: 11.5s\tremaining: 19.2s\n",
      "75:\tlearn: 1962.3726211\ttotal: 11.7s\tremaining: 19s\n",
      "76:\tlearn: 1959.4458559\ttotal: 11.8s\tremaining: 18.8s\n",
      "77:\tlearn: 1956.4876882\ttotal: 11.9s\tremaining: 18.7s\n",
      "78:\tlearn: 1953.7541544\ttotal: 12.1s\tremaining: 18.5s\n",
      "79:\tlearn: 1951.0759200\ttotal: 12.3s\tremaining: 18.4s\n",
      "80:\tlearn: 1947.7907881\ttotal: 12.4s\tremaining: 18.2s\n",
      "81:\tlearn: 1945.0153986\ttotal: 12.5s\tremaining: 18s\n",
      "82:\tlearn: 1942.6735751\ttotal: 12.6s\tremaining: 17.8s\n",
      "83:\tlearn: 1939.8573284\ttotal: 12.8s\tremaining: 17.7s\n",
      "84:\tlearn: 1937.0765587\ttotal: 13s\tremaining: 17.5s\n",
      "85:\tlearn: 1934.4663450\ttotal: 13.1s\tremaining: 17.4s\n",
      "86:\tlearn: 1932.0070048\ttotal: 13.3s\tremaining: 17.2s\n",
      "87:\tlearn: 1929.9358416\ttotal: 13.4s\tremaining: 17.1s\n",
      "88:\tlearn: 1927.8735653\ttotal: 13.6s\tremaining: 16.9s\n",
      "89:\tlearn: 1926.2368188\ttotal: 13.7s\tremaining: 16.8s\n",
      "90:\tlearn: 1923.2278136\ttotal: 13.9s\tremaining: 16.7s\n",
      "91:\tlearn: 1920.6969535\ttotal: 14.1s\tremaining: 16.5s\n",
      "92:\tlearn: 1918.9285139\ttotal: 14.3s\tremaining: 16.4s\n",
      "93:\tlearn: 1916.7906173\ttotal: 14.5s\tremaining: 16.3s\n",
      "94:\tlearn: 1914.6622736\ttotal: 14.6s\tremaining: 16.2s\n",
      "95:\tlearn: 1911.4715401\ttotal: 14.8s\tremaining: 16s\n",
      "96:\tlearn: 1909.6041233\ttotal: 14.9s\tremaining: 15.9s\n",
      "97:\tlearn: 1907.0070402\ttotal: 15.1s\tremaining: 15.7s\n",
      "98:\tlearn: 1904.6717903\ttotal: 15.3s\tremaining: 15.6s\n",
      "99:\tlearn: 1901.7285828\ttotal: 15.4s\tremaining: 15.4s\n",
      "100:\tlearn: 1899.3530361\ttotal: 15.6s\tremaining: 15.3s\n",
      "101:\tlearn: 1897.5239106\ttotal: 15.8s\tremaining: 15.2s\n",
      "102:\tlearn: 1895.0696214\ttotal: 15.9s\tremaining: 15s\n",
      "103:\tlearn: 1893.2568459\ttotal: 16s\tremaining: 14.8s\n",
      "104:\tlearn: 1891.6816306\ttotal: 16.2s\tremaining: 14.7s\n",
      "105:\tlearn: 1890.3194872\ttotal: 16.4s\tremaining: 14.5s\n",
      "106:\tlearn: 1888.9485319\ttotal: 16.5s\tremaining: 14.4s\n",
      "107:\tlearn: 1887.3429101\ttotal: 16.7s\tremaining: 14.2s\n",
      "108:\tlearn: 1884.3215669\ttotal: 16.9s\tremaining: 14.1s\n",
      "109:\tlearn: 1882.8841162\ttotal: 17s\tremaining: 13.9s\n",
      "110:\tlearn: 1879.7602223\ttotal: 17.2s\tremaining: 13.8s\n",
      "111:\tlearn: 1877.6369738\ttotal: 17.3s\tremaining: 13.6s\n",
      "112:\tlearn: 1875.5712921\ttotal: 17.5s\tremaining: 13.5s\n",
      "113:\tlearn: 1873.7169604\ttotal: 17.6s\tremaining: 13.3s\n",
      "114:\tlearn: 1872.5291713\ttotal: 17.8s\tremaining: 13.2s\n",
      "115:\tlearn: 1871.3159470\ttotal: 17.9s\tremaining: 13s\n",
      "116:\tlearn: 1868.5945260\ttotal: 18.1s\tremaining: 12.9s\n",
      "117:\tlearn: 1867.1921180\ttotal: 18.3s\tremaining: 12.7s\n",
      "118:\tlearn: 1865.5900376\ttotal: 18.5s\tremaining: 12.6s\n",
      "119:\tlearn: 1863.9580462\ttotal: 18.6s\tremaining: 12.4s\n",
      "120:\tlearn: 1860.9696670\ttotal: 18.8s\tremaining: 12.2s\n",
      "121:\tlearn: 1858.7307741\ttotal: 18.9s\tremaining: 12.1s\n",
      "122:\tlearn: 1856.5298193\ttotal: 19.1s\tremaining: 11.9s\n",
      "123:\tlearn: 1855.1808134\ttotal: 19.2s\tremaining: 11.8s\n",
      "124:\tlearn: 1853.2703188\ttotal: 19.4s\tremaining: 11.6s\n",
      "125:\tlearn: 1851.7548312\ttotal: 19.5s\tremaining: 11.5s\n",
      "126:\tlearn: 1850.2915707\ttotal: 19.7s\tremaining: 11.3s\n",
      "127:\tlearn: 1847.9840001\ttotal: 19.8s\tremaining: 11.2s\n",
      "128:\tlearn: 1846.9504683\ttotal: 20s\tremaining: 11s\n",
      "129:\tlearn: 1845.5041242\ttotal: 20.1s\tremaining: 10.8s\n",
      "130:\tlearn: 1844.4204769\ttotal: 20.3s\tremaining: 10.7s\n",
      "131:\tlearn: 1843.2119896\ttotal: 20.4s\tremaining: 10.5s\n",
      "132:\tlearn: 1841.5340293\ttotal: 20.6s\tremaining: 10.4s\n",
      "133:\tlearn: 1840.5597732\ttotal: 20.7s\tremaining: 10.2s\n",
      "134:\tlearn: 1839.2996526\ttotal: 20.9s\tremaining: 10.1s\n",
      "135:\tlearn: 1837.4393609\ttotal: 21s\tremaining: 9.89s\n",
      "136:\tlearn: 1835.4211675\ttotal: 21.2s\tremaining: 9.74s\n",
      "137:\tlearn: 1834.3994516\ttotal: 21.3s\tremaining: 9.59s\n",
      "138:\tlearn: 1832.8746886\ttotal: 21.5s\tremaining: 9.43s\n",
      "139:\tlearn: 1832.1663764\ttotal: 21.6s\tremaining: 9.27s\n",
      "140:\tlearn: 1830.1752645\ttotal: 21.8s\tremaining: 9.12s\n",
      "141:\tlearn: 1828.7288084\ttotal: 21.9s\tremaining: 8.96s\n",
      "142:\tlearn: 1827.8337875\ttotal: 22.1s\tremaining: 8.8s\n",
      "143:\tlearn: 1827.0059887\ttotal: 22.3s\tremaining: 8.65s\n",
      "144:\tlearn: 1826.2431478\ttotal: 22.4s\tremaining: 8.5s\n",
      "145:\tlearn: 1825.2650773\ttotal: 22.6s\tremaining: 8.35s\n",
      "146:\tlearn: 1824.6310369\ttotal: 22.7s\tremaining: 8.2s\n",
      "147:\tlearn: 1823.5111186\ttotal: 22.9s\tremaining: 8.05s\n",
      "148:\tlearn: 1821.7308559\ttotal: 23s\tremaining: 7.88s\n",
      "149:\tlearn: 1820.8714329\ttotal: 23.2s\tremaining: 7.73s\n",
      "150:\tlearn: 1820.0119052\ttotal: 23.3s\tremaining: 7.58s\n",
      "151:\tlearn: 1818.5979068\ttotal: 23.5s\tremaining: 7.42s\n",
      "152:\tlearn: 1817.5344961\ttotal: 23.6s\tremaining: 7.26s\n"
     ]
    },
    {
     "name": "stdout",
     "output_type": "stream",
     "text": [
      "153:\tlearn: 1815.7912883\ttotal: 23.8s\tremaining: 7.11s\n",
      "154:\tlearn: 1814.6514731\ttotal: 23.9s\tremaining: 6.95s\n",
      "155:\tlearn: 1813.3268168\ttotal: 24.1s\tremaining: 6.8s\n",
      "156:\tlearn: 1812.2628855\ttotal: 24.2s\tremaining: 6.64s\n",
      "157:\tlearn: 1811.6129841\ttotal: 24.4s\tremaining: 6.49s\n",
      "158:\tlearn: 1810.4203427\ttotal: 24.6s\tremaining: 6.34s\n",
      "159:\tlearn: 1809.5778385\ttotal: 24.7s\tremaining: 6.18s\n",
      "160:\tlearn: 1808.0601855\ttotal: 24.9s\tremaining: 6.02s\n",
      "161:\tlearn: 1806.6887534\ttotal: 25s\tremaining: 5.86s\n",
      "162:\tlearn: 1806.0306320\ttotal: 25.2s\tremaining: 5.71s\n",
      "163:\tlearn: 1804.3912690\ttotal: 25.3s\tremaining: 5.55s\n",
      "164:\tlearn: 1803.5068021\ttotal: 25.5s\tremaining: 5.4s\n",
      "165:\tlearn: 1801.9441001\ttotal: 25.6s\tremaining: 5.24s\n",
      "166:\tlearn: 1800.8433799\ttotal: 25.7s\tremaining: 5.07s\n",
      "167:\tlearn: 1799.7480635\ttotal: 25.8s\tremaining: 4.92s\n",
      "168:\tlearn: 1798.6418176\ttotal: 26s\tremaining: 4.76s\n",
      "169:\tlearn: 1798.0597213\ttotal: 26.1s\tremaining: 4.6s\n",
      "170:\tlearn: 1796.9607449\ttotal: 26.2s\tremaining: 4.44s\n",
      "171:\tlearn: 1795.5177914\ttotal: 26.3s\tremaining: 4.29s\n",
      "172:\tlearn: 1794.2756995\ttotal: 26.5s\tremaining: 4.13s\n",
      "173:\tlearn: 1793.5480777\ttotal: 26.6s\tremaining: 3.98s\n",
      "174:\tlearn: 1792.0574890\ttotal: 26.7s\tremaining: 3.82s\n",
      "175:\tlearn: 1790.4315453\ttotal: 26.9s\tremaining: 3.66s\n",
      "176:\tlearn: 1789.7047278\ttotal: 27s\tremaining: 3.51s\n",
      "177:\tlearn: 1788.2832532\ttotal: 27.2s\tremaining: 3.36s\n",
      "178:\tlearn: 1786.9429266\ttotal: 27.4s\tremaining: 3.22s\n",
      "179:\tlearn: 1785.3474046\ttotal: 27.6s\tremaining: 3.07s\n",
      "180:\tlearn: 1784.5793940\ttotal: 27.8s\tremaining: 2.92s\n",
      "181:\tlearn: 1783.5309024\ttotal: 27.9s\tremaining: 2.76s\n",
      "182:\tlearn: 1782.5212314\ttotal: 28.1s\tremaining: 2.6s\n",
      "183:\tlearn: 1781.6190546\ttotal: 28.2s\tremaining: 2.45s\n",
      "184:\tlearn: 1781.1302905\ttotal: 28.4s\tremaining: 2.3s\n",
      "185:\tlearn: 1780.2671006\ttotal: 28.5s\tremaining: 2.15s\n",
      "186:\tlearn: 1779.6613691\ttotal: 28.6s\tremaining: 1.99s\n",
      "187:\tlearn: 1779.0759665\ttotal: 28.9s\tremaining: 1.84s\n",
      "188:\tlearn: 1778.2976880\ttotal: 29s\tremaining: 1.69s\n",
      "189:\tlearn: 1777.8487148\ttotal: 29.2s\tremaining: 1.54s\n",
      "190:\tlearn: 1776.4857060\ttotal: 29.4s\tremaining: 1.38s\n",
      "191:\tlearn: 1776.0274131\ttotal: 29.5s\tremaining: 1.23s\n",
      "192:\tlearn: 1775.2051245\ttotal: 29.7s\tremaining: 1.08s\n",
      "193:\tlearn: 1774.4938802\ttotal: 29.9s\tremaining: 926ms\n",
      "194:\tlearn: 1773.8991454\ttotal: 30.1s\tremaining: 772ms\n",
      "195:\tlearn: 1773.0034730\ttotal: 30.2s\tremaining: 617ms\n",
      "196:\tlearn: 1771.9012252\ttotal: 30.4s\tremaining: 463ms\n",
      "197:\tlearn: 1771.2509059\ttotal: 30.6s\tremaining: 309ms\n",
      "198:\tlearn: 1770.5830068\ttotal: 30.7s\tremaining: 154ms\n",
      "199:\tlearn: 1769.7274051\ttotal: 30.9s\tremaining: 0us\n",
      "0:\tlearn: 4335.6061715\ttotal: 171ms\tremaining: 34s\n",
      "1:\tlearn: 4203.0132835\ttotal: 301ms\tremaining: 29.8s\n",
      "2:\tlearn: 4081.2220560\ttotal: 471ms\tremaining: 30.9s\n",
      "3:\tlearn: 3963.4328637\ttotal: 620ms\tremaining: 30.4s\n",
      "4:\tlearn: 3855.0257822\ttotal: 761ms\tremaining: 29.7s\n",
      "5:\tlearn: 3753.2464027\ttotal: 899ms\tremaining: 29.1s\n",
      "6:\tlearn: 3655.7976939\ttotal: 1.1s\tremaining: 30.3s\n",
      "7:\tlearn: 3565.1521388\ttotal: 1.25s\tremaining: 29.9s\n",
      "8:\tlearn: 3475.8733518\ttotal: 1.4s\tremaining: 29.8s\n",
      "9:\tlearn: 3392.1798915\ttotal: 1.53s\tremaining: 29.1s\n",
      "10:\tlearn: 3314.4315079\ttotal: 1.69s\tremaining: 29.1s\n",
      "11:\tlearn: 3239.6861188\ttotal: 1.84s\tremaining: 28.8s\n",
      "12:\tlearn: 3174.9908984\ttotal: 1.99s\tremaining: 28.6s\n",
      "13:\tlearn: 3108.5635214\ttotal: 2.16s\tremaining: 28.7s\n",
      "14:\tlearn: 3048.6878526\ttotal: 2.33s\tremaining: 28.8s\n",
      "15:\tlearn: 2992.2405393\ttotal: 2.57s\tremaining: 29.5s\n",
      "16:\tlearn: 2938.4590609\ttotal: 2.75s\tremaining: 29.6s\n",
      "17:\tlearn: 2891.0203454\ttotal: 2.96s\tremaining: 29.9s\n",
      "18:\tlearn: 2844.3023651\ttotal: 3.13s\tremaining: 29.8s\n",
      "19:\tlearn: 2801.0490787\ttotal: 3.33s\tremaining: 30s\n",
      "20:\tlearn: 2758.2053959\ttotal: 3.5s\tremaining: 29.9s\n",
      "21:\tlearn: 2718.0325413\ttotal: 3.66s\tremaining: 29.6s\n",
      "22:\tlearn: 2679.9213786\ttotal: 3.83s\tremaining: 29.5s\n",
      "23:\tlearn: 2643.2767396\ttotal: 3.98s\tremaining: 29.2s\n",
      "24:\tlearn: 2610.5618041\ttotal: 4.14s\tremaining: 29s\n",
      "25:\tlearn: 2578.3719144\ttotal: 4.32s\tremaining: 28.9s\n",
      "26:\tlearn: 2547.0685815\ttotal: 4.46s\tremaining: 28.6s\n",
      "27:\tlearn: 2517.9823952\ttotal: 4.62s\tremaining: 28.4s\n",
      "28:\tlearn: 2491.8413723\ttotal: 4.74s\tremaining: 28s\n",
      "29:\tlearn: 2465.0319357\ttotal: 4.91s\tremaining: 27.8s\n",
      "30:\tlearn: 2439.8663848\ttotal: 5.06s\tremaining: 27.6s\n",
      "31:\tlearn: 2412.4563872\ttotal: 5.21s\tremaining: 27.3s\n",
      "32:\tlearn: 2386.1818375\ttotal: 5.32s\tremaining: 26.9s\n",
      "33:\tlearn: 2363.1315496\ttotal: 5.44s\tremaining: 26.6s\n",
      "34:\tlearn: 2342.0126262\ttotal: 5.58s\tremaining: 26.3s\n",
      "35:\tlearn: 2321.2922301\ttotal: 5.74s\tremaining: 26.1s\n",
      "36:\tlearn: 2302.4586573\ttotal: 5.88s\tremaining: 25.9s\n",
      "37:\tlearn: 2283.5278046\ttotal: 6.04s\tremaining: 25.7s\n",
      "38:\tlearn: 2265.6020123\ttotal: 6.15s\tremaining: 25.4s\n",
      "39:\tlearn: 2249.5971185\ttotal: 6.3s\tremaining: 25.2s\n",
      "40:\tlearn: 2234.1127793\ttotal: 6.45s\tremaining: 25s\n",
      "41:\tlearn: 2218.3764489\ttotal: 6.6s\tremaining: 24.8s\n",
      "42:\tlearn: 2204.7403395\ttotal: 6.76s\tremaining: 24.7s\n",
      "43:\tlearn: 2190.2916622\ttotal: 6.93s\tremaining: 24.6s\n",
      "44:\tlearn: 2178.8290842\ttotal: 7.11s\tremaining: 24.5s\n",
      "45:\tlearn: 2166.3943072\ttotal: 7.26s\tremaining: 24.3s\n",
      "46:\tlearn: 2155.6674795\ttotal: 7.41s\tremaining: 24.1s\n",
      "47:\tlearn: 2144.3435252\ttotal: 7.58s\tremaining: 24s\n",
      "48:\tlearn: 2134.2706398\ttotal: 7.7s\tremaining: 23.7s\n",
      "49:\tlearn: 2123.0346777\ttotal: 7.85s\tremaining: 23.5s\n",
      "50:\tlearn: 2112.3678798\ttotal: 7.99s\tremaining: 23.3s\n",
      "51:\tlearn: 2101.7805471\ttotal: 8.15s\tremaining: 23.2s\n",
      "52:\tlearn: 2091.1835959\ttotal: 8.34s\tremaining: 23.1s\n",
      "53:\tlearn: 2081.2006236\ttotal: 8.51s\tremaining: 23s\n",
      "54:\tlearn: 2072.3094132\ttotal: 8.65s\tremaining: 22.8s\n",
      "55:\tlearn: 2063.7713764\ttotal: 8.83s\tremaining: 22.7s\n",
      "56:\tlearn: 2055.6360760\ttotal: 8.95s\tremaining: 22.5s\n",
      "57:\tlearn: 2047.9782738\ttotal: 9.12s\tremaining: 22.3s\n",
      "58:\tlearn: 2041.0481865\ttotal: 9.27s\tremaining: 22.1s\n",
      "59:\tlearn: 2033.1235305\ttotal: 9.41s\tremaining: 22s\n",
      "60:\tlearn: 2027.0038943\ttotal: 9.58s\tremaining: 21.8s\n",
      "61:\tlearn: 2021.1851990\ttotal: 9.77s\tremaining: 21.7s\n",
      "62:\tlearn: 2015.4490850\ttotal: 9.92s\tremaining: 21.6s\n",
      "63:\tlearn: 2010.6708490\ttotal: 10.1s\tremaining: 21.4s\n",
      "64:\tlearn: 2005.0830219\ttotal: 10.2s\tremaining: 21.2s\n",
      "65:\tlearn: 2000.3463856\ttotal: 10.4s\tremaining: 21s\n",
      "66:\tlearn: 1995.8741449\ttotal: 10.5s\tremaining: 20.9s\n",
      "67:\tlearn: 1991.3601052\ttotal: 10.7s\tremaining: 20.7s\n",
      "68:\tlearn: 1986.4141343\ttotal: 10.8s\tremaining: 20.5s\n",
      "69:\tlearn: 1981.9666101\ttotal: 10.9s\tremaining: 20.3s\n",
      "70:\tlearn: 1977.9688297\ttotal: 11.1s\tremaining: 20.1s\n",
      "71:\tlearn: 1974.3766489\ttotal: 11.2s\tremaining: 19.9s\n",
      "72:\tlearn: 1971.0874657\ttotal: 11.3s\tremaining: 19.7s\n",
      "73:\tlearn: 1966.6406664\ttotal: 11.5s\tremaining: 19.6s\n",
      "74:\tlearn: 1963.7122583\ttotal: 11.6s\tremaining: 19.4s\n",
      "75:\tlearn: 1959.7870793\ttotal: 11.8s\tremaining: 19.2s\n",
      "76:\tlearn: 1956.7955380\ttotal: 11.9s\tremaining: 19s\n",
      "77:\tlearn: 1953.6168194\ttotal: 12.1s\tremaining: 18.9s\n",
      "78:\tlearn: 1950.0537053\ttotal: 12.2s\tremaining: 18.7s\n",
      "79:\tlearn: 1946.2192527\ttotal: 12.4s\tremaining: 18.5s\n",
      "80:\tlearn: 1943.0904201\ttotal: 12.5s\tremaining: 18.4s\n",
      "81:\tlearn: 1940.1051451\ttotal: 12.7s\tremaining: 18.2s\n",
      "82:\tlearn: 1937.8288242\ttotal: 12.8s\tremaining: 18s\n",
      "83:\tlearn: 1935.0813220\ttotal: 13s\tremaining: 17.9s\n",
      "84:\tlearn: 1931.1217389\ttotal: 13.1s\tremaining: 17.8s\n",
      "85:\tlearn: 1927.7931497\ttotal: 13.2s\tremaining: 17.5s\n",
      "86:\tlearn: 1925.0456139\ttotal: 13.4s\tremaining: 17.4s\n",
      "87:\tlearn: 1922.0442871\ttotal: 13.5s\tremaining: 17.2s\n",
      "88:\tlearn: 1919.8842055\ttotal: 13.7s\tremaining: 17.1s\n",
      "89:\tlearn: 1918.1918422\ttotal: 13.9s\tremaining: 16.9s\n",
      "90:\tlearn: 1915.7577504\ttotal: 14s\tremaining: 16.8s\n",
      "91:\tlearn: 1913.3238353\ttotal: 14.2s\tremaining: 16.7s\n",
      "92:\tlearn: 1911.4910298\ttotal: 14.3s\tremaining: 16.5s\n",
      "93:\tlearn: 1908.6902215\ttotal: 14.5s\tremaining: 16.4s\n",
      "94:\tlearn: 1906.4481895\ttotal: 14.6s\tremaining: 16.2s\n",
      "95:\tlearn: 1904.2890091\ttotal: 14.8s\tremaining: 16s\n",
      "96:\tlearn: 1902.9190668\ttotal: 15s\tremaining: 15.9s\n",
      "97:\tlearn: 1900.4879820\ttotal: 15.1s\tremaining: 15.7s\n",
      "98:\tlearn: 1898.4284238\ttotal: 15.3s\tremaining: 15.6s\n",
      "99:\tlearn: 1896.1917060\ttotal: 15.4s\tremaining: 15.4s\n",
      "100:\tlearn: 1893.6071432\ttotal: 15.6s\tremaining: 15.3s\n",
      "101:\tlearn: 1892.3384429\ttotal: 15.7s\tremaining: 15.1s\n",
      "102:\tlearn: 1889.7757324\ttotal: 15.9s\tremaining: 15s\n",
      "103:\tlearn: 1887.4555115\ttotal: 16s\tremaining: 14.8s\n",
      "104:\tlearn: 1886.1986050\ttotal: 16.2s\tremaining: 14.6s\n"
     ]
    },
    {
     "name": "stdout",
     "output_type": "stream",
     "text": [
      "105:\tlearn: 1884.8689759\ttotal: 16.3s\tremaining: 14.5s\n",
      "106:\tlearn: 1883.5377947\ttotal: 16.5s\tremaining: 14.3s\n",
      "107:\tlearn: 1881.3301272\ttotal: 16.6s\tremaining: 14.1s\n",
      "108:\tlearn: 1879.5921124\ttotal: 16.7s\tremaining: 14s\n",
      "109:\tlearn: 1877.9195664\ttotal: 16.9s\tremaining: 13.8s\n",
      "110:\tlearn: 1875.8977098\ttotal: 17s\tremaining: 13.7s\n",
      "111:\tlearn: 1874.6154110\ttotal: 17.2s\tremaining: 13.5s\n",
      "112:\tlearn: 1872.1509613\ttotal: 17.3s\tremaining: 13.3s\n",
      "113:\tlearn: 1870.0118985\ttotal: 17.5s\tremaining: 13.2s\n",
      "114:\tlearn: 1868.1777549\ttotal: 17.6s\tremaining: 13s\n",
      "115:\tlearn: 1865.3672305\ttotal: 17.7s\tremaining: 12.8s\n",
      "116:\tlearn: 1863.5399827\ttotal: 17.9s\tremaining: 12.7s\n",
      "117:\tlearn: 1862.1877699\ttotal: 18.1s\tremaining: 12.5s\n",
      "118:\tlearn: 1860.0367856\ttotal: 18.2s\tremaining: 12.4s\n",
      "119:\tlearn: 1858.4942969\ttotal: 18.3s\tremaining: 12.2s\n",
      "120:\tlearn: 1857.3470800\ttotal: 18.4s\tremaining: 12s\n",
      "121:\tlearn: 1855.6067045\ttotal: 18.6s\tremaining: 11.9s\n",
      "122:\tlearn: 1853.0961020\ttotal: 18.8s\tremaining: 11.8s\n",
      "123:\tlearn: 1851.9678164\ttotal: 19s\tremaining: 11.6s\n",
      "124:\tlearn: 1850.1572001\ttotal: 19.1s\tremaining: 11.5s\n",
      "125:\tlearn: 1849.1191737\ttotal: 19.3s\tremaining: 11.3s\n",
      "126:\tlearn: 1848.1225370\ttotal: 19.6s\tremaining: 11.2s\n",
      "127:\tlearn: 1846.6378939\ttotal: 19.8s\tremaining: 11.1s\n",
      "128:\tlearn: 1845.1965626\ttotal: 19.9s\tremaining: 10.9s\n",
      "129:\tlearn: 1844.1739006\ttotal: 20s\tremaining: 10.8s\n",
      "130:\tlearn: 1842.7723774\ttotal: 20.3s\tremaining: 10.7s\n",
      "131:\tlearn: 1841.5153322\ttotal: 20.4s\tremaining: 10.5s\n",
      "132:\tlearn: 1840.5458502\ttotal: 20.6s\tremaining: 10.4s\n",
      "133:\tlearn: 1838.5125734\ttotal: 20.8s\tremaining: 10.2s\n",
      "134:\tlearn: 1836.9846068\ttotal: 20.9s\tremaining: 10.1s\n",
      "135:\tlearn: 1835.9863759\ttotal: 21.1s\tremaining: 9.91s\n",
      "136:\tlearn: 1835.1552535\ttotal: 21.2s\tremaining: 9.76s\n",
      "137:\tlearn: 1832.6362297\ttotal: 21.4s\tremaining: 9.6s\n",
      "138:\tlearn: 1831.1230089\ttotal: 21.6s\tremaining: 9.46s\n",
      "139:\tlearn: 1830.3169414\ttotal: 21.7s\tremaining: 9.31s\n",
      "140:\tlearn: 1829.2770863\ttotal: 21.9s\tremaining: 9.16s\n",
      "141:\tlearn: 1828.2826560\ttotal: 22s\tremaining: 9s\n",
      "142:\tlearn: 1827.0040753\ttotal: 22.2s\tremaining: 8.85s\n",
      "143:\tlearn: 1825.0467149\ttotal: 22.3s\tremaining: 8.68s\n",
      "144:\tlearn: 1823.1991857\ttotal: 22.5s\tremaining: 8.53s\n",
      "145:\tlearn: 1822.3554151\ttotal: 22.6s\tremaining: 8.37s\n",
      "146:\tlearn: 1821.3211742\ttotal: 22.8s\tremaining: 8.22s\n",
      "147:\tlearn: 1819.6032388\ttotal: 22.9s\tremaining: 8.06s\n",
      "148:\tlearn: 1818.6533528\ttotal: 23.1s\tremaining: 7.92s\n",
      "149:\tlearn: 1817.4513630\ttotal: 23.3s\tremaining: 7.77s\n",
      "150:\tlearn: 1816.8218557\ttotal: 23.5s\tremaining: 7.62s\n",
      "151:\tlearn: 1815.6677845\ttotal: 23.6s\tremaining: 7.46s\n",
      "152:\tlearn: 1815.0247166\ttotal: 23.8s\tremaining: 7.3s\n",
      "153:\tlearn: 1813.8432043\ttotal: 23.9s\tremaining: 7.15s\n",
      "154:\tlearn: 1812.5306464\ttotal: 24.1s\tremaining: 6.99s\n",
      "155:\tlearn: 1811.3076336\ttotal: 24.2s\tremaining: 6.84s\n",
      "156:\tlearn: 1810.4873052\ttotal: 24.4s\tremaining: 6.68s\n",
      "157:\tlearn: 1809.2487751\ttotal: 24.5s\tremaining: 6.52s\n",
      "158:\tlearn: 1808.4344159\ttotal: 24.7s\tremaining: 6.37s\n",
      "159:\tlearn: 1807.1566991\ttotal: 24.8s\tremaining: 6.21s\n",
      "160:\tlearn: 1806.3681455\ttotal: 25s\tremaining: 6.05s\n",
      "161:\tlearn: 1805.0735861\ttotal: 25.1s\tremaining: 5.89s\n",
      "162:\tlearn: 1804.1566864\ttotal: 25.3s\tremaining: 5.74s\n",
      "163:\tlearn: 1802.6523697\ttotal: 25.4s\tremaining: 5.58s\n",
      "164:\tlearn: 1801.5380284\ttotal: 25.6s\tremaining: 5.43s\n",
      "165:\tlearn: 1800.6627688\ttotal: 25.8s\tremaining: 5.28s\n",
      "166:\tlearn: 1799.7567133\ttotal: 25.9s\tremaining: 5.12s\n",
      "167:\tlearn: 1798.2104420\ttotal: 26.1s\tremaining: 4.96s\n",
      "168:\tlearn: 1797.4866357\ttotal: 26.2s\tremaining: 4.81s\n",
      "169:\tlearn: 1796.5149119\ttotal: 26.4s\tremaining: 4.66s\n",
      "170:\tlearn: 1795.4930998\ttotal: 26.5s\tremaining: 4.5s\n",
      "171:\tlearn: 1794.3647893\ttotal: 26.7s\tremaining: 4.34s\n",
      "172:\tlearn: 1793.6527859\ttotal: 26.8s\tremaining: 4.19s\n",
      "173:\tlearn: 1792.9222728\ttotal: 27s\tremaining: 4.03s\n",
      "174:\tlearn: 1791.6801415\ttotal: 27.1s\tremaining: 3.88s\n",
      "175:\tlearn: 1790.8962473\ttotal: 27.3s\tremaining: 3.72s\n",
      "176:\tlearn: 1790.0775386\ttotal: 27.5s\tremaining: 3.57s\n",
      "177:\tlearn: 1788.7325587\ttotal: 27.6s\tremaining: 3.41s\n",
      "178:\tlearn: 1788.1332165\ttotal: 27.7s\tremaining: 3.25s\n",
      "179:\tlearn: 1787.6211046\ttotal: 27.9s\tremaining: 3.1s\n",
      "180:\tlearn: 1786.8342041\ttotal: 28.1s\tremaining: 2.94s\n",
      "181:\tlearn: 1786.2963988\ttotal: 28.2s\tremaining: 2.79s\n",
      "182:\tlearn: 1785.6097173\ttotal: 28.4s\tremaining: 2.64s\n",
      "183:\tlearn: 1784.9020119\ttotal: 28.5s\tremaining: 2.48s\n",
      "184:\tlearn: 1783.4634094\ttotal: 28.7s\tremaining: 2.33s\n",
      "185:\tlearn: 1782.1313163\ttotal: 28.8s\tremaining: 2.17s\n",
      "186:\tlearn: 1781.4873412\ttotal: 29s\tremaining: 2.02s\n",
      "187:\tlearn: 1780.4438334\ttotal: 29.1s\tremaining: 1.86s\n",
      "188:\tlearn: 1779.7687480\ttotal: 29.3s\tremaining: 1.7s\n",
      "189:\tlearn: 1778.9325771\ttotal: 29.4s\tremaining: 1.55s\n",
      "190:\tlearn: 1778.3483554\ttotal: 29.6s\tremaining: 1.39s\n",
      "191:\tlearn: 1777.6284646\ttotal: 29.7s\tremaining: 1.24s\n",
      "192:\tlearn: 1777.1667705\ttotal: 29.9s\tremaining: 1.08s\n",
      "193:\tlearn: 1776.3508322\ttotal: 30s\tremaining: 928ms\n",
      "194:\tlearn: 1775.7424015\ttotal: 30.2s\tremaining: 774ms\n",
      "195:\tlearn: 1774.7647961\ttotal: 30.3s\tremaining: 618ms\n",
      "196:\tlearn: 1774.1545794\ttotal: 30.4s\tremaining: 463ms\n",
      "197:\tlearn: 1773.5340594\ttotal: 30.6s\tremaining: 309ms\n",
      "198:\tlearn: 1772.2093774\ttotal: 30.7s\tremaining: 154ms\n",
      "199:\tlearn: 1771.6679259\ttotal: 30.9s\tremaining: 0us\n",
      "0:\tlearn: 4336.5443103\ttotal: 179ms\tremaining: 35.6s\n",
      "1:\tlearn: 4205.5994377\ttotal: 325ms\tremaining: 32.2s\n",
      "2:\tlearn: 4083.2175561\ttotal: 493ms\tremaining: 32.4s\n",
      "3:\tlearn: 3969.6381827\ttotal: 636ms\tremaining: 31.2s\n",
      "4:\tlearn: 3862.7748425\ttotal: 784ms\tremaining: 30.6s\n",
      "5:\tlearn: 3763.2047212\ttotal: 910ms\tremaining: 29.4s\n",
      "6:\tlearn: 3663.1572101\ttotal: 1.06s\tremaining: 29.3s\n",
      "7:\tlearn: 3570.7244086\ttotal: 1.22s\tremaining: 29.2s\n",
      "8:\tlearn: 3483.2034645\ttotal: 1.37s\tremaining: 29.2s\n",
      "9:\tlearn: 3399.7688684\ttotal: 1.51s\tremaining: 28.6s\n",
      "10:\tlearn: 3320.4154159\ttotal: 1.67s\tremaining: 28.7s\n",
      "11:\tlearn: 3244.3055145\ttotal: 1.86s\tremaining: 29.2s\n",
      "12:\tlearn: 3172.5894043\ttotal: 2.02s\tremaining: 29.1s\n",
      "13:\tlearn: 3109.3129405\ttotal: 2.18s\tremaining: 29s\n",
      "14:\tlearn: 3048.8396388\ttotal: 2.35s\tremaining: 28.9s\n",
      "15:\tlearn: 2993.5649309\ttotal: 2.5s\tremaining: 28.8s\n",
      "16:\tlearn: 2941.5994592\ttotal: 2.67s\tremaining: 28.7s\n",
      "17:\tlearn: 2890.7319956\ttotal: 2.84s\tremaining: 28.7s\n",
      "18:\tlearn: 2844.1111246\ttotal: 3.05s\tremaining: 29s\n",
      "19:\tlearn: 2798.5696002\ttotal: 3.23s\tremaining: 29s\n",
      "20:\tlearn: 2757.4903080\ttotal: 3.4s\tremaining: 29s\n",
      "21:\tlearn: 2714.4775947\ttotal: 3.58s\tremaining: 29s\n",
      "22:\tlearn: 2677.4968181\ttotal: 3.73s\tremaining: 28.7s\n",
      "23:\tlearn: 2642.7992535\ttotal: 3.9s\tremaining: 28.6s\n",
      "24:\tlearn: 2608.1043373\ttotal: 4.14s\tremaining: 29s\n",
      "25:\tlearn: 2572.4666837\ttotal: 4.29s\tremaining: 28.7s\n",
      "26:\tlearn: 2537.2252213\ttotal: 4.46s\tremaining: 28.6s\n",
      "27:\tlearn: 2508.2601115\ttotal: 4.61s\tremaining: 28.3s\n",
      "28:\tlearn: 2479.2393706\ttotal: 4.77s\tremaining: 28.1s\n",
      "29:\tlearn: 2450.8687919\ttotal: 4.91s\tremaining: 27.8s\n",
      "30:\tlearn: 2424.7237489\ttotal: 5.06s\tremaining: 27.6s\n",
      "31:\tlearn: 2400.7905304\ttotal: 5.21s\tremaining: 27.4s\n",
      "32:\tlearn: 2376.3339582\ttotal: 5.33s\tremaining: 27s\n",
      "33:\tlearn: 2355.7115945\ttotal: 5.46s\tremaining: 26.6s\n",
      "34:\tlearn: 2335.0489529\ttotal: 5.63s\tremaining: 26.5s\n",
      "35:\tlearn: 2316.7702346\ttotal: 5.75s\tremaining: 26.2s\n",
      "36:\tlearn: 2297.9541982\ttotal: 5.89s\tremaining: 26s\n",
      "37:\tlearn: 2278.7980078\ttotal: 6.04s\tremaining: 25.7s\n",
      "38:\tlearn: 2263.2528437\ttotal: 6.2s\tremaining: 25.6s\n",
      "39:\tlearn: 2248.3504517\ttotal: 6.31s\tremaining: 25.2s\n",
      "40:\tlearn: 2231.8850221\ttotal: 6.43s\tremaining: 24.9s\n",
      "41:\tlearn: 2218.0657943\ttotal: 6.55s\tremaining: 24.7s\n",
      "42:\tlearn: 2204.5689228\ttotal: 6.71s\tremaining: 24.5s\n",
      "43:\tlearn: 2189.6904445\ttotal: 6.87s\tremaining: 24.3s\n",
      "44:\tlearn: 2176.3748550\ttotal: 7s\tremaining: 24.1s\n",
      "45:\tlearn: 2165.1441949\ttotal: 7.15s\tremaining: 23.9s\n",
      "46:\tlearn: 2154.4933591\ttotal: 7.32s\tremaining: 23.8s\n",
      "47:\tlearn: 2143.5282347\ttotal: 7.47s\tremaining: 23.6s\n",
      "48:\tlearn: 2133.2656269\ttotal: 7.61s\tremaining: 23.5s\n",
      "49:\tlearn: 2123.5615994\ttotal: 7.75s\tremaining: 23.2s\n",
      "50:\tlearn: 2113.7449045\ttotal: 7.88s\tremaining: 23s\n",
      "51:\tlearn: 2103.9044143\ttotal: 8.03s\tremaining: 22.9s\n",
      "52:\tlearn: 2092.8053474\ttotal: 8.19s\tremaining: 22.7s\n",
      "53:\tlearn: 2082.5906637\ttotal: 8.35s\tremaining: 22.6s\n",
      "54:\tlearn: 2072.7571516\ttotal: 8.47s\tremaining: 22.3s\n",
      "55:\tlearn: 2063.9877424\ttotal: 8.63s\tremaining: 22.2s\n",
      "56:\tlearn: 2056.4070408\ttotal: 8.8s\tremaining: 22.1s\n",
      "57:\tlearn: 2048.5699999\ttotal: 8.9s\tremaining: 21.8s\n"
     ]
    },
    {
     "name": "stdout",
     "output_type": "stream",
     "text": [
      "58:\tlearn: 2041.3618664\ttotal: 9.02s\tremaining: 21.6s\n",
      "59:\tlearn: 2035.3568128\ttotal: 9.18s\tremaining: 21.4s\n",
      "60:\tlearn: 2029.2217033\ttotal: 9.29s\tremaining: 21.2s\n",
      "61:\tlearn: 2023.0577549\ttotal: 9.43s\tremaining: 21s\n",
      "62:\tlearn: 2017.6424752\ttotal: 9.58s\tremaining: 20.8s\n",
      "63:\tlearn: 2013.2569537\ttotal: 9.71s\tremaining: 20.6s\n",
      "64:\tlearn: 2007.7991612\ttotal: 9.84s\tremaining: 20.4s\n",
      "65:\tlearn: 2003.1981994\ttotal: 9.97s\tremaining: 20.3s\n",
      "66:\tlearn: 1997.5458463\ttotal: 10.2s\tremaining: 20.2s\n",
      "67:\tlearn: 1993.5822301\ttotal: 10.4s\tremaining: 20.2s\n",
      "68:\tlearn: 1988.2816735\ttotal: 10.5s\tremaining: 20s\n",
      "69:\tlearn: 1983.8644951\ttotal: 10.7s\tremaining: 19.8s\n",
      "70:\tlearn: 1979.3409915\ttotal: 10.8s\tremaining: 19.6s\n",
      "71:\tlearn: 1975.9118569\ttotal: 10.9s\tremaining: 19.4s\n",
      "72:\tlearn: 1972.9125236\ttotal: 11.1s\tremaining: 19.3s\n",
      "73:\tlearn: 1968.5211234\ttotal: 11.2s\tremaining: 19.1s\n",
      "74:\tlearn: 1964.9491864\ttotal: 11.3s\tremaining: 18.9s\n",
      "75:\tlearn: 1961.0163583\ttotal: 11.5s\tremaining: 18.7s\n",
      "76:\tlearn: 1958.0213259\ttotal: 11.6s\tremaining: 18.5s\n",
      "77:\tlearn: 1955.2181923\ttotal: 11.8s\tremaining: 18.4s\n",
      "78:\tlearn: 1952.4718276\ttotal: 11.9s\tremaining: 18.2s\n",
      "79:\tlearn: 1948.3272816\ttotal: 12s\tremaining: 18s\n",
      "80:\tlearn: 1945.7868306\ttotal: 12.2s\tremaining: 17.9s\n",
      "81:\tlearn: 1942.0809848\ttotal: 12.3s\tremaining: 17.7s\n",
      "82:\tlearn: 1938.6274923\ttotal: 12.4s\tremaining: 17.5s\n",
      "83:\tlearn: 1935.3679409\ttotal: 12.6s\tremaining: 17.3s\n",
      "84:\tlearn: 1932.8001446\ttotal: 12.7s\tremaining: 17.2s\n",
      "85:\tlearn: 1929.4788110\ttotal: 12.8s\tremaining: 17s\n",
      "86:\tlearn: 1927.0712836\ttotal: 13s\tremaining: 16.9s\n",
      "87:\tlearn: 1924.6164273\ttotal: 13.2s\tremaining: 16.8s\n",
      "88:\tlearn: 1921.0975877\ttotal: 13.3s\tremaining: 16.6s\n",
      "89:\tlearn: 1919.4010106\ttotal: 13.5s\tremaining: 16.5s\n",
      "90:\tlearn: 1916.4421953\ttotal: 13.6s\tremaining: 16.3s\n",
      "91:\tlearn: 1913.4298827\ttotal: 13.8s\tremaining: 16.2s\n",
      "92:\tlearn: 1911.5763987\ttotal: 13.9s\tremaining: 16s\n",
      "93:\tlearn: 1909.3060444\ttotal: 14.1s\tremaining: 15.9s\n",
      "94:\tlearn: 1907.4145807\ttotal: 14.2s\tremaining: 15.7s\n",
      "95:\tlearn: 1904.7888622\ttotal: 14.4s\tremaining: 15.6s\n",
      "96:\tlearn: 1902.9740540\ttotal: 14.5s\tremaining: 15.4s\n",
      "97:\tlearn: 1901.1980876\ttotal: 14.7s\tremaining: 15.3s\n",
      "98:\tlearn: 1899.6350404\ttotal: 14.8s\tremaining: 15.1s\n",
      "99:\tlearn: 1898.0096053\ttotal: 15s\tremaining: 15s\n",
      "100:\tlearn: 1896.5335918\ttotal: 15.1s\tremaining: 14.8s\n",
      "101:\tlearn: 1894.9666385\ttotal: 15.3s\tremaining: 14.7s\n",
      "102:\tlearn: 1893.2951729\ttotal: 15.4s\tremaining: 14.5s\n",
      "103:\tlearn: 1890.9644892\ttotal: 15.6s\tremaining: 14.4s\n",
      "104:\tlearn: 1888.1091385\ttotal: 15.7s\tremaining: 14.2s\n",
      "105:\tlearn: 1886.0595630\ttotal: 15.8s\tremaining: 14s\n",
      "106:\tlearn: 1884.8131301\ttotal: 16s\tremaining: 13.9s\n",
      "107:\tlearn: 1882.8716995\ttotal: 16.1s\tremaining: 13.8s\n",
      "108:\tlearn: 1881.4408891\ttotal: 16.3s\tremaining: 13.6s\n",
      "109:\tlearn: 1879.9265587\ttotal: 16.4s\tremaining: 13.4s\n",
      "110:\tlearn: 1878.5868939\ttotal: 16.6s\tremaining: 13.3s\n",
      "111:\tlearn: 1876.9966914\ttotal: 16.7s\tremaining: 13.1s\n",
      "112:\tlearn: 1874.6983972\ttotal: 16.9s\tremaining: 13s\n",
      "113:\tlearn: 1873.3513557\ttotal: 17s\tremaining: 12.8s\n",
      "114:\tlearn: 1871.3595972\ttotal: 17.2s\tremaining: 12.7s\n",
      "115:\tlearn: 1869.5390971\ttotal: 17.3s\tremaining: 12.5s\n",
      "116:\tlearn: 1868.1949876\ttotal: 17.5s\tremaining: 12.4s\n",
      "117:\tlearn: 1866.6991181\ttotal: 17.6s\tremaining: 12.2s\n",
      "118:\tlearn: 1864.9958631\ttotal: 17.7s\tremaining: 12.1s\n",
      "119:\tlearn: 1863.5915557\ttotal: 17.9s\tremaining: 11.9s\n",
      "120:\tlearn: 1862.2592626\ttotal: 18.1s\tremaining: 11.8s\n",
      "121:\tlearn: 1860.6879536\ttotal: 18.2s\tremaining: 11.6s\n",
      "122:\tlearn: 1859.0080503\ttotal: 18.3s\tremaining: 11.5s\n",
      "123:\tlearn: 1857.7916073\ttotal: 18.5s\tremaining: 11.3s\n",
      "124:\tlearn: 1856.0645287\ttotal: 18.6s\tremaining: 11.2s\n",
      "125:\tlearn: 1853.8360125\ttotal: 18.8s\tremaining: 11s\n",
      "126:\tlearn: 1852.9355632\ttotal: 18.9s\tremaining: 10.9s\n",
      "127:\tlearn: 1851.8791004\ttotal: 19.1s\tremaining: 10.7s\n",
      "128:\tlearn: 1850.5816200\ttotal: 19.2s\tremaining: 10.6s\n",
      "129:\tlearn: 1849.6275411\ttotal: 19.4s\tremaining: 10.4s\n",
      "130:\tlearn: 1848.4980417\ttotal: 19.5s\tremaining: 10.3s\n",
      "131:\tlearn: 1846.0999448\ttotal: 19.6s\tremaining: 10.1s\n",
      "132:\tlearn: 1845.1745599\ttotal: 19.8s\tremaining: 9.96s\n",
      "133:\tlearn: 1844.3361494\ttotal: 19.9s\tremaining: 9.8s\n",
      "134:\tlearn: 1842.6532448\ttotal: 20s\tremaining: 9.65s\n",
      "135:\tlearn: 1841.2247276\ttotal: 20.2s\tremaining: 9.49s\n",
      "136:\tlearn: 1840.2508003\ttotal: 20.3s\tremaining: 9.33s\n",
      "137:\tlearn: 1839.4726254\ttotal: 20.4s\tremaining: 9.18s\n",
      "138:\tlearn: 1838.7636039\ttotal: 20.6s\tremaining: 9.03s\n",
      "139:\tlearn: 1837.5034673\ttotal: 20.7s\tremaining: 8.88s\n",
      "140:\tlearn: 1835.9475579\ttotal: 20.8s\tremaining: 8.72s\n",
      "141:\tlearn: 1835.1172445\ttotal: 21s\tremaining: 8.58s\n",
      "142:\tlearn: 1833.8494738\ttotal: 21.2s\tremaining: 8.43s\n",
      "143:\tlearn: 1832.4779878\ttotal: 21.3s\tremaining: 8.28s\n",
      "144:\tlearn: 1831.3418570\ttotal: 21.4s\tremaining: 8.13s\n",
      "145:\tlearn: 1830.4292096\ttotal: 21.6s\tremaining: 7.99s\n",
      "146:\tlearn: 1829.5355958\ttotal: 21.7s\tremaining: 7.84s\n",
      "147:\tlearn: 1828.3817124\ttotal: 21.9s\tremaining: 7.69s\n",
      "148:\tlearn: 1827.0830003\ttotal: 22s\tremaining: 7.54s\n",
      "149:\tlearn: 1826.3604840\ttotal: 22.2s\tremaining: 7.39s\n",
      "150:\tlearn: 1824.7370867\ttotal: 22.3s\tremaining: 7.24s\n",
      "151:\tlearn: 1823.3849492\ttotal: 22.5s\tremaining: 7.09s\n",
      "152:\tlearn: 1822.7645028\ttotal: 22.6s\tremaining: 6.94s\n",
      "153:\tlearn: 1821.1268564\ttotal: 22.8s\tremaining: 6.8s\n",
      "154:\tlearn: 1820.1125241\ttotal: 22.9s\tremaining: 6.64s\n",
      "155:\tlearn: 1819.0708045\ttotal: 23s\tremaining: 6.5s\n",
      "156:\tlearn: 1817.7435436\ttotal: 23.2s\tremaining: 6.35s\n",
      "157:\tlearn: 1816.3819167\ttotal: 23.3s\tremaining: 6.2s\n",
      "158:\tlearn: 1815.5024803\ttotal: 23.4s\tremaining: 6.04s\n",
      "159:\tlearn: 1814.5068802\ttotal: 23.6s\tremaining: 5.89s\n",
      "160:\tlearn: 1813.2937200\ttotal: 23.7s\tremaining: 5.74s\n",
      "161:\tlearn: 1811.8098271\ttotal: 23.9s\tremaining: 5.59s\n",
      "162:\tlearn: 1811.0714390\ttotal: 24s\tremaining: 5.44s\n",
      "163:\tlearn: 1809.5575727\ttotal: 24.1s\tremaining: 5.3s\n",
      "164:\tlearn: 1808.6531004\ttotal: 24.3s\tremaining: 5.15s\n",
      "165:\tlearn: 1807.9006199\ttotal: 24.4s\tremaining: 5s\n",
      "166:\tlearn: 1807.3347094\ttotal: 24.6s\tremaining: 4.85s\n",
      "167:\tlearn: 1806.3062238\ttotal: 24.7s\tremaining: 4.71s\n",
      "168:\tlearn: 1805.2541589\ttotal: 24.8s\tremaining: 4.56s\n",
      "169:\tlearn: 1804.3209376\ttotal: 25s\tremaining: 4.41s\n",
      "170:\tlearn: 1802.9412557\ttotal: 25.1s\tremaining: 4.26s\n",
      "171:\tlearn: 1801.8980884\ttotal: 25.3s\tremaining: 4.11s\n",
      "172:\tlearn: 1800.7875851\ttotal: 25.4s\tremaining: 3.96s\n",
      "173:\tlearn: 1799.7942328\ttotal: 25.5s\tremaining: 3.81s\n",
      "174:\tlearn: 1799.1108328\ttotal: 25.6s\tremaining: 3.66s\n",
      "175:\tlearn: 1798.0754224\ttotal: 25.8s\tremaining: 3.51s\n",
      "176:\tlearn: 1797.5497200\ttotal: 25.9s\tremaining: 3.36s\n",
      "177:\tlearn: 1797.0654188\ttotal: 26s\tremaining: 3.21s\n",
      "178:\tlearn: 1796.4533899\ttotal: 26.2s\tremaining: 3.07s\n",
      "179:\tlearn: 1795.2285874\ttotal: 26.3s\tremaining: 2.92s\n",
      "180:\tlearn: 1794.1299085\ttotal: 26.4s\tremaining: 2.77s\n",
      "181:\tlearn: 1793.0724841\ttotal: 26.6s\tremaining: 2.63s\n",
      "182:\tlearn: 1792.6277206\ttotal: 26.7s\tremaining: 2.48s\n",
      "183:\tlearn: 1792.0080466\ttotal: 26.8s\tremaining: 2.33s\n",
      "184:\tlearn: 1790.9988481\ttotal: 27s\tremaining: 2.19s\n",
      "185:\tlearn: 1790.4240114\ttotal: 27.1s\tremaining: 2.04s\n",
      "186:\tlearn: 1789.2444497\ttotal: 27.2s\tremaining: 1.89s\n",
      "187:\tlearn: 1788.7925445\ttotal: 27.3s\tremaining: 1.74s\n",
      "188:\tlearn: 1787.7972534\ttotal: 27.5s\tremaining: 1.6s\n",
      "189:\tlearn: 1786.9240907\ttotal: 27.6s\tremaining: 1.45s\n",
      "190:\tlearn: 1786.2632999\ttotal: 27.8s\tremaining: 1.31s\n",
      "191:\tlearn: 1785.7162825\ttotal: 27.9s\tremaining: 1.16s\n",
      "192:\tlearn: 1785.2331079\ttotal: 28s\tremaining: 1.01s\n",
      "193:\tlearn: 1784.0669018\ttotal: 28.1s\tremaining: 871ms\n",
      "194:\tlearn: 1783.5352149\ttotal: 28.3s\tremaining: 725ms\n",
      "195:\tlearn: 1783.1282975\ttotal: 28.4s\tremaining: 580ms\n",
      "196:\tlearn: 1782.4030496\ttotal: 28.5s\tremaining: 435ms\n",
      "197:\tlearn: 1781.7499878\ttotal: 28.7s\tremaining: 290ms\n",
      "198:\tlearn: 1781.6828110\ttotal: 28.8s\tremaining: 145ms\n",
      "199:\tlearn: 1780.5343399\ttotal: 29s\tremaining: 0us\n",
      "0:\tlearn: 2729.7664378\ttotal: 204ms\tremaining: 40.5s\n",
      "1:\tlearn: 2435.2433632\ttotal: 366ms\tremaining: 36.3s\n",
      "2:\tlearn: 2287.0963968\ttotal: 534ms\tremaining: 35s\n",
      "3:\tlearn: 2169.8845946\ttotal: 698ms\tremaining: 34.2s\n",
      "4:\tlearn: 2102.9034947\ttotal: 856ms\tremaining: 33.4s\n",
      "5:\tlearn: 2060.4278124\ttotal: 988ms\tremaining: 32s\n",
      "6:\tlearn: 2010.0339774\ttotal: 1.13s\tremaining: 31.2s\n",
      "7:\tlearn: 1987.6098198\ttotal: 1.27s\tremaining: 30.6s\n",
      "8:\tlearn: 1957.2474253\ttotal: 1.41s\tremaining: 30s\n",
      "9:\tlearn: 1936.3397487\ttotal: 1.56s\tremaining: 29.6s\n"
     ]
    },
    {
     "name": "stdout",
     "output_type": "stream",
     "text": [
      "10:\tlearn: 1923.5899565\ttotal: 1.71s\tremaining: 29.4s\n",
      "11:\tlearn: 1908.6460487\ttotal: 1.87s\tremaining: 29.3s\n",
      "12:\tlearn: 1897.3131845\ttotal: 2s\tremaining: 28.8s\n",
      "13:\tlearn: 1882.8795029\ttotal: 2.16s\tremaining: 28.7s\n",
      "14:\tlearn: 1870.0633418\ttotal: 2.31s\tremaining: 28.5s\n",
      "15:\tlearn: 1860.1408801\ttotal: 2.45s\tremaining: 28.1s\n",
      "16:\tlearn: 1847.4399505\ttotal: 2.6s\tremaining: 28s\n",
      "17:\tlearn: 1834.7897071\ttotal: 2.76s\tremaining: 27.9s\n",
      "18:\tlearn: 1825.3502698\ttotal: 2.89s\tremaining: 27.5s\n",
      "19:\tlearn: 1811.6749543\ttotal: 3.02s\tremaining: 27.2s\n",
      "20:\tlearn: 1806.3384660\ttotal: 3.17s\tremaining: 27s\n",
      "21:\tlearn: 1801.9712303\ttotal: 3.33s\tremaining: 26.9s\n",
      "22:\tlearn: 1796.1025785\ttotal: 3.5s\tremaining: 26.9s\n",
      "23:\tlearn: 1790.8474204\ttotal: 3.65s\tremaining: 26.8s\n",
      "24:\tlearn: 1785.7181439\ttotal: 3.83s\tremaining: 26.8s\n",
      "25:\tlearn: 1781.1054825\ttotal: 4s\tremaining: 26.8s\n",
      "26:\tlearn: 1778.2872437\ttotal: 4.14s\tremaining: 26.6s\n",
      "27:\tlearn: 1770.5491375\ttotal: 4.29s\tremaining: 26.3s\n",
      "28:\tlearn: 1765.2331089\ttotal: 4.42s\tremaining: 26.1s\n",
      "29:\tlearn: 1760.3659445\ttotal: 4.54s\tremaining: 25.7s\n",
      "30:\tlearn: 1756.2818860\ttotal: 4.68s\tremaining: 25.5s\n",
      "31:\tlearn: 1750.7475992\ttotal: 4.83s\tremaining: 25.4s\n",
      "32:\tlearn: 1748.0258070\ttotal: 4.98s\tremaining: 25.2s\n",
      "33:\tlearn: 1743.2117192\ttotal: 5.12s\tremaining: 25s\n",
      "34:\tlearn: 1738.3354445\ttotal: 5.27s\tremaining: 24.9s\n",
      "35:\tlearn: 1735.3342968\ttotal: 5.41s\tremaining: 24.6s\n",
      "36:\tlearn: 1731.7851582\ttotal: 5.56s\tremaining: 24.5s\n",
      "37:\tlearn: 1729.1355162\ttotal: 5.7s\tremaining: 24.3s\n",
      "38:\tlearn: 1725.8960220\ttotal: 5.84s\tremaining: 24.1s\n",
      "39:\tlearn: 1720.8611904\ttotal: 5.99s\tremaining: 24s\n",
      "40:\tlearn: 1717.2107515\ttotal: 6.13s\tremaining: 23.8s\n",
      "41:\tlearn: 1714.7990685\ttotal: 6.25s\tremaining: 23.5s\n",
      "42:\tlearn: 1711.6610947\ttotal: 6.4s\tremaining: 23.4s\n",
      "43:\tlearn: 1709.1114290\ttotal: 6.54s\tremaining: 23.2s\n",
      "44:\tlearn: 1700.4388823\ttotal: 6.67s\tremaining: 23s\n",
      "45:\tlearn: 1697.4151795\ttotal: 6.8s\tremaining: 22.8s\n",
      "46:\tlearn: 1693.6524249\ttotal: 6.95s\tremaining: 22.6s\n",
      "47:\tlearn: 1691.0283188\ttotal: 7.09s\tremaining: 22.5s\n",
      "48:\tlearn: 1688.5238289\ttotal: 7.23s\tremaining: 22.3s\n",
      "49:\tlearn: 1684.6056629\ttotal: 7.37s\tremaining: 22.1s\n",
      "50:\tlearn: 1681.3907546\ttotal: 7.49s\tremaining: 21.9s\n",
      "51:\tlearn: 1679.4303805\ttotal: 7.64s\tremaining: 21.8s\n",
      "52:\tlearn: 1677.4702593\ttotal: 7.79s\tremaining: 21.6s\n",
      "53:\tlearn: 1674.5132943\ttotal: 7.9s\tremaining: 21.4s\n",
      "54:\tlearn: 1673.3952193\ttotal: 8.06s\tremaining: 21.2s\n",
      "55:\tlearn: 1670.7253798\ttotal: 8.21s\tremaining: 21.1s\n",
      "56:\tlearn: 1669.9371736\ttotal: 8.37s\tremaining: 21s\n",
      "57:\tlearn: 1668.3846384\ttotal: 8.5s\tremaining: 20.8s\n",
      "58:\tlearn: 1665.8326781\ttotal: 8.65s\tremaining: 20.7s\n",
      "59:\tlearn: 1664.9489267\ttotal: 8.79s\tremaining: 20.5s\n",
      "60:\tlearn: 1662.6135029\ttotal: 8.93s\tremaining: 20.3s\n",
      "61:\tlearn: 1659.4302683\ttotal: 9.07s\tremaining: 20.2s\n",
      "62:\tlearn: 1657.3408035\ttotal: 9.21s\tremaining: 20s\n",
      "63:\tlearn: 1655.4444111\ttotal: 9.34s\tremaining: 19.9s\n",
      "64:\tlearn: 1654.2461321\ttotal: 9.49s\tremaining: 19.7s\n",
      "65:\tlearn: 1653.0593481\ttotal: 9.65s\tremaining: 19.6s\n",
      "66:\tlearn: 1651.1635066\ttotal: 9.81s\tremaining: 19.5s\n",
      "67:\tlearn: 1648.9342498\ttotal: 9.95s\tremaining: 19.3s\n",
      "68:\tlearn: 1647.4737741\ttotal: 10.1s\tremaining: 19.1s\n",
      "69:\tlearn: 1646.0349337\ttotal: 10.2s\tremaining: 19s\n",
      "70:\tlearn: 1644.7791615\ttotal: 10.4s\tremaining: 18.9s\n",
      "71:\tlearn: 1643.5424472\ttotal: 10.5s\tremaining: 18.7s\n",
      "72:\tlearn: 1642.1945439\ttotal: 10.6s\tremaining: 18.5s\n",
      "73:\tlearn: 1640.3759347\ttotal: 10.8s\tremaining: 18.4s\n",
      "74:\tlearn: 1639.4166405\ttotal: 10.9s\tremaining: 18.2s\n",
      "75:\tlearn: 1638.7904152\ttotal: 11.1s\tremaining: 18.1s\n",
      "76:\tlearn: 1638.1796936\ttotal: 11.2s\tremaining: 17.9s\n",
      "77:\tlearn: 1636.4925955\ttotal: 11.3s\tremaining: 17.8s\n",
      "78:\tlearn: 1633.6137189\ttotal: 11.5s\tremaining: 17.6s\n",
      "79:\tlearn: 1632.0534122\ttotal: 11.6s\tremaining: 17.5s\n",
      "80:\tlearn: 1630.8569048\ttotal: 11.8s\tremaining: 17.3s\n",
      "81:\tlearn: 1630.0320086\ttotal: 11.9s\tremaining: 17.1s\n",
      "82:\tlearn: 1629.3417578\ttotal: 12s\tremaining: 16.9s\n",
      "83:\tlearn: 1629.1548764\ttotal: 12.2s\tremaining: 16.8s\n",
      "84:\tlearn: 1628.0707185\ttotal: 12.3s\tremaining: 16.7s\n",
      "85:\tlearn: 1626.5141556\ttotal: 12.5s\tremaining: 16.5s\n",
      "86:\tlearn: 1625.5341695\ttotal: 12.6s\tremaining: 16.4s\n",
      "87:\tlearn: 1624.3072829\ttotal: 12.7s\tremaining: 16.2s\n",
      "88:\tlearn: 1622.5046024\ttotal: 12.8s\tremaining: 16s\n",
      "89:\tlearn: 1619.8094325\ttotal: 13s\tremaining: 15.9s\n",
      "90:\tlearn: 1618.5606505\ttotal: 13.1s\tremaining: 15.7s\n",
      "91:\tlearn: 1617.6489270\ttotal: 13.3s\tremaining: 15.6s\n",
      "92:\tlearn: 1615.7461274\ttotal: 13.4s\tremaining: 15.4s\n",
      "93:\tlearn: 1614.3746823\ttotal: 13.5s\tremaining: 15.3s\n",
      "94:\tlearn: 1613.5733181\ttotal: 13.7s\tremaining: 15.1s\n",
      "95:\tlearn: 1612.5506598\ttotal: 13.8s\tremaining: 15s\n",
      "96:\tlearn: 1611.8720025\ttotal: 14s\tremaining: 14.8s\n",
      "97:\tlearn: 1610.5759331\ttotal: 14.1s\tremaining: 14.7s\n",
      "98:\tlearn: 1609.7001093\ttotal: 14.2s\tremaining: 14.5s\n",
      "99:\tlearn: 1608.4696775\ttotal: 14.4s\tremaining: 14.4s\n",
      "100:\tlearn: 1607.9743321\ttotal: 14.5s\tremaining: 14.2s\n",
      "101:\tlearn: 1606.8680941\ttotal: 14.7s\tremaining: 14.1s\n",
      "102:\tlearn: 1606.2612713\ttotal: 14.8s\tremaining: 14s\n",
      "103:\tlearn: 1606.2162718\ttotal: 14.9s\tremaining: 13.8s\n",
      "104:\tlearn: 1604.9517935\ttotal: 15s\tremaining: 13.6s\n",
      "105:\tlearn: 1603.8765284\ttotal: 15.2s\tremaining: 13.5s\n",
      "106:\tlearn: 1602.5489686\ttotal: 15.3s\tremaining: 13.3s\n",
      "107:\tlearn: 1601.1780727\ttotal: 15.4s\tremaining: 13.1s\n",
      "108:\tlearn: 1600.6346653\ttotal: 15.6s\tremaining: 13s\n",
      "109:\tlearn: 1599.4461249\ttotal: 15.7s\tremaining: 12.8s\n",
      "110:\tlearn: 1598.4680977\ttotal: 15.8s\tremaining: 12.7s\n",
      "111:\tlearn: 1597.3196955\ttotal: 16s\tremaining: 12.5s\n",
      "112:\tlearn: 1596.0064728\ttotal: 16.1s\tremaining: 12.4s\n",
      "113:\tlearn: 1594.8503895\ttotal: 16.2s\tremaining: 12.3s\n",
      "114:\tlearn: 1593.2164292\ttotal: 16.4s\tremaining: 12.1s\n",
      "115:\tlearn: 1592.2729138\ttotal: 16.5s\tremaining: 12s\n",
      "116:\tlearn: 1591.1520345\ttotal: 16.7s\tremaining: 11.8s\n",
      "117:\tlearn: 1590.1433615\ttotal: 16.8s\tremaining: 11.7s\n",
      "118:\tlearn: 1589.1804940\ttotal: 16.9s\tremaining: 11.5s\n",
      "119:\tlearn: 1588.8377714\ttotal: 17.1s\tremaining: 11.4s\n",
      "120:\tlearn: 1588.6682731\ttotal: 17.2s\tremaining: 11.2s\n",
      "121:\tlearn: 1587.2586965\ttotal: 17.4s\tremaining: 11.1s\n",
      "122:\tlearn: 1586.2885585\ttotal: 17.6s\tremaining: 11s\n",
      "123:\tlearn: 1585.4465476\ttotal: 17.7s\tremaining: 10.9s\n",
      "124:\tlearn: 1585.0640180\ttotal: 17.9s\tremaining: 10.7s\n",
      "125:\tlearn: 1584.6638246\ttotal: 18s\tremaining: 10.6s\n",
      "126:\tlearn: 1584.2121291\ttotal: 18.2s\tremaining: 10.5s\n",
      "127:\tlearn: 1583.9752596\ttotal: 18.3s\tremaining: 10.3s\n",
      "128:\tlearn: 1583.1249586\ttotal: 18.5s\tremaining: 10.2s\n",
      "129:\tlearn: 1582.7454419\ttotal: 18.6s\tremaining: 10s\n",
      "130:\tlearn: 1582.3827726\ttotal: 18.7s\tremaining: 9.87s\n",
      "131:\tlearn: 1581.0785889\ttotal: 18.9s\tremaining: 9.73s\n",
      "132:\tlearn: 1580.8555643\ttotal: 19s\tremaining: 9.59s\n",
      "133:\tlearn: 1580.3542401\ttotal: 19.2s\tremaining: 9.45s\n",
      "134:\tlearn: 1580.0378383\ttotal: 19.3s\tremaining: 9.3s\n",
      "135:\tlearn: 1579.1358285\ttotal: 19.5s\tremaining: 9.16s\n",
      "136:\tlearn: 1578.7650030\ttotal: 19.6s\tremaining: 9.01s\n",
      "137:\tlearn: 1577.8885164\ttotal: 19.7s\tremaining: 8.87s\n",
      "138:\tlearn: 1577.4377152\ttotal: 19.9s\tremaining: 8.72s\n",
      "139:\tlearn: 1576.6064557\ttotal: 20s\tremaining: 8.58s\n",
      "140:\tlearn: 1575.5944437\ttotal: 20.2s\tremaining: 8.43s\n",
      "141:\tlearn: 1574.6177812\ttotal: 20.3s\tremaining: 8.29s\n",
      "142:\tlearn: 1574.2812799\ttotal: 20.4s\tremaining: 8.14s\n",
      "143:\tlearn: 1573.5762282\ttotal: 20.6s\tremaining: 8s\n",
      "144:\tlearn: 1572.7875765\ttotal: 20.7s\tremaining: 7.86s\n",
      "145:\tlearn: 1571.8141389\ttotal: 20.9s\tremaining: 7.72s\n",
      "146:\tlearn: 1571.5705657\ttotal: 21s\tremaining: 7.57s\n",
      "147:\tlearn: 1570.8501204\ttotal: 21.1s\tremaining: 7.42s\n",
      "148:\tlearn: 1570.1222913\ttotal: 21.2s\tremaining: 7.27s\n",
      "149:\tlearn: 1569.3554310\ttotal: 21.4s\tremaining: 7.13s\n",
      "150:\tlearn: 1568.7466977\ttotal: 21.5s\tremaining: 6.98s\n",
      "151:\tlearn: 1568.4646881\ttotal: 21.7s\tremaining: 6.85s\n",
      "152:\tlearn: 1567.2572784\ttotal: 21.8s\tremaining: 6.7s\n",
      "153:\tlearn: 1566.3838010\ttotal: 22s\tremaining: 6.56s\n",
      "154:\tlearn: 1565.0168890\ttotal: 22.1s\tremaining: 6.42s\n",
      "155:\tlearn: 1564.7952345\ttotal: 22.2s\tremaining: 6.27s\n",
      "156:\tlearn: 1564.6489357\ttotal: 22.4s\tremaining: 6.13s\n",
      "157:\tlearn: 1563.9470364\ttotal: 22.5s\tremaining: 5.98s\n",
      "158:\tlearn: 1563.5333232\ttotal: 22.6s\tremaining: 5.84s\n",
      "159:\tlearn: 1562.8302552\ttotal: 22.8s\tremaining: 5.69s\n",
      "160:\tlearn: 1562.5719154\ttotal: 22.9s\tremaining: 5.54s\n",
      "161:\tlearn: 1561.7391810\ttotal: 23s\tremaining: 5.4s\n",
      "162:\tlearn: 1561.1127515\ttotal: 23.2s\tremaining: 5.26s\n"
     ]
    },
    {
     "name": "stdout",
     "output_type": "stream",
     "text": [
      "163:\tlearn: 1560.7776904\ttotal: 23.3s\tremaining: 5.11s\n",
      "164:\tlearn: 1560.0996836\ttotal: 23.4s\tremaining: 4.96s\n",
      "165:\tlearn: 1559.4471389\ttotal: 23.6s\tremaining: 4.82s\n",
      "166:\tlearn: 1559.4237606\ttotal: 23.7s\tremaining: 4.68s\n",
      "167:\tlearn: 1558.5276397\ttotal: 23.8s\tremaining: 4.54s\n",
      "168:\tlearn: 1558.0162312\ttotal: 24s\tremaining: 4.4s\n",
      "169:\tlearn: 1557.7800303\ttotal: 24.1s\tremaining: 4.26s\n",
      "170:\tlearn: 1557.2403225\ttotal: 24.3s\tremaining: 4.12s\n",
      "171:\tlearn: 1556.1748281\ttotal: 24.4s\tremaining: 3.97s\n",
      "172:\tlearn: 1555.3775172\ttotal: 24.6s\tremaining: 3.83s\n",
      "173:\tlearn: 1554.5763214\ttotal: 24.7s\tremaining: 3.69s\n",
      "174:\tlearn: 1554.3009175\ttotal: 24.8s\tremaining: 3.55s\n",
      "175:\tlearn: 1553.7719246\ttotal: 25s\tremaining: 3.41s\n",
      "176:\tlearn: 1553.7275830\ttotal: 25.1s\tremaining: 3.26s\n",
      "177:\tlearn: 1553.0395567\ttotal: 25.2s\tremaining: 3.12s\n",
      "178:\tlearn: 1552.3020732\ttotal: 25.3s\tremaining: 2.97s\n",
      "179:\tlearn: 1551.4704893\ttotal: 25.5s\tremaining: 2.83s\n",
      "180:\tlearn: 1550.7195441\ttotal: 25.6s\tremaining: 2.69s\n",
      "181:\tlearn: 1550.2515216\ttotal: 25.7s\tremaining: 2.55s\n",
      "182:\tlearn: 1549.5094221\ttotal: 25.9s\tremaining: 2.4s\n",
      "183:\tlearn: 1549.0573024\ttotal: 26s\tremaining: 2.26s\n",
      "184:\tlearn: 1548.3268461\ttotal: 26.2s\tremaining: 2.12s\n",
      "185:\tlearn: 1547.3865177\ttotal: 26.3s\tremaining: 1.98s\n",
      "186:\tlearn: 1546.7676671\ttotal: 26.4s\tremaining: 1.84s\n",
      "187:\tlearn: 1546.2161416\ttotal: 26.6s\tremaining: 1.7s\n",
      "188:\tlearn: 1545.7243151\ttotal: 26.7s\tremaining: 1.55s\n",
      "189:\tlearn: 1545.3500489\ttotal: 26.9s\tremaining: 1.41s\n",
      "190:\tlearn: 1544.8498874\ttotal: 27s\tremaining: 1.27s\n",
      "191:\tlearn: 1544.5193760\ttotal: 27.1s\tremaining: 1.13s\n",
      "192:\tlearn: 1544.2360316\ttotal: 27.3s\tremaining: 989ms\n",
      "193:\tlearn: 1543.5415937\ttotal: 27.4s\tremaining: 848ms\n",
      "194:\tlearn: 1543.2258474\ttotal: 27.6s\tremaining: 707ms\n",
      "195:\tlearn: 1542.4902828\ttotal: 27.7s\tremaining: 566ms\n",
      "196:\tlearn: 1541.9042041\ttotal: 27.9s\tremaining: 424ms\n",
      "197:\tlearn: 1541.1006060\ttotal: 28s\tremaining: 283ms\n",
      "198:\tlearn: 1540.5416051\ttotal: 28.1s\tremaining: 141ms\n",
      "199:\tlearn: 1539.8968970\ttotal: 28.3s\tremaining: 0us\n",
      "0:\tlearn: 2688.9990846\ttotal: 210ms\tremaining: 41.8s\n",
      "1:\tlearn: 2439.4064389\ttotal: 362ms\tremaining: 35.9s\n",
      "2:\tlearn: 2290.1624955\ttotal: 539ms\tremaining: 35.4s\n",
      "3:\tlearn: 2178.4847164\ttotal: 696ms\tremaining: 34.1s\n",
      "4:\tlearn: 2100.1198311\ttotal: 829ms\tremaining: 32.3s\n",
      "5:\tlearn: 2047.6740259\ttotal: 979ms\tremaining: 31.7s\n",
      "6:\tlearn: 2012.8806649\ttotal: 1.11s\tremaining: 30.6s\n",
      "7:\tlearn: 1989.4917802\ttotal: 1.26s\tremaining: 30.3s\n",
      "8:\tlearn: 1963.3230652\ttotal: 1.36s\tremaining: 28.9s\n",
      "9:\tlearn: 1947.0593860\ttotal: 1.51s\tremaining: 28.7s\n",
      "10:\tlearn: 1919.0346695\ttotal: 1.65s\tremaining: 28.4s\n",
      "11:\tlearn: 1902.1068268\ttotal: 1.79s\tremaining: 28.1s\n",
      "12:\tlearn: 1886.2675732\ttotal: 1.95s\tremaining: 28s\n",
      "13:\tlearn: 1877.9936544\ttotal: 2.1s\tremaining: 27.9s\n",
      "14:\tlearn: 1865.2150847\ttotal: 2.26s\tremaining: 27.8s\n",
      "15:\tlearn: 1841.6772867\ttotal: 2.4s\tremaining: 27.6s\n",
      "16:\tlearn: 1831.5522776\ttotal: 2.56s\tremaining: 27.5s\n",
      "17:\tlearn: 1815.9314925\ttotal: 2.69s\tremaining: 27.2s\n",
      "18:\tlearn: 1807.9743790\ttotal: 2.83s\tremaining: 27s\n",
      "19:\tlearn: 1795.0190549\ttotal: 2.97s\tremaining: 26.7s\n",
      "20:\tlearn: 1790.8458595\ttotal: 3.14s\tremaining: 26.8s\n",
      "21:\tlearn: 1784.2998350\ttotal: 3.27s\tremaining: 26.5s\n",
      "22:\tlearn: 1777.4862337\ttotal: 3.39s\tremaining: 26.1s\n",
      "23:\tlearn: 1772.4681626\ttotal: 3.52s\tremaining: 25.8s\n",
      "24:\tlearn: 1764.7393047\ttotal: 3.67s\tremaining: 25.7s\n",
      "25:\tlearn: 1759.0050206\ttotal: 3.81s\tremaining: 25.5s\n",
      "26:\tlearn: 1755.6096155\ttotal: 3.95s\tremaining: 25.3s\n",
      "27:\tlearn: 1751.4284914\ttotal: 4.1s\tremaining: 25.2s\n",
      "28:\tlearn: 1746.4419701\ttotal: 4.24s\tremaining: 25s\n",
      "29:\tlearn: 1741.5423969\ttotal: 4.39s\tremaining: 24.9s\n",
      "30:\tlearn: 1737.0349636\ttotal: 4.53s\tremaining: 24.7s\n",
      "31:\tlearn: 1734.4063562\ttotal: 4.67s\tremaining: 24.5s\n",
      "32:\tlearn: 1730.2738611\ttotal: 4.82s\tremaining: 24.4s\n",
      "33:\tlearn: 1726.3473221\ttotal: 4.95s\tremaining: 24.1s\n",
      "34:\tlearn: 1723.0039901\ttotal: 5.09s\tremaining: 24s\n",
      "35:\tlearn: 1721.4798545\ttotal: 5.24s\tremaining: 23.9s\n",
      "36:\tlearn: 1718.4371270\ttotal: 5.39s\tremaining: 23.7s\n",
      "37:\tlearn: 1715.9695158\ttotal: 5.52s\tremaining: 23.5s\n",
      "38:\tlearn: 1712.7487483\ttotal: 5.66s\tremaining: 23.4s\n",
      "39:\tlearn: 1706.2054346\ttotal: 5.81s\tremaining: 23.2s\n",
      "40:\tlearn: 1702.0095021\ttotal: 5.96s\tremaining: 23.1s\n",
      "41:\tlearn: 1698.8356633\ttotal: 6.1s\tremaining: 22.9s\n",
      "42:\tlearn: 1692.1474412\ttotal: 6.22s\tremaining: 22.7s\n",
      "43:\tlearn: 1689.3456318\ttotal: 6.34s\tremaining: 22.5s\n",
      "44:\tlearn: 1686.3730494\ttotal: 6.5s\tremaining: 22.4s\n",
      "45:\tlearn: 1684.1719468\ttotal: 6.63s\tremaining: 22.2s\n",
      "46:\tlearn: 1681.3976606\ttotal: 6.77s\tremaining: 22s\n",
      "47:\tlearn: 1679.2226846\ttotal: 6.92s\tremaining: 21.9s\n",
      "48:\tlearn: 1677.2226959\ttotal: 7.05s\tremaining: 21.7s\n",
      "49:\tlearn: 1674.8328108\ttotal: 7.19s\tremaining: 21.6s\n",
      "50:\tlearn: 1671.7461586\ttotal: 7.39s\tremaining: 21.6s\n",
      "51:\tlearn: 1669.3792912\ttotal: 7.52s\tremaining: 21.4s\n",
      "52:\tlearn: 1665.9054195\ttotal: 7.64s\tremaining: 21.2s\n",
      "53:\tlearn: 1663.9731067\ttotal: 7.77s\tremaining: 21s\n",
      "54:\tlearn: 1661.7161691\ttotal: 7.93s\tremaining: 20.9s\n",
      "55:\tlearn: 1660.0297007\ttotal: 8.05s\tremaining: 20.7s\n",
      "56:\tlearn: 1658.1753535\ttotal: 8.21s\tremaining: 20.6s\n",
      "57:\tlearn: 1655.3857071\ttotal: 8.36s\tremaining: 20.5s\n",
      "58:\tlearn: 1654.4034871\ttotal: 8.48s\tremaining: 20.3s\n",
      "59:\tlearn: 1651.8735511\ttotal: 8.63s\tremaining: 20.1s\n",
      "60:\tlearn: 1650.3825868\ttotal: 8.77s\tremaining: 20s\n",
      "61:\tlearn: 1648.5527823\ttotal: 8.92s\tremaining: 19.8s\n",
      "62:\tlearn: 1647.1868140\ttotal: 9.06s\tremaining: 19.7s\n",
      "63:\tlearn: 1645.7765420\ttotal: 9.2s\tremaining: 19.5s\n",
      "64:\tlearn: 1643.9807299\ttotal: 9.35s\tremaining: 19.4s\n",
      "65:\tlearn: 1642.3986273\ttotal: 9.48s\tremaining: 19.3s\n",
      "66:\tlearn: 1640.6977167\ttotal: 9.63s\tremaining: 19.1s\n",
      "67:\tlearn: 1638.7600936\ttotal: 9.77s\tremaining: 19s\n",
      "68:\tlearn: 1637.8971577\ttotal: 9.89s\tremaining: 18.8s\n",
      "69:\tlearn: 1636.9918783\ttotal: 10s\tremaining: 18.6s\n",
      "70:\tlearn: 1636.5364428\ttotal: 10.1s\tremaining: 18.4s\n",
      "71:\tlearn: 1635.2365501\ttotal: 10.2s\tremaining: 18.2s\n",
      "72:\tlearn: 1634.8743052\ttotal: 10.4s\tremaining: 18.1s\n",
      "73:\tlearn: 1633.5397844\ttotal: 10.5s\tremaining: 18s\n",
      "74:\tlearn: 1631.9686318\ttotal: 10.7s\tremaining: 17.8s\n",
      "75:\tlearn: 1631.0350291\ttotal: 10.8s\tremaining: 17.6s\n",
      "76:\tlearn: 1629.2584224\ttotal: 10.9s\tremaining: 17.4s\n",
      "77:\tlearn: 1628.2662246\ttotal: 11s\tremaining: 17.3s\n",
      "78:\tlearn: 1627.0498946\ttotal: 11.2s\tremaining: 17.1s\n",
      "79:\tlearn: 1626.2500245\ttotal: 11.3s\tremaining: 17s\n",
      "80:\tlearn: 1625.1279701\ttotal: 11.5s\tremaining: 16.8s\n",
      "81:\tlearn: 1623.6038365\ttotal: 11.6s\tremaining: 16.7s\n",
      "82:\tlearn: 1622.1535062\ttotal: 11.7s\tremaining: 16.6s\n",
      "83:\tlearn: 1620.8319592\ttotal: 11.9s\tremaining: 16.4s\n",
      "84:\tlearn: 1619.8297654\ttotal: 12s\tremaining: 16.3s\n",
      "85:\tlearn: 1618.1599540\ttotal: 12.2s\tremaining: 16.1s\n",
      "86:\tlearn: 1616.6528636\ttotal: 12.3s\tremaining: 16s\n",
      "87:\tlearn: 1615.7603049\ttotal: 12.5s\tremaining: 15.9s\n",
      "88:\tlearn: 1614.6305148\ttotal: 12.6s\tremaining: 15.8s\n",
      "89:\tlearn: 1613.7898452\ttotal: 12.8s\tremaining: 15.6s\n",
      "90:\tlearn: 1613.1286460\ttotal: 12.9s\tremaining: 15.5s\n",
      "91:\tlearn: 1611.4937439\ttotal: 13s\tremaining: 15.3s\n",
      "92:\tlearn: 1610.1472891\ttotal: 13.2s\tremaining: 15.2s\n",
      "93:\tlearn: 1608.3039769\ttotal: 13.3s\tremaining: 15s\n",
      "94:\tlearn: 1605.7292250\ttotal: 13.4s\tremaining: 14.9s\n",
      "95:\tlearn: 1604.8174780\ttotal: 13.6s\tremaining: 14.7s\n",
      "96:\tlearn: 1603.3397491\ttotal: 13.7s\tremaining: 14.6s\n",
      "97:\tlearn: 1602.3595151\ttotal: 13.9s\tremaining: 14.4s\n",
      "98:\tlearn: 1601.3282639\ttotal: 14s\tremaining: 14.3s\n",
      "99:\tlearn: 1600.4750998\ttotal: 14.2s\tremaining: 14.2s\n",
      "100:\tlearn: 1598.9481576\ttotal: 14.3s\tremaining: 14s\n",
      "101:\tlearn: 1598.1038942\ttotal: 14.4s\tremaining: 13.9s\n",
      "102:\tlearn: 1597.2504679\ttotal: 14.6s\tremaining: 13.7s\n",
      "103:\tlearn: 1595.9150317\ttotal: 14.7s\tremaining: 13.6s\n",
      "104:\tlearn: 1595.1266848\ttotal: 14.8s\tremaining: 13.4s\n",
      "105:\tlearn: 1594.2819845\ttotal: 15s\tremaining: 13.3s\n",
      "106:\tlearn: 1593.7746626\ttotal: 15.1s\tremaining: 13.1s\n",
      "107:\tlearn: 1592.9854155\ttotal: 15.2s\tremaining: 13s\n",
      "108:\tlearn: 1592.2253908\ttotal: 15.4s\tremaining: 12.8s\n",
      "109:\tlearn: 1591.6039955\ttotal: 15.5s\tremaining: 12.7s\n",
      "110:\tlearn: 1590.6597274\ttotal: 15.6s\tremaining: 12.5s\n",
      "111:\tlearn: 1588.8227602\ttotal: 15.8s\tremaining: 12.4s\n",
      "112:\tlearn: 1587.7536438\ttotal: 15.9s\tremaining: 12.3s\n",
      "113:\tlearn: 1586.6058965\ttotal: 16.1s\tremaining: 12.1s\n",
      "114:\tlearn: 1585.4120764\ttotal: 16.2s\tremaining: 12s\n",
      "115:\tlearn: 1584.5135326\ttotal: 16.3s\tremaining: 11.8s\n"
     ]
    },
    {
     "name": "stdout",
     "output_type": "stream",
     "text": [
      "116:\tlearn: 1583.9792242\ttotal: 16.5s\tremaining: 11.7s\n",
      "117:\tlearn: 1582.7432378\ttotal: 16.6s\tremaining: 11.6s\n",
      "118:\tlearn: 1582.3047530\ttotal: 16.8s\tremaining: 11.4s\n",
      "119:\tlearn: 1581.2784165\ttotal: 16.9s\tremaining: 11.3s\n",
      "120:\tlearn: 1580.1777217\ttotal: 17s\tremaining: 11.1s\n",
      "121:\tlearn: 1578.7760240\ttotal: 17.1s\tremaining: 11s\n",
      "122:\tlearn: 1578.3274329\ttotal: 17.3s\tremaining: 10.8s\n",
      "123:\tlearn: 1577.1181115\ttotal: 17.4s\tremaining: 10.7s\n",
      "124:\tlearn: 1575.8693460\ttotal: 17.6s\tremaining: 10.5s\n",
      "125:\tlearn: 1574.7997065\ttotal: 17.7s\tremaining: 10.4s\n",
      "126:\tlearn: 1573.9550539\ttotal: 17.8s\tremaining: 10.2s\n",
      "127:\tlearn: 1573.0460083\ttotal: 18s\tremaining: 10.1s\n",
      "128:\tlearn: 1571.8960234\ttotal: 18.1s\tremaining: 9.97s\n",
      "129:\tlearn: 1571.7438683\ttotal: 18.2s\tremaining: 9.8s\n",
      "130:\tlearn: 1571.5065218\ttotal: 18.4s\tremaining: 9.67s\n",
      "131:\tlearn: 1570.4195847\ttotal: 18.5s\tremaining: 9.52s\n",
      "132:\tlearn: 1568.9066986\ttotal: 18.6s\tremaining: 9.38s\n",
      "133:\tlearn: 1568.4524417\ttotal: 18.7s\tremaining: 9.23s\n",
      "134:\tlearn: 1568.1335953\ttotal: 18.9s\tremaining: 9.09s\n",
      "135:\tlearn: 1567.6777411\ttotal: 19s\tremaining: 8.94s\n",
      "136:\tlearn: 1567.2144906\ttotal: 19.1s\tremaining: 8.8s\n",
      "137:\tlearn: 1566.5363490\ttotal: 19.3s\tremaining: 8.66s\n",
      "138:\tlearn: 1565.8895758\ttotal: 19.4s\tremaining: 8.53s\n",
      "139:\tlearn: 1564.8853251\ttotal: 19.6s\tremaining: 8.4s\n",
      "140:\tlearn: 1563.6181195\ttotal: 19.7s\tremaining: 8.26s\n",
      "141:\tlearn: 1563.0129961\ttotal: 19.9s\tremaining: 8.11s\n",
      "142:\tlearn: 1562.3283369\ttotal: 20s\tremaining: 7.97s\n",
      "143:\tlearn: 1561.5277335\ttotal: 20.1s\tremaining: 7.83s\n",
      "144:\tlearn: 1561.0886705\ttotal: 20.3s\tremaining: 7.69s\n",
      "145:\tlearn: 1560.3174299\ttotal: 20.4s\tremaining: 7.55s\n",
      "146:\tlearn: 1559.4271607\ttotal: 20.6s\tremaining: 7.42s\n",
      "147:\tlearn: 1558.2889831\ttotal: 20.7s\tremaining: 7.28s\n",
      "148:\tlearn: 1557.7689042\ttotal: 20.9s\tremaining: 7.14s\n",
      "149:\tlearn: 1557.2703545\ttotal: 21s\tremaining: 7s\n",
      "150:\tlearn: 1556.7896090\ttotal: 21.1s\tremaining: 6.85s\n",
      "151:\tlearn: 1556.0326462\ttotal: 21.3s\tremaining: 6.72s\n",
      "152:\tlearn: 1555.3811024\ttotal: 21.4s\tremaining: 6.58s\n",
      "153:\tlearn: 1554.7819234\ttotal: 21.6s\tremaining: 6.44s\n",
      "154:\tlearn: 1553.5477651\ttotal: 21.7s\tremaining: 6.3s\n",
      "155:\tlearn: 1552.8254485\ttotal: 21.9s\tremaining: 6.17s\n",
      "156:\tlearn: 1552.1034384\ttotal: 22s\tremaining: 6.03s\n",
      "157:\tlearn: 1551.2784477\ttotal: 22.1s\tremaining: 5.89s\n",
      "158:\tlearn: 1550.0883107\ttotal: 22.3s\tremaining: 5.75s\n",
      "159:\tlearn: 1549.2757237\ttotal: 22.4s\tremaining: 5.61s\n",
      "160:\tlearn: 1549.2059186\ttotal: 22.6s\tremaining: 5.46s\n",
      "161:\tlearn: 1548.8683408\ttotal: 22.7s\tremaining: 5.32s\n",
      "162:\tlearn: 1548.4320712\ttotal: 22.8s\tremaining: 5.18s\n",
      "163:\tlearn: 1548.2745750\ttotal: 23s\tremaining: 5.04s\n",
      "164:\tlearn: 1547.4681646\ttotal: 23.1s\tremaining: 4.9s\n",
      "165:\tlearn: 1546.8174044\ttotal: 23.3s\tremaining: 4.76s\n",
      "166:\tlearn: 1546.4550686\ttotal: 23.4s\tremaining: 4.63s\n",
      "167:\tlearn: 1546.1615897\ttotal: 23.6s\tremaining: 4.49s\n",
      "168:\tlearn: 1545.7305345\ttotal: 23.7s\tremaining: 4.35s\n",
      "169:\tlearn: 1544.8344838\ttotal: 23.8s\tremaining: 4.21s\n",
      "170:\tlearn: 1543.8298257\ttotal: 24s\tremaining: 4.06s\n",
      "171:\tlearn: 1543.6243037\ttotal: 24.1s\tremaining: 3.92s\n",
      "172:\tlearn: 1543.0983842\ttotal: 24.2s\tremaining: 3.78s\n",
      "173:\tlearn: 1542.7981335\ttotal: 24.4s\tremaining: 3.64s\n",
      "174:\tlearn: 1542.5347220\ttotal: 24.5s\tremaining: 3.5s\n",
      "175:\tlearn: 1541.9115323\ttotal: 24.7s\tremaining: 3.37s\n",
      "176:\tlearn: 1541.2604932\ttotal: 24.8s\tremaining: 3.22s\n",
      "177:\tlearn: 1540.2935487\ttotal: 25s\tremaining: 3.08s\n",
      "178:\tlearn: 1539.6705789\ttotal: 25.1s\tremaining: 2.94s\n",
      "179:\tlearn: 1538.5669129\ttotal: 25.2s\tremaining: 2.8s\n",
      "180:\tlearn: 1538.3501213\ttotal: 25.4s\tremaining: 2.66s\n",
      "181:\tlearn: 1537.6013708\ttotal: 25.5s\tremaining: 2.52s\n",
      "182:\tlearn: 1537.1604333\ttotal: 25.7s\tremaining: 2.38s\n",
      "183:\tlearn: 1536.6506592\ttotal: 25.8s\tremaining: 2.24s\n",
      "184:\tlearn: 1536.4591438\ttotal: 25.9s\tremaining: 2.1s\n",
      "185:\tlearn: 1536.0110303\ttotal: 26.1s\tremaining: 1.96s\n",
      "186:\tlearn: 1535.5994042\ttotal: 26.2s\tremaining: 1.82s\n",
      "187:\tlearn: 1535.1258445\ttotal: 26.4s\tremaining: 1.68s\n",
      "188:\tlearn: 1535.1149285\ttotal: 26.5s\tremaining: 1.54s\n",
      "189:\tlearn: 1534.7160180\ttotal: 26.6s\tremaining: 1.4s\n",
      "190:\tlearn: 1534.3615150\ttotal: 26.8s\tremaining: 1.26s\n",
      "191:\tlearn: 1533.7194424\ttotal: 26.9s\tremaining: 1.12s\n",
      "192:\tlearn: 1533.6481252\ttotal: 27s\tremaining: 979ms\n",
      "193:\tlearn: 1532.9379213\ttotal: 27.1s\tremaining: 839ms\n",
      "194:\tlearn: 1532.1681709\ttotal: 27.3s\tremaining: 699ms\n",
      "195:\tlearn: 1531.7250858\ttotal: 27.4s\tremaining: 560ms\n",
      "196:\tlearn: 1531.4246915\ttotal: 27.6s\tremaining: 420ms\n",
      "197:\tlearn: 1530.9905286\ttotal: 27.8s\tremaining: 280ms\n",
      "198:\tlearn: 1530.3384993\ttotal: 27.9s\tremaining: 140ms\n",
      "199:\tlearn: 1529.4717397\ttotal: 28.1s\tremaining: 0us\n",
      "0:\tlearn: 2701.1488578\ttotal: 179ms\tremaining: 35.7s\n",
      "1:\tlearn: 2444.4367272\ttotal: 409ms\tremaining: 40.5s\n",
      "2:\tlearn: 2294.5618481\ttotal: 648ms\tremaining: 42.5s\n",
      "3:\tlearn: 2186.0589744\ttotal: 908ms\tremaining: 44.5s\n",
      "4:\tlearn: 2124.0868391\ttotal: 1.1s\tremaining: 42.9s\n",
      "5:\tlearn: 2075.1946437\ttotal: 1.28s\tremaining: 41.4s\n",
      "6:\tlearn: 2041.1738368\ttotal: 1.45s\tremaining: 40.1s\n",
      "7:\tlearn: 1994.4491556\ttotal: 1.61s\tremaining: 38.6s\n",
      "8:\tlearn: 1954.1143950\ttotal: 1.76s\tremaining: 37.4s\n",
      "9:\tlearn: 1930.4576544\ttotal: 1.89s\tremaining: 35.9s\n",
      "10:\tlearn: 1909.2967865\ttotal: 2.04s\tremaining: 35s\n",
      "11:\tlearn: 1885.1852370\ttotal: 2.18s\tremaining: 34.1s\n",
      "12:\tlearn: 1873.8302990\ttotal: 2.35s\tremaining: 33.8s\n",
      "13:\tlearn: 1860.9636348\ttotal: 2.51s\tremaining: 33.4s\n",
      "14:\tlearn: 1848.8728357\ttotal: 2.67s\tremaining: 32.9s\n",
      "15:\tlearn: 1838.6831345\ttotal: 2.83s\tremaining: 32.6s\n",
      "16:\tlearn: 1827.8458320\ttotal: 3.02s\tremaining: 32.5s\n",
      "17:\tlearn: 1820.2164630\ttotal: 3.17s\tremaining: 32s\n",
      "18:\tlearn: 1814.0368308\ttotal: 3.34s\tremaining: 31.8s\n",
      "19:\tlearn: 1807.5081815\ttotal: 3.49s\tremaining: 31.4s\n",
      "20:\tlearn: 1798.6133904\ttotal: 3.66s\tremaining: 31.2s\n",
      "21:\tlearn: 1790.4279653\ttotal: 3.81s\tremaining: 30.9s\n",
      "22:\tlearn: 1783.6835355\ttotal: 3.98s\tremaining: 30.6s\n",
      "23:\tlearn: 1778.4650061\ttotal: 4.09s\tremaining: 30s\n",
      "24:\tlearn: 1771.7679023\ttotal: 4.23s\tremaining: 29.6s\n",
      "25:\tlearn: 1770.1534838\ttotal: 4.37s\tremaining: 29.3s\n",
      "26:\tlearn: 1766.1480519\ttotal: 4.52s\tremaining: 29s\n",
      "27:\tlearn: 1761.3786763\ttotal: 4.68s\tremaining: 28.7s\n",
      "28:\tlearn: 1756.2803054\ttotal: 4.82s\tremaining: 28.4s\n",
      "29:\tlearn: 1751.8964173\ttotal: 4.96s\tremaining: 28.1s\n",
      "30:\tlearn: 1747.0868580\ttotal: 5.09s\tremaining: 27.8s\n",
      "31:\tlearn: 1743.5631668\ttotal: 5.24s\tremaining: 27.5s\n",
      "32:\tlearn: 1739.9089459\ttotal: 5.38s\tremaining: 27.2s\n",
      "33:\tlearn: 1736.3997443\ttotal: 5.54s\tremaining: 27.1s\n",
      "34:\tlearn: 1733.9107392\ttotal: 5.71s\tremaining: 26.9s\n",
      "35:\tlearn: 1732.4917368\ttotal: 5.85s\tremaining: 26.7s\n",
      "36:\tlearn: 1730.8831912\ttotal: 6s\tremaining: 26.4s\n",
      "37:\tlearn: 1728.1281158\ttotal: 6.16s\tremaining: 26.3s\n",
      "38:\tlearn: 1724.6115628\ttotal: 6.32s\tremaining: 26.1s\n",
      "39:\tlearn: 1720.9295364\ttotal: 6.45s\tremaining: 25.8s\n",
      "40:\tlearn: 1718.4991963\ttotal: 6.58s\tremaining: 25.5s\n",
      "41:\tlearn: 1713.3278712\ttotal: 6.74s\tremaining: 25.3s\n",
      "42:\tlearn: 1709.8473388\ttotal: 6.87s\tremaining: 25.1s\n",
      "43:\tlearn: 1706.9356294\ttotal: 7.01s\tremaining: 24.9s\n",
      "44:\tlearn: 1704.4748040\ttotal: 7.15s\tremaining: 24.6s\n",
      "45:\tlearn: 1701.8446806\ttotal: 7.3s\tremaining: 24.4s\n",
      "46:\tlearn: 1700.0192186\ttotal: 7.44s\tremaining: 24.2s\n",
      "47:\tlearn: 1698.5301672\ttotal: 7.59s\tremaining: 24s\n",
      "48:\tlearn: 1697.2236744\ttotal: 7.73s\tremaining: 23.8s\n",
      "49:\tlearn: 1693.9290139\ttotal: 7.87s\tremaining: 23.6s\n",
      "50:\tlearn: 1691.2997767\ttotal: 8s\tremaining: 23.4s\n",
      "51:\tlearn: 1688.3314595\ttotal: 8.12s\tremaining: 23.1s\n",
      "52:\tlearn: 1687.6958558\ttotal: 8.23s\tremaining: 22.8s\n",
      "53:\tlearn: 1685.4942401\ttotal: 8.37s\tremaining: 22.6s\n",
      "54:\tlearn: 1683.0612532\ttotal: 8.53s\tremaining: 22.5s\n",
      "55:\tlearn: 1680.2044680\ttotal: 8.68s\tremaining: 22.3s\n",
      "56:\tlearn: 1678.3625741\ttotal: 8.82s\tremaining: 22.1s\n",
      "57:\tlearn: 1677.3152115\ttotal: 8.96s\tremaining: 21.9s\n",
      "58:\tlearn: 1674.6426767\ttotal: 9.08s\tremaining: 21.7s\n",
      "59:\tlearn: 1672.1307783\ttotal: 9.22s\tremaining: 21.5s\n",
      "60:\tlearn: 1670.5293689\ttotal: 9.36s\tremaining: 21.3s\n",
      "61:\tlearn: 1669.0392734\ttotal: 9.47s\tremaining: 21.1s\n",
      "62:\tlearn: 1668.0346951\ttotal: 9.59s\tremaining: 20.9s\n",
      "63:\tlearn: 1667.5885974\ttotal: 9.74s\tremaining: 20.7s\n",
      "64:\tlearn: 1666.9341373\ttotal: 9.9s\tremaining: 20.6s\n",
      "65:\tlearn: 1665.2377233\ttotal: 10.1s\tremaining: 20.4s\n",
      "66:\tlearn: 1663.7354925\ttotal: 10.2s\tremaining: 20.3s\n",
      "67:\tlearn: 1662.3399904\ttotal: 10.4s\tremaining: 20.1s\n",
      "68:\tlearn: 1661.3024063\ttotal: 10.5s\tremaining: 19.9s\n"
     ]
    },
    {
     "name": "stdout",
     "output_type": "stream",
     "text": [
      "69:\tlearn: 1659.7598674\ttotal: 10.6s\tremaining: 19.8s\n",
      "70:\tlearn: 1658.2955004\ttotal: 10.8s\tremaining: 19.6s\n",
      "71:\tlearn: 1656.5571223\ttotal: 10.9s\tremaining: 19.4s\n",
      "72:\tlearn: 1655.2955488\ttotal: 11.1s\tremaining: 19.3s\n",
      "73:\tlearn: 1653.2772333\ttotal: 11.3s\tremaining: 19.2s\n",
      "74:\tlearn: 1651.8390982\ttotal: 11.4s\tremaining: 19s\n",
      "75:\tlearn: 1649.4159537\ttotal: 11.6s\tremaining: 18.9s\n",
      "76:\tlearn: 1648.0880397\ttotal: 11.7s\tremaining: 18.8s\n",
      "77:\tlearn: 1647.4448939\ttotal: 11.9s\tremaining: 18.6s\n",
      "78:\tlearn: 1646.3417460\ttotal: 12s\tremaining: 18.4s\n",
      "79:\tlearn: 1644.5837798\ttotal: 12.2s\tremaining: 18.3s\n",
      "80:\tlearn: 1643.1528982\ttotal: 12.3s\tremaining: 18.1s\n",
      "81:\tlearn: 1641.9052367\ttotal: 12.5s\tremaining: 17.9s\n",
      "82:\tlearn: 1639.9790410\ttotal: 12.6s\tremaining: 17.8s\n",
      "83:\tlearn: 1638.3983283\ttotal: 12.7s\tremaining: 17.6s\n",
      "84:\tlearn: 1637.4920374\ttotal: 12.9s\tremaining: 17.4s\n",
      "85:\tlearn: 1636.5694733\ttotal: 13s\tremaining: 17.3s\n",
      "86:\tlearn: 1634.3405589\ttotal: 13.2s\tremaining: 17.1s\n",
      "87:\tlearn: 1633.7432802\ttotal: 13.3s\tremaining: 17s\n",
      "88:\tlearn: 1632.1182925\ttotal: 13.5s\tremaining: 16.8s\n",
      "89:\tlearn: 1630.6335457\ttotal: 13.6s\tremaining: 16.7s\n",
      "90:\tlearn: 1629.6370890\ttotal: 13.8s\tremaining: 16.5s\n",
      "91:\tlearn: 1629.3642169\ttotal: 13.9s\tremaining: 16.4s\n",
      "92:\tlearn: 1627.0866038\ttotal: 14.1s\tremaining: 16.2s\n",
      "93:\tlearn: 1625.1169975\ttotal: 14.2s\tremaining: 16s\n",
      "94:\tlearn: 1624.0035957\ttotal: 14.4s\tremaining: 15.9s\n",
      "95:\tlearn: 1623.0012598\ttotal: 14.5s\tremaining: 15.7s\n",
      "96:\tlearn: 1622.0111613\ttotal: 14.6s\tremaining: 15.5s\n",
      "97:\tlearn: 1621.5644804\ttotal: 14.8s\tremaining: 15.4s\n",
      "98:\tlearn: 1620.4692926\ttotal: 14.9s\tremaining: 15.2s\n",
      "99:\tlearn: 1619.4740952\ttotal: 15.1s\tremaining: 15.1s\n",
      "100:\tlearn: 1619.0431883\ttotal: 15.2s\tremaining: 14.9s\n",
      "101:\tlearn: 1617.9124298\ttotal: 15.3s\tremaining: 14.7s\n",
      "102:\tlearn: 1616.5910601\ttotal: 15.5s\tremaining: 14.6s\n",
      "103:\tlearn: 1615.6408824\ttotal: 15.6s\tremaining: 14.4s\n",
      "104:\tlearn: 1614.7821284\ttotal: 15.8s\tremaining: 14.3s\n",
      "105:\tlearn: 1613.5918182\ttotal: 15.9s\tremaining: 14.1s\n",
      "106:\tlearn: 1612.6984358\ttotal: 16.1s\tremaining: 13.9s\n",
      "107:\tlearn: 1611.2086338\ttotal: 16.2s\tremaining: 13.8s\n",
      "108:\tlearn: 1610.3872243\ttotal: 16.3s\tremaining: 13.6s\n",
      "109:\tlearn: 1609.3241195\ttotal: 16.5s\tremaining: 13.5s\n",
      "110:\tlearn: 1608.2687768\ttotal: 16.6s\tremaining: 13.3s\n",
      "111:\tlearn: 1607.1636031\ttotal: 16.8s\tremaining: 13.2s\n",
      "112:\tlearn: 1605.8110287\ttotal: 16.9s\tremaining: 13s\n",
      "113:\tlearn: 1604.7446213\ttotal: 17.1s\tremaining: 12.9s\n",
      "114:\tlearn: 1603.4517451\ttotal: 17.2s\tremaining: 12.7s\n",
      "115:\tlearn: 1602.3081415\ttotal: 17.3s\tremaining: 12.6s\n",
      "116:\tlearn: 1601.6702359\ttotal: 17.5s\tremaining: 12.4s\n",
      "117:\tlearn: 1600.9066280\ttotal: 17.6s\tremaining: 12.2s\n",
      "118:\tlearn: 1599.8685057\ttotal: 17.8s\tremaining: 12.1s\n",
      "119:\tlearn: 1598.4919112\ttotal: 17.9s\tremaining: 11.9s\n",
      "120:\tlearn: 1597.6827269\ttotal: 18s\tremaining: 11.8s\n",
      "121:\tlearn: 1597.0436330\ttotal: 18.1s\tremaining: 11.6s\n",
      "122:\tlearn: 1595.9570048\ttotal: 18.3s\tremaining: 11.4s\n",
      "123:\tlearn: 1595.4828012\ttotal: 18.4s\tremaining: 11.3s\n",
      "124:\tlearn: 1594.5130042\ttotal: 18.6s\tremaining: 11.1s\n",
      "125:\tlearn: 1593.8150006\ttotal: 18.7s\tremaining: 11s\n",
      "126:\tlearn: 1592.6743720\ttotal: 18.8s\tremaining: 10.8s\n",
      "127:\tlearn: 1592.2657382\ttotal: 19s\tremaining: 10.7s\n",
      "128:\tlearn: 1591.9285657\ttotal: 19.1s\tremaining: 10.5s\n",
      "129:\tlearn: 1591.1653201\ttotal: 19.2s\tremaining: 10.4s\n",
      "130:\tlearn: 1590.2000424\ttotal: 19.4s\tremaining: 10.2s\n",
      "131:\tlearn: 1589.6125221\ttotal: 19.5s\tremaining: 10.1s\n",
      "132:\tlearn: 1588.9553306\ttotal: 19.7s\tremaining: 9.91s\n",
      "133:\tlearn: 1588.7021307\ttotal: 19.8s\tremaining: 9.77s\n",
      "134:\tlearn: 1588.3217926\ttotal: 20s\tremaining: 9.61s\n",
      "135:\tlearn: 1588.0275313\ttotal: 20.1s\tremaining: 9.47s\n",
      "136:\tlearn: 1587.4319577\ttotal: 20.2s\tremaining: 9.31s\n",
      "137:\tlearn: 1587.2609322\ttotal: 20.4s\tremaining: 9.16s\n",
      "138:\tlearn: 1586.1359491\ttotal: 20.5s\tremaining: 9.01s\n",
      "139:\tlearn: 1585.0712607\ttotal: 20.7s\tremaining: 8.86s\n",
      "140:\tlearn: 1584.5742128\ttotal: 20.8s\tremaining: 8.71s\n",
      "141:\tlearn: 1584.1700409\ttotal: 21s\tremaining: 8.56s\n",
      "142:\tlearn: 1583.0423978\ttotal: 21.1s\tremaining: 8.41s\n",
      "143:\tlearn: 1582.3715668\ttotal: 21.3s\tremaining: 8.27s\n",
      "144:\tlearn: 1581.2807495\ttotal: 21.4s\tremaining: 8.12s\n",
      "145:\tlearn: 1580.8666045\ttotal: 21.5s\tremaining: 7.96s\n",
      "146:\tlearn: 1580.2286264\ttotal: 21.6s\tremaining: 7.79s\n",
      "147:\tlearn: 1579.6595476\ttotal: 21.8s\tremaining: 7.65s\n",
      "148:\tlearn: 1579.0638167\ttotal: 21.9s\tremaining: 7.51s\n",
      "149:\tlearn: 1579.0141240\ttotal: 22s\tremaining: 7.35s\n",
      "150:\tlearn: 1578.5062955\ttotal: 22.2s\tremaining: 7.2s\n",
      "151:\tlearn: 1577.7353301\ttotal: 22.3s\tremaining: 7.06s\n",
      "152:\tlearn: 1577.2813680\ttotal: 22.5s\tremaining: 6.9s\n",
      "153:\tlearn: 1576.2580033\ttotal: 22.6s\tremaining: 6.75s\n",
      "154:\tlearn: 1575.6428144\ttotal: 22.7s\tremaining: 6.6s\n",
      "155:\tlearn: 1574.5798078\ttotal: 22.9s\tremaining: 6.45s\n",
      "156:\tlearn: 1573.8854481\ttotal: 23s\tremaining: 6.3s\n",
      "157:\tlearn: 1573.2464250\ttotal: 23.1s\tremaining: 6.15s\n",
      "158:\tlearn: 1573.0936461\ttotal: 23.3s\tremaining: 6s\n",
      "159:\tlearn: 1572.6869458\ttotal: 23.4s\tremaining: 5.85s\n",
      "160:\tlearn: 1572.0823974\ttotal: 23.6s\tremaining: 5.71s\n",
      "161:\tlearn: 1571.4736943\ttotal: 23.7s\tremaining: 5.56s\n",
      "162:\tlearn: 1570.8124813\ttotal: 23.9s\tremaining: 5.42s\n",
      "163:\tlearn: 1570.2993851\ttotal: 24s\tremaining: 5.26s\n",
      "164:\tlearn: 1569.7040998\ttotal: 24.1s\tremaining: 5.11s\n",
      "165:\tlearn: 1569.0958456\ttotal: 24.2s\tremaining: 4.97s\n",
      "166:\tlearn: 1568.0341906\ttotal: 24.4s\tremaining: 4.82s\n",
      "167:\tlearn: 1567.3392769\ttotal: 24.6s\tremaining: 4.68s\n",
      "168:\tlearn: 1566.6766731\ttotal: 24.7s\tremaining: 4.53s\n",
      "169:\tlearn: 1566.3482629\ttotal: 24.8s\tremaining: 4.38s\n",
      "170:\tlearn: 1566.1911466\ttotal: 25s\tremaining: 4.24s\n",
      "171:\tlearn: 1565.5996482\ttotal: 25.1s\tremaining: 4.09s\n",
      "172:\tlearn: 1565.2491150\ttotal: 25.3s\tremaining: 3.94s\n",
      "173:\tlearn: 1564.4615364\ttotal: 25.4s\tremaining: 3.79s\n",
      "174:\tlearn: 1563.7626175\ttotal: 25.5s\tremaining: 3.65s\n",
      "175:\tlearn: 1562.7152101\ttotal: 25.6s\tremaining: 3.5s\n",
      "176:\tlearn: 1562.1295367\ttotal: 25.8s\tremaining: 3.35s\n",
      "177:\tlearn: 1561.1482220\ttotal: 25.9s\tremaining: 3.2s\n",
      "178:\tlearn: 1560.6570640\ttotal: 26s\tremaining: 3.06s\n",
      "179:\tlearn: 1560.1439221\ttotal: 26.2s\tremaining: 2.91s\n",
      "180:\tlearn: 1559.0768643\ttotal: 26.3s\tremaining: 2.76s\n",
      "181:\tlearn: 1558.7742922\ttotal: 26.4s\tremaining: 2.61s\n",
      "182:\tlearn: 1558.4393223\ttotal: 26.6s\tremaining: 2.47s\n",
      "183:\tlearn: 1557.5568065\ttotal: 26.7s\tremaining: 2.32s\n",
      "184:\tlearn: 1557.2194846\ttotal: 26.9s\tremaining: 2.18s\n",
      "185:\tlearn: 1556.5759746\ttotal: 27s\tremaining: 2.03s\n",
      "186:\tlearn: 1555.9958191\ttotal: 27.2s\tremaining: 1.89s\n",
      "187:\tlearn: 1555.2675023\ttotal: 27.3s\tremaining: 1.74s\n",
      "188:\tlearn: 1554.8506076\ttotal: 27.5s\tremaining: 1.6s\n",
      "189:\tlearn: 1553.8229420\ttotal: 27.6s\tremaining: 1.45s\n",
      "190:\tlearn: 1553.2265647\ttotal: 27.7s\tremaining: 1.31s\n",
      "191:\tlearn: 1552.6286097\ttotal: 27.9s\tremaining: 1.16s\n",
      "192:\tlearn: 1551.5827069\ttotal: 28s\tremaining: 1.02s\n",
      "193:\tlearn: 1551.1388548\ttotal: 28.2s\tremaining: 871ms\n",
      "194:\tlearn: 1550.5292334\ttotal: 28.3s\tremaining: 726ms\n",
      "195:\tlearn: 1550.0348150\ttotal: 28.5s\tremaining: 581ms\n",
      "196:\tlearn: 1549.9251039\ttotal: 28.6s\tremaining: 436ms\n",
      "197:\tlearn: 1549.2028167\ttotal: 28.7s\tremaining: 290ms\n",
      "198:\tlearn: 1548.1992617\ttotal: 28.9s\tremaining: 145ms\n",
      "199:\tlearn: 1548.0968845\ttotal: 29s\tremaining: 0us\n",
      "0:\tlearn: 4306.2177963\ttotal: 384ms\tremaining: 1m 16s\n",
      "1:\tlearn: 4154.3145576\ttotal: 680ms\tremaining: 1m 7s\n",
      "2:\tlearn: 4011.0765532\ttotal: 1.06s\tremaining: 1m 9s\n",
      "3:\tlearn: 3875.5688442\ttotal: 1.42s\tremaining: 1m 9s\n",
      "4:\tlearn: 3748.9053297\ttotal: 1.72s\tremaining: 1m 7s\n",
      "5:\tlearn: 3628.4243975\ttotal: 2.07s\tremaining: 1m 7s\n",
      "6:\tlearn: 3516.3836370\ttotal: 2.4s\tremaining: 1m 6s\n",
      "7:\tlearn: 3408.3843782\ttotal: 2.75s\tremaining: 1m 6s\n",
      "8:\tlearn: 3308.0750449\ttotal: 3.12s\tremaining: 1m 6s\n",
      "9:\tlearn: 3214.3803962\ttotal: 3.44s\tremaining: 1m 5s\n",
      "10:\tlearn: 3124.9485782\ttotal: 3.8s\tremaining: 1m 5s\n",
      "11:\tlearn: 3039.7755326\ttotal: 4.13s\tremaining: 1m 4s\n",
      "12:\tlearn: 2960.3401092\ttotal: 4.46s\tremaining: 1m 4s\n",
      "13:\tlearn: 2885.2275820\ttotal: 4.82s\tremaining: 1m 4s\n",
      "14:\tlearn: 2815.6766366\ttotal: 5.15s\tremaining: 1m 3s\n",
      "15:\tlearn: 2748.8421537\ttotal: 5.47s\tremaining: 1m 2s\n",
      "16:\tlearn: 2686.5014364\ttotal: 5.82s\tremaining: 1m 2s\n",
      "17:\tlearn: 2630.6463060\ttotal: 6.15s\tremaining: 1m 2s\n",
      "18:\tlearn: 2576.7899587\ttotal: 6.47s\tremaining: 1m 1s\n",
      "19:\tlearn: 2523.9275187\ttotal: 6.79s\tremaining: 1m 1s\n"
     ]
    },
    {
     "name": "stdout",
     "output_type": "stream",
     "text": [
      "20:\tlearn: 2474.7926949\ttotal: 7.08s\tremaining: 1m\n",
      "21:\tlearn: 2431.2398174\ttotal: 7.48s\tremaining: 1m\n",
      "22:\tlearn: 2388.4254131\ttotal: 7.81s\tremaining: 1m\n",
      "23:\tlearn: 2348.7954959\ttotal: 8.14s\tremaining: 59.7s\n",
      "24:\tlearn: 2310.9041757\ttotal: 8.5s\tremaining: 59.5s\n",
      "25:\tlearn: 2277.0740709\ttotal: 8.85s\tremaining: 59.3s\n",
      "26:\tlearn: 2244.7372040\ttotal: 9.22s\tremaining: 59.1s\n",
      "27:\tlearn: 2215.6566367\ttotal: 9.53s\tremaining: 58.6s\n",
      "28:\tlearn: 2186.6363814\ttotal: 9.88s\tremaining: 58.2s\n",
      "29:\tlearn: 2160.4461806\ttotal: 10.2s\tremaining: 58.1s\n",
      "30:\tlearn: 2134.2353071\ttotal: 10.6s\tremaining: 57.8s\n",
      "31:\tlearn: 2110.9527167\ttotal: 10.9s\tremaining: 57.4s\n",
      "32:\tlearn: 2088.8332282\ttotal: 11.3s\tremaining: 57s\n",
      "33:\tlearn: 2068.7595646\ttotal: 11.6s\tremaining: 56.6s\n",
      "34:\tlearn: 2050.0857315\ttotal: 11.9s\tremaining: 56.2s\n",
      "35:\tlearn: 2031.7881828\ttotal: 12.3s\tremaining: 55.8s\n",
      "36:\tlearn: 2014.7943890\ttotal: 12.6s\tremaining: 55.5s\n",
      "37:\tlearn: 1996.6172547\ttotal: 12.9s\tremaining: 55.1s\n",
      "38:\tlearn: 1980.9334523\ttotal: 13.2s\tremaining: 54.7s\n",
      "39:\tlearn: 1966.7944718\ttotal: 13.6s\tremaining: 54.4s\n",
      "40:\tlearn: 1953.4347279\ttotal: 14s\tremaining: 54.2s\n",
      "41:\tlearn: 1940.4908636\ttotal: 14.3s\tremaining: 53.9s\n",
      "42:\tlearn: 1928.7019340\ttotal: 14.7s\tremaining: 53.6s\n",
      "43:\tlearn: 1917.1553405\ttotal: 15s\tremaining: 53.2s\n",
      "44:\tlearn: 1906.6779726\ttotal: 15.3s\tremaining: 52.7s\n",
      "45:\tlearn: 1897.5776466\ttotal: 15.7s\tremaining: 52.4s\n",
      "46:\tlearn: 1887.4841347\ttotal: 16.1s\tremaining: 52.3s\n",
      "47:\tlearn: 1878.5143359\ttotal: 16.5s\tremaining: 52.1s\n",
      "48:\tlearn: 1869.8119296\ttotal: 16.8s\tremaining: 51.8s\n",
      "49:\tlearn: 1862.2458737\ttotal: 17.3s\tremaining: 52s\n",
      "50:\tlearn: 1854.7802378\ttotal: 17.7s\tremaining: 51.8s\n",
      "51:\tlearn: 1847.5771867\ttotal: 18.1s\tremaining: 51.6s\n",
      "52:\tlearn: 1840.8407470\ttotal: 18.5s\tremaining: 51.2s\n",
      "53:\tlearn: 1834.5073161\ttotal: 18.8s\tremaining: 50.9s\n",
      "54:\tlearn: 1828.7488478\ttotal: 19.2s\tremaining: 50.5s\n",
      "55:\tlearn: 1822.0530573\ttotal: 19.6s\tremaining: 50.4s\n",
      "56:\tlearn: 1816.4475649\ttotal: 19.9s\tremaining: 50s\n",
      "57:\tlearn: 1810.4657041\ttotal: 20.4s\tremaining: 49.9s\n",
      "58:\tlearn: 1805.3628841\ttotal: 20.8s\tremaining: 49.7s\n",
      "59:\tlearn: 1800.2044422\ttotal: 21.2s\tremaining: 49.4s\n",
      "60:\tlearn: 1795.3179152\ttotal: 21.6s\tremaining: 49.2s\n",
      "61:\tlearn: 1791.3322822\ttotal: 21.9s\tremaining: 48.8s\n",
      "62:\tlearn: 1786.7576897\ttotal: 22.3s\tremaining: 48.5s\n",
      "63:\tlearn: 1782.9086709\ttotal: 22.7s\tremaining: 48.2s\n",
      "64:\tlearn: 1778.4074276\ttotal: 23s\tremaining: 47.9s\n",
      "65:\tlearn: 1774.8366807\ttotal: 23.4s\tremaining: 47.5s\n",
      "66:\tlearn: 1770.2216956\ttotal: 23.7s\tremaining: 47.1s\n",
      "67:\tlearn: 1767.1729154\ttotal: 24.1s\tremaining: 46.7s\n",
      "68:\tlearn: 1763.8586170\ttotal: 24.4s\tremaining: 46.3s\n",
      "69:\tlearn: 1760.4967123\ttotal: 24.7s\tremaining: 45.9s\n",
      "70:\tlearn: 1757.0982591\ttotal: 25s\tremaining: 45.5s\n",
      "71:\tlearn: 1754.5310436\ttotal: 25.4s\tremaining: 45.1s\n",
      "72:\tlearn: 1752.4134082\ttotal: 25.7s\tremaining: 44.7s\n",
      "73:\tlearn: 1749.7050799\ttotal: 26s\tremaining: 44.3s\n",
      "74:\tlearn: 1746.8240412\ttotal: 26.4s\tremaining: 44s\n",
      "75:\tlearn: 1744.5156550\ttotal: 26.8s\tremaining: 43.7s\n",
      "76:\tlearn: 1740.9042781\ttotal: 27.1s\tremaining: 43.3s\n",
      "77:\tlearn: 1737.9435891\ttotal: 27.5s\tremaining: 43s\n",
      "78:\tlearn: 1735.4082496\ttotal: 27.9s\tremaining: 42.7s\n",
      "79:\tlearn: 1733.2555703\ttotal: 28.2s\tremaining: 42.3s\n",
      "80:\tlearn: 1729.8842878\ttotal: 28.5s\tremaining: 41.9s\n",
      "81:\tlearn: 1727.6696749\ttotal: 28.8s\tremaining: 41.5s\n",
      "82:\tlearn: 1725.1434232\ttotal: 29.2s\tremaining: 41.1s\n",
      "83:\tlearn: 1723.2601793\ttotal: 29.5s\tremaining: 40.7s\n",
      "84:\tlearn: 1720.7001112\ttotal: 29.8s\tremaining: 40.4s\n",
      "85:\tlearn: 1717.6521019\ttotal: 30.2s\tremaining: 40s\n",
      "86:\tlearn: 1715.3843234\ttotal: 30.5s\tremaining: 39.7s\n",
      "87:\tlearn: 1712.5363257\ttotal: 30.9s\tremaining: 39.3s\n",
      "88:\tlearn: 1710.6552030\ttotal: 31.2s\tremaining: 38.9s\n",
      "89:\tlearn: 1708.3479081\ttotal: 31.6s\tremaining: 38.6s\n",
      "90:\tlearn: 1706.4737896\ttotal: 32s\tremaining: 38.3s\n",
      "91:\tlearn: 1704.6428975\ttotal: 32.3s\tremaining: 37.9s\n",
      "92:\tlearn: 1703.2329164\ttotal: 32.6s\tremaining: 37.6s\n",
      "93:\tlearn: 1701.9888867\ttotal: 33s\tremaining: 37.2s\n",
      "94:\tlearn: 1700.3866618\ttotal: 33.4s\tremaining: 36.9s\n",
      "95:\tlearn: 1698.6713410\ttotal: 33.7s\tremaining: 36.5s\n",
      "96:\tlearn: 1697.5561335\ttotal: 34s\tremaining: 36.1s\n",
      "97:\tlearn: 1695.8047089\ttotal: 34.4s\tremaining: 35.8s\n",
      "98:\tlearn: 1693.3749210\ttotal: 34.7s\tremaining: 35.4s\n",
      "99:\tlearn: 1691.8478206\ttotal: 35.1s\tremaining: 35.1s\n",
      "100:\tlearn: 1690.4653926\ttotal: 35.4s\tremaining: 34.7s\n",
      "101:\tlearn: 1689.6848189\ttotal: 35.8s\tremaining: 34.4s\n",
      "102:\tlearn: 1687.5861792\ttotal: 36.1s\tremaining: 34s\n",
      "103:\tlearn: 1685.4832506\ttotal: 36.5s\tremaining: 33.7s\n",
      "104:\tlearn: 1684.2016706\ttotal: 36.9s\tremaining: 33.4s\n",
      "105:\tlearn: 1682.5010112\ttotal: 37.2s\tremaining: 33s\n",
      "106:\tlearn: 1681.2579627\ttotal: 37.5s\tremaining: 32.6s\n",
      "107:\tlearn: 1679.9114912\ttotal: 37.9s\tremaining: 32.3s\n",
      "108:\tlearn: 1678.7412037\ttotal: 38.3s\tremaining: 32s\n",
      "109:\tlearn: 1676.8952752\ttotal: 38.6s\tremaining: 31.6s\n",
      "110:\tlearn: 1674.9403242\ttotal: 39s\tremaining: 31.3s\n",
      "111:\tlearn: 1673.8579488\ttotal: 39.4s\tremaining: 31s\n",
      "112:\tlearn: 1672.0503193\ttotal: 39.7s\tremaining: 30.6s\n",
      "113:\tlearn: 1670.0817300\ttotal: 40.1s\tremaining: 30.2s\n",
      "114:\tlearn: 1668.7073581\ttotal: 40.4s\tremaining: 29.9s\n",
      "115:\tlearn: 1666.7786271\ttotal: 40.8s\tremaining: 29.5s\n",
      "116:\tlearn: 1665.2822567\ttotal: 41.1s\tremaining: 29.2s\n",
      "117:\tlearn: 1664.0051996\ttotal: 41.5s\tremaining: 28.8s\n",
      "118:\tlearn: 1662.8553619\ttotal: 41.8s\tremaining: 28.5s\n",
      "119:\tlearn: 1660.9971606\ttotal: 42.1s\tremaining: 28.1s\n",
      "120:\tlearn: 1660.0305210\ttotal: 42.5s\tremaining: 27.7s\n",
      "121:\tlearn: 1658.7566552\ttotal: 42.8s\tremaining: 27.4s\n",
      "122:\tlearn: 1656.9770977\ttotal: 43.2s\tremaining: 27s\n",
      "123:\tlearn: 1656.1790501\ttotal: 43.5s\tremaining: 26.7s\n",
      "124:\tlearn: 1655.3602852\ttotal: 43.8s\tremaining: 26.3s\n",
      "125:\tlearn: 1654.3465192\ttotal: 44.2s\tremaining: 26s\n",
      "126:\tlearn: 1653.4615328\ttotal: 44.5s\tremaining: 25.6s\n",
      "127:\tlearn: 1652.0734030\ttotal: 44.8s\tremaining: 25.2s\n",
      "128:\tlearn: 1651.0028903\ttotal: 45.2s\tremaining: 24.9s\n",
      "129:\tlearn: 1649.6595549\ttotal: 45.6s\tremaining: 24.5s\n",
      "130:\tlearn: 1647.7597079\ttotal: 45.9s\tremaining: 24.2s\n",
      "131:\tlearn: 1646.8204478\ttotal: 46.2s\tremaining: 23.8s\n",
      "132:\tlearn: 1645.9772960\ttotal: 46.6s\tremaining: 23.5s\n",
      "133:\tlearn: 1645.1482123\ttotal: 46.9s\tremaining: 23.1s\n",
      "134:\tlearn: 1643.9399497\ttotal: 47.2s\tremaining: 22.7s\n",
      "135:\tlearn: 1642.8392065\ttotal: 47.5s\tremaining: 22.4s\n",
      "136:\tlearn: 1641.7385400\ttotal: 47.8s\tremaining: 22s\n",
      "137:\tlearn: 1640.5318630\ttotal: 48.2s\tremaining: 21.7s\n",
      "138:\tlearn: 1639.8324309\ttotal: 48.5s\tremaining: 21.3s\n",
      "139:\tlearn: 1638.9313477\ttotal: 48.8s\tremaining: 20.9s\n",
      "140:\tlearn: 1638.2621695\ttotal: 49.2s\tremaining: 20.6s\n",
      "141:\tlearn: 1637.2150306\ttotal: 49.6s\tremaining: 20.3s\n",
      "142:\tlearn: 1636.4507304\ttotal: 49.9s\tremaining: 19.9s\n",
      "143:\tlearn: 1635.2497257\ttotal: 50.3s\tremaining: 19.5s\n",
      "144:\tlearn: 1634.1923336\ttotal: 50.6s\tremaining: 19.2s\n",
      "145:\tlearn: 1633.2536435\ttotal: 51s\tremaining: 18.9s\n",
      "146:\tlearn: 1631.8688827\ttotal: 51.3s\tremaining: 18.5s\n",
      "147:\tlearn: 1630.8629559\ttotal: 51.6s\tremaining: 18.1s\n",
      "148:\tlearn: 1630.1868722\ttotal: 52s\tremaining: 17.8s\n",
      "149:\tlearn: 1629.5358670\ttotal: 52.3s\tremaining: 17.4s\n",
      "150:\tlearn: 1628.8741647\ttotal: 52.6s\tremaining: 17.1s\n",
      "151:\tlearn: 1627.8434431\ttotal: 53s\tremaining: 16.7s\n",
      "152:\tlearn: 1627.0285603\ttotal: 53.3s\tremaining: 16.4s\n",
      "153:\tlearn: 1626.2419362\ttotal: 53.7s\tremaining: 16s\n",
      "154:\tlearn: 1625.2517313\ttotal: 54s\tremaining: 15.7s\n",
      "155:\tlearn: 1624.2037221\ttotal: 54.3s\tremaining: 15.3s\n",
      "156:\tlearn: 1623.3851571\ttotal: 54.6s\tremaining: 15s\n",
      "157:\tlearn: 1622.2888459\ttotal: 55s\tremaining: 14.6s\n",
      "158:\tlearn: 1621.4478897\ttotal: 55.3s\tremaining: 14.3s\n",
      "159:\tlearn: 1620.7781162\ttotal: 55.6s\tremaining: 13.9s\n",
      "160:\tlearn: 1620.0450378\ttotal: 56s\tremaining: 13.6s\n",
      "161:\tlearn: 1619.3281988\ttotal: 56.3s\tremaining: 13.2s\n",
      "162:\tlearn: 1618.3471455\ttotal: 56.6s\tremaining: 12.8s\n",
      "163:\tlearn: 1617.6944020\ttotal: 56.9s\tremaining: 12.5s\n",
      "164:\tlearn: 1617.0132662\ttotal: 57.3s\tremaining: 12.1s\n",
      "165:\tlearn: 1616.7335413\ttotal: 57.6s\tremaining: 11.8s\n",
      "166:\tlearn: 1615.9363441\ttotal: 57.9s\tremaining: 11.4s\n",
      "167:\tlearn: 1614.9653753\ttotal: 58.3s\tremaining: 11.1s\n",
      "168:\tlearn: 1613.8381191\ttotal: 58.6s\tremaining: 10.8s\n",
      "169:\tlearn: 1613.1100162\ttotal: 59s\tremaining: 10.4s\n",
      "170:\tlearn: 1612.2090336\ttotal: 59.3s\tremaining: 10.1s\n",
      "171:\tlearn: 1611.1892685\ttotal: 59.6s\tremaining: 9.71s\n"
     ]
    },
    {
     "name": "stdout",
     "output_type": "stream",
     "text": [
      "172:\tlearn: 1609.9786939\ttotal: 1m\tremaining: 9.37s\n",
      "173:\tlearn: 1609.6194488\ttotal: 1m\tremaining: 9.02s\n",
      "174:\tlearn: 1609.0037921\ttotal: 1m\tremaining: 8.66s\n",
      "175:\tlearn: 1608.4973514\ttotal: 1m\tremaining: 8.31s\n",
      "176:\tlearn: 1607.9740456\ttotal: 1m 1s\tremaining: 7.96s\n",
      "177:\tlearn: 1607.2895410\ttotal: 1m 1s\tremaining: 7.62s\n",
      "178:\tlearn: 1606.4053498\ttotal: 1m 2s\tremaining: 7.28s\n",
      "179:\tlearn: 1605.6671883\ttotal: 1m 2s\tremaining: 6.92s\n",
      "180:\tlearn: 1604.6165162\ttotal: 1m 2s\tremaining: 6.58s\n",
      "181:\tlearn: 1603.9160345\ttotal: 1m 3s\tremaining: 6.23s\n",
      "182:\tlearn: 1603.2879562\ttotal: 1m 3s\tremaining: 5.88s\n",
      "183:\tlearn: 1602.7453991\ttotal: 1m 3s\tremaining: 5.53s\n",
      "184:\tlearn: 1602.0077943\ttotal: 1m 3s\tremaining: 5.19s\n",
      "185:\tlearn: 1601.5084016\ttotal: 1m 4s\tremaining: 4.84s\n",
      "186:\tlearn: 1601.0063125\ttotal: 1m 4s\tremaining: 4.5s\n",
      "187:\tlearn: 1600.4752885\ttotal: 1m 4s\tremaining: 4.15s\n",
      "188:\tlearn: 1599.7965936\ttotal: 1m 5s\tremaining: 3.8s\n",
      "189:\tlearn: 1598.9626500\ttotal: 1m 5s\tremaining: 3.46s\n",
      "190:\tlearn: 1597.9490817\ttotal: 1m 5s\tremaining: 3.11s\n",
      "191:\tlearn: 1597.4225783\ttotal: 1m 6s\tremaining: 2.76s\n",
      "192:\tlearn: 1596.9334341\ttotal: 1m 6s\tremaining: 2.42s\n",
      "193:\tlearn: 1596.1754225\ttotal: 1m 6s\tremaining: 2.07s\n",
      "194:\tlearn: 1595.1564108\ttotal: 1m 7s\tremaining: 1.73s\n",
      "195:\tlearn: 1594.8241280\ttotal: 1m 7s\tremaining: 1.38s\n",
      "196:\tlearn: 1594.1326090\ttotal: 1m 8s\tremaining: 1.04s\n",
      "197:\tlearn: 1593.4478910\ttotal: 1m 8s\tremaining: 691ms\n",
      "198:\tlearn: 1592.6176211\ttotal: 1m 8s\tremaining: 345ms\n",
      "199:\tlearn: 1591.7583602\ttotal: 1m 9s\tremaining: 0us\n",
      "0:\tlearn: 4314.5258598\ttotal: 385ms\tremaining: 1m 16s\n",
      "1:\tlearn: 4163.3958919\ttotal: 754ms\tremaining: 1m 14s\n",
      "2:\tlearn: 4018.0988101\ttotal: 1.09s\tremaining: 1m 11s\n",
      "3:\tlearn: 3881.0561498\ttotal: 1.45s\tremaining: 1m 11s\n",
      "4:\tlearn: 3755.0150182\ttotal: 1.77s\tremaining: 1m 9s\n",
      "5:\tlearn: 3632.9497620\ttotal: 2.1s\tremaining: 1m 7s\n",
      "6:\tlearn: 3520.5066719\ttotal: 2.44s\tremaining: 1m 7s\n",
      "7:\tlearn: 3412.7662636\ttotal: 2.75s\tremaining: 1m 6s\n",
      "8:\tlearn: 3311.4909445\ttotal: 3.13s\tremaining: 1m 6s\n",
      "9:\tlearn: 3216.2744538\ttotal: 3.46s\tremaining: 1m 5s\n",
      "10:\tlearn: 3125.4626982\ttotal: 3.82s\tremaining: 1m 5s\n",
      "11:\tlearn: 3040.3486471\ttotal: 4.14s\tremaining: 1m 4s\n",
      "12:\tlearn: 2959.7958326\ttotal: 4.49s\tremaining: 1m 4s\n",
      "13:\tlearn: 2884.8196562\ttotal: 4.83s\tremaining: 1m 4s\n",
      "14:\tlearn: 2814.0838674\ttotal: 5.18s\tremaining: 1m 3s\n",
      "15:\tlearn: 2749.4743933\ttotal: 5.54s\tremaining: 1m 3s\n",
      "16:\tlearn: 2688.4016156\ttotal: 5.88s\tremaining: 1m 3s\n",
      "17:\tlearn: 2630.6536617\ttotal: 6.24s\tremaining: 1m 3s\n",
      "18:\tlearn: 2577.2239692\ttotal: 6.6s\tremaining: 1m 2s\n",
      "19:\tlearn: 2524.8914589\ttotal: 6.96s\tremaining: 1m 2s\n",
      "20:\tlearn: 2476.5484552\ttotal: 7.28s\tremaining: 1m 2s\n",
      "21:\tlearn: 2430.0903160\ttotal: 7.65s\tremaining: 1m 1s\n",
      "22:\tlearn: 2388.5840308\ttotal: 7.99s\tremaining: 1m 1s\n",
      "23:\tlearn: 2350.1503484\ttotal: 8.35s\tremaining: 1m 1s\n",
      "24:\tlearn: 2311.5309410\ttotal: 8.68s\tremaining: 1m\n",
      "25:\tlearn: 2276.8096732\ttotal: 9s\tremaining: 1m\n",
      "26:\tlearn: 2243.5007095\ttotal: 9.29s\tremaining: 59.5s\n",
      "27:\tlearn: 2212.5017545\ttotal: 9.63s\tremaining: 59.1s\n",
      "28:\tlearn: 2185.0823441\ttotal: 9.94s\tremaining: 58.6s\n",
      "29:\tlearn: 2158.4923936\ttotal: 10.3s\tremaining: 58.2s\n",
      "30:\tlearn: 2134.1497145\ttotal: 10.6s\tremaining: 57.7s\n",
      "31:\tlearn: 2111.3625236\ttotal: 10.9s\tremaining: 57.3s\n",
      "32:\tlearn: 2088.0497988\ttotal: 11.2s\tremaining: 56.8s\n",
      "33:\tlearn: 2066.2653751\ttotal: 11.6s\tremaining: 56.5s\n",
      "34:\tlearn: 2047.3173953\ttotal: 11.9s\tremaining: 56.1s\n",
      "35:\tlearn: 2028.9721908\ttotal: 12.3s\tremaining: 55.8s\n",
      "36:\tlearn: 2011.7176192\ttotal: 12.6s\tremaining: 55.4s\n",
      "37:\tlearn: 1994.8593282\ttotal: 12.9s\tremaining: 55.1s\n",
      "38:\tlearn: 1980.4468317\ttotal: 13.2s\tremaining: 54.6s\n",
      "39:\tlearn: 1965.9034737\ttotal: 13.6s\tremaining: 54.3s\n",
      "40:\tlearn: 1952.1434750\ttotal: 13.9s\tremaining: 53.9s\n",
      "41:\tlearn: 1940.0888685\ttotal: 14.2s\tremaining: 53.3s\n",
      "42:\tlearn: 1927.6435786\ttotal: 14.5s\tremaining: 53s\n",
      "43:\tlearn: 1916.0447523\ttotal: 14.8s\tremaining: 52.7s\n",
      "44:\tlearn: 1905.5760127\ttotal: 15.2s\tremaining: 52.3s\n",
      "45:\tlearn: 1895.4659835\ttotal: 15.6s\tremaining: 52.1s\n",
      "46:\tlearn: 1885.8659164\ttotal: 15.9s\tremaining: 51.8s\n",
      "47:\tlearn: 1877.4353527\ttotal: 16.3s\tremaining: 51.5s\n",
      "48:\tlearn: 1868.8916281\ttotal: 16.6s\tremaining: 51.2s\n",
      "49:\tlearn: 1861.6256886\ttotal: 17.1s\tremaining: 51.2s\n",
      "50:\tlearn: 1854.5806731\ttotal: 17.4s\tremaining: 50.9s\n",
      "51:\tlearn: 1847.4547361\ttotal: 17.8s\tremaining: 50.6s\n",
      "52:\tlearn: 1840.4931884\ttotal: 18.1s\tremaining: 50.1s\n",
      "53:\tlearn: 1834.0158070\ttotal: 18.4s\tremaining: 49.8s\n",
      "54:\tlearn: 1826.9664123\ttotal: 18.7s\tremaining: 49.4s\n",
      "55:\tlearn: 1820.2829193\ttotal: 19.1s\tremaining: 49.1s\n",
      "56:\tlearn: 1815.1558683\ttotal: 19.4s\tremaining: 48.7s\n",
      "57:\tlearn: 1809.7804998\ttotal: 19.8s\tremaining: 48.4s\n",
      "58:\tlearn: 1804.6078218\ttotal: 20.1s\tremaining: 48s\n",
      "59:\tlearn: 1799.3062249\ttotal: 20.4s\tremaining: 47.7s\n",
      "60:\tlearn: 1795.0955682\ttotal: 20.8s\tremaining: 47.3s\n",
      "61:\tlearn: 1790.4500651\ttotal: 21.1s\tremaining: 47s\n",
      "62:\tlearn: 1786.3330129\ttotal: 21.5s\tremaining: 46.7s\n",
      "63:\tlearn: 1782.4703947\ttotal: 21.8s\tremaining: 46.4s\n",
      "64:\tlearn: 1778.6353161\ttotal: 22.2s\tremaining: 46s\n",
      "65:\tlearn: 1774.1821577\ttotal: 22.5s\tremaining: 45.7s\n",
      "66:\tlearn: 1770.6393280\ttotal: 22.8s\tremaining: 45.4s\n",
      "67:\tlearn: 1766.7600872\ttotal: 23.2s\tremaining: 44.9s\n",
      "68:\tlearn: 1762.7428182\ttotal: 23.5s\tremaining: 44.7s\n",
      "69:\tlearn: 1759.7365843\ttotal: 23.9s\tremaining: 44.4s\n",
      "70:\tlearn: 1756.5202254\ttotal: 24.2s\tremaining: 43.9s\n",
      "71:\tlearn: 1752.2800385\ttotal: 24.5s\tremaining: 43.6s\n",
      "72:\tlearn: 1749.3199064\ttotal: 24.9s\tremaining: 43.3s\n",
      "73:\tlearn: 1746.1220804\ttotal: 25.2s\tremaining: 42.9s\n",
      "74:\tlearn: 1742.8269935\ttotal: 25.5s\tremaining: 42.5s\n",
      "75:\tlearn: 1738.9007327\ttotal: 25.9s\tremaining: 42.2s\n",
      "76:\tlearn: 1736.7991903\ttotal: 26.2s\tremaining: 41.9s\n",
      "77:\tlearn: 1734.0950878\ttotal: 26.5s\tremaining: 41.5s\n",
      "78:\tlearn: 1730.8858809\ttotal: 26.9s\tremaining: 41.2s\n",
      "79:\tlearn: 1728.8251328\ttotal: 27.2s\tremaining: 40.8s\n",
      "80:\tlearn: 1726.5315262\ttotal: 27.6s\tremaining: 40.5s\n",
      "81:\tlearn: 1724.6332718\ttotal: 27.9s\tremaining: 40.2s\n",
      "82:\tlearn: 1722.8355341\ttotal: 28.3s\tremaining: 39.8s\n",
      "83:\tlearn: 1719.4664480\ttotal: 28.6s\tremaining: 39.5s\n",
      "84:\tlearn: 1717.0834765\ttotal: 29s\tremaining: 39.2s\n",
      "85:\tlearn: 1715.3841857\ttotal: 29.3s\tremaining: 38.9s\n",
      "86:\tlearn: 1713.1194656\ttotal: 29.7s\tremaining: 38.5s\n",
      "87:\tlearn: 1710.6767061\ttotal: 30s\tremaining: 38.2s\n",
      "88:\tlearn: 1709.1531256\ttotal: 30.3s\tremaining: 37.8s\n",
      "89:\tlearn: 1706.8358064\ttotal: 30.7s\tremaining: 37.5s\n",
      "90:\tlearn: 1705.2530191\ttotal: 31s\tremaining: 37.2s\n",
      "91:\tlearn: 1702.7627101\ttotal: 31.3s\tremaining: 36.8s\n",
      "92:\tlearn: 1701.0860942\ttotal: 31.7s\tremaining: 36.4s\n",
      "93:\tlearn: 1699.2027348\ttotal: 32s\tremaining: 36.1s\n",
      "94:\tlearn: 1697.8002989\ttotal: 32.4s\tremaining: 35.8s\n",
      "95:\tlearn: 1695.9056598\ttotal: 32.7s\tremaining: 35.5s\n",
      "96:\tlearn: 1694.0984035\ttotal: 33.1s\tremaining: 35.1s\n",
      "97:\tlearn: 1692.1026462\ttotal: 33.4s\tremaining: 34.8s\n",
      "98:\tlearn: 1690.0784557\ttotal: 33.7s\tremaining: 34.4s\n",
      "99:\tlearn: 1688.7582809\ttotal: 34s\tremaining: 34s\n",
      "100:\tlearn: 1687.3049018\ttotal: 34.4s\tremaining: 33.7s\n",
      "101:\tlearn: 1685.2223690\ttotal: 34.7s\tremaining: 33.4s\n",
      "102:\tlearn: 1683.9783300\ttotal: 35.1s\tremaining: 33s\n",
      "103:\tlearn: 1681.8983435\ttotal: 35.4s\tremaining: 32.7s\n",
      "104:\tlearn: 1679.7036714\ttotal: 35.7s\tremaining: 32.3s\n",
      "105:\tlearn: 1678.4219383\ttotal: 36.1s\tremaining: 32s\n",
      "106:\tlearn: 1677.2271840\ttotal: 36.4s\tremaining: 31.7s\n",
      "107:\tlearn: 1676.1290869\ttotal: 36.8s\tremaining: 31.4s\n",
      "108:\tlearn: 1674.4686040\ttotal: 37.1s\tremaining: 31s\n",
      "109:\tlearn: 1672.6607798\ttotal: 37.4s\tremaining: 30.6s\n",
      "110:\tlearn: 1671.3266146\ttotal: 37.8s\tremaining: 30.3s\n",
      "111:\tlearn: 1669.9596604\ttotal: 38.2s\tremaining: 30s\n",
      "112:\tlearn: 1668.4954159\ttotal: 38.5s\tremaining: 29.6s\n",
      "113:\tlearn: 1666.9193548\ttotal: 38.8s\tremaining: 29.3s\n",
      "114:\tlearn: 1665.8366879\ttotal: 39.2s\tremaining: 29s\n",
      "115:\tlearn: 1663.7009459\ttotal: 39.5s\tremaining: 28.6s\n",
      "116:\tlearn: 1662.4489864\ttotal: 39.9s\tremaining: 28.3s\n",
      "117:\tlearn: 1660.4807268\ttotal: 40.2s\tremaining: 27.9s\n",
      "118:\tlearn: 1658.7583083\ttotal: 40.6s\tremaining: 27.6s\n",
      "119:\tlearn: 1657.3886587\ttotal: 40.9s\tremaining: 27.2s\n",
      "120:\tlearn: 1656.3666121\ttotal: 41.2s\tremaining: 26.9s\n",
      "121:\tlearn: 1654.7777447\ttotal: 41.5s\tremaining: 26.6s\n",
      "122:\tlearn: 1653.5013727\ttotal: 41.9s\tremaining: 26.2s\n",
      "123:\tlearn: 1652.6298857\ttotal: 42.2s\tremaining: 25.9s\n"
     ]
    },
    {
     "name": "stdout",
     "output_type": "stream",
     "text": [
      "124:\tlearn: 1651.5848258\ttotal: 42.6s\tremaining: 25.6s\n",
      "125:\tlearn: 1650.3654908\ttotal: 42.9s\tremaining: 25.2s\n",
      "126:\tlearn: 1649.1177102\ttotal: 43.3s\tremaining: 24.9s\n",
      "127:\tlearn: 1648.3230222\ttotal: 43.6s\tremaining: 24.5s\n",
      "128:\tlearn: 1647.0561003\ttotal: 44s\tremaining: 24.2s\n",
      "129:\tlearn: 1646.0126697\ttotal: 44.3s\tremaining: 23.8s\n",
      "130:\tlearn: 1645.2667401\ttotal: 44.6s\tremaining: 23.5s\n",
      "131:\tlearn: 1644.3714474\ttotal: 44.9s\tremaining: 23.1s\n",
      "132:\tlearn: 1643.2614489\ttotal: 45.2s\tremaining: 22.8s\n",
      "133:\tlearn: 1642.1433388\ttotal: 45.6s\tremaining: 22.4s\n",
      "134:\tlearn: 1641.1821736\ttotal: 45.9s\tremaining: 22.1s\n",
      "135:\tlearn: 1639.9327019\ttotal: 46.3s\tremaining: 21.8s\n",
      "136:\tlearn: 1638.8640466\ttotal: 46.6s\tremaining: 21.4s\n",
      "137:\tlearn: 1638.0761629\ttotal: 46.9s\tremaining: 21.1s\n",
      "138:\tlearn: 1637.1510718\ttotal: 47.3s\tremaining: 20.8s\n",
      "139:\tlearn: 1636.1740231\ttotal: 47.6s\tremaining: 20.4s\n",
      "140:\tlearn: 1635.2203490\ttotal: 47.9s\tremaining: 20.1s\n",
      "141:\tlearn: 1634.5403924\ttotal: 48.3s\tremaining: 19.7s\n",
      "142:\tlearn: 1633.5740163\ttotal: 48.6s\tremaining: 19.4s\n",
      "143:\tlearn: 1632.2456410\ttotal: 48.9s\tremaining: 19s\n",
      "144:\tlearn: 1630.8838459\ttotal: 49.2s\tremaining: 18.7s\n",
      "145:\tlearn: 1630.1378218\ttotal: 49.5s\tremaining: 18.3s\n",
      "146:\tlearn: 1629.3159907\ttotal: 49.8s\tremaining: 18s\n",
      "147:\tlearn: 1628.0665400\ttotal: 50.2s\tremaining: 17.6s\n",
      "148:\tlearn: 1627.5427598\ttotal: 50.5s\tremaining: 17.3s\n",
      "149:\tlearn: 1626.6270961\ttotal: 50.8s\tremaining: 16.9s\n",
      "150:\tlearn: 1625.9216197\ttotal: 51.1s\tremaining: 16.6s\n",
      "151:\tlearn: 1624.8397914\ttotal: 51.5s\tremaining: 16.3s\n",
      "152:\tlearn: 1624.2085088\ttotal: 51.8s\tremaining: 15.9s\n",
      "153:\tlearn: 1622.9475228\ttotal: 52.2s\tremaining: 15.6s\n",
      "154:\tlearn: 1622.0234505\ttotal: 52.5s\tremaining: 15.2s\n",
      "155:\tlearn: 1621.1745285\ttotal: 52.8s\tremaining: 14.9s\n",
      "156:\tlearn: 1620.2339571\ttotal: 53.1s\tremaining: 14.5s\n",
      "157:\tlearn: 1619.3363640\ttotal: 53.4s\tremaining: 14.2s\n",
      "158:\tlearn: 1618.4172220\ttotal: 53.8s\tremaining: 13.9s\n",
      "159:\tlearn: 1617.4676885\ttotal: 54.1s\tremaining: 13.5s\n",
      "160:\tlearn: 1616.6688742\ttotal: 54.4s\tremaining: 13.2s\n",
      "161:\tlearn: 1615.5601146\ttotal: 54.7s\tremaining: 12.8s\n",
      "162:\tlearn: 1615.0128217\ttotal: 55.1s\tremaining: 12.5s\n",
      "163:\tlearn: 1613.9785916\ttotal: 55.5s\tremaining: 12.2s\n",
      "164:\tlearn: 1612.9271362\ttotal: 55.8s\tremaining: 11.8s\n",
      "165:\tlearn: 1611.8171066\ttotal: 56.1s\tremaining: 11.5s\n",
      "166:\tlearn: 1611.2603336\ttotal: 56.4s\tremaining: 11.1s\n",
      "167:\tlearn: 1610.6874422\ttotal: 56.7s\tremaining: 10.8s\n",
      "168:\tlearn: 1610.0249390\ttotal: 57.1s\tremaining: 10.5s\n",
      "169:\tlearn: 1609.1326138\ttotal: 57.4s\tremaining: 10.1s\n",
      "170:\tlearn: 1608.4037496\ttotal: 57.7s\tremaining: 9.79s\n",
      "171:\tlearn: 1607.6912077\ttotal: 58s\tremaining: 9.45s\n",
      "172:\tlearn: 1606.6584816\ttotal: 58.4s\tremaining: 9.11s\n",
      "173:\tlearn: 1605.8693200\ttotal: 58.7s\tremaining: 8.77s\n",
      "174:\tlearn: 1605.3841872\ttotal: 59s\tremaining: 8.43s\n",
      "175:\tlearn: 1604.5575166\ttotal: 59.4s\tremaining: 8.1s\n",
      "176:\tlearn: 1603.7564450\ttotal: 59.7s\tremaining: 7.76s\n",
      "177:\tlearn: 1603.7564410\ttotal: 59.8s\tremaining: 7.39s\n",
      "178:\tlearn: 1603.0296444\ttotal: 1m\tremaining: 7.04s\n",
      "179:\tlearn: 1602.1701613\ttotal: 1m\tremaining: 6.71s\n",
      "180:\tlearn: 1601.1844889\ttotal: 1m\tremaining: 6.38s\n",
      "181:\tlearn: 1600.3307220\ttotal: 1m 1s\tremaining: 6.04s\n",
      "182:\tlearn: 1599.6208679\ttotal: 1m 1s\tremaining: 5.7s\n",
      "183:\tlearn: 1598.6266648\ttotal: 1m 1s\tremaining: 5.37s\n",
      "184:\tlearn: 1597.8626789\ttotal: 1m 2s\tremaining: 5.03s\n",
      "185:\tlearn: 1596.9836474\ttotal: 1m 2s\tremaining: 4.7s\n",
      "186:\tlearn: 1596.1599350\ttotal: 1m 2s\tremaining: 4.36s\n",
      "187:\tlearn: 1595.5013190\ttotal: 1m 3s\tremaining: 4.03s\n",
      "188:\tlearn: 1594.8311401\ttotal: 1m 3s\tremaining: 3.69s\n",
      "189:\tlearn: 1594.2970748\ttotal: 1m 3s\tremaining: 3.35s\n",
      "190:\tlearn: 1593.1440094\ttotal: 1m 4s\tremaining: 3.02s\n",
      "191:\tlearn: 1592.5092907\ttotal: 1m 4s\tremaining: 2.68s\n",
      "192:\tlearn: 1591.6582977\ttotal: 1m 4s\tremaining: 2.35s\n",
      "193:\tlearn: 1591.1633329\ttotal: 1m 5s\tremaining: 2.01s\n",
      "194:\tlearn: 1590.4507198\ttotal: 1m 5s\tremaining: 1.68s\n",
      "195:\tlearn: 1589.9376183\ttotal: 1m 5s\tremaining: 1.34s\n",
      "196:\tlearn: 1589.2654857\ttotal: 1m 6s\tremaining: 1s\n",
      "197:\tlearn: 1588.8985354\ttotal: 1m 6s\tremaining: 670ms\n",
      "198:\tlearn: 1588.2685047\ttotal: 1m 6s\tremaining: 335ms\n",
      "199:\tlearn: 1587.6402252\ttotal: 1m 7s\tremaining: 0us\n",
      "0:\tlearn: 4316.2130517\ttotal: 400ms\tremaining: 1m 19s\n",
      "1:\tlearn: 4163.5678893\ttotal: 747ms\tremaining: 1m 13s\n",
      "2:\tlearn: 4021.7293278\ttotal: 1.08s\tremaining: 1m 11s\n",
      "3:\tlearn: 3883.1070322\ttotal: 1.44s\tremaining: 1m 10s\n",
      "4:\tlearn: 3754.1045667\ttotal: 1.79s\tremaining: 1m 9s\n",
      "5:\tlearn: 3634.2788701\ttotal: 2.12s\tremaining: 1m 8s\n",
      "6:\tlearn: 3521.8693987\ttotal: 2.44s\tremaining: 1m 7s\n",
      "7:\tlearn: 3413.3360201\ttotal: 2.88s\tremaining: 1m 9s\n",
      "8:\tlearn: 3312.8757755\ttotal: 3.46s\tremaining: 1m 13s\n",
      "9:\tlearn: 3217.0648067\ttotal: 3.86s\tremaining: 1m 13s\n",
      "10:\tlearn: 3126.4668385\ttotal: 4.21s\tremaining: 1m 12s\n",
      "11:\tlearn: 3042.0646806\ttotal: 4.56s\tremaining: 1m 11s\n",
      "12:\tlearn: 2963.2494280\ttotal: 4.94s\tremaining: 1m 11s\n",
      "13:\tlearn: 2885.8871671\ttotal: 5.31s\tremaining: 1m 10s\n",
      "14:\tlearn: 2815.1710624\ttotal: 5.66s\tremaining: 1m 9s\n",
      "15:\tlearn: 2748.7475484\ttotal: 6.12s\tremaining: 1m 10s\n",
      "16:\tlearn: 2685.7935854\ttotal: 6.48s\tremaining: 1m 9s\n",
      "17:\tlearn: 2630.3589564\ttotal: 6.79s\tremaining: 1m 8s\n",
      "18:\tlearn: 2576.1838781\ttotal: 7.15s\tremaining: 1m 8s\n",
      "19:\tlearn: 2524.9867211\ttotal: 7.46s\tremaining: 1m 7s\n",
      "20:\tlearn: 2478.0504442\ttotal: 7.81s\tremaining: 1m 6s\n",
      "21:\tlearn: 2436.1482808\ttotal: 8.13s\tremaining: 1m 5s\n",
      "22:\tlearn: 2392.5468759\ttotal: 8.45s\tremaining: 1m 5s\n",
      "23:\tlearn: 2354.1903467\ttotal: 8.81s\tremaining: 1m 4s\n",
      "24:\tlearn: 2317.3164635\ttotal: 9.15s\tremaining: 1m 4s\n",
      "25:\tlearn: 2281.6028061\ttotal: 9.5s\tremaining: 1m 3s\n",
      "26:\tlearn: 2249.4065195\ttotal: 9.85s\tremaining: 1m 3s\n",
      "27:\tlearn: 2217.8076091\ttotal: 10.2s\tremaining: 1m 2s\n",
      "28:\tlearn: 2188.7992760\ttotal: 10.5s\tremaining: 1m 2s\n",
      "29:\tlearn: 2162.4507744\ttotal: 10.9s\tremaining: 1m 1s\n",
      "30:\tlearn: 2135.9492596\ttotal: 11.2s\tremaining: 1m 1s\n",
      "31:\tlearn: 2112.8315319\ttotal: 11.6s\tremaining: 1m\n",
      "32:\tlearn: 2089.7875795\ttotal: 11.9s\tremaining: 1m\n",
      "33:\tlearn: 2068.8440203\ttotal: 12.3s\tremaining: 59.9s\n",
      "34:\tlearn: 2048.6932191\ttotal: 12.6s\tremaining: 59.4s\n",
      "35:\tlearn: 2030.9485033\ttotal: 12.9s\tremaining: 58.9s\n",
      "36:\tlearn: 2015.1671578\ttotal: 13.3s\tremaining: 58.5s\n",
      "37:\tlearn: 1999.0296458\ttotal: 13.6s\tremaining: 58s\n",
      "38:\tlearn: 1984.4298028\ttotal: 14s\tremaining: 57.7s\n",
      "39:\tlearn: 1970.6197847\ttotal: 14.3s\tremaining: 57.3s\n",
      "40:\tlearn: 1957.2354201\ttotal: 14.7s\tremaining: 56.9s\n",
      "41:\tlearn: 1944.9379091\ttotal: 15s\tremaining: 56.4s\n",
      "42:\tlearn: 1932.4400371\ttotal: 15.3s\tremaining: 56s\n",
      "43:\tlearn: 1921.0728547\ttotal: 15.7s\tremaining: 55.6s\n",
      "44:\tlearn: 1911.3674389\ttotal: 16s\tremaining: 55.1s\n",
      "45:\tlearn: 1901.7893053\ttotal: 16.3s\tremaining: 54.7s\n",
      "46:\tlearn: 1892.9753150\ttotal: 16.7s\tremaining: 54.4s\n",
      "47:\tlearn: 1884.5999570\ttotal: 17s\tremaining: 53.9s\n",
      "48:\tlearn: 1876.1608681\ttotal: 17.4s\tremaining: 53.6s\n",
      "49:\tlearn: 1869.0226148\ttotal: 17.7s\tremaining: 53.2s\n",
      "50:\tlearn: 1862.3510788\ttotal: 18.1s\tremaining: 52.8s\n",
      "51:\tlearn: 1855.3431301\ttotal: 18.4s\tremaining: 52.4s\n",
      "52:\tlearn: 1849.0232158\ttotal: 18.8s\tremaining: 52s\n",
      "53:\tlearn: 1842.6032445\ttotal: 19.1s\tremaining: 51.6s\n",
      "54:\tlearn: 1835.8044737\ttotal: 19.4s\tremaining: 51.2s\n",
      "55:\tlearn: 1830.8309707\ttotal: 19.8s\tremaining: 50.9s\n",
      "56:\tlearn: 1825.5125171\ttotal: 20.1s\tremaining: 50.5s\n",
      "57:\tlearn: 1819.9791854\ttotal: 20.5s\tremaining: 50.1s\n",
      "58:\tlearn: 1813.4225022\ttotal: 20.8s\tremaining: 49.7s\n",
      "59:\tlearn: 1808.8451815\ttotal: 21.2s\tremaining: 49.4s\n",
      "60:\tlearn: 1803.8752153\ttotal: 21.5s\tremaining: 49.1s\n",
      "61:\tlearn: 1798.5371549\ttotal: 21.9s\tremaining: 48.8s\n",
      "62:\tlearn: 1794.0708892\ttotal: 22.2s\tremaining: 48.3s\n",
      "63:\tlearn: 1789.0594979\ttotal: 22.6s\tremaining: 47.9s\n",
      "64:\tlearn: 1785.2906903\ttotal: 22.9s\tremaining: 47.6s\n",
      "65:\tlearn: 1780.8132980\ttotal: 23.3s\tremaining: 47.2s\n",
      "66:\tlearn: 1777.7808110\ttotal: 23.6s\tremaining: 46.9s\n",
      "67:\tlearn: 1773.5475260\ttotal: 23.9s\tremaining: 46.5s\n",
      "68:\tlearn: 1770.5730439\ttotal: 24.3s\tremaining: 46.1s\n",
      "69:\tlearn: 1766.5160283\ttotal: 24.6s\tremaining: 45.7s\n",
      "70:\tlearn: 1762.9089497\ttotal: 25s\tremaining: 45.4s\n",
      "71:\tlearn: 1759.0443071\ttotal: 25.4s\tremaining: 45.1s\n",
      "72:\tlearn: 1756.4242832\ttotal: 25.7s\tremaining: 44.7s\n",
      "73:\tlearn: 1752.2756916\ttotal: 26.1s\tremaining: 44.4s\n",
      "74:\tlearn: 1749.8854774\ttotal: 26.4s\tremaining: 44s\n",
      "75:\tlearn: 1746.6299991\ttotal: 26.7s\tremaining: 43.6s\n"
     ]
    },
    {
     "name": "stdout",
     "output_type": "stream",
     "text": [
      "76:\tlearn: 1744.5348337\ttotal: 27.1s\tremaining: 43.2s\n",
      "77:\tlearn: 1741.2850997\ttotal: 27.4s\tremaining: 42.9s\n",
      "78:\tlearn: 1739.5411509\ttotal: 27.7s\tremaining: 42.4s\n",
      "79:\tlearn: 1737.6961498\ttotal: 28.1s\tremaining: 42.1s\n",
      "80:\tlearn: 1735.3281339\ttotal: 28.4s\tremaining: 41.7s\n",
      "81:\tlearn: 1732.4828427\ttotal: 28.7s\tremaining: 41.4s\n",
      "82:\tlearn: 1731.1440168\ttotal: 29.1s\tremaining: 41s\n",
      "83:\tlearn: 1728.9330163\ttotal: 29.4s\tremaining: 40.6s\n",
      "84:\tlearn: 1726.6132061\ttotal: 29.8s\tremaining: 40.3s\n",
      "85:\tlearn: 1723.6882093\ttotal: 30.1s\tremaining: 39.9s\n",
      "86:\tlearn: 1721.4388111\ttotal: 30.5s\tremaining: 39.6s\n",
      "87:\tlearn: 1718.8611363\ttotal: 30.8s\tremaining: 39.2s\n",
      "88:\tlearn: 1716.5693753\ttotal: 31.2s\tremaining: 38.9s\n",
      "89:\tlearn: 1714.7396448\ttotal: 31.5s\tremaining: 38.5s\n",
      "90:\tlearn: 1712.3231969\ttotal: 31.9s\tremaining: 38.2s\n",
      "91:\tlearn: 1710.1396985\ttotal: 32.2s\tremaining: 37.8s\n",
      "92:\tlearn: 1708.8741972\ttotal: 32.5s\tremaining: 37.4s\n",
      "93:\tlearn: 1707.0060482\ttotal: 32.9s\tremaining: 37.1s\n",
      "94:\tlearn: 1704.6617819\ttotal: 33.2s\tremaining: 36.7s\n",
      "95:\tlearn: 1703.1359195\ttotal: 33.6s\tremaining: 36.4s\n",
      "96:\tlearn: 1701.9272387\ttotal: 33.9s\tremaining: 36s\n",
      "97:\tlearn: 1700.3290918\ttotal: 34.2s\tremaining: 35.6s\n",
      "98:\tlearn: 1698.9890517\ttotal: 34.5s\tremaining: 35.2s\n",
      "99:\tlearn: 1696.9740561\ttotal: 34.8s\tremaining: 34.8s\n",
      "100:\tlearn: 1695.4833870\ttotal: 35.1s\tremaining: 34.4s\n",
      "101:\tlearn: 1694.4885055\ttotal: 35.5s\tremaining: 34.1s\n",
      "102:\tlearn: 1693.4524461\ttotal: 35.8s\tremaining: 33.7s\n",
      "103:\tlearn: 1692.0148038\ttotal: 36.2s\tremaining: 33.4s\n",
      "104:\tlearn: 1690.7091417\ttotal: 36.5s\tremaining: 33s\n",
      "105:\tlearn: 1688.9699025\ttotal: 36.9s\tremaining: 32.7s\n",
      "106:\tlearn: 1687.7243599\ttotal: 37.2s\tremaining: 32.3s\n",
      "107:\tlearn: 1685.6600601\ttotal: 37.5s\tremaining: 32s\n",
      "108:\tlearn: 1684.6937222\ttotal: 37.9s\tremaining: 31.6s\n",
      "109:\tlearn: 1683.2629214\ttotal: 38.3s\tremaining: 31.3s\n",
      "110:\tlearn: 1681.8508140\ttotal: 38.6s\tremaining: 30.9s\n",
      "111:\tlearn: 1680.9730888\ttotal: 38.9s\tremaining: 30.6s\n",
      "112:\tlearn: 1679.2841918\ttotal: 39.3s\tremaining: 30.2s\n",
      "113:\tlearn: 1677.9218868\ttotal: 39.6s\tremaining: 29.9s\n",
      "114:\tlearn: 1676.3781585\ttotal: 40s\tremaining: 29.5s\n",
      "115:\tlearn: 1675.1293973\ttotal: 40.3s\tremaining: 29.2s\n",
      "116:\tlearn: 1674.1439195\ttotal: 40.6s\tremaining: 28.8s\n",
      "117:\tlearn: 1672.5968964\ttotal: 40.9s\tremaining: 28.4s\n",
      "118:\tlearn: 1671.3245366\ttotal: 41.2s\tremaining: 28.1s\n",
      "119:\tlearn: 1670.4418550\ttotal: 41.6s\tremaining: 27.7s\n",
      "120:\tlearn: 1669.6313844\ttotal: 41.9s\tremaining: 27.4s\n",
      "121:\tlearn: 1668.0464259\ttotal: 42.3s\tremaining: 27s\n",
      "122:\tlearn: 1666.6927088\ttotal: 42.6s\tremaining: 26.7s\n",
      "123:\tlearn: 1665.8963484\ttotal: 43s\tremaining: 26.4s\n",
      "124:\tlearn: 1664.8212244\ttotal: 43.3s\tremaining: 26s\n",
      "125:\tlearn: 1664.1729979\ttotal: 43.7s\tremaining: 25.6s\n",
      "126:\tlearn: 1663.3766867\ttotal: 44s\tremaining: 25.3s\n",
      "127:\tlearn: 1663.3766841\ttotal: 44s\tremaining: 24.8s\n",
      "128:\tlearn: 1663.3766817\ttotal: 44.1s\tremaining: 24.3s\n",
      "129:\tlearn: 1661.9494661\ttotal: 44.4s\tremaining: 23.9s\n",
      "130:\tlearn: 1661.3655075\ttotal: 44.7s\tremaining: 23.6s\n",
      "131:\tlearn: 1659.7007969\ttotal: 45.1s\tremaining: 23.2s\n",
      "132:\tlearn: 1658.6869317\ttotal: 45.4s\tremaining: 22.9s\n",
      "133:\tlearn: 1657.6814148\ttotal: 45.8s\tremaining: 22.6s\n",
      "134:\tlearn: 1656.7713436\ttotal: 46.1s\tremaining: 22.2s\n",
      "135:\tlearn: 1656.7698170\ttotal: 46.2s\tremaining: 21.8s\n",
      "136:\tlearn: 1655.5488054\ttotal: 46.5s\tremaining: 21.4s\n",
      "137:\tlearn: 1655.5488034\ttotal: 46.6s\tremaining: 20.9s\n",
      "138:\tlearn: 1654.6684422\ttotal: 46.9s\tremaining: 20.6s\n",
      "139:\tlearn: 1653.6259693\ttotal: 47.3s\tremaining: 20.3s\n",
      "140:\tlearn: 1652.8770070\ttotal: 47.6s\tremaining: 19.9s\n",
      "141:\tlearn: 1651.8057025\ttotal: 47.9s\tremaining: 19.6s\n",
      "142:\tlearn: 1651.3754745\ttotal: 48.2s\tremaining: 19.2s\n",
      "143:\tlearn: 1650.6601067\ttotal: 48.5s\tremaining: 18.9s\n",
      "144:\tlearn: 1650.1243770\ttotal: 48.8s\tremaining: 18.5s\n",
      "145:\tlearn: 1649.5990189\ttotal: 49.1s\tremaining: 18.2s\n",
      "146:\tlearn: 1648.4254394\ttotal: 49.4s\tremaining: 17.8s\n",
      "147:\tlearn: 1647.5397846\ttotal: 49.8s\tremaining: 17.5s\n",
      "148:\tlearn: 1647.2127113\ttotal: 49.9s\tremaining: 17.1s\n",
      "149:\tlearn: 1646.3458031\ttotal: 50.2s\tremaining: 16.7s\n",
      "150:\tlearn: 1645.8239908\ttotal: 50.5s\tremaining: 16.4s\n",
      "151:\tlearn: 1644.7692619\ttotal: 50.9s\tremaining: 16.1s\n",
      "152:\tlearn: 1644.3296984\ttotal: 51.2s\tremaining: 15.7s\n",
      "153:\tlearn: 1643.1144440\ttotal: 51.5s\tremaining: 15.4s\n",
      "154:\tlearn: 1642.4647353\ttotal: 51.8s\tremaining: 15.1s\n",
      "155:\tlearn: 1641.8824771\ttotal: 52.2s\tremaining: 14.7s\n",
      "156:\tlearn: 1640.6157213\ttotal: 52.5s\tremaining: 14.4s\n",
      "157:\tlearn: 1640.1113466\ttotal: 52.8s\tremaining: 14s\n",
      "158:\tlearn: 1638.8038170\ttotal: 53.2s\tremaining: 13.7s\n",
      "159:\tlearn: 1638.8038167\ttotal: 53.2s\tremaining: 13.3s\n",
      "160:\tlearn: 1638.2122251\ttotal: 53.6s\tremaining: 13s\n",
      "161:\tlearn: 1637.4690102\ttotal: 53.9s\tremaining: 12.6s\n",
      "162:\tlearn: 1636.2401594\ttotal: 54.3s\tremaining: 12.3s\n",
      "163:\tlearn: 1636.2401590\ttotal: 54.3s\tremaining: 11.9s\n",
      "164:\tlearn: 1635.4748008\ttotal: 54.6s\tremaining: 11.6s\n",
      "165:\tlearn: 1634.8010792\ttotal: 55s\tremaining: 11.3s\n",
      "166:\tlearn: 1634.2185986\ttotal: 55.3s\tremaining: 10.9s\n",
      "167:\tlearn: 1633.3205335\ttotal: 55.7s\tremaining: 10.6s\n",
      "168:\tlearn: 1633.3199563\ttotal: 55.7s\tremaining: 10.2s\n",
      "169:\tlearn: 1632.6132320\ttotal: 56.1s\tremaining: 9.9s\n",
      "170:\tlearn: 1631.6094519\ttotal: 56.4s\tremaining: 9.57s\n",
      "171:\tlearn: 1631.0382315\ttotal: 56.8s\tremaining: 9.24s\n",
      "172:\tlearn: 1630.1042879\ttotal: 57.2s\tremaining: 8.92s\n",
      "173:\tlearn: 1629.4627618\ttotal: 57.5s\tremaining: 8.6s\n",
      "174:\tlearn: 1628.4152378\ttotal: 57.9s\tremaining: 8.27s\n",
      "175:\tlearn: 1627.4944872\ttotal: 58.2s\tremaining: 7.94s\n",
      "176:\tlearn: 1626.5045544\ttotal: 58.5s\tremaining: 7.61s\n",
      "177:\tlearn: 1626.5045544\ttotal: 58.6s\tremaining: 7.24s\n",
      "178:\tlearn: 1625.7275753\ttotal: 58.9s\tremaining: 6.91s\n",
      "179:\tlearn: 1624.6812228\ttotal: 59.2s\tremaining: 6.58s\n",
      "180:\tlearn: 1624.2434821\ttotal: 59.5s\tremaining: 6.25s\n",
      "181:\tlearn: 1624.2434663\ttotal: 59.6s\tremaining: 5.9s\n",
      "182:\tlearn: 1624.2434601\ttotal: 59.7s\tremaining: 5.54s\n",
      "183:\tlearn: 1623.0775325\ttotal: 1m\tremaining: 5.22s\n",
      "184:\tlearn: 1622.4287275\ttotal: 1m\tremaining: 4.89s\n",
      "185:\tlearn: 1621.8736133\ttotal: 1m\tremaining: 4.57s\n",
      "186:\tlearn: 1620.8833186\ttotal: 1m 1s\tremaining: 4.24s\n",
      "187:\tlearn: 1620.5393943\ttotal: 1m 1s\tremaining: 3.92s\n",
      "188:\tlearn: 1619.8277816\ttotal: 1m 1s\tremaining: 3.59s\n",
      "189:\tlearn: 1619.8270150\ttotal: 1m 1s\tremaining: 3.25s\n",
      "190:\tlearn: 1619.1277008\ttotal: 1m 2s\tremaining: 2.92s\n",
      "191:\tlearn: 1618.4783215\ttotal: 1m 2s\tremaining: 2.6s\n",
      "192:\tlearn: 1617.9324081\ttotal: 1m 2s\tremaining: 2.28s\n",
      "193:\tlearn: 1617.1325503\ttotal: 1m 3s\tremaining: 1.95s\n",
      "194:\tlearn: 1616.5691651\ttotal: 1m 3s\tremaining: 1.63s\n",
      "195:\tlearn: 1615.7405419\ttotal: 1m 3s\tremaining: 1.3s\n",
      "196:\tlearn: 1614.8496975\ttotal: 1m 4s\tremaining: 977ms\n",
      "197:\tlearn: 1614.1331940\ttotal: 1m 4s\tremaining: 651ms\n",
      "198:\tlearn: 1613.7622193\ttotal: 1m 4s\tremaining: 325ms\n",
      "199:\tlearn: 1612.9038836\ttotal: 1m 5s\tremaining: 0us\n",
      "0:\tlearn: 2315.7787705\ttotal: 371ms\tremaining: 1m 13s\n",
      "1:\tlearn: 2089.7617248\ttotal: 734ms\tremaining: 1m 12s\n",
      "2:\tlearn: 1978.6244701\ttotal: 1.1s\tremaining: 1m 12s\n",
      "3:\tlearn: 1900.3943076\ttotal: 1.45s\tremaining: 1m 10s\n",
      "4:\tlearn: 1851.3212786\ttotal: 1.81s\tremaining: 1m 10s\n",
      "5:\tlearn: 1809.3386416\ttotal: 2.17s\tremaining: 1m 10s\n",
      "6:\tlearn: 1775.1168486\ttotal: 2.48s\tremaining: 1m 8s\n",
      "7:\tlearn: 1757.1155905\ttotal: 2.8s\tremaining: 1m 7s\n",
      "8:\tlearn: 1737.5284639\ttotal: 3.17s\tremaining: 1m 7s\n",
      "9:\tlearn: 1720.4400848\ttotal: 3.48s\tremaining: 1m 6s\n",
      "10:\tlearn: 1703.4069822\ttotal: 3.8s\tremaining: 1m 5s\n",
      "11:\tlearn: 1690.9788559\ttotal: 4.14s\tremaining: 1m 4s\n",
      "12:\tlearn: 1670.7890861\ttotal: 4.45s\tremaining: 1m 4s\n",
      "13:\tlearn: 1659.5084039\ttotal: 4.81s\tremaining: 1m 3s\n",
      "14:\tlearn: 1651.8682290\ttotal: 5.13s\tremaining: 1m 3s\n",
      "15:\tlearn: 1636.5357817\ttotal: 5.47s\tremaining: 1m 2s\n",
      "16:\tlearn: 1627.2916873\ttotal: 5.79s\tremaining: 1m 2s\n",
      "17:\tlearn: 1616.3116714\ttotal: 6.13s\tremaining: 1m 1s\n",
      "18:\tlearn: 1608.4344053\ttotal: 6.49s\tremaining: 1m 1s\n",
      "19:\tlearn: 1602.0317131\ttotal: 6.82s\tremaining: 1m 1s\n",
      "20:\tlearn: 1595.6728501\ttotal: 7.12s\tremaining: 1m\n",
      "21:\tlearn: 1586.6234976\ttotal: 7.46s\tremaining: 1m\n",
      "22:\tlearn: 1580.5045479\ttotal: 7.8s\tremaining: 1m\n",
      "23:\tlearn: 1572.1272651\ttotal: 8.12s\tremaining: 59.6s\n",
      "24:\tlearn: 1566.5364276\ttotal: 8.48s\tremaining: 59.4s\n",
      "25:\tlearn: 1559.6989044\ttotal: 8.84s\tremaining: 59.1s\n",
      "26:\tlearn: 1554.6025499\ttotal: 9.17s\tremaining: 58.8s\n"
     ]
    },
    {
     "name": "stdout",
     "output_type": "stream",
     "text": [
      "27:\tlearn: 1549.1448733\ttotal: 9.5s\tremaining: 58.4s\n",
      "28:\tlearn: 1541.1988562\ttotal: 9.83s\tremaining: 58s\n",
      "29:\tlearn: 1538.4199113\ttotal: 10.2s\tremaining: 57.7s\n",
      "30:\tlearn: 1534.0736511\ttotal: 10.5s\tremaining: 57.3s\n",
      "31:\tlearn: 1528.0180669\ttotal: 10.9s\tremaining: 57s\n",
      "32:\tlearn: 1522.6701741\ttotal: 11.2s\tremaining: 56.6s\n",
      "33:\tlearn: 1518.6208123\ttotal: 11.5s\tremaining: 56.4s\n",
      "34:\tlearn: 1516.7277292\ttotal: 11.9s\tremaining: 56s\n",
      "35:\tlearn: 1512.5899317\ttotal: 12.2s\tremaining: 55.8s\n",
      "36:\tlearn: 1509.4677147\ttotal: 12.6s\tremaining: 55.5s\n",
      "37:\tlearn: 1504.8792301\ttotal: 12.9s\tremaining: 55.1s\n",
      "38:\tlearn: 1501.3261312\ttotal: 13.3s\tremaining: 54.8s\n",
      "39:\tlearn: 1499.9649512\ttotal: 13.6s\tremaining: 54.6s\n",
      "40:\tlearn: 1493.0293888\ttotal: 13.9s\tremaining: 54.1s\n",
      "41:\tlearn: 1490.3235173\ttotal: 14.3s\tremaining: 53.8s\n",
      "42:\tlearn: 1487.0195562\ttotal: 14.7s\tremaining: 53.5s\n",
      "43:\tlearn: 1484.6305379\ttotal: 15s\tremaining: 53.2s\n",
      "44:\tlearn: 1480.4524503\ttotal: 15.3s\tremaining: 52.8s\n",
      "45:\tlearn: 1479.0413320\ttotal: 15.7s\tremaining: 52.4s\n",
      "46:\tlearn: 1476.7103138\ttotal: 16s\tremaining: 52.1s\n",
      "47:\tlearn: 1472.4765411\ttotal: 16.3s\tremaining: 51.8s\n",
      "48:\tlearn: 1468.2512579\ttotal: 16.7s\tremaining: 51.6s\n",
      "49:\tlearn: 1466.0933902\ttotal: 17.1s\tremaining: 51.3s\n",
      "50:\tlearn: 1462.7311463\ttotal: 17.4s\tremaining: 50.9s\n",
      "51:\tlearn: 1461.8455185\ttotal: 17.8s\tremaining: 50.6s\n",
      "52:\tlearn: 1457.5189775\ttotal: 18.1s\tremaining: 50.2s\n",
      "53:\tlearn: 1455.2069655\ttotal: 18.5s\tremaining: 50s\n",
      "54:\tlearn: 1452.9527382\ttotal: 18.8s\tremaining: 49.6s\n",
      "55:\tlearn: 1451.1071756\ttotal: 19.2s\tremaining: 49.3s\n",
      "56:\tlearn: 1447.3519993\ttotal: 19.5s\tremaining: 49s\n",
      "57:\tlearn: 1445.4192905\ttotal: 19.9s\tremaining: 48.6s\n",
      "58:\tlearn: 1442.6026735\ttotal: 20.2s\tremaining: 48.2s\n",
      "59:\tlearn: 1441.6608658\ttotal: 20.5s\tremaining: 47.8s\n",
      "60:\tlearn: 1439.5247931\ttotal: 20.8s\tremaining: 47.4s\n",
      "61:\tlearn: 1434.8494646\ttotal: 21.2s\tremaining: 47.1s\n",
      "62:\tlearn: 1431.7370041\ttotal: 21.5s\tremaining: 46.7s\n",
      "63:\tlearn: 1428.3459067\ttotal: 21.8s\tremaining: 46.4s\n",
      "64:\tlearn: 1425.5711370\ttotal: 22.2s\tremaining: 46.1s\n",
      "65:\tlearn: 1423.5758148\ttotal: 22.5s\tremaining: 45.7s\n",
      "66:\tlearn: 1420.9074917\ttotal: 22.8s\tremaining: 45.3s\n",
      "67:\tlearn: 1418.7493001\ttotal: 23.2s\tremaining: 45s\n",
      "68:\tlearn: 1415.1090353\ttotal: 23.5s\tremaining: 44.6s\n",
      "69:\tlearn: 1412.4177310\ttotal: 23.8s\tremaining: 44.3s\n",
      "70:\tlearn: 1409.1890620\ttotal: 24.2s\tremaining: 43.9s\n",
      "71:\tlearn: 1406.7541736\ttotal: 24.5s\tremaining: 43.6s\n",
      "72:\tlearn: 1405.5679051\ttotal: 24.8s\tremaining: 43.2s\n",
      "73:\tlearn: 1404.2583717\ttotal: 25.1s\tremaining: 42.8s\n",
      "74:\tlearn: 1401.6325992\ttotal: 25.5s\tremaining: 42.5s\n",
      "75:\tlearn: 1400.5739093\ttotal: 25.8s\tremaining: 42.2s\n",
      "76:\tlearn: 1396.9903966\ttotal: 26.2s\tremaining: 41.9s\n",
      "77:\tlearn: 1394.7657629\ttotal: 26.6s\tremaining: 41.5s\n",
      "78:\tlearn: 1391.3838257\ttotal: 26.9s\tremaining: 41.1s\n",
      "79:\tlearn: 1389.7884250\ttotal: 27.2s\tremaining: 40.8s\n",
      "80:\tlearn: 1388.4115968\ttotal: 27.5s\tremaining: 40.5s\n",
      "81:\tlearn: 1386.7784521\ttotal: 27.9s\tremaining: 40.1s\n",
      "82:\tlearn: 1384.4430595\ttotal: 28.2s\tremaining: 39.7s\n",
      "83:\tlearn: 1382.7325271\ttotal: 28.5s\tremaining: 39.3s\n",
      "84:\tlearn: 1381.2853696\ttotal: 28.9s\tremaining: 39s\n",
      "85:\tlearn: 1378.3772461\ttotal: 29.2s\tremaining: 38.6s\n",
      "86:\tlearn: 1376.9160548\ttotal: 29.5s\tremaining: 38.3s\n",
      "87:\tlearn: 1375.0541970\ttotal: 29.8s\tremaining: 38s\n",
      "88:\tlearn: 1374.1734729\ttotal: 30.2s\tremaining: 37.6s\n",
      "89:\tlearn: 1373.1432953\ttotal: 30.5s\tremaining: 37.3s\n",
      "90:\tlearn: 1371.0872677\ttotal: 30.8s\tremaining: 36.9s\n",
      "91:\tlearn: 1369.1053425\ttotal: 31.2s\tremaining: 36.6s\n",
      "92:\tlearn: 1368.1208977\ttotal: 31.6s\tremaining: 36.3s\n",
      "93:\tlearn: 1366.9587217\ttotal: 31.9s\tremaining: 36s\n",
      "94:\tlearn: 1364.2550857\ttotal: 32.2s\tremaining: 35.6s\n",
      "95:\tlearn: 1362.4222772\ttotal: 32.6s\tremaining: 35.3s\n",
      "96:\tlearn: 1360.4824698\ttotal: 33s\tremaining: 35s\n",
      "97:\tlearn: 1359.2906243\ttotal: 33.3s\tremaining: 34.7s\n",
      "98:\tlearn: 1358.6109981\ttotal: 33.7s\tremaining: 34.4s\n",
      "99:\tlearn: 1357.3225158\ttotal: 34s\tremaining: 34s\n",
      "100:\tlearn: 1355.9571962\ttotal: 34.3s\tremaining: 33.7s\n",
      "101:\tlearn: 1353.7856672\ttotal: 34.7s\tremaining: 33.3s\n",
      "102:\tlearn: 1352.3318533\ttotal: 35s\tremaining: 33s\n",
      "103:\tlearn: 1351.2780105\ttotal: 35.4s\tremaining: 32.7s\n",
      "104:\tlearn: 1349.0307483\ttotal: 35.8s\tremaining: 32.3s\n",
      "105:\tlearn: 1347.8944550\ttotal: 36.1s\tremaining: 32s\n",
      "106:\tlearn: 1346.5700398\ttotal: 36.4s\tremaining: 31.6s\n",
      "107:\tlearn: 1345.0304561\ttotal: 36.7s\tremaining: 31.3s\n",
      "108:\tlearn: 1342.4457071\ttotal: 37.1s\tremaining: 30.9s\n",
      "109:\tlearn: 1340.7057744\ttotal: 37.4s\tremaining: 30.6s\n",
      "110:\tlearn: 1340.4163762\ttotal: 37.8s\tremaining: 30.3s\n",
      "111:\tlearn: 1339.1622219\ttotal: 38.1s\tremaining: 30s\n",
      "112:\tlearn: 1337.3660030\ttotal: 38.5s\tremaining: 29.6s\n",
      "113:\tlearn: 1335.4831469\ttotal: 38.8s\tremaining: 29.3s\n",
      "114:\tlearn: 1332.5772600\ttotal: 39.1s\tremaining: 28.9s\n",
      "115:\tlearn: 1332.0016476\ttotal: 39.5s\tremaining: 28.6s\n",
      "116:\tlearn: 1330.3255995\ttotal: 39.9s\tremaining: 28.3s\n",
      "117:\tlearn: 1330.1082828\ttotal: 40.2s\tremaining: 27.9s\n",
      "118:\tlearn: 1329.6088379\ttotal: 40.5s\tremaining: 27.6s\n",
      "119:\tlearn: 1328.4788257\ttotal: 40.9s\tremaining: 27.3s\n",
      "120:\tlearn: 1325.2464012\ttotal: 41.3s\tremaining: 26.9s\n",
      "121:\tlearn: 1324.1505093\ttotal: 41.6s\tremaining: 26.6s\n",
      "122:\tlearn: 1323.6152433\ttotal: 42s\tremaining: 26.3s\n",
      "123:\tlearn: 1322.7607326\ttotal: 42.4s\tremaining: 26s\n",
      "124:\tlearn: 1321.0813572\ttotal: 42.7s\tremaining: 25.6s\n",
      "125:\tlearn: 1320.1255073\ttotal: 43.1s\tremaining: 25.3s\n",
      "126:\tlearn: 1319.0363918\ttotal: 43.4s\tremaining: 25s\n",
      "127:\tlearn: 1317.2988015\ttotal: 43.7s\tremaining: 24.6s\n",
      "128:\tlearn: 1315.1077461\ttotal: 44s\tremaining: 24.2s\n",
      "129:\tlearn: 1314.3455862\ttotal: 44.4s\tremaining: 23.9s\n",
      "130:\tlearn: 1312.7333358\ttotal: 44.8s\tremaining: 23.6s\n",
      "131:\tlearn: 1312.2827188\ttotal: 45.1s\tremaining: 23.2s\n",
      "132:\tlearn: 1309.6360707\ttotal: 45.4s\tremaining: 22.9s\n",
      "133:\tlearn: 1308.6111311\ttotal: 45.8s\tremaining: 22.5s\n",
      "134:\tlearn: 1307.3970887\ttotal: 46.1s\tremaining: 22.2s\n",
      "135:\tlearn: 1306.7278382\ttotal: 46.4s\tremaining: 21.8s\n",
      "136:\tlearn: 1305.8608671\ttotal: 46.8s\tremaining: 21.5s\n",
      "137:\tlearn: 1303.7994379\ttotal: 47.1s\tremaining: 21.2s\n",
      "138:\tlearn: 1302.1695737\ttotal: 47.5s\tremaining: 20.8s\n",
      "139:\tlearn: 1301.5262064\ttotal: 47.7s\tremaining: 20.5s\n",
      "140:\tlearn: 1300.9820072\ttotal: 48.1s\tremaining: 20.1s\n",
      "141:\tlearn: 1300.0513256\ttotal: 48.4s\tremaining: 19.8s\n",
      "142:\tlearn: 1299.7836398\ttotal: 48.8s\tremaining: 19.4s\n",
      "143:\tlearn: 1299.4204390\ttotal: 49.1s\tremaining: 19.1s\n",
      "144:\tlearn: 1298.5124150\ttotal: 49.5s\tremaining: 18.8s\n",
      "145:\tlearn: 1296.8728782\ttotal: 49.8s\tremaining: 18.4s\n",
      "146:\tlearn: 1296.5902322\ttotal: 50.2s\tremaining: 18.1s\n",
      "147:\tlearn: 1296.2444210\ttotal: 50.5s\tremaining: 17.8s\n",
      "148:\tlearn: 1295.7320532\ttotal: 50.9s\tremaining: 17.4s\n",
      "149:\tlearn: 1294.5117387\ttotal: 51.2s\tremaining: 17.1s\n",
      "150:\tlearn: 1292.3802037\ttotal: 51.5s\tremaining: 16.7s\n",
      "151:\tlearn: 1291.2697809\ttotal: 51.9s\tremaining: 16.4s\n",
      "152:\tlearn: 1289.9799643\ttotal: 52.3s\tremaining: 16.1s\n",
      "153:\tlearn: 1289.1416749\ttotal: 52.6s\tremaining: 15.7s\n",
      "154:\tlearn: 1288.0129682\ttotal: 53s\tremaining: 15.4s\n",
      "155:\tlearn: 1287.3388878\ttotal: 53.3s\tremaining: 15s\n",
      "156:\tlearn: 1287.2578411\ttotal: 53.7s\tremaining: 14.7s\n",
      "157:\tlearn: 1286.6666452\ttotal: 54s\tremaining: 14.4s\n",
      "158:\tlearn: 1285.7832349\ttotal: 54.4s\tremaining: 14s\n",
      "159:\tlearn: 1284.8567909\ttotal: 54.7s\tremaining: 13.7s\n",
      "160:\tlearn: 1283.9298345\ttotal: 55.1s\tremaining: 13.3s\n",
      "161:\tlearn: 1282.5479038\ttotal: 55.5s\tremaining: 13s\n",
      "162:\tlearn: 1281.7247171\ttotal: 55.8s\tremaining: 12.7s\n",
      "163:\tlearn: 1279.1996254\ttotal: 56.2s\tremaining: 12.3s\n",
      "164:\tlearn: 1278.5564373\ttotal: 56.7s\tremaining: 12s\n",
      "165:\tlearn: 1277.8136712\ttotal: 57s\tremaining: 11.7s\n",
      "166:\tlearn: 1277.5209431\ttotal: 57.5s\tremaining: 11.4s\n",
      "167:\tlearn: 1275.4390625\ttotal: 57.9s\tremaining: 11s\n",
      "168:\tlearn: 1274.4774611\ttotal: 58.3s\tremaining: 10.7s\n",
      "169:\tlearn: 1273.0137851\ttotal: 58.7s\tremaining: 10.4s\n",
      "170:\tlearn: 1272.4935542\ttotal: 59.2s\tremaining: 10s\n",
      "171:\tlearn: 1271.6475749\ttotal: 59.6s\tremaining: 9.71s\n",
      "172:\tlearn: 1270.4791451\ttotal: 1m\tremaining: 9.36s\n",
      "173:\tlearn: 1268.5564148\ttotal: 1m\tremaining: 9.02s\n",
      "174:\tlearn: 1268.1236228\ttotal: 1m\tremaining: 8.67s\n",
      "175:\tlearn: 1266.6237087\ttotal: 1m 1s\tremaining: 8.32s\n",
      "176:\tlearn: 1265.1194495\ttotal: 1m 1s\tremaining: 7.98s\n",
      "177:\tlearn: 1263.4872186\ttotal: 1m 1s\tremaining: 7.63s\n",
      "178:\tlearn: 1261.5805082\ttotal: 1m 2s\tremaining: 7.28s\n"
     ]
    },
    {
     "name": "stdout",
     "output_type": "stream",
     "text": [
      "179:\tlearn: 1260.7828743\ttotal: 1m 2s\tremaining: 6.93s\n",
      "180:\tlearn: 1259.1130057\ttotal: 1m 2s\tremaining: 6.59s\n",
      "181:\tlearn: 1258.5096952\ttotal: 1m 3s\tremaining: 6.25s\n",
      "182:\tlearn: 1256.4270240\ttotal: 1m 3s\tremaining: 5.9s\n",
      "183:\tlearn: 1256.0332855\ttotal: 1m 3s\tremaining: 5.55s\n",
      "184:\tlearn: 1255.0087862\ttotal: 1m 4s\tremaining: 5.2s\n",
      "185:\tlearn: 1253.5294710\ttotal: 1m 4s\tremaining: 4.86s\n",
      "186:\tlearn: 1252.6952840\ttotal: 1m 4s\tremaining: 4.51s\n",
      "187:\tlearn: 1252.1240786\ttotal: 1m 5s\tremaining: 4.16s\n",
      "188:\tlearn: 1251.4457590\ttotal: 1m 5s\tremaining: 3.81s\n",
      "189:\tlearn: 1250.1517387\ttotal: 1m 5s\tremaining: 3.46s\n",
      "190:\tlearn: 1249.1850692\ttotal: 1m 6s\tremaining: 3.11s\n",
      "191:\tlearn: 1248.1332000\ttotal: 1m 6s\tremaining: 2.77s\n",
      "192:\tlearn: 1247.2962121\ttotal: 1m 6s\tremaining: 2.42s\n",
      "193:\tlearn: 1246.4538311\ttotal: 1m 7s\tremaining: 2.08s\n",
      "194:\tlearn: 1246.1228979\ttotal: 1m 7s\tremaining: 1.73s\n",
      "195:\tlearn: 1244.8898812\ttotal: 1m 7s\tremaining: 1.39s\n",
      "196:\tlearn: 1244.5907548\ttotal: 1m 8s\tremaining: 1.04s\n",
      "197:\tlearn: 1243.2619327\ttotal: 1m 8s\tremaining: 694ms\n",
      "198:\tlearn: 1242.5103668\ttotal: 1m 9s\tremaining: 347ms\n",
      "199:\tlearn: 1241.6698318\ttotal: 1m 9s\tremaining: 0us\n",
      "0:\tlearn: 2308.2870238\ttotal: 646ms\tremaining: 2m 8s\n",
      "1:\tlearn: 2057.8420135\ttotal: 1.11s\tremaining: 1m 49s\n",
      "2:\tlearn: 1933.7464935\ttotal: 1.54s\tremaining: 1m 41s\n",
      "3:\tlearn: 1874.4103399\ttotal: 2.1s\tremaining: 1m 42s\n",
      "4:\tlearn: 1835.8055789\ttotal: 2.62s\tremaining: 1m 42s\n",
      "5:\tlearn: 1794.8758250\ttotal: 3.29s\tremaining: 1m 46s\n",
      "6:\tlearn: 1771.9790313\ttotal: 3.73s\tremaining: 1m 42s\n",
      "7:\tlearn: 1749.8374813\ttotal: 4.17s\tremaining: 1m 39s\n",
      "8:\tlearn: 1729.9582232\ttotal: 4.62s\tremaining: 1m 38s\n",
      "9:\tlearn: 1714.2077827\ttotal: 5s\tremaining: 1m 34s\n",
      "10:\tlearn: 1700.3739286\ttotal: 5.36s\tremaining: 1m 32s\n",
      "11:\tlearn: 1689.1322281\ttotal: 5.7s\tremaining: 1m 29s\n",
      "12:\tlearn: 1673.6334891\ttotal: 6.1s\tremaining: 1m 27s\n",
      "13:\tlearn: 1658.9654713\ttotal: 6.44s\tremaining: 1m 25s\n",
      "14:\tlearn: 1650.0636424\ttotal: 6.8s\tremaining: 1m 23s\n",
      "15:\tlearn: 1636.4954187\ttotal: 7.2s\tremaining: 1m 22s\n",
      "16:\tlearn: 1626.0964787\ttotal: 7.65s\tremaining: 1m 22s\n",
      "17:\tlearn: 1618.2072110\ttotal: 8.05s\tremaining: 1m 21s\n",
      "18:\tlearn: 1609.3231952\ttotal: 8.44s\tremaining: 1m 20s\n",
      "19:\tlearn: 1599.4458038\ttotal: 8.84s\tremaining: 1m 19s\n",
      "20:\tlearn: 1590.8502059\ttotal: 9.3s\tremaining: 1m 19s\n",
      "21:\tlearn: 1583.2138100\ttotal: 9.69s\tremaining: 1m 18s\n",
      "22:\tlearn: 1577.2324052\ttotal: 10.2s\tremaining: 1m 18s\n",
      "23:\tlearn: 1570.0675068\ttotal: 10.6s\tremaining: 1m 17s\n",
      "24:\tlearn: 1564.4887536\ttotal: 11s\tremaining: 1m 16s\n",
      "25:\tlearn: 1555.4266323\ttotal: 11.3s\tremaining: 1m 15s\n",
      "26:\tlearn: 1551.0538337\ttotal: 11.6s\tremaining: 1m 14s\n",
      "27:\tlearn: 1546.3787867\ttotal: 12s\tremaining: 1m 13s\n",
      "28:\tlearn: 1542.9764812\ttotal: 12.4s\tremaining: 1m 13s\n",
      "29:\tlearn: 1538.8852823\ttotal: 12.7s\tremaining: 1m 11s\n",
      "30:\tlearn: 1534.6944238\ttotal: 13s\tremaining: 1m 11s\n",
      "31:\tlearn: 1530.2312390\ttotal: 13.4s\tremaining: 1m 10s\n",
      "32:\tlearn: 1527.7009393\ttotal: 13.7s\tremaining: 1m 9s\n",
      "33:\tlearn: 1522.2775989\ttotal: 14.1s\tremaining: 1m 8s\n",
      "34:\tlearn: 1517.1907442\ttotal: 14.5s\tremaining: 1m 8s\n",
      "35:\tlearn: 1514.2346858\ttotal: 14.8s\tremaining: 1m 7s\n",
      "36:\tlearn: 1511.9714852\ttotal: 15.1s\tremaining: 1m 6s\n",
      "37:\tlearn: 1508.6845839\ttotal: 15.5s\tremaining: 1m 5s\n",
      "38:\tlearn: 1507.1736479\ttotal: 15.8s\tremaining: 1m 5s\n",
      "39:\tlearn: 1502.9538651\ttotal: 16.2s\tremaining: 1m 4s\n",
      "40:\tlearn: 1500.8531243\ttotal: 16.6s\tremaining: 1m 4s\n",
      "41:\tlearn: 1498.9071149\ttotal: 17s\tremaining: 1m 3s\n",
      "42:\tlearn: 1492.4662261\ttotal: 17.4s\tremaining: 1m 3s\n",
      "43:\tlearn: 1487.3959534\ttotal: 17.8s\tremaining: 1m 3s\n",
      "44:\tlearn: 1485.2265894\ttotal: 18.2s\tremaining: 1m 2s\n",
      "45:\tlearn: 1484.3526203\ttotal: 18.5s\tremaining: 1m 1s\n",
      "46:\tlearn: 1480.6565367\ttotal: 18.8s\tremaining: 1m 1s\n",
      "47:\tlearn: 1477.2010994\ttotal: 19.2s\tremaining: 1m\n",
      "48:\tlearn: 1475.1786961\ttotal: 19.5s\tremaining: 1m\n",
      "49:\tlearn: 1471.7062910\ttotal: 19.8s\tremaining: 59.4s\n",
      "50:\tlearn: 1469.2193962\ttotal: 20.1s\tremaining: 58.8s\n",
      "51:\tlearn: 1465.0421164\ttotal: 20.5s\tremaining: 58.3s\n",
      "52:\tlearn: 1461.5897359\ttotal: 20.9s\tremaining: 57.9s\n",
      "53:\tlearn: 1457.2239700\ttotal: 21.2s\tremaining: 57.4s\n",
      "54:\tlearn: 1452.7090440\ttotal: 21.6s\tremaining: 56.9s\n",
      "55:\tlearn: 1446.4973224\ttotal: 21.9s\tremaining: 56.4s\n",
      "56:\tlearn: 1443.4975944\ttotal: 22.3s\tremaining: 55.9s\n",
      "57:\tlearn: 1438.8881689\ttotal: 22.6s\tremaining: 55.4s\n",
      "58:\tlearn: 1437.6001787\ttotal: 23s\tremaining: 55s\n",
      "59:\tlearn: 1435.3633427\ttotal: 23.4s\tremaining: 54.5s\n",
      "60:\tlearn: 1433.2522610\ttotal: 23.7s\tremaining: 54.1s\n",
      "61:\tlearn: 1429.6510204\ttotal: 24.1s\tremaining: 53.6s\n",
      "62:\tlearn: 1428.7088082\ttotal: 24.4s\tremaining: 53s\n",
      "63:\tlearn: 1426.4659733\ttotal: 24.6s\tremaining: 52.4s\n",
      "64:\tlearn: 1423.4582107\ttotal: 25s\tremaining: 51.8s\n",
      "65:\tlearn: 1421.7249555\ttotal: 25.3s\tremaining: 51.4s\n",
      "66:\tlearn: 1419.5460422\ttotal: 25.7s\tremaining: 51s\n",
      "67:\tlearn: 1419.0537310\ttotal: 26s\tremaining: 50.5s\n",
      "68:\tlearn: 1416.5640737\ttotal: 26.4s\tremaining: 50.1s\n",
      "69:\tlearn: 1415.9342987\ttotal: 26.7s\tremaining: 49.6s\n",
      "70:\tlearn: 1413.6712689\ttotal: 27s\tremaining: 49.1s\n",
      "71:\tlearn: 1409.4673408\ttotal: 27.4s\tremaining: 48.7s\n",
      "72:\tlearn: 1407.5232897\ttotal: 27.7s\tremaining: 48.2s\n",
      "73:\tlearn: 1406.0165952\ttotal: 28.1s\tremaining: 47.8s\n",
      "74:\tlearn: 1404.5769985\ttotal: 28.5s\tremaining: 47.5s\n",
      "75:\tlearn: 1404.4578514\ttotal: 28.8s\tremaining: 47s\n",
      "76:\tlearn: 1403.8977970\ttotal: 29.1s\tremaining: 46.6s\n",
      "77:\tlearn: 1401.3717933\ttotal: 29.5s\tremaining: 46.1s\n",
      "78:\tlearn: 1400.7674198\ttotal: 29.9s\tremaining: 45.7s\n",
      "79:\tlearn: 1398.8376487\ttotal: 30.2s\tremaining: 45.4s\n",
      "80:\tlearn: 1397.0327903\ttotal: 30.6s\tremaining: 44.9s\n",
      "81:\tlearn: 1395.3966265\ttotal: 31s\tremaining: 44.6s\n",
      "82:\tlearn: 1393.9660533\ttotal: 31.3s\tremaining: 44.2s\n",
      "83:\tlearn: 1392.6134691\ttotal: 31.7s\tremaining: 43.7s\n",
      "84:\tlearn: 1392.1018120\ttotal: 32s\tremaining: 43.3s\n",
      "85:\tlearn: 1389.7183637\ttotal: 32.3s\tremaining: 42.8s\n",
      "86:\tlearn: 1386.8348221\ttotal: 32.6s\tremaining: 42.3s\n",
      "87:\tlearn: 1384.6803483\ttotal: 33s\tremaining: 41.9s\n",
      "88:\tlearn: 1383.1383011\ttotal: 33.3s\tremaining: 41.5s\n",
      "89:\tlearn: 1381.5823377\ttotal: 33.6s\tremaining: 41.1s\n",
      "90:\tlearn: 1380.1334561\ttotal: 34s\tremaining: 40.7s\n",
      "91:\tlearn: 1379.4885400\ttotal: 34.3s\tremaining: 40.3s\n",
      "92:\tlearn: 1377.9027828\ttotal: 34.7s\tremaining: 39.9s\n",
      "93:\tlearn: 1376.9849591\ttotal: 35s\tremaining: 39.5s\n",
      "94:\tlearn: 1374.4749075\ttotal: 35.3s\tremaining: 39s\n",
      "95:\tlearn: 1372.2850538\ttotal: 35.7s\tremaining: 38.7s\n",
      "96:\tlearn: 1372.0957027\ttotal: 36s\tremaining: 38.2s\n",
      "97:\tlearn: 1369.1398828\ttotal: 36.3s\tremaining: 37.8s\n",
      "98:\tlearn: 1367.6316201\ttotal: 36.7s\tremaining: 37.4s\n",
      "99:\tlearn: 1365.2126264\ttotal: 37s\tremaining: 37s\n",
      "100:\tlearn: 1364.3539926\ttotal: 37.5s\tremaining: 36.7s\n",
      "101:\tlearn: 1363.2643602\ttotal: 37.8s\tremaining: 36.3s\n",
      "102:\tlearn: 1362.4166543\ttotal: 38.4s\tremaining: 36.1s\n",
      "103:\tlearn: 1360.7361225\ttotal: 38.7s\tremaining: 35.7s\n",
      "104:\tlearn: 1358.2755528\ttotal: 39.1s\tremaining: 35.3s\n",
      "105:\tlearn: 1356.0836760\ttotal: 39.5s\tremaining: 35s\n",
      "106:\tlearn: 1356.0179587\ttotal: 39.8s\tremaining: 34.6s\n",
      "107:\tlearn: 1354.5143604\ttotal: 40.2s\tremaining: 34.3s\n",
      "108:\tlearn: 1352.2478109\ttotal: 40.6s\tremaining: 33.9s\n",
      "109:\tlearn: 1351.4441227\ttotal: 41.1s\tremaining: 33.6s\n",
      "110:\tlearn: 1350.1469906\ttotal: 41.5s\tremaining: 33.3s\n",
      "111:\tlearn: 1349.1649824\ttotal: 41.9s\tremaining: 33s\n",
      "112:\tlearn: 1346.6832011\ttotal: 42.3s\tremaining: 32.6s\n",
      "113:\tlearn: 1344.9390310\ttotal: 42.7s\tremaining: 32.2s\n",
      "114:\tlearn: 1343.7142435\ttotal: 43.1s\tremaining: 31.9s\n",
      "115:\tlearn: 1342.9595921\ttotal: 43.5s\tremaining: 31.5s\n",
      "116:\tlearn: 1340.7607110\ttotal: 43.9s\tremaining: 31.2s\n",
      "117:\tlearn: 1339.8391503\ttotal: 44.3s\tremaining: 30.8s\n",
      "118:\tlearn: 1337.6135633\ttotal: 44.6s\tremaining: 30.4s\n",
      "119:\tlearn: 1336.2764558\ttotal: 44.9s\tremaining: 29.9s\n",
      "120:\tlearn: 1335.0562678\ttotal: 45.3s\tremaining: 29.6s\n",
      "121:\tlearn: 1333.9406236\ttotal: 45.6s\tremaining: 29.2s\n",
      "122:\tlearn: 1332.5018125\ttotal: 46s\tremaining: 28.8s\n",
      "123:\tlearn: 1331.0445828\ttotal: 46.4s\tremaining: 28.4s\n",
      "124:\tlearn: 1329.0969694\ttotal: 46.7s\tremaining: 28s\n",
      "125:\tlearn: 1328.6712850\ttotal: 47.1s\tremaining: 27.6s\n",
      "126:\tlearn: 1327.5482078\ttotal: 47.4s\tremaining: 27.2s\n",
      "127:\tlearn: 1325.2185041\ttotal: 47.7s\tremaining: 26.8s\n",
      "128:\tlearn: 1324.2337561\ttotal: 48s\tremaining: 26.4s\n",
      "129:\tlearn: 1323.7856615\ttotal: 48.4s\tremaining: 26.1s\n",
      "130:\tlearn: 1322.6220617\ttotal: 48.7s\tremaining: 25.7s\n"
     ]
    },
    {
     "name": "stdout",
     "output_type": "stream",
     "text": [
      "131:\tlearn: 1321.9252805\ttotal: 49.1s\tremaining: 25.3s\n",
      "132:\tlearn: 1320.8115195\ttotal: 49.4s\tremaining: 24.9s\n",
      "133:\tlearn: 1319.4552474\ttotal: 49.8s\tremaining: 24.5s\n",
      "134:\tlearn: 1318.4293389\ttotal: 50.2s\tremaining: 24.1s\n",
      "135:\tlearn: 1316.8448285\ttotal: 50.5s\tremaining: 23.7s\n",
      "136:\tlearn: 1316.0767970\ttotal: 50.8s\tremaining: 23.4s\n",
      "137:\tlearn: 1314.8621349\ttotal: 51.1s\tremaining: 23s\n",
      "138:\tlearn: 1313.2716550\ttotal: 51.6s\tremaining: 22.6s\n",
      "139:\tlearn: 1312.2665005\ttotal: 52s\tremaining: 22.3s\n",
      "140:\tlearn: 1310.5805335\ttotal: 52.3s\tremaining: 21.9s\n",
      "141:\tlearn: 1307.1922561\ttotal: 52.7s\tremaining: 21.5s\n",
      "142:\tlearn: 1305.7624961\ttotal: 53.1s\tremaining: 21.2s\n",
      "143:\tlearn: 1303.6604391\ttotal: 53.4s\tremaining: 20.8s\n",
      "144:\tlearn: 1302.1681052\ttotal: 53.8s\tremaining: 20.4s\n",
      "145:\tlearn: 1300.9005080\ttotal: 54.1s\tremaining: 20s\n",
      "146:\tlearn: 1299.9973588\ttotal: 54.5s\tremaining: 19.7s\n",
      "147:\tlearn: 1298.6878947\ttotal: 54.9s\tremaining: 19.3s\n",
      "148:\tlearn: 1296.9235532\ttotal: 55.2s\tremaining: 18.9s\n",
      "149:\tlearn: 1295.4949135\ttotal: 55.5s\tremaining: 18.5s\n",
      "150:\tlearn: 1293.5400279\ttotal: 55.9s\tremaining: 18.1s\n",
      "151:\tlearn: 1291.5391519\ttotal: 56.2s\tremaining: 17.8s\n",
      "152:\tlearn: 1289.9835257\ttotal: 56.6s\tremaining: 17.4s\n",
      "153:\tlearn: 1289.1589428\ttotal: 56.9s\tremaining: 17s\n",
      "154:\tlearn: 1287.9314067\ttotal: 57.3s\tremaining: 16.6s\n",
      "155:\tlearn: 1286.5431421\ttotal: 57.6s\tremaining: 16.2s\n",
      "156:\tlearn: 1284.8065143\ttotal: 57.9s\tremaining: 15.9s\n",
      "157:\tlearn: 1284.4041939\ttotal: 58.3s\tremaining: 15.5s\n",
      "158:\tlearn: 1283.9363951\ttotal: 58.6s\tremaining: 15.1s\n",
      "159:\tlearn: 1283.0644690\ttotal: 58.9s\tremaining: 14.7s\n",
      "160:\tlearn: 1282.4944123\ttotal: 59.2s\tremaining: 14.3s\n",
      "161:\tlearn: 1281.5100642\ttotal: 59.5s\tremaining: 14s\n",
      "162:\tlearn: 1279.7874230\ttotal: 59.9s\tremaining: 13.6s\n",
      "163:\tlearn: 1278.4970258\ttotal: 1m\tremaining: 13.2s\n",
      "164:\tlearn: 1276.9466741\ttotal: 1m\tremaining: 12.8s\n",
      "165:\tlearn: 1276.2448251\ttotal: 1m\tremaining: 12.5s\n",
      "166:\tlearn: 1275.1930886\ttotal: 1m 1s\tremaining: 12.1s\n",
      "167:\tlearn: 1274.5698201\ttotal: 1m 1s\tremaining: 11.7s\n",
      "168:\tlearn: 1274.2210797\ttotal: 1m 1s\tremaining: 11.4s\n",
      "169:\tlearn: 1274.1758686\ttotal: 1m 2s\tremaining: 11s\n",
      "170:\tlearn: 1273.6956343\ttotal: 1m 2s\tremaining: 10.6s\n",
      "171:\tlearn: 1273.1633831\ttotal: 1m 3s\tremaining: 10.3s\n",
      "172:\tlearn: 1271.6700872\ttotal: 1m 3s\tremaining: 9.89s\n",
      "173:\tlearn: 1271.4016645\ttotal: 1m 3s\tremaining: 9.52s\n",
      "174:\tlearn: 1270.8244288\ttotal: 1m 3s\tremaining: 9.14s\n",
      "175:\tlearn: 1269.7905420\ttotal: 1m 4s\tremaining: 8.77s\n",
      "176:\tlearn: 1268.4211013\ttotal: 1m 4s\tremaining: 8.41s\n",
      "177:\tlearn: 1267.7933683\ttotal: 1m 5s\tremaining: 8.04s\n",
      "178:\tlearn: 1267.3819036\ttotal: 1m 5s\tremaining: 7.68s\n",
      "179:\tlearn: 1266.2021071\ttotal: 1m 5s\tremaining: 7.31s\n",
      "180:\tlearn: 1265.5051863\ttotal: 1m 6s\tremaining: 6.95s\n",
      "181:\tlearn: 1264.6928248\ttotal: 1m 6s\tremaining: 6.58s\n",
      "182:\tlearn: 1264.0923289\ttotal: 1m 6s\tremaining: 6.22s\n",
      "183:\tlearn: 1263.1164331\ttotal: 1m 7s\tremaining: 5.86s\n",
      "184:\tlearn: 1262.5654940\ttotal: 1m 7s\tremaining: 5.49s\n",
      "185:\tlearn: 1262.3185857\ttotal: 1m 8s\tremaining: 5.13s\n",
      "186:\tlearn: 1261.5207235\ttotal: 1m 8s\tremaining: 4.76s\n",
      "187:\tlearn: 1260.9053755\ttotal: 1m 8s\tremaining: 4.39s\n",
      "188:\tlearn: 1260.3607063\ttotal: 1m 9s\tremaining: 4.03s\n",
      "189:\tlearn: 1259.2029017\ttotal: 1m 9s\tremaining: 3.66s\n",
      "190:\tlearn: 1258.5917158\ttotal: 1m 9s\tremaining: 3.29s\n",
      "191:\tlearn: 1257.9322996\ttotal: 1m 10s\tremaining: 2.93s\n",
      "192:\tlearn: 1257.5650777\ttotal: 1m 10s\tremaining: 2.56s\n",
      "193:\tlearn: 1256.8016401\ttotal: 1m 10s\tremaining: 2.19s\n",
      "194:\tlearn: 1256.6910897\ttotal: 1m 11s\tremaining: 1.83s\n",
      "195:\tlearn: 1255.1880383\ttotal: 1m 11s\tremaining: 1.46s\n",
      "196:\tlearn: 1253.8754255\ttotal: 1m 12s\tremaining: 1.1s\n",
      "197:\tlearn: 1252.9690779\ttotal: 1m 12s\tremaining: 732ms\n",
      "198:\tlearn: 1252.5004941\ttotal: 1m 12s\tremaining: 366ms\n",
      "199:\tlearn: 1251.6277857\ttotal: 1m 13s\tremaining: 0us\n",
      "0:\tlearn: 2323.9911805\ttotal: 433ms\tremaining: 1m 26s\n",
      "1:\tlearn: 2096.1877097\ttotal: 798ms\tremaining: 1m 19s\n",
      "2:\tlearn: 1977.9201977\ttotal: 1.11s\tremaining: 1m 13s\n",
      "3:\tlearn: 1896.9418245\ttotal: 1.43s\tremaining: 1m 10s\n",
      "4:\tlearn: 1839.7060381\ttotal: 1.76s\tremaining: 1m 8s\n",
      "5:\tlearn: 1804.4996840\ttotal: 2.1s\tremaining: 1m 7s\n",
      "6:\tlearn: 1781.3021582\ttotal: 2.45s\tremaining: 1m 7s\n",
      "7:\tlearn: 1752.8979417\ttotal: 2.82s\tremaining: 1m 7s\n",
      "8:\tlearn: 1730.6610919\ttotal: 3.2s\tremaining: 1m 7s\n",
      "9:\tlearn: 1719.4949018\ttotal: 3.59s\tremaining: 1m 8s\n",
      "10:\tlearn: 1701.1198671\ttotal: 3.91s\tremaining: 1m 7s\n",
      "11:\tlearn: 1688.6827732\ttotal: 4.22s\tremaining: 1m 6s\n",
      "12:\tlearn: 1671.3461029\ttotal: 4.54s\tremaining: 1m 5s\n",
      "13:\tlearn: 1659.0564691\ttotal: 4.9s\tremaining: 1m 5s\n",
      "14:\tlearn: 1648.4246130\ttotal: 5.22s\tremaining: 1m 4s\n",
      "15:\tlearn: 1638.1384617\ttotal: 5.57s\tremaining: 1m 4s\n",
      "16:\tlearn: 1627.2046729\ttotal: 5.93s\tremaining: 1m 3s\n",
      "17:\tlearn: 1618.5960401\ttotal: 6.28s\tremaining: 1m 3s\n",
      "18:\tlearn: 1611.9052764\ttotal: 6.61s\tremaining: 1m 2s\n",
      "19:\tlearn: 1606.6888462\ttotal: 6.92s\tremaining: 1m 2s\n",
      "20:\tlearn: 1606.6873043\ttotal: 7.04s\tremaining: 1m\n",
      "21:\tlearn: 1600.4303500\ttotal: 7.37s\tremaining: 59.7s\n",
      "22:\tlearn: 1599.1561453\ttotal: 7.71s\tremaining: 59.3s\n",
      "23:\tlearn: 1589.0718888\ttotal: 8.09s\tremaining: 59.3s\n",
      "24:\tlearn: 1581.0149868\ttotal: 8.42s\tremaining: 59s\n",
      "25:\tlearn: 1575.0832837\ttotal: 8.76s\tremaining: 58.7s\n",
      "26:\tlearn: 1568.3931252\ttotal: 9.13s\tremaining: 58.5s\n",
      "27:\tlearn: 1563.7310264\ttotal: 9.47s\tremaining: 58.2s\n",
      "28:\tlearn: 1556.4825404\ttotal: 9.81s\tremaining: 57.8s\n",
      "29:\tlearn: 1549.5232636\ttotal: 10.2s\tremaining: 57.5s\n",
      "30:\tlearn: 1545.8154574\ttotal: 10.5s\tremaining: 57.2s\n",
      "31:\tlearn: 1538.1543077\ttotal: 10.9s\tremaining: 57.3s\n",
      "32:\tlearn: 1536.4457246\ttotal: 11.3s\tremaining: 57.1s\n",
      "33:\tlearn: 1533.4879622\ttotal: 11.6s\tremaining: 56.8s\n",
      "34:\tlearn: 1531.4191494\ttotal: 12s\tremaining: 56.4s\n",
      "35:\tlearn: 1526.6922509\ttotal: 12.3s\tremaining: 56s\n",
      "36:\tlearn: 1522.9254072\ttotal: 12.7s\tremaining: 55.7s\n",
      "37:\tlearn: 1520.3904125\ttotal: 13s\tremaining: 55.5s\n",
      "38:\tlearn: 1518.0487387\ttotal: 13.4s\tremaining: 55.1s\n",
      "39:\tlearn: 1512.4307402\ttotal: 13.7s\tremaining: 54.8s\n",
      "40:\tlearn: 1506.2455041\ttotal: 14s\tremaining: 54.4s\n",
      "41:\tlearn: 1502.6349531\ttotal: 14.3s\tremaining: 54s\n",
      "42:\tlearn: 1501.5952761\ttotal: 14.6s\tremaining: 53.5s\n",
      "43:\tlearn: 1496.2271366\ttotal: 15s\tremaining: 53s\n",
      "44:\tlearn: 1493.2262095\ttotal: 15.3s\tremaining: 52.7s\n",
      "45:\tlearn: 1491.4875075\ttotal: 15.7s\tremaining: 52.5s\n",
      "46:\tlearn: 1488.3529534\ttotal: 16.1s\tremaining: 52.3s\n",
      "47:\tlearn: 1485.2969697\ttotal: 16.4s\tremaining: 52s\n",
      "48:\tlearn: 1483.5530444\ttotal: 16.8s\tremaining: 51.7s\n",
      "49:\tlearn: 1481.9985187\ttotal: 17.1s\tremaining: 51.2s\n",
      "50:\tlearn: 1475.7286754\ttotal: 17.4s\tremaining: 50.7s\n",
      "51:\tlearn: 1472.0550917\ttotal: 17.7s\tremaining: 50.3s\n",
      "52:\tlearn: 1471.6617022\ttotal: 18s\tremaining: 50s\n",
      "53:\tlearn: 1469.5211577\ttotal: 18.3s\tremaining: 49.6s\n",
      "54:\tlearn: 1467.7132643\ttotal: 18.6s\tremaining: 49.2s\n",
      "55:\tlearn: 1465.2946373\ttotal: 19s\tremaining: 48.9s\n",
      "56:\tlearn: 1463.6687074\ttotal: 19.4s\tremaining: 48.7s\n",
      "57:\tlearn: 1460.7982097\ttotal: 19.8s\tremaining: 48.4s\n",
      "58:\tlearn: 1458.7949723\ttotal: 20.1s\tremaining: 48s\n",
      "59:\tlearn: 1454.0604597\ttotal: 20.4s\tremaining: 47.6s\n",
      "60:\tlearn: 1450.8321633\ttotal: 20.7s\tremaining: 47.2s\n",
      "61:\tlearn: 1448.2063869\ttotal: 21s\tremaining: 46.8s\n",
      "62:\tlearn: 1444.1770042\ttotal: 21.4s\tremaining: 46.5s\n",
      "63:\tlearn: 1440.0230550\ttotal: 21.8s\tremaining: 46.2s\n",
      "64:\tlearn: 1437.0880535\ttotal: 22.1s\tremaining: 45.9s\n",
      "65:\tlearn: 1436.9527137\ttotal: 22.4s\tremaining: 45.5s\n",
      "66:\tlearn: 1434.9051321\ttotal: 22.8s\tremaining: 45.2s\n",
      "67:\tlearn: 1434.0892516\ttotal: 23.1s\tremaining: 44.8s\n",
      "68:\tlearn: 1431.2087809\ttotal: 23.4s\tremaining: 44.5s\n",
      "69:\tlearn: 1429.7915470\ttotal: 23.8s\tremaining: 44.2s\n",
      "70:\tlearn: 1427.7012117\ttotal: 24.2s\tremaining: 44s\n",
      "71:\tlearn: 1424.4453555\ttotal: 24.5s\tremaining: 43.6s\n",
      "72:\tlearn: 1423.8694507\ttotal: 24.9s\tremaining: 43.3s\n",
      "73:\tlearn: 1422.3473641\ttotal: 25.2s\tremaining: 43s\n",
      "74:\tlearn: 1420.2286366\ttotal: 25.6s\tremaining: 42.7s\n",
      "75:\tlearn: 1416.6413459\ttotal: 26s\tremaining: 42.4s\n",
      "76:\tlearn: 1414.3222014\ttotal: 26.3s\tremaining: 42.1s\n",
      "77:\tlearn: 1412.2416855\ttotal: 26.7s\tremaining: 41.7s\n",
      "78:\tlearn: 1411.6131166\ttotal: 27s\tremaining: 41.3s\n",
      "79:\tlearn: 1408.5736101\ttotal: 27.3s\tremaining: 41s\n",
      "80:\tlearn: 1405.4633739\ttotal: 27.7s\tremaining: 40.6s\n",
      "81:\tlearn: 1403.3193180\ttotal: 27.9s\tremaining: 40.2s\n",
      "82:\tlearn: 1401.4568678\ttotal: 28.3s\tremaining: 39.9s\n"
     ]
    },
    {
     "name": "stdout",
     "output_type": "stream",
     "text": [
      "83:\tlearn: 1398.6079719\ttotal: 28.7s\tremaining: 39.6s\n",
      "84:\tlearn: 1396.1118648\ttotal: 29s\tremaining: 39.3s\n",
      "85:\tlearn: 1394.4183999\ttotal: 29.3s\tremaining: 38.9s\n",
      "86:\tlearn: 1392.1210694\ttotal: 29.7s\tremaining: 38.5s\n",
      "87:\tlearn: 1390.4630474\ttotal: 30s\tremaining: 38.2s\n",
      "88:\tlearn: 1388.5224227\ttotal: 30.3s\tremaining: 37.8s\n",
      "89:\tlearn: 1385.4298671\ttotal: 30.6s\tremaining: 37.4s\n",
      "90:\tlearn: 1384.1617561\ttotal: 30.9s\tremaining: 37.1s\n",
      "91:\tlearn: 1383.5066354\ttotal: 31.3s\tremaining: 36.7s\n",
      "92:\tlearn: 1381.8523832\ttotal: 31.7s\tremaining: 36.4s\n",
      "93:\tlearn: 1379.8079959\ttotal: 32s\tremaining: 36.1s\n",
      "94:\tlearn: 1378.3477357\ttotal: 32.3s\tremaining: 35.7s\n",
      "95:\tlearn: 1376.2768587\ttotal: 32.7s\tremaining: 35.5s\n",
      "96:\tlearn: 1375.0978533\ttotal: 33.1s\tremaining: 35.1s\n",
      "97:\tlearn: 1373.5592827\ttotal: 33.4s\tremaining: 34.8s\n",
      "98:\tlearn: 1372.3764076\ttotal: 33.8s\tremaining: 34.5s\n",
      "99:\tlearn: 1371.0672404\ttotal: 34.1s\tremaining: 34.1s\n",
      "100:\tlearn: 1369.8908338\ttotal: 34.5s\tremaining: 33.8s\n",
      "101:\tlearn: 1367.8940841\ttotal: 34.9s\tremaining: 33.5s\n",
      "102:\tlearn: 1365.7281088\ttotal: 35.2s\tremaining: 33.1s\n",
      "103:\tlearn: 1365.1004106\ttotal: 35.6s\tremaining: 32.8s\n",
      "104:\tlearn: 1364.1769594\ttotal: 35.9s\tremaining: 32.5s\n",
      "105:\tlearn: 1363.8982506\ttotal: 36.2s\tremaining: 32.1s\n",
      "106:\tlearn: 1362.0937331\ttotal: 36.5s\tremaining: 31.8s\n",
      "107:\tlearn: 1359.2541413\ttotal: 36.9s\tremaining: 31.4s\n",
      "108:\tlearn: 1357.8712685\ttotal: 37.2s\tremaining: 31s\n",
      "109:\tlearn: 1356.5698255\ttotal: 37.5s\tremaining: 30.7s\n",
      "110:\tlearn: 1355.6373660\ttotal: 37.8s\tremaining: 30.3s\n",
      "111:\tlearn: 1355.3151754\ttotal: 38.2s\tremaining: 30s\n",
      "112:\tlearn: 1352.9494420\ttotal: 38.5s\tremaining: 29.6s\n",
      "113:\tlearn: 1351.7033150\ttotal: 38.8s\tremaining: 29.3s\n",
      "114:\tlearn: 1350.0686769\ttotal: 39.1s\tremaining: 28.9s\n",
      "115:\tlearn: 1349.1875558\ttotal: 39.4s\tremaining: 28.6s\n",
      "116:\tlearn: 1347.9119232\ttotal: 39.8s\tremaining: 28.2s\n",
      "117:\tlearn: 1345.0426699\ttotal: 40.1s\tremaining: 27.9s\n",
      "118:\tlearn: 1344.4348787\ttotal: 40.5s\tremaining: 27.5s\n",
      "119:\tlearn: 1342.9329024\ttotal: 40.8s\tremaining: 27.2s\n",
      "120:\tlearn: 1341.0840516\ttotal: 41.1s\tremaining: 26.8s\n",
      "121:\tlearn: 1340.1166593\ttotal: 41.4s\tremaining: 26.5s\n",
      "122:\tlearn: 1339.7581193\ttotal: 41.7s\tremaining: 26.1s\n",
      "123:\tlearn: 1338.4567250\ttotal: 42.1s\tremaining: 25.8s\n",
      "124:\tlearn: 1336.6839688\ttotal: 42.5s\tremaining: 25.5s\n",
      "125:\tlearn: 1334.1527686\ttotal: 42.8s\tremaining: 25.1s\n",
      "126:\tlearn: 1332.4584687\ttotal: 43.1s\tremaining: 24.8s\n",
      "127:\tlearn: 1331.6398331\ttotal: 43.4s\tremaining: 24.4s\n",
      "128:\tlearn: 1330.8219231\ttotal: 43.8s\tremaining: 24.1s\n",
      "129:\tlearn: 1329.6060356\ttotal: 44.2s\tremaining: 23.8s\n",
      "130:\tlearn: 1328.0514199\ttotal: 44.5s\tremaining: 23.5s\n",
      "131:\tlearn: 1327.2163609\ttotal: 44.9s\tremaining: 23.1s\n",
      "132:\tlearn: 1325.7424163\ttotal: 45.3s\tremaining: 22.8s\n",
      "133:\tlearn: 1324.9176098\ttotal: 45.6s\tremaining: 22.5s\n",
      "134:\tlearn: 1324.7708415\ttotal: 45.9s\tremaining: 22.1s\n",
      "135:\tlearn: 1322.8872875\ttotal: 46.3s\tremaining: 21.8s\n",
      "136:\tlearn: 1321.4444300\ttotal: 46.6s\tremaining: 21.4s\n",
      "137:\tlearn: 1320.1993256\ttotal: 46.9s\tremaining: 21.1s\n",
      "138:\tlearn: 1319.2067252\ttotal: 47.3s\tremaining: 20.8s\n",
      "139:\tlearn: 1317.9322485\ttotal: 47.6s\tremaining: 20.4s\n",
      "140:\tlearn: 1316.0626448\ttotal: 48s\tremaining: 20.1s\n",
      "141:\tlearn: 1315.6171390\ttotal: 48.4s\tremaining: 19.8s\n",
      "142:\tlearn: 1314.7683622\ttotal: 48.8s\tremaining: 19.4s\n",
      "143:\tlearn: 1313.5085938\ttotal: 49.1s\tremaining: 19.1s\n",
      "144:\tlearn: 1312.8026233\ttotal: 49.5s\tremaining: 18.8s\n",
      "145:\tlearn: 1310.3329551\ttotal: 49.8s\tremaining: 18.4s\n",
      "146:\tlearn: 1309.0546246\ttotal: 50.1s\tremaining: 18.1s\n",
      "147:\tlearn: 1307.7632317\ttotal: 50.5s\tremaining: 17.7s\n",
      "148:\tlearn: 1307.2343154\ttotal: 50.8s\tremaining: 17.4s\n",
      "149:\tlearn: 1305.7087940\ttotal: 51.1s\tremaining: 17s\n",
      "150:\tlearn: 1304.9158324\ttotal: 51.4s\tremaining: 16.7s\n",
      "151:\tlearn: 1303.3605831\ttotal: 51.7s\tremaining: 16.3s\n",
      "152:\tlearn: 1302.8810115\ttotal: 52.1s\tremaining: 16s\n",
      "153:\tlearn: 1301.4665593\ttotal: 52.4s\tremaining: 15.7s\n",
      "154:\tlearn: 1300.2692491\ttotal: 52.8s\tremaining: 15.3s\n",
      "155:\tlearn: 1298.8764432\ttotal: 53.1s\tremaining: 15s\n",
      "156:\tlearn: 1297.7792714\ttotal: 53.5s\tremaining: 14.6s\n",
      "157:\tlearn: 1296.9195832\ttotal: 53.9s\tremaining: 14.3s\n",
      "158:\tlearn: 1295.5791078\ttotal: 54.2s\tremaining: 14s\n",
      "159:\tlearn: 1294.3401118\ttotal: 54.6s\tremaining: 13.7s\n",
      "160:\tlearn: 1293.1567895\ttotal: 55s\tremaining: 13.3s\n",
      "161:\tlearn: 1292.2400731\ttotal: 55.3s\tremaining: 13s\n",
      "162:\tlearn: 1291.3498172\ttotal: 55.6s\tremaining: 12.6s\n",
      "163:\tlearn: 1289.3703500\ttotal: 55.9s\tremaining: 12.3s\n",
      "164:\tlearn: 1288.1572135\ttotal: 56.3s\tremaining: 11.9s\n",
      "165:\tlearn: 1286.6313672\ttotal: 56.6s\tremaining: 11.6s\n",
      "166:\tlearn: 1285.6412027\ttotal: 56.9s\tremaining: 11.2s\n",
      "167:\tlearn: 1284.7695676\ttotal: 57.3s\tremaining: 10.9s\n",
      "168:\tlearn: 1284.0669495\ttotal: 57.6s\tremaining: 10.6s\n",
      "169:\tlearn: 1282.3055292\ttotal: 57.9s\tremaining: 10.2s\n",
      "170:\tlearn: 1280.2343418\ttotal: 58.3s\tremaining: 9.88s\n",
      "171:\tlearn: 1279.4691879\ttotal: 58.6s\tremaining: 9.54s\n",
      "172:\tlearn: 1278.2472987\ttotal: 59s\tremaining: 9.21s\n",
      "173:\tlearn: 1277.0470135\ttotal: 59.3s\tremaining: 8.86s\n",
      "174:\tlearn: 1276.1933755\ttotal: 59.7s\tremaining: 8.53s\n",
      "175:\tlearn: 1276.0200649\ttotal: 1m\tremaining: 8.2s\n",
      "176:\tlearn: 1275.6759205\ttotal: 1m\tremaining: 7.85s\n",
      "177:\tlearn: 1274.5534465\ttotal: 1m\tremaining: 7.52s\n",
      "178:\tlearn: 1273.3599172\ttotal: 1m 1s\tremaining: 7.18s\n",
      "179:\tlearn: 1272.9157705\ttotal: 1m 1s\tremaining: 6.84s\n",
      "180:\tlearn: 1271.3184161\ttotal: 1m 1s\tremaining: 6.5s\n",
      "181:\tlearn: 1270.0181367\ttotal: 1m 2s\tremaining: 6.16s\n",
      "182:\tlearn: 1268.6534071\ttotal: 1m 2s\tremaining: 5.82s\n",
      "183:\tlearn: 1267.4545438\ttotal: 1m 2s\tremaining: 5.47s\n",
      "184:\tlearn: 1266.3302278\ttotal: 1m 3s\tremaining: 5.13s\n",
      "185:\tlearn: 1265.2289209\ttotal: 1m 3s\tremaining: 4.79s\n",
      "186:\tlearn: 1264.0924753\ttotal: 1m 4s\tremaining: 4.45s\n",
      "187:\tlearn: 1263.2839653\ttotal: 1m 4s\tremaining: 4.11s\n",
      "188:\tlearn: 1262.0875954\ttotal: 1m 4s\tremaining: 3.77s\n",
      "189:\tlearn: 1261.4058192\ttotal: 1m 5s\tremaining: 3.42s\n",
      "190:\tlearn: 1260.7364199\ttotal: 1m 5s\tremaining: 3.08s\n",
      "191:\tlearn: 1260.2895144\ttotal: 1m 5s\tremaining: 2.74s\n",
      "192:\tlearn: 1258.9834745\ttotal: 1m 6s\tremaining: 2.4s\n",
      "193:\tlearn: 1256.7832842\ttotal: 1m 6s\tremaining: 2.05s\n",
      "194:\tlearn: 1256.3312180\ttotal: 1m 6s\tremaining: 1.71s\n",
      "195:\tlearn: 1256.1831230\ttotal: 1m 7s\tremaining: 1.37s\n",
      "196:\tlearn: 1255.6491581\ttotal: 1m 7s\tremaining: 1.03s\n",
      "197:\tlearn: 1254.5462718\ttotal: 1m 7s\tremaining: 685ms\n",
      "198:\tlearn: 1252.9960952\ttotal: 1m 8s\tremaining: 342ms\n",
      "199:\tlearn: 1252.5478462\ttotal: 1m 8s\tremaining: 0us\n",
      "0:\tlearn: 4310.1795765\ttotal: 535ms\tremaining: 1m 46s\n",
      "1:\tlearn: 4158.9402288\ttotal: 1.02s\tremaining: 1m 41s\n",
      "2:\tlearn: 4014.5122025\ttotal: 1.55s\tremaining: 1m 42s\n",
      "3:\tlearn: 3877.2325272\ttotal: 2.05s\tremaining: 1m 40s\n",
      "4:\tlearn: 3750.2746714\ttotal: 2.58s\tremaining: 1m 40s\n",
      "5:\tlearn: 3630.0609548\ttotal: 3.13s\tremaining: 1m 41s\n",
      "6:\tlearn: 3517.3240983\ttotal: 3.65s\tremaining: 1m 40s\n",
      "7:\tlearn: 3409.3553061\ttotal: 4.19s\tremaining: 1m 40s\n",
      "8:\tlearn: 3308.7243942\ttotal: 4.69s\tremaining: 1m 39s\n",
      "9:\tlearn: 3210.7503623\ttotal: 5.15s\tremaining: 1m 37s\n",
      "10:\tlearn: 3120.9889119\ttotal: 5.63s\tremaining: 1m 36s\n",
      "11:\tlearn: 3034.9137481\ttotal: 6.11s\tremaining: 1m 35s\n",
      "12:\tlearn: 2955.0879915\ttotal: 6.61s\tremaining: 1m 35s\n",
      "13:\tlearn: 2880.1391306\ttotal: 7.16s\tremaining: 1m 35s\n",
      "14:\tlearn: 2808.5678782\ttotal: 7.66s\tremaining: 1m 34s\n",
      "15:\tlearn: 2742.5756309\ttotal: 8.13s\tremaining: 1m 33s\n",
      "16:\tlearn: 2681.5779441\ttotal: 8.63s\tremaining: 1m 32s\n",
      "17:\tlearn: 2624.3362145\ttotal: 9.09s\tremaining: 1m 31s\n",
      "18:\tlearn: 2570.7759828\ttotal: 9.58s\tremaining: 1m 31s\n",
      "19:\tlearn: 2520.2170200\ttotal: 10.1s\tremaining: 1m 31s\n",
      "20:\tlearn: 2472.6624288\ttotal: 10.6s\tremaining: 1m 30s\n",
      "21:\tlearn: 2427.5758465\ttotal: 11.1s\tremaining: 1m 30s\n",
      "22:\tlearn: 2385.1408951\ttotal: 11.7s\tremaining: 1m 29s\n",
      "23:\tlearn: 2346.4010584\ttotal: 12.1s\tremaining: 1m 28s\n",
      "24:\tlearn: 2309.7513100\ttotal: 12.6s\tremaining: 1m 28s\n",
      "25:\tlearn: 2274.1041999\ttotal: 13.1s\tremaining: 1m 27s\n",
      "26:\tlearn: 2242.4448606\ttotal: 13.6s\tremaining: 1m 27s\n",
      "27:\tlearn: 2211.3396687\ttotal: 14.1s\tremaining: 1m 26s\n",
      "28:\tlearn: 2182.6404829\ttotal: 14.6s\tremaining: 1m 26s\n",
      "29:\tlearn: 2155.1193154\ttotal: 15.1s\tremaining: 1m 25s\n",
      "30:\tlearn: 2130.0888326\ttotal: 15.5s\tremaining: 1m 24s\n",
      "31:\tlearn: 2107.1891073\ttotal: 16s\tremaining: 1m 24s\n",
      "32:\tlearn: 2085.9407944\ttotal: 16.5s\tremaining: 1m 23s\n",
      "33:\tlearn: 2065.1016600\ttotal: 17s\tremaining: 1m 23s\n"
     ]
    },
    {
     "name": "stdout",
     "output_type": "stream",
     "text": [
      "34:\tlearn: 2046.4292884\ttotal: 17.5s\tremaining: 1m 22s\n",
      "35:\tlearn: 2028.0307814\ttotal: 18s\tremaining: 1m 22s\n",
      "36:\tlearn: 2010.8312537\ttotal: 18.5s\tremaining: 1m 21s\n",
      "37:\tlearn: 1994.0283727\ttotal: 19s\tremaining: 1m 20s\n",
      "38:\tlearn: 1978.1106867\ttotal: 19.5s\tremaining: 1m 20s\n",
      "39:\tlearn: 1963.4387368\ttotal: 19.9s\tremaining: 1m 19s\n",
      "40:\tlearn: 1950.4209795\ttotal: 20.4s\tremaining: 1m 19s\n",
      "41:\tlearn: 1938.0771423\ttotal: 20.9s\tremaining: 1m 18s\n",
      "42:\tlearn: 1926.1345995\ttotal: 21.4s\tremaining: 1m 18s\n",
      "43:\tlearn: 1915.6109231\ttotal: 21.9s\tremaining: 1m 17s\n",
      "44:\tlearn: 1905.7995386\ttotal: 22.3s\tremaining: 1m 16s\n",
      "45:\tlearn: 1896.0414962\ttotal: 22.8s\tremaining: 1m 16s\n",
      "46:\tlearn: 1886.1062765\ttotal: 23.3s\tremaining: 1m 15s\n",
      "47:\tlearn: 1877.9045538\ttotal: 23.8s\tremaining: 1m 15s\n",
      "48:\tlearn: 1869.8610696\ttotal: 24.3s\tremaining: 1m 14s\n",
      "49:\tlearn: 1862.2118681\ttotal: 24.7s\tremaining: 1m 14s\n",
      "50:\tlearn: 1854.6714599\ttotal: 25.2s\tremaining: 1m 13s\n",
      "51:\tlearn: 1848.1777057\ttotal: 25.7s\tremaining: 1m 13s\n",
      "52:\tlearn: 1841.0732851\ttotal: 26.2s\tremaining: 1m 12s\n",
      "53:\tlearn: 1835.5312965\ttotal: 26.6s\tremaining: 1m 12s\n",
      "54:\tlearn: 1828.8966194\ttotal: 27.1s\tremaining: 1m 11s\n",
      "55:\tlearn: 1823.8434147\ttotal: 27.7s\tremaining: 1m 11s\n",
      "56:\tlearn: 1819.3140826\ttotal: 28.2s\tremaining: 1m 10s\n",
      "57:\tlearn: 1814.2136794\ttotal: 28.7s\tremaining: 1m 10s\n",
      "58:\tlearn: 1808.4679174\ttotal: 29.2s\tremaining: 1m 9s\n",
      "59:\tlearn: 1803.8673973\ttotal: 29.7s\tremaining: 1m 9s\n",
      "60:\tlearn: 1799.5969791\ttotal: 30.2s\tremaining: 1m 8s\n",
      "61:\tlearn: 1794.4922382\ttotal: 30.7s\tremaining: 1m 8s\n",
      "62:\tlearn: 1788.8390291\ttotal: 31.3s\tremaining: 1m 7s\n",
      "63:\tlearn: 1784.5390063\ttotal: 31.8s\tremaining: 1m 7s\n",
      "64:\tlearn: 1781.0326355\ttotal: 32.3s\tremaining: 1m 7s\n",
      "65:\tlearn: 1776.2260020\ttotal: 32.8s\tremaining: 1m 6s\n",
      "66:\tlearn: 1772.3787277\ttotal: 33.2s\tremaining: 1m 5s\n",
      "67:\tlearn: 1768.6642861\ttotal: 33.7s\tremaining: 1m 5s\n",
      "68:\tlearn: 1765.5591834\ttotal: 34.2s\tremaining: 1m 5s\n",
      "69:\tlearn: 1762.4157515\ttotal: 34.7s\tremaining: 1m 4s\n",
      "70:\tlearn: 1758.5018458\ttotal: 35.2s\tremaining: 1m 3s\n",
      "71:\tlearn: 1755.8840013\ttotal: 35.7s\tremaining: 1m 3s\n",
      "72:\tlearn: 1753.4861140\ttotal: 36.2s\tremaining: 1m 2s\n",
      "73:\tlearn: 1750.3301883\ttotal: 36.7s\tremaining: 1m 2s\n",
      "74:\tlearn: 1747.6794903\ttotal: 37.2s\tremaining: 1m 1s\n",
      "75:\tlearn: 1744.9372264\ttotal: 37.6s\tremaining: 1m 1s\n",
      "76:\tlearn: 1741.5627888\ttotal: 38.1s\tremaining: 1m\n",
      "77:\tlearn: 1738.4077147\ttotal: 38.5s\tremaining: 1m\n",
      "78:\tlearn: 1735.9400085\ttotal: 39s\tremaining: 59.7s\n",
      "79:\tlearn: 1733.6633005\ttotal: 39.4s\tremaining: 59.2s\n",
      "80:\tlearn: 1730.7992612\ttotal: 39.9s\tremaining: 58.7s\n",
      "81:\tlearn: 1728.6514263\ttotal: 40.4s\tremaining: 58.1s\n",
      "82:\tlearn: 1726.5972783\ttotal: 40.9s\tremaining: 57.6s\n",
      "83:\tlearn: 1723.9853295\ttotal: 41.3s\tremaining: 57.1s\n",
      "84:\tlearn: 1721.9820790\ttotal: 41.8s\tremaining: 56.5s\n",
      "85:\tlearn: 1719.8732995\ttotal: 42.3s\tremaining: 56.1s\n",
      "86:\tlearn: 1717.4837887\ttotal: 42.8s\tremaining: 55.6s\n",
      "87:\tlearn: 1715.3398381\ttotal: 43.3s\tremaining: 55.1s\n",
      "88:\tlearn: 1713.1889106\ttotal: 43.8s\tremaining: 54.6s\n",
      "89:\tlearn: 1710.6344157\ttotal: 44.3s\tremaining: 54.2s\n",
      "90:\tlearn: 1709.1492347\ttotal: 44.8s\tremaining: 53.6s\n",
      "91:\tlearn: 1707.3409562\ttotal: 45.2s\tremaining: 53.1s\n",
      "92:\tlearn: 1705.6563538\ttotal: 45.7s\tremaining: 52.5s\n",
      "93:\tlearn: 1704.2469612\ttotal: 46.2s\tremaining: 52.1s\n",
      "94:\tlearn: 1702.0376190\ttotal: 46.7s\tremaining: 51.6s\n",
      "95:\tlearn: 1700.6442391\ttotal: 47.2s\tremaining: 51.1s\n",
      "96:\tlearn: 1698.7330246\ttotal: 47.6s\tremaining: 50.6s\n",
      "97:\tlearn: 1696.2849404\ttotal: 48.1s\tremaining: 50.1s\n",
      "98:\tlearn: 1694.6586622\ttotal: 48.5s\tremaining: 49.5s\n",
      "99:\tlearn: 1692.6521282\ttotal: 49s\tremaining: 49s\n",
      "100:\tlearn: 1691.7041970\ttotal: 49.5s\tremaining: 48.5s\n",
      "101:\tlearn: 1690.6210602\ttotal: 50s\tremaining: 48.1s\n",
      "102:\tlearn: 1689.1305163\ttotal: 50.5s\tremaining: 47.5s\n",
      "103:\tlearn: 1687.2900654\ttotal: 50.9s\tremaining: 47s\n",
      "104:\tlearn: 1686.3149689\ttotal: 51.4s\tremaining: 46.5s\n",
      "105:\tlearn: 1684.9767397\ttotal: 51.9s\tremaining: 46s\n",
      "106:\tlearn: 1683.7091021\ttotal: 52.3s\tremaining: 45.5s\n",
      "107:\tlearn: 1682.7611875\ttotal: 52.8s\tremaining: 45s\n",
      "108:\tlearn: 1681.7437864\ttotal: 53.3s\tremaining: 44.5s\n",
      "109:\tlearn: 1680.4263253\ttotal: 53.8s\tremaining: 44s\n",
      "110:\tlearn: 1678.9293256\ttotal: 54.3s\tremaining: 43.5s\n",
      "111:\tlearn: 1677.4766444\ttotal: 54.7s\tremaining: 43s\n",
      "112:\tlearn: 1675.9988773\ttotal: 55.2s\tremaining: 42.5s\n",
      "113:\tlearn: 1674.7203972\ttotal: 55.6s\tremaining: 42s\n",
      "114:\tlearn: 1673.9025579\ttotal: 56.1s\tremaining: 41.5s\n",
      "115:\tlearn: 1672.7332663\ttotal: 56.6s\tremaining: 41s\n",
      "116:\tlearn: 1671.7119601\ttotal: 57.1s\tremaining: 40.5s\n",
      "117:\tlearn: 1670.2779332\ttotal: 57.5s\tremaining: 40s\n",
      "118:\tlearn: 1668.8779964\ttotal: 58s\tremaining: 39.4s\n",
      "119:\tlearn: 1668.0689106\ttotal: 58.4s\tremaining: 38.9s\n",
      "120:\tlearn: 1667.0058452\ttotal: 58.9s\tremaining: 38.5s\n",
      "121:\tlearn: 1665.8354871\ttotal: 59.4s\tremaining: 38s\n",
      "122:\tlearn: 1665.2951672\ttotal: 59.8s\tremaining: 37.5s\n",
      "123:\tlearn: 1664.2875746\ttotal: 1m\tremaining: 37s\n",
      "124:\tlearn: 1663.3693758\ttotal: 1m\tremaining: 36.5s\n",
      "125:\tlearn: 1662.6942229\ttotal: 1m 1s\tremaining: 36s\n",
      "126:\tlearn: 1661.7070497\ttotal: 1m 1s\tremaining: 35.5s\n",
      "127:\tlearn: 1660.5189295\ttotal: 1m 2s\tremaining: 35s\n",
      "128:\tlearn: 1659.0269859\ttotal: 1m 2s\tremaining: 34.5s\n",
      "129:\tlearn: 1658.2500163\ttotal: 1m 3s\tremaining: 34s\n",
      "130:\tlearn: 1656.8339468\ttotal: 1m 3s\tremaining: 33.5s\n",
      "131:\tlearn: 1655.4692955\ttotal: 1m 4s\tremaining: 33s\n",
      "132:\tlearn: 1654.2706241\ttotal: 1m 4s\tremaining: 32.5s\n",
      "133:\tlearn: 1653.2781936\ttotal: 1m 5s\tremaining: 32s\n",
      "134:\tlearn: 1652.4241027\ttotal: 1m 5s\tremaining: 31.6s\n",
      "135:\tlearn: 1651.4048853\ttotal: 1m 6s\tremaining: 31.1s\n",
      "136:\tlearn: 1650.4733393\ttotal: 1m 6s\tremaining: 30.6s\n",
      "137:\tlearn: 1649.3882563\ttotal: 1m 7s\tremaining: 30.1s\n",
      "138:\tlearn: 1648.4653709\ttotal: 1m 7s\tremaining: 29.6s\n",
      "139:\tlearn: 1647.8753420\ttotal: 1m 8s\tremaining: 29.2s\n",
      "140:\tlearn: 1646.8028884\ttotal: 1m 8s\tremaining: 28.7s\n",
      "141:\tlearn: 1646.1979703\ttotal: 1m 9s\tremaining: 28.2s\n",
      "142:\tlearn: 1645.0343358\ttotal: 1m 9s\tremaining: 27.7s\n",
      "143:\tlearn: 1644.3175164\ttotal: 1m 10s\tremaining: 27.2s\n",
      "144:\tlearn: 1643.6767211\ttotal: 1m 10s\tremaining: 26.7s\n",
      "145:\tlearn: 1642.8152321\ttotal: 1m 10s\tremaining: 26.3s\n",
      "146:\tlearn: 1641.7576003\ttotal: 1m 11s\tremaining: 25.8s\n",
      "147:\tlearn: 1640.9149610\ttotal: 1m 11s\tremaining: 25.3s\n",
      "148:\tlearn: 1639.9886090\ttotal: 1m 12s\tremaining: 24.8s\n",
      "149:\tlearn: 1638.5238201\ttotal: 1m 12s\tremaining: 24.3s\n",
      "150:\tlearn: 1637.6269742\ttotal: 1m 13s\tremaining: 23.8s\n",
      "151:\tlearn: 1637.0682397\ttotal: 1m 13s\tremaining: 23.3s\n",
      "152:\tlearn: 1636.3585446\ttotal: 1m 14s\tremaining: 22.8s\n",
      "153:\tlearn: 1635.6997845\ttotal: 1m 14s\tremaining: 22.3s\n",
      "154:\tlearn: 1634.4899974\ttotal: 1m 15s\tremaining: 21.8s\n",
      "155:\tlearn: 1633.4192480\ttotal: 1m 15s\tremaining: 21.4s\n",
      "156:\tlearn: 1632.7362893\ttotal: 1m 16s\tremaining: 20.9s\n",
      "157:\tlearn: 1631.6599520\ttotal: 1m 16s\tremaining: 20.4s\n",
      "158:\tlearn: 1630.9930520\ttotal: 1m 17s\tremaining: 20s\n",
      "159:\tlearn: 1630.0804942\ttotal: 1m 17s\tremaining: 19.5s\n",
      "160:\tlearn: 1629.4130553\ttotal: 1m 18s\tremaining: 19s\n",
      "161:\tlearn: 1628.6840281\ttotal: 1m 18s\tremaining: 18.5s\n",
      "162:\tlearn: 1627.8410315\ttotal: 1m 19s\tremaining: 18s\n",
      "163:\tlearn: 1627.3102777\ttotal: 1m 19s\tremaining: 17.5s\n",
      "164:\tlearn: 1626.3063562\ttotal: 1m 20s\tremaining: 17s\n",
      "165:\tlearn: 1625.3928721\ttotal: 1m 20s\tremaining: 16.5s\n",
      "166:\tlearn: 1624.5842564\ttotal: 1m 21s\tremaining: 16s\n",
      "167:\tlearn: 1623.8294360\ttotal: 1m 21s\tremaining: 15.5s\n",
      "168:\tlearn: 1622.9275498\ttotal: 1m 22s\tremaining: 15.1s\n",
      "169:\tlearn: 1622.2068758\ttotal: 1m 22s\tremaining: 14.6s\n",
      "170:\tlearn: 1621.0612686\ttotal: 1m 22s\tremaining: 14.1s\n",
      "171:\tlearn: 1620.1372456\ttotal: 1m 23s\tremaining: 13.6s\n",
      "172:\tlearn: 1619.3822163\ttotal: 1m 24s\tremaining: 13.1s\n",
      "173:\tlearn: 1618.8652713\ttotal: 1m 24s\tremaining: 12.6s\n",
      "174:\tlearn: 1618.3486542\ttotal: 1m 24s\tremaining: 12.1s\n",
      "175:\tlearn: 1617.8663510\ttotal: 1m 25s\tremaining: 11.6s\n",
      "176:\tlearn: 1617.1065584\ttotal: 1m 25s\tremaining: 11.2s\n",
      "177:\tlearn: 1616.4793543\ttotal: 1m 26s\tremaining: 10.7s\n",
      "178:\tlearn: 1615.7909130\ttotal: 1m 26s\tremaining: 10.2s\n",
      "179:\tlearn: 1614.8798394\ttotal: 1m 27s\tremaining: 9.71s\n",
      "180:\tlearn: 1614.4049940\ttotal: 1m 27s\tremaining: 9.22s\n",
      "181:\tlearn: 1613.9449130\ttotal: 1m 28s\tremaining: 8.73s\n",
      "182:\tlearn: 1613.3690328\ttotal: 1m 28s\tremaining: 8.25s\n",
      "183:\tlearn: 1612.5282785\ttotal: 1m 29s\tremaining: 7.76s\n",
      "184:\tlearn: 1612.1130803\ttotal: 1m 29s\tremaining: 7.28s\n"
     ]
    },
    {
     "name": "stdout",
     "output_type": "stream",
     "text": [
      "185:\tlearn: 1611.5922957\ttotal: 1m 30s\tremaining: 6.79s\n",
      "186:\tlearn: 1611.5195160\ttotal: 1m 30s\tremaining: 6.29s\n",
      "187:\tlearn: 1610.7328712\ttotal: 1m 31s\tremaining: 5.81s\n",
      "188:\tlearn: 1609.9832739\ttotal: 1m 31s\tremaining: 5.32s\n",
      "189:\tlearn: 1609.4014677\ttotal: 1m 31s\tremaining: 4.84s\n",
      "190:\tlearn: 1608.8221149\ttotal: 1m 32s\tremaining: 4.35s\n",
      "191:\tlearn: 1608.0156653\ttotal: 1m 32s\tremaining: 3.87s\n",
      "192:\tlearn: 1607.6292924\ttotal: 1m 33s\tremaining: 3.39s\n",
      "193:\tlearn: 1606.7501429\ttotal: 1m 33s\tremaining: 2.9s\n",
      "194:\tlearn: 1606.0120855\ttotal: 1m 34s\tremaining: 2.42s\n",
      "195:\tlearn: 1604.8992415\ttotal: 1m 34s\tremaining: 1.93s\n",
      "196:\tlearn: 1604.5187253\ttotal: 1m 35s\tremaining: 1.45s\n",
      "197:\tlearn: 1603.7889639\ttotal: 1m 35s\tremaining: 968ms\n",
      "198:\tlearn: 1603.1935780\ttotal: 1m 36s\tremaining: 484ms\n",
      "199:\tlearn: 1602.7045211\ttotal: 1m 36s\tremaining: 0us\n",
      "RMSE CatBoostRegressor() на обучающей выборке: 1660.4960334654063\n",
      "CPU times: total: 35min 11s\n",
      "Wall time: 11min 42s\n"
     ]
    }
   ],
   "source": [
    "%%time\n",
    "\n",
    "model_cb = CatBoostRegressor(random_state=42)\n",
    "grid_cb = GridSearchCV(model_cb, parameters_cb, cv = 3, scoring=score)\n",
    "grid_cb.fit(X_train, y_train, cat_features=cat_features)\n",
    "rmse_cb = abs(grid_cb.best_score_)\n",
    "print('RMSE CatBoostRegressor() на обучающей выборке:', rmse_cb)"
   ]
  },
  {
   "cell_type": "code",
   "execution_count": 49,
   "metadata": {},
   "outputs": [
    {
     "name": "stdout",
     "output_type": "stream",
     "text": [
      "0:\tlearn: 4311.6908854\ttotal: 536ms\tremaining: 1m 46s\n",
      "1:\tlearn: 4159.9375329\ttotal: 1.1s\tremaining: 1m 49s\n",
      "2:\tlearn: 4014.7526983\ttotal: 1.58s\tremaining: 1m 44s\n",
      "3:\tlearn: 3877.8518451\ttotal: 2.05s\tremaining: 1m 40s\n",
      "4:\tlearn: 3750.6481129\ttotal: 2.54s\tremaining: 1m 39s\n",
      "5:\tlearn: 3630.9353393\ttotal: 3.01s\tremaining: 1m 37s\n",
      "6:\tlearn: 3516.7205419\ttotal: 3.42s\tremaining: 1m 34s\n",
      "7:\tlearn: 3408.6733923\ttotal: 3.93s\tremaining: 1m 34s\n",
      "8:\tlearn: 3306.5017591\ttotal: 4.39s\tremaining: 1m 33s\n",
      "9:\tlearn: 3211.4666534\ttotal: 4.88s\tremaining: 1m 32s\n",
      "10:\tlearn: 3121.3245496\ttotal: 5.33s\tremaining: 1m 31s\n",
      "11:\tlearn: 3040.7157580\ttotal: 5.8s\tremaining: 1m 30s\n",
      "12:\tlearn: 2960.0181059\ttotal: 6.27s\tremaining: 1m 30s\n",
      "13:\tlearn: 2883.5817931\ttotal: 6.7s\tremaining: 1m 29s\n",
      "14:\tlearn: 2814.9556212\ttotal: 7.2s\tremaining: 1m 28s\n",
      "15:\tlearn: 2749.4288865\ttotal: 7.65s\tremaining: 1m 27s\n",
      "16:\tlearn: 2686.8990559\ttotal: 8.14s\tremaining: 1m 27s\n",
      "17:\tlearn: 2628.7416004\ttotal: 8.62s\tremaining: 1m 27s\n",
      "18:\tlearn: 2573.9065005\ttotal: 9.09s\tremaining: 1m 26s\n",
      "19:\tlearn: 2521.7321732\ttotal: 9.56s\tremaining: 1m 26s\n",
      "20:\tlearn: 2473.9792870\ttotal: 10.1s\tremaining: 1m 26s\n",
      "21:\tlearn: 2428.8337450\ttotal: 10.6s\tremaining: 1m 25s\n",
      "22:\tlearn: 2387.2177967\ttotal: 11s\tremaining: 1m 25s\n",
      "23:\tlearn: 2346.9792058\ttotal: 11.6s\tremaining: 1m 24s\n",
      "24:\tlearn: 2310.5235744\ttotal: 12.1s\tremaining: 1m 24s\n",
      "25:\tlearn: 2276.0364129\ttotal: 12.6s\tremaining: 1m 24s\n",
      "26:\tlearn: 2243.7702502\ttotal: 13.1s\tremaining: 1m 23s\n",
      "27:\tlearn: 2213.1300087\ttotal: 13.5s\tremaining: 1m 22s\n",
      "28:\tlearn: 2184.2871201\ttotal: 13.9s\tremaining: 1m 22s\n",
      "29:\tlearn: 2157.0482518\ttotal: 14.4s\tremaining: 1m 21s\n",
      "30:\tlearn: 2131.6383872\ttotal: 14.9s\tremaining: 1m 21s\n",
      "31:\tlearn: 2108.0804063\ttotal: 15.3s\tremaining: 1m 20s\n",
      "32:\tlearn: 2085.9946579\ttotal: 15.7s\tremaining: 1m 19s\n",
      "33:\tlearn: 2065.4192228\ttotal: 16.3s\tremaining: 1m 19s\n",
      "34:\tlearn: 2046.5339705\ttotal: 16.8s\tremaining: 1m 19s\n",
      "35:\tlearn: 2029.2926568\ttotal: 17.3s\tremaining: 1m 18s\n",
      "36:\tlearn: 2012.6071266\ttotal: 17.8s\tremaining: 1m 18s\n",
      "37:\tlearn: 1996.9476160\ttotal: 18.3s\tremaining: 1m 18s\n",
      "38:\tlearn: 1981.5044577\ttotal: 18.8s\tremaining: 1m 17s\n",
      "39:\tlearn: 1967.9683894\ttotal: 19.3s\tremaining: 1m 17s\n",
      "40:\tlearn: 1955.2735420\ttotal: 19.7s\tremaining: 1m 16s\n",
      "41:\tlearn: 1942.4370744\ttotal: 20.2s\tremaining: 1m 16s\n",
      "42:\tlearn: 1930.5547204\ttotal: 20.7s\tremaining: 1m 15s\n",
      "43:\tlearn: 1919.8871054\ttotal: 21.1s\tremaining: 1m 14s\n",
      "44:\tlearn: 1909.8092637\ttotal: 21.6s\tremaining: 1m 14s\n",
      "45:\tlearn: 1899.0572385\ttotal: 22s\tremaining: 1m 13s\n",
      "46:\tlearn: 1890.3994256\ttotal: 22.5s\tremaining: 1m 13s\n",
      "47:\tlearn: 1881.0079939\ttotal: 23s\tremaining: 1m 12s\n",
      "48:\tlearn: 1872.6687943\ttotal: 23.6s\tremaining: 1m 12s\n",
      "49:\tlearn: 1864.0793354\ttotal: 24.1s\tremaining: 1m 12s\n",
      "50:\tlearn: 1857.1477362\ttotal: 24.6s\tremaining: 1m 11s\n",
      "51:\tlearn: 1850.0912946\ttotal: 25s\tremaining: 1m 11s\n",
      "52:\tlearn: 1842.4495962\ttotal: 25.5s\tremaining: 1m 10s\n",
      "53:\tlearn: 1835.8454878\ttotal: 26s\tremaining: 1m 10s\n",
      "54:\tlearn: 1829.4061163\ttotal: 26.5s\tremaining: 1m 9s\n",
      "55:\tlearn: 1824.0164426\ttotal: 26.9s\tremaining: 1m 9s\n",
      "56:\tlearn: 1818.3370371\ttotal: 27.4s\tremaining: 1m 8s\n",
      "57:\tlearn: 1813.7550856\ttotal: 27.9s\tremaining: 1m 8s\n",
      "58:\tlearn: 1808.6866273\ttotal: 28.5s\tremaining: 1m 8s\n",
      "59:\tlearn: 1803.7754618\ttotal: 28.9s\tremaining: 1m 7s\n",
      "60:\tlearn: 1799.3936717\ttotal: 29.4s\tremaining: 1m 6s\n",
      "61:\tlearn: 1794.2684825\ttotal: 29.9s\tremaining: 1m 6s\n",
      "62:\tlearn: 1790.2129632\ttotal: 30.4s\tremaining: 1m 6s\n",
      "63:\tlearn: 1785.7483366\ttotal: 30.9s\tremaining: 1m 5s\n",
      "64:\tlearn: 1781.0708327\ttotal: 31.3s\tremaining: 1m 5s\n",
      "65:\tlearn: 1777.5010353\ttotal: 31.9s\tremaining: 1m 4s\n",
      "66:\tlearn: 1773.8881477\ttotal: 32.4s\tremaining: 1m 4s\n",
      "67:\tlearn: 1771.0055267\ttotal: 32.9s\tremaining: 1m 3s\n",
      "68:\tlearn: 1767.8601400\ttotal: 33.3s\tremaining: 1m 3s\n",
      "69:\tlearn: 1765.1159373\ttotal: 33.8s\tremaining: 1m 2s\n",
      "70:\tlearn: 1761.1526207\ttotal: 34.3s\tremaining: 1m 2s\n",
      "71:\tlearn: 1757.4268434\ttotal: 34.8s\tremaining: 1m 1s\n",
      "72:\tlearn: 1753.9174273\ttotal: 35.3s\tremaining: 1m 1s\n",
      "73:\tlearn: 1749.6119059\ttotal: 35.9s\tremaining: 1m 1s\n",
      "74:\tlearn: 1746.3480507\ttotal: 36.4s\tremaining: 1m\n",
      "75:\tlearn: 1744.0278091\ttotal: 36.8s\tremaining: 1m\n",
      "76:\tlearn: 1741.1997533\ttotal: 37.3s\tremaining: 59.6s\n",
      "77:\tlearn: 1738.5797285\ttotal: 37.8s\tremaining: 59.1s\n",
      "78:\tlearn: 1735.9448521\ttotal: 38.3s\tremaining: 58.7s\n",
      "79:\tlearn: 1733.8181187\ttotal: 38.8s\tremaining: 58.2s\n",
      "80:\tlearn: 1731.1610247\ttotal: 39.3s\tremaining: 57.7s\n",
      "81:\tlearn: 1728.7691710\ttotal: 39.7s\tremaining: 57.2s\n",
      "82:\tlearn: 1726.9676251\ttotal: 40.3s\tremaining: 56.8s\n",
      "83:\tlearn: 1724.3854759\ttotal: 40.7s\tremaining: 56.2s\n",
      "84:\tlearn: 1722.5304509\ttotal: 41.1s\tremaining: 55.6s\n",
      "85:\tlearn: 1720.5997787\ttotal: 41.7s\tremaining: 55.2s\n",
      "86:\tlearn: 1718.4650069\ttotal: 42.1s\tremaining: 54.7s\n",
      "87:\tlearn: 1716.7720899\ttotal: 42.6s\tremaining: 54.2s\n",
      "88:\tlearn: 1714.8781096\ttotal: 43.1s\tremaining: 53.7s\n",
      "89:\tlearn: 1712.4606282\ttotal: 43.6s\tremaining: 53.2s\n",
      "90:\tlearn: 1711.1800270\ttotal: 44s\tremaining: 52.7s\n",
      "91:\tlearn: 1709.2215338\ttotal: 44.5s\tremaining: 52.3s\n",
      "92:\tlearn: 1707.5274094\ttotal: 45s\tremaining: 51.7s\n",
      "93:\tlearn: 1705.6399012\ttotal: 45.4s\tremaining: 51.2s\n",
      "94:\tlearn: 1703.5747884\ttotal: 46s\tremaining: 50.8s\n",
      "95:\tlearn: 1701.6305009\ttotal: 46.5s\tremaining: 50.4s\n",
      "96:\tlearn: 1699.5315692\ttotal: 47s\tremaining: 49.9s\n",
      "97:\tlearn: 1698.1452921\ttotal: 47.4s\tremaining: 49.4s\n",
      "98:\tlearn: 1696.7585739\ttotal: 47.9s\tremaining: 48.9s\n",
      "99:\tlearn: 1695.2854430\ttotal: 48.4s\tremaining: 48.4s\n",
      "100:\tlearn: 1694.1914167\ttotal: 48.8s\tremaining: 47.9s\n",
      "101:\tlearn: 1692.0423300\ttotal: 49.3s\tremaining: 47.4s\n",
      "102:\tlearn: 1690.2045951\ttotal: 49.8s\tremaining: 46.9s\n",
      "103:\tlearn: 1689.2601124\ttotal: 50.2s\tremaining: 46.3s\n",
      "104:\tlearn: 1687.8897554\ttotal: 50.8s\tremaining: 46s\n",
      "105:\tlearn: 1686.7205580\ttotal: 51.3s\tremaining: 45.5s\n",
      "106:\tlearn: 1685.5496035\ttotal: 51.8s\tremaining: 45s\n",
      "107:\tlearn: 1684.1645678\ttotal: 52.3s\tremaining: 44.5s\n",
      "108:\tlearn: 1682.5039563\ttotal: 52.7s\tremaining: 44s\n",
      "109:\tlearn: 1681.4443430\ttotal: 53.3s\tremaining: 43.6s\n",
      "110:\tlearn: 1679.8089829\ttotal: 53.8s\tremaining: 43.1s\n",
      "111:\tlearn: 1678.5838060\ttotal: 54.3s\tremaining: 42.7s\n",
      "112:\tlearn: 1677.3811750\ttotal: 54.8s\tremaining: 42.2s\n",
      "113:\tlearn: 1676.0788989\ttotal: 55.2s\tremaining: 41.7s\n",
      "114:\tlearn: 1675.0471231\ttotal: 55.9s\tremaining: 41.3s\n",
      "115:\tlearn: 1674.1836421\ttotal: 56.5s\tremaining: 40.9s\n",
      "116:\tlearn: 1672.6806339\ttotal: 57s\tremaining: 40.5s\n",
      "117:\tlearn: 1671.9613192\ttotal: 57.5s\tremaining: 40s\n",
      "118:\tlearn: 1671.1768961\ttotal: 58s\tremaining: 39.5s\n",
      "119:\tlearn: 1670.4265210\ttotal: 58.5s\tremaining: 39s\n",
      "120:\tlearn: 1668.9489852\ttotal: 59s\tremaining: 38.5s\n",
      "121:\tlearn: 1667.2708148\ttotal: 59.5s\tremaining: 38s\n",
      "122:\tlearn: 1666.3524044\ttotal: 59.9s\tremaining: 37.5s\n",
      "123:\tlearn: 1665.5495458\ttotal: 1m\tremaining: 37.1s\n",
      "124:\tlearn: 1664.7482601\ttotal: 1m 1s\tremaining: 36.6s\n",
      "125:\tlearn: 1663.4544047\ttotal: 1m 1s\tremaining: 36.1s\n",
      "126:\tlearn: 1662.2045360\ttotal: 1m 1s\tremaining: 35.6s\n",
      "127:\tlearn: 1661.2021126\ttotal: 1m 2s\tremaining: 35.1s\n",
      "128:\tlearn: 1660.4456693\ttotal: 1m 2s\tremaining: 34.6s\n",
      "129:\tlearn: 1659.2540737\ttotal: 1m 3s\tremaining: 34.1s\n",
      "130:\tlearn: 1658.3043399\ttotal: 1m 3s\tremaining: 33.6s\n",
      "131:\tlearn: 1657.4111380\ttotal: 1m 4s\tremaining: 33.2s\n",
      "132:\tlearn: 1656.7445462\ttotal: 1m 4s\tremaining: 32.6s\n",
      "133:\tlearn: 1656.0257463\ttotal: 1m 5s\tremaining: 32.2s\n",
      "134:\tlearn: 1654.9769084\ttotal: 1m 5s\tremaining: 31.7s\n",
      "135:\tlearn: 1653.8524203\ttotal: 1m 6s\tremaining: 31.2s\n",
      "136:\tlearn: 1652.4782244\ttotal: 1m 6s\tremaining: 30.7s\n",
      "137:\tlearn: 1651.4875517\ttotal: 1m 7s\tremaining: 30.3s\n",
      "138:\tlearn: 1650.6555157\ttotal: 1m 7s\tremaining: 29.8s\n",
      "139:\tlearn: 1649.8251498\ttotal: 1m 8s\tremaining: 29.3s\n",
      "140:\tlearn: 1649.2944153\ttotal: 1m 8s\tremaining: 28.8s\n",
      "141:\tlearn: 1648.0165314\ttotal: 1m 9s\tremaining: 28.3s\n",
      "142:\tlearn: 1647.4350970\ttotal: 1m 9s\tremaining: 27.8s\n",
      "143:\tlearn: 1646.5480722\ttotal: 1m 10s\tremaining: 27.3s\n",
      "144:\tlearn: 1645.7315780\ttotal: 1m 10s\tremaining: 26.8s\n",
      "145:\tlearn: 1644.7925911\ttotal: 1m 11s\tremaining: 26.3s\n",
      "146:\tlearn: 1643.9269516\ttotal: 1m 11s\tremaining: 25.8s\n",
      "147:\tlearn: 1643.0499413\ttotal: 1m 12s\tremaining: 25.4s\n",
      "148:\tlearn: 1642.4330348\ttotal: 1m 12s\tremaining: 24.9s\n",
      "149:\tlearn: 1641.1692768\ttotal: 1m 13s\tremaining: 24.4s\n",
      "150:\tlearn: 1640.4341606\ttotal: 1m 13s\tremaining: 23.9s\n"
     ]
    },
    {
     "name": "stdout",
     "output_type": "stream",
     "text": [
      "151:\tlearn: 1639.7764391\ttotal: 1m 14s\tremaining: 23.4s\n",
      "152:\tlearn: 1639.1977527\ttotal: 1m 14s\tremaining: 22.9s\n",
      "153:\tlearn: 1638.4447633\ttotal: 1m 15s\tremaining: 22.4s\n",
      "154:\tlearn: 1637.2512171\ttotal: 1m 15s\tremaining: 21.9s\n",
      "155:\tlearn: 1636.5674762\ttotal: 1m 16s\tremaining: 21.4s\n",
      "156:\tlearn: 1635.9313637\ttotal: 1m 16s\tremaining: 20.9s\n",
      "157:\tlearn: 1635.3730866\ttotal: 1m 17s\tremaining: 20.5s\n",
      "158:\tlearn: 1634.6652613\ttotal: 1m 17s\tremaining: 20s\n",
      "159:\tlearn: 1633.6880355\ttotal: 1m 17s\tremaining: 19.5s\n",
      "160:\tlearn: 1632.8573682\ttotal: 1m 18s\tremaining: 19s\n",
      "161:\tlearn: 1632.2382110\ttotal: 1m 18s\tremaining: 18.5s\n",
      "162:\tlearn: 1631.4156616\ttotal: 1m 19s\tremaining: 18s\n",
      "163:\tlearn: 1630.3979439\ttotal: 1m 19s\tremaining: 17.5s\n",
      "164:\tlearn: 1629.4121956\ttotal: 1m 20s\tremaining: 17s\n",
      "165:\tlearn: 1628.9581586\ttotal: 1m 20s\tremaining: 16.5s\n",
      "166:\tlearn: 1627.8282784\ttotal: 1m 21s\tremaining: 16.1s\n",
      "167:\tlearn: 1627.2108581\ttotal: 1m 21s\tremaining: 15.6s\n",
      "168:\tlearn: 1626.4198912\ttotal: 1m 22s\tremaining: 15.1s\n",
      "169:\tlearn: 1625.6837412\ttotal: 1m 22s\tremaining: 14.6s\n",
      "170:\tlearn: 1624.7730595\ttotal: 1m 23s\tremaining: 14.1s\n",
      "171:\tlearn: 1624.0941774\ttotal: 1m 23s\tremaining: 13.6s\n",
      "172:\tlearn: 1623.3123214\ttotal: 1m 24s\tremaining: 13.1s\n",
      "173:\tlearn: 1622.4477801\ttotal: 1m 24s\tremaining: 12.6s\n",
      "174:\tlearn: 1621.8087765\ttotal: 1m 24s\tremaining: 12.1s\n",
      "175:\tlearn: 1620.8919153\ttotal: 1m 25s\tremaining: 11.7s\n",
      "176:\tlearn: 1620.4408906\ttotal: 1m 25s\tremaining: 11.2s\n",
      "177:\tlearn: 1619.7020149\ttotal: 1m 26s\tremaining: 10.7s\n",
      "178:\tlearn: 1619.2652132\ttotal: 1m 26s\tremaining: 10.2s\n",
      "179:\tlearn: 1618.6052118\ttotal: 1m 27s\tremaining: 9.71s\n",
      "180:\tlearn: 1618.2848033\ttotal: 1m 27s\tremaining: 9.22s\n",
      "181:\tlearn: 1617.6253788\ttotal: 1m 28s\tremaining: 8.73s\n",
      "182:\tlearn: 1616.8666238\ttotal: 1m 28s\tremaining: 8.24s\n",
      "183:\tlearn: 1616.1841908\ttotal: 1m 29s\tremaining: 7.77s\n",
      "184:\tlearn: 1615.4519920\ttotal: 1m 29s\tremaining: 7.29s\n",
      "185:\tlearn: 1614.8374049\ttotal: 1m 30s\tremaining: 6.8s\n",
      "186:\tlearn: 1614.3162244\ttotal: 1m 30s\tremaining: 6.31s\n",
      "187:\tlearn: 1613.2696606\ttotal: 1m 31s\tremaining: 5.82s\n",
      "188:\tlearn: 1612.6881442\ttotal: 1m 31s\tremaining: 5.34s\n",
      "189:\tlearn: 1611.9787229\ttotal: 1m 32s\tremaining: 4.85s\n",
      "190:\tlearn: 1611.3659958\ttotal: 1m 32s\tremaining: 4.37s\n",
      "191:\tlearn: 1610.8341484\ttotal: 1m 33s\tremaining: 3.88s\n",
      "192:\tlearn: 1609.9401685\ttotal: 1m 33s\tremaining: 3.4s\n",
      "193:\tlearn: 1609.4777822\ttotal: 1m 34s\tremaining: 2.92s\n",
      "194:\tlearn: 1608.6603943\ttotal: 1m 34s\tremaining: 2.43s\n",
      "195:\tlearn: 1608.2629199\ttotal: 1m 35s\tremaining: 1.94s\n",
      "196:\tlearn: 1607.6195420\ttotal: 1m 35s\tremaining: 1.46s\n",
      "197:\tlearn: 1606.7899112\ttotal: 1m 36s\tremaining: 971ms\n",
      "198:\tlearn: 1606.0764997\ttotal: 1m 36s\tremaining: 485ms\n",
      "199:\tlearn: 1605.5596138\ttotal: 1m 37s\tremaining: 0us\n",
      "Время обучения CatBoostRegressor: 98.249 секунд\n"
     ]
    }
   ],
   "source": [
    "start_time = time.time()\n",
    "model_cb = CatBoostRegressor(**grid_cb.best_params_)\n",
    "model_cb.fit(X_train, y_train, cat_features= cat_features)\n",
    "end_time = time.time()\n",
    "train_time_cb = end_time - start_time\n",
    "print('Время обучения CatBoostRegressor:', round((train_time_cb), 3), 'секунд')"
   ]
  },
  {
   "cell_type": "code",
   "execution_count": 50,
   "metadata": {},
   "outputs": [
    {
     "name": "stdout",
     "output_type": "stream",
     "text": [
      "Время предсказания CatBoostRegressor на тестовой выборке: 0.486 секунд\n"
     ]
    }
   ],
   "source": [
    "start_time = time.time()\n",
    "predict_valid_cb = model_cb.predict(X_test)\n",
    "end_time = time.time()\n",
    "predict_time_cb = end_time - start_time\n",
    "#rmse_cb = round(mean_squared_error(y_val, predict_valid_cb) ** 0.5, 2)\n",
    "#print('RMSE CatBoostRegressor на валидационной выборке:', rmse_cb)\n",
    "print('Время предсказания CatBoostRegressor на тестовой выборке:', round((predict_time_cb), 3), 'секунд')"
   ]
  },
  {
   "cell_type": "markdown",
   "metadata": {},
   "source": [
    "### LGBMRegressor"
   ]
  },
  {
   "cell_type": "code",
   "execution_count": 51,
   "metadata": {},
   "outputs": [
    {
     "name": "stdout",
     "output_type": "stream",
     "text": [
      "<class 'pandas.core.frame.DataFrame'>\n",
      "Int64Index: 208746 entries, 165869 to 135274\n",
      "Data columns (total 9 columns):\n",
      " #   Column            Non-Null Count   Dtype  \n",
      "---  ------            --------------   -----  \n",
      " 0   VehicleType       208746 non-null  int16  \n",
      " 1   RegistrationYear  208746 non-null  int64  \n",
      " 2   Gearbox           208746 non-null  int16  \n",
      " 3   Power             208746 non-null  int64  \n",
      " 4   Model             208746 non-null  float64\n",
      " 5   Kilometer         208746 non-null  int64  \n",
      " 6   FuelType          208746 non-null  int16  \n",
      " 7   Brand             208746 non-null  float64\n",
      " 8   Repaired          208746 non-null  int16  \n",
      "dtypes: float64(2), int16(4), int64(3)\n",
      "memory usage: 11.1 MB\n"
     ]
    }
   ],
   "source": [
    "#для модели LightGBM используем кодирование OrdinalEncoder для столбцов VehicleType, Gearbox, FuelType, Repaired\n",
    "\n",
    "enc = OrdinalEncoder(dtype=np.int16)\n",
    "X_train[cat_features] = enc.fit_transform(X_train[cat_features])\n",
    "X_test[cat_features] = enc.transform(X_test[cat_features])\n",
    "X_train.info()"
   ]
  },
  {
   "cell_type": "code",
   "execution_count": 52,
   "metadata": {},
   "outputs": [
    {
     "name": "stdout",
     "output_type": "stream",
     "text": [
      "Fitting 3 folds for each of 4 candidates, totalling 12 fits\n",
      "[LightGBM] [Info] Total Bins 640\n",
      "[LightGBM] [Info] Number of data points in the train set: 139164, number of used features: 9\n",
      "[LightGBM] [Info] Start training from score 4563.339060\n",
      "[LightGBM] [Info] Total Bins 639\n",
      "[LightGBM] [Info] Number of data points in the train set: 139164, number of used features: 9\n",
      "[LightGBM] [Info] Start training from score 4570.494043\n",
      "[LightGBM] [Info] Total Bins 643\n",
      "[LightGBM] [Info] Number of data points in the train set: 139164, number of used features: 9\n",
      "[LightGBM] [Info] Start training from score 4564.224800\n",
      "[LightGBM] [Info] Total Bins 640\n",
      "[LightGBM] [Info] Number of data points in the train set: 139164, number of used features: 9\n",
      "[LightGBM] [Info] Start training from score 4563.339060\n",
      "[LightGBM] [Info] Total Bins 639\n",
      "[LightGBM] [Info] Number of data points in the train set: 139164, number of used features: 9\n",
      "[LightGBM] [Info] Start training from score 4570.494043\n",
      "[LightGBM] [Info] Total Bins 643\n",
      "[LightGBM] [Info] Number of data points in the train set: 139164, number of used features: 9\n",
      "[LightGBM] [Info] Start training from score 4564.224800\n",
      "[LightGBM] [Info] Total Bins 640\n",
      "[LightGBM] [Info] Number of data points in the train set: 139164, number of used features: 9\n",
      "[LightGBM] [Info] Start training from score 4563.339060\n",
      "[LightGBM] [Info] Total Bins 639\n",
      "[LightGBM] [Info] Number of data points in the train set: 139164, number of used features: 9\n",
      "[LightGBM] [Info] Start training from score 4570.494043\n",
      "[LightGBM] [Info] Total Bins 643\n",
      "[LightGBM] [Info] Number of data points in the train set: 139164, number of used features: 9\n",
      "[LightGBM] [Info] Start training from score 4564.224800\n",
      "[LightGBM] [Info] Total Bins 640\n",
      "[LightGBM] [Info] Number of data points in the train set: 139164, number of used features: 9\n",
      "[LightGBM] [Info] Start training from score 4563.339060\n",
      "[LightGBM] [Info] Total Bins 639\n",
      "[LightGBM] [Info] Number of data points in the train set: 139164, number of used features: 9\n",
      "[LightGBM] [Info] Start training from score 4570.494043\n",
      "[LightGBM] [Info] Total Bins 643\n",
      "[LightGBM] [Info] Number of data points in the train set: 139164, number of used features: 9\n",
      "[LightGBM] [Info] Start training from score 4564.224800\n",
      "[LightGBM] [Info] Total Bins 650\n",
      "[LightGBM] [Info] Number of data points in the train set: 208746, number of used features: 9\n",
      "[LightGBM] [Info] Start training from score 4566.019301\n",
      "RMSE LGBMRegressor() на обучающей выборке: 1574.8025869113878\n",
      "CPU times: total: 1min 55s\n",
      "Wall time: 59.8 s\n"
     ]
    }
   ],
   "source": [
    "%%time\n",
    "\n",
    "model_lgbm = LGBMRegressor()\n",
    "grid_lgbm = GridSearchCV(model_lgbm, parameters_lgbm, cv = 3, scoring=score, verbose=1)\n",
    "grid_lgbm.fit(X_train, y_train)\n",
    "rmse_lgb = abs(grid_lgbm.best_score_)\n",
    "print('RMSE LGBMRegressor() на обучающей выборке:', rmse_lgb)"
   ]
  },
  {
   "cell_type": "code",
   "execution_count": 53,
   "metadata": {},
   "outputs": [
    {
     "name": "stdout",
     "output_type": "stream",
     "text": [
      "[LightGBM] [Info] Total Bins 653\n",
      "[LightGBM] [Info] Number of data points in the train set: 208746, number of used features: 9\n",
      "[LightGBM] [Info] Start training from score 4566.019301\n",
      "Время обучения LGBMRegressor: 5.183 секунд\n"
     ]
    }
   ],
   "source": [
    "start_time = time.time()\n",
    "lgb_train = lgb.Dataset(X_train, y_train, categorical_feature=cat_features)\n",
    "\n",
    "model_lgbm = lgb.train(grid_lgbm.best_params_,\n",
    "                       lgb_train,\n",
    "                       num_boost_round=100,\n",
    "                       categorical_feature=cat_features)\n",
    "end_time = time.time()\n",
    "train_time_lgb = end_time - start_time\n",
    "print('Время обучения LGBMRegressor:', round((train_time_lgb), 3), 'секунд')"
   ]
  },
  {
   "cell_type": "code",
   "execution_count": 54,
   "metadata": {},
   "outputs": [
    {
     "name": "stdout",
     "output_type": "stream",
     "text": [
      "Время предсказания LGBMRegressor на тестовой выборке: 0.942 секунд\n"
     ]
    }
   ],
   "source": [
    "start_time = time.time()\n",
    "predict_valid_lgb = model_lgbm.predict(X_test)\n",
    "end_time = time.time()\n",
    "predict_time_lgb = end_time - start_time\n",
    "#rmse_lgb = round(mean_squared_error(y_val, predict_valid_lgb)**0.5, 2)\n",
    "#print('RMSE LGBMRegressor на валидационной выборке:', rmse_lgb)\n",
    "print('Время предсказания LGBMRegressor на тестовой выборке:', round((predict_time_lgb), 3), 'секунд')"
   ]
  },
  {
   "cell_type": "markdown",
   "metadata": {},
   "source": [
    "__Вывод__\n",
    "\n",
    "Категориальные признаки были преобразованы в численные. Проведено масштабирование численных признаков. Данные разделены на обучащую и тестовую выборки в соотношении 3:1 и обучены на четырех моделях, одна из которых LightGBM. Значение метрики RMSE по трем моделям не превысило 2500 на валидационной выборке."
   ]
  },
  {
   "cell_type": "markdown",
   "metadata": {},
   "source": [
    "## Анализ моделей"
   ]
  },
  {
   "cell_type": "code",
   "execution_count": 55,
   "metadata": {},
   "outputs": [
    {
     "data": {
      "text/html": [
       "<div>\n",
       "<style scoped>\n",
       "    .dataframe tbody tr th:only-of-type {\n",
       "        vertical-align: middle;\n",
       "    }\n",
       "\n",
       "    .dataframe tbody tr th {\n",
       "        vertical-align: top;\n",
       "    }\n",
       "\n",
       "    .dataframe thead th {\n",
       "        text-align: right;\n",
       "    }\n",
       "</style>\n",
       "<table border=\"1\" class=\"dataframe\">\n",
       "  <thead>\n",
       "    <tr style=\"text-align: right;\">\n",
       "      <th></th>\n",
       "      <th>Training Time (sec)</th>\n",
       "      <th>Prediction Time (sec)</th>\n",
       "      <th>RMSE</th>\n",
       "    </tr>\n",
       "    <tr>\n",
       "      <th>Model</th>\n",
       "      <th></th>\n",
       "      <th></th>\n",
       "      <th></th>\n",
       "    </tr>\n",
       "  </thead>\n",
       "  <tbody>\n",
       "    <tr>\n",
       "      <th>DecisionTreeRegressor</th>\n",
       "      <td>1.984481</td>\n",
       "      <td>0.040933</td>\n",
       "      <td>1842.082389</td>\n",
       "    </tr>\n",
       "    <tr>\n",
       "      <th>LinearRegression</th>\n",
       "      <td>0.575425</td>\n",
       "      <td>0.010996</td>\n",
       "      <td>2820.420908</td>\n",
       "    </tr>\n",
       "    <tr>\n",
       "      <th>CatBoostRegressor</th>\n",
       "      <td>98.249440</td>\n",
       "      <td>0.486202</td>\n",
       "      <td>1660.496033</td>\n",
       "    </tr>\n",
       "    <tr>\n",
       "      <th>LGBMRegressor</th>\n",
       "      <td>5.182753</td>\n",
       "      <td>0.942253</td>\n",
       "      <td>1574.802587</td>\n",
       "    </tr>\n",
       "  </tbody>\n",
       "</table>\n",
       "</div>"
      ],
      "text/plain": [
       "                       Training Time (sec)  Prediction Time (sec)         RMSE\n",
       "Model                                                                         \n",
       "DecisionTreeRegressor             1.984481               0.040933  1842.082389\n",
       "LinearRegression                  0.575425               0.010996  2820.420908\n",
       "CatBoostRegressor                98.249440               0.486202  1660.496033\n",
       "LGBMRegressor                     5.182753               0.942253  1574.802587"
      ]
     },
     "execution_count": 55,
     "metadata": {},
     "output_type": "execute_result"
    }
   ],
   "source": [
    "#создадим DataFrame со сводными результатами по моделям\n",
    "\n",
    "results = pd.DataFrame({'Model': ['DecisionTreeRegressor', 'LinearRegression', 'CatBoostRegressor', \n",
    "                                  'LGBMRegressor'],\n",
    "                        'Training Time (sec)': [train_time_dtr, train_time_lr, train_time_cb, train_time_lgb],\n",
    "                        'Prediction Time (sec)': [predict_time_dtr, predict_time_lr, predict_time_cb, \n",
    "                                                  predict_time_lgb],\n",
    "                        'RMSE': [rmse_dtr, rmse_lr, rmse_cb, rmse_lgb]})\n",
    "results.set_index('Model')"
   ]
  },
  {
   "cell_type": "code",
   "execution_count": 56,
   "metadata": {},
   "outputs": [
    {
     "name": "stdout",
     "output_type": "stream",
     "text": [
      "RMSE LGBMRegressor на тестовой выборке: 1556.74\n"
     ]
    }
   ],
   "source": [
    "#проверим качество модели LGBMRegressor на тестовой выборке\n",
    "rmse_test = round(mean_squared_error(y_test, model_lgbm.predict(X_test))**0.5, 2)\n",
    "print('RMSE LGBMRegressor на тестовой выборке:', rmse_test)"
   ]
  },
  {
   "cell_type": "markdown",
   "metadata": {},
   "source": [
    "## Общий вывод"
   ]
  },
  {
   "cell_type": "markdown",
   "metadata": {},
   "source": [
    "В рамках проекта построено 4 модели, способные определять рыночную стоимость автомобиля исходя из данных о технических характеристиках, комплектации и цен других автомобилей. Определена лучшая модель с учетом критериев заказчика:\n",
    "* качество предсказания;\n",
    "* время обучения модели;\n",
    "* время предсказания модели.\n",
    " \n",
    "При подготовке данных к обучению столбцы с признаками `DateCrawled`, `RegistrationMonth`, `DateCreated`, `NumberOfPictures`, `PostalCode`, `LastSeen` определены как неинформативные и удалены. \\\n",
    "Также из датасета исключены строки-дубликаты. \\\n",
    "Аномальные значения в столбце `RegistrationYear` удалены, в столбце `Power` приведены к единому классу, также исключены данные, превышающие значение 250 л.с. \\\n",
    "Заполнить пропуски в столбцах `VehicleType`, `Gearbox`, `Model`, `FuelType` не представляется возможным, поэтому сделана замена на _unknown_. В столбце `Repaired` скорее всего отсутствуют данные по автомобилям, которые не были в ремонте, поэтому сделана замена на _no_. \n",
    "\n",
    "В данных наблюдаются слабые зависимости стоимости автомобиля от мощности двигателя и года выпуска (положительная зависимость), отрицательная от пробега.\n",
    "\n",
    "Целевой признак представлен численным значением, будем решать задачу регрессии обучением с учителем.\n",
    "\n",
    "Данные из обучающей выборки были обучены с помощью четырех моделей, одна из которых — LightGBM, а также CatBoostRegressor, DecisionTreeRegressor и LinearRegression. Для каждой модели использованы разные гиперпараметры для поиска наилучшего значения метрики RMSE. По результатам анализа времени обучения, предсказания и качества модели лучшей моделью по указанным показателям определена модель - LightGBMRegressor. \\\n",
    "При проверке лучшей модели на тестовой выборке получено значение метрики RMSE: 1556.74, что соответствует условиям задачи."
   ]
  }
 ],
 "metadata": {
  "ExecuteTimeLog": [
   {
    "duration": 1942,
    "start_time": "2023-07-31T08:32:04.817Z"
   },
   {
    "duration": 1486,
    "start_time": "2023-07-31T08:32:08.468Z"
   },
   {
    "duration": 169,
    "start_time": "2023-07-31T08:32:11.090Z"
   },
   {
    "duration": 15,
    "start_time": "2023-07-31T08:32:16.363Z"
   },
   {
    "duration": 755,
    "start_time": "2023-07-31T08:32:18.416Z"
   },
   {
    "duration": 21,
    "start_time": "2023-07-31T08:37:02.990Z"
   },
   {
    "duration": 227,
    "start_time": "2023-07-31T08:37:09.082Z"
   },
   {
    "duration": 127,
    "start_time": "2023-07-31T08:38:56.405Z"
   },
   {
    "duration": 227,
    "start_time": "2023-07-31T08:39:07.822Z"
   },
   {
    "duration": 242,
    "start_time": "2023-07-31T08:39:24.346Z"
   },
   {
    "duration": 102,
    "start_time": "2023-07-31T08:39:26.076Z"
   },
   {
    "duration": 60,
    "start_time": "2023-07-31T08:39:33.800Z"
   },
   {
    "duration": 623,
    "start_time": "2023-07-31T08:39:34.894Z"
   },
   {
    "duration": 164,
    "start_time": "2023-07-31T08:39:37.251Z"
   },
   {
    "duration": 228,
    "start_time": "2023-07-31T08:41:10.043Z"
   },
   {
    "duration": 172,
    "start_time": "2023-07-31T08:41:20.781Z"
   },
   {
    "duration": 190,
    "start_time": "2023-07-31T08:43:47.264Z"
   },
   {
    "duration": 197,
    "start_time": "2023-07-31T08:44:16.463Z"
   },
   {
    "duration": 465,
    "start_time": "2023-07-31T08:45:26.993Z"
   },
   {
    "duration": 131,
    "start_time": "2023-07-31T08:46:52.585Z"
   },
   {
    "duration": 459,
    "start_time": "2023-07-31T08:47:16.918Z"
   },
   {
    "duration": 543,
    "start_time": "2023-07-31T08:48:05.365Z"
   },
   {
    "duration": 429,
    "start_time": "2023-07-31T08:48:17.355Z"
   },
   {
    "duration": 411,
    "start_time": "2023-07-31T08:48:26.346Z"
   },
   {
    "duration": 530,
    "start_time": "2023-07-31T08:48:32.514Z"
   },
   {
    "duration": 24,
    "start_time": "2023-07-31T09:10:40.152Z"
   },
   {
    "duration": 4,
    "start_time": "2023-07-31T09:11:54.796Z"
   },
   {
    "duration": 790,
    "start_time": "2023-07-31T09:11:56.218Z"
   },
   {
    "duration": 145,
    "start_time": "2023-07-31T09:11:57.009Z"
   },
   {
    "duration": 20,
    "start_time": "2023-07-31T09:11:57.453Z"
   },
   {
    "duration": 597,
    "start_time": "2023-07-31T09:11:57.793Z"
   },
   {
    "duration": 19,
    "start_time": "2023-07-31T09:12:00.279Z"
   },
   {
    "duration": 206,
    "start_time": "2023-07-31T09:12:01.843Z"
   },
   {
    "duration": 302,
    "start_time": "2023-07-31T09:12:03.298Z"
   },
   {
    "duration": 81,
    "start_time": "2023-07-31T09:12:04.369Z"
   },
   {
    "duration": 59,
    "start_time": "2023-07-31T09:12:04.913Z"
   },
   {
    "duration": 553,
    "start_time": "2023-07-31T09:12:05.549Z"
   },
   {
    "duration": 195,
    "start_time": "2023-07-31T09:12:06.750Z"
   },
   {
    "duration": 37,
    "start_time": "2023-07-31T09:12:09.109Z"
   },
   {
    "duration": 5,
    "start_time": "2023-07-31T09:12:13.707Z"
   },
   {
    "duration": 27,
    "start_time": "2023-07-31T09:14:32.064Z"
   },
   {
    "duration": 8,
    "start_time": "2023-07-31T09:14:44.052Z"
   },
   {
    "duration": 91,
    "start_time": "2023-07-31T09:14:51.279Z"
   },
   {
    "duration": 191,
    "start_time": "2023-07-31T09:14:53.165Z"
   },
   {
    "duration": 167,
    "start_time": "2023-07-31T09:15:06.246Z"
   },
   {
    "duration": 338,
    "start_time": "2023-07-31T09:15:08.181Z"
   },
   {
    "duration": 327,
    "start_time": "2023-07-31T09:15:26.180Z"
   },
   {
    "duration": 321,
    "start_time": "2023-07-31T09:15:46.054Z"
   },
   {
    "duration": 18,
    "start_time": "2023-07-31T09:16:02.597Z"
   },
   {
    "duration": 67,
    "start_time": "2023-07-31T09:16:57.138Z"
   },
   {
    "duration": 16,
    "start_time": "2023-07-31T09:21:01.555Z"
   },
   {
    "duration": 91,
    "start_time": "2023-07-31T09:21:02.402Z"
   },
   {
    "duration": 3,
    "start_time": "2023-07-31T09:37:47.212Z"
   },
   {
    "duration": 783,
    "start_time": "2023-07-31T09:38:47.346Z"
   },
   {
    "duration": 124,
    "start_time": "2023-07-31T09:38:48.571Z"
   },
   {
    "duration": 4,
    "start_time": "2023-07-31T09:38:49.805Z"
   },
   {
    "duration": 15,
    "start_time": "2023-07-31T09:38:53.159Z"
   },
   {
    "duration": 603,
    "start_time": "2023-07-31T09:38:53.753Z"
   },
   {
    "duration": 34,
    "start_time": "2023-07-31T09:38:54.615Z"
   },
   {
    "duration": 195,
    "start_time": "2023-07-31T09:38:55.650Z"
   },
   {
    "duration": 270,
    "start_time": "2023-07-31T09:38:56.579Z"
   },
   {
    "duration": 87,
    "start_time": "2023-07-31T09:38:57.197Z"
   },
   {
    "duration": 69,
    "start_time": "2023-07-31T09:38:58.389Z"
   },
   {
    "duration": 610,
    "start_time": "2023-07-31T09:38:59.119Z"
   },
   {
    "duration": 161,
    "start_time": "2023-07-31T09:38:59.756Z"
   },
   {
    "duration": 22,
    "start_time": "2023-07-31T09:39:02.157Z"
   },
   {
    "duration": 5,
    "start_time": "2023-07-31T09:39:06.700Z"
   },
   {
    "duration": 27,
    "start_time": "2023-07-31T09:39:09.696Z"
   },
   {
    "duration": 5,
    "start_time": "2023-07-31T09:39:12.564Z"
   },
   {
    "duration": 7,
    "start_time": "2023-07-31T09:39:13.461Z"
   },
   {
    "duration": 91,
    "start_time": "2023-07-31T09:39:16.992Z"
   },
   {
    "duration": 192,
    "start_time": "2023-07-31T09:39:17.562Z"
   },
   {
    "duration": 338,
    "start_time": "2023-07-31T09:39:18.579Z"
   },
   {
    "duration": 27,
    "start_time": "2023-07-31T09:39:19.534Z"
   },
   {
    "duration": 69,
    "start_time": "2023-07-31T09:39:21.976Z"
   },
   {
    "duration": 16,
    "start_time": "2023-07-31T09:39:25.790Z"
   },
   {
    "duration": 88,
    "start_time": "2023-07-31T09:39:27.108Z"
   },
   {
    "duration": 6,
    "start_time": "2023-07-31T09:41:47.136Z"
   },
   {
    "duration": 3,
    "start_time": "2023-07-31T09:42:14.708Z"
   },
   {
    "duration": 4,
    "start_time": "2023-07-31T09:42:39.468Z"
   },
   {
    "duration": 3,
    "start_time": "2023-07-31T09:42:54.259Z"
   },
   {
    "duration": 3,
    "start_time": "2023-07-31T09:43:31.667Z"
   },
   {
    "duration": 3,
    "start_time": "2023-07-31T09:43:43.516Z"
   },
   {
    "duration": 4,
    "start_time": "2023-07-31T09:43:48.456Z"
   },
   {
    "duration": 7,
    "start_time": "2023-07-31T09:46:20.044Z"
   },
   {
    "duration": 5,
    "start_time": "2023-07-31T09:46:39.054Z"
   },
   {
    "duration": 963,
    "start_time": "2023-07-31T09:58:17.418Z"
   },
   {
    "duration": 151,
    "start_time": "2023-07-31T09:58:18.817Z"
   },
   {
    "duration": 5,
    "start_time": "2023-07-31T09:58:19.146Z"
   },
   {
    "duration": 13,
    "start_time": "2023-07-31T09:58:19.676Z"
   },
   {
    "duration": 620,
    "start_time": "2023-07-31T09:58:19.948Z"
   },
   {
    "duration": 26,
    "start_time": "2023-07-31T09:58:20.744Z"
   },
   {
    "duration": 243,
    "start_time": "2023-07-31T09:58:21.299Z"
   },
   {
    "duration": 290,
    "start_time": "2023-07-31T09:58:21.877Z"
   },
   {
    "duration": 88,
    "start_time": "2023-07-31T09:58:22.169Z"
   },
   {
    "duration": 55,
    "start_time": "2023-07-31T09:58:22.479Z"
   },
   {
    "duration": 571,
    "start_time": "2023-07-31T09:58:22.874Z"
   },
   {
    "duration": 183,
    "start_time": "2023-07-31T09:58:23.447Z"
   },
   {
    "duration": 21,
    "start_time": "2023-07-31T09:58:24.787Z"
   },
   {
    "duration": 6,
    "start_time": "2023-07-31T09:58:26.999Z"
   },
   {
    "duration": 31,
    "start_time": "2023-07-31T09:58:27.548Z"
   },
   {
    "duration": 6,
    "start_time": "2023-07-31T09:58:30.181Z"
   },
   {
    "duration": 12,
    "start_time": "2023-07-31T09:58:30.513Z"
   },
   {
    "duration": 102,
    "start_time": "2023-07-31T09:58:32.007Z"
   },
   {
    "duration": 180,
    "start_time": "2023-07-31T09:58:32.269Z"
   },
   {
    "duration": 328,
    "start_time": "2023-07-31T09:58:32.841Z"
   },
   {
    "duration": 18,
    "start_time": "2023-07-31T09:58:33.795Z"
   },
   {
    "duration": 74,
    "start_time": "2023-07-31T09:58:35.443Z"
   },
   {
    "duration": 32,
    "start_time": "2023-07-31T09:58:37.424Z"
   },
   {
    "duration": 75,
    "start_time": "2023-07-31T09:58:37.709Z"
   },
   {
    "duration": 10,
    "start_time": "2023-07-31T09:58:38.649Z"
   },
   {
    "duration": 4,
    "start_time": "2023-07-31T09:59:56.269Z"
   },
   {
    "duration": 852,
    "start_time": "2023-07-31T09:59:58.801Z"
   },
   {
    "duration": 134,
    "start_time": "2023-07-31T10:00:00.248Z"
   },
   {
    "duration": 10,
    "start_time": "2023-07-31T10:00:01.848Z"
   },
   {
    "duration": 13,
    "start_time": "2023-07-31T10:00:04.045Z"
   },
   {
    "duration": 628,
    "start_time": "2023-07-31T10:00:05.351Z"
   },
   {
    "duration": 25,
    "start_time": "2023-07-31T10:00:10.087Z"
   },
   {
    "duration": 272,
    "start_time": "2023-07-31T10:00:13.710Z"
   },
   {
    "duration": 345,
    "start_time": "2023-07-31T10:00:16.506Z"
   },
   {
    "duration": 129,
    "start_time": "2023-07-31T10:00:18.016Z"
   },
   {
    "duration": 171,
    "start_time": "2023-07-31T10:00:20.288Z"
   },
   {
    "duration": 570,
    "start_time": "2023-07-31T10:00:21.093Z"
   },
   {
    "duration": 162,
    "start_time": "2023-07-31T10:00:27.742Z"
   },
   {
    "duration": 22,
    "start_time": "2023-07-31T10:00:37.394Z"
   },
   {
    "duration": 5,
    "start_time": "2023-07-31T10:00:41.586Z"
   },
   {
    "duration": 31,
    "start_time": "2023-07-31T10:00:43.004Z"
   },
   {
    "duration": 6,
    "start_time": "2023-07-31T10:00:45.210Z"
   },
   {
    "duration": 11,
    "start_time": "2023-07-31T10:00:45.946Z"
   },
   {
    "duration": 135,
    "start_time": "2023-07-31T10:00:47.408Z"
   },
   {
    "duration": 191,
    "start_time": "2023-07-31T10:00:48.113Z"
   },
   {
    "duration": 338,
    "start_time": "2023-07-31T10:00:48.821Z"
   },
   {
    "duration": 39,
    "start_time": "2023-07-31T10:00:49.714Z"
   },
   {
    "duration": 80,
    "start_time": "2023-07-31T10:00:51.906Z"
   },
   {
    "duration": 17,
    "start_time": "2023-07-31T10:00:54.988Z"
   },
   {
    "duration": 95,
    "start_time": "2023-07-31T10:00:55.167Z"
   },
   {
    "duration": 5,
    "start_time": "2023-07-31T10:00:55.369Z"
   },
   {
    "duration": 29,
    "start_time": "2023-07-31T10:01:00.113Z"
   },
   {
    "duration": 21,
    "start_time": "2023-07-31T10:28:13.340Z"
   },
   {
    "duration": 9,
    "start_time": "2023-07-31T10:32:42.686Z"
   },
   {
    "duration": 76,
    "start_time": "2023-07-31T10:36:32.006Z"
   },
   {
    "duration": 6,
    "start_time": "2023-07-31T10:36:40.527Z"
   },
   {
    "duration": 19,
    "start_time": "2023-07-31T10:39:05.670Z"
   },
   {
    "duration": 57,
    "start_time": "2023-07-31T10:41:29.109Z"
   },
   {
    "duration": 15,
    "start_time": "2023-07-31T10:42:50.118Z"
   },
   {
    "duration": 5,
    "start_time": "2023-07-31T10:43:00.236Z"
   },
   {
    "duration": 30,
    "start_time": "2023-07-31T10:43:22.912Z"
   },
   {
    "duration": 61,
    "start_time": "2023-07-31T10:43:23.906Z"
   },
   {
    "duration": 7,
    "start_time": "2023-07-31T10:43:31.936Z"
   },
   {
    "duration": 48,
    "start_time": "2023-07-31T10:45:44.041Z"
   },
   {
    "duration": 22,
    "start_time": "2023-07-31T10:45:48.819Z"
   },
   {
    "duration": 164,
    "start_time": "2023-07-31T10:46:04.596Z"
   },
   {
    "duration": 17,
    "start_time": "2023-07-31T11:15:50.159Z"
   },
   {
    "duration": 42,
    "start_time": "2023-07-31T11:15:53.833Z"
   },
   {
    "duration": 6,
    "start_time": "2023-07-31T11:16:00.346Z"
   },
   {
    "duration": 12,
    "start_time": "2023-07-31T11:16:03.549Z"
   },
   {
    "duration": 6,
    "start_time": "2023-07-31T11:16:14.991Z"
   },
   {
    "duration": 3,
    "start_time": "2023-07-31T11:16:24.474Z"
   },
   {
    "duration": 4,
    "start_time": "2023-07-31T11:16:31.263Z"
   },
   {
    "duration": 2,
    "start_time": "2023-07-31T11:16:33.614Z"
   },
   {
    "duration": 13,
    "start_time": "2023-07-31T11:16:34.840Z"
   },
   {
    "duration": 153,
    "start_time": "2023-07-31T11:16:43.246Z"
   },
   {
    "duration": 4,
    "start_time": "2023-07-31T11:19:33.814Z"
   },
   {
    "duration": 275,
    "start_time": "2023-07-31T11:19:41.295Z"
   },
   {
    "duration": 723726,
    "start_time": "2023-07-31T11:21:11.658Z"
   },
   {
    "duration": 4,
    "start_time": "2023-07-31T11:35:21.448Z"
   },
   {
    "duration": 12,
    "start_time": "2023-07-31T11:35:49.328Z"
   },
   {
    "duration": 4,
    "start_time": "2023-07-31T11:54:21.902Z"
   },
   {
    "duration": 287,
    "start_time": "2023-07-31T11:54:43.976Z"
   },
   {
    "duration": 223048,
    "start_time": "2023-07-31T11:54:55.813Z"
   },
   {
    "duration": 24,
    "start_time": "2023-07-31T12:09:34.418Z"
   },
   {
    "duration": 461,
    "start_time": "2023-07-31T12:09:48.788Z"
   },
   {
    "duration": 19,
    "start_time": "2023-07-31T12:16:41.857Z"
   },
   {
    "duration": 45,
    "start_time": "2023-07-31T12:16:43.753Z"
   },
   {
    "duration": 5,
    "start_time": "2023-07-31T12:16:47.261Z"
   },
   {
    "duration": 509,
    "start_time": "2023-07-31T12:16:49.253Z"
   },
   {
    "duration": 16,
    "start_time": "2023-07-31T12:20:37.196Z"
   },
   {
    "duration": 16,
    "start_time": "2023-07-31T12:21:03.950Z"
   },
   {
    "duration": 59,
    "start_time": "2023-07-31T12:21:04.685Z"
   },
   {
    "duration": 4,
    "start_time": "2023-07-31T12:21:09.601Z"
   },
   {
    "duration": 468,
    "start_time": "2023-07-31T12:21:11.717Z"
   },
   {
    "duration": 18,
    "start_time": "2023-07-31T12:21:25.570Z"
   },
   {
    "duration": 16,
    "start_time": "2023-07-31T12:22:29.651Z"
   },
   {
    "duration": 56,
    "start_time": "2023-07-31T12:22:30.469Z"
   },
   {
    "duration": 5,
    "start_time": "2023-07-31T12:22:33.371Z"
   },
   {
    "duration": 334,
    "start_time": "2023-07-31T12:22:35.646Z"
   },
   {
    "duration": 338,
    "start_time": "2023-07-31T12:22:44.271Z"
   },
   {
    "duration": 35,
    "start_time": "2023-07-31T12:23:03.611Z"
   },
   {
    "duration": 75,
    "start_time": "2023-07-31T12:23:04.594Z"
   },
   {
    "duration": 12,
    "start_time": "2023-07-31T12:23:10.929Z"
   },
   {
    "duration": 395,
    "start_time": "2023-07-31T12:23:13.798Z"
   },
   {
    "duration": 447,
    "start_time": "2023-07-31T12:27:46.480Z"
   },
   {
    "duration": 476,
    "start_time": "2023-07-31T12:28:59.435Z"
   },
   {
    "duration": 30,
    "start_time": "2023-07-31T12:29:27.869Z"
   },
   {
    "duration": 214,
    "start_time": "2023-07-31T12:31:48.969Z"
   },
   {
    "duration": 92,
    "start_time": "2023-07-31T12:35:13.674Z"
   },
   {
    "duration": 9,
    "start_time": "2023-07-31T12:37:52.178Z"
   },
   {
    "duration": 17,
    "start_time": "2023-07-31T12:41:04.283Z"
   },
   {
    "duration": 58,
    "start_time": "2023-07-31T12:41:05.579Z"
   },
   {
    "duration": 7,
    "start_time": "2023-07-31T12:41:12.375Z"
   },
   {
    "duration": 19,
    "start_time": "2023-07-31T12:41:31.987Z"
   },
   {
    "duration": 338,
    "start_time": "2023-07-31T12:42:27.653Z"
   },
   {
    "duration": 472,
    "start_time": "2023-07-31T12:43:13.038Z"
   },
   {
    "duration": 183,
    "start_time": "2023-07-31T12:43:46.235Z"
   },
   {
    "duration": 16,
    "start_time": "2023-07-31T12:46:27.791Z"
   },
   {
    "duration": 133,
    "start_time": "2023-07-31T12:47:42.460Z"
   },
   {
    "duration": 10,
    "start_time": "2023-07-31T12:47:51.951Z"
   },
   {
    "duration": 45,
    "start_time": "2023-07-31T12:48:01.296Z"
   },
   {
    "duration": 20,
    "start_time": "2023-07-31T12:48:03.934Z"
   },
   {
    "duration": 1405,
    "start_time": "2023-07-31T12:51:20.255Z"
   },
   {
    "duration": 22,
    "start_time": "2023-07-31T12:51:28.973Z"
   },
   {
    "duration": 10,
    "start_time": "2023-07-31T12:51:34.288Z"
   },
   {
    "duration": 931,
    "start_time": "2023-07-31T12:52:15.772Z"
   },
   {
    "duration": 1189,
    "start_time": "2023-07-31T12:52:59.486Z"
   },
   {
    "duration": 1304,
    "start_time": "2023-07-31T12:53:17.354Z"
   },
   {
    "duration": 1405,
    "start_time": "2023-07-31T12:53:25.859Z"
   },
   {
    "duration": 623,
    "start_time": "2023-07-31T12:53:45.050Z"
   },
   {
    "duration": 1283,
    "start_time": "2023-07-31T12:54:21.354Z"
   },
   {
    "duration": 25,
    "start_time": "2023-07-31T12:55:00.865Z"
   },
   {
    "duration": 27,
    "start_time": "2023-07-31T12:55:12.302Z"
   },
   {
    "duration": 1239,
    "start_time": "2023-07-31T12:55:23.947Z"
   },
   {
    "duration": 290,
    "start_time": "2023-07-31T12:56:52.969Z"
   },
   {
    "duration": 326,
    "start_time": "2023-07-31T12:57:12.280Z"
   },
   {
    "duration": 333,
    "start_time": "2023-07-31T12:59:03.141Z"
   },
   {
    "duration": 294,
    "start_time": "2023-07-31T12:59:36.039Z"
   },
   {
    "duration": 70,
    "start_time": "2023-07-31T13:06:04.991Z"
   },
   {
    "duration": 1615,
    "start_time": "2023-07-31T13:06:17.542Z"
   },
   {
    "duration": 1358,
    "start_time": "2023-07-31T13:06:20.749Z"
   },
   {
    "duration": 172,
    "start_time": "2023-07-31T13:06:25.042Z"
   },
   {
    "duration": 14,
    "start_time": "2023-07-31T13:06:25.842Z"
   },
   {
    "duration": 15,
    "start_time": "2023-07-31T13:06:26.183Z"
   },
   {
    "duration": 622,
    "start_time": "2023-07-31T13:06:26.381Z"
   },
   {
    "duration": 35,
    "start_time": "2023-07-31T13:06:27.004Z"
   },
   {
    "duration": 226,
    "start_time": "2023-07-31T13:06:27.086Z"
   },
   {
    "duration": 288,
    "start_time": "2023-07-31T13:06:27.407Z"
   },
   {
    "duration": 99,
    "start_time": "2023-07-31T13:06:27.698Z"
   },
   {
    "duration": 81,
    "start_time": "2023-07-31T13:06:27.800Z"
   },
   {
    "duration": 607,
    "start_time": "2023-07-31T13:06:27.883Z"
   },
   {
    "duration": 182,
    "start_time": "2023-07-31T13:06:28.491Z"
   },
   {
    "duration": 30,
    "start_time": "2023-07-31T13:06:28.674Z"
   },
   {
    "duration": 8,
    "start_time": "2023-07-31T13:06:28.784Z"
   },
   {
    "duration": 28,
    "start_time": "2023-07-31T13:06:29.083Z"
   },
   {
    "duration": 6,
    "start_time": "2023-07-31T13:06:29.556Z"
   },
   {
    "duration": 8,
    "start_time": "2023-07-31T13:06:29.772Z"
   },
   {
    "duration": 103,
    "start_time": "2023-07-31T13:06:31.055Z"
   },
   {
    "duration": 255,
    "start_time": "2023-07-31T13:06:31.210Z"
   },
   {
    "duration": 338,
    "start_time": "2023-07-31T13:06:31.467Z"
   },
   {
    "duration": 51,
    "start_time": "2023-07-31T13:06:31.807Z"
   },
   {
    "duration": 71,
    "start_time": "2023-07-31T13:06:33.074Z"
   },
   {
    "duration": 18,
    "start_time": "2023-07-31T13:06:34.579Z"
   },
   {
    "duration": 101,
    "start_time": "2023-07-31T13:06:34.752Z"
   },
   {
    "duration": 4,
    "start_time": "2023-07-31T13:06:35.000Z"
   },
   {
    "duration": 43,
    "start_time": "2023-07-31T13:06:36.286Z"
   },
   {
    "duration": 13,
    "start_time": "2023-07-31T13:06:42.672Z"
   },
   {
    "duration": 66,
    "start_time": "2023-07-31T13:06:43.498Z"
   },
   {
    "duration": 6,
    "start_time": "2023-07-31T13:06:48.890Z"
   },
   {
    "duration": 1233,
    "start_time": "2023-07-31T13:06:52.054Z"
   },
   {
    "duration": 37,
    "start_time": "2023-07-31T13:06:58.252Z"
   },
   {
    "duration": 34,
    "start_time": "2023-07-31T13:07:12.599Z"
   },
   {
    "duration": 1307,
    "start_time": "2023-07-31T13:07:37.855Z"
   },
   {
    "duration": 2098,
    "start_time": "2023-07-31T13:07:47.697Z"
   },
   {
    "duration": 4454,
    "start_time": "2023-07-31T13:08:00.360Z"
   },
   {
    "duration": 1405,
    "start_time": "2023-07-31T13:09:32.050Z"
   },
   {
    "duration": 97,
    "start_time": "2023-07-31T13:09:44.479Z"
   },
   {
    "duration": 17,
    "start_time": "2023-07-31T13:10:26.148Z"
   },
   {
    "duration": 53,
    "start_time": "2023-07-31T13:10:26.949Z"
   },
   {
    "duration": 6,
    "start_time": "2023-07-31T13:10:32.773Z"
   },
   {
    "duration": 1293,
    "start_time": "2023-07-31T13:10:34.980Z"
   },
   {
    "duration": 52,
    "start_time": "2023-07-31T13:10:38.715Z"
   },
   {
    "duration": 56,
    "start_time": "2023-07-31T13:15:51.909Z"
   },
   {
    "duration": 2883,
    "start_time": "2023-07-31T13:20:30.654Z"
   },
   {
    "duration": 1334,
    "start_time": "2023-07-31T13:20:33.539Z"
   },
   {
    "duration": 158,
    "start_time": "2023-07-31T13:20:45.547Z"
   },
   {
    "duration": 6,
    "start_time": "2023-07-31T13:20:46.767Z"
   },
   {
    "duration": 16,
    "start_time": "2023-07-31T13:20:49.294Z"
   },
   {
    "duration": 631,
    "start_time": "2023-07-31T13:20:49.871Z"
   },
   {
    "duration": 28,
    "start_time": "2023-07-31T13:20:51.389Z"
   },
   {
    "duration": 223,
    "start_time": "2023-07-31T13:20:52.236Z"
   },
   {
    "duration": 288,
    "start_time": "2023-07-31T13:20:52.611Z"
   },
   {
    "duration": 140,
    "start_time": "2023-07-31T13:20:52.901Z"
   },
   {
    "duration": 63,
    "start_time": "2023-07-31T13:20:53.082Z"
   },
   {
    "duration": 575,
    "start_time": "2023-07-31T13:20:53.274Z"
   },
   {
    "duration": 158,
    "start_time": "2023-07-31T13:20:53.851Z"
   },
   {
    "duration": 49,
    "start_time": "2023-07-31T13:20:54.011Z"
   },
   {
    "duration": 20,
    "start_time": "2023-07-31T13:20:54.640Z"
   },
   {
    "duration": 44,
    "start_time": "2023-07-31T13:20:55.022Z"
   },
   {
    "duration": 6,
    "start_time": "2023-07-31T13:20:56.985Z"
   },
   {
    "duration": 8,
    "start_time": "2023-07-31T13:20:57.382Z"
   },
   {
    "duration": 123,
    "start_time": "2023-07-31T13:20:58.492Z"
   },
   {
    "duration": 253,
    "start_time": "2023-07-31T13:20:58.709Z"
   },
   {
    "duration": 323,
    "start_time": "2023-07-31T13:20:58.964Z"
   },
   {
    "duration": 20,
    "start_time": "2023-07-31T13:20:59.289Z"
   },
   {
    "duration": 111,
    "start_time": "2023-07-31T13:20:59.973Z"
   },
   {
    "duration": 32,
    "start_time": "2023-07-31T13:21:01.219Z"
   },
   {
    "duration": 81,
    "start_time": "2023-07-31T13:21:01.446Z"
   },
   {
    "duration": 5,
    "start_time": "2023-07-31T13:21:01.775Z"
   },
   {
    "duration": 36,
    "start_time": "2023-07-31T13:21:02.383Z"
   },
   {
    "duration": 29,
    "start_time": "2023-07-31T13:21:05.817Z"
   },
   {
    "duration": 60,
    "start_time": "2023-07-31T13:21:06.593Z"
   },
   {
    "duration": 10,
    "start_time": "2023-07-31T13:21:10.319Z"
   },
   {
    "duration": 1259,
    "start_time": "2023-07-31T13:21:11.971Z"
   },
   {
    "duration": 23,
    "start_time": "2023-07-31T13:21:15.671Z"
   },
   {
    "duration": 155,
    "start_time": "2023-07-31T13:21:18.213Z"
   },
   {
    "duration": 46,
    "start_time": "2023-07-31T13:21:51.215Z"
   },
   {
    "duration": 20,
    "start_time": "2023-07-31T13:22:07.657Z"
   },
   {
    "duration": 1438,
    "start_time": "2023-07-31T13:22:25.303Z"
   },
   {
    "duration": 1245,
    "start_time": "2023-07-31T13:22:33.411Z"
   },
   {
    "duration": 16,
    "start_time": "2023-07-31T13:23:07.072Z"
   },
   {
    "duration": 49,
    "start_time": "2023-07-31T13:23:08.160Z"
   },
   {
    "duration": 6,
    "start_time": "2023-07-31T13:23:12.294Z"
   },
   {
    "duration": 1305,
    "start_time": "2023-07-31T13:23:13.971Z"
   },
   {
    "duration": 1313,
    "start_time": "2023-07-31T13:23:35.154Z"
   },
   {
    "duration": 1316,
    "start_time": "2023-07-31T13:23:58.946Z"
   },
   {
    "duration": 14,
    "start_time": "2023-07-31T13:27:34.389Z"
   },
   {
    "duration": 20,
    "start_time": "2023-07-31T13:28:08.437Z"
   },
   {
    "duration": 180,
    "start_time": "2023-07-31T13:29:09.884Z"
   },
   {
    "duration": 11,
    "start_time": "2023-07-31T13:30:17.392Z"
   },
   {
    "duration": 17,
    "start_time": "2023-07-31T13:30:26.642Z"
   },
   {
    "duration": 690,
    "start_time": "2023-07-31T13:40:05.077Z"
   },
   {
    "duration": 998,
    "start_time": "2023-07-31T13:40:27.855Z"
   },
   {
    "duration": 3,
    "start_time": "2023-07-31T13:40:30.851Z"
   },
   {
    "duration": 19,
    "start_time": "2023-07-31T13:40:47.168Z"
   },
   {
    "duration": 45,
    "start_time": "2023-07-31T13:40:47.850Z"
   },
   {
    "duration": 5,
    "start_time": "2023-07-31T13:40:51.490Z"
   },
   {
    "duration": 1264,
    "start_time": "2023-07-31T13:40:53.250Z"
   },
   {
    "duration": 27,
    "start_time": "2023-07-31T13:40:54.841Z"
   },
   {
    "duration": 949,
    "start_time": "2023-07-31T13:40:56.475Z"
   },
   {
    "duration": 4,
    "start_time": "2023-07-31T13:40:58.182Z"
   },
   {
    "duration": 3,
    "start_time": "2023-07-31T13:40:59.710Z"
   },
   {
    "duration": 9,
    "start_time": "2023-07-31T13:41:02.939Z"
   },
   {
    "duration": 6023,
    "start_time": "2023-07-31T13:41:16.831Z"
   },
   {
    "duration": 342847,
    "start_time": "2023-07-31T13:42:01.480Z"
   },
   {
    "duration": 3,
    "start_time": "2023-07-31T13:48:34.179Z"
   },
   {
    "duration": 64,
    "start_time": "2023-07-31T13:48:49.101Z"
   },
   {
    "duration": 5054,
    "start_time": "2023-07-31T13:49:13.101Z"
   },
   {
    "duration": 126,
    "start_time": "2023-07-31T14:02:35.878Z"
   },
   {
    "duration": 737377,
    "start_time": "2023-07-31T14:03:09.975Z"
   },
   {
    "duration": 4,
    "start_time": "2023-07-31T14:15:27.354Z"
   },
   {
    "duration": 97995,
    "start_time": "2023-07-31T14:20:35.540Z"
   },
   {
    "duration": 39,
    "start_time": "2023-07-31T14:23:37.542Z"
   },
   {
    "duration": 141,
    "start_time": "2023-07-31T14:23:57.340Z"
   },
   {
    "duration": 95424,
    "start_time": "2023-07-31T14:24:02.847Z"
   },
   {
    "duration": 190,
    "start_time": "2023-07-31T14:25:38.274Z"
   },
   {
    "duration": 33412,
    "start_time": "2023-07-31T14:27:26.555Z"
   },
   {
    "duration": 526,
    "start_time": "2023-07-31T14:27:59.969Z"
   },
   {
    "duration": 507,
    "start_time": "2023-07-31T14:29:30.395Z"
   },
   {
    "duration": 13,
    "start_time": "2023-07-31T14:30:55.679Z"
   },
   {
    "duration": 27379,
    "start_time": "2023-07-31T14:31:23.435Z"
   },
   {
    "duration": 6372,
    "start_time": "2023-07-31T14:38:21.647Z"
   },
   {
    "duration": 54,
    "start_time": "2023-07-31T14:41:42.647Z"
   },
   {
    "duration": 610031,
    "start_time": "2023-07-31T14:44:08.071Z"
   },
   {
    "duration": 85693,
    "start_time": "2023-07-31T14:57:00.261Z"
   },
   {
    "duration": 278,
    "start_time": "2023-07-31T15:21:24.231Z"
   },
   {
    "duration": 108,
    "start_time": "2023-07-31T15:36:59.867Z"
   },
   {
    "duration": 107,
    "start_time": "2023-07-31T15:48:03.536Z"
   },
   {
    "duration": 2868,
    "start_time": "2023-07-31T16:04:55.871Z"
   },
   {
    "duration": 209,
    "start_time": "2023-07-31T16:06:17.962Z"
   },
   {
    "duration": 346,
    "start_time": "2023-07-31T16:15:58.099Z"
   },
   {
    "duration": 16,
    "start_time": "2023-07-31T16:23:59.785Z"
   },
   {
    "duration": 235941,
    "start_time": "2023-07-31T16:24:04.188Z"
   },
   {
    "duration": 184086,
    "start_time": "2023-07-31T16:30:00.043Z"
   },
   {
    "duration": 5,
    "start_time": "2023-07-31T16:34:11.332Z"
   },
   {
    "duration": 190820,
    "start_time": "2023-07-31T16:34:19.908Z"
   },
   {
    "duration": 16570,
    "start_time": "2023-07-31T16:37:55.751Z"
   },
   {
    "duration": 15,
    "start_time": "2023-07-31T16:38:23.561Z"
   },
   {
    "duration": 542,
    "start_time": "2023-07-31T16:40:36.226Z"
   },
   {
    "duration": 723488,
    "start_time": "2023-07-31T16:40:49.343Z"
   },
   {
    "duration": 0,
    "start_time": "2023-07-31T16:52:52.833Z"
   },
   {
    "duration": 0,
    "start_time": "2023-07-31T16:52:52.834Z"
   },
   {
    "duration": 1586,
    "start_time": "2023-07-31T17:04:03.132Z"
   },
   {
    "duration": 868,
    "start_time": "2023-07-31T17:04:04.720Z"
   },
   {
    "duration": 112,
    "start_time": "2023-07-31T17:04:05.590Z"
   },
   {
    "duration": 5,
    "start_time": "2023-07-31T17:04:05.704Z"
   },
   {
    "duration": 35,
    "start_time": "2023-07-31T17:04:05.710Z"
   },
   {
    "duration": 501,
    "start_time": "2023-07-31T17:04:05.747Z"
   },
   {
    "duration": 23,
    "start_time": "2023-07-31T17:04:06.249Z"
   },
   {
    "duration": 195,
    "start_time": "2023-07-31T17:04:06.273Z"
   },
   {
    "duration": 221,
    "start_time": "2023-07-31T17:04:06.470Z"
   },
   {
    "duration": 81,
    "start_time": "2023-07-31T17:04:06.694Z"
   },
   {
    "duration": 62,
    "start_time": "2023-07-31T17:04:06.776Z"
   },
   {
    "duration": 534,
    "start_time": "2023-07-31T17:04:06.840Z"
   },
   {
    "duration": 205,
    "start_time": "2023-07-31T17:04:07.375Z"
   },
   {
    "duration": 26,
    "start_time": "2023-07-31T17:04:07.581Z"
   },
   {
    "duration": 12,
    "start_time": "2023-07-31T17:04:07.609Z"
   },
   {
    "duration": 42,
    "start_time": "2023-07-31T17:04:07.623Z"
   },
   {
    "duration": 5,
    "start_time": "2023-07-31T17:04:07.667Z"
   },
   {
    "duration": 11,
    "start_time": "2023-07-31T17:04:07.674Z"
   },
   {
    "duration": 84,
    "start_time": "2023-07-31T17:04:07.686Z"
   },
   {
    "duration": 149,
    "start_time": "2023-07-31T17:04:07.771Z"
   },
   {
    "duration": 282,
    "start_time": "2023-07-31T17:04:07.922Z"
   },
   {
    "duration": 26,
    "start_time": "2023-07-31T17:04:08.205Z"
   },
   {
    "duration": 53,
    "start_time": "2023-07-31T17:04:08.232Z"
   },
   {
    "duration": 15,
    "start_time": "2023-07-31T17:04:08.286Z"
   },
   {
    "duration": 73,
    "start_time": "2023-07-31T17:04:08.302Z"
   },
   {
    "duration": 4,
    "start_time": "2023-07-31T17:04:08.376Z"
   },
   {
    "duration": 42,
    "start_time": "2023-07-31T17:04:08.381Z"
   },
   {
    "duration": 13,
    "start_time": "2023-07-31T17:04:08.428Z"
   },
   {
    "duration": 38,
    "start_time": "2023-07-31T17:04:08.443Z"
   },
   {
    "duration": 4,
    "start_time": "2023-07-31T17:04:08.483Z"
   },
   {
    "duration": 1203,
    "start_time": "2023-07-31T17:04:08.489Z"
   },
   {
    "duration": 28,
    "start_time": "2023-07-31T17:04:09.693Z"
   },
   {
    "duration": 1438,
    "start_time": "2023-07-31T17:04:09.725Z"
   },
   {
    "duration": 3,
    "start_time": "2023-07-31T17:04:11.165Z"
   },
   {
    "duration": 21,
    "start_time": "2023-07-31T17:04:11.169Z"
   },
   {
    "duration": 6,
    "start_time": "2023-07-31T17:04:11.192Z"
   },
   {
    "duration": 330288,
    "start_time": "2023-07-31T17:04:11.200Z"
   },
   {
    "duration": 5,
    "start_time": "2023-07-31T17:09:41.490Z"
   },
   {
    "duration": 4719,
    "start_time": "2023-07-31T17:09:41.496Z"
   },
   {
    "duration": 177,
    "start_time": "2023-07-31T17:09:46.216Z"
   },
   {
    "duration": 432742,
    "start_time": "2023-07-31T17:09:46.395Z"
   },
   {
    "duration": 4,
    "start_time": "2023-07-31T17:16:59.139Z"
   },
   {
    "duration": 41706,
    "start_time": "2023-07-31T17:16:59.222Z"
   },
   {
    "duration": 190,
    "start_time": "2023-07-31T17:17:40.929Z"
   },
   {
    "duration": 540985,
    "start_time": "2023-07-31T17:17:41.125Z"
   },
   {
    "duration": 80186,
    "start_time": "2023-07-31T17:26:42.112Z"
   },
   {
    "duration": 216,
    "start_time": "2023-07-31T17:28:02.300Z"
   },
   {
    "duration": 93,
    "start_time": "2023-07-31T17:28:02.517Z"
   },
   {
    "duration": 71,
    "start_time": "2023-07-31T17:28:02.612Z"
   },
   {
    "duration": 7931,
    "start_time": "2023-08-01T04:43:03.982Z"
   },
   {
    "duration": 105,
    "start_time": "2023-08-01T04:43:11.915Z"
   },
   {
    "duration": 113,
    "start_time": "2023-08-01T04:43:12.022Z"
   },
   {
    "duration": 0,
    "start_time": "2023-08-01T04:43:12.139Z"
   },
   {
    "duration": 0,
    "start_time": "2023-08-01T04:43:12.140Z"
   },
   {
    "duration": 0,
    "start_time": "2023-08-01T04:43:12.142Z"
   },
   {
    "duration": 0,
    "start_time": "2023-08-01T04:43:12.143Z"
   },
   {
    "duration": 0,
    "start_time": "2023-08-01T04:43:12.145Z"
   },
   {
    "duration": 0,
    "start_time": "2023-08-01T04:43:12.146Z"
   },
   {
    "duration": 0,
    "start_time": "2023-08-01T04:43:12.147Z"
   },
   {
    "duration": 0,
    "start_time": "2023-08-01T04:43:12.149Z"
   },
   {
    "duration": 0,
    "start_time": "2023-08-01T04:43:12.172Z"
   },
   {
    "duration": 0,
    "start_time": "2023-08-01T04:43:12.174Z"
   },
   {
    "duration": 0,
    "start_time": "2023-08-01T04:43:12.176Z"
   },
   {
    "duration": 0,
    "start_time": "2023-08-01T04:43:12.177Z"
   },
   {
    "duration": 0,
    "start_time": "2023-08-01T04:43:12.179Z"
   },
   {
    "duration": 0,
    "start_time": "2023-08-01T04:43:12.180Z"
   },
   {
    "duration": 0,
    "start_time": "2023-08-01T04:43:12.182Z"
   },
   {
    "duration": 0,
    "start_time": "2023-08-01T04:43:12.183Z"
   },
   {
    "duration": 0,
    "start_time": "2023-08-01T04:43:12.185Z"
   },
   {
    "duration": 0,
    "start_time": "2023-08-01T04:43:12.186Z"
   },
   {
    "duration": 0,
    "start_time": "2023-08-01T04:43:12.188Z"
   },
   {
    "duration": 0,
    "start_time": "2023-08-01T04:43:12.190Z"
   },
   {
    "duration": 0,
    "start_time": "2023-08-01T04:43:12.192Z"
   },
   {
    "duration": 1,
    "start_time": "2023-08-01T04:43:12.193Z"
   },
   {
    "duration": 0,
    "start_time": "2023-08-01T04:43:12.195Z"
   },
   {
    "duration": 0,
    "start_time": "2023-08-01T04:43:12.197Z"
   },
   {
    "duration": 0,
    "start_time": "2023-08-01T04:43:12.198Z"
   },
   {
    "duration": 0,
    "start_time": "2023-08-01T04:43:12.200Z"
   },
   {
    "duration": 0,
    "start_time": "2023-08-01T04:43:12.201Z"
   },
   {
    "duration": 0,
    "start_time": "2023-08-01T04:43:12.203Z"
   },
   {
    "duration": 1139,
    "start_time": "2023-08-01T04:44:25.011Z"
   },
   {
    "duration": 4,
    "start_time": "2023-08-01T04:44:40.347Z"
   },
   {
    "duration": 849,
    "start_time": "2023-08-01T04:44:40.353Z"
   },
   {
    "duration": 141,
    "start_time": "2023-08-01T04:44:41.204Z"
   },
   {
    "duration": 5,
    "start_time": "2023-08-01T04:44:41.347Z"
   },
   {
    "duration": 16,
    "start_time": "2023-08-01T04:44:41.370Z"
   },
   {
    "duration": 625,
    "start_time": "2023-08-01T04:44:41.388Z"
   },
   {
    "duration": 23,
    "start_time": "2023-08-01T04:44:42.015Z"
   },
   {
    "duration": 210,
    "start_time": "2023-08-01T04:44:42.039Z"
   },
   {
    "duration": 200,
    "start_time": "2023-08-01T04:44:42.251Z"
   },
   {
    "duration": 79,
    "start_time": "2023-08-01T04:44:42.453Z"
   },
   {
    "duration": 69,
    "start_time": "2023-08-01T04:44:42.534Z"
   },
   {
    "duration": 587,
    "start_time": "2023-08-01T04:44:42.605Z"
   },
   {
    "duration": 253,
    "start_time": "2023-08-01T04:44:43.195Z"
   },
   {
    "duration": 31,
    "start_time": "2023-08-01T04:44:43.449Z"
   },
   {
    "duration": 6,
    "start_time": "2023-08-01T04:44:43.482Z"
   },
   {
    "duration": 21,
    "start_time": "2023-08-01T04:44:43.489Z"
   },
   {
    "duration": 7,
    "start_time": "2023-08-01T04:44:43.511Z"
   },
   {
    "duration": 11,
    "start_time": "2023-08-01T04:44:43.519Z"
   },
   {
    "duration": 105,
    "start_time": "2023-08-01T04:44:43.532Z"
   },
   {
    "duration": 179,
    "start_time": "2023-08-01T04:44:43.638Z"
   },
   {
    "duration": 320,
    "start_time": "2023-08-01T04:44:43.819Z"
   },
   {
    "duration": 19,
    "start_time": "2023-08-01T04:44:44.140Z"
   },
   {
    "duration": 70,
    "start_time": "2023-08-01T04:44:44.161Z"
   },
   {
    "duration": 38,
    "start_time": "2023-08-01T04:44:44.233Z"
   },
   {
    "duration": 72,
    "start_time": "2023-08-01T04:44:44.273Z"
   },
   {
    "duration": 4,
    "start_time": "2023-08-01T04:44:44.347Z"
   },
   {
    "duration": 45,
    "start_time": "2023-08-01T04:44:44.353Z"
   },
   {
    "duration": 13,
    "start_time": "2023-08-01T04:44:44.400Z"
   },
   {
    "duration": 69,
    "start_time": "2023-08-01T04:44:44.414Z"
   },
   {
    "duration": 6,
    "start_time": "2023-08-01T04:44:44.484Z"
   },
   {
    "duration": 1309,
    "start_time": "2023-08-01T04:44:44.492Z"
   },
   {
    "duration": 4,
    "start_time": "2023-08-01T04:45:08.537Z"
   },
   {
    "duration": 4,
    "start_time": "2023-08-01T05:08:09.513Z"
   },
   {
    "duration": 843,
    "start_time": "2023-08-01T05:08:09.519Z"
   },
   {
    "duration": 135,
    "start_time": "2023-08-01T05:08:10.364Z"
   },
   {
    "duration": 10,
    "start_time": "2023-08-01T05:08:10.501Z"
   },
   {
    "duration": 22,
    "start_time": "2023-08-01T05:08:10.514Z"
   },
   {
    "duration": 659,
    "start_time": "2023-08-01T05:08:10.538Z"
   },
   {
    "duration": 23,
    "start_time": "2023-08-01T05:08:11.199Z"
   },
   {
    "duration": 196,
    "start_time": "2023-08-01T05:08:11.223Z"
   },
   {
    "duration": 214,
    "start_time": "2023-08-01T05:08:11.421Z"
   },
   {
    "duration": 87,
    "start_time": "2023-08-01T05:08:11.637Z"
   },
   {
    "duration": 63,
    "start_time": "2023-08-01T05:08:11.726Z"
   },
   {
    "duration": 583,
    "start_time": "2023-08-01T05:08:11.791Z"
   },
   {
    "duration": 180,
    "start_time": "2023-08-01T05:08:12.375Z"
   },
   {
    "duration": 35,
    "start_time": "2023-08-01T05:08:12.558Z"
   },
   {
    "duration": 7,
    "start_time": "2023-08-01T05:08:12.595Z"
   },
   {
    "duration": 60,
    "start_time": "2023-08-01T05:08:12.604Z"
   },
   {
    "duration": 7,
    "start_time": "2023-08-01T05:08:12.666Z"
   },
   {
    "duration": 14,
    "start_time": "2023-08-01T05:08:12.678Z"
   },
   {
    "duration": 101,
    "start_time": "2023-08-01T05:08:12.694Z"
   },
   {
    "duration": 229,
    "start_time": "2023-08-01T05:08:12.797Z"
   },
   {
    "duration": 329,
    "start_time": "2023-08-01T05:08:13.028Z"
   },
   {
    "duration": 25,
    "start_time": "2023-08-01T05:08:13.359Z"
   },
   {
    "duration": 94,
    "start_time": "2023-08-01T05:08:13.387Z"
   },
   {
    "duration": 20,
    "start_time": "2023-08-01T05:08:13.483Z"
   },
   {
    "duration": 85,
    "start_time": "2023-08-01T05:08:13.505Z"
   },
   {
    "duration": 4,
    "start_time": "2023-08-01T05:08:13.592Z"
   },
   {
    "duration": 30,
    "start_time": "2023-08-01T05:08:13.597Z"
   },
   {
    "duration": 15,
    "start_time": "2023-08-01T05:08:13.629Z"
   },
   {
    "duration": 79,
    "start_time": "2023-08-01T05:08:13.646Z"
   },
   {
    "duration": 5,
    "start_time": "2023-08-01T05:08:13.727Z"
   },
   {
    "duration": 1359,
    "start_time": "2023-08-01T05:08:13.734Z"
   },
   {
    "duration": 3315,
    "start_time": "2023-08-01T05:08:24.574Z"
   },
   {
    "duration": 128,
    "start_time": "2023-08-01T05:08:27.892Z"
   },
   {
    "duration": 0,
    "start_time": "2023-08-01T05:08:28.024Z"
   },
   {
    "duration": 0,
    "start_time": "2023-08-01T05:08:28.026Z"
   },
   {
    "duration": 0,
    "start_time": "2023-08-01T05:08:28.027Z"
   },
   {
    "duration": 0,
    "start_time": "2023-08-01T05:08:28.029Z"
   },
   {
    "duration": 0,
    "start_time": "2023-08-01T05:08:28.030Z"
   },
   {
    "duration": 0,
    "start_time": "2023-08-01T05:08:28.031Z"
   },
   {
    "duration": 0,
    "start_time": "2023-08-01T05:08:28.033Z"
   },
   {
    "duration": 0,
    "start_time": "2023-08-01T05:08:28.034Z"
   },
   {
    "duration": 0,
    "start_time": "2023-08-01T05:08:28.036Z"
   },
   {
    "duration": 0,
    "start_time": "2023-08-01T05:08:28.038Z"
   },
   {
    "duration": 0,
    "start_time": "2023-08-01T05:08:28.039Z"
   },
   {
    "duration": 0,
    "start_time": "2023-08-01T05:08:28.040Z"
   },
   {
    "duration": 0,
    "start_time": "2023-08-01T05:08:28.071Z"
   },
   {
    "duration": 0,
    "start_time": "2023-08-01T05:08:28.073Z"
   },
   {
    "duration": 0,
    "start_time": "2023-08-01T05:08:28.075Z"
   },
   {
    "duration": 0,
    "start_time": "2023-08-01T05:08:28.076Z"
   },
   {
    "duration": 0,
    "start_time": "2023-08-01T05:08:28.077Z"
   },
   {
    "duration": 0,
    "start_time": "2023-08-01T05:08:28.078Z"
   },
   {
    "duration": 0,
    "start_time": "2023-08-01T05:08:28.079Z"
   },
   {
    "duration": 0,
    "start_time": "2023-08-01T05:08:28.080Z"
   },
   {
    "duration": 0,
    "start_time": "2023-08-01T05:08:28.081Z"
   },
   {
    "duration": 0,
    "start_time": "2023-08-01T05:08:28.083Z"
   },
   {
    "duration": 0,
    "start_time": "2023-08-01T05:08:28.084Z"
   },
   {
    "duration": 0,
    "start_time": "2023-08-01T05:08:28.085Z"
   },
   {
    "duration": 0,
    "start_time": "2023-08-01T05:08:28.086Z"
   },
   {
    "duration": 0,
    "start_time": "2023-08-01T05:08:28.087Z"
   },
   {
    "duration": 0,
    "start_time": "2023-08-01T05:08:28.088Z"
   },
   {
    "duration": 0,
    "start_time": "2023-08-01T05:08:28.089Z"
   },
   {
    "duration": 0,
    "start_time": "2023-08-01T05:08:28.090Z"
   },
   {
    "duration": 0,
    "start_time": "2023-08-01T05:08:28.092Z"
   },
   {
    "duration": 0,
    "start_time": "2023-08-01T05:08:28.093Z"
   },
   {
    "duration": 0,
    "start_time": "2023-08-01T05:08:28.094Z"
   },
   {
    "duration": 0,
    "start_time": "2023-08-01T05:08:28.095Z"
   },
   {
    "duration": 0,
    "start_time": "2023-08-01T05:08:28.096Z"
   },
   {
    "duration": 0,
    "start_time": "2023-08-01T05:08:28.097Z"
   },
   {
    "duration": 0,
    "start_time": "2023-08-01T05:08:28.098Z"
   },
   {
    "duration": 0,
    "start_time": "2023-08-01T05:08:28.099Z"
   },
   {
    "duration": 0,
    "start_time": "2023-08-01T05:08:28.101Z"
   },
   {
    "duration": 0,
    "start_time": "2023-08-01T05:08:28.102Z"
   },
   {
    "duration": 0,
    "start_time": "2023-08-01T05:08:28.103Z"
   },
   {
    "duration": 0,
    "start_time": "2023-08-01T05:08:28.104Z"
   },
   {
    "duration": 0,
    "start_time": "2023-08-01T05:08:28.105Z"
   },
   {
    "duration": 0,
    "start_time": "2023-08-01T05:08:28.107Z"
   },
   {
    "duration": 0,
    "start_time": "2023-08-01T05:08:28.108Z"
   },
   {
    "duration": 0,
    "start_time": "2023-08-01T05:08:28.173Z"
   },
   {
    "duration": 0,
    "start_time": "2023-08-01T05:08:28.175Z"
   },
   {
    "duration": 0,
    "start_time": "2023-08-01T05:08:28.179Z"
   },
   {
    "duration": 0,
    "start_time": "2023-08-01T05:08:28.181Z"
   },
   {
    "duration": 0,
    "start_time": "2023-08-01T05:08:28.182Z"
   },
   {
    "duration": 0,
    "start_time": "2023-08-01T05:08:28.183Z"
   },
   {
    "duration": 0,
    "start_time": "2023-08-01T05:08:28.185Z"
   },
   {
    "duration": 0,
    "start_time": "2023-08-01T05:08:28.187Z"
   },
   {
    "duration": 3922,
    "start_time": "2023-08-01T05:08:48.630Z"
   },
   {
    "duration": 1385,
    "start_time": "2023-08-01T05:08:52.554Z"
   },
   {
    "duration": 152,
    "start_time": "2023-08-01T05:08:53.940Z"
   },
   {
    "duration": 5,
    "start_time": "2023-08-01T05:08:54.095Z"
   },
   {
    "duration": 20,
    "start_time": "2023-08-01T05:08:54.102Z"
   },
   {
    "duration": 726,
    "start_time": "2023-08-01T05:08:54.123Z"
   },
   {
    "duration": 32,
    "start_time": "2023-08-01T05:08:54.851Z"
   },
   {
    "duration": 218,
    "start_time": "2023-08-01T05:08:54.884Z"
   },
   {
    "duration": 264,
    "start_time": "2023-08-01T05:08:55.106Z"
   },
   {
    "duration": 80,
    "start_time": "2023-08-01T05:08:55.373Z"
   },
   {
    "duration": 67,
    "start_time": "2023-08-01T05:08:55.456Z"
   },
   {
    "duration": 610,
    "start_time": "2023-08-01T05:08:55.526Z"
   },
   {
    "duration": 325,
    "start_time": "2023-08-01T05:08:56.137Z"
   },
   {
    "duration": 38,
    "start_time": "2023-08-01T05:08:56.464Z"
   },
   {
    "duration": 28,
    "start_time": "2023-08-01T05:08:56.505Z"
   },
   {
    "duration": 56,
    "start_time": "2023-08-01T05:08:56.535Z"
   },
   {
    "duration": 8,
    "start_time": "2023-08-01T05:08:56.593Z"
   },
   {
    "duration": 22,
    "start_time": "2023-08-01T05:08:56.603Z"
   },
   {
    "duration": 102,
    "start_time": "2023-08-01T05:08:56.628Z"
   },
   {
    "duration": 192,
    "start_time": "2023-08-01T05:08:56.731Z"
   },
   {
    "duration": 321,
    "start_time": "2023-08-01T05:08:56.925Z"
   },
   {
    "duration": 29,
    "start_time": "2023-08-01T05:08:57.247Z"
   },
   {
    "duration": 64,
    "start_time": "2023-08-01T05:08:57.278Z"
   },
   {
    "duration": 33,
    "start_time": "2023-08-01T05:08:57.344Z"
   },
   {
    "duration": 72,
    "start_time": "2023-08-01T05:08:57.379Z"
   },
   {
    "duration": 22,
    "start_time": "2023-08-01T05:08:57.452Z"
   },
   {
    "duration": 37,
    "start_time": "2023-08-01T05:08:57.476Z"
   },
   {
    "duration": 13,
    "start_time": "2023-08-01T05:08:57.516Z"
   },
   {
    "duration": 88,
    "start_time": "2023-08-01T05:08:57.530Z"
   },
   {
    "duration": 6,
    "start_time": "2023-08-01T05:08:57.621Z"
   },
   {
    "duration": 1369,
    "start_time": "2023-08-01T05:08:57.629Z"
   },
   {
    "duration": 25,
    "start_time": "2023-08-01T05:08:59.000Z"
   },
   {
    "duration": 2875,
    "start_time": "2023-08-01T05:08:59.028Z"
   },
   {
    "duration": 3,
    "start_time": "2023-08-01T05:09:01.905Z"
   },
   {
    "duration": 51,
    "start_time": "2023-08-01T05:09:01.911Z"
   },
   {
    "duration": 39,
    "start_time": "2023-08-01T05:09:01.964Z"
   },
   {
    "duration": 251674,
    "start_time": "2023-08-01T05:09:02.005Z"
   },
   {
    "duration": 16,
    "start_time": "2023-08-01T05:13:13.681Z"
   },
   {
    "duration": 0,
    "start_time": "2023-08-01T05:13:13.699Z"
   },
   {
    "duration": 0,
    "start_time": "2023-08-01T05:13:13.700Z"
   },
   {
    "duration": 0,
    "start_time": "2023-08-01T05:13:13.701Z"
   },
   {
    "duration": 0,
    "start_time": "2023-08-01T05:13:13.702Z"
   },
   {
    "duration": 0,
    "start_time": "2023-08-01T05:13:13.703Z"
   },
   {
    "duration": 0,
    "start_time": "2023-08-01T05:13:13.705Z"
   },
   {
    "duration": 0,
    "start_time": "2023-08-01T05:13:13.707Z"
   },
   {
    "duration": 0,
    "start_time": "2023-08-01T05:13:13.708Z"
   },
   {
    "duration": 0,
    "start_time": "2023-08-01T05:13:13.709Z"
   },
   {
    "duration": 0,
    "start_time": "2023-08-01T05:13:13.710Z"
   },
   {
    "duration": 0,
    "start_time": "2023-08-01T05:13:13.711Z"
   },
   {
    "duration": 0,
    "start_time": "2023-08-01T05:13:13.712Z"
   },
   {
    "duration": 0,
    "start_time": "2023-08-01T05:13:13.714Z"
   },
   {
    "duration": 0,
    "start_time": "2023-08-01T05:13:13.715Z"
   },
   {
    "duration": 0,
    "start_time": "2023-08-01T05:13:13.716Z"
   },
   {
    "duration": 0,
    "start_time": "2023-08-01T05:13:13.717Z"
   },
   {
    "duration": 1793,
    "start_time": "2023-08-01T06:25:55.598Z"
   },
   {
    "duration": 1495,
    "start_time": "2023-08-01T06:25:59.222Z"
   },
   {
    "duration": 156,
    "start_time": "2023-08-01T06:26:01.105Z"
   },
   {
    "duration": 5,
    "start_time": "2023-08-01T06:26:02.052Z"
   },
   {
    "duration": 15,
    "start_time": "2023-08-01T06:26:03.068Z"
   },
   {
    "duration": 682,
    "start_time": "2023-08-01T06:26:03.252Z"
   },
   {
    "duration": 26,
    "start_time": "2023-08-01T06:26:03.935Z"
   },
   {
    "duration": 197,
    "start_time": "2023-08-01T06:26:04.046Z"
   },
   {
    "duration": 221,
    "start_time": "2023-08-01T06:26:04.358Z"
   },
   {
    "duration": 88,
    "start_time": "2023-08-01T06:26:04.586Z"
   },
   {
    "duration": 75,
    "start_time": "2023-08-01T06:26:04.676Z"
   },
   {
    "duration": 653,
    "start_time": "2023-08-01T06:26:04.816Z"
   },
   {
    "duration": 196,
    "start_time": "2023-08-01T06:26:05.471Z"
   },
   {
    "duration": 39,
    "start_time": "2023-08-01T06:26:05.669Z"
   },
   {
    "duration": 7,
    "start_time": "2023-08-01T06:26:07.047Z"
   },
   {
    "duration": 31,
    "start_time": "2023-08-01T06:26:07.360Z"
   },
   {
    "duration": 6,
    "start_time": "2023-08-01T06:26:08.024Z"
   },
   {
    "duration": 7,
    "start_time": "2023-08-01T06:26:08.186Z"
   },
   {
    "duration": 78,
    "start_time": "2023-08-01T06:26:08.532Z"
   },
   {
    "duration": 254,
    "start_time": "2023-08-01T06:26:08.707Z"
   },
   {
    "duration": 343,
    "start_time": "2023-08-01T06:26:08.964Z"
   },
   {
    "duration": 19,
    "start_time": "2023-08-01T06:26:09.309Z"
   },
   {
    "duration": 64,
    "start_time": "2023-08-01T06:26:09.556Z"
   },
   {
    "duration": 21,
    "start_time": "2023-08-01T06:26:11.038Z"
   },
   {
    "duration": 73,
    "start_time": "2023-08-01T06:26:11.267Z"
   },
   {
    "duration": 4,
    "start_time": "2023-08-01T06:26:12.484Z"
   },
   {
    "duration": 28,
    "start_time": "2023-08-01T06:26:16.745Z"
   },
   {
    "duration": 13,
    "start_time": "2023-08-01T06:33:52.604Z"
   },
   {
    "duration": 94,
    "start_time": "2023-08-01T06:33:54.874Z"
   },
   {
    "duration": 5,
    "start_time": "2023-08-01T06:34:22.179Z"
   },
   {
    "duration": 23,
    "start_time": "2023-08-01T06:34:57.566Z"
   },
   {
    "duration": 23,
    "start_time": "2023-08-01T06:35:11.928Z"
   },
   {
    "duration": 22,
    "start_time": "2023-08-01T06:35:53.718Z"
   },
   {
    "duration": 348,
    "start_time": "2023-08-01T06:39:09.972Z"
   },
   {
    "duration": 112,
    "start_time": "2023-08-01T06:46:31.451Z"
   },
   {
    "duration": 11,
    "start_time": "2023-08-01T06:52:55.479Z"
   },
   {
    "duration": 3290,
    "start_time": "2023-08-01T06:53:44.737Z"
   },
   {
    "duration": 200,
    "start_time": "2023-08-01T06:54:03.843Z"
   },
   {
    "duration": 2230,
    "start_time": "2023-08-01T06:54:31.604Z"
   },
   {
    "duration": 62,
    "start_time": "2023-08-01T06:58:55.658Z"
   },
   {
    "duration": 5,
    "start_time": "2023-08-01T06:59:31.361Z"
   },
   {
    "duration": 496,
    "start_time": "2023-08-01T07:04:59.040Z"
   },
   {
    "duration": 371,
    "start_time": "2023-08-01T07:05:10.109Z"
   },
   {
    "duration": 480,
    "start_time": "2023-08-01T07:06:45.006Z"
   },
   {
    "duration": 3,
    "start_time": "2023-08-01T07:10:27.374Z"
   },
   {
    "duration": 491,
    "start_time": "2023-08-01T07:10:28.603Z"
   },
   {
    "duration": 351,
    "start_time": "2023-08-01T07:10:30.754Z"
   },
   {
    "duration": 25,
    "start_time": "2023-08-01T07:12:02.236Z"
   },
   {
    "duration": 174,
    "start_time": "2023-08-01T07:14:10.143Z"
   },
   {
    "duration": 3,
    "start_time": "2023-08-01T07:14:13.273Z"
   },
   {
    "duration": 3,
    "start_time": "2023-08-01T07:14:18.953Z"
   },
   {
    "duration": 5,
    "start_time": "2023-08-01T07:14:19.823Z"
   },
   {
    "duration": 117,
    "start_time": "2023-08-01T07:14:34.106Z"
   },
   {
    "duration": 180,
    "start_time": "2023-08-01T07:15:25.541Z"
   },
   {
    "duration": 15,
    "start_time": "2023-08-01T07:19:01.533Z"
   },
   {
    "duration": 54,
    "start_time": "2023-08-01T07:19:03.209Z"
   },
   {
    "duration": 6,
    "start_time": "2023-08-01T07:19:24.657Z"
   },
   {
    "duration": 23,
    "start_time": "2023-08-01T07:19:32.871Z"
   },
   {
    "duration": 22,
    "start_time": "2023-08-01T07:19:33.832Z"
   },
   {
    "duration": 497,
    "start_time": "2023-08-01T07:23:29.777Z"
   },
   {
    "duration": 376,
    "start_time": "2023-08-01T07:23:34.433Z"
   },
   {
    "duration": 22,
    "start_time": "2023-08-01T07:23:47.727Z"
   },
   {
    "duration": 193,
    "start_time": "2023-08-01T07:24:14.302Z"
   },
   {
    "duration": 164,
    "start_time": "2023-08-01T07:24:20.838Z"
   },
   {
    "duration": 15,
    "start_time": "2023-08-01T07:26:21.424Z"
   },
   {
    "duration": 55,
    "start_time": "2023-08-01T07:26:22.349Z"
   },
   {
    "duration": 6,
    "start_time": "2023-08-01T07:26:28.141Z"
   },
   {
    "duration": 24,
    "start_time": "2023-08-01T07:26:36.136Z"
   },
   {
    "duration": 23,
    "start_time": "2023-08-01T07:26:37.077Z"
   },
   {
    "duration": 515,
    "start_time": "2023-08-01T07:26:59.770Z"
   },
   {
    "duration": 327,
    "start_time": "2023-08-01T07:27:26.674Z"
   },
   {
    "duration": 501,
    "start_time": "2023-08-01T07:27:38.307Z"
   },
   {
    "duration": 23,
    "start_time": "2023-08-01T07:28:08.585Z"
   },
   {
    "duration": 173,
    "start_time": "2023-08-01T07:28:22.689Z"
   },
   {
    "duration": 217,
    "start_time": "2023-08-01T07:28:34.658Z"
   },
   {
    "duration": 143,
    "start_time": "2023-08-01T07:30:02.554Z"
   },
   {
    "duration": 127,
    "start_time": "2023-08-01T07:30:23.477Z"
   },
   {
    "duration": 156,
    "start_time": "2023-08-01T07:31:57.244Z"
   },
   {
    "duration": 238,
    "start_time": "2023-08-01T07:32:45.577Z"
   },
   {
    "duration": 243,
    "start_time": "2023-08-01T07:33:11.057Z"
   },
   {
    "duration": 157,
    "start_time": "2023-08-01T07:33:24.936Z"
   },
   {
    "duration": 500,
    "start_time": "2023-08-01T07:35:02.545Z"
   },
   {
    "duration": 485,
    "start_time": "2023-08-01T07:35:31.605Z"
   },
   {
    "duration": 65,
    "start_time": "2023-08-01T07:36:16.660Z"
   },
   {
    "duration": 53,
    "start_time": "2023-08-01T07:36:31.097Z"
   },
   {
    "duration": 493,
    "start_time": "2023-08-01T07:36:49.505Z"
   },
   {
    "duration": 14,
    "start_time": "2023-08-01T07:37:27.160Z"
   },
   {
    "duration": 52,
    "start_time": "2023-08-01T07:37:28.302Z"
   },
   {
    "duration": 5,
    "start_time": "2023-08-01T07:37:36.847Z"
   },
   {
    "duration": 22,
    "start_time": "2023-08-01T07:37:39.242Z"
   },
   {
    "duration": 23,
    "start_time": "2023-08-01T07:37:40.148Z"
   },
   {
    "duration": 504,
    "start_time": "2023-08-01T07:37:41.382Z"
   },
   {
    "duration": 307,
    "start_time": "2023-08-01T07:38:06.948Z"
   },
   {
    "duration": 506,
    "start_time": "2023-08-01T07:41:32.704Z"
   },
   {
    "duration": 508,
    "start_time": "2023-08-01T07:41:44.957Z"
   },
   {
    "duration": 127,
    "start_time": "2023-08-01T07:42:31.172Z"
   },
   {
    "duration": 41,
    "start_time": "2023-08-01T07:42:39.808Z"
   },
   {
    "duration": 78,
    "start_time": "2023-08-01T07:42:55.987Z"
   },
   {
    "duration": 51,
    "start_time": "2023-08-01T07:43:35.884Z"
   },
   {
    "duration": 62,
    "start_time": "2023-08-01T07:44:27.254Z"
   },
   {
    "duration": 62,
    "start_time": "2023-08-01T07:44:33.379Z"
   },
   {
    "duration": 61,
    "start_time": "2023-08-01T07:44:44.508Z"
   },
   {
    "duration": 65,
    "start_time": "2023-08-01T07:45:01.688Z"
   },
   {
    "duration": 3,
    "start_time": "2023-08-01T07:45:06.345Z"
   },
   {
    "duration": 2,
    "start_time": "2023-08-01T07:45:07.971Z"
   },
   {
    "duration": 5,
    "start_time": "2023-08-01T07:45:08.743Z"
   },
   {
    "duration": 3385,
    "start_time": "2023-08-01T07:45:14.500Z"
   },
   {
    "duration": 741,
    "start_time": "2023-08-01T07:47:39.651Z"
   },
   {
    "duration": 90,
    "start_time": "2023-08-01T07:49:02.249Z"
   },
   {
    "duration": 86,
    "start_time": "2023-08-01T07:50:15.906Z"
   },
   {
    "duration": 498,
    "start_time": "2023-08-01T07:56:58.557Z"
   },
   {
    "duration": 494,
    "start_time": "2023-08-01T07:57:09.668Z"
   },
   {
    "duration": 554,
    "start_time": "2023-08-01T07:57:34.402Z"
   },
   {
    "duration": 525,
    "start_time": "2023-08-01T08:01:03.159Z"
   },
   {
    "duration": 485,
    "start_time": "2023-08-01T08:01:15.699Z"
   },
   {
    "duration": 496,
    "start_time": "2023-08-01T08:01:26.230Z"
   },
   {
    "duration": 12,
    "start_time": "2023-08-01T08:04:16.872Z"
   },
   {
    "duration": 25,
    "start_time": "2023-08-01T08:04:40.763Z"
   },
   {
    "duration": 19,
    "start_time": "2023-08-01T08:04:44.358Z"
   },
   {
    "duration": 30,
    "start_time": "2023-08-01T08:05:43.257Z"
   },
   {
    "duration": 30,
    "start_time": "2023-08-01T08:06:01.985Z"
   },
   {
    "duration": 32,
    "start_time": "2023-08-01T08:06:09.775Z"
   },
   {
    "duration": 36,
    "start_time": "2023-08-01T08:06:24.860Z"
   },
   {
    "duration": 28,
    "start_time": "2023-08-01T08:07:39.940Z"
   },
   {
    "duration": 544,
    "start_time": "2023-08-01T08:08:24.772Z"
   },
   {
    "duration": 511,
    "start_time": "2023-08-01T08:08:59.683Z"
   },
   {
    "duration": 519,
    "start_time": "2023-08-01T08:09:05.693Z"
   },
   {
    "duration": 259,
    "start_time": "2023-08-01T08:09:50.304Z"
   },
   {
    "duration": 369,
    "start_time": "2023-08-01T08:11:21.262Z"
   },
   {
    "duration": 383,
    "start_time": "2023-08-01T08:11:43.101Z"
   },
   {
    "duration": 35,
    "start_time": "2023-08-01T08:13:21.169Z"
   },
   {
    "duration": 38,
    "start_time": "2023-08-01T08:13:43.056Z"
   },
   {
    "duration": 45,
    "start_time": "2023-08-01T08:13:57.172Z"
   },
   {
    "duration": 48,
    "start_time": "2023-08-01T08:14:09.714Z"
   },
   {
    "duration": 64,
    "start_time": "2023-08-01T08:15:39.538Z"
   },
   {
    "duration": 77,
    "start_time": "2023-08-01T08:15:49.942Z"
   },
   {
    "duration": 108,
    "start_time": "2023-08-01T08:15:54.780Z"
   },
   {
    "duration": 128,
    "start_time": "2023-08-01T08:16:03.329Z"
   },
   {
    "duration": 3,
    "start_time": "2023-08-01T08:16:18.542Z"
   },
   {
    "duration": 2,
    "start_time": "2023-08-01T08:16:20.188Z"
   },
   {
    "duration": 4,
    "start_time": "2023-08-01T08:16:21.010Z"
   },
   {
    "duration": 60103,
    "start_time": "2023-08-01T08:16:28.104Z"
   },
   {
    "duration": 4,
    "start_time": "2023-08-01T08:17:28.210Z"
   },
   {
    "duration": 876,
    "start_time": "2023-08-01T08:17:28.215Z"
   },
   {
    "duration": 26,
    "start_time": "2023-08-01T08:17:29.094Z"
   },
   {
    "duration": 5552,
    "start_time": "2023-08-01T08:17:47.447Z"
   },
   {
    "duration": 5,
    "start_time": "2023-08-01T08:17:53.001Z"
   },
   {
    "duration": 399,
    "start_time": "2023-08-01T08:17:53.088Z"
   },
   {
    "duration": 8,
    "start_time": "2023-08-01T08:17:54.142Z"
   },
   {
    "duration": 16,
    "start_time": "2023-08-01T08:18:38.742Z"
   },
   {
    "duration": 16,
    "start_time": "2023-08-01T08:18:45.346Z"
   },
   {
    "duration": 41,
    "start_time": "2023-08-01T08:19:16.507Z"
   },
   {
    "duration": 17,
    "start_time": "2023-08-01T08:19:32.542Z"
   },
   {
    "duration": 389400,
    "start_time": "2023-08-01T08:19:42.559Z"
   },
   {
    "duration": 56746,
    "start_time": "2023-08-01T08:26:11.961Z"
   },
   {
    "duration": 112,
    "start_time": "2023-08-01T08:27:08.709Z"
   },
   {
    "duration": 19,
    "start_time": "2023-08-01T08:29:36.529Z"
   },
   {
    "duration": 4487,
    "start_time": "2023-08-01T08:30:29.618Z"
   },
   {
    "duration": 70,
    "start_time": "2023-08-01T08:33:23.789Z"
   },
   {
    "duration": 28,
    "start_time": "2023-08-01T08:33:27.237Z"
   },
   {
    "duration": 4280,
    "start_time": "2023-08-01T08:33:29.146Z"
   },
   {
    "duration": 379404,
    "start_time": "2023-08-01T08:33:55.686Z"
   },
   {
    "duration": 18982,
    "start_time": "2023-08-01T08:40:25.212Z"
   },
   {
    "duration": 19114,
    "start_time": "2023-08-01T08:41:22.980Z"
   },
   {
    "duration": 1291,
    "start_time": "2023-08-01T08:41:42.096Z"
   },
   {
    "duration": 11,
    "start_time": "2023-08-01T08:41:44.458Z"
   },
   {
    "duration": 1240,
    "start_time": "2023-08-01T08:41:53.458Z"
   },
   {
    "duration": 14,
    "start_time": "2023-08-01T08:45:17.946Z"
   },
   {
    "duration": 54,
    "start_time": "2023-08-01T08:45:19.153Z"
   },
   {
    "duration": 558,
    "start_time": "2023-08-01T08:46:04.715Z"
   },
   {
    "duration": 520,
    "start_time": "2023-08-01T08:46:38.832Z"
   },
   {
    "duration": 61,
    "start_time": "2023-08-01T08:47:23.655Z"
   },
   {
    "duration": 29,
    "start_time": "2023-08-01T08:47:24.633Z"
   },
   {
    "duration": 266696,
    "start_time": "2023-08-01T08:47:25.892Z"
   },
   {
    "duration": 17282,
    "start_time": "2023-08-01T08:52:35.322Z"
   },
   {
    "duration": 1272,
    "start_time": "2023-08-01T08:53:42.227Z"
   },
   {
    "duration": 11,
    "start_time": "2023-08-01T08:53:43.677Z"
   },
   {
    "duration": 1302,
    "start_time": "2023-08-01T08:53:45.190Z"
   },
   {
    "duration": 13,
    "start_time": "2023-08-01T08:54:42.718Z"
   },
   {
    "duration": 287,
    "start_time": "2023-08-01T09:08:49.046Z"
   },
   {
    "duration": 6,
    "start_time": "2023-08-01T09:09:16.502Z"
   },
   {
    "duration": 15,
    "start_time": "2023-08-01T09:09:36.655Z"
   },
   {
    "duration": 54,
    "start_time": "2023-08-01T09:09:37.384Z"
   },
   {
    "duration": 5,
    "start_time": "2023-08-01T09:09:43.499Z"
   },
   {
    "duration": 36,
    "start_time": "2023-08-01T09:09:45.664Z"
   },
   {
    "duration": 45,
    "start_time": "2023-08-01T09:09:46.454Z"
   },
   {
    "duration": 564,
    "start_time": "2023-08-01T09:09:49.186Z"
   },
   {
    "duration": 435,
    "start_time": "2023-08-01T09:09:52.886Z"
   },
   {
    "duration": 46,
    "start_time": "2023-08-01T09:10:02.027Z"
   },
   {
    "duration": 147,
    "start_time": "2023-08-01T09:10:14.367Z"
   },
   {
    "duration": 3,
    "start_time": "2023-08-01T09:10:24.700Z"
   },
   {
    "duration": 6,
    "start_time": "2023-08-01T09:10:26.985Z"
   },
   {
    "duration": 5,
    "start_time": "2023-08-01T09:10:28.147Z"
   },
   {
    "duration": 532,
    "start_time": "2023-08-01T09:10:37.311Z"
   },
   {
    "duration": 538997,
    "start_time": "2023-08-01T09:10:43.098Z"
   },
   {
    "duration": 18896,
    "start_time": "2023-08-01T09:19:42.097Z"
   },
   {
    "duration": 1297,
    "start_time": "2023-08-01T09:20:00.995Z"
   },
   {
    "duration": 13,
    "start_time": "2023-08-01T09:20:02.294Z"
   },
   {
    "duration": 1291,
    "start_time": "2023-08-01T09:20:02.309Z"
   },
   {
    "duration": 2578,
    "start_time": "2023-08-01T09:25:18.219Z"
   },
   {
    "duration": 1584,
    "start_time": "2023-08-01T09:25:20.800Z"
   },
   {
    "duration": 905,
    "start_time": "2023-08-01T09:25:22.385Z"
   },
   {
    "duration": 146,
    "start_time": "2023-08-01T09:25:23.292Z"
   },
   {
    "duration": 7,
    "start_time": "2023-08-01T09:25:23.439Z"
   },
   {
    "duration": 15,
    "start_time": "2023-08-01T09:25:23.447Z"
   },
   {
    "duration": 1026,
    "start_time": "2023-08-01T09:25:23.464Z"
   },
   {
    "duration": 28,
    "start_time": "2023-08-01T09:25:24.491Z"
   },
   {
    "duration": 500,
    "start_time": "2023-08-01T09:25:24.521Z"
   },
   {
    "duration": 575,
    "start_time": "2023-08-01T09:25:25.024Z"
   },
   {
    "duration": 130,
    "start_time": "2023-08-01T09:25:25.601Z"
   },
   {
    "duration": 61,
    "start_time": "2023-08-01T09:25:25.786Z"
   },
   {
    "duration": 694,
    "start_time": "2023-08-01T09:25:25.849Z"
   },
   {
    "duration": 178,
    "start_time": "2023-08-01T09:25:26.545Z"
   },
   {
    "duration": 31,
    "start_time": "2023-08-01T09:25:26.725Z"
   },
   {
    "duration": 6,
    "start_time": "2023-08-01T09:25:26.758Z"
   },
   {
    "duration": 48,
    "start_time": "2023-08-01T09:25:26.766Z"
   },
   {
    "duration": 5,
    "start_time": "2023-08-01T09:25:26.816Z"
   },
   {
    "duration": 16,
    "start_time": "2023-08-01T09:25:26.823Z"
   },
   {
    "duration": 89,
    "start_time": "2023-08-01T09:25:26.840Z"
   },
   {
    "duration": 177,
    "start_time": "2023-08-01T09:25:26.931Z"
   },
   {
    "duration": 315,
    "start_time": "2023-08-01T09:25:27.110Z"
   },
   {
    "duration": 19,
    "start_time": "2023-08-01T09:25:27.427Z"
   },
   {
    "duration": 75,
    "start_time": "2023-08-01T09:25:27.448Z"
   },
   {
    "duration": 17,
    "start_time": "2023-08-01T09:25:27.525Z"
   },
   {
    "duration": 82,
    "start_time": "2023-08-01T09:25:27.543Z"
   },
   {
    "duration": 4,
    "start_time": "2023-08-01T09:25:27.626Z"
   },
   {
    "duration": 30,
    "start_time": "2023-08-01T09:25:27.634Z"
   },
   {
    "duration": 30,
    "start_time": "2023-08-01T09:25:27.666Z"
   },
   {
    "duration": 61,
    "start_time": "2023-08-01T09:25:27.698Z"
   },
   {
    "duration": 5,
    "start_time": "2023-08-01T09:25:27.761Z"
   },
   {
    "duration": 84,
    "start_time": "2023-08-01T09:25:27.788Z"
   },
   {
    "duration": 64,
    "start_time": "2023-08-01T09:25:27.874Z"
   },
   {
    "duration": 584,
    "start_time": "2023-08-01T09:25:27.939Z"
   },
   {
    "duration": 395,
    "start_time": "2023-08-01T09:25:28.525Z"
   },
   {
    "duration": 49,
    "start_time": "2023-08-01T09:25:28.922Z"
   },
   {
    "duration": 139,
    "start_time": "2023-08-01T09:25:28.987Z"
   },
   {
    "duration": 3,
    "start_time": "2023-08-01T09:25:29.127Z"
   },
   {
    "duration": 9,
    "start_time": "2023-08-01T09:25:29.132Z"
   },
   {
    "duration": 7,
    "start_time": "2023-08-01T09:25:29.142Z"
   },
   {
    "duration": 61339,
    "start_time": "2023-08-01T09:25:29.150Z"
   },
   {
    "duration": 4,
    "start_time": "2023-08-01T09:26:30.490Z"
   },
   {
    "duration": 919,
    "start_time": "2023-08-01T09:26:30.496Z"
   },
   {
    "duration": 26,
    "start_time": "2023-08-01T09:26:31.417Z"
   },
   {
    "duration": 5749,
    "start_time": "2023-08-01T09:26:31.445Z"
   },
   {
    "duration": 6,
    "start_time": "2023-08-01T09:26:37.196Z"
   },
   {
    "duration": 404,
    "start_time": "2023-08-01T09:26:37.204Z"
   },
   {
    "duration": 9,
    "start_time": "2023-08-01T09:26:37.686Z"
   },
   {
    "duration": 389508,
    "start_time": "2023-08-01T09:26:37.698Z"
   },
   {
    "duration": 56515,
    "start_time": "2023-08-01T09:33:07.208Z"
   },
   {
    "duration": 111,
    "start_time": "2023-08-01T09:34:03.724Z"
   },
   {
    "duration": 493,
    "start_time": "2023-08-01T09:34:03.837Z"
   },
   {
    "duration": 245464,
    "start_time": "2023-08-01T09:34:04.332Z"
   },
   {
    "duration": 19001,
    "start_time": "2023-08-01T09:38:09.798Z"
   },
   {
    "duration": 1290,
    "start_time": "2023-08-01T09:38:28.801Z"
   },
   {
    "duration": 11,
    "start_time": "2023-08-01T09:38:30.093Z"
   },
   {
    "duration": 1300,
    "start_time": "2023-08-01T09:38:30.106Z"
   },
   {
    "duration": 508,
    "start_time": "2023-08-01T09:42:58.704Z"
   },
   {
    "duration": 15,
    "start_time": "2023-08-01T09:43:53.809Z"
   },
   {
    "duration": 64,
    "start_time": "2023-08-01T09:43:54.731Z"
   },
   {
    "duration": 5,
    "start_time": "2023-08-01T09:43:59.768Z"
   },
   {
    "duration": 31,
    "start_time": "2023-08-01T09:44:01.382Z"
   },
   {
    "duration": 31,
    "start_time": "2023-08-01T09:44:02.132Z"
   },
   {
    "duration": 566,
    "start_time": "2023-08-01T09:44:02.890Z"
   },
   {
    "duration": 422,
    "start_time": "2023-08-01T09:44:04.728Z"
   }
  ],
  "kernelspec": {
   "display_name": "Python 3 (ipykernel)",
   "language": "python",
   "name": "python3"
  },
  "language_info": {
   "codemirror_mode": {
    "name": "ipython",
    "version": 3
   },
   "file_extension": ".py",
   "mimetype": "text/x-python",
   "name": "python",
   "nbconvert_exporter": "python",
   "pygments_lexer": "ipython3",
   "version": "3.11.3"
  },
  "toc": {
   "base_numbering": 1,
   "nav_menu": {},
   "number_sections": true,
   "sideBar": true,
   "skip_h1_title": true,
   "title_cell": "Table of Contents",
   "title_sidebar": "Contents",
   "toc_cell": false,
   "toc_position": {
    "height": "calc(100% - 180px)",
    "left": "10px",
    "top": "150px",
    "width": "195.188px"
   },
   "toc_section_display": true,
   "toc_window_display": false
  }
 },
 "nbformat": 4,
 "nbformat_minor": 2
}
